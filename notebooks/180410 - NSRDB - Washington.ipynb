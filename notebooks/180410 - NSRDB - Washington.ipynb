{
 "cells": [
  {
   "cell_type": "code",
   "execution_count": 283,
   "metadata": {},
   "outputs": [],
   "source": [
    "%matplotlib inline\n",
    "import pandas as pd\n",
    "import numpy as np\n",
    "import matplotlib.pyplot as plt\n",
    "import datetime\n",
    "import math\n",
    "\n",
    "import os\n",
    "import sys\n",
    "from numpy.fft import fft, ifft\n",
    "import glob"
   ]
  },
  {
   "cell_type": "markdown",
   "metadata": {},
   "source": [
    "## Funções auxiliares"
   ]
  },
  {
   "cell_type": "code",
   "execution_count": 284,
   "metadata": {},
   "outputs": [],
   "source": [
    "def load_data(path, resampling=None):\n",
    "    allFiles = glob.iglob(path + \"/*.csv\", recursive=True)\n",
    "    frame = pd.DataFrame()\n",
    "    list_ = []\n",
    "    for file_ in allFiles:\n",
    "        #print(\"Reading: \",file_)\n",
    "        df = pd.read_csv(file_, header=0, parse_dates={'datetime':[0,1]}, sep=\",\")\n",
    "        if frame.columns is None :\n",
    "            frame.columns = df.columns\n",
    "        list_.append(df)\n",
    "        frame = pd.concat(list_)\n",
    "    \n",
    "    new_datetime = []\n",
    "    \n",
    "    for time in frame.datetime:\n",
    "        try:\n",
    "            time = datetime.datetime.strptime(time, \"%Y-%m-%d %H:%M\")\n",
    "        except ValueError:\n",
    "            time = time.replace(' 24', ' 23')\n",
    "            time = datetime.datetime.strptime(time, \"%Y-%m-%d %H:%M\")\n",
    "            time += datetime.timedelta(hours=1)\n",
    "        new_datetime.append(time)\n",
    "    \n",
    "    frame['datetime'] = new_datetime\n",
    "    \n",
    "    frame.set_index('datetime', inplace=True)\n",
    "    \n",
    "    if resampling is not None:\n",
    "        frame = frame.resample(resampling).mean()\n",
    "    return frame"
   ]
  },
  {
   "cell_type": "code",
   "execution_count": 285,
   "metadata": {},
   "outputs": [],
   "source": [
    "def calculate_kt(df):\n",
    "    kt = []\n",
    "    for ind, row in df.iterrows():\n",
    "        irr = row['METSTAT Glo (Wh/m^2)']\n",
    "        csky = row['METSTAT CSKY Glo (Wh/m^2)']\n",
    "        if (csky != 0):\n",
    "            kt.append(irr/csky)\n",
    "        else:\n",
    "            kt.append(0.0)\n",
    "    \n",
    "    df['kt'] = kt"
   ]
  },
  {
   "cell_type": "code",
   "execution_count": 286,
   "metadata": {},
   "outputs": [],
   "source": [
    "def pearson_correlation_coef(x1, x2, nlags):\n",
    "\n",
    "    lags = np.arange(0,nlags)\n",
    "    pearson = []\n",
    "    std = np.std(x1) * np.std(x2)\n",
    "\n",
    "    for lag in lags:\n",
    "        cv = np.cov(x1[lag:], x2[0:(len(x2)-lag)])\n",
    "        pearson.append(cv[0,1] / std)\n",
    "    \n",
    "    return pearson"
   ]
  },
  {
   "cell_type": "code",
   "execution_count": 287,
   "metadata": {},
   "outputs": [],
   "source": [
    "def split_train_test(df):\n",
    "    \n",
    "    import math\n",
    "    df['week'] = list(map(lambda x : math.floor((x.day - 1) / 7), df.index))\n",
    "    df_train = df.loc[df.week < 3]\n",
    "    df_test = df.loc[df.week >= 3]\n",
    "    \n",
    "    return df_train, df_test"
   ]
  },
  {
   "cell_type": "code",
   "execution_count": 288,
   "metadata": {},
   "outputs": [],
   "source": [
    "def normalized_rmse(targets, forecasts):\n",
    "    if isinstance(targets, list):\n",
    "        targets = np.array(targets)\n",
    "    if isinstance(forecasts, list):\n",
    "        forecasts = np.array(forecasts)\n",
    "    return ((np.sqrt(np.nanmean((targets - forecasts) ** 2))) / np.nanmean(targets) ) * 100"
   ]
  },
  {
   "cell_type": "markdown",
   "metadata": {},
   "source": [
    "## Leitura dos Dados"
   ]
  },
  {
   "cell_type": "code",
   "execution_count": 289,
   "metadata": {},
   "outputs": [],
   "source": [
    "washington_path = '/Users/cseveriano/spatio-temporal-forecasting/data/raw/NSRDB/Washington/'"
   ]
  },
  {
   "cell_type": "code",
   "execution_count": null,
   "metadata": {},
   "outputs": [],
   "source": []
  },
  {
   "cell_type": "code",
   "execution_count": 290,
   "metadata": {},
   "outputs": [],
   "source": [
    "s727810_df = load_data(washington_path+\"727810\")\n",
    "s727810_df = s727810_df.fillna(method='ffill')\n",
    "\n",
    "s727815_df = load_data(washington_path+\"727815\")\n",
    "s727815_df = s727815_df.fillna(method='ffill')\n",
    "\n",
    "s727850_df = load_data(washington_path+\"727850\")\n",
    "s727850_df = s727850_df.fillna(method='ffill')\n",
    "\n",
    "s727920_df = load_data(washington_path+\"727920\")\n",
    "s727920_df = s727920_df.fillna(method='ffill')\n",
    "\n",
    "s727930_df = load_data(washington_path+\"727930\")\n",
    "s727930_df = s727930_df.fillna(method='ffill')\n",
    "\n",
    "s727970_df = load_data(washington_path+\"727970\")\n",
    "s727970_df = s727970_df.fillna(method='ffill')"
   ]
  },
  {
   "cell_type": "code",
   "execution_count": 291,
   "metadata": {},
   "outputs": [],
   "source": [
    "s727810_df = s727810_df[(s727810_df.index >= '2010-01-01') & (s727810_df.index <= '2010-12-31')]\n",
    "s727815_df = s727815_df[(s727815_df.index >= '2010-01-01') & (s727815_df.index <= '2010-12-31')]\n",
    "s727850_df = s727850_df[(s727850_df.index >= '2010-01-01') & (s727850_df.index <= '2010-12-31')]\n",
    "s727920_df = s727920_df[(s727920_df.index >= '2010-01-01') & (s727920_df.index <= '2010-12-31')]\n",
    "s727930_df = s727930_df[(s727930_df.index >= '2010-01-01') & (s727930_df.index <= '2010-12-31')]\n",
    "s727970_df = s727970_df[(s727970_df.index >= '2010-01-01') & (s727970_df.index <= '2010-12-31')]"
   ]
  },
  {
   "cell_type": "code",
   "execution_count": 292,
   "metadata": {},
   "outputs": [],
   "source": [
    "s727810_df = s727810_df[(s727810_df.index.hour >= 8) & (s727810_df.index.hour <= 18)]\n",
    "s727815_df = s727815_df[(s727815_df.index.hour >= 8) & (s727815_df.index.hour <= 18)]\n",
    "s727850_df = s727850_df[(s727850_df.index.hour >= 8) & (s727850_df.index.hour <= 18)]\n",
    "s727920_df = s727920_df[(s727920_df.index.hour >= 8) & (s727920_df.index.hour <= 18)]\n",
    "s727930_df = s727930_df[(s727930_df.index.hour >= 8) & (s727930_df.index.hour <= 18)]\n",
    "s727970_df = s727970_df[(s727970_df.index.hour >= 8) & (s727970_df.index.hour <= 18)]\n"
   ]
  },
  {
   "cell_type": "code",
   "execution_count": 293,
   "metadata": {},
   "outputs": [],
   "source": [
    "calculate_kt(s727810_df)\n",
    "calculate_kt(s727815_df)\n",
    "calculate_kt(s727850_df)\n",
    "calculate_kt(s727920_df)\n",
    "calculate_kt(s727930_df)\n",
    "calculate_kt(s727970_df)"
   ]
  },
  {
   "cell_type": "code",
   "execution_count": 294,
   "metadata": {},
   "outputs": [
    {
     "data": {
      "image/png": "[encoded data removed]",
      "text/plain": [
       "<matplotlib.figure.Figure at 0x114087780>"
      ]
     },
     "metadata": {},
     "output_type": "display_data"
    }
   ],
   "source": [
    "glo_avg = s727970_df[(s727970_df.index >= '2010-01-01') & (s727970_df.index <= '2010-01-02')]['METSTAT Glo (Wh/m^2)'].values\n",
    "clear_sky = s727970_df[(s727970_df.index >= '2010-01-01') & (s727970_df.index <= '2010-01-02')]['METSTAT CSKY Glo (Wh/m^2)'].values\n",
    "\n",
    "fig = plt.figure(figsize=(12, 8))\n",
    "plt.plot(glo_avg, color='blue')\n",
    "plt.plot(clear_sky, color='red')\n",
    "plt.show()"
   ]
  },
  {
   "cell_type": "markdown",
   "metadata": {},
   "source": [
    "## Analise de Correlação"
   ]
  },
  {
   "cell_type": "code",
   "execution_count": 295,
   "metadata": {},
   "outputs": [
    {
     "data": {
      "text/plain": [
       "[0.55993557609927913,\n",
       " 0.41528958564456075,\n",
       " 0.35490449066860857,\n",
       " 0.34297265487241174,\n",
       " 0.29975433139041269,\n",
       " 0.25901289435060387,\n",
       " 0.22867785326411336,\n",
       " 0.21631680700993772,\n",
       " 0.20555787664461883,\n",
       " 0.18338226077272929,\n",
       " 0.21699008535595468,\n",
       " 0.34123513490428148,\n",
       " 0.18806533811990447,\n",
       " 0.14649525552770792,\n",
       " 0.13568834535531868,\n",
       " 0.11948582549172079,\n",
       " 0.11270346288063801,\n",
       " 0.10278156423768806,\n",
       " 0.097956806621474268,\n",
       " 0.099530448253860759,\n",
       " 0.093017285985741785,\n",
       " 0.13728544435375578,\n",
       " 0.27222304726255814,\n",
       " 0.12453614099018546]"
      ]
     },
     "execution_count": 295,
     "metadata": {},
     "output_type": "execute_result"
    }
   ],
   "source": [
    "pearson_correlation_coef(s727920_df.kt.tolist(),s727930_df.kt.tolist(), 24)"
   ]
  },
  {
   "cell_type": "markdown",
   "metadata": {},
   "source": [
    "# Forecasting"
   ]
  },
  {
   "cell_type": "markdown",
   "metadata": {},
   "source": [
    "### Preparação de treinamento e testes\n",
    "A estação 727930 foi escolhida como alvo primário da predição por ser mais central e, portanto ter mais estações correlacionadas"
   ]
  },
  {
   "cell_type": "code",
   "execution_count": 296,
   "metadata": {},
   "outputs": [],
   "source": [
    "target_df = s727930_df\n",
    "sec1_df = s727810_df\n",
    "sec2_df = s727815_df\n",
    "sec3_df = s727850_df\n",
    "sec4_df = s727920_df\n",
    "sec5_df = s727970_df"
   ]
  },
  {
   "cell_type": "code",
   "execution_count": 297,
   "metadata": {},
   "outputs": [],
   "source": [
    "target_df_train, target_df_test = split_train_test(target_df)"
   ]
  },
  {
   "cell_type": "code",
   "execution_count": 298,
   "metadata": {},
   "outputs": [],
   "source": [
    "#Ajuste para remover outliers que dao erro na predicao da HOFTS\n",
    "\n",
    "target_df_test = target_df_test.loc[target_df_test.kt <= max(target_df_train.kt)]"
   ]
  },
  {
   "cell_type": "markdown",
   "metadata": {},
   "source": [
    "### High Order FTS"
   ]
  },
  {
   "cell_type": "code",
   "execution_count": 299,
   "metadata": {},
   "outputs": [],
   "source": [
    "from pyFTS.models.multivariate import common, variable, mvfts\n",
    "from pyFTS.models.seasonal import partitioner as seasonal\n",
    "from pyFTS.models.seasonal.common import DateTime\n",
    "from pyFTS.partitioners import Grid, Util as pUtil\n",
    "from pyFTS.models.multivariate import common, variable, mvfts\n",
    "from pyFTS.models import hofts"
   ]
  },
  {
   "cell_type": "code",
   "execution_count": 300,
   "metadata": {},
   "outputs": [
    {
     "name": "stdout",
     "output_type": "stream",
     "text": [
      "[ 15:36:35] Start training\n",
      "[ 15:36:35] Starting batch 1\n",
      "[ 15:36:37] Finish batch 1\n",
      "[ 15:36:37] Starting batch 2\n",
      "[ 15:36:38] Finish batch 2\n",
      "[ 15:36:38] Starting batch 3\n",
      "[ 15:36:40] Finish batch 3\n",
      "[ 15:36:40] Starting batch 4\n",
      "[ 15:36:41] Finish batch 4\n",
      "[ 15:36:41] Starting batch 5\n",
      "[ 15:36:43] Finish batch 5\n",
      "[ 15:36:43] Starting batch 6\n",
      "[ 15:36:45] Finish batch 6\n",
      "[ 15:36:45] Starting batch 7\n",
      "[ 15:36:46] Finish batch 7\n",
      "[ 15:36:46] Starting batch 8\n",
      "[ 15:36:48] Finish batch 8\n",
      "[ 15:36:48] Starting batch 9\n",
      "[ 15:36:50] Finish batch 9\n",
      "[ 15:36:50] Starting batch 10\n",
      "[ 15:36:51] Finish batch 10\n",
      "[ 15:36:51] Starting batch 11\n",
      "[ 15:36:51] Finish batch 11\n",
      "[ 15:36:51] Finish training\n"
     ]
    }
   ],
   "source": [
    "train = target_df_train.kt.values\n",
    "\n",
    "fuzzy_sets = Grid.GridPartitioner(data=train, npart=100)\n",
    "model_hofts = hofts.HighOrderFTS(\"FTS\", partitioner=fuzzy_sets)\n",
    "model_hofts.fit(train, order=6)"
   ]
  },
  {
   "cell_type": "code",
   "execution_count": 301,
   "metadata": {},
   "outputs": [],
   "source": [
    "forecast_hofts = model_hofts.predict(target_df_test.kt.values)"
   ]
  },
  {
   "cell_type": "code",
   "execution_count": 302,
   "metadata": {},
   "outputs": [],
   "source": [
    "forecasted_final = [x * y for x, y in zip(forecast_hofts, target_df_test['METSTAT CSKY Glo (Wh/m^2)'].tolist()[5:])]"
   ]
  },
  {
   "cell_type": "code",
   "execution_count": 303,
   "metadata": {},
   "outputs": [
    {
     "name": "stdout",
     "output_type": "stream",
     "text": [
      "nRMSE:  14.8182861106 \n",
      "\n"
     ]
    }
   ],
   "source": [
    "_nrmse = normalized_rmse(target_df_test['METSTAT Glo (Wh/m^2)'].tolist()[5:], forecasted_final)\n",
    "print(\"nRMSE: \", _nrmse, \"\\n\")"
   ]
  },
  {
   "cell_type": "markdown",
   "metadata": {},
   "source": [
    "### ANN"
   ]
  },
  {
   "cell_type": "markdown",
   "metadata": {},
   "source": [
    "Preparação de dataset"
   ]
  },
  {
   "cell_type": "code",
   "execution_count": 314,
   "metadata": {},
   "outputs": [],
   "source": [
    "from sklearn.neural_network import MLPRegressor"
   ]
  },
  {
   "cell_type": "code",
   "execution_count": 318,
   "metadata": {},
   "outputs": [],
   "source": [
    "df = target_df_train\n",
    "nlags = 6\n",
    "X = []\n",
    "vals = df.kt.tolist()\n",
    "for i in np.arange(len(df)-nlags):\n",
    "    row = vals[i:(i+nlags)]\n",
    "    X.append(row)\n",
    "\n",
    "Y = vals[nlags:] "
   ]
  },
  {
   "cell_type": "code",
   "execution_count": 322,
   "metadata": {},
   "outputs": [],
   "source": [
    "df = target_df_test\n",
    "nlags = 6\n",
    "X_test = []\n",
    "vals = df.kt.tolist()\n",
    "for i in np.arange(len(df)-nlags):\n",
    "    row = vals[i:(i+nlags)]\n",
    "    X_test.append(row)\n",
    "\n",
    "Y_test = vals[nlags:] "
   ]
  },
  {
   "cell_type": "code",
   "execution_count": 316,
   "metadata": {},
   "outputs": [],
   "source": [
    "ann_model = MLPRegressor(hidden_layer_sizes=(6,),\n",
    "                            activation='logistic',\n",
    "                            solver='sgd',\n",
    "                            learning_rate='adaptive',\n",
    "                            max_iter=1000,\n",
    "                            learning_rate_init=0.01,\n",
    "                            alpha=0.0001)"
   ]
  },
  {
   "cell_type": "code",
   "execution_count": 319,
   "metadata": {},
   "outputs": [
    {
     "data": {
      "text/plain": [
       "MLPRegressor(activation='logistic', alpha=0.0001, batch_size='auto',\n",
       "       beta_1=0.9, beta_2=0.999, early_stopping=False, epsilon=1e-08,\n",
       "       hidden_layer_sizes=(6,), learning_rate='adaptive',\n",
       "       learning_rate_init=0.01, max_iter=1000, momentum=0.9,\n",
       "       nesterovs_momentum=True, power_t=0.5, random_state=None,\n",
       "       shuffle=True, solver='sgd', tol=0.0001, validation_fraction=0.1,\n",
       "       verbose=False, warm_start=False)"
      ]
     },
     "execution_count": 319,
     "metadata": {},
     "output_type": "execute_result"
    }
   ],
   "source": [
    "ann_model.fit(X, Y)"
   ]
  },
  {
   "cell_type": "code",
   "execution_count": 323,
   "metadata": {},
   "outputs": [],
   "source": [
    "pred1 = ann_model.predict(X_test)"
   ]
  },
  {
   "cell_type": "code",
   "execution_count": 324,
   "metadata": {},
   "outputs": [
    {
     "name": "stdout",
     "output_type": "stream",
     "text": [
      "nRMSE:  43.7273260426 \n",
      "\n"
     ]
    }
   ],
   "source": [
    "_nrmse = normalized_rmse(target_df_test['kt'].tolist()[nlags:], pred1)\n",
    "print(\"nRMSE: \", _nrmse, \"\\n\")"
   ]
  }
 ],
 "metadata": {
  "kernelspec": {
   "display_name": "Python 3",
   "language": "python",
   "name": "python3"
  },
  "language_info": {
   "codemirror_mode": {
    "name": "ipython",
    "version": 3
   },
   "file_extension": ".py",
   "mimetype": "text/x-python",
   "name": "python",
   "nbconvert_exporter": "python",
   "pygments_lexer": "ipython3",
   "version": "3.6.4"
  }
 },
 "nbformat": 4,
 "nbformat_minor": 2
}
