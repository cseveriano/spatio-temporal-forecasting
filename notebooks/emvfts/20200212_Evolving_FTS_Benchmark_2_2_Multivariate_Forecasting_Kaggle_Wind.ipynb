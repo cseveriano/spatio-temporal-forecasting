{
  "nbformat": 4,
  "nbformat_minor": 0,
  "metadata": {
    "colab": {
      "name": "20200212 - Evolving FTS - Benchmark 2_2 - Multivariate Forecasting - Kaggle Wind.ipynb",
      "provenance": [],
      "toc_visible": true,
      "authorship_tag": "ABX9TyNj8LHWodBNGy4I1C87XNR+",
      "include_colab_link": true
    },
    "kernelspec": {
      "name": "python3",
      "display_name": "Python 3"
    }
  },
  "cells": [
    {
      "cell_type": "markdown",
      "metadata": {
        "id": "view-in-github",
        "colab_type": "text"
      },
      "source": [
        "<a href=\"https://colab.research.google.com/github/cseveriano/spatio-temporal-forecasting/blob/master/notebooks/emvfts/20200212_Evolving_FTS_Benchmark_2_2_Multivariate_Forecasting_Kaggle_Wind.ipynb\" target=\"_parent\"><img src=\"https://colab.research.google.com/assets/colab-badge.svg\" alt=\"Open In Colab\"/></a>"
      ]
    },
    {
      "cell_type": "markdown",
      "metadata": {
        "id": "RgUYabCLnRP_",
        "colab_type": "text"
      },
      "source": [
        "### Forecasting using Kaggle Wind Energy Dataset"
      ]
    },
    {
      "cell_type": "markdown",
      "metadata": {
        "id": "LnAYyw30ndvy",
        "colab_type": "text"
      },
      "source": [
        "## Install Libs"
      ]
    },
    {
      "cell_type": "code",
      "metadata": {
        "id": "L_9XvSbljbjt",
        "colab_type": "code",
        "colab": {}
      },
      "source": [
        "!pip3 install -U git+https://github.com/PYFTS/pyFTS\n",
        "!pip3 install -U git+https://github.com/cseveriano/spatio-temporal-forecasting\n",
        "!pip3 install -U git+https://github.com/cseveriano/evolving_clustering\n",
        "!pip3 install -U git+https://github.com/cseveriano/fts2image\n",
        "!pip3 install -U hyperopt"
      ],
      "execution_count": 0,
      "outputs": []
    },
    {
      "cell_type": "markdown",
      "metadata": {
        "id": "HBzApBYiniGN",
        "colab_type": "text"
      },
      "source": [
        "## Load Dataset"
      ]
    },
    {
      "cell_type": "code",
      "metadata": {
        "id": "lk3Oc2CokbLx",
        "colab_type": "code",
        "colab": {}
      },
      "source": [
        "from google.colab import files\n",
        "# In this step, kaggle.json file must be uploaded\n",
        "# This file is created at kaggle platform www.kaggle.com\n",
        "# After login the file can be created at (my account->create new API token)\n",
        "# more details at https://www.kaggle.com/general/51898\n",
        "files.upload()"
      ],
      "execution_count": 0,
      "outputs": []
    },
    {
      "cell_type": "code",
      "metadata": {
        "id": "L2aI_OKplvf5",
        "colab_type": "code",
        "colab": {}
      },
      "source": [
        "!pip install -U kaggle\n",
        "\n",
        "# The Kaggle API client expects this file to be in ~/.kaggle,\n",
        "# so move it there.\n",
        "!mkdir -p ~/.kaggle\n",
        "!cp kaggle.json ~/.kaggle/\n",
        "\n",
        "# This permissions change avoids a warning on Kaggle tool startup.\n",
        "!chmod 600 ~/.kaggle/kaggle.json\n",
        "\n",
        "# Download dataset\n",
        "!kaggle competitions download -c GEF2012-wind-forecasting"
      ],
      "execution_count": 0,
      "outputs": []
    },
    {
      "cell_type": "markdown",
      "metadata": {
        "id": "xuMwgG1Sak2P",
        "colab_type": "text"
      },
      "source": [
        "## Aux Functions"
      ]
    },
    {
      "cell_type": "code",
      "metadata": {
        "id": "0GXDBB-rGn2n",
        "colab_type": "code",
        "colab": {}
      },
      "source": [
        "import datetime\n",
        "\n",
        "def getRollingWindow(index):\n",
        "    pivot = index\n",
        "    train_start = pivot.strftime('%Y-%m-%d')\n",
        "    pivot = pivot + datetime.timedelta(days=20)\n",
        "    train_end = pivot.strftime('%Y-%m-%d')\n",
        "\n",
        "    pivot = pivot + datetime.timedelta(days=1)\n",
        "    validation_start = pivot.strftime('%Y-%m-%d')\n",
        "    pivot = pivot + datetime.timedelta(days=6)\n",
        "    validation_end = pivot.strftime('%Y-%m-%d')\n",
        "\n",
        "    pivot = pivot + datetime.timedelta(days=1)\n",
        "    test_start = pivot.strftime('%Y-%m-%d')\n",
        "    pivot = pivot + datetime.timedelta(days=6)\n",
        "    test_end = pivot.strftime('%Y-%m-%d')\n",
        "    \n",
        "    return train_start, train_end, validation_start, validation_end, test_start, test_end"
      ],
      "execution_count": 0,
      "outputs": []
    },
    {
      "cell_type": "code",
      "metadata": {
        "id": "l0mokwnRGyAN",
        "colab_type": "code",
        "colab": {}
      },
      "source": [
        "from pyFTS.benchmarks import Measures\n",
        "\n",
        "def calculate_rolling_error(cv_name, df, forecasts, order):\n",
        "    cv_results = pd.DataFrame(columns=['Split', 'RMSE', 'SMAPE'])\n",
        "\n",
        "    limit = df.index[-1].strftime('%Y-%m-%d')\n",
        "\n",
        "    test_end = \"\"\n",
        "    index = df.index[0]\n",
        "\n",
        "    for i in np.arange(len(forecasts)):\n",
        "\n",
        "        train_start, train_end, validation_start, validation_end, test_start, test_end = getRollingWindow(index)\n",
        "        test = df[test_start : test_end]\n",
        "    \n",
        "        yhat = forecasts[i]\n",
        "        \n",
        "        rmse = Measures.rmse(test.iloc[order:], yhat[:-1])\n",
        "        \n",
        "        smape = Measures.smape(test.iloc[order:], yhat[:-1])\n",
        "        \n",
        "        res = {'Split' : index.strftime('%Y-%m-%d') ,'RMSE' : rmse, 'SMAPE' : smape}\n",
        "        cv_results = cv_results.append(res, ignore_index=True)\n",
        "        cv_results.to_csv(cv_name+\".csv\")        \n",
        "\n",
        "        index = index + datetime.timedelta(days=7)\n",
        "        \n",
        "    return cv_results"
      ],
      "execution_count": 0,
      "outputs": []
    },
    {
      "cell_type": "code",
      "metadata": {
        "id": "XFdbMo9Rm7C4",
        "colab_type": "code",
        "outputId": "ef342762-636c-4922-a633-2935fd4be29d",
        "colab": {
          "base_uri": "https://localhost:8080/",
          "height": 34
        }
      },
      "source": [
        "from spatiotemporal.test import methods_space_oahu as ms\n",
        "from spatiotemporal.util import parameter_tuning, sampling\n",
        "from spatiotemporal.util import experiments as ex\n",
        "from sklearn.metrics import mean_squared_error\n",
        "import numpy as np\n",
        "from hyperopt import fmin, tpe, hp, STATUS_OK, Trials\n",
        "from hyperopt import space_eval\n",
        "import traceback\n",
        "from . import sampling\n",
        "import pickle\n",
        "\n",
        "def calculate_error(loss_function, test_df, forecast, offset):\n",
        "    error = loss_function(test_df.iloc[(offset):], forecast)\n",
        "    print(\"Error : \"+str(error))\n",
        "    return error\n",
        "\n",
        "def method_optimize(experiment, forecast_method, train_df, test_df, space, loss_function, max_evals):\n",
        "    def objective(params):\n",
        "        print(params)\n",
        "        try:\n",
        "            _output = list(params['output'])\n",
        "            forecast = forecast_method(train_df, test_df, params)\n",
        "            _step = params.get('step', 1)\n",
        "            offset = params['order'] + _step - 1\n",
        "            error = calculate_error(loss_function, test_df[_output], forecast, offset)\n",
        "        except Exception:\n",
        "            traceback.print_exc()\n",
        "            error = 1000\n",
        "        return {'loss': error, 'status': STATUS_OK}\n",
        "\n",
        "    print(\"Running experiment: \" + experiment)\n",
        "    trials = Trials()\n",
        "    best = fmin(objective, space, algo=tpe.suggest, max_evals=max_evals, trials=trials)\n",
        "    print('best parameters: ')\n",
        "    print(space_eval(space, best))\n",
        "\n",
        "    pickle.dump(best, open(\"best_\" + experiment + \".pkl\", \"wb\"))\n",
        "    pickle.dump(trials, open(\"trials_\" + experiment + \".pkl\", \"wb\"))\n",
        "\n",
        "\n",
        "def run_search(methods, data, train, loss_function, max_evals=100, resample=None):\n",
        "\n",
        "    if resample:\n",
        "        data = sampling.resample_data(data, resample)\n",
        "\n",
        "    train_df, test_df = sampling.train_test_split(data, train)\n",
        "\n",
        "    for experiment, method, space in methods:\n",
        "        method_optimize(experiment, method, train_df, test_df, space, loss_function, max_evals)\n",
        "\n",
        "\n",
        "\n"
      ],
      "execution_count": 0,
      "outputs": [
        {
          "output_type": "stream",
          "text": [
            "Using TensorFlow backend.\n"
          ],
          "name": "stderr"
        }
      ]
    },
    {
      "cell_type": "markdown",
      "metadata": {
        "id": "7QhYHmcbOIax",
        "colab_type": "text"
      },
      "source": [
        "## Load Dataset"
      ]
    },
    {
      "cell_type": "code",
      "metadata": {
        "id": "fCGSuV2SwHxD",
        "colab_type": "code",
        "colab": {}
      },
      "source": [
        "import pandas as pd\n",
        "import matplotlib.pyplot as plt\n",
        "import numpy as np\n",
        "import math\n",
        "from sklearn.metrics import mean_squared_error"
      ],
      "execution_count": 0,
      "outputs": []
    },
    {
      "cell_type": "code",
      "metadata": {
        "id": "X7RQkw1jmlo9",
        "colab_type": "code",
        "colab": {}
      },
      "source": [
        "df = pd.read_csv('train.csv',  parse_dates=['date'], index_col=0)\n",
        "df.index = pd.to_datetime(df.index, format=\"%Y%m%d%H\")"
      ],
      "execution_count": 0,
      "outputs": []
    },
    {
      "cell_type": "code",
      "metadata": {
        "id": "Usoicc5iwKpP",
        "colab_type": "code",
        "colab": {}
      },
      "source": [
        "df.corr(method='spearman')"
      ],
      "execution_count": 0,
      "outputs": []
    },
    {
      "cell_type": "code",
      "metadata": {
        "id": "SpzKVhxvRWcR",
        "colab_type": "code",
        "colab": {}
      },
      "source": [
        "interval = ((df.index >= '2009-07') & (df.index <= '2010-07'))\n",
        "df = df.loc[interval]"
      ],
      "execution_count": 0,
      "outputs": []
    },
    {
      "cell_type": "markdown",
      "metadata": {
        "id": "VS9lU7sIXrJl",
        "colab_type": "text"
      },
      "source": [
        "## Forecasting Methods"
      ]
    },
    {
      "cell_type": "markdown",
      "metadata": {
        "id": "jEustxeTa7Ub",
        "colab_type": "text"
      },
      "source": [
        "### Persistence"
      ]
    },
    {
      "cell_type": "code",
      "metadata": {
        "id": "uLxMBBLWa6du",
        "colab_type": "code",
        "colab": {}
      },
      "source": [
        "def persistence_forecast(train, test, step):\n",
        "    predictions = []\n",
        "    \n",
        "    for t in np.arange(0,len(test), step):\n",
        "        yhat = [test.iloc[t]]  * step\n",
        "        predictions.extend(yhat)\n",
        "        \n",
        "    return predictions"
      ],
      "execution_count": 0,
      "outputs": []
    },
    {
      "cell_type": "code",
      "metadata": {
        "id": "31nxRmc4bCYn",
        "colab_type": "code",
        "colab": {}
      },
      "source": [
        "step = 1\n",
        "persistence_order = 1\n",
        "\n",
        "forecast = persistence_forecast(train_df, test_df,step)"
      ],
      "execution_count": 0,
      "outputs": []
    },
    {
      "cell_type": "code",
      "metadata": {
        "id": "_QOLSofrbg_1",
        "colab_type": "code",
        "colab": {}
      },
      "source": [
        "calculate_rmse(test_df, forecast, persistence_order, step)"
      ],
      "execution_count": 0,
      "outputs": []
    },
    {
      "cell_type": "markdown",
      "metadata": {
        "id": "DdMi7e1scYu4",
        "colab_type": "text"
      },
      "source": [
        "### VAR"
      ]
    },
    {
      "cell_type": "code",
      "metadata": {
        "id": "1MxApA3Acf7m",
        "colab_type": "code",
        "colab": {}
      },
      "source": [
        "from statsmodels.tsa.api import VAR, DynamicVAR"
      ],
      "execution_count": 0,
      "outputs": []
    },
    {
      "cell_type": "code",
      "metadata": {
        "id": "7MpVUQPbKgYb",
        "colab_type": "code",
        "colab": {}
      },
      "source": [
        "def evaluate_VAR_models(test_name, train, validation,target, maxlags_list):\n",
        "    var_results = pd.DataFrame(columns=['Order','RMSE'])\n",
        "    best_score, best_cfg, best_model = float(\"inf\"), None, None\n",
        "    \n",
        "    for lgs in maxlags_list:\n",
        "        model = VAR(train)\n",
        "        results = model.fit(maxlags=lgs, ic='aic')\n",
        "        \n",
        "        order = results.k_ar\n",
        "        forecast = []\n",
        "\n",
        "        for i in range(len(validation)-order) :\n",
        "            forecast.extend(results.forecast(validation.values[i:i+order],1))\n",
        "\n",
        "        forecast_df = pd.DataFrame(columns=validation.columns, data=forecast)\n",
        "        rmse = Measures.rmse(validation[target].iloc[order:], forecast_df[target].values)\n",
        "\n",
        "        if rmse < best_score:\n",
        "            best_score, best_cfg, best_model = rmse, order, results\n",
        "\n",
        "        res = {'Order' : str(order) ,'RMSE' : rmse}\n",
        "        print('VAR (%s)  RMSE=%.3f' % (str(order),rmse))\n",
        "        var_results = var_results.append(res, ignore_index=True)\n",
        "        var_results.to_csv(test_name+\".csv\")\n",
        "        \n",
        "    print('Best VAR(%s) RMSE=%.3f' % (best_cfg, best_score))\n",
        "    return best_model"
      ],
      "execution_count": 0,
      "outputs": []
    },
    {
      "cell_type": "code",
      "metadata": {
        "id": "SK-a1a0ZcjBi",
        "colab_type": "code",
        "colab": {}
      },
      "source": [
        "def var_forecast(train, test, order, step):\n",
        "    model = VAR(train.values)\n",
        "    results = model.fit(maxlags=order)\n",
        "    lag_order = results.k_ar\n",
        "    print(\"Lag order:\" + str(lag_order))\n",
        "    forecast = []\n",
        "\n",
        "    for i in np.arange(0,len(test)-lag_order+1,step) :\n",
        "        forecast.extend(results.forecast(test.values[i:i+lag_order],step))\n",
        "\n",
        "    forecast_df = pd.DataFrame(columns=test.columns, data=forecast)\n",
        "    return forecast_df.values"
      ],
      "execution_count": 0,
      "outputs": []
    },
    {
      "cell_type": "code",
      "metadata": {
        "id": "YnAuyYY2Ku0M",
        "colab_type": "code",
        "colab": {}
      },
      "source": [
        "def rolling_cv_var(df, order, step):\n",
        "    forecasts = []\n",
        "\n",
        "    limit = df.index[-1].strftime('%Y-%m-%d')\n",
        "\n",
        "    test_end = \"\"\n",
        "    index = df.index[0]\n",
        "\n",
        "    while test_end < limit :\n",
        "        print(\"Index: \", index.strftime('%Y-%m-%d'))  \n",
        "\n",
        "        train_start, train_end, validation_start, validation_end, test_start, test_end = getRollingWindow(index)\n",
        "        index = index + datetime.timedelta(days=7)\n",
        "        \n",
        "        train = df[train_start : train_end]\n",
        "        validation = df[validation_start : validation_end]\n",
        "        test = df[test_start : test_end]\n",
        "    \n",
        "        # Concat train & validation for test\n",
        "        train = train.append(validation)\n",
        "        yhat = var_forecast(train, test, order, step)\n",
        "        \n",
        "        forecasts.append(yhat)\n",
        "\n",
        "    return forecasts"
      ],
      "execution_count": 0,
      "outputs": []
    },
    {
      "cell_type": "code",
      "metadata": {
        "id": "2ALT505EcomF",
        "colab_type": "code",
        "outputId": "18b8abbb-b351-4528-dadd-f2d83fbb39be",
        "colab": {
          "base_uri": "https://localhost:8080/",
          "height": 1000
        }
      },
      "source": [
        "step = 1\n",
        "order = 4\n",
        "exp_name = \"BENCHMARK-2_2-VAR\"\n",
        "forecasts = rolling_cv_var(df, order, step)\n",
        "var_results_df = calculate_rolling_error(exp_name, df, forecasts, order)"
      ],
      "execution_count": 0,
      "outputs": [
        {
          "output_type": "stream",
          "text": [
            "Index:  2009-07-01\n",
            "Lag order:4\n",
            "Index:  2009-07-08\n",
            "Lag order:4\n",
            "Index:  2009-07-15\n",
            "Lag order:4\n",
            "Index:  2009-07-22\n",
            "Lag order:4\n",
            "Index:  2009-07-29\n",
            "Lag order:4\n",
            "Index:  2009-08-05\n",
            "Lag order:4\n",
            "Index:  2009-08-12\n",
            "Lag order:4\n",
            "Index:  2009-08-19\n",
            "Lag order:4\n",
            "Index:  2009-08-26\n",
            "Lag order:4\n",
            "Index:  2009-09-02\n",
            "Lag order:4\n",
            "Index:  2009-09-09\n",
            "Lag order:4\n",
            "Index:  2009-09-16\n",
            "Lag order:4\n",
            "Index:  2009-09-23\n",
            "Lag order:4\n",
            "Index:  2009-09-30\n",
            "Lag order:4\n",
            "Index:  2009-10-07\n",
            "Lag order:4\n",
            "Index:  2009-10-14\n",
            "Lag order:4\n",
            "Index:  2009-10-21\n",
            "Lag order:4\n",
            "Index:  2009-10-28\n",
            "Lag order:4\n",
            "Index:  2009-11-04\n",
            "Lag order:4\n",
            "Index:  2009-11-11\n",
            "Lag order:4\n",
            "Index:  2009-11-18\n",
            "Lag order:4\n",
            "Index:  2009-11-25\n",
            "Lag order:4\n",
            "Index:  2009-12-02\n",
            "Lag order:4\n",
            "Index:  2009-12-09\n",
            "Lag order:4\n",
            "Index:  2009-12-16\n",
            "Lag order:4\n",
            "Index:  2009-12-23\n",
            "Lag order:4\n",
            "Index:  2009-12-30\n",
            "Lag order:4\n",
            "Index:  2010-01-06\n",
            "Lag order:4\n",
            "Index:  2010-01-13\n",
            "Lag order:4\n",
            "Index:  2010-01-20\n",
            "Lag order:4\n",
            "Index:  2010-01-27\n",
            "Lag order:4\n",
            "Index:  2010-02-03\n",
            "Lag order:4\n",
            "Index:  2010-02-10\n",
            "Lag order:4\n",
            "Index:  2010-02-17\n",
            "Lag order:4\n",
            "Index:  2010-02-24\n",
            "Lag order:4\n",
            "Index:  2010-03-03\n",
            "Lag order:4\n",
            "Index:  2010-03-10\n",
            "Lag order:4\n",
            "Index:  2010-03-17\n",
            "Lag order:4\n",
            "Index:  2010-03-24\n",
            "Lag order:4\n",
            "Index:  2010-03-31\n",
            "Lag order:4\n",
            "Index:  2010-04-07\n",
            "Lag order:4\n",
            "Index:  2010-04-14\n",
            "Lag order:4\n",
            "Index:  2010-04-21\n",
            "Lag order:4\n",
            "Index:  2010-04-28\n",
            "Lag order:4\n",
            "Index:  2010-05-05\n",
            "Lag order:4\n",
            "Index:  2010-05-12\n",
            "Lag order:4\n",
            "Index:  2010-05-19\n",
            "Lag order:4\n",
            "Index:  2010-05-26\n",
            "Lag order:4\n",
            "Index:  2010-06-02\n",
            "Lag order:4\n"
          ],
          "name": "stdout"
        }
      ]
    },
    {
      "cell_type": "code",
      "metadata": {
        "id": "4p5Yvnp4K0Ed",
        "colab_type": "code",
        "colab": {}
      },
      "source": [
        "files.download('BENCHMARK-2_2-VAR.csv')"
      ],
      "execution_count": 0,
      "outputs": []
    },
    {
      "cell_type": "markdown",
      "metadata": {
        "id": "WCvsy-tHdTuN",
        "colab_type": "text"
      },
      "source": [
        "### e-MVFTS"
      ]
    },
    {
      "cell_type": "code",
      "metadata": {
        "id": "lCx9NiYEjSZr",
        "colab_type": "code",
        "colab": {}
      },
      "source": [
        "from spatiotemporal.models.clusteredmvfts.fts import evolvingclusterfts"
      ],
      "execution_count": 0,
      "outputs": []
    },
    {
      "cell_type": "code",
      "metadata": {
        "id": "iq9njQOmdtHU",
        "colab_type": "code",
        "colab": {}
      },
      "source": [
        "def evolvingfts_forecast(train_df, test_df, _order, train_model=True):\n",
        "\n",
        "    _variance_limit = 0.001\n",
        "    _defuzzy = 'weighted'\n",
        "    _t_norm = 'threshold'\n",
        "    _membership_threshold = 0.6\n",
        "    _order = 2\n",
        "    _step = 1\n",
        "\n",
        "    model = evolvingclusterfts.EvolvingClusterFTS(variance_limit=_variance_limit, defuzzy=_defuzzy, t_norm=_t_norm,\n",
        "                                                  membership_threshold=_membership_threshold)\n",
        "\n",
        "    model.fit(train_df.values, order=_order, verbose=False)\n",
        "\n",
        "    forecast = model.predict(test_df.values, steps_ahead=_step)\n",
        "\n",
        "    forecast_df = pd.DataFrame(data=forecast, columns=test_df.columns)\n",
        "    return forecast_df.values"
      ],
      "execution_count": 0,
      "outputs": []
    },
    {
      "cell_type": "code",
      "metadata": {
        "id": "NNFgSmALkRra",
        "colab_type": "code",
        "colab": {}
      },
      "source": [
        "def rolling_cv_evolving(df, order, step):\n",
        "    forecasts = []\n",
        "\n",
        "    limit = df.index[-1].strftime('%Y-%m-%d')\n",
        "\n",
        "    test_end = \"\"\n",
        "    index = df.index[0]\n",
        "\n",
        "    first_time = True\n",
        "\n",
        "    while test_end < limit :\n",
        "        print(\"Index: \", index.strftime('%Y-%m-%d'))  \n",
        "\n",
        "        train_start, train_end, validation_start, validation_end, test_start, test_end = getRollingWindow(index)\n",
        "        index = index + datetime.timedelta(days=7)\n",
        "        \n",
        "        train = df[train_start : train_end]\n",
        "        validation = df[validation_start : validation_end]\n",
        "        test = df[test_start : test_end]\n",
        "    \n",
        "        # Concat train & validation for test\n",
        "        train = train.append(validation)\n",
        "        yhat = list(evolvingfts_forecast(train, test, order, train_model=first_time))\n",
        "        #yhat.append(yhat[-1]) #para manter o formato do vetor de metricas\n",
        "        forecasts.append(yhat)\n",
        "\n",
        "        first_time = False\n",
        "\n",
        "    return forecasts"
      ],
      "execution_count": 0,
      "outputs": []
    },
    {
      "cell_type": "code",
      "metadata": {
        "id": "V22qahE0kAX0",
        "colab_type": "code",
        "outputId": "f5d648b1-9776-4441-b30f-6102f58de1ab",
        "colab": {
          "base_uri": "https://localhost:8080/",
          "height": 850
        }
      },
      "source": [
        "step = 1\n",
        "evolfts_order = 2\n",
        "exp_name = \"BENCHMARK-2_2-EVOLVING\"\n",
        "forecasts = rolling_cv_evolving(df, evolfts_order, step)\n",
        "evolving_results_df = calculate_rolling_error(exp_name, df, forecasts, evolfts_order)"
      ],
      "execution_count": 0,
      "outputs": [
        {
          "output_type": "stream",
          "text": [
            "Index:  2009-07-01\n",
            "Index:  2009-07-08\n",
            "Index:  2009-07-15\n",
            "Index:  2009-07-22\n",
            "Index:  2009-07-29\n",
            "Index:  2009-08-05\n",
            "Index:  2009-08-12\n",
            "Index:  2009-08-19\n",
            "Index:  2009-08-26\n",
            "Index:  2009-09-02\n",
            "Index:  2009-09-09\n",
            "Index:  2009-09-16\n",
            "Index:  2009-09-23\n",
            "Index:  2009-09-30\n",
            "Index:  2009-10-07\n",
            "Index:  2009-10-14\n",
            "Index:  2009-10-21\n",
            "Index:  2009-10-28\n",
            "Index:  2009-11-04\n",
            "Index:  2009-11-11\n",
            "Index:  2009-11-18\n",
            "Index:  2009-11-25\n",
            "Index:  2009-12-02\n",
            "Index:  2009-12-09\n",
            "Index:  2009-12-16\n",
            "Index:  2009-12-23\n",
            "Index:  2009-12-30\n",
            "Index:  2010-01-06\n",
            "Index:  2010-01-13\n",
            "Index:  2010-01-20\n",
            "Index:  2010-01-27\n",
            "Index:  2010-02-03\n",
            "Index:  2010-02-10\n",
            "Index:  2010-02-17\n",
            "Index:  2010-02-24\n",
            "Index:  2010-03-03\n",
            "Index:  2010-03-10\n",
            "Index:  2010-03-17\n",
            "Index:  2010-03-24\n",
            "Index:  2010-03-31\n",
            "Index:  2010-04-07\n",
            "Index:  2010-04-14\n",
            "Index:  2010-04-21\n",
            "Index:  2010-04-28\n",
            "Index:  2010-05-05\n",
            "Index:  2010-05-12\n",
            "Index:  2010-05-19\n",
            "Index:  2010-05-26\n",
            "Index:  2010-06-02\n"
          ],
          "name": "stdout"
        }
      ]
    },
    {
      "cell_type": "code",
      "metadata": {
        "id": "M-_n_uWMjPw7",
        "colab_type": "code",
        "colab": {}
      },
      "source": [
        "files.download('BENCHMARK-2_2-EVOLVING.csv')"
      ],
      "execution_count": 0,
      "outputs": []
    },
    {
      "cell_type": "markdown",
      "metadata": {
        "id": "8lbu8aLan_Yt",
        "colab_type": "text"
      },
      "source": [
        "### MLP"
      ]
    },
    {
      "cell_type": "code",
      "metadata": {
        "id": "LwBHQp9er2BG",
        "colab_type": "code",
        "colab": {}
      },
      "source": [
        "from keras.models import Sequential\n",
        "from keras.layers import Dense\n",
        "from keras.layers import LSTM\n",
        "from keras.layers import Dropout\n",
        "from keras.constraints import maxnorm\n",
        "from keras.models import Sequential\n",
        "from keras.layers.core import Dense, Dropout, Activation\n",
        "from keras.layers.normalization import BatchNormalization"
      ],
      "execution_count": 0,
      "outputs": []
    },
    {
      "cell_type": "code",
      "metadata": {
        "id": "OhmFnGmHoB5X",
        "colab_type": "code",
        "colab": {}
      },
      "source": [
        "# convert series to supervised learning\n",
        "def series_to_supervised(data, n_in=1, n_out=1, dropnan=True):\n",
        "    n_vars = 1 if type(data) is list else data.shape[1]\n",
        "    df = pd.DataFrame(data)\n",
        "    cols, names = list(), list()\n",
        "    # input sequence (t-n, ... t-1)\n",
        "    for i in range(n_in, 0, -1):\n",
        "        cols.append(df.shift(i))\n",
        "        names += [('var%d(t-%d)' % (j+1, i)) for j in range(n_vars)]\n",
        "    # forecast sequence (t, t+1, ... t+n)\n",
        "    for i in range(0, n_out):\n",
        "        cols.append(df.shift(-i))\n",
        "        if i == 0:\n",
        "            names += [('var%d(t)' % (j+1)) for j in range(n_vars)]\n",
        "        else:\n",
        "            names += [('var%d(t+%d)' % (j+1, i)) for j in range(n_vars)]\n",
        "    # put it all together\n",
        "    agg = pd.concat(cols, axis=1)\n",
        "    agg.columns = names\n",
        "    # drop rows with NaN values\n",
        "    if dropnan:\n",
        "        agg.dropna(inplace=True)\n",
        "    return agg"
      ],
      "execution_count": 0,
      "outputs": []
    },
    {
      "cell_type": "markdown",
      "metadata": {
        "id": "M67t6lilUlYC",
        "colab_type": "text"
      },
      "source": [
        "#### MLP Parameter Tuning"
      ]
    },
    {
      "cell_type": "code",
      "metadata": {
        "id": "nJBFQgGhU_0z",
        "colab_type": "code",
        "colab": {}
      },
      "source": [
        "from spatiotemporal.test import methods_space_oahu as ms\n",
        "from spatiotemporal.util import parameter_tuning, sampling\n",
        "from spatiotemporal.util import experiments as ex\n",
        "from sklearn.metrics import mean_squared_error\n",
        "from hyperopt import hp\n",
        "import numpy as np"
      ],
      "execution_count": 0,
      "outputs": []
    },
    {
      "cell_type": "code",
      "metadata": {
        "id": "YNRVPkeDUzu3",
        "colab_type": "code",
        "colab": {}
      },
      "source": [
        "mlp_space = {'choice':\n",
        "\n",
        "   hp.choice('num_layers',\n",
        "             [\n",
        "                 {'layers': 'two',\n",
        "                 },\n",
        "\n",
        "                 {'layers': 'three',\n",
        "\n",
        "                   'units3': hp.choice('units3', [8, 16, 64, 128, 256, 512]),\n",
        "                   'dropout3': hp.choice('dropout3', [0, 0.25, 0.5, 0.75])\n",
        "                  }\n",
        "\n",
        "             ]),\n",
        "   'units1': hp.choice('units1', [8, 16, 64, 128, 256, 512]),\n",
        "   'units2': hp.choice('units2', [8, 16, 64, 128, 256, 512]),\n",
        "\n",
        "   'dropout1': hp.choice('dropout1', [0, 0.25, 0.5, 0.75]),\n",
        "   'dropout2': hp.choice('dropout2', [0, 0.25, 0.5, 0.75]),\n",
        "\n",
        "   'batch_size': hp.choice('batch_size', [28, 64, 128, 256, 512]),\n",
        "   'order': hp.choice('order', [1, 2, 3]),\n",
        "   'input': hp.choice('input', [['wp1',\t'wp2',\t'wp3',\t'wp4',\t'wp5',\t'wp6',\t'wp7']]),\n",
        "   'output': hp.choice('output', [['wp1',\t'wp2',\t'wp3',\t'wp4',\t'wp5',\t'wp6',\t'wp7']]),\n",
        "   'epochs': hp.choice('epochs', [100, 200, 300])}\n"
      ],
      "execution_count": 0,
      "outputs": []
    },
    {
      "cell_type": "code",
      "metadata": {
        "id": "aeB6ImDOVGsY",
        "colab_type": "code",
        "colab": {}
      },
      "source": [
        "def mlp_tuning(train_df, test_df, params):\n",
        "    _input = list(params['input'])\n",
        "    _nlags = params['order']\n",
        "    _epochs = params['epochs']\n",
        "    _batch_size = params['batch_size']\n",
        "    nfeat = len(_input)\n",
        "    nsteps = params.get('step',1)\n",
        "    nobs = _nlags * nfeat\n",
        "\n",
        "    output_index = -nfeat*nsteps\n",
        "\n",
        "    train_reshaped_df = series_to_supervised(train_df[_input], n_in=_nlags, n_out=nsteps)\n",
        "    train_X, train_Y = train_reshaped_df.iloc[:, :nobs].values, train_reshaped_df.iloc[:, output_index:].values\n",
        "\n",
        "    test_reshaped_df = series_to_supervised(test_df[_input], n_in=_nlags, n_out=nsteps)\n",
        "    test_X, test_Y = test_reshaped_df.iloc[:, :nobs].values, test_reshaped_df.iloc[:, output_index:].values\n",
        "\n",
        "    # design network\n",
        "    model = Sequential()\n",
        "    model.add(Dense(params['units1'], input_dim=train_X.shape[1], activation='relu'))\n",
        "    model.add(Dropout(params['dropout1']))\n",
        "    model.add(BatchNormalization())\n",
        "\n",
        "    model.add(Dense(params['units2'], activation='relu'))\n",
        "    model.add(Dropout(params['dropout2']))\n",
        "    model.add(BatchNormalization())\n",
        "\n",
        "    if params['choice']['layers'] == 'three':\n",
        "        model.add(Dense(params['choice']['units3'], activation='relu'))\n",
        "        model.add(Dropout(params['choice']['dropout3']))\n",
        "        model.add(BatchNormalization())\n",
        "\n",
        "    model.add(Dense(train_Y.shape[1], activation='sigmoid'))\n",
        "    model.compile(loss='mse', optimizer='adam')\n",
        "\n",
        "    # includes the call back object\n",
        "    model.fit(train_X, train_Y, epochs=_epochs, batch_size=_batch_size, verbose=False, shuffle=False)\n",
        "\n",
        "    # predict the test set\n",
        "    forecast = model.predict(test_X, verbose=False)\n",
        "\n",
        "    return forecast\n"
      ],
      "execution_count": 0,
      "outputs": []
    },
    {
      "cell_type": "code",
      "metadata": {
        "id": "_hhhH5pYVRh0",
        "colab_type": "code",
        "colab": {}
      },
      "source": [
        "methods = []\n",
        "methods.append((\"EXP_WIND_MLP\", mlp_tuning, mlp_space))"
      ],
      "execution_count": 0,
      "outputs": []
    },
    {
      "cell_type": "code",
      "metadata": {
        "id": "LngLs_6JVZFG",
        "colab_type": "code",
        "colab": {}
      },
      "source": [
        "train_split = 0.6\n",
        "run_search(methods, df, train_split, Measures.rmse, max_evals=100, resample=None)"
      ],
      "execution_count": 0,
      "outputs": []
    },
    {
      "cell_type": "markdown",
      "metadata": {
        "id": "DZ9toU2mVac2",
        "colab_type": "text"
      },
      "source": [
        "#### MLP Forecasting"
      ]
    },
    {
      "cell_type": "code",
      "metadata": {
        "id": "5oahrWS9r-zE",
        "colab_type": "code",
        "colab": {}
      },
      "source": [
        "def mlp_multi_forecast(train_df, test_df, _order, _steps):\n",
        "\n",
        "    \n",
        "    nfeat = len(train_df.columns)\n",
        "    nlags = _order\n",
        "    nsteps = _steps\n",
        "    nobs = nlags * nfeat\n",
        "\n",
        "    output_index = -nfeat*nsteps\n",
        "\n",
        "    train_reshaped_df = series_to_supervised(train_df, n_in=nlags, n_out=nsteps)\n",
        "    train_X, train_Y = train_reshaped_df.iloc[:, :nobs].values, train_reshaped_df.iloc[:, output_index:].values\n",
        "\n",
        "    test_reshaped_df = series_to_supervised(test_df, n_in=nlags, n_out=nsteps)\n",
        "    test_X, test_Y = test_reshaped_df.iloc[:, :nobs].values, test_reshaped_df.iloc[:, output_index:].values\n",
        "    \n",
        "    # design network\n",
        "    model = designMLPNetwork(train_X.shape[1], train_Y.shape[1])\n",
        "    \n",
        "    # fit network\n",
        "    model.fit(train_X, train_Y, epochs=500, batch_size=1000, verbose=False, shuffle=False)\n",
        "    \n",
        "    forecast = model.predict(test_X)\n",
        "    \n",
        "#    fcst = [f[0] for f in forecast]\n",
        "    fcst = forecast\n",
        "    return fcst"
      ],
      "execution_count": 0,
      "outputs": []
    },
    {
      "cell_type": "code",
      "metadata": {
        "id": "c4ZEEfNLsJp6",
        "colab_type": "code",
        "colab": {}
      },
      "source": [
        "def designMLPNetwork(input_shape, output_shape):\n",
        "    params = {'batch_size': 64, 'choice': {'layers': 'two'}, 'dropout1': 0.75, 'dropout2': 0.25, 'epochs': 300, \n",
        "     'input': ('wp1', 'wp2', 'wp3', 'wp4', 'wp5', 'wp6', 'wp7'), 'order': 1, \n",
        "     'output': ('wp1', 'wp2', 'wp3', 'wp4', 'wp5', 'wp6', 'wp7'), 'units1': 512, 'units2': 64}\n",
        "\n",
        "    model = Sequential()\n",
        "    model.add(Dense(params['units1'], input_dim=input_shape, activation='relu'))\n",
        "    model.add(Dropout(params['dropout1']))\n",
        "    model.add(BatchNormalization())\n",
        "\n",
        "    model.add(Dense(params['units2'], activation='relu'))\n",
        "    model.add(Dropout(params['dropout2']))\n",
        "    model.add(BatchNormalization())\n",
        "\n",
        "    if params['choice']['layers'] == 'three':\n",
        "        model.add(Dense(params['choice']['units3'], activation='relu'))\n",
        "        model.add(Dropout(params['choice']['dropout3']))\n",
        "        model.add(BatchNormalization())\n",
        "\n",
        "    model.add(Dense(output_shape, activation='sigmoid'))\n",
        "    model.compile(loss='mse', optimizer='adam')\n",
        "\n",
        "    return model"
      ],
      "execution_count": 0,
      "outputs": []
    },
    {
      "cell_type": "code",
      "metadata": {
        "id": "t8btj2aDsVyk",
        "colab_type": "code",
        "colab": {}
      },
      "source": [
        "def rolling_cv_mlp(df, order, step):\n",
        "    \n",
        "    forecasts = []\n",
        "\n",
        "    limit = df.index[-1].strftime('%Y-%m-%d')\n",
        "\n",
        "    test_end = \"\"\n",
        "    index = df.index[0]\n",
        "\n",
        "    while test_end < limit :\n",
        "        print(\"Index: \", index.strftime('%Y-%m-%d'))  \n",
        "\n",
        "        train_start, train_end, validation_start, validation_end, test_start, test_end = getRollingWindow(index)\n",
        "        index = index + datetime.timedelta(days=7)\n",
        "        \n",
        "        train = df[train_start : train_end]\n",
        "        validation = df[validation_start : validation_end]\n",
        "        test = df[test_start : test_end]\n",
        "\n",
        "        # Perform grid search\n",
        "#        (_neurons, _order,epochs) = evaluate_multivariate_mlp_models(\"nested_eval_mlp_multi_oahu\", train[neighbor_stations_90], validation[neighbor_stations_90], neurons_list, order_list, epochs_list)\n",
        "\n",
        "        # Concat train & validation for test\n",
        "        train = train.append(validation)\n",
        "\n",
        "        # Perform forecast\n",
        "        yhat = list(mlp_multi_forecast(train, test, order, 1))\n",
        "        \n",
        "        yhat.append(yhat[-1]) #para manter o formato do vetor de metricas\n",
        "        \n",
        "        forecasts.append(yhat)\n",
        "\n",
        "    return forecasts"
      ],
      "execution_count": 0,
      "outputs": []
    },
    {
      "cell_type": "code",
      "metadata": {
        "id": "pVEGpB98sq23",
        "colab_type": "code",
        "outputId": "d4551d74-ad0c-413e-9ffa-a5fff815ddf6",
        "colab": {
          "base_uri": "https://localhost:8080/",
          "height": 850
        }
      },
      "source": [
        "step = 1\n",
        "order = 2\n",
        "exp_name = \"BENCHMARK-2_2-MLP\"\n",
        "forecasts = rolling_cv_mlp(df, order, step)\n",
        "mlp_results_df = calculate_rolling_error(exp_name, df, forecasts, order)"
      ],
      "execution_count": 0,
      "outputs": [
        {
          "output_type": "stream",
          "text": [
            "Index:  2009-07-01\n",
            "Index:  2009-07-08\n",
            "Index:  2009-07-15\n",
            "Index:  2009-07-22\n",
            "Index:  2009-07-29\n",
            "Index:  2009-08-05\n",
            "Index:  2009-08-12\n",
            "Index:  2009-08-19\n",
            "Index:  2009-08-26\n",
            "Index:  2009-09-02\n",
            "Index:  2009-09-09\n",
            "Index:  2009-09-16\n",
            "Index:  2009-09-23\n",
            "Index:  2009-09-30\n",
            "Index:  2009-10-07\n",
            "Index:  2009-10-14\n",
            "Index:  2009-10-21\n",
            "Index:  2009-10-28\n",
            "Index:  2009-11-04\n",
            "Index:  2009-11-11\n",
            "Index:  2009-11-18\n",
            "Index:  2009-11-25\n",
            "Index:  2009-12-02\n",
            "Index:  2009-12-09\n",
            "Index:  2009-12-16\n",
            "Index:  2009-12-23\n",
            "Index:  2009-12-30\n",
            "Index:  2010-01-06\n",
            "Index:  2010-01-13\n",
            "Index:  2010-01-20\n",
            "Index:  2010-01-27\n",
            "Index:  2010-02-03\n",
            "Index:  2010-02-10\n",
            "Index:  2010-02-17\n",
            "Index:  2010-02-24\n",
            "Index:  2010-03-03\n",
            "Index:  2010-03-10\n",
            "Index:  2010-03-17\n",
            "Index:  2010-03-24\n",
            "Index:  2010-03-31\n",
            "Index:  2010-04-07\n",
            "Index:  2010-04-14\n",
            "Index:  2010-04-21\n",
            "Index:  2010-04-28\n",
            "Index:  2010-05-05\n",
            "Index:  2010-05-12\n",
            "Index:  2010-05-19\n",
            "Index:  2010-05-26\n",
            "Index:  2010-06-02\n"
          ],
          "name": "stdout"
        }
      ]
    },
    {
      "cell_type": "code",
      "metadata": {
        "id": "7nKc-SoUG7Ob",
        "colab_type": "code",
        "colab": {}
      },
      "source": [
        "files.download('BENCHMARK-2_2-MLP.csv')"
      ],
      "execution_count": 0,
      "outputs": []
    },
    {
      "cell_type": "markdown",
      "metadata": {
        "id": "8TrCf5o3wRtf",
        "colab_type": "text"
      },
      "source": [
        "### Granular FTS"
      ]
    },
    {
      "cell_type": "code",
      "metadata": {
        "id": "8XLpD3ADwUKl",
        "colab_type": "code",
        "colab": {}
      },
      "source": [
        "from pyFTS.models.multivariate import granular\n",
        "from pyFTS.partitioners import Grid, Entropy\n",
        "from pyFTS.models.multivariate import variable\n",
        "from pyFTS.common import Membership\n",
        "from pyFTS.partitioners import Grid, Entropy"
      ],
      "execution_count": 0,
      "outputs": []
    },
    {
      "cell_type": "markdown",
      "metadata": {
        "id": "Sy91cSv-bPe-",
        "colab_type": "text"
      },
      "source": [
        "#### Granular Parameter Tuning"
      ]
    },
    {
      "cell_type": "code",
      "metadata": {
        "id": "VSznTw3qdZm5",
        "colab_type": "code",
        "colab": {}
      },
      "source": [
        "granular_space = {\n",
        "    'npartitions': hp.choice('npartitions', [100, 150, 200]),\n",
        "    'order': hp.choice('order', [1, 2]),\n",
        "    'knn': hp.choice('knn', [1, 2, 3, 4, 5]),\n",
        "    'alpha_cut': hp.choice('alpha_cut', [0, 0.1, 0.2, 0.3]),\n",
        "   'input': hp.choice('input', [['wp1',\t'wp2',\t'wp3',\t'wp4',\t'wp5',\t'wp6',\t'wp7']]),\n",
        "   'output': hp.choice('output', [['wp1',\t'wp2',\t'wp3',\t'wp4',\t'wp5',\t'wp6',\t'wp7']])}"
      ],
      "execution_count": 0,
      "outputs": []
    },
    {
      "cell_type": "code",
      "metadata": {
        "id": "pDf07Ua7bOkd",
        "colab_type": "code",
        "colab": {}
      },
      "source": [
        "def granular_tuning(train_df, test_df, params):\n",
        "    _input = list(params['input'])\n",
        "    _output = list(params['output'])\n",
        "    _npartitions = params['npartitions']\n",
        "    _order = params['order']\n",
        "    _knn = params['knn']\n",
        "    _alpha_cut = params['alpha_cut']\n",
        "    _step = params.get('step',1)\n",
        "\n",
        "    ## create explanatory variables\n",
        "    exp_variables = []\n",
        "    for vc in _input:\n",
        "        exp_variables.append(variable.Variable(vc, data_label=vc, alias=vc,\n",
        "                                               npart=_npartitions, func=Membership.trimf,\n",
        "                                               data=train_df, alpha_cut=_alpha_cut))\n",
        "    model = granular.GranularWMVFTS(explanatory_variables=exp_variables, target_variable=exp_variables[0], order=_order,\n",
        "                                    knn=_knn)\n",
        "    model.fit(train_df[_input], num_batches=1)\n",
        "\n",
        "    if _step > 1:\n",
        "        forecast = pd.DataFrame(columns=test_df.columns)\n",
        "        length = len(test_df.index)\n",
        "\n",
        "        for k in range(0,(length -(_order + _step - 1))):\n",
        "            fcst = model.predict(test_df[_input], type='multivariate', start_at=k, steps_ahead=_step)\n",
        "            forecast = forecast.append(fcst.tail(1))\n",
        "    else:\n",
        "        forecast = model.predict(test_df[_input], type='multivariate')\n",
        "\n",
        "    return forecast[_output].values\n"
      ],
      "execution_count": 0,
      "outputs": []
    },
    {
      "cell_type": "code",
      "metadata": {
        "id": "LJ9SITzDdM4K",
        "colab_type": "code",
        "colab": {}
      },
      "source": [
        "methods = []\n",
        "methods.append((\"EXP_WIND_GRANULAR\", granular_tuning, granular_space))"
      ],
      "execution_count": 0,
      "outputs": []
    },
    {
      "cell_type": "code",
      "metadata": {
        "id": "OnCvUcmOdlQw",
        "colab_type": "code",
        "colab": {}
      },
      "source": [
        "train_split = 0.6\n",
        "run_search(methods, df, train_split, Measures.rmse, max_evals=10, resample=None)"
      ],
      "execution_count": 0,
      "outputs": []
    },
    {
      "cell_type": "markdown",
      "metadata": {
        "id": "5FZfm7NjbVc0",
        "colab_type": "text"
      },
      "source": [
        "#### Granular Forecasting"
      ]
    },
    {
      "cell_type": "code",
      "metadata": {
        "id": "c2bZmI1obYUh",
        "colab_type": "code",
        "colab": {}
      },
      "source": [
        "def granular_forecast(train_df, test_df, order, step):\n",
        "    params = {'alpha_cut': 0.3, 'input': ('wp1', 'wp2', 'wp3', 'wp4', 'wp5', 'wp6', 'wp7'), \n",
        "              'knn': 2, 'npartitions': 150, 'order': 2, 'output': ('wp1', 'wp2', 'wp3', 'wp4', 'wp5', 'wp6', 'wp7')}\n",
        "\n",
        "    _input = list(params['input'])\n",
        "    _output = list(params['output'])\n",
        "    _npartitions = params['npartitions']\n",
        "    _knn = params['knn']\n",
        "    _alpha_cut = params['alpha_cut']\n",
        "    _order = order\n",
        "    _step = step\n",
        "\n",
        "    ## create explanatory variables\n",
        "    exp_variables = []\n",
        "    for vc in _input:\n",
        "        exp_variables.append(variable.Variable(vc, data_label=vc, alias=vc,\n",
        "                                               npart=_npartitions, func=Membership.trimf,\n",
        "                                               data=train_df, alpha_cut=_alpha_cut))\n",
        "    model = granular.GranularWMVFTS(explanatory_variables=exp_variables, target_variable=exp_variables[0], order=_order,\n",
        "                                    knn=_knn)\n",
        "    model.fit(train_df[_input], num_batches=1)\n",
        "\n",
        "    if _step > 1:\n",
        "        forecast = pd.DataFrame(columns=test_df.columns)\n",
        "        length = len(test_df.index)\n",
        "\n",
        "        for k in range(0,(length -(_order + _step - 1))):\n",
        "            fcst = model.predict(test_df[_input], type='multivariate', start_at=k, steps_ahead=_step)\n",
        "            forecast = forecast.append(fcst.tail(1))\n",
        "    else:\n",
        "        forecast = model.predict(test_df[_input], type='multivariate')\n",
        "\n",
        "    return forecast[_output].values\n"
      ],
      "execution_count": 0,
      "outputs": []
    },
    {
      "cell_type": "code",
      "metadata": {
        "id": "zRRkdE-Jg4X1",
        "colab_type": "code",
        "colab": {}
      },
      "source": [
        "def rolling_cv_granular(df, order, step):\n",
        "    \n",
        "    forecasts = []\n",
        "\n",
        "    limit = df.index[-1].strftime('%Y-%m-%d')\n",
        "\n",
        "    test_end = \"\"\n",
        "    index = df.index[0]\n",
        "\n",
        "    while test_end < limit :\n",
        "        print(\"Index: \", index.strftime('%Y-%m-%d'))  \n",
        "\n",
        "        train_start, train_end, validation_start, validation_end, test_start, test_end = getRollingWindow(index)\n",
        "        index = index + datetime.timedelta(days=7)\n",
        "        \n",
        "        train = df[train_start : train_end]\n",
        "        validation = df[validation_start : validation_end]\n",
        "        test = df[test_start : test_end]\n",
        "\n",
        "        # Perform grid search\n",
        "#        (_neurons, _order,epochs) = evaluate_multivariate_granular_models(\"nested_eval_mlp_multi_oahu\", train[neighbor_stations_90], validation[neighbor_stations_90], neurons_list, order_list, epochs_list)\n",
        "\n",
        "        # Concat train & validation for test\n",
        "        train = train.append(validation)\n",
        "\n",
        "        # Perform forecast\n",
        "        yhat = list(granular_forecast(train, test, order, step))\n",
        "        \n",
        "        yhat.append(yhat[-1]) #para manter o formato do vetor de metricas\n",
        "        \n",
        "        forecasts.append(yhat)\n",
        "\n",
        "    return forecasts"
      ],
      "execution_count": 0,
      "outputs": []
    },
    {
      "cell_type": "code",
      "metadata": {
        "id": "urdNlVDjmQoV",
        "colab_type": "code",
        "outputId": "7f6ba5de-3d5d-4f45-c0aa-1e8557b9b68e",
        "colab": {
          "base_uri": "https://localhost:8080/",
          "height": 850
        }
      },
      "source": [
        "step = 1\n",
        "order = 2\n",
        "exp_name = \"BENCHMARK-2_2-GRANULAR\"\n",
        "forecasts = rolling_cv_granular(df, order, step)\n",
        "granular_results_df = calculate_rolling_error(exp_name, df, forecasts, order)"
      ],
      "execution_count": 0,
      "outputs": [
        {
          "output_type": "stream",
          "text": [
            "Index:  2009-07-01\n",
            "Index:  2009-07-08\n",
            "Index:  2009-07-15\n",
            "Index:  2009-07-22\n",
            "Index:  2009-07-29\n",
            "Index:  2009-08-05\n",
            "Index:  2009-08-12\n",
            "Index:  2009-08-19\n",
            "Index:  2009-08-26\n",
            "Index:  2009-09-02\n",
            "Index:  2009-09-09\n",
            "Index:  2009-09-16\n",
            "Index:  2009-09-23\n",
            "Index:  2009-09-30\n",
            "Index:  2009-10-07\n",
            "Index:  2009-10-14\n",
            "Index:  2009-10-21\n",
            "Index:  2009-10-28\n",
            "Index:  2009-11-04\n",
            "Index:  2009-11-11\n",
            "Index:  2009-11-18\n",
            "Index:  2009-11-25\n",
            "Index:  2009-12-02\n",
            "Index:  2009-12-09\n",
            "Index:  2009-12-16\n",
            "Index:  2009-12-23\n",
            "Index:  2009-12-30\n",
            "Index:  2010-01-06\n",
            "Index:  2010-01-13\n",
            "Index:  2010-01-20\n",
            "Index:  2010-01-27\n",
            "Index:  2010-02-03\n",
            "Index:  2010-02-10\n",
            "Index:  2010-02-17\n",
            "Index:  2010-02-24\n",
            "Index:  2010-03-03\n",
            "Index:  2010-03-10\n",
            "Index:  2010-03-17\n",
            "Index:  2010-03-24\n",
            "Index:  2010-03-31\n",
            "Index:  2010-04-07\n",
            "Index:  2010-04-14\n",
            "Index:  2010-04-21\n",
            "Index:  2010-04-28\n",
            "Index:  2010-05-05\n",
            "Index:  2010-05-12\n",
            "Index:  2010-05-19\n",
            "Index:  2010-05-26\n",
            "Index:  2010-06-02\n"
          ],
          "name": "stdout"
        }
      ]
    },
    {
      "cell_type": "code",
      "metadata": {
        "id": "olZqiVyeXrkf",
        "colab_type": "code",
        "colab": {}
      },
      "source": [
        "files.download('BENCHMARK-2_2-GRANULAR.csv')"
      ],
      "execution_count": 0,
      "outputs": []
    },
    {
      "cell_type": "markdown",
      "metadata": {
        "id": "BWPQaTr2rQQN",
        "colab_type": "text"
      },
      "source": [
        "## Result Analysis"
      ]
    },
    {
      "cell_type": "code",
      "metadata": {
        "id": "y708JjEbkOOn",
        "colab_type": "code",
        "colab": {}
      },
      "source": [
        "from google.colab import files"
      ],
      "execution_count": 0,
      "outputs": []
    },
    {
      "cell_type": "code",
      "metadata": {
        "id": "19kbVVgXrXFv",
        "colab_type": "code",
        "colab": {}
      },
      "source": [
        "import pandas as pd\n",
        "pd.options.display.float_format = '{:.4f}'.format"
      ],
      "execution_count": 0,
      "outputs": []
    },
    {
      "cell_type": "code",
      "metadata": {
        "id": "AyjpQ1OHYPv1",
        "colab_type": "code",
        "colab": {}
      },
      "source": [
        "def createBoxplot(filename, data, xticklabels, ylabel):\n",
        "    # Create a figure instance\n",
        "    fig = plt.figure(1, figsize=(9, 6))\n",
        "\n",
        "    # Create an axes instance\n",
        "    ax = fig.add_subplot(111)\n",
        "\n",
        "    # Create the boxplot\n",
        "    bp = ax.boxplot(data, patch_artist=True)\n",
        "    \n",
        "    ## change outline color, fill color and linewidth of the boxes\n",
        "    for box in bp['boxes']:\n",
        "        # change outline color\n",
        "        box.set( color='#7570b3', linewidth=2)\n",
        "        # change fill color\n",
        "        box.set( facecolor = '#AACCFF' )\n",
        "\n",
        "    ## change color and linewidth of the whiskers\n",
        "    for whisker in bp['whiskers']:\n",
        "        whisker.set(color='#7570b3', linewidth=2)\n",
        "\n",
        "    ## change color and linewidth of the caps\n",
        "    for cap in bp['caps']:\n",
        "        cap.set(color='#7570b3', linewidth=2)\n",
        "\n",
        "    ## change color and linewidth of the medians\n",
        "    for median in bp['medians']:\n",
        "        median.set(color='#FFE680', linewidth=2)\n",
        "\n",
        "    ## change the style of fliers and their fill\n",
        "    for flier in bp['fliers']:\n",
        "        flier.set(marker='o', color='#e7298a', alpha=0.5)\n",
        "    \n",
        "    ## Custom x-axis labels\n",
        "    ax.set_xticklabels(xticklabels)\n",
        "    ax.set_ylabel(ylabel)\n",
        "    plt.show()\n",
        "    fig.savefig(filename, bbox_inches='tight')"
      ],
      "execution_count": 0,
      "outputs": []
    },
    {
      "cell_type": "code",
      "metadata": {
        "id": "edDKxLrvr7NW",
        "colab_type": "code",
        "colab": {}
      },
      "source": [
        "var_results = pd.read_csv(\"BENCHMARK-2_2-VAR.csv\")\n",
        "evolving_results = pd.read_csv(\"BENCHMARK-2_2-EVOLVING.csv\")\n",
        "mlp_results = pd.read_csv(\"BENCHMARK-2_2-MLP.csv\")\n",
        "granular_results = pd.read_csv(\"BENCHMARK-2_2-GRANULAR.csv\")"
      ],
      "execution_count": 0,
      "outputs": []
    },
    {
      "cell_type": "code",
      "metadata": {
        "id": "e0AG_sdKYU1g",
        "colab_type": "code",
        "outputId": "df27ccb6-6182-4ed4-c739-e36b75fa7e71",
        "colab": {
          "base_uri": "https://localhost:8080/",
          "height": 375
        }
      },
      "source": [
        "metric = 'RMSE'\n",
        "results_data = [evolving_results[metric],var_results[metric], mlp_results[metric], granular_results[metric]]\n",
        "xticks = ['e-MVFTS','VAR','MLP','FIG-FTS']\n",
        "\n",
        "ylab = 'RMSE'\n",
        "createBoxplot(\"e-mvfts_boxplot_rmse_wind\", results_data, xticks, ylab)"
      ],
      "execution_count": 10,
      "outputs": [
        {
          "output_type": "display_data",
          "data": {
            "image/png": "[encoded data removed]",
            "text/plain": [
              "<Figure size 648x432 with 1 Axes>"
            ]
          },
          "metadata": {
            "tags": [],
            "needs_background": "light"
          }
        }
      ]
    },
    {
      "cell_type": "code",
      "metadata": {
        "id": "AFgjP8ipY-zp",
        "colab_type": "code",
        "colab": {}
      },
      "source": [
        "metric = 'RMSE'\n",
        "rmse_df = pd.DataFrame(columns=['e-MVFTS','VAR','MLP','FIG-FTS'])\n",
        "\n",
        "rmse_df[\"e-MVFTS\"] = evolving_results[metric]\n",
        "rmse_df[\"VAR\"] = var_results[metric]\n",
        "rmse_df[\"MLP\"] = mlp_results[metric]\n",
        "rmse_df[\"FIG-FTS\"] = granular_results[metric]"
      ],
      "execution_count": 0,
      "outputs": []
    },
    {
      "cell_type": "code",
      "metadata": {
        "id": "TB5EdQvbZKm2",
        "colab_type": "code",
        "outputId": "de92450b-4811-4c82-ae29-e2abd460a804",
        "colab": {
          "base_uri": "https://localhost:8080/",
          "height": 102
        }
      },
      "source": [
        "rmse_df.std()"
      ],
      "execution_count": 0,
      "outputs": [
        {
          "output_type": "execute_result",
          "data": {
            "text/plain": [
              "e-MVFTS   0.0201\n",
              "VAR       0.0169\n",
              "MLP       0.0335\n",
              "FIG-FTS   0.0257\n",
              "dtype: float64"
            ]
          },
          "metadata": {
            "tags": []
          },
          "execution_count": 39
        }
      ]
    },
    {
      "cell_type": "code",
      "metadata": {
        "id": "pBCeKtMqyIRA",
        "colab_type": "code",
        "colab": {}
      },
      "source": [
        "metric = \"RMSE\"\n",
        "\n",
        "data = pd.DataFrame(columns=[\"VAR\", \"Evolving\", \"MLP\", \"Granular\"])\n",
        "\n",
        "data[\"VAR\"] = var_results[metric]\n",
        "data[\"Evolving\"] = evolving_results[metric]\n",
        "data[\"MLP\"] = mlp_results[metric]\n",
        "data[\"Granular\"] = granular_results[metric]\n",
        "\n",
        "ax = data.plot(figsize=(18,6))\n",
        "ax.set(xlabel='Window', ylabel=metric)\n",
        "fig = ax.get_figure()\n",
        "#fig.savefig(path_images + exp_id + \"_prequential.png\")\n",
        "    \n",
        "x = np.arange(len(data.columns.values))\n",
        "names = data.columns.values\n",
        "values = data.mean().values\n",
        "plt.figure(figsize=(5,6))\n",
        "plt.bar(x, values, align='center', alpha=0.5, width=0.9)\n",
        "plt.xticks(x, names)\n",
        "#plt.yticks(np.arange(0, 1.1, 0.1))\n",
        "plt.ylabel(metric)\n",
        "#plt.savefig(path_images + exp_id + \"_bars.png\")"
      ],
      "execution_count": 0,
      "outputs": []
    },
    {
      "cell_type": "code",
      "metadata": {
        "id": "EEP1aKdX-Ndq",
        "colab_type": "code",
        "colab": {}
      },
      "source": [
        "metric = \"SMAPE\"\n",
        "\n",
        "data = pd.DataFrame(columns=[\"VAR\", \"Evolving\", \"MLP\", \"Granular\"])\n",
        "\n",
        "data[\"VAR\"] = var_results[metric]\n",
        "data[\"Evolving\"] = evolving_results[metric]\n",
        "data[\"MLP\"] = mlp_results[metric]\n",
        "data[\"Granular\"] = granular_results[metric]\n",
        "\n",
        "ax = data.plot(figsize=(18,6))\n",
        "ax.set(xlabel='Window', ylabel=metric)\n",
        "fig = ax.get_figure()\n",
        "#fig.savefig(path_images + exp_id + \"_prequential.png\")\n",
        "    \n",
        "x = np.arange(len(data.columns.values))\n",
        "names = data.columns.values\n",
        "values = data.mean().values\n",
        "plt.figure(figsize=(5,6))\n",
        "plt.bar(x, values, align='center', alpha=0.5, width=0.9)\n",
        "plt.xticks(x, names)\n",
        "#plt.yticks(np.arange(0, 1.1, 0.1))\n",
        "plt.ylabel(metric)\n",
        "#plt.savefig(path_images + exp_id + \"_bars.png\")"
      ],
      "execution_count": 0,
      "outputs": []
    },
    {
      "cell_type": "code",
      "metadata": {
        "id": "N_Qh3om8Zv40",
        "colab_type": "code",
        "outputId": "dd258cd2-6544-40ee-c439-5248c01abd6e",
        "colab": {
          "base_uri": "https://localhost:8080/",
          "height": 374
        }
      },
      "source": [
        "metric = 'SMAPE'\n",
        "results_data = [evolving_results[metric],var_results[metric], mlp_results[metric], granular_results[metric]]\n",
        "xticks = ['e-MVFTS','VAR','MLP','FIG-FTS']\n",
        "\n",
        "ylab = 'SMAPE'\n",
        "createBoxplot(\"e-mvfts_boxplot_smape_wind\", results_data, xticks, ylab)"
      ],
      "execution_count": 11,
      "outputs": [
        {
          "output_type": "display_data",
          "data": {
            "image/png": "[encoded data removed]",
            "text/plain": [
              "<Figure size 648x432 with 1 Axes>"
            ]
          },
          "metadata": {
            "tags": [],
            "needs_background": "light"
          }
        }
      ]
    },
    {
      "cell_type": "code",
      "metadata": {
        "id": "B9-ZIYEoaCx4",
        "colab_type": "code",
        "colab": {}
      },
      "source": [
        "metric = 'SMAPE'\n",
        "smape_df = pd.DataFrame(columns=['e-MVFTS','VAR','MLP','FIG-FTS'])\n",
        "\n",
        "smape_df[\"e-MVFTS\"] = evolving_results[metric]\n",
        "smape_df[\"VAR\"] = var_results[metric]\n",
        "smape_df[\"MLP\"] = mlp_results[metric]\n",
        "smape_df[\"FIG-FTS\"] = granular_results[metric]"
      ],
      "execution_count": 0,
      "outputs": []
    },
    {
      "cell_type": "code",
      "metadata": {
        "id": "oky6qwm6aE1B",
        "colab_type": "code",
        "outputId": "317c1a17-c0fc-4dcb-fbf4-4249469f1f15",
        "colab": {
          "base_uri": "https://localhost:8080/",
          "height": 102
        }
      },
      "source": [
        "smape_df.std()"
      ],
      "execution_count": 0,
      "outputs": [
        {
          "output_type": "execute_result",
          "data": {
            "text/plain": [
              "e-MVFTS   11.7134\n",
              "VAR        8.9350\n",
              "MLP        8.5438\n",
              "FIG-FTS    6.4839\n",
              "dtype: float64"
            ]
          },
          "metadata": {
            "tags": []
          },
          "execution_count": 43
        }
      ]
    }
  ]
}