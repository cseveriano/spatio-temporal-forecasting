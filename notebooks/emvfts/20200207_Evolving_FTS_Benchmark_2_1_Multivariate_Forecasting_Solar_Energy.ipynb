{
  "nbformat": 4,
  "nbformat_minor": 0,
  "metadata": {
    "colab": {
      "name": "20200207 - Evolving FTS - Benchmark 2_1 - Multivariate Forecasting - Solar Energy.ipynb",
      "provenance": [],
      "toc_visible": true,
      "authorship_tag": "ABX9TyPWTnzK6tIy2Q+/ki6wyxT1",
      "include_colab_link": true
    },
    "kernelspec": {
      "name": "python3",
      "display_name": "Python 3"
    }
  },
  "cells": [
    {
      "cell_type": "markdown",
      "metadata": {
        "id": "view-in-github",
        "colab_type": "text"
      },
      "source": [
        "<a href=\"https://colab.research.google.com/github/cseveriano/spatio-temporal-forecasting/blob/master/notebooks/emvfts/20200207_Evolving_FTS_Benchmark_2_1_Multivariate_Forecasting_Solar_Energy.ipynb\" target=\"_parent\"><img src=\"https://colab.research.google.com/assets/colab-badge.svg\" alt=\"Open In Colab\"/></a>"
      ]
    },
    {
      "cell_type": "markdown",
      "metadata": {
        "id": "WiQufqAuISUg",
        "colab_type": "text"
      },
      "source": [
        "## Forecasting experiments for NREL Oahu Dataset"
      ]
    },
    {
      "cell_type": "markdown",
      "metadata": {
        "id": "B98rDdRxx1F3",
        "colab_type": "text"
      },
      "source": [
        "\n",
        "## Install Libs\n"
      ]
    },
    {
      "cell_type": "code",
      "metadata": {
        "id": "O_UcD8t_x-XW",
        "colab_type": "code",
        "outputId": "3f0951b5-95b1-401e-c0bc-5c8c3fda0baf",
        "colab": {
          "base_uri": "https://localhost:8080/",
          "height": 989
        }
      },
      "source": [
        "!pip3 install -U git+https://github.com/PYFTS/pyFTS\n",
        "!pip3 install -U git+https://github.com/cseveriano/spatio-temporal-forecasting\n",
        "!pip3 install -U git+https://github.com/cseveriano/evolving_clustering\n",
        "!pip3 install -U git+https://github.com/cseveriano/fts2image\n",
        "!pip3 install -U hyperopt"
      ],
      "execution_count": 0,
      "outputs": [
        {
          "output_type": "stream",
          "text": [
            "Collecting git+https://github.com/PYFTS/pyFTS\n",
            "  Cloning https://github.com/PYFTS/pyFTS to /tmp/pip-req-build-ms0xfucw\n",
            "  Running command git clone -q https://github.com/PYFTS/pyFTS /tmp/pip-req-build-ms0xfucw\n",
            "Building wheels for collected packages: pyFTS\n",
            "  Building wheel for pyFTS (setup.py) ... \u001b[?25l\u001b[?25hdone\n",
            "  Created wheel for pyFTS: filename=pyFTS-1.6-cp36-none-any.whl size=207415 sha256=e06b56abbac5eead3bec323e56ca38d1349eb912aa0dabb4debd0178534ee68e\n",
            "  Stored in directory: /tmp/pip-ephem-wheel-cache-whpax7cq/wheels/e7/32/a9/230470113df5a73242a5a6d05671cb646db97abf14bbce2644\n",
            "Successfully built pyFTS\n",
            "Installing collected packages: pyFTS\n",
            "Successfully installed pyFTS-1.6\n",
            "Collecting git+https://github.com/cseveriano/spatio-temporal-forecasting\n",
            "  Cloning https://github.com/cseveriano/spatio-temporal-forecasting to /tmp/pip-req-build-1ob4gd97\n",
            "  Running command git clone -q https://github.com/cseveriano/spatio-temporal-forecasting /tmp/pip-req-build-1ob4gd97\n",
            "Building wheels for collected packages: spatio-temporal-forecasting\n",
            "  Building wheel for spatio-temporal-forecasting (setup.py) ... \u001b[?25l\u001b[?25hdone\n",
            "  Created wheel for spatio-temporal-forecasting: filename=spatio_temporal_forecasting-1.0-cp36-none-any.whl size=55633 sha256=aee77bb27826acdbddaeceb1c787368f07480582dea9eaac025ec27d21f4d335\n",
            "  Stored in directory: /tmp/pip-ephem-wheel-cache-64_vm8ve/wheels/d2/1f/6f/439795864246039ef36c6a3c88edf7935c803c2cf97133066a\n",
            "Successfully built spatio-temporal-forecasting\n",
            "Installing collected packages: spatio-temporal-forecasting\n",
            "Successfully installed spatio-temporal-forecasting-1.0\n",
            "Collecting git+https://github.com/cseveriano/evolving_clustering\n",
            "  Cloning https://github.com/cseveriano/evolving_clustering to /tmp/pip-req-build-7b25t2wt\n",
            "  Running command git clone -q https://github.com/cseveriano/evolving_clustering /tmp/pip-req-build-7b25t2wt\n",
            "Building wheels for collected packages: evolclustering\n",
            "  Building wheel for evolclustering (setup.py) ... \u001b[?25l\u001b[?25hdone\n",
            "  Created wheel for evolclustering: filename=evolclustering-0.1-cp36-none-any.whl size=25744 sha256=3018f8dfd38cf8e724fa70487e52d5c61a730bb7b5ebe24cd673faca15b0ddc5\n",
            "  Stored in directory: /tmp/pip-ephem-wheel-cache-q_reslpg/wheels/aa/b7/f1/4d93077e1b97361934f5992c77be80f0769eba6e0e9da6e22d\n",
            "Successfully built evolclustering\n",
            "Installing collected packages: evolclustering\n",
            "Successfully installed evolclustering-0.1\n",
            "Collecting git+https://github.com/cseveriano/fts2image\n",
            "  Cloning https://github.com/cseveriano/fts2image to /tmp/pip-req-build-5kgvug5b\n",
            "  Running command git clone -q https://github.com/cseveriano/fts2image /tmp/pip-req-build-5kgvug5b\n",
            "Building wheels for collected packages: fts2image\n",
            "  Building wheel for fts2image (setup.py) ... \u001b[?25l\u001b[?25hdone\n",
            "  Created wheel for fts2image: filename=fts2image-0.1.0-py2.py3-none-any.whl size=7976 sha256=fe85d17ac0017014fb7b610cc9915a0bbb52e77b4236399c14b45152bacf9cb6\n",
            "  Stored in directory: /tmp/pip-ephem-wheel-cache-zxyko3az/wheels/22/a1/62/57410665915134ffe4bc11ede1f9a47b1f4b29d8aad9582d31\n",
            "Successfully built fts2image\n",
            "Installing collected packages: fts2image\n",
            "Successfully installed fts2image-0.1.0\n",
            "Collecting hyperopt\n",
            "\u001b[?25l  Downloading https://files.pythonhosted.org/packages/90/d5/c7e276f4f7bc65ac26391c435245e5ef8911b4393e3df5a74906c48afeaf/hyperopt-0.2.4-py2.py3-none-any.whl (964kB)\n",
            "\u001b[K     |████████████████████████████████| 972kB 9.1MB/s \n",
            "\u001b[?25hRequirement already satisfied, skipping upgrade: future in /usr/local/lib/python3.6/dist-packages (from hyperopt) (0.16.0)\n",
            "Requirement already satisfied, skipping upgrade: numpy in /usr/local/lib/python3.6/dist-packages (from hyperopt) (1.18.3)\n",
            "Requirement already satisfied, skipping upgrade: scipy in /usr/local/lib/python3.6/dist-packages (from hyperopt) (1.4.1)\n",
            "Requirement already satisfied, skipping upgrade: tqdm in /usr/local/lib/python3.6/dist-packages (from hyperopt) (4.38.0)\n",
            "Requirement already satisfied, skipping upgrade: networkx>=2.2 in /usr/local/lib/python3.6/dist-packages (from hyperopt) (2.4)\n",
            "Requirement already satisfied, skipping upgrade: cloudpickle in /usr/local/lib/python3.6/dist-packages (from hyperopt) (1.3.0)\n",
            "Requirement already satisfied, skipping upgrade: six in /usr/local/lib/python3.6/dist-packages (from hyperopt) (1.12.0)\n",
            "Requirement already satisfied, skipping upgrade: decorator>=4.3.0 in /usr/local/lib/python3.6/dist-packages (from networkx>=2.2->hyperopt) (4.4.2)\n",
            "Installing collected packages: hyperopt\n",
            "  Found existing installation: hyperopt 0.1.2\n",
            "    Uninstalling hyperopt-0.1.2:\n",
            "      Successfully uninstalled hyperopt-0.1.2\n",
            "Successfully installed hyperopt-0.2.4\n"
          ],
          "name": "stdout"
        }
      ]
    },
    {
      "cell_type": "code",
      "metadata": {
        "id": "FgX3WshueUr-",
        "colab_type": "code",
        "colab": {}
      },
      "source": [
        "from google.colab import files"
      ],
      "execution_count": 0,
      "outputs": []
    },
    {
      "cell_type": "markdown",
      "metadata": {
        "id": "g9BRMrQ_P51z",
        "colab_type": "text"
      },
      "source": [
        "## Aux Functions"
      ]
    },
    {
      "cell_type": "code",
      "metadata": {
        "id": "RV_wwx52P-ZZ",
        "colab_type": "code",
        "colab": {}
      },
      "source": [
        "import datetime\n",
        "\n",
        "def getRollingWindow(index):\n",
        "    pivot = index\n",
        "    train_start = pivot.strftime('%Y-%m-%d')\n",
        "    pivot = pivot + datetime.timedelta(days=20)\n",
        "    train_end = pivot.strftime('%Y-%m-%d')\n",
        "\n",
        "    pivot = pivot + datetime.timedelta(days=1)\n",
        "    validation_start = pivot.strftime('%Y-%m-%d')\n",
        "    pivot = pivot + datetime.timedelta(days=6)\n",
        "    validation_end = pivot.strftime('%Y-%m-%d')\n",
        "\n",
        "    pivot = pivot + datetime.timedelta(days=1)\n",
        "    test_start = pivot.strftime('%Y-%m-%d')\n",
        "    pivot = pivot + datetime.timedelta(days=6)\n",
        "    test_end = pivot.strftime('%Y-%m-%d')\n",
        "    \n",
        "    return train_start, train_end, validation_start, validation_end, test_start, test_end"
      ],
      "execution_count": 0,
      "outputs": []
    },
    {
      "cell_type": "code",
      "metadata": {
        "id": "KFvz-CcjQApo",
        "colab_type": "code",
        "colab": {}
      },
      "source": [
        "from pyFTS.benchmarks import Measures\n",
        "\n",
        "def calculate_rolling_error(cv_name, df, forecasts, order):\n",
        "    cv_results = pd.DataFrame(columns=['Split', 'RMSE', 'SMAPE'])\n",
        "\n",
        "    limit = df.index[-1].strftime('%Y-%m-%d')\n",
        "\n",
        "    test_end = \"\"\n",
        "    index = df.index[0]\n",
        "\n",
        "    for i in np.arange(len(forecasts)):\n",
        "\n",
        "        train_start, train_end, validation_start, validation_end, test_start, test_end = getRollingWindow(index)\n",
        "        test = df[test_start : test_end]\n",
        "    \n",
        "        yhat = forecasts[i]\n",
        "        \n",
        "        rmse = Measures.rmse(test.iloc[order:], yhat[:-1])\n",
        "        \n",
        "        smape = Measures.smape(test.iloc[order:], yhat[:-1])\n",
        "        \n",
        "        res = {'Split' : index.strftime('%Y-%m-%d') ,'RMSE' : rmse, 'SMAPE' : smape}\n",
        "        cv_results = cv_results.append(res, ignore_index=True)\n",
        "        cv_results.to_csv(cv_name+\".csv\")        \n",
        "\n",
        "        index = index + datetime.timedelta(days=7)\n",
        "        \n",
        "    return cv_results"
      ],
      "execution_count": 0,
      "outputs": []
    },
    {
      "cell_type": "code",
      "metadata": {
        "id": "bELfTsUnQEUQ",
        "colab_type": "code",
        "outputId": "71904225-ad5a-404e-f281-7e901b9a36e1",
        "colab": {
          "base_uri": "https://localhost:8080/",
          "height": 34
        }
      },
      "source": [
        "from spatiotemporal.test import methods_space_oahu as ms\n",
        "from spatiotemporal.util import parameter_tuning, sampling\n",
        "from spatiotemporal.util import experiments as ex\n",
        "from sklearn.metrics import mean_squared_error\n",
        "import numpy as np\n",
        "from hyperopt import fmin, tpe, hp, STATUS_OK, Trials\n",
        "from hyperopt import space_eval\n",
        "import traceback\n",
        "from . import sampling\n",
        "import pickle\n",
        "\n",
        "def calculate_error(loss_function, test_df, forecast, offset):\n",
        "    error = loss_function(test_df.iloc[(offset):], forecast)\n",
        "    print(\"Error : \"+str(error))\n",
        "    return error\n",
        "\n",
        "def method_optimize(experiment, forecast_method, train_df, test_df, space, loss_function, max_evals):\n",
        "    def objective(params):\n",
        "        print(params)\n",
        "        try:\n",
        "            _output = list(params['output'])\n",
        "            forecast = forecast_method(train_df, test_df, params)\n",
        "            _step = params.get('step', 1)\n",
        "            offset = params['order'] + _step - 1\n",
        "            error = calculate_error(loss_function, test_df[_output], forecast, offset)\n",
        "        except Exception:\n",
        "            traceback.print_exc()\n",
        "            error = 1000\n",
        "        return {'loss': error, 'status': STATUS_OK}\n",
        "\n",
        "    print(\"Running experiment: \" + experiment)\n",
        "    trials = Trials()\n",
        "    best = fmin(objective, space, algo=tpe.suggest, max_evals=max_evals, trials=trials)\n",
        "    print('best parameters: ')\n",
        "    print(space_eval(space, best))\n",
        "\n",
        "    pickle.dump(best, open(\"best_\" + experiment + \".pkl\", \"wb\"))\n",
        "    pickle.dump(trials, open(\"trials_\" + experiment + \".pkl\", \"wb\"))\n",
        "\n",
        "\n",
        "def run_search(methods, data, train, loss_function, max_evals=100, resample=None):\n",
        "\n",
        "    if resample:\n",
        "        data = sampling.resample_data(data, resample)\n",
        "\n",
        "    train_df, test_df = sampling.train_test_split(data, train)\n",
        "\n",
        "    for experiment, method, space in methods:\n",
        "        method_optimize(experiment, method, train_df, test_df, space, loss_function, max_evals)"
      ],
      "execution_count": 0,
      "outputs": [
        {
          "output_type": "stream",
          "text": [
            "Using TensorFlow backend.\n"
          ],
          "name": "stderr"
        }
      ]
    },
    {
      "cell_type": "markdown",
      "metadata": {
        "id": "hZ4KkWX7Jb5g",
        "colab_type": "text"
      },
      "source": [
        "## Load Dataset"
      ]
    },
    {
      "cell_type": "code",
      "metadata": {
        "id": "HKOTmAwrQM2G",
        "colab_type": "code",
        "colab": {}
      },
      "source": [
        "import pandas as pd\n",
        "import matplotlib.pyplot as plt\n",
        "import numpy as np\n",
        "import math\n",
        "from sklearn.metrics import mean_squared_error"
      ],
      "execution_count": 0,
      "outputs": []
    },
    {
      "cell_type": "code",
      "metadata": {
        "id": "aHWBkv_BJfWZ",
        "colab_type": "code",
        "colab": {}
      },
      "source": [
        "import pandas as pd\n",
        "\n",
        "def normalize(df):\n",
        "    mindf = df.min()\n",
        "    maxdf = df.max()\n",
        "    return (df-mindf)/(maxdf-mindf)\n",
        "\n",
        "df = pd.read_csv('https://query.data.world/s/wo5wryokqyg5uvbfqqij2mucgwly5u',  parse_dates=['datetime'], index_col=0)\n",
        "\n",
        "df = normalize(df)"
      ],
      "execution_count": 0,
      "outputs": []
    },
    {
      "cell_type": "code",
      "metadata": {
        "id": "Yb9n1_vBV5yp",
        "colab_type": "code",
        "colab": {}
      },
      "source": [
        "# Split data\n",
        "interval = ((df.index >= '2010-06') & (df.index < '2011-06'))\n",
        "df = df.loc[interval]"
      ],
      "execution_count": 0,
      "outputs": []
    },
    {
      "cell_type": "code",
      "metadata": {
        "id": "AGli4zupgShv",
        "colab_type": "code",
        "colab": {}
      },
      "source": [
        "along_wind_distances = ['DHHL_4','DHHL_3','DHHL_5','DHHL_10','DHHL_2','DHHL_9','DHHL_7']\n",
        "                        "
      ],
      "execution_count": 0,
      "outputs": []
    },
    {
      "cell_type": "markdown",
      "metadata": {
        "id": "ETMD5bfbOhml",
        "colab_type": "text"
      },
      "source": [
        "## Data Correlation Analysis"
      ]
    },
    {
      "cell_type": "code",
      "metadata": {
        "id": "ZJLxzGEd0VTD",
        "colab_type": "code",
        "colab": {}
      },
      "source": [
        "norm_hink_cs_df.corr(method='spearman')"
      ],
      "execution_count": 0,
      "outputs": []
    },
    {
      "cell_type": "markdown",
      "metadata": {
        "id": "VS9lU7sIXrJl",
        "colab_type": "text"
      },
      "source": [
        "## Forecasting Methods"
      ]
    },
    {
      "cell_type": "markdown",
      "metadata": {
        "id": "jEustxeTa7Ub",
        "colab_type": "text"
      },
      "source": [
        "### Persistence"
      ]
    },
    {
      "cell_type": "code",
      "metadata": {
        "id": "uLxMBBLWa6du",
        "colab_type": "code",
        "colab": {}
      },
      "source": [
        "def persistence_forecast(train, test, step):\n",
        "    predictions = []\n",
        "    \n",
        "    for t in np.arange(0,len(test), step):\n",
        "        yhat = [test.iloc[t]]  * step\n",
        "        predictions.extend(yhat)\n",
        "        \n",
        "    return predictions"
      ],
      "execution_count": 0,
      "outputs": []
    },
    {
      "cell_type": "code",
      "metadata": {
        "id": "31nxRmc4bCYn",
        "colab_type": "code",
        "colab": {}
      },
      "source": [
        "step = 1\n",
        "persistence_order = 1\n",
        "\n",
        "forecast = persistence_forecast(train_df, test_df,step)"
      ],
      "execution_count": 0,
      "outputs": []
    },
    {
      "cell_type": "code",
      "metadata": {
        "id": "_QOLSofrbg_1",
        "colab_type": "code",
        "colab": {}
      },
      "source": [
        "calculate_rmse(test_df, forecast, persistence_order, step)"
      ],
      "execution_count": 0,
      "outputs": []
    },
    {
      "cell_type": "markdown",
      "metadata": {
        "id": "DdMi7e1scYu4",
        "colab_type": "text"
      },
      "source": [
        "### VAR"
      ]
    },
    {
      "cell_type": "code",
      "metadata": {
        "id": "1MxApA3Acf7m",
        "colab_type": "code",
        "colab": {}
      },
      "source": [
        "from statsmodels.tsa.api import VAR, DynamicVAR"
      ],
      "execution_count": 0,
      "outputs": []
    },
    {
      "cell_type": "code",
      "metadata": {
        "id": "7MpVUQPbKgYb",
        "colab_type": "code",
        "colab": {}
      },
      "source": [
        "def evaluate_VAR_models(test_name, train, validation,target, maxlags_list):\n",
        "    var_results = pd.DataFrame(columns=['Order','RMSE'])\n",
        "    best_score, best_cfg, best_model = float(\"inf\"), None, None\n",
        "    \n",
        "    for lgs in maxlags_list:\n",
        "        model = VAR(train)\n",
        "        results = model.fit(maxlags=lgs, ic='aic')\n",
        "        \n",
        "        order = results.k_ar\n",
        "        forecast = []\n",
        "\n",
        "        for i in range(len(validation)-order) :\n",
        "            forecast.extend(results.forecast(validation.values[i:i+order],1))\n",
        "\n",
        "        forecast_df = pd.DataFrame(columns=validation.columns, data=forecast)\n",
        "        rmse = Measures.rmse(validation[target].iloc[order:], forecast_df[target].values)\n",
        "\n",
        "        if rmse < best_score:\n",
        "            best_score, best_cfg, best_model = rmse, order, results\n",
        "\n",
        "        res = {'Order' : str(order) ,'RMSE' : rmse}\n",
        "        print('VAR (%s)  RMSE=%.3f' % (str(order),rmse))\n",
        "        var_results = var_results.append(res, ignore_index=True)\n",
        "        var_results.to_csv(test_name+\".csv\")\n",
        "        \n",
        "    print('Best VAR(%s) RMSE=%.3f' % (best_cfg, best_score))\n",
        "    return best_model"
      ],
      "execution_count": 0,
      "outputs": []
    },
    {
      "cell_type": "code",
      "metadata": {
        "id": "SK-a1a0ZcjBi",
        "colab_type": "code",
        "colab": {}
      },
      "source": [
        "def var_forecast(train, test, order, step):\n",
        "    model = VAR(train.values)\n",
        "    results = model.fit(maxlags=order)\n",
        "    lag_order = results.k_ar\n",
        "    print(\"Lag order:\" + str(lag_order))\n",
        "    forecast = []\n",
        "\n",
        "    for i in np.arange(0,len(test)-lag_order+1,step) :\n",
        "        forecast.extend(results.forecast(test.values[i:i+lag_order],step))\n",
        "\n",
        "    forecast_df = pd.DataFrame(columns=test.columns, data=forecast)\n",
        "    return forecast_df.values"
      ],
      "execution_count": 0,
      "outputs": []
    },
    {
      "cell_type": "code",
      "metadata": {
        "id": "YnAuyYY2Ku0M",
        "colab_type": "code",
        "colab": {}
      },
      "source": [
        "def rolling_cv_var(df, order, step):\n",
        "    forecasts = []\n",
        "\n",
        "    limit = df.index[-1].strftime('%Y-%m-%d')\n",
        "\n",
        "    test_end = \"\"\n",
        "    index = df.index[0]\n",
        "\n",
        "    while test_end < limit :\n",
        "        print(\"Index: \", index.strftime('%Y-%m-%d'))  \n",
        "\n",
        "        train_start, train_end, validation_start, validation_end, test_start, test_end = getRollingWindow(index)\n",
        "        index = index + datetime.timedelta(days=7)\n",
        "        \n",
        "        train = df[train_start : train_end]\n",
        "        validation = df[validation_start : validation_end]\n",
        "        test = df[test_start : test_end]\n",
        "    \n",
        "        # Concat train & validation for test\n",
        "        train = train.append(validation)\n",
        "        yhat = var_forecast(train, test, order, step)\n",
        "        \n",
        "        forecasts.append(yhat)\n",
        "\n",
        "    return forecasts"
      ],
      "execution_count": 0,
      "outputs": []
    },
    {
      "cell_type": "code",
      "metadata": {
        "id": "2ALT505EcomF",
        "colab_type": "code",
        "outputId": "88288bdf-7ed0-4c10-8015-d2d0fecb248e",
        "colab": {
          "base_uri": "https://localhost:8080/",
          "height": 1000
        }
      },
      "source": [
        "step = 1\n",
        "order = 4\n",
        "exp_name = \"BENCHMARK-2_1-VAR\"\n",
        "forecasts = rolling_cv_var(df, order, step)\n",
        "var_results_df = calculate_rolling_error(exp_name, df, forecasts, order)"
      ],
      "execution_count": 0,
      "outputs": [
        {
          "output_type": "stream",
          "text": [
            "Index:  2010-06-01\n",
            "Lag order:4\n",
            "Index:  2010-06-08\n",
            "Lag order:4\n",
            "Index:  2010-06-15\n",
            "Lag order:4\n",
            "Index:  2010-06-22\n",
            "Lag order:4\n",
            "Index:  2010-06-29\n",
            "Lag order:4\n",
            "Index:  2010-07-06\n",
            "Lag order:4\n",
            "Index:  2010-07-13\n",
            "Lag order:4\n",
            "Index:  2010-07-20\n",
            "Lag order:4\n",
            "Index:  2010-07-27\n",
            "Lag order:4\n",
            "Index:  2010-08-03\n",
            "Lag order:4\n",
            "Index:  2010-08-10\n",
            "Lag order:4\n",
            "Index:  2010-08-17\n",
            "Lag order:4\n",
            "Index:  2010-08-24\n",
            "Lag order:4\n",
            "Index:  2010-08-31\n",
            "Lag order:4\n",
            "Index:  2010-09-07\n",
            "Lag order:4\n",
            "Index:  2010-09-14\n",
            "Lag order:4\n",
            "Index:  2010-09-21\n",
            "Lag order:4\n",
            "Index:  2010-09-28\n",
            "Lag order:4\n",
            "Index:  2010-10-05\n",
            "Lag order:4\n",
            "Index:  2010-10-12\n",
            "Lag order:4\n",
            "Index:  2010-10-19\n",
            "Lag order:4\n",
            "Index:  2010-10-26\n",
            "Lag order:4\n",
            "Index:  2010-11-02\n",
            "Lag order:4\n",
            "Index:  2010-11-09\n",
            "Lag order:4\n",
            "Index:  2010-11-16\n",
            "Lag order:4\n",
            "Index:  2010-11-23\n",
            "Lag order:4\n",
            "Index:  2010-11-30\n",
            "Lag order:4\n",
            "Index:  2010-12-07\n",
            "Lag order:4\n",
            "Index:  2010-12-14\n",
            "Lag order:4\n",
            "Index:  2010-12-21\n",
            "Lag order:4\n",
            "Index:  2010-12-28\n",
            "Lag order:4\n",
            "Index:  2011-01-04\n",
            "Lag order:4\n",
            "Index:  2011-01-11\n",
            "Lag order:4\n",
            "Index:  2011-01-18\n",
            "Lag order:4\n",
            "Index:  2011-01-25\n",
            "Lag order:4\n",
            "Index:  2011-02-01\n",
            "Lag order:4\n",
            "Index:  2011-02-08\n",
            "Lag order:4\n",
            "Index:  2011-02-15\n",
            "Lag order:4\n",
            "Index:  2011-02-22\n",
            "Lag order:4\n",
            "Index:  2011-03-01\n",
            "Lag order:4\n",
            "Index:  2011-03-08\n",
            "Lag order:4\n",
            "Index:  2011-03-15\n",
            "Lag order:4\n",
            "Index:  2011-03-22\n",
            "Lag order:4\n",
            "Index:  2011-03-29\n",
            "Lag order:4\n",
            "Index:  2011-04-05\n",
            "Lag order:4\n",
            "Index:  2011-04-12\n",
            "Lag order:4\n",
            "Index:  2011-04-19\n",
            "Lag order:4\n",
            "Index:  2011-04-26\n",
            "Lag order:4\n",
            "Index:  2011-05-03\n",
            "Lag order:4\n"
          ],
          "name": "stdout"
        }
      ]
    },
    {
      "cell_type": "code",
      "metadata": {
        "id": "QzigtkZ-Repi",
        "colab_type": "code",
        "colab": {}
      },
      "source": [
        "files.download('BENCHMARK-2_1-VAR.csv')"
      ],
      "execution_count": 0,
      "outputs": []
    },
    {
      "cell_type": "markdown",
      "metadata": {
        "id": "WCvsy-tHdTuN",
        "colab_type": "text"
      },
      "source": [
        "### e-MVFTS"
      ]
    },
    {
      "cell_type": "code",
      "metadata": {
        "id": "lCx9NiYEjSZr",
        "colab_type": "code",
        "colab": {}
      },
      "source": [
        "from spatiotemporal.models.clusteredmvfts.fts import evolvingclusterfts"
      ],
      "execution_count": 0,
      "outputs": []
    },
    {
      "cell_type": "code",
      "metadata": {
        "id": "iq9njQOmdtHU",
        "colab_type": "code",
        "colab": {}
      },
      "source": [
        "def evolvingfts_forecast(train_df, test_df, _order, train_model=True):\n",
        "\n",
        "    _variance_limit = 0.001\n",
        "    _defuzzy = 'weighted'\n",
        "    _t_norm = 'threshold'\n",
        "    _membership_threshold = 0.6\n",
        "    _order = 2\n",
        "    _step = 1\n",
        "\n",
        "    model = evolvingclusterfts.EvolvingClusterFTS(variance_limit=_variance_limit, defuzzy=_defuzzy, t_norm=_t_norm,\n",
        "                                                  membership_threshold=_membership_threshold)\n",
        "\n",
        "    model.fit(train_df.values, order=_order, verbose=False)\n",
        "\n",
        "    forecast = model.predict(test_df.values, steps_ahead=_step)\n",
        "\n",
        "    forecast_df = pd.DataFrame(data=forecast, columns=test_df.columns)\n",
        "    return forecast_df.values"
      ],
      "execution_count": 0,
      "outputs": []
    },
    {
      "cell_type": "code",
      "metadata": {
        "id": "NNFgSmALkRra",
        "colab_type": "code",
        "colab": {}
      },
      "source": [
        "def rolling_cv_evolving(df, order, step):\n",
        "    forecasts = []\n",
        "\n",
        "    limit = df.index[-1].strftime('%Y-%m-%d')\n",
        "\n",
        "    test_end = \"\"\n",
        "    index = df.index[0]\n",
        "\n",
        "    first_time = True\n",
        "\n",
        "    while test_end < limit :\n",
        "        print(\"Index: \", index.strftime('%Y-%m-%d'))  \n",
        "\n",
        "        train_start, train_end, validation_start, validation_end, test_start, test_end = getRollingWindow(index)\n",
        "        index = index + datetime.timedelta(days=7)\n",
        "        \n",
        "        train = df[train_start : train_end]\n",
        "        validation = df[validation_start : validation_end]\n",
        "        test = df[test_start : test_end]\n",
        "    \n",
        "        # Concat train & validation for test\n",
        "        train = train.append(validation)\n",
        "        yhat = list(evolvingfts_forecast(train, test, order, train_model=first_time))\n",
        "        #yhat.append(yhat[-1]) #para manter o formato do vetor de metricas\n",
        "        forecasts.append(yhat)\n",
        "\n",
        "        first_time = False\n",
        "\n",
        "    return forecasts"
      ],
      "execution_count": 0,
      "outputs": []
    },
    {
      "cell_type": "code",
      "metadata": {
        "id": "V22qahE0kAX0",
        "colab_type": "code",
        "outputId": "bb5ff571-868b-462e-903a-4ea7c69a72dd",
        "colab": {
          "base_uri": "https://localhost:8080/",
          "height": 850
        }
      },
      "source": [
        "step = 1\n",
        "evolfts_order = 2\n",
        "exp_name = \"BENCHMARK-2_1-EVOLVING\"\n",
        "forecasts = rolling_cv_evolving(df, evolfts_order, step)\n",
        "evolving_results_df = calculate_rolling_error(exp_name, df, forecasts, evolfts_order)"
      ],
      "execution_count": 0,
      "outputs": [
        {
          "output_type": "stream",
          "text": [
            "Index:  2010-06-01\n",
            "Index:  2010-06-08\n",
            "Index:  2010-06-15\n",
            "Index:  2010-06-22\n",
            "Index:  2010-06-29\n",
            "Index:  2010-07-06\n",
            "Index:  2010-07-13\n",
            "Index:  2010-07-20\n",
            "Index:  2010-07-27\n",
            "Index:  2010-08-03\n",
            "Index:  2010-08-10\n",
            "Index:  2010-08-17\n",
            "Index:  2010-08-24\n",
            "Index:  2010-08-31\n",
            "Index:  2010-09-07\n",
            "Index:  2010-09-14\n",
            "Index:  2010-09-21\n",
            "Index:  2010-09-28\n",
            "Index:  2010-10-05\n",
            "Index:  2010-10-12\n",
            "Index:  2010-10-19\n",
            "Index:  2010-10-26\n",
            "Index:  2010-11-02\n",
            "Index:  2010-11-09\n",
            "Index:  2010-11-16\n",
            "Index:  2010-11-23\n",
            "Index:  2010-11-30\n",
            "Index:  2010-12-07\n",
            "Index:  2010-12-14\n",
            "Index:  2010-12-21\n",
            "Index:  2010-12-28\n",
            "Index:  2011-01-04\n",
            "Index:  2011-01-11\n",
            "Index:  2011-01-18\n",
            "Index:  2011-01-25\n",
            "Index:  2011-02-01\n",
            "Index:  2011-02-08\n",
            "Index:  2011-02-15\n",
            "Index:  2011-02-22\n",
            "Index:  2011-03-01\n",
            "Index:  2011-03-08\n",
            "Index:  2011-03-15\n",
            "Index:  2011-03-22\n",
            "Index:  2011-03-29\n",
            "Index:  2011-04-05\n",
            "Index:  2011-04-12\n",
            "Index:  2011-04-19\n",
            "Index:  2011-04-26\n",
            "Index:  2011-05-03\n"
          ],
          "name": "stdout"
        }
      ]
    },
    {
      "cell_type": "code",
      "metadata": {
        "id": "M-_n_uWMjPw7",
        "colab_type": "code",
        "colab": {}
      },
      "source": [
        "files.download('BENCHMARK-2_1-EVOLVING.csv')"
      ],
      "execution_count": 0,
      "outputs": []
    },
    {
      "cell_type": "markdown",
      "metadata": {
        "id": "8lbu8aLan_Yt",
        "colab_type": "text"
      },
      "source": [
        "### MLP"
      ]
    },
    {
      "cell_type": "code",
      "metadata": {
        "id": "LwBHQp9er2BG",
        "colab_type": "code",
        "colab": {}
      },
      "source": [
        "from keras.models import Sequential\n",
        "from keras.layers import Dense\n",
        "from keras.layers import LSTM\n",
        "from keras.layers import Dropout\n",
        "from keras.constraints import maxnorm\n",
        "from keras.models import Sequential\n",
        "from keras.layers.core import Dense, Dropout, Activation\n",
        "from keras.layers.normalization import BatchNormalization"
      ],
      "execution_count": 0,
      "outputs": []
    },
    {
      "cell_type": "code",
      "metadata": {
        "id": "OhmFnGmHoB5X",
        "colab_type": "code",
        "colab": {}
      },
      "source": [
        "# convert series to supervised learning\n",
        "def series_to_supervised(data, n_in=1, n_out=1, dropnan=True):\n",
        "    n_vars = 1 if type(data) is list else data.shape[1]\n",
        "    df = pd.DataFrame(data)\n",
        "    cols, names = list(), list()\n",
        "    # input sequence (t-n, ... t-1)\n",
        "    for i in range(n_in, 0, -1):\n",
        "        cols.append(df.shift(i))\n",
        "        names += [('var%d(t-%d)' % (j+1, i)) for j in range(n_vars)]\n",
        "    # forecast sequence (t, t+1, ... t+n)\n",
        "    for i in range(0, n_out):\n",
        "        cols.append(df.shift(-i))\n",
        "        if i == 0:\n",
        "            names += [('var%d(t)' % (j+1)) for j in range(n_vars)]\n",
        "        else:\n",
        "            names += [('var%d(t+%d)' % (j+1, i)) for j in range(n_vars)]\n",
        "    # put it all together\n",
        "    agg = pd.concat(cols, axis=1)\n",
        "    agg.columns = names\n",
        "    # drop rows with NaN values\n",
        "    if dropnan:\n",
        "        agg.dropna(inplace=True)\n",
        "    return agg"
      ],
      "execution_count": 0,
      "outputs": []
    },
    {
      "cell_type": "markdown",
      "metadata": {
        "id": "M67t6lilUlYC",
        "colab_type": "text"
      },
      "source": [
        "#### MLP Parameter Tuning"
      ]
    },
    {
      "cell_type": "code",
      "metadata": {
        "id": "nJBFQgGhU_0z",
        "colab_type": "code",
        "colab": {}
      },
      "source": [
        "from spatiotemporal.test import methods_space_oahu as ms\n",
        "from spatiotemporal.util import parameter_tuning, sampling\n",
        "from spatiotemporal.util import experiments as ex\n",
        "from sklearn.metrics import mean_squared_error\n",
        "from hyperopt import hp\n",
        "import numpy as np"
      ],
      "execution_count": 0,
      "outputs": []
    },
    {
      "cell_type": "code",
      "metadata": {
        "id": "YNRVPkeDUzu3",
        "colab_type": "code",
        "colab": {}
      },
      "source": [
        "mlp_space = {'choice':\n",
        "\n",
        "   hp.choice('num_layers',\n",
        "             [\n",
        "                 {'layers': 'two',\n",
        "                 },\n",
        "\n",
        "                 {'layers': 'three',\n",
        "\n",
        "                   'units3': hp.choice('units3', [8, 16, 64, 128, 256, 512]),\n",
        "                   'dropout3': hp.choice('dropout3', [0, 0.25, 0.5, 0.75])\n",
        "                  }\n",
        "\n",
        "             ]),\n",
        "   'units1': hp.choice('units1', [8, 16, 64, 128, 256, 512]),\n",
        "   'units2': hp.choice('units2', [8, 16, 64, 128, 256, 512]),\n",
        "\n",
        "   'dropout1': hp.choice('dropout1', [0, 0.25, 0.5, 0.75]),\n",
        "   'dropout2': hp.choice('dropout2', [0, 0.25, 0.5, 0.75]),\n",
        "\n",
        "   'batch_size': hp.choice('batch_size', [28, 64, 128, 256, 512]),\n",
        "   'order': hp.choice('order', [1, 2, 3]),\n",
        "   'input': hp.choice('input', [along_wind_distances]),\n",
        "   'output': hp.choice('output', [along_wind_distances]),\n",
        "   'epochs': hp.choice('epochs', [100, 200, 300])}\n"
      ],
      "execution_count": 0,
      "outputs": []
    },
    {
      "cell_type": "code",
      "metadata": {
        "id": "aeB6ImDOVGsY",
        "colab_type": "code",
        "colab": {}
      },
      "source": [
        "def mlp_tuning(train_df, test_df, params):\n",
        "    _input = list(params['input'])\n",
        "    _nlags = params['order']\n",
        "    _epochs = params['epochs']\n",
        "    _batch_size = params['batch_size']\n",
        "    nfeat = len(_input)\n",
        "    nsteps = params.get('step',1)\n",
        "    nobs = _nlags * nfeat\n",
        "\n",
        "    output_index = -nfeat*nsteps\n",
        "\n",
        "    train_reshaped_df = series_to_supervised(train_df[_input], n_in=_nlags, n_out=nsteps)\n",
        "    train_X, train_Y = train_reshaped_df.iloc[:, :nobs].values, train_reshaped_df.iloc[:, output_index:].values\n",
        "\n",
        "    test_reshaped_df = series_to_supervised(test_df[_input], n_in=_nlags, n_out=nsteps)\n",
        "    test_X, test_Y = test_reshaped_df.iloc[:, :nobs].values, test_reshaped_df.iloc[:, output_index:].values\n",
        "\n",
        "    # design network\n",
        "    model = Sequential()\n",
        "    model.add(Dense(params['units1'], input_dim=train_X.shape[1], activation='relu'))\n",
        "    model.add(Dropout(params['dropout1']))\n",
        "    model.add(BatchNormalization())\n",
        "\n",
        "    model.add(Dense(params['units2'], activation='relu'))\n",
        "    model.add(Dropout(params['dropout2']))\n",
        "    model.add(BatchNormalization())\n",
        "\n",
        "    if params['choice']['layers'] == 'three':\n",
        "        model.add(Dense(params['choice']['units3'], activation='relu'))\n",
        "        model.add(Dropout(params['choice']['dropout3']))\n",
        "        model.add(BatchNormalization())\n",
        "\n",
        "    model.add(Dense(train_Y.shape[1], activation='sigmoid'))\n",
        "    model.compile(loss='mse', optimizer='adam')\n",
        "\n",
        "    # includes the call back object\n",
        "    model.fit(train_X, train_Y, epochs=_epochs, batch_size=_batch_size, verbose=False, shuffle=False)\n",
        "\n",
        "    # predict the test set\n",
        "    forecast = model.predict(test_X, verbose=False)\n",
        "\n",
        "    return forecast\n"
      ],
      "execution_count": 0,
      "outputs": []
    },
    {
      "cell_type": "code",
      "metadata": {
        "id": "_hhhH5pYVRh0",
        "colab_type": "code",
        "outputId": "cc46fa06-7f3e-47ce-b6f7-e9afacb777af",
        "colab": {
          "base_uri": "https://localhost:8080/",
          "height": 180
        }
      },
      "source": [
        "methods = []\n",
        "methods.append((\"EXP_WIND_MLP\", mlp_tuning, mlp_space))"
      ],
      "execution_count": 0,
      "outputs": [
        {
          "output_type": "error",
          "ename": "NameError",
          "evalue": "ignored",
          "traceback": [
            "\u001b[0;31m---------------------------------------------------------------------------\u001b[0m",
            "\u001b[0;31mNameError\u001b[0m                                 Traceback (most recent call last)",
            "\u001b[0;32m<ipython-input-24-7a5a05fe4294>\u001b[0m in \u001b[0;36m<module>\u001b[0;34m()\u001b[0m\n\u001b[1;32m      1\u001b[0m \u001b[0mmethods\u001b[0m \u001b[0;34m=\u001b[0m \u001b[0;34m[\u001b[0m\u001b[0;34m]\u001b[0m\u001b[0;34m\u001b[0m\u001b[0;34m\u001b[0m\u001b[0m\n\u001b[0;32m----> 2\u001b[0;31m \u001b[0mmethods\u001b[0m\u001b[0;34m.\u001b[0m\u001b[0mappend\u001b[0m\u001b[0;34m(\u001b[0m\u001b[0;34m(\u001b[0m\u001b[0;34m\"EXP_WIND_MLP\"\u001b[0m\u001b[0;34m,\u001b[0m \u001b[0mmlp_tuning\u001b[0m\u001b[0;34m,\u001b[0m \u001b[0mmlp_space\u001b[0m\u001b[0;34m)\u001b[0m\u001b[0;34m)\u001b[0m\u001b[0;34m\u001b[0m\u001b[0;34m\u001b[0m\u001b[0m\n\u001b[0m",
            "\u001b[0;31mNameError\u001b[0m: name 'mlp_tuning' is not defined"
          ]
        }
      ]
    },
    {
      "cell_type": "code",
      "metadata": {
        "id": "LngLs_6JVZFG",
        "colab_type": "code",
        "colab": {}
      },
      "source": [
        "train_split = 0.6\n",
        "run_search(methods, df, train_split, Measures.rmse, max_evals=100, resample=None)"
      ],
      "execution_count": 0,
      "outputs": []
    },
    {
      "cell_type": "markdown",
      "metadata": {
        "id": "DZ9toU2mVac2",
        "colab_type": "text"
      },
      "source": [
        "#### MLP Forecasting"
      ]
    },
    {
      "cell_type": "code",
      "metadata": {
        "id": "5oahrWS9r-zE",
        "colab_type": "code",
        "colab": {}
      },
      "source": [
        "def mlp_multi_forecast(train_df, test_df, _order, _steps):\n",
        "\n",
        "    \n",
        "    nfeat = len(train_df.columns)\n",
        "    nlags = _order\n",
        "    nsteps = _steps\n",
        "    nobs = nlags * nfeat\n",
        "\n",
        "    output_index = -nfeat*nsteps\n",
        "\n",
        "    train_reshaped_df = series_to_supervised(train_df, n_in=nlags, n_out=nsteps)\n",
        "    train_X, train_Y = train_reshaped_df.iloc[:, :nobs].values, train_reshaped_df.iloc[:, output_index:].values\n",
        "\n",
        "    test_reshaped_df = series_to_supervised(test_df, n_in=nlags, n_out=nsteps)\n",
        "    test_X, test_Y = test_reshaped_df.iloc[:, :nobs].values, test_reshaped_df.iloc[:, output_index:].values\n",
        "    \n",
        "    # design network\n",
        "    model = designMLPNetwork(train_X.shape[1], train_Y.shape[1])\n",
        "    \n",
        "    # fit network\n",
        "    model.fit(train_X, train_Y, epochs=500, batch_size=1000, verbose=False, shuffle=False)\n",
        "    \n",
        "    forecast = model.predict(test_X)\n",
        "    \n",
        "#    fcst = [f[0] for f in forecast]\n",
        "    fcst = forecast\n",
        "    return fcst"
      ],
      "execution_count": 0,
      "outputs": []
    },
    {
      "cell_type": "code",
      "metadata": {
        "id": "c4ZEEfNLsJp6",
        "colab_type": "code",
        "colab": {}
      },
      "source": [
        "def designMLPNetwork(input_shape, output_shape):\n",
        "    params = {'batch_size': 128, 'choice': {'layers': 'two'}, 'dropout1': 0, 'dropout2': 0.25, 'epochs': 300, \n",
        "              'input': along_wind_distances, 'order': 3, 'output': along_wind_distances, \n",
        "              'units1': 128, 'units2': 256}\n",
        "    model = Sequential()\n",
        "    model.add(Dense(params['units1'], input_dim=input_shape, activation='relu'))\n",
        "    model.add(Dropout(params['dropout1']))\n",
        "    model.add(BatchNormalization())\n",
        "\n",
        "    model.add(Dense(params['units2'], activation='relu'))\n",
        "    model.add(Dropout(params['dropout2']))\n",
        "    model.add(BatchNormalization())\n",
        "\n",
        "    if params['choice']['layers'] == 'three':\n",
        "        model.add(Dense(params['choice']['units3'], activation='relu'))\n",
        "        model.add(Dropout(params['choice']['dropout3']))\n",
        "        model.add(BatchNormalization())\n",
        "\n",
        "    model.add(Dense(output_shape, activation='sigmoid'))\n",
        "    model.compile(loss='mse', optimizer='adam')\n",
        "\n",
        "    return model"
      ],
      "execution_count": 0,
      "outputs": []
    },
    {
      "cell_type": "code",
      "metadata": {
        "id": "t8btj2aDsVyk",
        "colab_type": "code",
        "colab": {}
      },
      "source": [
        "def rolling_cv_mlp(df, order, step):\n",
        "    \n",
        "    forecasts = []\n",
        "\n",
        "    limit = df.index[-1].strftime('%Y-%m-%d')\n",
        "\n",
        "    test_end = \"\"\n",
        "    index = df.index[0]\n",
        "\n",
        "    while test_end < limit :\n",
        "        print(\"Index: \", index.strftime('%Y-%m-%d'))  \n",
        "\n",
        "        train_start, train_end, validation_start, validation_end, test_start, test_end = getRollingWindow(index)\n",
        "        index = index + datetime.timedelta(days=7)\n",
        "        \n",
        "        train = df[train_start : train_end]\n",
        "        validation = df[validation_start : validation_end]\n",
        "        test = df[test_start : test_end]\n",
        "\n",
        "        # Perform grid search\n",
        "#        (_neurons, _order,epochs) = evaluate_multivariate_mlp_models(\"nested_eval_mlp_multi_oahu\", train[neighbor_stations_90], validation[neighbor_stations_90], neurons_list, order_list, epochs_list)\n",
        "\n",
        "        # Concat train & validation for test\n",
        "        train = train.append(validation)\n",
        "\n",
        "        # Perform forecast\n",
        "        yhat = list(mlp_multi_forecast(train, test, order, 1))\n",
        "        \n",
        "        yhat.append(yhat[-1]) #para manter o formato do vetor de metricas\n",
        "        \n",
        "        forecasts.append(yhat)\n",
        "\n",
        "    return forecasts"
      ],
      "execution_count": 0,
      "outputs": []
    },
    {
      "cell_type": "code",
      "metadata": {
        "id": "pVEGpB98sq23",
        "colab_type": "code",
        "outputId": "7af258d1-2364-44cf-b45e-4504776f4b7b",
        "colab": {
          "base_uri": "https://localhost:8080/",
          "height": 850
        }
      },
      "source": [
        "step = 1\n",
        "order = 2\n",
        "exp_name = \"BENCHMARK-2_1-MLP\"\n",
        "forecasts = rolling_cv_mlp(df, order, step)\n",
        "mlp_results_df = calculate_rolling_error(exp_name, df, forecasts, order)"
      ],
      "execution_count": 0,
      "outputs": [
        {
          "output_type": "stream",
          "text": [
            "Index:  2010-06-01\n",
            "Index:  2010-06-08\n",
            "Index:  2010-06-15\n",
            "Index:  2010-06-22\n",
            "Index:  2010-06-29\n",
            "Index:  2010-07-06\n",
            "Index:  2010-07-13\n",
            "Index:  2010-07-20\n",
            "Index:  2010-07-27\n",
            "Index:  2010-08-03\n",
            "Index:  2010-08-10\n",
            "Index:  2010-08-17\n",
            "Index:  2010-08-24\n",
            "Index:  2010-08-31\n",
            "Index:  2010-09-07\n",
            "Index:  2010-09-14\n",
            "Index:  2010-09-21\n",
            "Index:  2010-09-28\n",
            "Index:  2010-10-05\n",
            "Index:  2010-10-12\n",
            "Index:  2010-10-19\n",
            "Index:  2010-10-26\n",
            "Index:  2010-11-02\n",
            "Index:  2010-11-09\n",
            "Index:  2010-11-16\n",
            "Index:  2010-11-23\n",
            "Index:  2010-11-30\n",
            "Index:  2010-12-07\n",
            "Index:  2010-12-14\n",
            "Index:  2010-12-21\n",
            "Index:  2010-12-28\n",
            "Index:  2011-01-04\n",
            "Index:  2011-01-11\n",
            "Index:  2011-01-18\n",
            "Index:  2011-01-25\n",
            "Index:  2011-02-01\n",
            "Index:  2011-02-08\n",
            "Index:  2011-02-15\n",
            "Index:  2011-02-22\n",
            "Index:  2011-03-01\n",
            "Index:  2011-03-08\n",
            "Index:  2011-03-15\n",
            "Index:  2011-03-22\n",
            "Index:  2011-03-29\n",
            "Index:  2011-04-05\n",
            "Index:  2011-04-12\n",
            "Index:  2011-04-19\n",
            "Index:  2011-04-26\n",
            "Index:  2011-05-03\n"
          ],
          "name": "stdout"
        }
      ]
    },
    {
      "cell_type": "code",
      "metadata": {
        "id": "7nKc-SoUG7Ob",
        "colab_type": "code",
        "colab": {}
      },
      "source": [
        "files.download('BENCHMARK-2_1-MLP.csv')"
      ],
      "execution_count": 0,
      "outputs": []
    },
    {
      "cell_type": "markdown",
      "metadata": {
        "id": "8TrCf5o3wRtf",
        "colab_type": "text"
      },
      "source": [
        "### Granular FTS"
      ]
    },
    {
      "cell_type": "code",
      "metadata": {
        "id": "8XLpD3ADwUKl",
        "colab_type": "code",
        "colab": {}
      },
      "source": [
        "from pyFTS.models.multivariate import granular\n",
        "from pyFTS.partitioners import Grid, Entropy\n",
        "from pyFTS.models.multivariate import variable\n",
        "from pyFTS.common import Membership\n",
        "from pyFTS.partitioners import Grid, Entropy"
      ],
      "execution_count": 0,
      "outputs": []
    },
    {
      "cell_type": "markdown",
      "metadata": {
        "id": "Sy91cSv-bPe-",
        "colab_type": "text"
      },
      "source": [
        "#### Granular Parameter Tuning"
      ]
    },
    {
      "cell_type": "code",
      "metadata": {
        "id": "VSznTw3qdZm5",
        "colab_type": "code",
        "colab": {}
      },
      "source": [
        "granular_space = {\n",
        "    'npartitions': hp.choice('npartitions', [100, 150, 200]),\n",
        "    'order': hp.choice('order', [1, 2]),\n",
        "    'knn': hp.choice('knn', [1, 2, 3, 4, 5]),\n",
        "    'alpha_cut': hp.choice('alpha_cut', [0, 0.1, 0.2, 0.3]),\n",
        "   'input': hp.choice('input', [['DHHL_4','DHHL_3','DHHL_5']]),\n",
        "   'output': hp.choice('output', [['DHHL_4','DHHL_3','DHHL_5']])}"
      ],
      "execution_count": 0,
      "outputs": []
    },
    {
      "cell_type": "code",
      "metadata": {
        "id": "pDf07Ua7bOkd",
        "colab_type": "code",
        "colab": {}
      },
      "source": [
        "def granular_tuning(train_df, test_df, params):\n",
        "    _input = list(params['input'])\n",
        "    _output = list(params['output'])\n",
        "    _npartitions = params['npartitions']\n",
        "    _order = params['order']\n",
        "    _knn = params['knn']\n",
        "    _alpha_cut = params['alpha_cut']\n",
        "    _step = params.get('step',1)\n",
        "\n",
        "    ## create explanatory variables\n",
        "    exp_variables = []\n",
        "    for vc in _input:\n",
        "        exp_variables.append(variable.Variable(vc, data_label=vc, alias=vc,\n",
        "                                               npart=_npartitions, func=Membership.trimf,\n",
        "                                               data=train_df, alpha_cut=_alpha_cut))\n",
        "    model = granular.GranularWMVFTS(explanatory_variables=exp_variables, target_variable=exp_variables[0], order=_order,\n",
        "                                    knn=_knn)\n",
        "    model.fit(train_df[_input], num_batches=1)\n",
        "\n",
        "    if _step > 1:\n",
        "        forecast = pd.DataFrame(columns=test_df.columns)\n",
        "        length = len(test_df.index)\n",
        "\n",
        "        for k in range(0,(length -(_order + _step - 1))):\n",
        "            fcst = model.predict(test_df[_input], type='multivariate', start_at=k, steps_ahead=_step)\n",
        "            forecast = forecast.append(fcst.tail(1))\n",
        "    else:\n",
        "        forecast = model.predict(test_df[_input], type='multivariate')\n",
        "\n",
        "    return forecast[_output].values\n"
      ],
      "execution_count": 0,
      "outputs": []
    },
    {
      "cell_type": "code",
      "metadata": {
        "id": "LJ9SITzDdM4K",
        "colab_type": "code",
        "colab": {}
      },
      "source": [
        "methods = []\n",
        "methods.append((\"EXP_WIND_GRANULAR\", granular_tuning, granular_space))"
      ],
      "execution_count": 0,
      "outputs": []
    },
    {
      "cell_type": "code",
      "metadata": {
        "id": "OnCvUcmOdlQw",
        "colab_type": "code",
        "colab": {}
      },
      "source": [
        "train_split = 0.6\n",
        "run_search(methods, df, train_split, Measures.rmse, max_evals=10, resample=None)"
      ],
      "execution_count": 0,
      "outputs": []
    },
    {
      "cell_type": "markdown",
      "metadata": {
        "id": "5FZfm7NjbVc0",
        "colab_type": "text"
      },
      "source": [
        "#### Granular Forecasting"
      ]
    },
    {
      "cell_type": "code",
      "metadata": {
        "id": "c2bZmI1obYUh",
        "colab_type": "code",
        "colab": {}
      },
      "source": [
        "def granular_forecast(train_df, test_df, order, step):\n",
        "    params = {'alpha_cut': 0.2, 'input': ('DHHL_4', 'DHHL_3', 'DHHL_5'), 'knn': 5, 'npartitions': 150, \n",
        "              'order': 2, 'output': ('DHHL_4', 'DHHL_3', 'DHHL_5')}\n",
        "\n",
        "    _input = list(params['input'])\n",
        "    _output = list(params['output'])\n",
        "    _npartitions = params['npartitions']\n",
        "    _knn = params['knn']\n",
        "    _alpha_cut = params['alpha_cut']\n",
        "    _order = order\n",
        "    _step = step\n",
        "\n",
        "    ## create explanatory variables\n",
        "    exp_variables = []\n",
        "    for vc in _input:\n",
        "        exp_variables.append(variable.Variable(vc, data_label=vc, alias=vc,\n",
        "                                               npart=_npartitions, func=Membership.trimf,\n",
        "                                               data=train_df, alpha_cut=_alpha_cut))\n",
        "    model = granular.GranularWMVFTS(explanatory_variables=exp_variables, target_variable=exp_variables[0], order=_order,\n",
        "                                    knn=_knn)\n",
        "    model.fit(train_df[_input], num_batches=1)\n",
        "\n",
        "    if _step > 1:\n",
        "        forecast = pd.DataFrame(columns=test_df.columns)\n",
        "        length = len(test_df.index)\n",
        "\n",
        "        for k in range(0,(length -(_order + _step - 1))):\n",
        "            fcst = model.predict(test_df[_input], type='multivariate', start_at=k, steps_ahead=_step)\n",
        "            forecast = forecast.append(fcst.tail(1))\n",
        "    else:\n",
        "        forecast = model.predict(test_df[_input], type='multivariate')\n",
        "\n",
        "    return forecast[_output].values\n"
      ],
      "execution_count": 0,
      "outputs": []
    },
    {
      "cell_type": "code",
      "metadata": {
        "id": "zRRkdE-Jg4X1",
        "colab_type": "code",
        "colab": {}
      },
      "source": [
        "def rolling_cv_granular(df, order, step):\n",
        "    \n",
        "    forecasts = []\n",
        "\n",
        "    limit = df.index[-1].strftime('%Y-%m-%d')\n",
        "\n",
        "    test_end = \"\"\n",
        "    index = df.index[0]\n",
        "\n",
        "    while test_end < limit :\n",
        "        print(\"Index: \", index.strftime('%Y-%m-%d'))  \n",
        "\n",
        "        train_start, train_end, validation_start, validation_end, test_start, test_end = getRollingWindow(index)\n",
        "        index = index + datetime.timedelta(days=7)\n",
        "        \n",
        "        train = df[train_start : train_end]\n",
        "        validation = df[validation_start : validation_end]\n",
        "        test = df[test_start : test_end]\n",
        "\n",
        "        # Perform grid search\n",
        "#        (_neurons, _order,epochs) = evaluate_multivariate_granular_models(\"nested_eval_mlp_multi_oahu\", train[neighbor_stations_90], validation[neighbor_stations_90], neurons_list, order_list, epochs_list)\n",
        "\n",
        "        # Concat train & validation for test\n",
        "        train = train.append(validation)\n",
        "\n",
        "        # Perform forecast\n",
        "        yhat = list(granular_forecast(train, test, order, step))\n",
        "        \n",
        "        yhat.append(yhat[-1]) #para manter o formato do vetor de metricas\n",
        "        \n",
        "        forecasts.append(yhat)\n",
        "\n",
        "    return forecasts"
      ],
      "execution_count": 0,
      "outputs": []
    },
    {
      "cell_type": "code",
      "metadata": {
        "id": "urdNlVDjmQoV",
        "colab_type": "code",
        "outputId": "2ccbaaa4-6278-47b0-cf3d-a9ba911511d0",
        "colab": {
          "base_uri": "https://localhost:8080/",
          "height": 850
        }
      },
      "source": [
        "step = 1\n",
        "order = 2\n",
        "exp_name = \"BENCHMARK-2_1-GRANULAR\"\n",
        "forecasts = rolling_cv_granular(df, order, step)\n",
        "granular_results_df = calculate_rolling_error(exp_name, df[['DHHL_4', 'DHHL_3', 'DHHL_5']], forecasts, order)"
      ],
      "execution_count": 0,
      "outputs": [
        {
          "output_type": "stream",
          "text": [
            "Index:  2010-06-01\n",
            "Index:  2010-06-08\n",
            "Index:  2010-06-15\n",
            "Index:  2010-06-22\n",
            "Index:  2010-06-29\n",
            "Index:  2010-07-06\n",
            "Index:  2010-07-13\n",
            "Index:  2010-07-20\n",
            "Index:  2010-07-27\n",
            "Index:  2010-08-03\n",
            "Index:  2010-08-10\n",
            "Index:  2010-08-17\n",
            "Index:  2010-08-24\n",
            "Index:  2010-08-31\n",
            "Index:  2010-09-07\n",
            "Index:  2010-09-14\n",
            "Index:  2010-09-21\n",
            "Index:  2010-09-28\n",
            "Index:  2010-10-05\n",
            "Index:  2010-10-12\n",
            "Index:  2010-10-19\n",
            "Index:  2010-10-26\n",
            "Index:  2010-11-02\n",
            "Index:  2010-11-09\n",
            "Index:  2010-11-16\n",
            "Index:  2010-11-23\n",
            "Index:  2010-11-30\n",
            "Index:  2010-12-07\n",
            "Index:  2010-12-14\n",
            "Index:  2010-12-21\n",
            "Index:  2010-12-28\n",
            "Index:  2011-01-04\n",
            "Index:  2011-01-11\n",
            "Index:  2011-01-18\n",
            "Index:  2011-01-25\n",
            "Index:  2011-02-01\n",
            "Index:  2011-02-08\n",
            "Index:  2011-02-15\n",
            "Index:  2011-02-22\n",
            "Index:  2011-03-01\n",
            "Index:  2011-03-08\n",
            "Index:  2011-03-15\n",
            "Index:  2011-03-22\n",
            "Index:  2011-03-29\n",
            "Index:  2011-04-05\n",
            "Index:  2011-04-12\n",
            "Index:  2011-04-19\n",
            "Index:  2011-04-26\n",
            "Index:  2011-05-03\n"
          ],
          "name": "stdout"
        }
      ]
    },
    {
      "cell_type": "code",
      "metadata": {
        "id": "yhEjDeFNfS_w",
        "colab_type": "code",
        "colab": {}
      },
      "source": [
        "files.download('BENCHMARK-2_1-GRANULAR.csv')"
      ],
      "execution_count": 0,
      "outputs": []
    },
    {
      "cell_type": "markdown",
      "metadata": {
        "id": "8lFQJ2-BU9aK",
        "colab_type": "text"
      },
      "source": [
        "## Result Analysis"
      ]
    },
    {
      "cell_type": "code",
      "metadata": {
        "id": "9T-7825NVCcG",
        "colab_type": "code",
        "colab": {}
      },
      "source": [
        "import pandas as pd\n",
        "from google.colab import files"
      ],
      "execution_count": 0,
      "outputs": []
    },
    {
      "cell_type": "code",
      "metadata": {
        "id": "Z4JWb2PkjwOQ",
        "colab_type": "code",
        "colab": {}
      },
      "source": [
        "def createBoxplot(filename, data, xticklabels, ylabel):\n",
        "    # Create a figure instance\n",
        "    fig = plt.figure(1, figsize=(9, 6))\n",
        "\n",
        "    # Create an axes instance\n",
        "    ax = fig.add_subplot(111)\n",
        "\n",
        "    # Create the boxplot\n",
        "    bp = ax.boxplot(data, patch_artist=True)\n",
        "    \n",
        "    ## change outline color, fill color and linewidth of the boxes\n",
        "    for box in bp['boxes']:\n",
        "        # change outline color\n",
        "        box.set( color='#7570b3', linewidth=2)\n",
        "        # change fill color\n",
        "        box.set( facecolor = '#AACCFF' )\n",
        "\n",
        "    ## change color and linewidth of the whiskers\n",
        "    for whisker in bp['whiskers']:\n",
        "        whisker.set(color='#7570b3', linewidth=2)\n",
        "\n",
        "    ## change color and linewidth of the caps\n",
        "    for cap in bp['caps']:\n",
        "        cap.set(color='#7570b3', linewidth=2)\n",
        "\n",
        "    ## change color and linewidth of the medians\n",
        "    for median in bp['medians']:\n",
        "        median.set(color='#FFE680', linewidth=2)\n",
        "\n",
        "    ## change the style of fliers and their fill\n",
        "    for flier in bp['fliers']:\n",
        "        flier.set(marker='o', color='#e7298a', alpha=0.5)\n",
        "    \n",
        "    ## Custom x-axis labels\n",
        "    ax.set_xticklabels(xticklabels)\n",
        "    ax.set_ylabel(ylabel)\n",
        "    plt.show()\n",
        "    fig.savefig(filename, bbox_inches='tight')"
      ],
      "execution_count": 0,
      "outputs": []
    },
    {
      "cell_type": "code",
      "metadata": {
        "id": "FcyiPw-8VHW2",
        "colab_type": "code",
        "colab": {}
      },
      "source": [
        "var_results = pd.read_csv(\"BENCHMARK-2_1-VAR.csv\")\n",
        "evolving_results = pd.read_csv(\"BENCHMARK-2_1-EVOLVING.csv\")\n",
        "mlp_results = pd.read_csv(\"BENCHMARK-2_1-MLP.csv\")\n",
        "granular_results = pd.read_csv(\"BENCHMARK-2_1-GRANULAR.csv\")"
      ],
      "execution_count": 0,
      "outputs": []
    },
    {
      "cell_type": "code",
      "metadata": {
        "id": "3OB8fPYW81R6",
        "colab_type": "code",
        "outputId": "d0e15a89-367d-4d50-b1c7-4d140cc826cc",
        "colab": {
          "base_uri": "https://localhost:8080/",
          "height": 374
        }
      },
      "source": [
        "metric = 'RMSE'\n",
        "results_data = [evolving_results[metric],var_results[metric], mlp_results[metric], granular_results[metric]]\n",
        "xticks = ['e-MVFTS','VAR','MLP','FIG-FTS']\n",
        "\n",
        "ylab = 'RMSE'\n",
        "createBoxplot(\"e-mvfts_boxplot_rmse_solar\", results_data, xticks, ylab)"
      ],
      "execution_count": 23,
      "outputs": [
        {
          "output_type": "display_data",
          "data": {
            "image/png": "[encoded data removed]",
            "text/plain": [
              "<Figure size 648x432 with 1 Axes>"
            ]
          },
          "metadata": {
            "tags": [],
            "needs_background": "light"
          }
        }
      ]
    },
    {
      "cell_type": "code",
      "metadata": {
        "id": "hUCDYHyMFwl3",
        "colab_type": "code",
        "colab": {}
      },
      "source": [
        "pd.options.display.float_format = '{:.4f}'.format"
      ],
      "execution_count": 0,
      "outputs": []
    },
    {
      "cell_type": "code",
      "metadata": {
        "id": "qACWp2l5_iJ4",
        "colab_type": "code",
        "colab": {}
      },
      "source": [
        "metric = 'RMSE'\n",
        "rmse_df = pd.DataFrame(columns=['e-MVFTS','VAR','MLP','FIG-FTS'])\n",
        "\n",
        "rmse_df[\"e-MVFTS\"] = evolving_results[metric]\n",
        "rmse_df[\"VAR\"] = var_results[metric]\n",
        "rmse_df[\"MLP\"] = mlp_results[metric]\n",
        "rmse_df[\"FIG-FTS\"] = granular_results[metric]"
      ],
      "execution_count": 0,
      "outputs": []
    },
    {
      "cell_type": "code",
      "metadata": {
        "id": "ioz9IYOdAN2Z",
        "colab_type": "code",
        "outputId": "53b0f4da-80ae-43b5-ef07-7c95e3db5489",
        "colab": {
          "base_uri": "https://localhost:8080/",
          "height": 102
        }
      },
      "source": [
        "rmse_df.std()"
      ],
      "execution_count": 0,
      "outputs": [
        {
          "output_type": "execute_result",
          "data": {
            "text/plain": [
              "e-MVFTS   0.0192\n",
              "VAR       0.0173\n",
              "MLP       0.0489\n",
              "FIG-FTS   0.0208\n",
              "dtype: float64"
            ]
          },
          "metadata": {
            "tags": []
          },
          "execution_count": 58
        }
      ]
    },
    {
      "cell_type": "code",
      "metadata": {
        "id": "fqZ9gjtr-Eq2",
        "colab_type": "code",
        "outputId": "2783b236-6a66-4835-f39f-13b5ad80dd11",
        "colab": {
          "base_uri": "https://localhost:8080/",
          "height": 374
        }
      },
      "source": [
        "metric = 'SMAPE'\n",
        "results_data = [evolving_results[metric],var_results[metric], mlp_results[metric], granular_results[metric]]\n",
        "xticks = ['e-MVFTS','VAR','MLP','FIG-FTS']\n",
        "\n",
        "ylab = 'SMAPE'\n",
        "createBoxplot(\"e-mvfts_boxplot_smape_solar\", results_data, xticks, ylab)"
      ],
      "execution_count": 24,
      "outputs": [
        {
          "output_type": "display_data",
          "data": {
            "image/png": "[encoded data removed]",
            "text/plain": [
              "<Figure size 648x432 with 1 Axes>"
            ]
          },
          "metadata": {
            "tags": [],
            "needs_background": "light"
          }
        }
      ]
    },
    {
      "cell_type": "code",
      "metadata": {
        "id": "0yajGeb7HPUG",
        "colab_type": "code",
        "colab": {}
      },
      "source": [
        "metric = 'SMAPE'\n",
        "smape_df = pd.DataFrame(columns=['e-MVFTS','VAR','MLP','FIG-FTS'])\n",
        "\n",
        "smape_df[\"e-MVFTS\"] = evolving_results[metric]\n",
        "smape_df[\"VAR\"] = var_results[metric]\n",
        "smape_df[\"MLP\"] = mlp_results[metric]\n",
        "smape_df[\"FIG-FTS\"] = granular_results[metric]"
      ],
      "execution_count": 0,
      "outputs": []
    },
    {
      "cell_type": "code",
      "metadata": {
        "id": "466gaNDyHYSJ",
        "colab_type": "code",
        "outputId": "d5717791-8208-4ec5-9f63-db8ed58ae29f",
        "colab": {
          "base_uri": "https://localhost:8080/",
          "height": 102
        }
      },
      "source": [
        "smape_df.std()"
      ],
      "execution_count": 0,
      "outputs": [
        {
          "output_type": "execute_result",
          "data": {
            "text/plain": [
              "e-MVFTS   3.9193\n",
              "VAR       3.2458\n",
              "MLP       5.1009\n",
              "FIG-FTS   4.0626\n",
              "dtype: float64"
            ]
          },
          "metadata": {
            "tags": []
          },
          "execution_count": 61
        }
      ]
    },
    {
      "cell_type": "code",
      "metadata": {
        "id": "hkXC-k92VKoc",
        "colab_type": "code",
        "colab": {}
      },
      "source": [
        "metric = \"RMSE\"\n",
        "\n",
        "data = pd.DataFrame(columns=[\"VAR\", \"Evolving\", \"MLP\", \"Granular\"])\n",
        "\n",
        "data[\"VAR\"] = var_results[metric]\n",
        "data[\"Evolving\"] = evolving_results[metric]\n",
        "data[\"MLP\"] = mlp_results[metric]\n",
        "data[\"Granular\"] = granular_results[metric]\n",
        "\n",
        "ax = data.plot(figsize=(18,6))\n",
        "ax.set(xlabel='Window', ylabel=metric)\n",
        "fig = ax.get_figure()\n",
        "#fig.savefig(path_images + exp_id + \"_prequential.png\")\n",
        "    \n",
        "x = np.arange(len(data.columns.values))\n",
        "names = data.columns.values\n",
        "values = data.mean().values\n",
        "plt.figure(figsize=(5,6))\n",
        "plt.bar(x, values, align='center', alpha=0.5, width=0.9)\n",
        "plt.xticks(x, names)\n",
        "#plt.yticks(np.arange(0, 1.1, 0.1))\n",
        "plt.ylabel(metric)\n",
        "#plt.savefig(path_images + exp_id + \"_bars.png\")"
      ],
      "execution_count": 0,
      "outputs": []
    },
    {
      "cell_type": "code",
      "metadata": {
        "id": "ghhKlmDwVOhr",
        "colab_type": "code",
        "colab": {}
      },
      "source": [
        "metric = \"SMAPE\"\n",
        "\n",
        "data = pd.DataFrame(columns=[\"VAR\", \"Evolving\", \"MLP\", \"Granular\"])\n",
        "\n",
        "data[\"VAR\"] = var_results[metric]\n",
        "data[\"Evolving\"] = evolving_results[metric]\n",
        "data[\"MLP\"] = mlp_results[metric]\n",
        "data[\"Granular\"] = granular_results[metric]\n",
        "\n",
        "ax = data.plot(figsize=(18,6))\n",
        "ax.set(xlabel='Window', ylabel=metric)\n",
        "fig = ax.get_figure()\n",
        "#fig.savefig(path_images + exp_id + \"_prequential.png\")\n",
        "    \n",
        "x = np.arange(len(data.columns.values))\n",
        "names = data.columns.values\n",
        "values = data.mean().values\n",
        "plt.figure(figsize=(5,6))\n",
        "plt.bar(x, values, align='center', alpha=0.5, width=0.9)\n",
        "plt.xticks(x, names)\n",
        "#plt.yticks(np.arange(0, 1.1, 0.1))\n",
        "plt.ylabel(metric)\n",
        "#plt.savefig(path_images + exp_id + \"_bars.png\")"
      ],
      "execution_count": 0,
      "outputs": []
    }
  ]
}