{
 "cells": [
  {
   "cell_type": "code",
   "execution_count": 1,
   "metadata": {},
   "outputs": [],
   "source": [
    "import numpy as np # linear algebra\n",
    "import pandas as pd # data processing, CSV file I/O (e.g. pd.read_csv)\n",
    "import matplotlib.pyplot as plt\n",
    "\n",
    "from numpy.fft import fft, ifft\n",
    "import os\n",
    "import sys"
   ]
  },
  {
   "cell_type": "code",
   "execution_count": 2,
   "metadata": {},
   "outputs": [],
   "source": [
    "## Mac\n",
    "#os.chdir(\"/Users/cseveriano/spatio-temporal-forecasting/\")\n",
    "\n",
    "## Windows\n",
    "os.chdir(\"C:\\\\Users\\\\cseve\\\\Google Drive\\\\Doutorado\\\\Codes\\\\spatio-temporal-forecasting\")\n",
    "#sys.path.append('C:\\\\Users\\\\cseve\\\\Google Drive\\\\Doutorado\\\\Codes\\\\spatio-temporal-forecasting\\\\src\\\\ext-libraries\\\\pyFTS')\n",
    "\n",
    "################################\n",
    "\n",
    "fln_df = pd.read_csv('data/processed/SONDA/FLN-15min.csv', sep=\";\", parse_dates=['date'], index_col='date')\n",
    "fln_df = fln_df[(fln_df.index >= '2013-11-01') & (fln_df.index <= '2015-11-01')]\n",
    "fln_df = fln_df.fillna(method='ffill')\n",
    "\n",
    "joi_df = pd.read_csv('data/processed/SONDA/JOI-15min.csv', sep=\";\", parse_dates=['date'], index_col='date')\n",
    "joi_df = joi_df[(joi_df.index >= '2013-11-01') & (joi_df.index <= '2015-11-01')]\n",
    "joi_df = joi_df.fillna(method='ffill')\n",
    "\n",
    "sbr_df = pd.read_csv('data/processed/SONDA/SBR-15min.csv', sep=\";\", parse_dates=['date'], index_col='date')\n",
    "sbr_df = sbr_df[(sbr_df.index >= '2013-11-01') & (sbr_df.index <= '2015-11-01')]\n",
    "sbr_df = sbr_df.fillna(method='ffill')"
   ]
  },
  {
   "cell_type": "code",
   "execution_count": 3,
   "metadata": {},
   "outputs": [],
   "source": [
    "fln_df = fln_df.resample('H').mean()\n",
    "joi_df = joi_df.resample('H').mean()\n",
    "sbr_df = sbr_df.resample('H').mean()"
   ]
  },
  {
   "cell_type": "code",
   "execution_count": 4,
   "metadata": {},
   "outputs": [],
   "source": [
    "def remove_periodic(X, df_index, detrending=True):\n",
    "    rad = np.array(X)\n",
    "    \n",
    "    if detrending:\n",
    "        det_rad = rad - np.average(rad)\n",
    "    else:\n",
    "        det_rad = rad\n",
    "    \n",
    "    det_rad_fft = fft(det_rad)\n",
    "\n",
    "    # Get the power spectrum\n",
    "    rad_ps = [np.abs(rd)**2 for rd in det_rad_fft]\n",
    "    \n",
    "    frequency_threshold = 0.1e12\n",
    "    clean_rad_fft = [det_rad_fft[i] if rad_ps[i] > frequency_threshold else 0 \n",
    "                     for i in range(len(det_rad_fft))]\n",
    "    \n",
    "    rad_series_clean = ifft(clean_rad_fft)\n",
    "    rad_series_clean = [value.real for value in rad_series_clean]\n",
    "    \n",
    "    if detrending:\n",
    "        rad_trends = rad_series_clean + np.average(rad)\n",
    "    \n",
    "    rad_clean_ts = pd.Series(rad_trends, index=df_index)\n",
    "    \n",
    "    rad_clean_ts[(rad_clean_ts.index.hour < 6) | (rad_clean_ts.index.hour > 20)] = 0\n",
    "    \n",
    "    return rad - rad_clean_ts.values, rad_clean_ts.values"
   ]
  },
  {
   "cell_type": "code",
   "execution_count": 5,
   "metadata": {},
   "outputs": [],
   "source": [
    "fln_residual, fln_clean = remove_periodic(fln_df['glo_avg'],fln_df.index)\n",
    "joi_residual, joi_clean = remove_periodic(joi_df['glo_avg'],joi_df.index)\n",
    "sbr_residual, sbr_clean = remove_periodic(sbr_df['glo_avg'],sbr_df.index)"
   ]
  },
  {
   "cell_type": "code",
   "execution_count": 6,
   "metadata": {},
   "outputs": [],
   "source": [
    "fln_df = pd.DataFrame(data={'glo_avg': fln_df.glo_avg.tolist(), 'residual': fln_residual, 'clean': fln_clean, 'date' : fln_df.index}, index=fln_df.index)\n",
    "joi_df = pd.DataFrame(data={'glo_avg': joi_df.glo_avg.tolist(), 'residual': joi_residual, 'clean': joi_clean, 'date' : joi_df.index}, index=joi_df.index)\n",
    "sbr_df = pd.DataFrame(data={'glo_avg': sbr_df.glo_avg.tolist(), 'residual': sbr_residual, 'clean': sbr_clean, 'date' : sbr_df.index}, index=sbr_df.index)"
   ]
  },
  {
   "cell_type": "code",
   "execution_count": 7,
   "metadata": {},
   "outputs": [],
   "source": [
    "fln_train = fln_df[(fln_df.index >= '2013-11-01') & (fln_df.index <= '2014-10-31')]\n",
    "fln_test = fln_df[(fln_df.index >= '2014-11-01') & (fln_df.index <= '2015-10-31')]\n",
    "\n",
    "joi_train = joi_df[(joi_df.index >= '2013-11-01') & (joi_df.index <= '2014-10-31')]\n",
    "joi_test = joi_df[(joi_df.index >= '2014-11-01') & (joi_df.index <= '2015-10-31')]\n",
    "\n",
    "sbr_train = sbr_df[(sbr_df.index >= '2013-11-01') & (sbr_df.index <= '2014-10-31')]\n",
    "sbr_test = sbr_df[(sbr_df.index >= '2014-11-01') & (sbr_df.index <= '2015-10-31')]"
   ]
  },
  {
   "cell_type": "code",
   "execution_count": 8,
   "metadata": {},
   "outputs": [],
   "source": [
    "from pyFTS.models.multivariate import common, variable, mvfts\n",
    "from pyFTS.models.seasonal import partitioner as seasonal\n",
    "from pyFTS.models.seasonal.common import DateTime\n",
    "from pyFTS.partitioners import Grid, Util as pUtil\n",
    "from pyFTS.models.multivariate import common, variable, mvfts"
   ]
  },
  {
   "cell_type": "code",
   "execution_count": 9,
   "metadata": {},
   "outputs": [],
   "source": [
    "sp = {'seasonality': DateTime.day_of_year , 'names': ['Jan','Feb','Mar','Apr','May','Jun','Jul', 'Aug','Sep','Oct','Nov','Dec']}\n",
    "vmonth = variable.Variable(\"Month\", data_label=\"date\", partitioner=seasonal.TimeGridPartitioner, npart=12, \n",
    "                           data=fln_train, partitioner_specific=sp)\n",
    "\n",
    "sp = {'seasonality': DateTime.minute_of_day}\n",
    "vhour = variable.Variable(\"Hour\", data_label=\"date\", partitioner=seasonal.TimeGridPartitioner, npart=24, \n",
    "                          data=fln_train, partitioner_specific=sp)\n",
    "\n",
    "vavg = variable.Variable(\"Irradiance\", data_label=\"glo_avg\", partitioner=Grid.GridPartitioner, npart=60, \n",
    "                         data=fln_train) "
   ]
  },
  {
   "cell_type": "code",
   "execution_count": 10,
   "metadata": {},
   "outputs": [
    {
     "name": "stdout",
     "output_type": "stream",
     "text": [
      "[ 13:12:02] Start training\n",
      "[ 13:12:02] Starting batch 1\n",
      "[ 13:12:02] Finish batch 1\n",
      "[ 13:12:02] Starting batch 2\n",
      "[ 13:12:02] Finish batch 2\n",
      "[ 13:12:02] Starting batch 3\n",
      "[ 13:12:02] Finish batch 3\n",
      "[ 13:12:02] Starting batch 4\n",
      "[ 13:12:03] Finish batch 4\n",
      "[ 13:12:03] Starting batch 5\n",
      "[ 13:12:03] Finish batch 5\n",
      "[ 13:12:03] Starting batch 6\n",
      "[ 13:12:03] Finish batch 6\n",
      "[ 13:12:03] Starting batch 7\n",
      "[ 13:12:03] Finish batch 7\n",
      "[ 13:12:03] Starting batch 8\n",
      "[ 13:12:03] Finish batch 8\n",
      "[ 13:12:03] Starting batch 9\n",
      "[ 13:12:03] Finish batch 9\n",
      "[ 13:12:03] Starting batch 10\n",
      "[ 13:12:04] Finish batch 10\n",
      "[ 13:12:04] Starting batch 11\n",
      "[ 13:12:04] Finish batch 11\n",
      "[ 13:12:04] Starting batch 12\n",
      "[ 13:12:04] Finish batch 12\n",
      "[ 13:12:04] Starting batch 13\n",
      "[ 13:12:04] Finish batch 13\n",
      "[ 13:12:04] Starting batch 14\n",
      "[ 13:12:05] Finish batch 14\n",
      "[ 13:12:05] Starting batch 15\n",
      "[ 13:12:05] Finish batch 15\n",
      "[ 13:12:05] Starting batch 16\n",
      "[ 13:12:05] Finish batch 16\n",
      "[ 13:12:05] Starting batch 17\n",
      "[ 13:12:05] Finish batch 17\n",
      "[ 13:12:05] Starting batch 18\n",
      "[ 13:12:06] Finish batch 18\n",
      "[ 13:12:06] Starting batch 19\n",
      "[ 13:12:06] Finish batch 19\n",
      "[ 13:12:06] Starting batch 20\n",
      "[ 13:12:06] Finish batch 20\n",
      "[ 13:12:06] Starting batch 21\n",
      "[ 13:12:06] Finish batch 21\n",
      "[ 13:12:06] Starting batch 22\n",
      "[ 13:12:07] Finish batch 22\n",
      "[ 13:12:07] Starting batch 23\n",
      "[ 13:12:07] Finish batch 23\n",
      "[ 13:12:07] Starting batch 24\n",
      "[ 13:12:07] Finish batch 24\n",
      "[ 13:12:07] Starting batch 25\n",
      "[ 13:12:08] Finish batch 25\n",
      "[ 13:12:08] Starting batch 26\n",
      "[ 13:12:08] Finish batch 26\n",
      "[ 13:12:08] Starting batch 27\n",
      "[ 13:12:08] Finish batch 27\n",
      "[ 13:12:08] Starting batch 28\n",
      "[ 13:12:09] Finish batch 28\n",
      "[ 13:12:09] Starting batch 29\n",
      "[ 13:12:09] Finish batch 29\n",
      "[ 13:12:09] Starting batch 30\n",
      "[ 13:12:10] Finish batch 30\n",
      "[ 13:12:10] Starting batch 31\n",
      "[ 13:12:10] Finish batch 31\n",
      "[ 13:12:10] Starting batch 32\n",
      "[ 13:12:10] Finish batch 32\n",
      "[ 13:12:10] Starting batch 33\n",
      "[ 13:12:11] Finish batch 33\n",
      "[ 13:12:11] Starting batch 34\n",
      "[ 13:12:11] Finish batch 34\n",
      "[ 13:12:11] Starting batch 35\n",
      "[ 13:12:12] Finish batch 35\n",
      "[ 13:12:12] Starting batch 36\n",
      "[ 13:12:12] Finish batch 36\n",
      "[ 13:12:12] Starting batch 37\n",
      "[ 13:12:12] Finish batch 37\n",
      "[ 13:12:12] Starting batch 38\n",
      "[ 13:12:12] Finish batch 38\n",
      "[ 13:12:12] Starting batch 39\n",
      "[ 13:12:13] Finish batch 39\n",
      "[ 13:12:13] Starting batch 40\n",
      "[ 13:12:13] Finish batch 40\n",
      "[ 13:12:13] Starting batch 41\n",
      "[ 13:12:13] Finish batch 41\n",
      "[ 13:12:13] Starting batch 42\n",
      "[ 13:12:14] Finish batch 42\n",
      "[ 13:12:14] Starting batch 43\n",
      "[ 13:12:14] Finish batch 43\n",
      "[ 13:12:14] Starting batch 44\n",
      "[ 13:12:14] Finish batch 44\n",
      "[ 13:12:14] Starting batch 45\n",
      "[ 13:12:15] Finish batch 45\n",
      "[ 13:12:15] Starting batch 46\n",
      "[ 13:12:15] Finish batch 46\n",
      "[ 13:12:15] Starting batch 47\n",
      "[ 13:12:15] Finish batch 47\n",
      "[ 13:12:15] Starting batch 48\n",
      "[ 13:12:16] Finish batch 48\n",
      "[ 13:12:16] Starting batch 49\n",
      "[ 13:12:16] Finish batch 49\n",
      "[ 13:12:16] Starting batch 50\n",
      "[ 13:12:16] Finish batch 50\n",
      "[ 13:12:16] Starting batch 51\n",
      "[ 13:12:17] Finish batch 51\n",
      "[ 13:12:17] Starting batch 52\n",
      "[ 13:12:17] Finish batch 52\n",
      "[ 13:12:17] Starting batch 53\n",
      "[ 13:12:17] Finish batch 53\n",
      "[ 13:12:17] Starting batch 54\n",
      "[ 13:12:18] Finish batch 54\n",
      "[ 13:12:18] Starting batch 55\n",
      "[ 13:12:18] Finish batch 55\n",
      "[ 13:12:18] Starting batch 56\n",
      "[ 13:12:18] Finish batch 56\n",
      "[ 13:12:18] Starting batch 57\n",
      "[ 13:12:19] Finish batch 57\n",
      "[ 13:12:19] Starting batch 58\n",
      "[ 13:12:19] Finish batch 58\n",
      "[ 13:12:19] Starting batch 59\n",
      "[ 13:12:19] Finish batch 59\n",
      "[ 13:12:19] Starting batch 60\n",
      "[ 13:12:20] Finish batch 60\n",
      "[ 13:12:20] Starting batch 61\n",
      "[ 13:12:20] Finish batch 61\n",
      "[ 13:12:20] Starting batch 62\n",
      "[ 13:12:21] Finish batch 62\n",
      "[ 13:12:21] Starting batch 63\n",
      "[ 13:12:21] Finish batch 63\n",
      "[ 13:12:21] Starting batch 64\n",
      "[ 13:12:21] Finish batch 64\n",
      "[ 13:12:21] Starting batch 65\n",
      "[ 13:12:22] Finish batch 65\n",
      "[ 13:12:22] Starting batch 66\n",
      "[ 13:12:22] Finish batch 66\n",
      "[ 13:12:22] Starting batch 67\n",
      "[ 13:12:23] Finish batch 67\n",
      "[ 13:12:23] Starting batch 68\n",
      "[ 13:12:23] Finish batch 68\n",
      "[ 13:12:23] Starting batch 69\n",
      "[ 13:12:24] Finish batch 69\n",
      "[ 13:12:24] Starting batch 70\n",
      "[ 13:12:24] Finish batch 70\n",
      "[ 13:12:24] Starting batch 71\n",
      "[ 13:12:24] Finish batch 71\n",
      "[ 13:12:24] Starting batch 72\n",
      "[ 13:12:25] Finish batch 72\n",
      "[ 13:12:25] Starting batch 73\n",
      "[ 13:12:25] Finish batch 73\n",
      "[ 13:12:25] Starting batch 74\n",
      "[ 13:12:26] Finish batch 74\n",
      "[ 13:12:26] Starting batch 75\n",
      "[ 13:12:26] Finish batch 75\n",
      "[ 13:12:26] Starting batch 76\n",
      "[ 13:12:26] Finish batch 76\n",
      "[ 13:12:26] Starting batch 77\n",
      "[ 13:12:27] Finish batch 77\n",
      "[ 13:12:27] Starting batch 78\n",
      "[ 13:12:27] Finish batch 78\n",
      "[ 13:12:27] Starting batch 79\n",
      "[ 13:12:28] Finish batch 79\n",
      "[ 13:12:28] Starting batch 80\n",
      "[ 13:12:28] Finish batch 80\n",
      "[ 13:12:28] Starting batch 81\n",
      "[ 13:12:29] Finish batch 81\n",
      "[ 13:12:29] Starting batch 82\n",
      "[ 13:12:29] Finish batch 82\n",
      "[ 13:12:29] Starting batch 83\n",
      "[ 13:12:29] Finish batch 83\n",
      "[ 13:12:29] Starting batch 84\n",
      "[ 13:12:30] Finish batch 84\n",
      "[ 13:12:30] Starting batch 85\n",
      "[ 13:12:30] Finish batch 85\n",
      "[ 13:12:30] Starting batch 86\n",
      "[ 13:12:31] Finish batch 86\n",
      "[ 13:12:31] Starting batch 87\n",
      "[ 13:12:31] Finish batch 87\n",
      "[ 13:12:31] Starting batch 88\n",
      "[ 13:12:32] Finish batch 88\n",
      "[ 13:12:32] Starting batch 89\n",
      "[ 13:12:32] Finish batch 89\n",
      "[ 13:12:32] Starting batch 90\n",
      "[ 13:12:33] Finish batch 90\n",
      "[ 13:12:33] Starting batch 91\n",
      "[ 13:12:33] Finish batch 91\n",
      "[ 13:12:33] Starting batch 92\n",
      "[ 13:12:34] Finish batch 92\n",
      "[ 13:12:34] Starting batch 93\n",
      "[ 13:12:34] Finish batch 93\n",
      "[ 13:12:34] Starting batch 94\n",
      "[ 13:12:35] Finish batch 94\n",
      "[ 13:12:35] Starting batch 95\n",
      "[ 13:12:35] Finish batch 95\n",
      "[ 13:12:35] Starting batch 96\n",
      "[ 13:12:36] Finish batch 96\n",
      "[ 13:12:36] Starting batch 97\n",
      "[ 13:12:36] Finish batch 97\n",
      "[ 13:12:36] Starting batch 98\n",
      "[ 13:12:37] Finish batch 98\n",
      "[ 13:12:37] Starting batch 99\n",
      "[ 13:12:37] Finish batch 99\n",
      "[ 13:12:37] Starting batch 100\n",
      "[ 13:12:38] Finish batch 100\n",
      "[ 13:12:38] Starting batch 101\n",
      "[ 13:12:38] Finish batch 101\n",
      "[ 13:12:38] Starting batch 102\n",
      "[ 13:12:39] Finish batch 102\n",
      "[ 13:12:39] Starting batch 103\n",
      "[ 13:12:39] Finish batch 103\n",
      "[ 13:12:39] Starting batch 104\n",
      "[ 13:12:40] Finish batch 104\n",
      "[ 13:12:40] Starting batch 105\n",
      "[ 13:12:41] Finish batch 105\n",
      "[ 13:12:41] Starting batch 106\n",
      "[ 13:12:41] Finish batch 106\n",
      "[ 13:12:41] Starting batch 107\n",
      "[ 13:12:42] Finish batch 107\n",
      "[ 13:12:42] Starting batch 108\n",
      "[ 13:12:42] Finish batch 108\n",
      "[ 13:12:42] Starting batch 109\n",
      "[ 13:12:43] Finish batch 109\n",
      "[ 13:12:43] Starting batch 110\n",
      "[ 13:12:43] Finish batch 110\n",
      "[ 13:12:43] Starting batch 111\n",
      "[ 13:12:44] Finish batch 111\n",
      "[ 13:12:44] Starting batch 112\n",
      "[ 13:12:44] Finish batch 112\n",
      "[ 13:12:44] Starting batch 113\n",
      "[ 13:12:45] Finish batch 113\n",
      "[ 13:12:45] Starting batch 114\n",
      "[ 13:12:45] Finish batch 114\n",
      "[ 13:12:45] Starting batch 115\n",
      "[ 13:12:46] Finish batch 115\n",
      "[ 13:12:46] Starting batch 116\n",
      "[ 13:12:46] Finish batch 116\n",
      "[ 13:12:46] Starting batch 117\n",
      "[ 13:12:47] Finish batch 117\n",
      "[ 13:12:47] Starting batch 118\n",
      "[ 13:12:47] Finish batch 118\n",
      "[ 13:12:47] Starting batch 119\n",
      "[ 13:12:48] Finish batch 119\n",
      "[ 13:12:48] Starting batch 120\n",
      "[ 13:12:48] Finish batch 120\n",
      "[ 13:12:48] Starting batch 121\n",
      "[ 13:12:49] Finish batch 121\n",
      "[ 13:12:49] Starting batch 122\n",
      "[ 13:12:49] Finish batch 122\n",
      "[ 13:12:49] Starting batch 123\n",
      "[ 13:12:50] Finish batch 123\n",
      "[ 13:12:50] Starting batch 124\n",
      "[ 13:12:51] Finish batch 124\n",
      "[ 13:12:51] Starting batch 125\n",
      "[ 13:12:51] Finish batch 125\n",
      "[ 13:12:51] Starting batch 126\n",
      "[ 13:12:52] Finish batch 126\n",
      "[ 13:12:52] Starting batch 127\n",
      "[ 13:12:52] Finish batch 127\n",
      "[ 13:12:52] Starting batch 128\n",
      "[ 13:12:53] Finish batch 128\n",
      "[ 13:12:53] Starting batch 129\n",
      "[ 13:12:53] Finish batch 129\n",
      "[ 13:12:53] Starting batch 130\n",
      "[ 13:12:54] Finish batch 130\n",
      "[ 13:12:54] Starting batch 131\n",
      "[ 13:12:54] Finish batch 131\n",
      "[ 13:12:54] Starting batch 132\n",
      "[ 13:12:55] Finish batch 132\n",
      "[ 13:12:55] Starting batch 133\n",
      "[ 13:12:56] Finish batch 133\n",
      "[ 13:12:56] Starting batch 134\n",
      "[ 13:12:56] Finish batch 134\n",
      "[ 13:12:56] Starting batch 135\n",
      "[ 13:12:57] Finish batch 135\n",
      "[ 13:12:57] Starting batch 136\n",
      "[ 13:12:57] Finish batch 136\n",
      "[ 13:12:57] Starting batch 137\n",
      "[ 13:12:58] Finish batch 137\n",
      "[ 13:12:58] Starting batch 138\n",
      "[ 13:12:58] Finish batch 138\n",
      "[ 13:12:58] Starting batch 139\n",
      "[ 13:12:59] Finish batch 139\n",
      "[ 13:12:59] Starting batch 140\n",
      "[ 13:12:59] Finish batch 140\n",
      "[ 13:12:59] Starting batch 141\n",
      "[ 13:13:00] Finish batch 141\n",
      "[ 13:13:00] Starting batch 142\n",
      "[ 13:13:01] Finish batch 142\n",
      "[ 13:13:01] Starting batch 143\n",
      "[ 13:13:01] Finish batch 143\n",
      "[ 13:13:01] Starting batch 144\n",
      "[ 13:13:02] Finish batch 144\n",
      "[ 13:13:02] Starting batch 145\n",
      "[ 13:13:03] Finish batch 145\n",
      "[ 13:13:03] Starting batch 146\n",
      "[ 13:13:03] Finish batch 146\n",
      "[ 13:13:03] Starting batch 147\n",
      "[ 13:13:04] Finish batch 147\n",
      "[ 13:13:04] Starting batch 148\n",
      "[ 13:13:04] Finish batch 148\n",
      "[ 13:13:04] Starting batch 149\n",
      "[ 13:13:05] Finish batch 149\n",
      "[ 13:13:05] Starting batch 150\n",
      "[ 13:13:05] Finish batch 150\n",
      "[ 13:13:05] Starting batch 151\n",
      "[ 13:13:06] Finish batch 151\n",
      "[ 13:13:06] Starting batch 152\n",
      "[ 13:13:07] Finish batch 152\n",
      "[ 13:13:07] Starting batch 153\n",
      "[ 13:13:07] Finish batch 153\n",
      "[ 13:13:07] Starting batch 154\n",
      "[ 13:13:08] Finish batch 154\n",
      "[ 13:13:08] Starting batch 155\n",
      "[ 13:13:08] Finish batch 155\n",
      "[ 13:13:08] Starting batch 156\n",
      "[ 13:13:09] Finish batch 156\n",
      "[ 13:13:09] Starting batch 157\n",
      "[ 13:13:10] Finish batch 157\n",
      "[ 13:13:10] Starting batch 158\n",
      "[ 13:13:10] Finish batch 158\n",
      "[ 13:13:10] Starting batch 159\n",
      "[ 13:13:11] Finish batch 159\n",
      "[ 13:13:11] Starting batch 160\n",
      "[ 13:13:12] Finish batch 160\n",
      "[ 13:13:12] Starting batch 161\n",
      "[ 13:13:12] Finish batch 161\n",
      "[ 13:13:12] Starting batch 162\n",
      "[ 13:13:13] Finish batch 162\n",
      "[ 13:13:13] Starting batch 163\n",
      "[ 13:13:13] Finish batch 163\n",
      "[ 13:13:13] Starting batch 164\n",
      "[ 13:13:14] Finish batch 164\n",
      "[ 13:13:14] Starting batch 165\n",
      "[ 13:13:15] Finish batch 165\n",
      "[ 13:13:15] Starting batch 166\n",
      "[ 13:13:15] Finish batch 166\n",
      "[ 13:13:15] Starting batch 167\n",
      "[ 13:13:16] Finish batch 167\n",
      "[ 13:13:16] Starting batch 168\n",
      "[ 13:13:17] Finish batch 168\n",
      "[ 13:13:17] Starting batch 169\n",
      "[ 13:13:17] Finish batch 169\n",
      "[ 13:13:17] Starting batch 170\n",
      "[ 13:13:18] Finish batch 170\n",
      "[ 13:13:18] Starting batch 171\n",
      "[ 13:13:18] Finish batch 171\n",
      "[ 13:13:18] Starting batch 172\n",
      "[ 13:13:19] Finish batch 172\n",
      "[ 13:13:19] Starting batch 173\n",
      "[ 13:13:20] Finish batch 173\n",
      "[ 13:13:20] Starting batch 174\n",
      "[ 13:13:20] Finish batch 174\n",
      "[ 13:13:20] Starting batch 175\n",
      "[ 13:13:21] Finish batch 175\n",
      "[ 13:13:21] Starting batch 176\n",
      "[ 13:13:22] Finish batch 176\n",
      "[ 13:13:22] Starting batch 177\n",
      "[ 13:13:22] Finish batch 177\n",
      "[ 13:13:22] Starting batch 178\n",
      "[ 13:13:23] Finish batch 178\n",
      "[ 13:13:23] Starting batch 179\n",
      "[ 13:13:24] Finish batch 179\n",
      "[ 13:13:24] Starting batch 180\n",
      "[ 13:13:24] Finish batch 180\n",
      "[ 13:13:24] Starting batch 181\n",
      "[ 13:13:25] Finish batch 181\n",
      "[ 13:13:25] Starting batch 182\n",
      "[ 13:13:26] Finish batch 182\n",
      "[ 13:13:26] Starting batch 183\n",
      "[ 13:13:27] Finish batch 183\n",
      "[ 13:13:27] Starting batch 184\n",
      "[ 13:13:27] Finish batch 184\n",
      "[ 13:13:27] Starting batch 185\n",
      "[ 13:13:28] Finish batch 185\n",
      "[ 13:13:28] Starting batch 186\n",
      "[ 13:13:29] Finish batch 186\n",
      "[ 13:13:29] Starting batch 187\n",
      "[ 13:13:29] Finish batch 187\n",
      "[ 13:13:29] Starting batch 188\n",
      "[ 13:13:30] Finish batch 188\n",
      "[ 13:13:30] Starting batch 189\n",
      "[ 13:13:31] Finish batch 189\n",
      "[ 13:13:31] Starting batch 190\n",
      "[ 13:13:31] Finish batch 190\n",
      "[ 13:13:31] Starting batch 191\n",
      "[ 13:13:32] Finish batch 191\n",
      "[ 13:13:32] Starting batch 192\n",
      "[ 13:13:33] Finish batch 192\n",
      "[ 13:13:33] Starting batch 193\n",
      "[ 13:13:33] Finish batch 193\n",
      "[ 13:13:33] Starting batch 194\n",
      "[ 13:13:34] Finish batch 194\n",
      "[ 13:13:34] Starting batch 195\n",
      "[ 13:13:35] Finish batch 195\n",
      "[ 13:13:35] Starting batch 196\n",
      "[ 13:13:35] Finish batch 196\n",
      "[ 13:13:35] Starting batch 197\n",
      "[ 13:13:36] Finish batch 197\n",
      "[ 13:13:36] Starting batch 198\n",
      "[ 13:13:37] Finish batch 198\n",
      "[ 13:13:37] Starting batch 199\n",
      "[ 13:13:38] Finish batch 199\n",
      "[ 13:13:38] Starting batch 200\n",
      "[ 13:13:38] Finish batch 200\n",
      "[ 13:13:38] Starting batch 201\n",
      "[ 13:13:39] Finish batch 201\n",
      "[ 13:13:39] Starting batch 202\n",
      "[ 13:13:40] Finish batch 202\n",
      "[ 13:13:40] Starting batch 203\n",
      "[ 13:13:41] Finish batch 203\n",
      "[ 13:13:41] Starting batch 204\n",
      "[ 13:13:41] Finish batch 204\n",
      "[ 13:13:41] Finish training\n"
     ]
    }
   ],
   "source": [
    "from pyFTS.models.multivariate import common, variable, mvfts\n",
    "\n",
    "model1 = mvfts.MVFTS(\"\")\n",
    "\n",
    "model1.append_variable(vmonth)\n",
    "\n",
    "model1.append_variable(vhour)\n",
    "\n",
    "model1.append_variable(vavg)\n",
    "\n",
    "model1.target_variable = vavg\n",
    "\n",
    "model1.fit(fln_train, num_batches=200, save=True, batch_save=True, file_path='mvfts_sonda_fln_gloavg', batch_save_interval=10)"
   ]
  },
  {
   "cell_type": "code",
   "execution_count": 20,
   "metadata": {},
   "outputs": [],
   "source": [
    "from pyFTS.common import Util\n",
    "\n",
    "model1 = Util.load_obj('mvfts_sonda_fln_gloavg')\n",
    "model1.name = \"MVFTS Normal\""
   ]
  },
  {
   "cell_type": "code",
   "execution_count": 21,
   "metadata": {},
   "outputs": [],
   "source": [
    "forecasted1 = model1.predict(fln_test)"
   ]
  },
  {
   "cell_type": "code",
   "execution_count": 22,
   "metadata": {},
   "outputs": [],
   "source": [
    "forecasted_final = forecasted1"
   ]
  },
  {
   "cell_type": "code",
   "execution_count": 14,
   "metadata": {},
   "outputs": [],
   "source": [
    "forecasted_final = forecasted1 + fln_test.clean"
   ]
  },
  {
   "cell_type": "code",
   "execution_count": 23,
   "metadata": {},
   "outputs": [
    {
     "name": "stdout",
     "output_type": "stream",
     "text": [
      "RMSE:  88.4437258762 \n",
      "\n"
     ]
    }
   ],
   "source": [
    "from pyFTS.benchmarks import Measures\n",
    "\n",
    "_rmse = Measures.rmse(fln_test.glo_avg.tolist(), forecasted1)\n",
    "\n",
    "#forecasted1\n",
    "\n",
    "print(\"RMSE: \", _rmse, \"\\n\")"
   ]
  },
  {
   "cell_type": "code",
   "execution_count": 24,
   "metadata": {},
   "outputs": [],
   "source": [
    "def normalized_rmse(targets, forecasts):\n",
    "    if isinstance(targets, list):\n",
    "        targets = np.array(targets)\n",
    "    if isinstance(forecasts, list):\n",
    "        forecasts = np.array(forecasts)\n",
    "    return ((np.sqrt(np.nanmean((targets - forecasts) ** 2))) / np.nanmean(targets) ) * 100\n"
   ]
  },
  {
   "cell_type": "code",
   "execution_count": 25,
   "metadata": {},
   "outputs": [
    {
     "name": "stdout",
     "output_type": "stream",
     "text": [
      "nRMSE:  51.5096653512 \n",
      "\n"
     ]
    }
   ],
   "source": [
    "_nrmse = normalized_rmse(fln_test.glo_avg.tolist(), forecasted1)\n",
    "print(\"nRMSE: \", _nrmse, \"\\n\")"
   ]
  },
  {
   "cell_type": "code",
   "execution_count": 26,
   "metadata": {},
   "outputs": [
    {
     "name": "stdout",
     "output_type": "stream",
     "text": [
      "[ 16:26:55] Start training\n",
      "[ 16:26:55] Starting batch 1\n",
      "[ 16:27:12] Finish batch 1\n",
      "[ 16:27:12] Starting batch 2\n",
      "[ 16:27:30] Finish batch 2\n",
      "[ 16:27:30] Starting batch 3\n",
      "[ 16:27:47] Finish batch 3\n",
      "[ 16:27:47] Starting batch 4\n",
      "[ 16:28:08] Finish batch 4\n",
      "[ 16:28:08] Starting batch 5\n",
      "[ 16:28:25] Finish batch 5\n",
      "[ 16:28:25] Starting batch 6\n",
      "[ 16:28:42] Finish batch 6\n",
      "[ 16:28:42] Starting batch 7\n",
      "[ 16:29:00] Finish batch 7\n",
      "[ 16:29:00] Starting batch 8\n",
      "[ 16:29:21] Finish batch 8\n",
      "[ 16:29:21] Starting batch 9\n",
      "[ 16:29:38] Finish batch 9\n",
      "[ 16:29:38] Starting batch 10\n",
      "[ 16:29:54] Finish batch 10\n",
      "[ 16:29:54] Starting batch 11\n",
      "[ 16:29:54] Finish batch 11\n",
      "[ 16:29:54] Finish training\n"
     ]
    }
   ],
   "source": [
    "from pyFTS.models import hofts\n",
    "\n",
    "train = fln_train.residual\n",
    "\n",
    "fuzzy_sets = Grid.GridPartitioner(data=train, npart=100)\n",
    "model_hofts = hofts.HighOrderFTS(\"FTS\", partitioner=fuzzy_sets)\n",
    "model_hofts.fit(train, order=6)"
   ]
  },
  {
   "cell_type": "code",
   "execution_count": 28,
   "metadata": {},
   "outputs": [],
   "source": [
    "forecast_hofts = model_hofts.predict(fln_test.residual)"
   ]
  },
  {
   "cell_type": "code",
   "execution_count": 30,
   "metadata": {},
   "outputs": [],
   "source": [
    "forecasted_final = forecast_hofts + fln_test[5:].clean"
   ]
  },
  {
   "cell_type": "code",
   "execution_count": null,
   "metadata": {},
   "outputs": [],
   "source": [
    "fig, ax = plt.subplots(nrows=1, ncols=1,figsize=[20,5])\n",
    "\n",
    "test = fln_test[5:100]\n",
    "fcst = forecasted_final[:95]\n",
    "ax.plot(test['date'].values, test['glo_avg'].values)\n",
    "ax.plot(test['date'].values, fcst)"
   ]
  },
  {
   "cell_type": "code",
   "execution_count": null,
   "metadata": {},
   "outputs": [],
   "source": []
  },
  {
   "cell_type": "code",
   "execution_count": 31,
   "metadata": {},
   "outputs": [
    {
     "name": "stdout",
     "output_type": "stream",
     "text": [
      "nRMSE:  12.6151151411 \n",
      "\n"
     ]
    }
   ],
   "source": [
    "_nrmse = normalized_rmse(fln_test.glo_avg.tolist()[5:], forecasted_final)\n",
    "print(\"nRMSE: \", _nrmse, \"\\n\")"
   ]
  },
  {
   "cell_type": "markdown",
   "metadata": {},
   "source": [
    "## Vector Autoregressive (VAR)"
   ]
  },
  {
   "cell_type": "code",
   "execution_count": 33,
   "metadata": {},
   "outputs": [],
   "source": [
    "import statsmodels.api as sm\n",
    "from statsmodels.tsa.api import VAR, DynamicVAR"
   ]
  },
  {
   "cell_type": "code",
   "execution_count": 35,
   "metadata": {},
   "outputs": [],
   "source": [
    "mdata = sm.datasets.macrodata.load_pandas().data\n",
    "dates = mdata[['year', 'quarter']].astype(int).astype(str)\n",
    "quarterly = dates[\"year\"] + \"Q\" + dates[\"quarter\"]\n",
    "from statsmodels.tsa.base.datetools import dates_from_str\n",
    "quarterly = dates_from_str(quarterly)\n",
    "mdata = mdata[['realgdp','realcons','realinv']]\n",
    "mdata.index = pd.DatetimeIndex(quarterly)\n",
    "data = np.log(mdata).diff().dropna()"
   ]
  },
  {
   "cell_type": "code",
   "execution_count": 72,
   "metadata": {},
   "outputs": [],
   "source": [
    "train_df = pd.DataFrame(data={'fln_res': fln_train.residual.tolist(), 'joi_res': joi_train.residual.tolist(), 'sbr_res': sbr_train.residual.tolist()}, index=fln_train.index)\n",
    "test_df = pd.DataFrame(data={'fln_res': fln_test.residual.tolist(), 'joi_res': joi_test.residual.tolist(), 'sbr_res': sbr_test.residual.tolist()}, index=fln_test.index)"
   ]
  },
  {
   "cell_type": "code",
   "execution_count": 73,
   "metadata": {},
   "outputs": [],
   "source": [
    "model = VAR(train_df)"
   ]
  },
  {
   "cell_type": "code",
   "execution_count": 106,
   "metadata": {},
   "outputs": [
    {
     "data": {
      "text/plain": [
       "  Summary of Regression Results   \n",
       "==================================\n",
       "Model:                         VAR\n",
       "Method:                        OLS\n",
       "Date:           Thu, 29, Mar, 2018\n",
       "Time:                     23:14:07\n",
       "--------------------------------------------------------------------\n",
       "No. of Equations:         3.00000    BIC:                    25.7618\n",
       "Nobs:                     8735.00    HQIC:                   25.7506\n",
       "Log likelihood:          -149603.    FPE:                1.51646e+11\n",
       "AIC:                      25.7448    Det(Omega_mle):     1.51282e+11\n",
       "--------------------------------------------------------------------\n",
       "Results for equation fln_res\n",
       "=============================================================================\n",
       "                coefficient       std. error           t-stat            prob\n",
       "-----------------------------------------------------------------------------\n",
       "const             -0.074753         0.826255           -0.090           0.928\n",
       "L1.fln_res         0.806166         0.011003           73.270           0.000\n",
       "L1.joi_res         0.171834         0.012066           14.241           0.000\n",
       "L1.sbr_res         0.124700         0.010810           11.535           0.000\n",
       "L2.fln_res        -0.112723         0.010895          -10.346           0.000\n",
       "L2.joi_res        -0.058395         0.012107           -4.823           0.000\n",
       "L2.sbr_res        -0.047273         0.010903           -4.336           0.000\n",
       "=============================================================================\n",
       "\n",
       "Results for equation joi_res\n",
       "=============================================================================\n",
       "                coefficient       std. error           t-stat            prob\n",
       "-----------------------------------------------------------------------------\n",
       "const              0.458343         0.748165            0.613           0.540\n",
       "L1.fln_res         0.122106         0.009963           12.256           0.000\n",
       "L1.joi_res         0.842181         0.010926           77.083           0.000\n",
       "L1.sbr_res         0.057745         0.009789            5.899           0.000\n",
       "L2.fln_res        -0.061373         0.009865           -6.221           0.000\n",
       "L2.joi_res        -0.076453         0.010963           -6.974           0.000\n",
       "L2.sbr_res        -0.038907         0.009872           -3.941           0.000\n",
       "=============================================================================\n",
       "\n",
       "Results for equation sbr_res\n",
       "=============================================================================\n",
       "                coefficient       std. error           t-stat            prob\n",
       "-----------------------------------------------------------------------------\n",
       "const              2.992982         0.819919            3.650           0.000\n",
       "L1.fln_res         0.069534         0.010918            6.369           0.000\n",
       "L1.joi_res         0.048525         0.011974            4.053           0.000\n",
       "L1.sbr_res         0.997074         0.010727           92.946           0.000\n",
       "L2.fln_res        -0.050274         0.010811           -4.650           0.000\n",
       "L2.joi_res        -0.045913         0.012014           -3.822           0.000\n",
       "L2.sbr_res        -0.176716         0.010819          -16.334           0.000\n",
       "=============================================================================\n",
       "\n",
       "Correlation matrix of residuals\n",
       "            fln_res   joi_res   sbr_res\n",
       "fln_res    1.000000  0.204660  0.175252\n",
       "joi_res    0.204660  1.000000  0.113394\n",
       "sbr_res    0.175252  0.113394  1.000000\n",
       "\n"
      ]
     },
     "execution_count": 106,
     "metadata": {},
     "output_type": "execute_result"
    }
   ],
   "source": [
    "order = 2\n",
    "results = model.fit(order)\n",
    "results.summary()"
   ]
  },
  {
   "cell_type": "code",
   "execution_count": 111,
   "metadata": {},
   "outputs": [],
   "source": [
    "results = model.fit(maxlags=24, ic='aic')"
   ]
  },
  {
   "cell_type": "code",
   "execution_count": 112,
   "metadata": {},
   "outputs": [
    {
     "data": {
      "text/plain": [
       "24"
      ]
     },
     "execution_count": 112,
     "metadata": {},
     "output_type": "execute_result"
    }
   ],
   "source": [
    "results.k_ar"
   ]
  },
  {
   "cell_type": "code",
   "execution_count": 114,
   "metadata": {},
   "outputs": [],
   "source": [
    "order = results.k_ar"
   ]
  },
  {
   "cell_type": "code",
   "execution_count": 115,
   "metadata": {},
   "outputs": [],
   "source": [
    "forecast = []\n",
    "for i in range(len(test_df)-order) :\n",
    "    forecast.append(results.forecast(test_df.values[i:i+order],1))"
   ]
  },
  {
   "cell_type": "code",
   "execution_count": 116,
   "metadata": {},
   "outputs": [],
   "source": [
    "fcst = [item[0][0] for item in forecast]"
   ]
  },
  {
   "cell_type": "code",
   "execution_count": 117,
   "metadata": {},
   "outputs": [],
   "source": [
    "obs = fln_test[order:].glo_avg.tolist()"
   ]
  },
  {
   "cell_type": "code",
   "execution_count": 118,
   "metadata": {},
   "outputs": [],
   "source": [
    "fcst =  [sum(x) for x in zip(fcst, fln_test[order:].clean.tolist())]"
   ]
  },
  {
   "cell_type": "code",
   "execution_count": 120,
   "metadata": {},
   "outputs": [
    {
     "name": "stdout",
     "output_type": "stream",
     "text": [
      "nRMSE:  44.0832659227 \n",
      "\n"
     ]
    }
   ],
   "source": [
    "_nrmse = normalized_rmse(obs, fcst)\n",
    "print(\"nRMSE: \", _nrmse, \"\\n\")"
   ]
  }
 ],
 "metadata": {
  "kernelspec": {
   "display_name": "Python [Root]",
   "language": "python",
   "name": "Python [Root]"
  },
  "language_info": {
   "codemirror_mode": {
    "name": "ipython",
    "version": 3
   },
   "file_extension": ".py",
   "mimetype": "text/x-python",
   "name": "python",
   "nbconvert_exporter": "python",
   "pygments_lexer": "ipython3",
   "version": "3.5.2"
  }
 },
 "nbformat": 4,
 "nbformat_minor": 2
}
