{
  "nbformat": 4,
  "nbformat_minor": 0,
  "metadata": {
    "colab": {
      "name": "20200824 - Wind Energy GEFCOM - Univariate SSA Forecasting.ipynb",
      "provenance": [],
      "collapsed_sections": [
        "YOaXlHm2Ltrq",
        "CDsjp5tyVcy-",
        "jrYz_tsNVoGT",
        "n7csfYzRRxAE"
      ],
      "toc_visible": true,
      "authorship_tag": "ABX9TyN0XGrA8yxqJ6SK8K1d7oOO",
      "include_colab_link": true
    },
    "kernelspec": {
      "name": "python3",
      "display_name": "Python 3"
    }
  },
  "cells": [
    {
      "cell_type": "markdown",
      "metadata": {
        "id": "view-in-github",
        "colab_type": "text"
      },
      "source": [
        "<a href=\"https://colab.research.google.com/github/cseveriano/spatio-temporal-forecasting/blob/master/notebooks/thesis_experiments/20200824_Wind_Energy_GEFCOM_Univariate_SSA_Forecasting.ipynb\" target=\"_parent\"><img src=\"https://colab.research.google.com/assets/colab-badge.svg\" alt=\"Open In Colab\"/></a>"
      ]
    },
    {
      "cell_type": "code",
      "metadata": {
        "id": "kwDpxzVZS7Zo",
        "colab": {
          "base_uri": "https://localhost:8080/",
          "height": 853
        },
        "outputId": "e27c6ea3-8493-44ff-e5c4-d7c2455b3610"
      },
      "source": [
        "!pip3 install -U git+https://github.com/PYFTS/pyFTS\n",
        "!pip3 install -U git+https://github.com/cseveriano/spatio-temporal-forecasting\n",
        "!pip3 install -U hyperopt\n",
        "!pip install pyts"
      ],
      "execution_count": null,
      "outputs": [
        {
          "output_type": "stream",
          "text": [
            "Collecting git+https://github.com/PYFTS/pyFTS\n",
            "  Cloning https://github.com/PYFTS/pyFTS to /tmp/pip-req-build-oz86ro_m\n",
            "  Running command git clone -q https://github.com/PYFTS/pyFTS /tmp/pip-req-build-oz86ro_m\n",
            "Building wheels for collected packages: pyFTS\n",
            "  Building wheel for pyFTS (setup.py) ... \u001b[?25l\u001b[?25hdone\n",
            "  Created wheel for pyFTS: filename=pyFTS-1.6-cp36-none-any.whl size=207416 sha256=7f50999815c6f17ac0a99381169a141f002cd1f28e64225e003dcf94bfb94134\n",
            "  Stored in directory: /tmp/pip-ephem-wheel-cache-1eemi11d/wheels/e7/32/a9/230470113df5a73242a5a6d05671cb646db97abf14bbce2644\n",
            "Successfully built pyFTS\n",
            "Installing collected packages: pyFTS\n",
            "Successfully installed pyFTS-1.6\n",
            "Collecting git+https://github.com/cseveriano/spatio-temporal-forecasting\n",
            "  Cloning https://github.com/cseveriano/spatio-temporal-forecasting to /tmp/pip-req-build-9wmyefp6\n",
            "  Running command git clone -q https://github.com/cseveriano/spatio-temporal-forecasting /tmp/pip-req-build-9wmyefp6\n",
            "Building wheels for collected packages: spatio-temporal-forecasting\n",
            "  Building wheel for spatio-temporal-forecasting (setup.py) ... \u001b[?25l\u001b[?25hdone\n",
            "  Created wheel for spatio-temporal-forecasting: filename=spatio_temporal_forecasting-1.0-cp36-none-any.whl size=55633 sha256=1069ca6f502b3ef7224955b48239ad24450e3bf0b507b3a6e88155d685b71cf4\n",
            "  Stored in directory: /tmp/pip-ephem-wheel-cache-j_y56s23/wheels/d2/1f/6f/439795864246039ef36c6a3c88edf7935c803c2cf97133066a\n",
            "Successfully built spatio-temporal-forecasting\n",
            "Installing collected packages: spatio-temporal-forecasting\n",
            "Successfully installed spatio-temporal-forecasting-1.0\n",
            "Collecting hyperopt\n",
            "\u001b[?25l  Downloading https://files.pythonhosted.org/packages/90/d5/c7e276f4f7bc65ac26391c435245e5ef8911b4393e3df5a74906c48afeaf/hyperopt-0.2.4-py2.py3-none-any.whl (964kB)\n",
            "\u001b[K     |████████████████████████████████| 972kB 5.1MB/s \n",
            "\u001b[?25hRequirement already satisfied, skipping upgrade: scipy in /usr/local/lib/python3.6/dist-packages (from hyperopt) (1.4.1)\n",
            "Requirement already satisfied, skipping upgrade: cloudpickle in /usr/local/lib/python3.6/dist-packages (from hyperopt) (1.3.0)\n",
            "Requirement already satisfied, skipping upgrade: networkx>=2.2 in /usr/local/lib/python3.6/dist-packages (from hyperopt) (2.5)\n",
            "Requirement already satisfied, skipping upgrade: tqdm in /usr/local/lib/python3.6/dist-packages (from hyperopt) (4.41.1)\n",
            "Requirement already satisfied, skipping upgrade: numpy in /usr/local/lib/python3.6/dist-packages (from hyperopt) (1.18.5)\n",
            "Requirement already satisfied, skipping upgrade: future in /usr/local/lib/python3.6/dist-packages (from hyperopt) (0.16.0)\n",
            "Requirement already satisfied, skipping upgrade: six in /usr/local/lib/python3.6/dist-packages (from hyperopt) (1.15.0)\n",
            "Requirement already satisfied, skipping upgrade: decorator>=4.3.0 in /usr/local/lib/python3.6/dist-packages (from networkx>=2.2->hyperopt) (4.4.2)\n",
            "Installing collected packages: hyperopt\n",
            "  Found existing installation: hyperopt 0.1.2\n",
            "    Uninstalling hyperopt-0.1.2:\n",
            "      Successfully uninstalled hyperopt-0.1.2\n",
            "Successfully installed hyperopt-0.2.4\n",
            "Collecting pyts\n",
            "\u001b[?25l  Downloading https://files.pythonhosted.org/packages/b6/2b/1a62c0d32b40ee85daa8f6a6160828537b3d846c9fe93253b38846c6ec1f/pyts-0.11.0-py3-none-any.whl (2.5MB)\n",
            "\u001b[K     |████████████████████████████████| 2.5MB 5.2MB/s \n",
            "\u001b[?25hRequirement already satisfied: numpy>=1.17.5 in /usr/local/lib/python3.6/dist-packages (from pyts) (1.18.5)\n",
            "Requirement already satisfied: numba>=0.48.0 in /usr/local/lib/python3.6/dist-packages (from pyts) (0.48.0)\n",
            "Requirement already satisfied: scikit-learn>=0.22.1 in /usr/local/lib/python3.6/dist-packages (from pyts) (0.22.2.post1)\n",
            "Requirement already satisfied: joblib>=0.12 in /usr/local/lib/python3.6/dist-packages (from pyts) (0.16.0)\n",
            "Requirement already satisfied: scipy>=1.3.0 in /usr/local/lib/python3.6/dist-packages (from pyts) (1.4.1)\n",
            "Requirement already satisfied: llvmlite<0.32.0,>=0.31.0dev0 in /usr/local/lib/python3.6/dist-packages (from numba>=0.48.0->pyts) (0.31.0)\n",
            "Requirement already satisfied: setuptools in /usr/local/lib/python3.6/dist-packages (from numba>=0.48.0->pyts) (49.6.0)\n",
            "Installing collected packages: pyts\n",
            "Successfully installed pyts-0.11.0\n"
          ],
          "name": "stdout"
        }
      ]
    },
    {
      "cell_type": "markdown",
      "metadata": {
        "id": "caMH1uPg4wte"
      },
      "source": [
        "## Aux Functions"
      ]
    },
    {
      "cell_type": "code",
      "metadata": {
        "id": "3yYKyI3A4zL3"
      },
      "source": [
        "import datetime\n",
        "\n",
        "def normalize(df):\n",
        "    mindf = df.min()\n",
        "    maxdf = df.max()\n",
        "    return (df-mindf)/(maxdf-mindf)\n",
        "\n",
        "def denormalize(norm, _min, _max):\n",
        "    return [(n * (_max-_min)) + _min for n in norm]\n",
        "\n",
        "\n",
        "def ssa_decomposition(df, period=144, embedding_dim=15, component_threshold=3):\n",
        "  main_inds = [i for i in range(component_threshold)]\n",
        "  res_inds = [i for i in range(component_threshold, embedding_dim)]\n",
        "\n",
        "  groups = [main_inds, res_inds]\n",
        "\n",
        "  stations = [c for c in df.columns if c not in ['zen', 'Ics']]\n",
        "  \n",
        "  clean_df = pd.DataFrame(columns = stations, index = df.index)\n",
        "  residual_df = pd.DataFrame(columns = stations, index = df.index)\n",
        "\n",
        "  for s in stations:\n",
        "    X = np.array(df[s].values)\n",
        "    X = X.reshape(1,len(X))\n",
        "    # Singular Spectrum Analysis\n",
        "    ssa = SingularSpectrumAnalysis(window_size=embedding_dim, groups=groups)\n",
        "    X_ssa = ssa.fit_transform(X)\n",
        "\n",
        "    clean_df[s] = X_ssa[0]\n",
        "    residual_df[s] = X_ssa[1]\n",
        "  return clean_df, residual_df\n",
        "\n",
        "import datetime\n",
        "\n",
        "def getRollingWindow(index):\n",
        "    pivot = index\n",
        "    train_start = pivot.strftime('%Y-%m-%d')\n",
        "    pivot = pivot + datetime.timedelta(days=20)\n",
        "    train_end = pivot.strftime('%Y-%m-%d')\n",
        "\n",
        "    pivot = pivot + datetime.timedelta(days=1)\n",
        "    test_start = pivot.strftime('%Y-%m-%d')\n",
        "    pivot = pivot + datetime.timedelta(days=6)\n",
        "    test_end = pivot.strftime('%Y-%m-%d')\n",
        "    \n",
        "    return train_start, train_end, test_start, test_end\n",
        "\n",
        "def calculate_rolling_error(cv_name, df, forecasts, order_list):\n",
        "    cv_results = pd.DataFrame(columns=['Split', 'RMSE', 'SMAPE', 'U'])\n",
        "\n",
        "    limit = df.index[-1].strftime('%Y-%m-%d')\n",
        "\n",
        "    test_end = \"\"\n",
        "    index = df.index[0]\n",
        "\n",
        "    for i in np.arange(len(forecasts)):\n",
        "\n",
        "        train_start, train_end, test_start, test_end = getRollingWindow(index)\n",
        "        test = df[test_start : test_end]\n",
        "    \n",
        "        yhat = forecasts[i]\n",
        "        order = order_list[i]\n",
        "        \n",
        "        rmse = Measures.rmse(test[target_station].iloc[order:], yhat[:-1])\n",
        "        \n",
        "        smape = Measures.smape(test[target_station].iloc[order:], yhat[:-1])\n",
        "        \n",
        "        res = {'Split' : index.strftime('%Y-%m-%d') ,'RMSE' : rmse, 'SMAPE' : smape}\n",
        "        cv_results = cv_results.append(res, ignore_index=True)\n",
        "        cv_results.to_csv(cv_name+\".csv\")        \n",
        "\n",
        "        index = index + datetime.timedelta(days=7)\n",
        "\n",
        "def reconstruct_ssa_series(clean, residual):\n",
        "    return [r + c for r, c in zip(residual,clean)]\n",
        "\n",
        "def get_final_forecast(forecasts_clean, forecasts_residual, order_list_clean, order_list_residual):\n",
        "    \n",
        "    forecasts_final = []\n",
        "    order_list = []\n",
        "    \n",
        "    for i in np.arange(len(forecasts_clean)):\n",
        "        f_clean = denormalize(forecasts_clean[i], min_clean, max_clean)\n",
        "        f_residual = denormalize(forecasts_residual[i], min_residual, max_residual)\n",
        "\n",
        "        o_clean = order_list_clean[i]\n",
        "        o_residual = order_list_residual[i]\n",
        "\n",
        "        max_order = max(o_clean, o_residual)\n",
        "\n",
        "        f_final = reconstruct_ssa_series(f_clean[max_order-o_clean:], f_residual[max_order-o_residual:])\n",
        "        \n",
        "        forecasts_final.append(f_final)\n",
        "        order_list.append(max_order)\n",
        "        \n",
        "    return forecasts_final, order_list"
      ],
      "execution_count": null,
      "outputs": []
    },
    {
      "cell_type": "markdown",
      "metadata": {
        "id": "fb-jALBH5axG"
      },
      "source": [
        "## Load Dataset"
      ]
    },
    {
      "cell_type": "code",
      "metadata": {
        "id": "ZFG_5E2_5dDP"
      },
      "source": [
        "import pandas as pd\n",
        "import numpy as np\n",
        "from hyperopt import hp\n",
        "from spatiotemporal.util import parameter_tuning, sampling\n",
        "from spatiotemporal.util import experiments as ex\n",
        "from sklearn.metrics import mean_squared_error\n",
        "import matplotlib.pyplot as plt\n",
        "import pickle\n",
        "import math\n",
        "from pyFTS.benchmarks import Measures\n",
        "from pyts.decomposition import SingularSpectrumAnalysis\n",
        "from google.colab import files\n",
        "import warnings \n",
        "warnings.filterwarnings(\"ignore\", category=DeprecationWarning)"
      ],
      "execution_count": null,
      "outputs": []
    },
    {
      "cell_type": "code",
      "metadata": {
        "id": "nim3QRUN5fQ5"
      },
      "source": [
        "#Set target and input variables \n",
        "target_station = 'wp1'\n",
        "\n",
        "df = pd.read_csv('https://query.data.world/s/3zx2jusk4z6zvlg2dafqgshqp3oao6',  parse_dates=['date'], index_col=0)\n",
        "df.index = pd.to_datetime(df.index, format=\"%Y%m%d%H\")\n",
        "\n",
        "interval = ((df.index >= '2009-07') & (df.index <= '2010-08'))\n",
        "df = df.loc[interval]\n",
        "\n",
        "df_ssa_clean, df_ssa_residual = ssa_decomposition(df)\n",
        "\n",
        "#Normalize Data\n",
        "\n",
        "# Save Min-Max for Denorm\n",
        "min_raw = df[target_station].min()\n",
        "min_clean = df_ssa_clean[target_station].min()\n",
        "min_residual = df_ssa_residual[target_station].min()\n",
        "\n",
        "max_raw = df[target_station].max()\n",
        "max_clean = df_ssa_clean[target_station].max()\n",
        "max_residual = df_ssa_residual[target_station].max()\n",
        "\n",
        "# Perform Normalization\n",
        "norm_df_ssa_clean = normalize(df_ssa_clean)\n",
        "norm_df_ssa_residual = normalize(df_ssa_residual)\n",
        "\n",
        "\n",
        "# Tuning split\n",
        "tuning_ssa_clean = norm_df_ssa_clean[\"2009-07-01\":\"2009-07-31\"]\n",
        "tuning_ssa_residual = norm_df_ssa_residual[\"2009-07-01\":\"2009-07-31\"]\n",
        "\n",
        "norm_df_ssa_clean = norm_df_ssa_clean[\"2009-08-01\":\"2010-08-30\"]\n",
        "norm_df_ssa_residual = norm_df_ssa_residual[\"2009-08-01\":\"2010-08-30\"]\n",
        "df = df[\"2009-08-01\":\"2010-08-30\"]"
      ],
      "execution_count": null,
      "outputs": []
    },
    {
      "cell_type": "markdown",
      "metadata": {
        "id": "N8DjV_xq1b9Z"
      },
      "source": [
        "### Persistence"
      ]
    },
    {
      "cell_type": "code",
      "metadata": {
        "id": "80awOiDO1dmX"
      },
      "source": [
        "def persistence_forecast(train, test, step):\n",
        "    predictions = []\n",
        "    \n",
        "    for t in np.arange(0,len(test), step):\n",
        "        yhat = [test.iloc[t]]  * step\n",
        "        predictions.extend(yhat)\n",
        "        \n",
        "    return predictions\n",
        "\n",
        "def rolling_cv_persistence(df, step):\n",
        "\n",
        "    forecasts = []\n",
        "    lags_list = []\n",
        "\n",
        "    limit = df.index[-1].strftime('%Y-%m-%d')\n",
        "\n",
        "    test_end = \"\"\n",
        "    index = df.index[0]\n",
        "\n",
        "    while test_end < limit :\n",
        "        print(\"Index: \", index.strftime('%Y-%m-%d'))  \n",
        "\n",
        "        train_start, train_end, test_start, test_end = getRollingWindow(index)\n",
        "        index = index + datetime.timedelta(days=7)\n",
        "        \n",
        "        train = df[train_start : train_end]\n",
        "        test = df[test_start : test_end]\n",
        "    \n",
        "        yhat = persistence_forecast(train[target_station], test[target_station], step)        \n",
        "        \n",
        "        lags_list.append(1)\n",
        "        forecasts.append(yhat)\n",
        "\n",
        "    return forecasts, lags_list"
      ],
      "execution_count": null,
      "outputs": []
    },
    {
      "cell_type": "code",
      "metadata": {
        "id": "hoVUeMSk1j6O",
        "colab": {
          "base_uri": "https://localhost:8080/",
          "height": 1000
        },
        "outputId": "ea00f66b-270e-41bc-c85a-48cbb89c60ca"
      },
      "source": [
        "forecasts_clean, order_list_clean = rolling_cv_persistence(norm_df_ssa_clean, 1)\n",
        "forecasts_residual, order_list_residual = rolling_cv_persistence(norm_df_ssa_residual, 1)\n",
        "forecasts_final, order_list = get_final_forecast(forecasts_clean, forecasts_residual, order_list_clean, order_list_residual)\n",
        "calculate_rolling_error(\"rolling_cv_wind_persistence\", df, forecasts_final, order_list)"
      ],
      "execution_count": null,
      "outputs": [
        {
          "output_type": "stream",
          "text": [
            "Index:  2009-08-01\n",
            "Index:  2009-08-08\n",
            "Index:  2009-08-15\n",
            "Index:  2009-08-22\n",
            "Index:  2009-08-29\n",
            "Index:  2009-09-05\n",
            "Index:  2009-09-12\n",
            "Index:  2009-09-19\n",
            "Index:  2009-09-26\n",
            "Index:  2009-10-03\n",
            "Index:  2009-10-10\n",
            "Index:  2009-10-17\n",
            "Index:  2009-10-24\n",
            "Index:  2009-10-31\n",
            "Index:  2009-11-07\n",
            "Index:  2009-11-14\n",
            "Index:  2009-11-21\n",
            "Index:  2009-11-28\n",
            "Index:  2009-12-05\n",
            "Index:  2009-12-12\n",
            "Index:  2009-12-19\n",
            "Index:  2009-12-26\n",
            "Index:  2010-01-02\n",
            "Index:  2010-01-09\n",
            "Index:  2010-01-16\n",
            "Index:  2010-01-23\n",
            "Index:  2010-01-30\n",
            "Index:  2010-02-06\n",
            "Index:  2010-02-13\n",
            "Index:  2010-02-20\n",
            "Index:  2010-02-27\n",
            "Index:  2010-03-06\n",
            "Index:  2010-03-13\n",
            "Index:  2010-03-20\n",
            "Index:  2010-03-27\n",
            "Index:  2010-04-03\n",
            "Index:  2010-04-10\n",
            "Index:  2010-04-17\n",
            "Index:  2010-04-24\n",
            "Index:  2010-05-01\n",
            "Index:  2010-05-08\n",
            "Index:  2010-05-15\n",
            "Index:  2010-05-22\n",
            "Index:  2010-05-29\n",
            "Index:  2010-06-05\n",
            "Index:  2010-06-12\n",
            "Index:  2010-06-19\n",
            "Index:  2010-06-26\n",
            "Index:  2010-07-03\n",
            "Index:  2010-07-10\n",
            "Index:  2009-08-01\n",
            "Index:  2009-08-08\n",
            "Index:  2009-08-15\n",
            "Index:  2009-08-22\n",
            "Index:  2009-08-29\n",
            "Index:  2009-09-05\n",
            "Index:  2009-09-12\n",
            "Index:  2009-09-19\n",
            "Index:  2009-09-26\n",
            "Index:  2009-10-03\n",
            "Index:  2009-10-10\n",
            "Index:  2009-10-17\n",
            "Index:  2009-10-24\n",
            "Index:  2009-10-31\n",
            "Index:  2009-11-07\n",
            "Index:  2009-11-14\n",
            "Index:  2009-11-21\n",
            "Index:  2009-11-28\n",
            "Index:  2009-12-05\n",
            "Index:  2009-12-12\n",
            "Index:  2009-12-19\n",
            "Index:  2009-12-26\n",
            "Index:  2010-01-02\n",
            "Index:  2010-01-09\n",
            "Index:  2010-01-16\n",
            "Index:  2010-01-23\n",
            "Index:  2010-01-30\n",
            "Index:  2010-02-06\n",
            "Index:  2010-02-13\n",
            "Index:  2010-02-20\n",
            "Index:  2010-02-27\n",
            "Index:  2010-03-06\n",
            "Index:  2010-03-13\n",
            "Index:  2010-03-20\n",
            "Index:  2010-03-27\n",
            "Index:  2010-04-03\n",
            "Index:  2010-04-10\n",
            "Index:  2010-04-17\n",
            "Index:  2010-04-24\n",
            "Index:  2010-05-01\n",
            "Index:  2010-05-08\n",
            "Index:  2010-05-15\n",
            "Index:  2010-05-22\n",
            "Index:  2010-05-29\n",
            "Index:  2010-06-05\n",
            "Index:  2010-06-12\n",
            "Index:  2010-06-19\n",
            "Index:  2010-06-26\n",
            "Index:  2010-07-03\n",
            "Index:  2010-07-10\n"
          ],
          "name": "stdout"
        }
      ]
    },
    {
      "cell_type": "code",
      "metadata": {
        "id": "Vcwc3Qt14HBn",
        "colab": {
          "base_uri": "https://localhost:8080/",
          "height": 17
        },
        "outputId": "68f39137-9dcf-456b-c8a5-9bcdc7b70ff1"
      },
      "source": [
        "files.download('rolling_cv_wind_persistence.csv')"
      ],
      "execution_count": null,
      "outputs": [
        {
          "output_type": "display_data",
          "data": {
            "application/javascript": [
              "\n",
              "    async function download(id, filename, size) {\n",
              "      if (!google.colab.kernel.accessAllowed) {\n",
              "        return;\n",
              "      }\n",
              "      const div = document.createElement('div');\n",
              "      const label = document.createElement('label');\n",
              "      label.textContent = `Downloading \"${filename}\": `;\n",
              "      div.appendChild(label);\n",
              "      const progress = document.createElement('progress');\n",
              "      progress.max = size;\n",
              "      div.appendChild(progress);\n",
              "      document.body.appendChild(div);\n",
              "\n",
              "      const buffers = [];\n",
              "      let downloaded = 0;\n",
              "\n",
              "      const channel = await google.colab.kernel.comms.open(id);\n",
              "      // Send a message to notify the kernel that we're ready.\n",
              "      channel.send({})\n",
              "\n",
              "      for await (const message of channel.messages) {\n",
              "        // Send a message to notify the kernel that we're ready.\n",
              "        channel.send({})\n",
              "        if (message.buffers) {\n",
              "          for (const buffer of message.buffers) {\n",
              "            buffers.push(buffer);\n",
              "            downloaded += buffer.byteLength;\n",
              "            progress.value = downloaded;\n",
              "          }\n",
              "        }\n",
              "      }\n",
              "      const blob = new Blob(buffers, {type: 'application/binary'});\n",
              "      const a = document.createElement('a');\n",
              "      a.href = window.URL.createObjectURL(blob);\n",
              "      a.download = filename;\n",
              "      div.appendChild(a);\n",
              "      a.click();\n",
              "      div.remove();\n",
              "    }\n",
              "  "
            ],
            "text/plain": [
              "<IPython.core.display.Javascript object>"
            ]
          },
          "metadata": {
            "tags": []
          }
        },
        {
          "output_type": "display_data",
          "data": {
            "application/javascript": [
              "download(\"download_df62b11c-5f6f-4e38-a832-7398f3ecb605\", \"rolling_cv_wind_persistence.csv\", 2669)"
            ],
            "text/plain": [
              "<IPython.core.display.Javascript object>"
            ]
          },
          "metadata": {
            "tags": []
          }
        }
      ]
    },
    {
      "cell_type": "markdown",
      "metadata": {
        "id": "9J5Xl-ATkZ9i"
      },
      "source": [
        "### Univariate MLP"
      ]
    },
    {
      "cell_type": "code",
      "metadata": {
        "id": "0bS4oGewknHx"
      },
      "source": [
        "from keras.models import Sequential\n",
        "from keras.layers import Dense\n",
        "from keras.layers import LSTM\n",
        "from keras.layers import Dropout\n",
        "from keras.constraints import maxnorm\n",
        "from keras.models import Sequential\n",
        "from keras.layers.core import Dense, Dropout, Activation\n",
        "from keras.layers.normalization import BatchNormalization"
      ],
      "execution_count": null,
      "outputs": []
    },
    {
      "cell_type": "code",
      "metadata": {
        "id": "UhHYgI3hneeu"
      },
      "source": [
        "# convert series to supervised learning\n",
        "def series_to_supervised(data, n_in=1, n_out=1, dropnan=True):\n",
        "    n_vars = 1 if type(data) is list else data.shape[1]\n",
        "    df = pd.DataFrame(data)\n",
        "    cols, names = list(), list()\n",
        "    # input sequence (t-n, ... t-1)\n",
        "    for i in range(n_in, 0, -1):\n",
        "        cols.append(df.shift(i))\n",
        "        names += [('var%d(t-%d)' % (j+1, i)) for j in range(n_vars)]\n",
        "    # forecast sequence (t, t+1, ... t+n)\n",
        "    for i in range(0, n_out):\n",
        "        cols.append(df.shift(-i))\n",
        "        if i == 0:\n",
        "            names += [('var%d(t)' % (j+1)) for j in range(n_vars)]\n",
        "        else:\n",
        "            names += [('var%d(t+%d)' % (j+1, i)) for j in range(n_vars)]\n",
        "    # put it all together\n",
        "    agg = pd.concat(cols, axis=1)\n",
        "    agg.columns = names\n",
        "    # drop rows with NaN values\n",
        "    if dropnan:\n",
        "        agg.dropna(inplace=True)\n",
        "    return agg"
      ],
      "execution_count": null,
      "outputs": []
    },
    {
      "cell_type": "markdown",
      "metadata": {
        "id": "MRjkv406AO3f"
      },
      "source": [
        "#### MLP Tuning"
      ]
    },
    {
      "cell_type": "code",
      "metadata": {
        "id": "J0QTkHF_AWTZ"
      },
      "source": [
        "mlp_space = {'choice':\n",
        "\n",
        "   hp.choice('num_layers',\n",
        "             [\n",
        "                 {'layers': 'two',\n",
        "                 },\n",
        "\n",
        "                 {'layers': 'three',\n",
        "\n",
        "                   'units3': hp.choice('units3', [8, 16, 64, 128, 256, 512]),\n",
        "                   'dropout3': hp.choice('dropout3', [0, 0.25, 0.5, 0.75])\n",
        "                  }\n",
        "\n",
        "             ]),\n",
        "   'units1': hp.choice('units1', [8, 16, 64, 128, 256, 512]),\n",
        "   'units2': hp.choice('units2', [8, 16, 64, 128, 256, 512]),\n",
        "\n",
        "   'dropout1': hp.choice('dropout1', [0, 0.25, 0.5, 0.75]),\n",
        "   'dropout2': hp.choice('dropout2', [0, 0.25, 0.5, 0.75]),\n",
        "\n",
        "   'batch_size': hp.choice('batch_size', [28, 64, 128, 256, 512]),\n",
        "   'order': hp.choice('order', [1, 2, 4, 8]),\n",
        "   'input': hp.choice('input', [target_station]),\n",
        "   'output': hp.choice('output', [target_station]),\n",
        "   'epochs': hp.choice('epochs', [100, 200, 300])}\n"
      ],
      "execution_count": null,
      "outputs": []
    },
    {
      "cell_type": "code",
      "metadata": {
        "id": "p68ya--QAZYF"
      },
      "source": [
        "def mlp_tuning(train_df, test_df, params):\n",
        "    _input = [target_station]\n",
        "    _nlags = params['order']\n",
        "    _epochs = params['epochs']\n",
        "    _batch_size = params['batch_size']\n",
        "    nfeat = len(_input)\n",
        "    nsteps = params.get('step',1)\n",
        "    nobs = _nlags * nfeat\n",
        "\n",
        "    output_index = -nfeat*nsteps\n",
        "\n",
        "    train_reshaped_df = series_to_supervised(train_df[_input].values, n_in=_nlags, n_out=nsteps)\n",
        "    train_X, train_Y = train_reshaped_df.iloc[:, :nobs].values, train_reshaped_df.iloc[:, output_index:].values\n",
        "\n",
        "    test_reshaped_df = series_to_supervised(test_df[_input].values, n_in=_nlags, n_out=nsteps)\n",
        "    test_X, test_Y = test_reshaped_df.iloc[:, :nobs].values, test_reshaped_df.iloc[:, output_index:].values\n",
        "\n",
        "    # design network\n",
        "    model = Sequential()\n",
        "    model.add(Dense(params['units1'], activation='relu', input_dim=train_X.shape[1]))\n",
        "    model.add(Dense(params['units2'], activation='relu'))\n",
        "    if params['choice']['layers'] == 'three':\n",
        "      model.add(Dense(params['choice']['units3'], activation='relu'))\n",
        "    model.add(Dense(1))\n",
        "    model.compile(loss='mean_squared_error', optimizer='adam')\n",
        "\n",
        "    # includes the call back object\n",
        "    model.fit(train_X, train_Y, epochs=_epochs, batch_size=_batch_size, verbose=False, shuffle=False)\n",
        "\n",
        "    # predict the test set\n",
        "    forecast = model.predict(test_X, verbose=False)\n",
        "\n",
        "    forecast = [f[0] for f in forecast]\n",
        "\n",
        "    return forecast\n"
      ],
      "execution_count": null,
      "outputs": []
    },
    {
      "cell_type": "code",
      "metadata": {
        "id": "RHpZzSSdAevd",
        "colab": {
          "base_uri": "https://localhost:8080/",
          "height": 1000
        },
        "outputId": "8af93de7-54d1-41e9-b141-615c34b417bb"
      },
      "source": [
        "methods = []\n",
        "methods.append((\"EXP_WIND_MLP\", mlp_tuning, mlp_space))\n",
        "train_split = 0.6\n",
        "parameter_tuning.run_search(methods, tuning_ssa_residual, train_split, Measures.rmse, max_evals=30, resample=None)"
      ],
      "execution_count": null,
      "outputs": [
        {
          "output_type": "stream",
          "text": [
            "Running experiment: EXP_WIND_MLP\n",
            "{'batch_size': 512, 'choice': {'layers': 'two'}, 'dropout1': 0.5, 'dropout2': 0.75, 'epochs': 200, 'input': 'wp1', 'order': 4, 'output': 'wp1', 'units1': 8, 'units2': 256}\n",
            "Error : 0.04831706912984902\n",
            "{'batch_size': 128, 'choice': {'layers': 'two'}, 'dropout1': 0.5, 'dropout2': 0.25, 'epochs': 200, 'input': 'wp1', 'order': 2, 'output': 'wp1', 'units1': 64, 'units2': 512}\n",
            "Error : 0.04851659340185528\n",
            "{'batch_size': 512, 'choice': {'layers': 'two'}, 'dropout1': 0.5, 'dropout2': 0.25, 'epochs': 200, 'input': 'wp1', 'order': 2, 'output': 'wp1', 'units1': 16, 'units2': 16}\n",
            "Error : 0.05212544284366126\n",
            "{'batch_size': 256, 'choice': {'dropout3': 0, 'layers': 'three', 'units3': 8}, 'dropout1': 0.25, 'dropout2': 0.5, 'epochs': 200, 'input': 'wp1', 'order': 4, 'output': 'wp1', 'units1': 8, 'units2': 128}\n",
            "Error : 0.04779186996272765\n",
            "{'batch_size': 512, 'choice': {'layers': 'two'}, 'dropout1': 0.5, 'dropout2': 0.25, 'epochs': 200, 'input': 'wp1', 'order': 8, 'output': 'wp1', 'units1': 8, 'units2': 256}\n",
            "Error : 0.05515005640226026\n",
            "{'batch_size': 28, 'choice': {'dropout3': 0.75, 'layers': 'three', 'units3': 64}, 'dropout1': 0, 'dropout2': 0.75, 'epochs': 200, 'input': 'wp1', 'order': 1, 'output': 'wp1', 'units1': 128, 'units2': 512}\n",
            "Error : 0.05045028598749327\n",
            "{'batch_size': 256, 'choice': {'dropout3': 0.75, 'layers': 'three', 'units3': 256}, 'dropout1': 0.75, 'dropout2': 0.5, 'epochs': 100, 'input': 'wp1', 'order': 8, 'output': 'wp1', 'units1': 512, 'units2': 8}\n",
            "Error : 0.04915869173820926\n",
            "{'batch_size': 512, 'choice': {'layers': 'two'}, 'dropout1': 0.25, 'dropout2': 0, 'epochs': 300, 'input': 'wp1', 'order': 1, 'output': 'wp1', 'units1': 8, 'units2': 128}\n",
            "Error : 0.0504178839110399\n",
            "{'batch_size': 256, 'choice': {'layers': 'two'}, 'dropout1': 0.5, 'dropout2': 0.25, 'epochs': 300, 'input': 'wp1', 'order': 8, 'output': 'wp1', 'units1': 256, 'units2': 8}\n",
            "Error : 0.045057093728339145\n",
            "{'batch_size': 256, 'choice': {'dropout3': 0.75, 'layers': 'three', 'units3': 64}, 'dropout1': 0.25, 'dropout2': 0.5, 'epochs': 100, 'input': 'wp1', 'order': 8, 'output': 'wp1', 'units1': 8, 'units2': 128}\n",
            "Error : 0.04938848982596292\n",
            "{'batch_size': 512, 'choice': {'layers': 'two'}, 'dropout1': 0.25, 'dropout2': 0.25, 'epochs': 200, 'input': 'wp1', 'order': 2, 'output': 'wp1', 'units1': 512, 'units2': 512}\n",
            "Error : 0.04939573905776225\n",
            "{'batch_size': 256, 'choice': {'dropout3': 0.75, 'layers': 'three', 'units3': 8}, 'dropout1': 0.25, 'dropout2': 0.75, 'epochs': 200, 'input': 'wp1', 'order': 4, 'output': 'wp1', 'units1': 8, 'units2': 128}\n",
            "Error : 0.047451307718454544\n",
            "{'batch_size': 28, 'choice': {'dropout3': 0.75, 'layers': 'three', 'units3': 16}, 'dropout1': 0.5, 'dropout2': 0, 'epochs': 300, 'input': 'wp1', 'order': 2, 'output': 'wp1', 'units1': 16, 'units2': 16}\n",
            "Error : 0.04896911961165939\n",
            "{'batch_size': 128, 'choice': {'layers': 'two'}, 'dropout1': 0.5, 'dropout2': 0.75, 'epochs': 300, 'input': 'wp1', 'order': 8, 'output': 'wp1', 'units1': 64, 'units2': 128}\n",
            "Error : 0.043476891406143636\n",
            "{'batch_size': 64, 'choice': {'dropout3': 0, 'layers': 'three', 'units3': 16}, 'dropout1': 0.5, 'dropout2': 0.75, 'epochs': 300, 'input': 'wp1', 'order': 8, 'output': 'wp1', 'units1': 128, 'units2': 128}\n",
            "Error : 0.046780997809800724\n",
            "{'batch_size': 64, 'choice': {'dropout3': 0.25, 'layers': 'three', 'units3': 128}, 'dropout1': 0.25, 'dropout2': 0.25, 'epochs': 300, 'input': 'wp1', 'order': 8, 'output': 'wp1', 'units1': 64, 'units2': 128}\n",
            "Error : 0.050338278950375584\n",
            "{'batch_size': 512, 'choice': {'layers': 'two'}, 'dropout1': 0.25, 'dropout2': 0.25, 'epochs': 200, 'input': 'wp1', 'order': 4, 'output': 'wp1', 'units1': 256, 'units2': 256}\n",
            "Error : 0.047219883954759304\n",
            "{'batch_size': 64, 'choice': {'layers': 'two'}, 'dropout1': 0.75, 'dropout2': 0.75, 'epochs': 200, 'input': 'wp1', 'order': 8, 'output': 'wp1', 'units1': 128, 'units2': 128}\n",
            "Error : 0.046477267407796424\n",
            "{'batch_size': 512, 'choice': {'dropout3': 0.25, 'layers': 'three', 'units3': 128}, 'dropout1': 0.25, 'dropout2': 0.25, 'epochs': 300, 'input': 'wp1', 'order': 4, 'output': 'wp1', 'units1': 512, 'units2': 128}\n",
            "Error : 0.04658771366645055\n",
            "{'batch_size': 128, 'choice': {'dropout3': 0.5, 'layers': 'three', 'units3': 128}, 'dropout1': 0.5, 'dropout2': 0.75, 'epochs': 200, 'input': 'wp1', 'order': 4, 'output': 'wp1', 'units1': 64, 'units2': 128}\n",
            "Error : 0.04763026485836543\n",
            "{'batch_size': 128, 'choice': {'layers': 'two'}, 'dropout1': 0, 'dropout2': 0, 'epochs': 300, 'input': 'wp1', 'order': 8, 'output': 'wp1', 'units1': 256, 'units2': 64}\n",
            "Error : 0.04174700919891828\n",
            "{'batch_size': 128, 'choice': {'layers': 'two'}, 'dropout1': 0, 'dropout2': 0, 'epochs': 300, 'input': 'wp1', 'order': 8, 'output': 'wp1', 'units1': 256, 'units2': 64}\n",
            "Error : 0.04258339778122366\n",
            "{'batch_size': 128, 'choice': {'layers': 'two'}, 'dropout1': 0, 'dropout2': 0, 'epochs': 300, 'input': 'wp1', 'order': 8, 'output': 'wp1', 'units1': 256, 'units2': 64}\n",
            "Error : 0.042415281308726765\n",
            "{'batch_size': 128, 'choice': {'layers': 'two'}, 'dropout1': 0, 'dropout2': 0, 'epochs': 100, 'input': 'wp1', 'order': 1, 'output': 'wp1', 'units1': 256, 'units2': 64}\n",
            "Error : 0.05066576679611774\n",
            "{'batch_size': 128, 'choice': {'layers': 'two'}, 'dropout1': 0, 'dropout2': 0, 'epochs': 300, 'input': 'wp1', 'order': 8, 'output': 'wp1', 'units1': 256, 'units2': 64}\n",
            "Error : 0.044116377988449085\n",
            "{'batch_size': 128, 'choice': {'layers': 'two'}, 'dropout1': 0, 'dropout2': 0, 'epochs': 300, 'input': 'wp1', 'order': 8, 'output': 'wp1', 'units1': 256, 'units2': 64}\n",
            "Error : 0.0427322733164957\n",
            "{'batch_size': 128, 'choice': {'layers': 'two'}, 'dropout1': 0, 'dropout2': 0, 'epochs': 300, 'input': 'wp1', 'order': 1, 'output': 'wp1', 'units1': 256, 'units2': 64}\n",
            "Error : 0.04989392734578745\n",
            "{'batch_size': 128, 'choice': {'layers': 'two'}, 'dropout1': 0, 'dropout2': 0, 'epochs': 100, 'input': 'wp1', 'order': 8, 'output': 'wp1', 'units1': 256, 'units2': 64}\n",
            "Error : 0.046853854129797916\n",
            "{'batch_size': 28, 'choice': {'layers': 'two'}, 'dropout1': 0, 'dropout2': 0, 'epochs': 300, 'input': 'wp1', 'order': 8, 'output': 'wp1', 'units1': 256, 'units2': 64}\n",
            "Error : 0.04829076744177457\n",
            "{'batch_size': 128, 'choice': {'layers': 'two'}, 'dropout1': 0.75, 'dropout2': 0, 'epochs': 300, 'input': 'wp1', 'order': 8, 'output': 'wp1', 'units1': 16, 'units2': 64}\n",
            "Error : 0.04301090105454016\n",
            "100%|██████████| 30/30 [00:58<00:00,  1.97s/trial, best loss: 0.04174700919891828]\n",
            "best parameters: \n",
            "{'batch_size': 128, 'choice': {'layers': 'two'}, 'dropout1': 0, 'dropout2': 0, 'epochs': 300, 'input': 'wp1', 'order': 8, 'output': 'wp1', 'units1': 256, 'units2': 64}\n"
          ],
          "name": "stdout"
        }
      ]
    },
    {
      "cell_type": "markdown",
      "metadata": {
        "id": "hQ0oNy8EZgmY"
      },
      "source": [
        "Best params: \\\n",
        "\\\n",
        "mlp SSA clean: \\\n",
        " {'batch_size': 256, 'choice': {'layers': 'two'}, 'dropout1': 0.5, 'dropout2': 0.75, 'epochs': 300, 'input': 'wp1', 'order': 4, 'output': 'wp1', 'units1': 512, 'units2': 256} \\\n",
        "\\\n",
        "mlp SSA residual: \\\n",
        " {'batch_size': 128, 'choice': {'layers': 'two'}, 'dropout1': 0, 'dropout2': 0, 'epochs': 300, 'input': 'wp1', 'order': 8, 'output': 'wp1', 'units1': 256, 'units2': 64} \\"
      ]
    },
    {
      "cell_type": "markdown",
      "metadata": {
        "id": "3TJUMYZOAmsG"
      },
      "source": [
        "#### MLP Forecasting"
      ]
    },
    {
      "cell_type": "code",
      "metadata": {
        "id": "n1vQDjtZoDPr"
      },
      "source": [
        "def mlp_forecast(train_df, test_df, params):\n",
        "\n",
        "\n",
        "    _input = [target_station]\n",
        "    _nlags = params['order']\n",
        "    _epochs = params['epochs']\n",
        "    _batch_size = params['batch_size']\n",
        "    nfeat = len(_input)\n",
        "    nsteps = params.get('step',1)\n",
        "    nobs = _nlags * nfeat\n",
        "\n",
        "    output_index = -nfeat*nsteps\n",
        "\n",
        "\n",
        "    train_reshaped_df = series_to_supervised(train_df[_input].values, n_in=_nlags, n_out=nsteps)\n",
        "    train_X, train_Y = train_reshaped_df.iloc[:, :nobs].values, train_reshaped_df.iloc[:, output_index:].values\n",
        "\n",
        "    test_reshaped_df = series_to_supervised(test_df[_input].values, n_in=_nlags, n_out=nsteps)\n",
        "    test_X, test_Y = test_reshaped_df.iloc[:, :nobs].values, test_reshaped_df.iloc[:, output_index:].values\n",
        "    \n",
        "    # design network\n",
        "    model = Sequential()\n",
        "    model.add(Dense(params['units1'], activation='relu', input_dim=train_X.shape[1]))\n",
        "    model.add(Dense(params['units2'], activation='relu'))\n",
        "    if params['choice']['layers'] == 'three':\n",
        "      model.add(Dense(params['choice']['units3'], activation='relu'))\n",
        "    model.add(Dense(1))\n",
        "    model.compile(loss='mean_squared_error', optimizer='adam')\n",
        "\n",
        "\n",
        "    # fit network\n",
        "    model.fit(train_X, train_Y, epochs=_epochs, batch_size=_batch_size, verbose=False, shuffle=False)\n",
        "    \n",
        "    forecast = model.predict(test_X)\n",
        "    \n",
        "    fcst = [f[0] for f in forecast]\n",
        "\n",
        "    return fcst\n",
        "\n",
        "def rolling_cv_mlp_uni(df, params):\n",
        "    \n",
        "    lags_list = []\n",
        "    forecasts = []\n",
        "\n",
        "    limit = df.index[-1].strftime('%Y-%m-%d')\n",
        "\n",
        "    test_end = \"\"\n",
        "    index = df.index[0]\n",
        "\n",
        "    while test_end < limit :\n",
        "        print(\"Index: \", index.strftime('%Y-%m-%d'))  \n",
        "\n",
        "        train_start, train_end, test_start, test_end = getRollingWindow(index)\n",
        "        index = index + datetime.timedelta(days=7)\n",
        "        \n",
        "        train = df[train_start : train_end]\n",
        "        test = df[test_start : test_end]\n",
        "\n",
        "\n",
        "        # Perform forecast\n",
        "        yhat = mlp_forecast(train[[target_station]], test[[target_station]], params)\n",
        "        \n",
        "        yhat.append(yhat[-1]) #para manter o formato do vetor de metricas\n",
        "        \n",
        "        lags_list.append(params['order'])\n",
        "        forecasts.append(yhat)\n",
        "\n",
        "    return forecasts, lags_list"
      ],
      "execution_count": null,
      "outputs": []
    },
    {
      "cell_type": "code",
      "metadata": {
        "id": "-C0bXLWcoJVy",
        "colab": {
          "base_uri": "https://localhost:8080/",
          "height": 1000
        },
        "outputId": "8d6a5969-8a0e-4fae-e903-1bf42066de11"
      },
      "source": [
        "# Enter best params\n",
        "params_clean = {'batch_size': 256, 'choice': {'layers': 'two'}, 'dropout1': 0.5, 'dropout2': 0.75, 'epochs': 300, 'input': 'wp1', 'order': 4, 'output': 'wp1', 'units1': 512, 'units2': 256}\n",
        "\n",
        "params_residual = {'batch_size': 128, 'choice': {'layers': 'two'}, 'dropout1': 0, 'dropout2': 0, 'epochs': 300, 'input': 'wp1', 'order': 8, 'output': 'wp1', 'units1': 256, 'units2': 64}\n",
        "\n",
        "forecasts_clean, order_list_clean = rolling_cv_mlp_uni(norm_df_ssa_clean, params_clean)\n",
        "forecasts_residual, order_list_residual = rolling_cv_mlp_uni(norm_df_ssa_residual, params_residual)\n",
        "\n",
        "forecasts_final, order_list = get_final_forecast(forecasts_clean, forecasts_residual, order_list_clean, order_list_residual)\n",
        "calculate_rolling_error(\"rolling_cv_wind_mlp_uni\", df, forecasts_final, order_list)"
      ],
      "execution_count": null,
      "outputs": [
        {
          "output_type": "stream",
          "text": [
            "Index:  2009-08-01\n",
            "Index:  2009-08-08\n",
            "Index:  2009-08-15\n",
            "Index:  2009-08-22\n",
            "Index:  2009-08-29\n",
            "Index:  2009-09-05\n",
            "Index:  2009-09-12\n",
            "Index:  2009-09-19\n",
            "Index:  2009-09-26\n",
            "Index:  2009-10-03\n",
            "Index:  2009-10-10\n",
            "Index:  2009-10-17\n",
            "Index:  2009-10-24\n",
            "Index:  2009-10-31\n",
            "Index:  2009-11-07\n",
            "Index:  2009-11-14\n",
            "Index:  2009-11-21\n",
            "Index:  2009-11-28\n",
            "Index:  2009-12-05\n",
            "Index:  2009-12-12\n",
            "Index:  2009-12-19\n",
            "Index:  2009-12-26\n",
            "Index:  2010-01-02\n",
            "Index:  2010-01-09\n",
            "Index:  2010-01-16\n",
            "Index:  2010-01-23\n",
            "Index:  2010-01-30\n",
            "Index:  2010-02-06\n",
            "Index:  2010-02-13\n",
            "Index:  2010-02-20\n",
            "Index:  2010-02-27\n",
            "Index:  2010-03-06\n",
            "Index:  2010-03-13\n",
            "Index:  2010-03-20\n",
            "Index:  2010-03-27\n",
            "Index:  2010-04-03\n",
            "Index:  2010-04-10\n",
            "Index:  2010-04-17\n",
            "Index:  2010-04-24\n",
            "Index:  2010-05-01\n",
            "Index:  2010-05-08\n",
            "Index:  2010-05-15\n",
            "Index:  2010-05-22\n",
            "Index:  2010-05-29\n",
            "Index:  2010-06-05\n",
            "Index:  2010-06-12\n",
            "Index:  2010-06-19\n",
            "Index:  2010-06-26\n",
            "Index:  2010-07-03\n",
            "Index:  2010-07-10\n",
            "Index:  2009-08-01\n",
            "Index:  2009-08-08\n",
            "Index:  2009-08-15\n",
            "Index:  2009-08-22\n",
            "Index:  2009-08-29\n",
            "Index:  2009-09-05\n",
            "Index:  2009-09-12\n",
            "Index:  2009-09-19\n",
            "Index:  2009-09-26\n",
            "Index:  2009-10-03\n",
            "Index:  2009-10-10\n",
            "Index:  2009-10-17\n",
            "Index:  2009-10-24\n",
            "Index:  2009-10-31\n",
            "Index:  2009-11-07\n",
            "Index:  2009-11-14\n",
            "Index:  2009-11-21\n",
            "Index:  2009-11-28\n",
            "Index:  2009-12-05\n",
            "Index:  2009-12-12\n",
            "Index:  2009-12-19\n",
            "Index:  2009-12-26\n",
            "Index:  2010-01-02\n",
            "Index:  2010-01-09\n",
            "Index:  2010-01-16\n",
            "Index:  2010-01-23\n",
            "Index:  2010-01-30\n",
            "Index:  2010-02-06\n",
            "Index:  2010-02-13\n",
            "Index:  2010-02-20\n",
            "Index:  2010-02-27\n",
            "Index:  2010-03-06\n",
            "Index:  2010-03-13\n",
            "Index:  2010-03-20\n",
            "Index:  2010-03-27\n",
            "Index:  2010-04-03\n",
            "Index:  2010-04-10\n",
            "Index:  2010-04-17\n",
            "Index:  2010-04-24\n",
            "Index:  2010-05-01\n",
            "Index:  2010-05-08\n",
            "Index:  2010-05-15\n",
            "Index:  2010-05-22\n",
            "Index:  2010-05-29\n",
            "Index:  2010-06-05\n",
            "Index:  2010-06-12\n",
            "Index:  2010-06-19\n",
            "Index:  2010-06-26\n",
            "Index:  2010-07-03\n",
            "Index:  2010-07-10\n"
          ],
          "name": "stdout"
        }
      ]
    },
    {
      "cell_type": "code",
      "metadata": {
        "id": "ii35SvBPKMUn",
        "colab": {
          "base_uri": "https://localhost:8080/",
          "height": 17
        },
        "outputId": "39b30db4-a131-4904-d733-e43d54023374"
      },
      "source": [
        "files.download('rolling_cv_wind_mlp_uni.csv')"
      ],
      "execution_count": null,
      "outputs": [
        {
          "output_type": "display_data",
          "data": {
            "application/javascript": [
              "\n",
              "    async function download(id, filename, size) {\n",
              "      if (!google.colab.kernel.accessAllowed) {\n",
              "        return;\n",
              "      }\n",
              "      const div = document.createElement('div');\n",
              "      const label = document.createElement('label');\n",
              "      label.textContent = `Downloading \"${filename}\": `;\n",
              "      div.appendChild(label);\n",
              "      const progress = document.createElement('progress');\n",
              "      progress.max = size;\n",
              "      div.appendChild(progress);\n",
              "      document.body.appendChild(div);\n",
              "\n",
              "      const buffers = [];\n",
              "      let downloaded = 0;\n",
              "\n",
              "      const channel = await google.colab.kernel.comms.open(id);\n",
              "      // Send a message to notify the kernel that we're ready.\n",
              "      channel.send({})\n",
              "\n",
              "      for await (const message of channel.messages) {\n",
              "        // Send a message to notify the kernel that we're ready.\n",
              "        channel.send({})\n",
              "        if (message.buffers) {\n",
              "          for (const buffer of message.buffers) {\n",
              "            buffers.push(buffer);\n",
              "            downloaded += buffer.byteLength;\n",
              "            progress.value = downloaded;\n",
              "          }\n",
              "        }\n",
              "      }\n",
              "      const blob = new Blob(buffers, {type: 'application/binary'});\n",
              "      const a = document.createElement('a');\n",
              "      a.href = window.URL.createObjectURL(blob);\n",
              "      a.download = filename;\n",
              "      div.appendChild(a);\n",
              "      a.click();\n",
              "      div.remove();\n",
              "    }\n",
              "  "
            ],
            "text/plain": [
              "<IPython.core.display.Javascript object>"
            ]
          },
          "metadata": {
            "tags": []
          }
        },
        {
          "output_type": "display_data",
          "data": {
            "application/javascript": [
              "download(\"download_ac892d46-9eed-412d-9eb7-5758c741db5f\", \"rolling_cv_wind_mlp_uni.csv\", 2691)"
            ],
            "text/plain": [
              "<IPython.core.display.Javascript object>"
            ]
          },
          "metadata": {
            "tags": []
          }
        }
      ]
    },
    {
      "cell_type": "markdown",
      "metadata": {
        "id": "bwcccfkMJkM1"
      },
      "source": [
        "### Conventional (Song and Chissom) FTS"
      ]
    },
    {
      "cell_type": "code",
      "metadata": {
        "id": "hKw0bVXNJkNE"
      },
      "source": [
        "from pyFTS.partitioners import Grid, Entropy, Util as pUtil\n",
        "from pyFTS.models import song"
      ],
      "execution_count": null,
      "outputs": []
    },
    {
      "cell_type": "markdown",
      "metadata": {
        "id": "j5Kn3sBfJkNL"
      },
      "source": [
        "#### FTS Parameter Tuning"
      ]
    },
    {
      "cell_type": "code",
      "metadata": {
        "id": "vRfn38p-JkNM"
      },
      "source": [
        "fts_space = {'partitioner': hp.choice('partitioner', [Grid.GridPartitioner, Entropy.EntropyPartitioner]),\n",
        "        'npartitions': hp.choice('npartitions', [10, 50,100]),\n",
        "        'order': hp.choice('order', [1]),\n",
        "        'input': hp.choice('input', [target_station]),\n",
        "        'output': hp.choice('output', [target_station])}\n",
        "\n",
        "def fts_forecast(train_df, test_df, params):\n",
        "    _partitioner = params['partitioner']\n",
        "    _npartitions = params['npartitions']\n",
        "    _order = 1\n",
        "    _input = params['input']\n",
        "    _step = params.get('step',1)\n",
        "\n",
        "    fuzzy_sets = _partitioner(data=train_df[_input].values, npart=_npartitions)\n",
        "    model = song.ConventionalFTS(partitioner=fuzzy_sets)\n",
        "\n",
        "    model.fit(train_df[_input].values)\n",
        "    forecast = model.predict(test_df[_input].values, steps_ahead=_step)\n",
        "\n",
        "    return forecast[:-1]"
      ],
      "execution_count": null,
      "outputs": []
    },
    {
      "cell_type": "code",
      "metadata": {
        "id": "v4FQV0E3JkNP",
        "colab": {
          "base_uri": "https://localhost:8080/",
          "height": 1000
        },
        "outputId": "294ff3ab-3509-4960-d3de-1ecab2df0efb"
      },
      "source": [
        "methods = []\n",
        "methods.append((\"EXP_OAHU_FTS\", fts_forecast, fts_space))\n",
        "train_split = 0.6\n",
        "parameter_tuning.run_search(methods, tuning_ssa_residual, train_split, Measures.rmse, max_evals=30, resample=None)"
      ],
      "execution_count": null,
      "outputs": [
        {
          "output_type": "stream",
          "text": [
            "Running experiment: EXP_OAHU_FTS\n",
            "{'input': 'wp1', 'npartitions': 100, 'order': 1, 'output': 'wp1', 'partitioner': <class 'pyFTS.partitioners.Grid.GridPartitioner'>}\n",
            "Error : 0.06503983297992211\n",
            "{'input': 'wp1', 'npartitions': 10, 'order': 1, 'output': 'wp1', 'partitioner': <class 'pyFTS.partitioners.Grid.GridPartitioner'>}\n",
            "Error : 0.05778839916145659\n",
            "{'input': 'wp1', 'npartitions': 100, 'order': 1, 'output': 'wp1', 'partitioner': <class 'pyFTS.partitioners.Entropy.EntropyPartitioner'>}\n",
            "Error : 0.05281573525856597\n",
            "{'input': 'wp1', 'npartitions': 100, 'order': 1, 'output': 'wp1', 'partitioner': <class 'pyFTS.partitioners.Entropy.EntropyPartitioner'>}\n",
            "Error : 0.05281573525856597\n",
            "{'input': 'wp1', 'npartitions': 50, 'order': 1, 'output': 'wp1', 'partitioner': <class 'pyFTS.partitioners.Grid.GridPartitioner'>}\n",
            "Error : 0.06409304995778142\n",
            "{'input': 'wp1', 'npartitions': 100, 'order': 1, 'output': 'wp1', 'partitioner': <class 'pyFTS.partitioners.Entropy.EntropyPartitioner'>}\n",
            "Error : 0.05281573525856597\n",
            "{'input': 'wp1', 'npartitions': 100, 'order': 1, 'output': 'wp1', 'partitioner': <class 'pyFTS.partitioners.Entropy.EntropyPartitioner'>}\n",
            "Error : 0.05281573525856597\n",
            "{'input': 'wp1', 'npartitions': 100, 'order': 1, 'output': 'wp1', 'partitioner': <class 'pyFTS.partitioners.Entropy.EntropyPartitioner'>}\n",
            "Error : 0.05281573525856597\n",
            "{'input': 'wp1', 'npartitions': 50, 'order': 1, 'output': 'wp1', 'partitioner': <class 'pyFTS.partitioners.Entropy.EntropyPartitioner'>}\n",
            "Error : 0.05282833984010812\n",
            "{'input': 'wp1', 'npartitions': 100, 'order': 1, 'output': 'wp1', 'partitioner': <class 'pyFTS.partitioners.Entropy.EntropyPartitioner'>}\n",
            "Error : 0.05281573525856597\n",
            "{'input': 'wp1', 'npartitions': 50, 'order': 1, 'output': 'wp1', 'partitioner': <class 'pyFTS.partitioners.Grid.GridPartitioner'>}\n",
            "Error : 0.06409304995778142\n",
            "{'input': 'wp1', 'npartitions': 10, 'order': 1, 'output': 'wp1', 'partitioner': <class 'pyFTS.partitioners.Grid.GridPartitioner'>}\n",
            "Error : 0.05778839916145659\n",
            "{'input': 'wp1', 'npartitions': 100, 'order': 1, 'output': 'wp1', 'partitioner': <class 'pyFTS.partitioners.Entropy.EntropyPartitioner'>}\n",
            "Error : 0.05281573525856597\n",
            "{'input': 'wp1', 'npartitions': 10, 'order': 1, 'output': 'wp1', 'partitioner': <class 'pyFTS.partitioners.Entropy.EntropyPartitioner'>}\n",
            "Error : 0.0528360400554714\n",
            "{'input': 'wp1', 'npartitions': 100, 'order': 1, 'output': 'wp1', 'partitioner': <class 'pyFTS.partitioners.Entropy.EntropyPartitioner'>}\n",
            "Error : 0.05281573525856597\n",
            "{'input': 'wp1', 'npartitions': 100, 'order': 1, 'output': 'wp1', 'partitioner': <class 'pyFTS.partitioners.Grid.GridPartitioner'>}\n",
            "Error : 0.06503983297992211\n",
            "{'input': 'wp1', 'npartitions': 50, 'order': 1, 'output': 'wp1', 'partitioner': <class 'pyFTS.partitioners.Entropy.EntropyPartitioner'>}\n",
            "Error : 0.05282833984010812\n",
            "{'input': 'wp1', 'npartitions': 100, 'order': 1, 'output': 'wp1', 'partitioner': <class 'pyFTS.partitioners.Grid.GridPartitioner'>}\n",
            "Error : 0.06503983297992211\n",
            "{'input': 'wp1', 'npartitions': 100, 'order': 1, 'output': 'wp1', 'partitioner': <class 'pyFTS.partitioners.Entropy.EntropyPartitioner'>}\n",
            "Error : 0.05281573525856597\n",
            "{'input': 'wp1', 'npartitions': 100, 'order': 1, 'output': 'wp1', 'partitioner': <class 'pyFTS.partitioners.Grid.GridPartitioner'>}\n",
            "Error : 0.06503983297992211\n",
            "{'input': 'wp1', 'npartitions': 10, 'order': 1, 'output': 'wp1', 'partitioner': <class 'pyFTS.partitioners.Entropy.EntropyPartitioner'>}\n",
            "Error : 0.0528360400554714\n",
            "{'input': 'wp1', 'npartitions': 100, 'order': 1, 'output': 'wp1', 'partitioner': <class 'pyFTS.partitioners.Entropy.EntropyPartitioner'>}\n",
            "Error : 0.05281573525856597\n",
            "{'input': 'wp1', 'npartitions': 100, 'order': 1, 'output': 'wp1', 'partitioner': <class 'pyFTS.partitioners.Entropy.EntropyPartitioner'>}\n",
            "Error : 0.05281573525856597\n",
            "{'input': 'wp1', 'npartitions': 100, 'order': 1, 'output': 'wp1', 'partitioner': <class 'pyFTS.partitioners.Entropy.EntropyPartitioner'>}\n",
            "Error : 0.05281573525856597\n",
            "{'input': 'wp1', 'npartitions': 100, 'order': 1, 'output': 'wp1', 'partitioner': <class 'pyFTS.partitioners.Entropy.EntropyPartitioner'>}\n",
            "Error : 0.05281573525856597\n",
            "{'input': 'wp1', 'npartitions': 10, 'order': 1, 'output': 'wp1', 'partitioner': <class 'pyFTS.partitioners.Entropy.EntropyPartitioner'>}\n",
            "Error : 0.0528360400554714\n",
            "{'input': 'wp1', 'npartitions': 50, 'order': 1, 'output': 'wp1', 'partitioner': <class 'pyFTS.partitioners.Entropy.EntropyPartitioner'>}\n",
            "Error : 0.05282833984010812\n",
            "{'input': 'wp1', 'npartitions': 100, 'order': 1, 'output': 'wp1', 'partitioner': <class 'pyFTS.partitioners.Entropy.EntropyPartitioner'>}\n",
            "Error : 0.05281573525856597\n",
            "{'input': 'wp1', 'npartitions': 100, 'order': 1, 'output': 'wp1', 'partitioner': <class 'pyFTS.partitioners.Entropy.EntropyPartitioner'>}\n",
            "Error : 0.05281573525856597\n",
            "{'input': 'wp1', 'npartitions': 100, 'order': 1, 'output': 'wp1', 'partitioner': <class 'pyFTS.partitioners.Entropy.EntropyPartitioner'>}\n",
            "Error : 0.05281573525856597\n",
            "100%|██████████| 30/30 [01:09<00:00,  2.31s/trial, best loss: 0.05281573525856597]\n",
            "best parameters: \n",
            "{'input': 'wp1', 'npartitions': 100, 'order': 1, 'output': 'wp1', 'partitioner': <class 'pyFTS.partitioners.Entropy.EntropyPartitioner'>}\n"
          ],
          "name": "stdout"
        }
      ]
    },
    {
      "cell_type": "markdown",
      "metadata": {
        "id": "N6c9cmL6JkNT"
      },
      "source": [
        "Best params: \\\n",
        "\\\n",
        "FTS SSA clean: \\\n",
        "{'input': 'wp1', 'npartitions': 10, 'order': 1, 'output': 'wp1', 'partitioner': <class 'pyFTS.partitioners.Grid.GridPartitioner'>} \\\n",
        "\\\n",
        "FTS SSA residual: \\\n",
        "{'input': 'wp1', 'npartitions': 100, 'order': 1, 'output': 'wp1', 'partitioner': <class 'pyFTS.partitioners.Entropy.EntropyPartitioner'>} \\"
      ]
    },
    {
      "cell_type": "code",
      "metadata": {
        "id": "JLI20axqJkNU"
      },
      "source": [
        "from pyFTS.partitioners import Grid, Entropy, Util as pUtil\n",
        "from pyFTS.models import song\n",
        "\n",
        "\n",
        "def rolling_cv_fts(df, params):\n",
        "\n",
        "    _order = params['order']\n",
        "\n",
        "    forecasts = []\n",
        "    order_list = []\n",
        "\n",
        "    limit = df.index[-1].strftime('%Y-%m-%d')\n",
        "\n",
        "    test_end = \"\"\n",
        "    index = df.index[0]\n",
        "\n",
        "    while test_end < limit :\n",
        "        print(\"Index: \", index.strftime('%Y-%m-%d'))  \n",
        "\n",
        "        train_start, train_end, test_start, test_end = getRollingWindow(index)\n",
        "        index = index + datetime.timedelta(days=7)\n",
        "        \n",
        "        train = df[train_start : train_end]\n",
        "        test = df[test_start : test_end]\n",
        "\n",
        "        # Perform forecast\n",
        "        yhat = fts_forecast(train, test, params)\n",
        "        yhat.append(yhat[-1]) #para manter o formato do vetor de metricas\n",
        "        \n",
        "        order_list.append(_order)\n",
        "        forecasts.append(yhat)\n",
        "\n",
        "    return forecasts, order_list"
      ],
      "execution_count": null,
      "outputs": []
    },
    {
      "cell_type": "markdown",
      "metadata": {
        "id": "PL-LsRYHL69j"
      },
      "source": [
        "#### FTS Forecasting"
      ]
    },
    {
      "cell_type": "code",
      "metadata": {
        "id": "0b-wX-ZKJkNY",
        "colab": {
          "base_uri": "https://localhost:8080/",
          "height": 1000
        },
        "outputId": "72e219d0-9f9a-46b1-e59f-c2267bdbf160"
      },
      "source": [
        "params_clean = {'input': 'wp1', 'npartitions': 10, 'order': 1, 'output': 'wp1', 'partitioner': Grid.GridPartitioner}\n",
        "\n",
        "params_residual = {'input': 'wp1', 'npartitions': 100, 'order': 1, 'output': 'wp1', 'partitioner': Entropy.EntropyPartitioner}\n",
        "\n",
        "\n",
        "forecasts_clean, order_list_clean = rolling_cv_fts(norm_df_ssa_clean, params_clean)\n",
        "forecasts_residual, order_list_residual = rolling_cv_fts(norm_df_ssa_residual, params_residual)\n",
        "\n",
        "forecasts_final, order_list = get_final_forecast(forecasts_clean, forecasts_residual, order_list_clean, order_list_residual)\n",
        "calculate_rolling_error(\"rolling_cv_wind_fts\", df, forecasts_final, order_list)"
      ],
      "execution_count": null,
      "outputs": [
        {
          "output_type": "stream",
          "text": [
            "Index:  2009-08-01\n",
            "Index:  2009-08-08\n",
            "Index:  2009-08-15\n",
            "Index:  2009-08-22\n",
            "Index:  2009-08-29\n",
            "Index:  2009-09-05\n",
            "Index:  2009-09-12\n",
            "Index:  2009-09-19\n",
            "Index:  2009-09-26\n",
            "Index:  2009-10-03\n",
            "Index:  2009-10-10\n",
            "Index:  2009-10-17\n",
            "Index:  2009-10-24\n",
            "Index:  2009-10-31\n",
            "Index:  2009-11-07\n",
            "Index:  2009-11-14\n",
            "Index:  2009-11-21\n",
            "Index:  2009-11-28\n",
            "Index:  2009-12-05\n",
            "Index:  2009-12-12\n",
            "Index:  2009-12-19\n",
            "Index:  2009-12-26\n",
            "Index:  2010-01-02\n",
            "Index:  2010-01-09\n",
            "Index:  2010-01-16\n",
            "Index:  2010-01-23\n",
            "Index:  2010-01-30\n",
            "Index:  2010-02-06\n",
            "Index:  2010-02-13\n",
            "Index:  2010-02-20\n",
            "Index:  2010-02-27\n",
            "Index:  2010-03-06\n",
            "Index:  2010-03-13\n",
            "Index:  2010-03-20\n",
            "Index:  2010-03-27\n",
            "Index:  2010-04-03\n",
            "Index:  2010-04-10\n",
            "Index:  2010-04-17\n",
            "Index:  2010-04-24\n",
            "Index:  2010-05-01\n",
            "Index:  2010-05-08\n",
            "Index:  2010-05-15\n",
            "Index:  2010-05-22\n",
            "Index:  2010-05-29\n",
            "Index:  2010-06-05\n",
            "Index:  2010-06-12\n",
            "Index:  2010-06-19\n",
            "Index:  2010-06-26\n",
            "Index:  2010-07-03\n",
            "Index:  2010-07-10\n",
            "Index:  2009-08-01\n",
            "Index:  2009-08-08\n",
            "Index:  2009-08-15\n",
            "Index:  2009-08-22\n",
            "Index:  2009-08-29\n",
            "Index:  2009-09-05\n",
            "Index:  2009-09-12\n",
            "Index:  2009-09-19\n",
            "Index:  2009-09-26\n",
            "Index:  2009-10-03\n",
            "Index:  2009-10-10\n",
            "Index:  2009-10-17\n",
            "Index:  2009-10-24\n",
            "Index:  2009-10-31\n",
            "Index:  2009-11-07\n",
            "Index:  2009-11-14\n",
            "Index:  2009-11-21\n",
            "Index:  2009-11-28\n",
            "Index:  2009-12-05\n",
            "Index:  2009-12-12\n",
            "Index:  2009-12-19\n",
            "Index:  2009-12-26\n",
            "Index:  2010-01-02\n",
            "Index:  2010-01-09\n",
            "Index:  2010-01-16\n",
            "Index:  2010-01-23\n",
            "Index:  2010-01-30\n",
            "Index:  2010-02-06\n",
            "Index:  2010-02-13\n",
            "Index:  2010-02-20\n",
            "Index:  2010-02-27\n",
            "Index:  2010-03-06\n",
            "Index:  2010-03-13\n",
            "Index:  2010-03-20\n",
            "Index:  2010-03-27\n",
            "Index:  2010-04-03\n",
            "Index:  2010-04-10\n",
            "Index:  2010-04-17\n",
            "Index:  2010-04-24\n",
            "Index:  2010-05-01\n",
            "Index:  2010-05-08\n",
            "Index:  2010-05-15\n",
            "Index:  2010-05-22\n",
            "Index:  2010-05-29\n",
            "Index:  2010-06-05\n",
            "Index:  2010-06-12\n",
            "Index:  2010-06-19\n",
            "Index:  2010-06-26\n",
            "Index:  2010-07-03\n",
            "Index:  2010-07-10\n"
          ],
          "name": "stdout"
        }
      ]
    },
    {
      "cell_type": "code",
      "metadata": {
        "id": "DbJujARsJkNa",
        "colab": {
          "base_uri": "https://localhost:8080/",
          "height": 17
        },
        "outputId": "f956865f-7147-4a92-c39c-35bc998a0667"
      },
      "source": [
        "files.download('rolling_cv_wind_fts.csv')"
      ],
      "execution_count": null,
      "outputs": [
        {
          "output_type": "display_data",
          "data": {
            "application/javascript": [
              "\n",
              "    async function download(id, filename, size) {\n",
              "      if (!google.colab.kernel.accessAllowed) {\n",
              "        return;\n",
              "      }\n",
              "      const div = document.createElement('div');\n",
              "      const label = document.createElement('label');\n",
              "      label.textContent = `Downloading \"${filename}\": `;\n",
              "      div.appendChild(label);\n",
              "      const progress = document.createElement('progress');\n",
              "      progress.max = size;\n",
              "      div.appendChild(progress);\n",
              "      document.body.appendChild(div);\n",
              "\n",
              "      const buffers = [];\n",
              "      let downloaded = 0;\n",
              "\n",
              "      const channel = await google.colab.kernel.comms.open(id);\n",
              "      // Send a message to notify the kernel that we're ready.\n",
              "      channel.send({})\n",
              "\n",
              "      for await (const message of channel.messages) {\n",
              "        // Send a message to notify the kernel that we're ready.\n",
              "        channel.send({})\n",
              "        if (message.buffers) {\n",
              "          for (const buffer of message.buffers) {\n",
              "            buffers.push(buffer);\n",
              "            downloaded += buffer.byteLength;\n",
              "            progress.value = downloaded;\n",
              "          }\n",
              "        }\n",
              "      }\n",
              "      const blob = new Blob(buffers, {type: 'application/binary'});\n",
              "      const a = document.createElement('a');\n",
              "      a.href = window.URL.createObjectURL(blob);\n",
              "      a.download = filename;\n",
              "      div.appendChild(a);\n",
              "      a.click();\n",
              "      div.remove();\n",
              "    }\n",
              "  "
            ],
            "text/plain": [
              "<IPython.core.display.Javascript object>"
            ]
          },
          "metadata": {
            "tags": []
          }
        },
        {
          "output_type": "display_data",
          "data": {
            "application/javascript": [
              "download(\"download_555f807f-9003-4855-b000-20bf717eac28\", \"rolling_cv_wind_fts.csv\", 2650)"
            ],
            "text/plain": [
              "<IPython.core.display.Javascript object>"
            ]
          },
          "metadata": {
            "tags": []
          }
        }
      ]
    },
    {
      "cell_type": "markdown",
      "metadata": {
        "id": "Ry-JFOh1s1qJ"
      },
      "source": [
        "### High Order FTS"
      ]
    },
    {
      "cell_type": "code",
      "metadata": {
        "id": "rTvlwfx8OIZR"
      },
      "source": [
        "from pyFTS.partitioners import Grid, Entropy, Util as pUtil\n",
        "from pyFTS.models import hofts"
      ],
      "execution_count": null,
      "outputs": []
    },
    {
      "cell_type": "markdown",
      "metadata": {
        "id": "YOaXlHm2Ltrq"
      },
      "source": [
        "#### HOFTS Parameter Tuning"
      ]
    },
    {
      "cell_type": "code",
      "metadata": {
        "id": "mZpaeSvALxnf"
      },
      "source": [
        "hofts_space = {'partitioner': hp.choice('partitioner', [Grid.GridPartitioner, Entropy.EntropyPartitioner]),\n",
        "        'npartitions': hp.choice('npartitions', [10, 50,100, 150]),\n",
        "        'order': hp.choice('order', [1,2]),\n",
        "        'input': hp.choice('input', [target_station]),\n",
        "        'output': hp.choice('output', [target_station])}\n",
        "\n",
        "def hofts_forecast(train_df, test_df, params):\n",
        "    _partitioner = params['partitioner']\n",
        "    _npartitions = params['npartitions']\n",
        "    _order = params['order']\n",
        "    _input = params['input']\n",
        "    _step = params.get('step',1)\n",
        "\n",
        "    fuzzy_sets = _partitioner(data=train_df[_input].values, npart=_npartitions)\n",
        "    model = hofts.HighOrderFTS(order=_order)\n",
        "\n",
        "    model.fit(train_df[_input].values, order=_order, partitioner=fuzzy_sets)\n",
        "    forecast = model.predict(test_df[_input].values, steps_ahead=_step)\n",
        "\n",
        "    return forecast"
      ],
      "execution_count": null,
      "outputs": []
    },
    {
      "cell_type": "code",
      "metadata": {
        "id": "8mgVqRKANpQ0",
        "colab": {
          "base_uri": "https://localhost:8080/",
          "height": 1000
        },
        "outputId": "e6a2b343-4e6c-48a4-bd26-92aa4eb0de43"
      },
      "source": [
        "methods = []\n",
        "methods.append((\"EXP_WIND_HOFTS\", hofts_forecast, hofts_space))\n",
        "train_split = 0.6\n",
        "parameter_tuning.run_search(methods, tuning_ssa_residual, train_split, Measures.rmse, max_evals=30, resample=None)"
      ],
      "execution_count": null,
      "outputs": [
        {
          "output_type": "stream",
          "text": [
            "Running experiment: EXP_WIND_HOFTS\n",
            "{'input': 'wp1', 'npartitions': 150, 'order': 2, 'output': 'wp1', 'partitioner': <class 'pyFTS.partitioners.Entropy.EntropyPartitioner'>}\n",
            "Error : 0.05935016391365774\n",
            "{'input': 'wp1', 'npartitions': 100, 'order': 2, 'output': 'wp1', 'partitioner': <class 'pyFTS.partitioners.Entropy.EntropyPartitioner'>}\n",
            "Error : 0.05699445263351666\n",
            "{'input': 'wp1', 'npartitions': 50, 'order': 2, 'output': 'wp1', 'partitioner': <class 'pyFTS.partitioners.Entropy.EntropyPartitioner'>}\n",
            "Error : 0.07380706767887073\n",
            "{'input': 'wp1', 'npartitions': 50, 'order': 2, 'output': 'wp1', 'partitioner': <class 'pyFTS.partitioners.Entropy.EntropyPartitioner'>}\n",
            "Error : 0.07380706767887073\n",
            "{'input': 'wp1', 'npartitions': 10, 'order': 1, 'output': 'wp1', 'partitioner': <class 'pyFTS.partitioners.Entropy.EntropyPartitioner'>}\n",
            "Error : 0.0528360400554714\n",
            "{'input': 'wp1', 'npartitions': 100, 'order': 2, 'output': 'wp1', 'partitioner': <class 'pyFTS.partitioners.Grid.GridPartitioner'>}\n",
            "Error : 0.06005709759083513\n",
            "{'input': 'wp1', 'npartitions': 150, 'order': 1, 'output': 'wp1', 'partitioner': <class 'pyFTS.partitioners.Entropy.EntropyPartitioner'>}\n",
            "Error : 0.05445816471846135\n",
            "{'input': 'wp1', 'npartitions': 50, 'order': 1, 'output': 'wp1', 'partitioner': <class 'pyFTS.partitioners.Grid.GridPartitioner'>}\n",
            "Error : 0.05370829506331251\n",
            "{'input': 'wp1', 'npartitions': 10, 'order': 1, 'output': 'wp1', 'partitioner': <class 'pyFTS.partitioners.Entropy.EntropyPartitioner'>}\n",
            "Error : 0.0528360400554714\n",
            "{'input': 'wp1', 'npartitions': 50, 'order': 1, 'output': 'wp1', 'partitioner': <class 'pyFTS.partitioners.Entropy.EntropyPartitioner'>}\n",
            "Error : 0.05282833984010812\n",
            "{'input': 'wp1', 'npartitions': 100, 'order': 1, 'output': 'wp1', 'partitioner': <class 'pyFTS.partitioners.Grid.GridPartitioner'>}\n",
            "Error : 0.05376103127279916\n",
            "{'input': 'wp1', 'npartitions': 10, 'order': 2, 'output': 'wp1', 'partitioner': <class 'pyFTS.partitioners.Entropy.EntropyPartitioner'>}\n",
            "Error : 0.05276872730378251\n",
            "{'input': 'wp1', 'npartitions': 100, 'order': 2, 'output': 'wp1', 'partitioner': <class 'pyFTS.partitioners.Grid.GridPartitioner'>}\n",
            "Error : 0.06005709759083513\n",
            "{'input': 'wp1', 'npartitions': 50, 'order': 2, 'output': 'wp1', 'partitioner': <class 'pyFTS.partitioners.Grid.GridPartitioner'>}\n",
            "Error : 0.057007400370276774\n",
            "{'input': 'wp1', 'npartitions': 50, 'order': 1, 'output': 'wp1', 'partitioner': <class 'pyFTS.partitioners.Grid.GridPartitioner'>}\n",
            "Error : 0.05370829506331251\n",
            "{'input': 'wp1', 'npartitions': 10, 'order': 1, 'output': 'wp1', 'partitioner': <class 'pyFTS.partitioners.Grid.GridPartitioner'>}\n",
            "Error : 0.05026286980529138\n",
            "{'input': 'wp1', 'npartitions': 100, 'order': 1, 'output': 'wp1', 'partitioner': <class 'pyFTS.partitioners.Grid.GridPartitioner'>}\n",
            "Error : 0.05376103127279916\n",
            "{'input': 'wp1', 'npartitions': 50, 'order': 2, 'output': 'wp1', 'partitioner': <class 'pyFTS.partitioners.Grid.GridPartitioner'>}\n",
            "Error : 0.057007400370276774\n",
            "{'input': 'wp1', 'npartitions': 50, 'order': 1, 'output': 'wp1', 'partitioner': <class 'pyFTS.partitioners.Entropy.EntropyPartitioner'>}\n",
            "Error : 0.05282833984010812\n",
            "{'input': 'wp1', 'npartitions': 100, 'order': 1, 'output': 'wp1', 'partitioner': <class 'pyFTS.partitioners.Grid.GridPartitioner'>}\n",
            "Error : 0.05376103127279916\n",
            "{'input': 'wp1', 'npartitions': 10, 'order': 2, 'output': 'wp1', 'partitioner': <class 'pyFTS.partitioners.Grid.GridPartitioner'>}\n",
            "Error : 0.050308079849606425\n",
            "{'input': 'wp1', 'npartitions': 10, 'order': 2, 'output': 'wp1', 'partitioner': <class 'pyFTS.partitioners.Grid.GridPartitioner'>}\n",
            "Error : 0.050308079849606425\n",
            "{'input': 'wp1', 'npartitions': 10, 'order': 1, 'output': 'wp1', 'partitioner': <class 'pyFTS.partitioners.Grid.GridPartitioner'>}\n",
            "Error : 0.05026286980529138\n",
            "{'input': 'wp1', 'npartitions': 10, 'order': 1, 'output': 'wp1', 'partitioner': <class 'pyFTS.partitioners.Grid.GridPartitioner'>}\n",
            "Error : 0.05026286980529138\n",
            "{'input': 'wp1', 'npartitions': 10, 'order': 1, 'output': 'wp1', 'partitioner': <class 'pyFTS.partitioners.Grid.GridPartitioner'>}\n",
            "Error : 0.05026286980529138\n",
            "{'input': 'wp1', 'npartitions': 10, 'order': 1, 'output': 'wp1', 'partitioner': <class 'pyFTS.partitioners.Grid.GridPartitioner'>}\n",
            "Error : 0.05026286980529138\n",
            "{'input': 'wp1', 'npartitions': 150, 'order': 1, 'output': 'wp1', 'partitioner': <class 'pyFTS.partitioners.Grid.GridPartitioner'>}\n",
            "Error : 0.05406776586459377\n",
            "{'input': 'wp1', 'npartitions': 10, 'order': 1, 'output': 'wp1', 'partitioner': <class 'pyFTS.partitioners.Grid.GridPartitioner'>}\n",
            "Error : 0.05026286980529138\n",
            "{'input': 'wp1', 'npartitions': 150, 'order': 1, 'output': 'wp1', 'partitioner': <class 'pyFTS.partitioners.Grid.GridPartitioner'>}\n",
            "Error : 0.05406776586459377\n",
            "{'input': 'wp1', 'npartitions': 10, 'order': 1, 'output': 'wp1', 'partitioner': <class 'pyFTS.partitioners.Grid.GridPartitioner'>}\n",
            "Error : 0.05026286980529138\n",
            "100%|██████████| 30/30 [00:15<00:00,  1.91trial/s, best loss: 0.05026286980529138]\n",
            "best parameters: \n",
            "{'input': 'wp1', 'npartitions': 10, 'order': 1, 'output': 'wp1', 'partitioner': <class 'pyFTS.partitioners.Grid.GridPartitioner'>}\n"
          ],
          "name": "stdout"
        }
      ]
    },
    {
      "cell_type": "markdown",
      "metadata": {
        "id": "boaYbWNkRvix"
      },
      "source": [
        "Best params: \\\n",
        "\\\n",
        "HOFTS SSA clean: \\\n",
        "{'input': 'wp1', 'npartitions': 100, 'order': 2, 'output': 'wp1', 'partitioner': <class 'pyFTS.partitioners.Grid.GridPartitioner'>}\\\n",
        "\\\n",
        "HOFTS SSA residual: \\\n",
        "{'input': 'wp1', 'npartitions': 10, 'order': 1, 'output': 'wp1', 'partitioner': <class 'pyFTS.partitioners.Grid.GridPartitioner'>} \\"
      ]
    },
    {
      "cell_type": "code",
      "metadata": {
        "id": "OG4NaVwus4gO"
      },
      "source": [
        "from pyFTS.partitioners import Grid, Entropy, Util as pUtil\n",
        "from pyFTS.models import hofts\n",
        "\n",
        "\n",
        "def rolling_cv_hofts(df, params):\n",
        "\n",
        "    _order = params['order']\n",
        "\n",
        "    forecasts = []\n",
        "    order_list = []\n",
        "\n",
        "    limit = df.index[-1].strftime('%Y-%m-%d')\n",
        "\n",
        "    test_end = \"\"\n",
        "    index = df.index[0]\n",
        "\n",
        "    while test_end < limit :\n",
        "        print(\"Index: \", index.strftime('%Y-%m-%d'))  \n",
        "\n",
        "        train_start, train_end, test_start, test_end = getRollingWindow(index)\n",
        "        index = index + datetime.timedelta(days=7)\n",
        "        \n",
        "        train = df[train_start : train_end]\n",
        "        test = df[test_start : test_end]\n",
        "\n",
        "        # Perform forecast\n",
        "        yhat = hofts_forecast(train, test, params)\n",
        "        yhat.append(yhat[-1]) #para manter o formato do vetor de metricas\n",
        "        \n",
        "        order_list.append(_order)\n",
        "        forecasts.append(yhat)\n",
        "\n",
        "    return forecasts, order_list"
      ],
      "execution_count": null,
      "outputs": []
    },
    {
      "cell_type": "code",
      "metadata": {
        "id": "5WkWJF2MtE4i",
        "colab": {
          "base_uri": "https://localhost:8080/",
          "height": 1000
        },
        "outputId": "740feabe-b99d-4f9d-ac84-605ed437ecd9"
      },
      "source": [
        "params_clean = {'input': 'wp1', 'npartitions': 100, 'order': 2, 'output': 'wp1', 'partitioner': Grid.GridPartitioner}\n",
        "\n",
        "params_residual = {'input': 'wp1', 'npartitions': 10, 'order': 1, 'output': 'wp1', 'partitioner': Grid.GridPartitioner}\n",
        "\n",
        "\n",
        "forecasts_clean, order_list_clean = rolling_cv_hofts(norm_df_ssa_clean, params_clean)\n",
        "forecasts_residual, order_list_residual = rolling_cv_hofts(norm_df_ssa_residual, params_residual)\n",
        "\n",
        "forecasts_final, order_list = get_final_forecast(forecasts_clean, forecasts_residual, order_list_clean, order_list_residual)\n",
        "calculate_rolling_error(\"rolling_cv_wind_hofts\", df, forecasts_final, order_list)"
      ],
      "execution_count": null,
      "outputs": [
        {
          "output_type": "stream",
          "text": [
            "Index:  2009-08-01\n",
            "Index:  2009-08-08\n",
            "Index:  2009-08-15\n",
            "Index:  2009-08-22\n",
            "Index:  2009-08-29\n",
            "Index:  2009-09-05\n",
            "Index:  2009-09-12\n",
            "Index:  2009-09-19\n",
            "Index:  2009-09-26\n",
            "Index:  2009-10-03\n",
            "Index:  2009-10-10\n",
            "Index:  2009-10-17\n",
            "Index:  2009-10-24\n",
            "Index:  2009-10-31\n",
            "Index:  2009-11-07\n",
            "Index:  2009-11-14\n",
            "Index:  2009-11-21\n",
            "Index:  2009-11-28\n",
            "Index:  2009-12-05\n",
            "Index:  2009-12-12\n",
            "Index:  2009-12-19\n",
            "Index:  2009-12-26\n",
            "Index:  2010-01-02\n",
            "Index:  2010-01-09\n",
            "Index:  2010-01-16\n",
            "Index:  2010-01-23\n",
            "Index:  2010-01-30\n",
            "Index:  2010-02-06\n",
            "Index:  2010-02-13\n",
            "Index:  2010-02-20\n",
            "Index:  2010-02-27\n",
            "Index:  2010-03-06\n",
            "Index:  2010-03-13\n",
            "Index:  2010-03-20\n",
            "Index:  2010-03-27\n",
            "Index:  2010-04-03\n",
            "Index:  2010-04-10\n",
            "Index:  2010-04-17\n",
            "Index:  2010-04-24\n",
            "Index:  2010-05-01\n",
            "Index:  2010-05-08\n",
            "Index:  2010-05-15\n",
            "Index:  2010-05-22\n",
            "Index:  2010-05-29\n",
            "Index:  2010-06-05\n",
            "Index:  2010-06-12\n",
            "Index:  2010-06-19\n",
            "Index:  2010-06-26\n",
            "Index:  2010-07-03\n",
            "Index:  2010-07-10\n",
            "Index:  2009-08-01\n",
            "Index:  2009-08-08\n",
            "Index:  2009-08-15\n",
            "Index:  2009-08-22\n",
            "Index:  2009-08-29\n",
            "Index:  2009-09-05\n",
            "Index:  2009-09-12\n",
            "Index:  2009-09-19\n",
            "Index:  2009-09-26\n",
            "Index:  2009-10-03\n",
            "Index:  2009-10-10\n",
            "Index:  2009-10-17\n",
            "Index:  2009-10-24\n",
            "Index:  2009-10-31\n",
            "Index:  2009-11-07\n",
            "Index:  2009-11-14\n",
            "Index:  2009-11-21\n",
            "Index:  2009-11-28\n",
            "Index:  2009-12-05\n",
            "Index:  2009-12-12\n",
            "Index:  2009-12-19\n",
            "Index:  2009-12-26\n",
            "Index:  2010-01-02\n",
            "Index:  2010-01-09\n",
            "Index:  2010-01-16\n",
            "Index:  2010-01-23\n",
            "Index:  2010-01-30\n",
            "Index:  2010-02-06\n",
            "Index:  2010-02-13\n",
            "Index:  2010-02-20\n",
            "Index:  2010-02-27\n",
            "Index:  2010-03-06\n",
            "Index:  2010-03-13\n",
            "Index:  2010-03-20\n",
            "Index:  2010-03-27\n",
            "Index:  2010-04-03\n",
            "Index:  2010-04-10\n",
            "Index:  2010-04-17\n",
            "Index:  2010-04-24\n",
            "Index:  2010-05-01\n",
            "Index:  2010-05-08\n",
            "Index:  2010-05-15\n",
            "Index:  2010-05-22\n",
            "Index:  2010-05-29\n",
            "Index:  2010-06-05\n",
            "Index:  2010-06-12\n",
            "Index:  2010-06-19\n",
            "Index:  2010-06-26\n",
            "Index:  2010-07-03\n",
            "Index:  2010-07-10\n"
          ],
          "name": "stdout"
        }
      ]
    },
    {
      "cell_type": "code",
      "metadata": {
        "id": "FEU3CMQdTCxX",
        "colab": {
          "base_uri": "https://localhost:8080/",
          "height": 17
        },
        "outputId": "ffca9d72-a0fd-4b66-95d2-53abf13f65f0"
      },
      "source": [
        "files.download('rolling_cv_wind_hofts.csv')"
      ],
      "execution_count": null,
      "outputs": [
        {
          "output_type": "display_data",
          "data": {
            "application/javascript": [
              "\n",
              "    async function download(id, filename, size) {\n",
              "      if (!google.colab.kernel.accessAllowed) {\n",
              "        return;\n",
              "      }\n",
              "      const div = document.createElement('div');\n",
              "      const label = document.createElement('label');\n",
              "      label.textContent = `Downloading \"${filename}\": `;\n",
              "      div.appendChild(label);\n",
              "      const progress = document.createElement('progress');\n",
              "      progress.max = size;\n",
              "      div.appendChild(progress);\n",
              "      document.body.appendChild(div);\n",
              "\n",
              "      const buffers = [];\n",
              "      let downloaded = 0;\n",
              "\n",
              "      const channel = await google.colab.kernel.comms.open(id);\n",
              "      // Send a message to notify the kernel that we're ready.\n",
              "      channel.send({})\n",
              "\n",
              "      for await (const message of channel.messages) {\n",
              "        // Send a message to notify the kernel that we're ready.\n",
              "        channel.send({})\n",
              "        if (message.buffers) {\n",
              "          for (const buffer of message.buffers) {\n",
              "            buffers.push(buffer);\n",
              "            downloaded += buffer.byteLength;\n",
              "            progress.value = downloaded;\n",
              "          }\n",
              "        }\n",
              "      }\n",
              "      const blob = new Blob(buffers, {type: 'application/binary'});\n",
              "      const a = document.createElement('a');\n",
              "      a.href = window.URL.createObjectURL(blob);\n",
              "      a.download = filename;\n",
              "      div.appendChild(a);\n",
              "      a.click();\n",
              "      div.remove();\n",
              "    }\n",
              "  "
            ],
            "text/plain": [
              "<IPython.core.display.Javascript object>"
            ]
          },
          "metadata": {
            "tags": []
          }
        },
        {
          "output_type": "display_data",
          "data": {
            "application/javascript": [
              "download(\"download_0492cb78-7e6c-45b7-907b-25d28f36e97c\", \"rolling_cv_wind_hofts.csv\", 2680)"
            ],
            "text/plain": [
              "<IPython.core.display.Javascript object>"
            ]
          },
          "metadata": {
            "tags": []
          }
        }
      ]
    },
    {
      "cell_type": "markdown",
      "metadata": {
        "id": "BbrR5M-2tj7j"
      },
      "source": [
        "### NSFTS"
      ]
    },
    {
      "cell_type": "code",
      "metadata": {
        "id": "KflU3vANXBU1"
      },
      "source": [
        "from pyFTS.models.nonstationary import common, perturbation, partitioners as nspart\n",
        "from pyFTS.models.nonstationary import nsfts, util as nsUtil"
      ],
      "execution_count": null,
      "outputs": []
    },
    {
      "cell_type": "markdown",
      "metadata": {
        "id": "CDsjp5tyVcy-"
      },
      "source": [
        "#### Parameter Tuning"
      ]
    },
    {
      "cell_type": "code",
      "metadata": {
        "id": "blbwPd2mVggp"
      },
      "source": [
        "nsfts_space = {'npartitions': hp.choice('npartitions', [10, 30, 50, 100, 150]),\n",
        "        'order': hp.choice('order', [1]),\n",
        "        'input': hp.choice('input', [target_station]),\n",
        "        'output': hp.choice('output', [target_station])}\n",
        "\n",
        "def nsfts_forecast(train_df, test_df, params):\n",
        "    _npartitions = params['npartitions']\n",
        "    _order = params['order']\n",
        "    _input = params['input']\n",
        "    _step = params.get('step',1)\n",
        "    \n",
        "    nsfs = nspart.simplenonstationary_gridpartitioner_builder(data=train_df[_input].values, npart=_npartitions, transformation=None)\n",
        "    model = nsfts.NonStationaryFTS(partitioner=nsfs, order=_order)\n",
        "    \n",
        "    model.fit(train_df[_input].values)\n",
        "\n",
        "    forecast = model.predict(test_df[_input].values)\n",
        "    forecast = forecast[:-1]\n",
        "    return forecast"
      ],
      "execution_count": null,
      "outputs": []
    },
    {
      "cell_type": "code",
      "metadata": {
        "id": "KziNLZGGWg4o",
        "colab": {
          "base_uri": "https://localhost:8080/",
          "height": 425
        },
        "outputId": "3aa0856a-cd76-40f9-9db1-749cc377569f"
      },
      "source": [
        "methods = []\n",
        "methods.append((\"EXP_WIND_NSFTS\", nsfts_forecast, nsfts_space))\n",
        "train_split = 0.6\n",
        "parameter_tuning.run_search(methods, tuning_ssa_residual, train_split, Measures.rmse, max_evals=10, resample=None)"
      ],
      "execution_count": null,
      "outputs": [
        {
          "output_type": "stream",
          "text": [
            "Running experiment: EXP_WIND_NSFTS\n",
            "{'input': 'wp1', 'npartitions': 50, 'order': 1, 'output': 'wp1'}\n",
            "Error : 0.05688019103565743\n",
            "{'input': 'wp1', 'npartitions': 150, 'order': 1, 'output': 'wp1'}\n",
            "Error : 0.06447110342869575\n",
            "{'input': 'wp1', 'npartitions': 50, 'order': 1, 'output': 'wp1'}\n",
            "Error : 0.05688019103565743\n",
            "{'input': 'wp1', 'npartitions': 30, 'order': 1, 'output': 'wp1'}\n",
            "Error : 0.05852211244563932\n",
            "{'input': 'wp1', 'npartitions': 150, 'order': 1, 'output': 'wp1'}\n",
            "Error : 0.06447110342869575\n",
            "{'input': 'wp1', 'npartitions': 50, 'order': 1, 'output': 'wp1'}\n",
            "Error : 0.05688019103565743\n",
            "{'input': 'wp1', 'npartitions': 150, 'order': 1, 'output': 'wp1'}\n",
            "Error : 0.06447110342869575\n",
            "{'input': 'wp1', 'npartitions': 10, 'order': 1, 'output': 'wp1'}\n",
            "Error : 0.055563122054530005\n",
            "{'input': 'wp1', 'npartitions': 30, 'order': 1, 'output': 'wp1'}\n",
            "Error : 0.05852211244563932\n",
            "{'input': 'wp1', 'npartitions': 50, 'order': 1, 'output': 'wp1'}\n",
            "Error : 0.05688019103565743\n",
            "100%|██████████| 10/10 [00:42<00:00,  4.22s/trial, best loss: 0.055563122054530005]\n",
            "best parameters: \n",
            "{'input': 'wp1', 'npartitions': 10, 'order': 1, 'output': 'wp1'}\n"
          ],
          "name": "stdout"
        }
      ]
    },
    {
      "cell_type": "markdown",
      "metadata": {
        "id": "nUIZ1ALMU6oW"
      },
      "source": [
        "Best params: \\\n",
        "\\\n",
        "HOFTS SSA clean: \\\n",
        "{'input': 'wp1', 'npartitions': 30, 'order': 1, 'output': 'wp1'}\\\n",
        "\\\n",
        "HOFTS SSA residual: \\\n",
        "{'input': 'wp1', 'npartitions': 10, 'order': 1, 'output': 'wp1'} \\"
      ]
    },
    {
      "cell_type": "markdown",
      "metadata": {
        "id": "jrYz_tsNVoGT"
      },
      "source": [
        "#### NSFTS Forecasting"
      ]
    },
    {
      "cell_type": "code",
      "metadata": {
        "id": "zYBnBP2Y0QCl"
      },
      "source": [
        "def rolling_cv_nsfts(df, params):\n",
        "    \n",
        "    forecasts = []\n",
        "    order_list = []\n",
        "\n",
        "    _npartitions = params['npartitions']\n",
        "    _order = params['order']\n",
        "    _input = params['input']\n",
        "    _step = params.get('step',1)\n",
        "\n",
        "    limit = df.index[-1].strftime('%Y-%m-%d')\n",
        "\n",
        "    test_end = \"\"\n",
        "    index = df.index[0]\n",
        "    first_time = True\n",
        "\n",
        "    while test_end < limit :\n",
        "        print(\"Index: \", index.strftime('%Y-%m-%d'))  \n",
        "\n",
        "        train_start, train_end, test_start, test_end = getRollingWindow(index)\n",
        "        index = index + datetime.timedelta(days=7)\n",
        "        \n",
        "        train = df[train_start : train_end]\n",
        "        test = df[test_start : test_end]\n",
        "\n",
        "        # Perform forecast\n",
        "\n",
        "        # In the first time, the model is trained. \n",
        "        # For the next iterations, training subset is used to evolve the model\n",
        "        if first_time:\n",
        "          nsfs = nspart.simplenonstationary_gridpartitioner_builder(data=train[_input].values, npart=_npartitions, transformation=None)\n",
        "          model = nsfts.NonStationaryFTS(partitioner=nsfs, order=_order)\n",
        "          model.fit(train[_input].values)\n",
        "          first_time = False\n",
        "\n",
        "        forecast = model.predict(test[_input].values)\n",
        "        #forecast = forecast[:-1]\n",
        "        \n",
        "        order_list.append(params['order'])\n",
        "        forecasts.append(forecast)\n",
        "\n",
        "    return forecasts, order_list"
      ],
      "execution_count": null,
      "outputs": []
    },
    {
      "cell_type": "code",
      "metadata": {
        "id": "La4PN7ph4smH",
        "colab": {
          "base_uri": "https://localhost:8080/",
          "height": 1000
        },
        "outputId": "32bbb57b-6277-4e23-93b7-f602ed6fd375"
      },
      "source": [
        "params_clean = {'input': 'wp1', 'npartitions': 30, 'order': 1, 'output': 'wp1'}\n",
        "params_residual = {'input': 'wp1', 'npartitions': 10, 'order': 1, 'output': 'wp1'}\n",
        "\n",
        "\n",
        "forecasts_clean, order_list_clean = rolling_cv_nsfts(norm_df_ssa_clean, params_clean)\n",
        "forecasts_residual, order_list_residual = rolling_cv_nsfts(norm_df_ssa_residual, params_residual)\n",
        "\n",
        "forecasts_final, order_list = get_final_forecast(forecasts_clean, forecasts_residual, order_list_clean, order_list_residual)\n",
        "calculate_rolling_error(\"rolling_cv_wind_nsfts\", df, forecasts_final, order_list)"
      ],
      "execution_count": null,
      "outputs": [
        {
          "output_type": "stream",
          "text": [
            "Index:  2009-08-01\n",
            "Index:  2009-08-08\n",
            "Index:  2009-08-15\n",
            "Index:  2009-08-22\n",
            "Index:  2009-08-29\n",
            "Index:  2009-09-05\n",
            "Index:  2009-09-12\n",
            "Index:  2009-09-19\n",
            "Index:  2009-09-26\n",
            "Index:  2009-10-03\n",
            "Index:  2009-10-10\n",
            "Index:  2009-10-17\n",
            "Index:  2009-10-24\n",
            "Index:  2009-10-31\n",
            "Index:  2009-11-07\n",
            "Index:  2009-11-14\n",
            "Index:  2009-11-21\n",
            "Index:  2009-11-28\n",
            "Index:  2009-12-05\n",
            "Index:  2009-12-12\n",
            "Index:  2009-12-19\n",
            "Index:  2009-12-26\n",
            "Index:  2010-01-02\n",
            "Index:  2010-01-09\n",
            "Index:  2010-01-16\n",
            "Index:  2010-01-23\n",
            "Index:  2010-01-30\n",
            "Index:  2010-02-06\n",
            "Index:  2010-02-13\n",
            "Index:  2010-02-20\n",
            "Index:  2010-02-27\n",
            "Index:  2010-03-06\n",
            "Index:  2010-03-13\n",
            "Index:  2010-03-20\n",
            "Index:  2010-03-27\n",
            "Index:  2010-04-03\n",
            "Index:  2010-04-10\n",
            "Index:  2010-04-17\n",
            "Index:  2010-04-24\n",
            "Index:  2010-05-01\n",
            "Index:  2010-05-08\n",
            "Index:  2010-05-15\n",
            "Index:  2010-05-22\n",
            "Index:  2010-05-29\n",
            "Index:  2010-06-05\n",
            "Index:  2010-06-12\n",
            "Index:  2010-06-19\n",
            "Index:  2010-06-26\n",
            "Index:  2010-07-03\n",
            "Index:  2010-07-10\n",
            "Index:  2009-08-01\n",
            "Index:  2009-08-08\n",
            "Index:  2009-08-15\n",
            "Index:  2009-08-22\n",
            "Index:  2009-08-29\n",
            "Index:  2009-09-05\n",
            "Index:  2009-09-12\n",
            "Index:  2009-09-19\n",
            "Index:  2009-09-26\n",
            "Index:  2009-10-03\n",
            "Index:  2009-10-10\n",
            "Index:  2009-10-17\n",
            "Index:  2009-10-24\n",
            "Index:  2009-10-31\n",
            "Index:  2009-11-07\n",
            "Index:  2009-11-14\n",
            "Index:  2009-11-21\n",
            "Index:  2009-11-28\n",
            "Index:  2009-12-05\n",
            "Index:  2009-12-12\n",
            "Index:  2009-12-19\n",
            "Index:  2009-12-26\n",
            "Index:  2010-01-02\n",
            "Index:  2010-01-09\n",
            "Index:  2010-01-16\n",
            "Index:  2010-01-23\n",
            "Index:  2010-01-30\n",
            "Index:  2010-02-06\n",
            "Index:  2010-02-13\n",
            "Index:  2010-02-20\n",
            "Index:  2010-02-27\n",
            "Index:  2010-03-06\n",
            "Index:  2010-03-13\n",
            "Index:  2010-03-20\n",
            "Index:  2010-03-27\n",
            "Index:  2010-04-03\n",
            "Index:  2010-04-10\n",
            "Index:  2010-04-17\n",
            "Index:  2010-04-24\n",
            "Index:  2010-05-01\n",
            "Index:  2010-05-08\n",
            "Index:  2010-05-15\n",
            "Index:  2010-05-22\n",
            "Index:  2010-05-29\n",
            "Index:  2010-06-05\n",
            "Index:  2010-06-12\n",
            "Index:  2010-06-19\n",
            "Index:  2010-06-26\n",
            "Index:  2010-07-03\n",
            "Index:  2010-07-10\n"
          ],
          "name": "stdout"
        }
      ]
    },
    {
      "cell_type": "code",
      "metadata": {
        "id": "WWPvfdqAcdV-",
        "colab": {
          "base_uri": "https://localhost:8080/",
          "height": 17
        },
        "outputId": "2966df82-da25-4601-ec29-7236d0058450"
      },
      "source": [
        "files.download('rolling_cv_wind_nsfts.csv')"
      ],
      "execution_count": null,
      "outputs": [
        {
          "output_type": "display_data",
          "data": {
            "application/javascript": [
              "\n",
              "    async function download(id, filename, size) {\n",
              "      if (!google.colab.kernel.accessAllowed) {\n",
              "        return;\n",
              "      }\n",
              "      const div = document.createElement('div');\n",
              "      const label = document.createElement('label');\n",
              "      label.textContent = `Downloading \"${filename}\": `;\n",
              "      div.appendChild(label);\n",
              "      const progress = document.createElement('progress');\n",
              "      progress.max = size;\n",
              "      div.appendChild(progress);\n",
              "      document.body.appendChild(div);\n",
              "\n",
              "      const buffers = [];\n",
              "      let downloaded = 0;\n",
              "\n",
              "      const channel = await google.colab.kernel.comms.open(id);\n",
              "      // Send a message to notify the kernel that we're ready.\n",
              "      channel.send({})\n",
              "\n",
              "      for await (const message of channel.messages) {\n",
              "        // Send a message to notify the kernel that we're ready.\n",
              "        channel.send({})\n",
              "        if (message.buffers) {\n",
              "          for (const buffer of message.buffers) {\n",
              "            buffers.push(buffer);\n",
              "            downloaded += buffer.byteLength;\n",
              "            progress.value = downloaded;\n",
              "          }\n",
              "        }\n",
              "      }\n",
              "      const blob = new Blob(buffers, {type: 'application/binary'});\n",
              "      const a = document.createElement('a');\n",
              "      a.href = window.URL.createObjectURL(blob);\n",
              "      a.download = filename;\n",
              "      div.appendChild(a);\n",
              "      a.click();\n",
              "      div.remove();\n",
              "    }\n",
              "  "
            ],
            "text/plain": [
              "<IPython.core.display.Javascript object>"
            ]
          },
          "metadata": {
            "tags": []
          }
        },
        {
          "output_type": "display_data",
          "data": {
            "application/javascript": [
              "download(\"download_d516b4f3-171a-469e-a50e-4c8af72f64bc\", \"rolling_cv_wind_nsfts.csv\", 2670)"
            ],
            "text/plain": [
              "<IPython.core.display.Javascript object>"
            ]
          },
          "metadata": {
            "tags": []
          }
        }
      ]
    },
    {
      "cell_type": "markdown",
      "metadata": {
        "id": "GJo1NvXBiKLi"
      },
      "source": [
        "## Results Analysis"
      ]
    },
    {
      "cell_type": "code",
      "metadata": {
        "id": "MtvdyqvleWaC",
        "colab": {
          "resources": {
            "http://localhost:8080/nbextensions/google.colab/files.js": {
              "data": "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",
              "ok": true,
              "headers": [
                [
                  "content-type",
                  "application/javascript"
                ]
              ],
              "status": 200,
              "status_text": ""
            }
          },
          "base_uri": "https://localhost:8080/",
          "height": 109
        },
        "outputId": "691ebfd7-9567-49ca-8086-4cf372dbd00d"
      },
      "source": [
        "files.upload()"
      ],
      "execution_count": null,
      "outputs": [
        {
          "output_type": "display_data",
          "data": {
            "text/html": [
              "\n",
              "     <input type=\"file\" id=\"files-261aed20-f135-48a9-bd66-a8f25e53b766\" name=\"files[]\" multiple disabled\n",
              "        style=\"border:none\" />\n",
              "     <output id=\"result-261aed20-f135-48a9-bd66-a8f25e53b766\">\n",
              "      Upload widget is only available when the cell has been executed in the\n",
              "      current browser session. Please rerun this cell to enable.\n",
              "      </output>\n",
              "      <script src=\"/nbextensions/google.colab/files.js\"></script> "
            ],
            "text/plain": [
              "<IPython.core.display.HTML object>"
            ]
          },
          "metadata": {
            "tags": []
          }
        },
        {
          "output_type": "stream",
          "text": [
            "Saving rolling_cv_wind_hofts.csv to rolling_cv_wind_hofts.csv\n"
          ],
          "name": "stdout"
        },
        {
          "output_type": "execute_result",
          "data": {
            "text/plain": [
              "{'rolling_cv_wind_hofts.csv': b',Split,RMSE,SMAPE,U\\n0,2009-08-01,0.04072680759524921,31.262196539345492,\\n1,2009-08-08,0.04335739298121313,64.99474558108422,\\n2,2009-08-15,0.025168151789516847,28.12228297435371,\\n3,2009-08-22,0.049811083459788054,24.690924979150605,\\n4,2009-08-29,0.03254160627773798,21.421890408521286,\\n5,2009-09-05,0.11040776833365082,16.670688040976334,\\n6,2009-09-12,0.096785570443263,28.23886775787521,\\n7,2009-09-19,0.08329540999379147,39.244049496348794,\\n8,2009-09-26,0.07454346446062926,41.49850566997031,\\n9,2009-10-03,0.0480972363658258,26.312081145672522,\\n10,2009-10-10,0.05220169513299872,25.152073524894643,\\n11,2009-10-17,0.059208228633507366,18.287599685222244,\\n12,2009-10-24,0.062004997627969176,11.023792480750954,\\n13,2009-10-31,0.04244832358442269,32.283605130743446,\\n14,2009-11-07,0.06867807984445784,13.692231766612503,\\n15,2009-11-14,0.0704175627372447,11.984941839261984,\\n16,2009-11-21,0.046515529658593804,28.062014584697277,\\n17,2009-11-28,0.043252824548201355,27.459287501812213,\\n18,2009-12-05,0.06809159786128023,12.427200008363176,\\n19,2009-12-12,0.05975009682590447,31.92497032222232,\\n20,2009-12-19,0.06869376060915425,20.25191748985287,\\n21,2009-12-26,0.04749815399685625,58.04584959091878,\\n22,2010-01-02,0.08119122600886851,11.008172602561519,\\n23,2010-01-09,0.05906650047956045,36.68801735591183,\\n24,2010-01-16,0.059316332081427045,14.572614165590746,\\n25,2010-01-23,0.041479344000654,27.64949219882602,\\n26,2010-01-30,0.04198742161646509,26.43308759947736,\\n27,2010-02-06,0.04095715491991383,13.034163893679782,\\n28,2010-02-13,0.05782267998154701,17.69922498511941,\\n29,2010-02-20,0.08357733289373545,13.657050478492133,\\n30,2010-02-27,0.061767412316253434,26.525353033497584,\\n31,2010-03-06,0.05172394357099816,25.25384938534384,\\n32,2010-03-13,0.11582424103494889,17.338007574986968,\\n33,2010-03-20,0.08063882968880975,26.54529206778428,\\n34,2010-03-27,0.05051157761327359,29.41406110586957,\\n35,2010-04-03,0.07813666591701189,13.821510052906739,\\n36,2010-04-10,0.11743650876789855,25.416236328371728,\\n37,2010-04-17,0.08043012070059641,13.577122375541196,\\n38,2010-04-24,0.04629549479030732,25.661233029289797,\\n39,2010-05-01,0.043168647223321005,45.1968519151583,\\n40,2010-05-08,0.043468501533662426,42.57749967442417,\\n41,2010-05-15,0.047808313032672835,26.891597537272276,\\n42,2010-05-22,0.17366684794384224,35.45686640029277,\\n43,2010-05-29,0.07753692791638173,21.907745175343383,\\n44,2010-06-05,0.06982124346098756,28.836808859774326,\\n45,2010-06-12,0.07106240100754588,33.45183286067061,\\n46,2010-06-19,0.06347626815007795,40.80992024880866,\\n47,2010-06-26,0.0638388372459236,28.097105240232906,\\n48,2010-07-03,0.06036990775710442,37.64562565818256,\\n49,2010-07-10,0.04515537599342773,100.0,\\n'}"
            ]
          },
          "metadata": {
            "tags": []
          },
          "execution_count": 31
        }
      ]
    },
    {
      "cell_type": "code",
      "metadata": {
        "id": "XXacWLz8bRHb"
      },
      "source": [
        "pd.options.display.float_format = '{:.4f}'.format"
      ],
      "execution_count": null,
      "outputs": []
    },
    {
      "cell_type": "code",
      "metadata": {
        "id": "RXlkpzmhbf0u"
      },
      "source": [
        "def createBoxplot(filename, data, xticklabels, ylabel):\n",
        "    # Create a figure instance\n",
        "    fig = plt.figure(1, figsize=(9, 6))\n",
        "\n",
        "    # Create an axes instance\n",
        "    ax = fig.add_subplot(111)\n",
        "\n",
        "    # Create the boxplot\n",
        "    bp = ax.boxplot(data, patch_artist=True)\n",
        "    \n",
        "    ## change outline color, fill color and linewidth of the boxes\n",
        "    for box in bp['boxes']:\n",
        "        # change outline color\n",
        "        box.set( color='#7570b3', linewidth=2)\n",
        "        # change fill color\n",
        "        box.set( facecolor = '#AACCFF' )\n",
        "\n",
        "    ## change color and linewidth of the whiskers\n",
        "    for whisker in bp['whiskers']:\n",
        "        whisker.set(color='#7570b3', linewidth=2)\n",
        "\n",
        "    ## change color and linewidth of the caps\n",
        "    for cap in bp['caps']:\n",
        "        cap.set(color='#7570b3', linewidth=2)\n",
        "\n",
        "    ## change color and linewidth of the medians\n",
        "    for median in bp['medians']:\n",
        "        median.set(color='#FFE680', linewidth=2)\n",
        "\n",
        "    ## change the style of fliers and their fill\n",
        "    for flier in bp['fliers']:\n",
        "        flier.set(marker='o', color='#e7298a', alpha=0.5)\n",
        "    \n",
        "    ## Custom x-axis labels\n",
        "    ax.set_xticklabels(xticklabels)\n",
        "    ax.set_ylabel(ylabel)\n",
        "    plt.show()\n",
        "    fig.savefig(filename, bbox_inches='tight')"
      ],
      "execution_count": null,
      "outputs": []
    },
    {
      "cell_type": "code",
      "metadata": {
        "id": "ENEVrj9bbkBT"
      },
      "source": [
        "fts_results = pd.read_csv(\"rolling_cv_wind_fts.csv\")\n",
        "hofts_results = pd.read_csv(\"rolling_cv_wind_hofts.csv\")\n",
        "mlp_results = pd.read_csv(\"rolling_cv_wind_mlp_uni.csv\")\n",
        "nsfts_results = pd.read_csv(\"rolling_cv_wind_nsfts.csv\")\n",
        "persistence_results = pd.read_csv(\"rolling_cv_wind_persistence.csv\")"
      ],
      "execution_count": null,
      "outputs": []
    },
    {
      "cell_type": "code",
      "metadata": {
        "id": "4rADoHb1bqBZ",
        "colab": {
          "base_uri": "https://localhost:8080/",
          "height": 378
        },
        "outputId": "d5632402-0bca-424a-82ce-47ca7b4fe4a9"
      },
      "source": [
        "metric = 'RMSE'\n",
        "results_data = [persistence_results[metric],mlp_results[metric], fts_results[metric], hofts_results[metric], nsfts_results[metric]]\n",
        "xticks = ['Persistence','MLP','FTS','HOFTS','NSFTS']\n",
        "\n",
        "ylab = 'RMSE'\n",
        "createBoxplot(\"nsfts_boxplot_rmse_wind\", results_data, xticks, ylab)"
      ],
      "execution_count": null,
      "outputs": [
        {
          "output_type": "display_data",
          "data": {
            "image/png": "[encoded data removed]",
            "text/plain": [
              "<Figure size 648x432 with 1 Axes>"
            ]
          },
          "metadata": {
            "tags": [],
            "needs_background": "light"
          }
        }
      ]
    },
    {
      "cell_type": "code",
      "metadata": {
        "id": "FKv6eTHJRoZu"
      },
      "source": [
        "metric = 'RMSE'\n",
        "rmse_df = pd.DataFrame(columns=['Persistence','MLP','FTS','HOFTS','NSFTS'])\n",
        "\n",
        "rmse_df[\"Persistence\"] = persistence_results[metric]\n",
        "rmse_df[\"MLP\"] = mlp_results[metric]\n",
        "rmse_df[\"FTS\"] = fts_results[metric]\n",
        "rmse_df[\"HOFTS\"] = hofts_results[metric]\n",
        "rmse_df[\"NSFTS\"] = nsfts_results[metric]"
      ],
      "execution_count": null,
      "outputs": []
    },
    {
      "cell_type": "code",
      "metadata": {
        "id": "VoQF7PtpRthA",
        "colab": {
          "base_uri": "https://localhost:8080/",
          "height": 255
        },
        "outputId": "7b586abc-1408-4205-fde2-776fad620302"
      },
      "source": [
        "print(\"Mean\")\n",
        "print(rmse_df.mean())\n",
        "print(\"std\")\n",
        "print(rmse_df.std())"
      ],
      "execution_count": null,
      "outputs": [
        {
          "output_type": "stream",
          "text": [
            "Mean\n",
            "Persistence   0.0684\n",
            "MLP           0.0392\n",
            "FTS           0.2475\n",
            "HOFTS         0.0640\n",
            "NSFTS         0.0724\n",
            "dtype: float64\n",
            "std\n",
            "Persistence   0.0219\n",
            "MLP           0.0142\n",
            "FTS           0.0787\n",
            "HOFTS         0.0257\n",
            "NSFTS         0.0253\n",
            "dtype: float64\n"
          ],
          "name": "stdout"
        }
      ]
    },
    {
      "cell_type": "markdown",
      "metadata": {
        "id": "n7csfYzRRxAE"
      },
      "source": [
        "#### SMAPE"
      ]
    },
    {
      "cell_type": "code",
      "metadata": {
        "id": "IZpf9XqeR0sX",
        "colab": {
          "base_uri": "https://localhost:8080/",
          "height": 374
        },
        "outputId": "297d33af-fee6-4ebf-c448-b367aed571c2"
      },
      "source": [
        "metric = 'SMAPE'\n",
        "results_data = [persistence_results[metric],mlp_results[metric], fts_results[metric], hofts_results[metric], nsfts_results[metric]]\n",
        "xticks = ['Persistence','MLP','FTS','HOFTS','NSFTS']\n",
        "\n",
        "ylab = 'SMAPE'\n",
        "createBoxplot(\"nsfts_boxplot_smape_wind\", results_data, xticks, ylab)"
      ],
      "execution_count": null,
      "outputs": [
        {
          "output_type": "display_data",
          "data": {
            "image/png": "[encoded data removed]",
            "text/plain": [
              "<Figure size 648x432 with 1 Axes>"
            ]
          },
          "metadata": {
            "tags": [],
            "needs_background": "light"
          }
        }
      ]
    },
    {
      "cell_type": "code",
      "metadata": {
        "id": "uiR41GadR5T_"
      },
      "source": [
        "metric = 'SMAPE'\n",
        "smape_df = pd.DataFrame(columns=['Persistence','MLP','FTS','HOFTS','NSFTS'])\n",
        "\n",
        "smape_df[\"Persistence\"] = persistence_results[metric]\n",
        "smape_df[\"MLP\"] = mlp_results[metric]\n",
        "smape_df[\"FTS\"] = fts_results[metric]\n",
        "smape_df[\"HOFTS\"] = hofts_results[metric]\n",
        "smape_df[\"NSFTS\"] = nsfts_results[metric]"
      ],
      "execution_count": null,
      "outputs": []
    },
    {
      "cell_type": "code",
      "metadata": {
        "id": "CTOOz1k6SBgH",
        "colab": {
          "base_uri": "https://localhost:8080/",
          "height": 255
        },
        "outputId": "8cca4ce5-09c7-452f-979c-8ff1e25b09ba"
      },
      "source": [
        "print(\"Mean\")\n",
        "print(smape_df.mean())\n",
        "print(\"std\")\n",
        "print(smape_df.std())"
      ],
      "execution_count": null,
      "outputs": [
        {
          "output_type": "stream",
          "text": [
            "Mean\n",
            "Persistence   28.3633\n",
            "MLP           24.5248\n",
            "FTS           47.3436\n",
            "HOFTS         28.3644\n",
            "NSFTS         30.4681\n",
            "dtype: float64\n",
            "std\n",
            "Persistence   14.3074\n",
            "MLP           15.5393\n",
            "FTS           14.9635\n",
            "HOFTS         15.4281\n",
            "NSFTS         15.4127\n",
            "dtype: float64\n"
          ],
          "name": "stdout"
        }
      ]
    },
    {
      "cell_type": "code",
      "metadata": {
        "id": "lDkrkb4-iOvQ"
      },
      "source": [
        ""
      ],
      "execution_count": null,
      "outputs": []
    }
  ]
}