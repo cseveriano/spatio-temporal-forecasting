{
  "nbformat": 4,
  "nbformat_minor": 0,
  "metadata": {
    "colab": {
      "name": "20200818 - Solar Energy Oahu - Univariate Forecasting - SSA Decomposition.ipynb",
      "provenance": [],
      "collapsed_sections": [],
      "toc_visible": true,
      "authorship_tag": "ABX9TyN/otJcg4EB7p6UdhBnOnDI",
      "include_colab_link": true
    },
    "kernelspec": {
      "name": "python3",
      "display_name": "Python 3"
    },
    "accelerator": "GPU"
  },
  "cells": [
    {
      "cell_type": "markdown",
      "metadata": {
        "id": "view-in-github",
        "colab_type": "text"
      },
      "source": [
        "<a href=\"https://colab.research.google.com/github/cseveriano/spatio-temporal-forecasting/blob/master/notebooks/thesis_experiments/20200818_Solar_Energy_Oahu_Univariate_Forecasting_SSA_Decomposition.ipynb\" target=\"_parent\"><img src=\"https://colab.research.google.com/assets/colab-badge.svg\" alt=\"Open In Colab\"/></a>"
      ]
    },
    {
      "cell_type": "code",
      "metadata": {
        "id": "OwodJpV26pLb",
        "colab": {
          "base_uri": "https://localhost:8080/",
          "height": 853
        },
        "outputId": "9ce9f710-9760-4000-c000-1a6d7a0fd7cc"
      },
      "source": [
        "!pip3 install -U git+https://github.com/PYFTS/pyFTS\n",
        "!pip3 install -U git+https://github.com/cseveriano/spatio-temporal-forecasting\n",
        "!pip3 install -U hyperopt\n",
        "!pip install pyts"
      ],
      "execution_count": null,
      "outputs": [
        {
          "output_type": "stream",
          "text": [
            "Collecting git+https://github.com/PYFTS/pyFTS\n",
            "  Cloning https://github.com/PYFTS/pyFTS to /tmp/pip-req-build-y5_wm9l9\n",
            "  Running command git clone -q https://github.com/PYFTS/pyFTS /tmp/pip-req-build-y5_wm9l9\n",
            "Building wheels for collected packages: pyFTS\n",
            "  Building wheel for pyFTS (setup.py) ... \u001b[?25l\u001b[?25hdone\n",
            "  Created wheel for pyFTS: filename=pyFTS-1.6-cp36-none-any.whl size=207416 sha256=5728abfa7ab3a312833298b909f0c52bc474698ffabb948f1526dfed82387c81\n",
            "  Stored in directory: /tmp/pip-ephem-wheel-cache-gwhk5wul/wheels/e7/32/a9/230470113df5a73242a5a6d05671cb646db97abf14bbce2644\n",
            "Successfully built pyFTS\n",
            "Installing collected packages: pyFTS\n",
            "Successfully installed pyFTS-1.6\n",
            "Collecting git+https://github.com/cseveriano/spatio-temporal-forecasting\n",
            "  Cloning https://github.com/cseveriano/spatio-temporal-forecasting to /tmp/pip-req-build-_a4vdxmw\n",
            "  Running command git clone -q https://github.com/cseveriano/spatio-temporal-forecasting /tmp/pip-req-build-_a4vdxmw\n",
            "Building wheels for collected packages: spatio-temporal-forecasting\n",
            "  Building wheel for spatio-temporal-forecasting (setup.py) ... \u001b[?25l\u001b[?25hdone\n",
            "  Created wheel for spatio-temporal-forecasting: filename=spatio_temporal_forecasting-1.0-cp36-none-any.whl size=55633 sha256=204cf1b08da6e578c2c6a1b2292ebb4cce9426991a449fde9fae1998860adeff\n",
            "  Stored in directory: /tmp/pip-ephem-wheel-cache-xbggvv5u/wheels/d2/1f/6f/439795864246039ef36c6a3c88edf7935c803c2cf97133066a\n",
            "Successfully built spatio-temporal-forecasting\n",
            "Installing collected packages: spatio-temporal-forecasting\n",
            "Successfully installed spatio-temporal-forecasting-1.0\n",
            "Collecting hyperopt\n",
            "\u001b[?25l  Downloading https://files.pythonhosted.org/packages/90/d5/c7e276f4f7bc65ac26391c435245e5ef8911b4393e3df5a74906c48afeaf/hyperopt-0.2.4-py2.py3-none-any.whl (964kB)\n",
            "\u001b[K     |████████████████████████████████| 972kB 2.8MB/s \n",
            "\u001b[?25hRequirement already satisfied, skipping upgrade: numpy in /usr/local/lib/python3.6/dist-packages (from hyperopt) (1.18.5)\n",
            "Requirement already satisfied, skipping upgrade: tqdm in /usr/local/lib/python3.6/dist-packages (from hyperopt) (4.41.1)\n",
            "Requirement already satisfied, skipping upgrade: cloudpickle in /usr/local/lib/python3.6/dist-packages (from hyperopt) (1.3.0)\n",
            "Requirement already satisfied, skipping upgrade: future in /usr/local/lib/python3.6/dist-packages (from hyperopt) (0.16.0)\n",
            "Requirement already satisfied, skipping upgrade: networkx>=2.2 in /usr/local/lib/python3.6/dist-packages (from hyperopt) (2.5)\n",
            "Requirement already satisfied, skipping upgrade: scipy in /usr/local/lib/python3.6/dist-packages (from hyperopt) (1.4.1)\n",
            "Requirement already satisfied, skipping upgrade: six in /usr/local/lib/python3.6/dist-packages (from hyperopt) (1.15.0)\n",
            "Requirement already satisfied, skipping upgrade: decorator>=4.3.0 in /usr/local/lib/python3.6/dist-packages (from networkx>=2.2->hyperopt) (4.4.2)\n",
            "Installing collected packages: hyperopt\n",
            "  Found existing installation: hyperopt 0.1.2\n",
            "    Uninstalling hyperopt-0.1.2:\n",
            "      Successfully uninstalled hyperopt-0.1.2\n",
            "Successfully installed hyperopt-0.2.4\n",
            "Collecting pyts\n",
            "\u001b[?25l  Downloading https://files.pythonhosted.org/packages/b6/2b/1a62c0d32b40ee85daa8f6a6160828537b3d846c9fe93253b38846c6ec1f/pyts-0.11.0-py3-none-any.whl (2.5MB)\n",
            "\u001b[K     |████████████████████████████████| 2.5MB 2.8MB/s \n",
            "\u001b[?25hRequirement already satisfied: joblib>=0.12 in /usr/local/lib/python3.6/dist-packages (from pyts) (0.16.0)\n",
            "Requirement already satisfied: scikit-learn>=0.22.1 in /usr/local/lib/python3.6/dist-packages (from pyts) (0.22.2.post1)\n",
            "Requirement already satisfied: numba>=0.48.0 in /usr/local/lib/python3.6/dist-packages (from pyts) (0.48.0)\n",
            "Requirement already satisfied: numpy>=1.17.5 in /usr/local/lib/python3.6/dist-packages (from pyts) (1.18.5)\n",
            "Requirement already satisfied: scipy>=1.3.0 in /usr/local/lib/python3.6/dist-packages (from pyts) (1.4.1)\n",
            "Requirement already satisfied: llvmlite<0.32.0,>=0.31.0dev0 in /usr/local/lib/python3.6/dist-packages (from numba>=0.48.0->pyts) (0.31.0)\n",
            "Requirement already satisfied: setuptools in /usr/local/lib/python3.6/dist-packages (from numba>=0.48.0->pyts) (49.6.0)\n",
            "Installing collected packages: pyts\n",
            "Successfully installed pyts-0.11.0\n"
          ],
          "name": "stdout"
        }
      ]
    },
    {
      "cell_type": "code",
      "metadata": {
        "id": "lQeZINWpjZlo"
      },
      "source": [
        "import pandas as pd\n",
        "import numpy as np\n",
        "from hyperopt import hp\n",
        "from spatiotemporal.util import parameter_tuning, sampling\n",
        "from spatiotemporal.util import experiments as ex\n",
        "from sklearn.metrics import mean_squared_error\n",
        "import matplotlib.pyplot as plt\n",
        "import pickle\n",
        "import math\n",
        "from pyFTS.benchmarks import Measures\n",
        "from pyts.decomposition import SingularSpectrumAnalysis\n",
        "from google.colab import files\n",
        "import warnings \n",
        "warnings.filterwarnings(\"ignore\", category=DeprecationWarning)"
      ],
      "execution_count": null,
      "outputs": []
    },
    {
      "cell_type": "markdown",
      "metadata": {
        "id": "36mDCMfwmy6G"
      },
      "source": [
        "### Aux Functions"
      ]
    },
    {
      "cell_type": "code",
      "metadata": {
        "id": "QfLbtupAm1Un"
      },
      "source": [
        "def normalize(df):\n",
        "    mindf = df.min()\n",
        "    maxdf = df.max()\n",
        "    return (df-mindf)/(maxdf-mindf)\n",
        "\n",
        "def denormalize(norm, _min, _max):\n",
        "    return [(n * (_max-_min)) + _min for n in norm]\n",
        "\n",
        "\n",
        "def ssa_decomposition(df, period=144, embedding_dim=15, component_threshold=3):\n",
        "  main_inds = [i for i in range(component_threshold)]\n",
        "  res_inds = [i for i in range(component_threshold, embedding_dim)]\n",
        "\n",
        "  groups = [main_inds, res_inds]\n",
        "\n",
        "  stations = [c for c in df.columns if c not in ['zen', 'Ics']]\n",
        "  \n",
        "  clean_df = pd.DataFrame(columns = stations, index = df.index)\n",
        "  residual_df = pd.DataFrame(columns = stations, index = df.index)\n",
        "\n",
        "  for s in stations:\n",
        "    X = np.array(df[s].values)\n",
        "    X = X.reshape(1,len(X))\n",
        "    # Singular Spectrum Analysis\n",
        "    ssa = SingularSpectrumAnalysis(window_size=embedding_dim, groups=groups)\n",
        "    X_ssa = ssa.fit_transform(X)\n",
        "\n",
        "    clean_df[s] = X_ssa[0]\n",
        "    residual_df[s] = X_ssa[1]\n",
        "  return clean_df, residual_df"
      ],
      "execution_count": null,
      "outputs": []
    },
    {
      "cell_type": "markdown",
      "metadata": {
        "id": "UMZis_gqou58"
      },
      "source": [
        "### Load Dataset"
      ]
    },
    {
      "cell_type": "code",
      "metadata": {
        "id": "bV7tv5KBowzz"
      },
      "source": [
        "#Set target and input variables \n",
        "target_station = 'DH1'\n",
        "\n",
        "#All neighbor stations with residual correlation greater than .90\n",
        "neighbor_stations_80 = ['DH4','DH5','DH9','DH2','DH6','DH7']\n",
        "neighbor_stations_70 = ['DH3','DH4','DH5','DH10','DH9','DH2','AP1','DH6','DH7','AP2']"
      ],
      "execution_count": null,
      "outputs": []
    },
    {
      "cell_type": "code",
      "metadata": {
        "id": "a0vmyvV0pL78"
      },
      "source": [
        "# read raw dataset\n",
        "import pandas as pd\n",
        "df = pd.read_csv('https://query.data.world/s/76ohtd4zd6a6fhiwwe742y23fiplgk')\n",
        "\n",
        "# drop unused columns\n",
        "df.drop(df.columns[df.columns.str.contains('unnamed',case = False)],axis = 1, inplace = True)\n",
        "df.drop(['Time','Ioh','DH1T','AP6T','AP3','AP2.dif','AP2.dir'],axis = 1, inplace = True)\n",
        "\n",
        "# create corrected index\n",
        "ind = pd.date_range(start='2010-03-18 00:00:00', end='2011-11-01 00:00:00', closed='left', freq='10s')\n",
        "ts = pd.DataFrame(index=ind)\n",
        "df['Time'] = ts.between_time(\"05:00:00\",\"20:00:00\").index\n",
        "df.set_index('Time', inplace = True)\n",
        "\n",
        "\n",
        "# filter range of interest\n",
        "df = df[\"2010-06-01\":\"2011-07-31\"]\n",
        "\n",
        "# Resampling\n",
        "df = df.resample('10min').mean()\n",
        "df = df.between_time(\"05:00:00\",\"20:00:00\")\n",
        "df_ssa_clean, df_ssa_residual = ssa_decomposition(df)"
      ],
      "execution_count": null,
      "outputs": []
    },
    {
      "cell_type": "code",
      "metadata": {
        "id": "17qF6Ahduoxx"
      },
      "source": [
        "#Normalize Data\n",
        "\n",
        "# Save Min-Max for Denorm\n",
        "min_raw = df[target_station].min()\n",
        "min_clean = df_ssa_clean[target_station].min()\n",
        "min_residual = df_ssa_residual[target_station].min()\n",
        "\n",
        "max_raw = df[target_station].max()\n",
        "max_clean = df_ssa_clean[target_station].max()\n",
        "max_residual = df_ssa_residual[target_station].max()\n",
        "\n",
        "# Perform Normalization\n",
        "norm_df_ssa_clean = normalize(df_ssa_clean)\n",
        "norm_df_ssa_residual = normalize(df_ssa_residual)"
      ],
      "execution_count": null,
      "outputs": []
    },
    {
      "cell_type": "code",
      "metadata": {
        "id": "05mEnMBdBs8M"
      },
      "source": [
        "# Tuning split\n",
        "\n",
        "tuning_ssa_clean = norm_df_ssa_clean[\"2010-06-01\":\"2010-06-30\"]\n",
        "tuning_ssa_residual = norm_df_ssa_residual[\"2010-06-01\":\"2010-06-30\"]\n",
        "\n",
        "norm_df_ssa_clean = norm_df_ssa_clean[\"2010-07-01\":\"2011-07-31\"]\n",
        "norm_df_ssa_residual = norm_df_ssa_residual[\"2010-07-01\":\"2011-07-31\"]\n",
        "df = df[\"2010-07-01\":\"2011-07-31\"]"
      ],
      "execution_count": null,
      "outputs": []
    },
    {
      "cell_type": "markdown",
      "metadata": {
        "id": "S1viMHKkvwsR"
      },
      "source": [
        "### Rolling Window Validation"
      ]
    },
    {
      "cell_type": "code",
      "metadata": {
        "id": "mUcQ7IEzv0SB"
      },
      "source": [
        "import datetime\n",
        "\n",
        "def getRollingWindow(index):\n",
        "    pivot = index\n",
        "    train_start = pivot.strftime('%Y-%m-%d')\n",
        "    pivot = pivot + datetime.timedelta(days=20)\n",
        "    train_end = pivot.strftime('%Y-%m-%d')\n",
        "\n",
        "    pivot = pivot + datetime.timedelta(days=1)\n",
        "    test_start = pivot.strftime('%Y-%m-%d')\n",
        "    pivot = pivot + datetime.timedelta(days=6)\n",
        "    test_end = pivot.strftime('%Y-%m-%d')\n",
        "    \n",
        "    return train_start, train_end, test_start, test_end\n",
        "\n",
        "def calculate_rolling_error(cv_name, df, forecasts, order_list):\n",
        "    cv_results = pd.DataFrame(columns=['Split', 'RMSE', 'SMAPE', 'U'])\n",
        "\n",
        "    limit = df.index[-1].strftime('%Y-%m-%d')\n",
        "\n",
        "    test_end = \"\"\n",
        "    index = df.index[0]\n",
        "\n",
        "    for i in np.arange(len(forecasts)):\n",
        "\n",
        "        train_start, train_end, test_start, test_end = getRollingWindow(index)\n",
        "        test = df[test_start : test_end]\n",
        "    \n",
        "        yhat = forecasts[i]\n",
        "        order = order_list[i]\n",
        "        \n",
        "        rmse = Measures.rmse(test[target_station].iloc[order:], yhat[:-1])\n",
        "        \n",
        "        smape = Measures.smape(test[target_station].iloc[order:], yhat[:-1])\n",
        "        \n",
        "        res = {'Split' : index.strftime('%Y-%m-%d') ,'RMSE' : rmse, 'SMAPE' : smape}\n",
        "        cv_results = cv_results.append(res, ignore_index=True)\n",
        "        cv_results.to_csv(cv_name+\".csv\")        \n",
        "\n",
        "        index = index + datetime.timedelta(days=7)\n",
        "\n",
        "def reconstruct_ssa_series(clean, residual):\n",
        "    return [r + c for r, c in zip(residual,clean)]\n",
        "\n",
        "def get_final_forecast(forecasts_clean, forecasts_residual, order_list_clean, order_list_residual):\n",
        "    \n",
        "    forecasts_final = []\n",
        "    order_list = []\n",
        "    \n",
        "    for i in np.arange(len(forecasts_clean)):\n",
        "        f_clean = denormalize(forecasts_clean[i], min_clean, max_clean)\n",
        "        f_residual = denormalize(forecasts_residual[i], min_residual, max_residual)\n",
        "\n",
        "        o_clean = order_list_clean[i]\n",
        "        o_residual = order_list_residual[i]\n",
        "\n",
        "        max_order = max(o_clean, o_residual)\n",
        "\n",
        "        f_final = reconstruct_ssa_series(f_clean[max_order-o_clean:], f_residual[max_order-o_residual:])\n",
        "        \n",
        "        forecasts_final.append(f_final)\n",
        "        order_list.append(max_order)\n",
        "        \n",
        "    return forecasts_final, order_list"
      ],
      "execution_count": null,
      "outputs": []
    },
    {
      "cell_type": "markdown",
      "metadata": {
        "id": "N8DjV_xq1b9Z"
      },
      "source": [
        "### Persistence"
      ]
    },
    {
      "cell_type": "code",
      "metadata": {
        "id": "80awOiDO1dmX"
      },
      "source": [
        "def persistence_forecast(train, test, step):\n",
        "    predictions = []\n",
        "    \n",
        "    for t in np.arange(0,len(test), step):\n",
        "        yhat = [test.iloc[t]]  * step\n",
        "        predictions.extend(yhat)\n",
        "        \n",
        "    return predictions\n",
        "\n",
        "def rolling_cv_persistence(df, step):\n",
        "\n",
        "    forecasts = []\n",
        "    lags_list = []\n",
        "\n",
        "    limit = df.index[-1].strftime('%Y-%m-%d')\n",
        "\n",
        "    test_end = \"\"\n",
        "    index = df.index[0]\n",
        "\n",
        "    while test_end < limit :\n",
        "        print(\"Index: \", index.strftime('%Y-%m-%d'))  \n",
        "\n",
        "        train_start, train_end, test_start, test_end = getRollingWindow(index)\n",
        "        index = index + datetime.timedelta(days=7)\n",
        "        \n",
        "        train = df[train_start : train_end]\n",
        "        test = df[test_start : test_end]\n",
        "    \n",
        "        yhat = persistence_forecast(train[target_station], test[target_station], step)        \n",
        "        \n",
        "        lags_list.append(1)\n",
        "        forecasts.append(yhat)\n",
        "\n",
        "    return forecasts, lags_list"
      ],
      "execution_count": null,
      "outputs": []
    },
    {
      "cell_type": "code",
      "metadata": {
        "id": "hoVUeMSk1j6O"
      },
      "source": [
        "forecasts_clean, order_list_clean = rolling_cv_persistence(norm_df_ssa_clean, 1)\n",
        "forecasts_residual, order_list_residual = rolling_cv_persistence(norm_df_ssa_residual, 1)"
      ],
      "execution_count": null,
      "outputs": []
    },
    {
      "cell_type": "code",
      "metadata": {
        "id": "6znxE4E_1mk0"
      },
      "source": [
        "forecasts_final, order_list = get_final_forecast(forecasts_clean, forecasts_residual, order_list_clean, order_list_residual)"
      ],
      "execution_count": null,
      "outputs": []
    },
    {
      "cell_type": "code",
      "metadata": {
        "id": "mlwoP_Ig1oVx"
      },
      "source": [
        "calculate_rolling_error(\"rolling_cv_oahu_persistence\", df, forecasts_final, order_list)"
      ],
      "execution_count": null,
      "outputs": []
    },
    {
      "cell_type": "code",
      "metadata": {
        "id": "Vcwc3Qt14HBn",
        "colab": {
          "base_uri": "https://localhost:8080/",
          "height": 17
        },
        "outputId": "8df29ebb-7a7d-4d5f-e524-244a462cba47"
      },
      "source": [
        "files.download('rolling_cv_oahu_persistence.csv')"
      ],
      "execution_count": null,
      "outputs": [
        {
          "output_type": "display_data",
          "data": {
            "application/javascript": [
              "\n",
              "    async function download(id, filename, size) {\n",
              "      if (!google.colab.kernel.accessAllowed) {\n",
              "        return;\n",
              "      }\n",
              "      const div = document.createElement('div');\n",
              "      const label = document.createElement('label');\n",
              "      label.textContent = `Downloading \"${filename}\": `;\n",
              "      div.appendChild(label);\n",
              "      const progress = document.createElement('progress');\n",
              "      progress.max = size;\n",
              "      div.appendChild(progress);\n",
              "      document.body.appendChild(div);\n",
              "\n",
              "      const buffers = [];\n",
              "      let downloaded = 0;\n",
              "\n",
              "      const channel = await google.colab.kernel.comms.open(id);\n",
              "      // Send a message to notify the kernel that we're ready.\n",
              "      channel.send({})\n",
              "\n",
              "      for await (const message of channel.messages) {\n",
              "        // Send a message to notify the kernel that we're ready.\n",
              "        channel.send({})\n",
              "        if (message.buffers) {\n",
              "          for (const buffer of message.buffers) {\n",
              "            buffers.push(buffer);\n",
              "            downloaded += buffer.byteLength;\n",
              "            progress.value = downloaded;\n",
              "          }\n",
              "        }\n",
              "      }\n",
              "      const blob = new Blob(buffers, {type: 'application/binary'});\n",
              "      const a = document.createElement('a');\n",
              "      a.href = window.URL.createObjectURL(blob);\n",
              "      a.download = filename;\n",
              "      div.appendChild(a);\n",
              "      a.click();\n",
              "      div.remove();\n",
              "    }\n",
              "  "
            ],
            "text/plain": [
              "<IPython.core.display.Javascript object>"
            ]
          },
          "metadata": {
            "tags": []
          }
        },
        {
          "output_type": "display_data",
          "data": {
            "application/javascript": [
              "download(\"download_4ec19a49-5671-4b48-af42-562868c66eda\", \"rolling_cv_oahu_persistence.csv\", 2816)"
            ],
            "text/plain": [
              "<IPython.core.display.Javascript object>"
            ]
          },
          "metadata": {
            "tags": []
          }
        }
      ]
    },
    {
      "cell_type": "markdown",
      "metadata": {
        "id": "9J5Xl-ATkZ9i"
      },
      "source": [
        "### Univariate MLP"
      ]
    },
    {
      "cell_type": "code",
      "metadata": {
        "id": "0bS4oGewknHx"
      },
      "source": [
        "from keras.models import Sequential\n",
        "from keras.layers import Dense\n",
        "from keras.layers import LSTM\n",
        "from keras.layers import Dropout\n",
        "from keras.constraints import maxnorm\n",
        "from keras.models import Sequential\n",
        "from keras.layers.core import Dense, Dropout, Activation\n",
        "from keras.layers.normalization import BatchNormalization"
      ],
      "execution_count": null,
      "outputs": []
    },
    {
      "cell_type": "code",
      "metadata": {
        "id": "UhHYgI3hneeu"
      },
      "source": [
        "# convert series to supervised learning\n",
        "def series_to_supervised(data, n_in=1, n_out=1, dropnan=True):\n",
        "    n_vars = 1 if type(data) is list else data.shape[1]\n",
        "    df = pd.DataFrame(data)\n",
        "    cols, names = list(), list()\n",
        "    # input sequence (t-n, ... t-1)\n",
        "    for i in range(n_in, 0, -1):\n",
        "        cols.append(df.shift(i))\n",
        "        names += [('var%d(t-%d)' % (j+1, i)) for j in range(n_vars)]\n",
        "    # forecast sequence (t, t+1, ... t+n)\n",
        "    for i in range(0, n_out):\n",
        "        cols.append(df.shift(-i))\n",
        "        if i == 0:\n",
        "            names += [('var%d(t)' % (j+1)) for j in range(n_vars)]\n",
        "        else:\n",
        "            names += [('var%d(t+%d)' % (j+1, i)) for j in range(n_vars)]\n",
        "    # put it all together\n",
        "    agg = pd.concat(cols, axis=1)\n",
        "    agg.columns = names\n",
        "    # drop rows with NaN values\n",
        "    if dropnan:\n",
        "        agg.dropna(inplace=True)\n",
        "    return agg"
      ],
      "execution_count": null,
      "outputs": []
    },
    {
      "cell_type": "markdown",
      "metadata": {
        "id": "MRjkv406AO3f"
      },
      "source": [
        "#### MLP Tuning"
      ]
    },
    {
      "cell_type": "code",
      "metadata": {
        "id": "J0QTkHF_AWTZ"
      },
      "source": [
        "mlp_space = {'choice':\n",
        "\n",
        "   hp.choice('num_layers',\n",
        "             [\n",
        "                 {'layers': 'two',\n",
        "                 },\n",
        "\n",
        "                 {'layers': 'three',\n",
        "\n",
        "                   'units3': hp.choice('units3', [8, 16, 64, 128, 256, 512]),\n",
        "                   'dropout3': hp.choice('dropout3', [0, 0.25, 0.5, 0.75])\n",
        "                  }\n",
        "\n",
        "             ]),\n",
        "   'units1': hp.choice('units1', [8, 16, 64, 128, 256, 512]),\n",
        "   'units2': hp.choice('units2', [8, 16, 64, 128, 256, 512]),\n",
        "\n",
        "   'dropout1': hp.choice('dropout1', [0, 0.25, 0.5, 0.75]),\n",
        "   'dropout2': hp.choice('dropout2', [0, 0.25, 0.5, 0.75]),\n",
        "\n",
        "   'batch_size': hp.choice('batch_size', [28, 64, 128, 256, 512]),\n",
        "   'order': hp.choice('order', [1, 2, 4, 8]),\n",
        "   'input': hp.choice('input', [target_station]),\n",
        "   'output': hp.choice('output', [target_station]),\n",
        "   'epochs': hp.choice('epochs', [100, 200, 300])}\n"
      ],
      "execution_count": null,
      "outputs": []
    },
    {
      "cell_type": "code",
      "metadata": {
        "id": "p68ya--QAZYF"
      },
      "source": [
        "def mlp_tuning(train_df, test_df, params):\n",
        "    _input = [target_station]\n",
        "    _nlags = params['order']\n",
        "    _epochs = params['epochs']\n",
        "    _batch_size = params['batch_size']\n",
        "    nfeat = len(_input)\n",
        "    nsteps = params.get('step',1)\n",
        "    nobs = _nlags * nfeat\n",
        "\n",
        "    output_index = -nfeat*nsteps\n",
        "\n",
        "    train_reshaped_df = series_to_supervised(train_df[_input].values, n_in=_nlags, n_out=nsteps)\n",
        "    train_X, train_Y = train_reshaped_df.iloc[:, :nobs].values, train_reshaped_df.iloc[:, output_index:].values\n",
        "\n",
        "    test_reshaped_df = series_to_supervised(test_df[_input].values, n_in=_nlags, n_out=nsteps)\n",
        "    test_X, test_Y = test_reshaped_df.iloc[:, :nobs].values, test_reshaped_df.iloc[:, output_index:].values\n",
        "\n",
        "    # design network\n",
        "    model = Sequential()\n",
        "    model.add(Dense(params['units1'], activation='relu', input_dim=train_X.shape[1]))\n",
        "    model.add(Dense(params['units2'], activation='relu'))\n",
        "    if params['choice']['layers'] == 'three':\n",
        "      model.add(Dense(params['choice']['units3'], activation='relu'))\n",
        "    model.add(Dense(1))\n",
        "    model.compile(loss='mean_squared_error', optimizer='adam')\n",
        "\n",
        "    # includes the call back object\n",
        "    model.fit(train_X, train_Y, epochs=_epochs, batch_size=_batch_size, verbose=False, shuffle=False)\n",
        "\n",
        "    # predict the test set\n",
        "    forecast = model.predict(test_X, verbose=False)\n",
        "\n",
        "    forecast = [f[0] for f in forecast]\n",
        "\n",
        "    return forecast\n"
      ],
      "execution_count": null,
      "outputs": []
    },
    {
      "cell_type": "code",
      "metadata": {
        "id": "RHpZzSSdAevd",
        "colab": {
          "base_uri": "https://localhost:8080/",
          "height": 1000
        },
        "outputId": "87ff097d-ae7e-4a3f-86ca-55236207e167"
      },
      "source": [
        "methods = []\n",
        "methods.append((\"EXP_OAHU_MLP\", mlp_tuning, mlp_space))\n",
        "train_split = 0.6\n",
        "parameter_tuning.run_search(methods, tuning_ssa_residual, train_split, Measures.rmse, max_evals=30, resample=None)"
      ],
      "execution_count": null,
      "outputs": [
        {
          "output_type": "stream",
          "text": [
            "Running experiment: EXP_OAHU_MLP\n",
            "{'batch_size': 128, 'choice': {'layers': 'two'}, 'dropout1': 0.75, 'dropout2': 0.75, 'epochs': 200, 'input': 'DH1', 'order': 1, 'output': 'DH1', 'units1': 256, 'units2': 16}\n",
            "Error : 0.07585783830329433\n",
            "{'batch_size': 128, 'choice': {'layers': 'two'}, 'dropout1': 0.25, 'dropout2': 0, 'epochs': 200, 'input': 'DH1', 'order': 1, 'output': 'DH1', 'units1': 64, 'units2': 256}\n",
            "Error : 0.07575213610427872\n",
            "{'batch_size': 256, 'choice': {'layers': 'two'}, 'dropout1': 0.25, 'dropout2': 0, 'epochs': 200, 'input': 'DH1', 'order': 1, 'output': 'DH1', 'units1': 512, 'units2': 512}\n",
            "Error : 0.07640881983285962\n",
            "{'batch_size': 28, 'choice': {'dropout3': 0.5, 'layers': 'three', 'units3': 8}, 'dropout1': 0.5, 'dropout2': 0.25, 'epochs': 100, 'input': 'DH1', 'order': 1, 'output': 'DH1', 'units1': 256, 'units2': 16}\n",
            "Error : 0.0759873563983733\n",
            "{'batch_size': 512, 'choice': {'dropout3': 0.5, 'layers': 'three', 'units3': 8}, 'dropout1': 0.5, 'dropout2': 0.25, 'epochs': 100, 'input': 'DH1', 'order': 1, 'output': 'DH1', 'units1': 16, 'units2': 64}\n",
            "Error : 0.08343649687171893\n",
            "{'batch_size': 512, 'choice': {'layers': 'two'}, 'dropout1': 0, 'dropout2': 0.5, 'epochs': 200, 'input': 'DH1', 'order': 2, 'output': 'DH1', 'units1': 64, 'units2': 512}\n",
            "Error : 0.07454982599118727\n",
            "{'batch_size': 256, 'choice': {'layers': 'two'}, 'dropout1': 0.75, 'dropout2': 0.75, 'epochs': 200, 'input': 'DH1', 'order': 4, 'output': 'DH1', 'units1': 512, 'units2': 512}\n",
            "Error : 0.07392917741414978\n",
            "{'batch_size': 28, 'choice': {'dropout3': 0.5, 'layers': 'three', 'units3': 512}, 'dropout1': 0.25, 'dropout2': 0.75, 'epochs': 200, 'input': 'DH1', 'order': 4, 'output': 'DH1', 'units1': 8, 'units2': 16}\n",
            "Error : 0.07369447358146536\n",
            "{'batch_size': 64, 'choice': {'layers': 'two'}, 'dropout1': 0.75, 'dropout2': 0.5, 'epochs': 200, 'input': 'DH1', 'order': 2, 'output': 'DH1', 'units1': 16, 'units2': 8}\n",
            "Error : 0.07361855063618447\n",
            "{'batch_size': 64, 'choice': {'dropout3': 0.5, 'layers': 'three', 'units3': 8}, 'dropout1': 0.5, 'dropout2': 0.25, 'epochs': 100, 'input': 'DH1', 'order': 1, 'output': 'DH1', 'units1': 8, 'units2': 512}\n",
            "Error : 0.07560423178596237\n",
            "{'batch_size': 28, 'choice': {'layers': 'two'}, 'dropout1': 0.75, 'dropout2': 0.5, 'epochs': 300, 'input': 'DH1', 'order': 1, 'output': 'DH1', 'units1': 128, 'units2': 64}\n",
            "Error : 0.07579891073738451\n",
            "{'batch_size': 28, 'choice': {'dropout3': 0.25, 'layers': 'three', 'units3': 256}, 'dropout1': 0.5, 'dropout2': 0.25, 'epochs': 200, 'input': 'DH1', 'order': 4, 'output': 'DH1', 'units1': 128, 'units2': 256}\n",
            "Error : 0.07974122785170427\n",
            "{'batch_size': 256, 'choice': {'layers': 'two'}, 'dropout1': 0.25, 'dropout2': 0, 'epochs': 200, 'input': 'DH1', 'order': 8, 'output': 'DH1', 'units1': 8, 'units2': 16}\n",
            "Error : 0.07578099682221089\n",
            "{'batch_size': 512, 'choice': {'dropout3': 0.25, 'layers': 'three', 'units3': 128}, 'dropout1': 0.5, 'dropout2': 0.25, 'epochs': 100, 'input': 'DH1', 'order': 8, 'output': 'DH1', 'units1': 256, 'units2': 128}\n",
            "Error : 0.07434696253097663\n",
            "{'batch_size': 256, 'choice': {'layers': 'two'}, 'dropout1': 0.75, 'dropout2': 0.25, 'epochs': 200, 'input': 'DH1', 'order': 4, 'output': 'DH1', 'units1': 512, 'units2': 128}\n",
            "Error : 0.07178987770732631\n",
            "{'batch_size': 512, 'choice': {'layers': 'two'}, 'dropout1': 0, 'dropout2': 0.25, 'epochs': 300, 'input': 'DH1', 'order': 1, 'output': 'DH1', 'units1': 8, 'units2': 128}\n",
            "Error : 0.0764296955875184\n",
            "{'batch_size': 128, 'choice': {'dropout3': 0.25, 'layers': 'three', 'units3': 64}, 'dropout1': 0, 'dropout2': 0.25, 'epochs': 200, 'input': 'DH1', 'order': 1, 'output': 'DH1', 'units1': 512, 'units2': 16}\n",
            "Error : 0.0759331341151786\n",
            "{'batch_size': 128, 'choice': {'layers': 'two'}, 'dropout1': 0.25, 'dropout2': 0.75, 'epochs': 200, 'input': 'DH1', 'order': 2, 'output': 'DH1', 'units1': 16, 'units2': 128}\n",
            "Error : 0.07421472994428699\n",
            "{'batch_size': 28, 'choice': {'dropout3': 0.5, 'layers': 'three', 'units3': 8}, 'dropout1': 0.25, 'dropout2': 0.25, 'epochs': 200, 'input': 'DH1', 'order': 4, 'output': 'DH1', 'units1': 16, 'units2': 8}\n",
            "Error : 0.07134308668897077\n",
            "{'batch_size': 128, 'choice': {'dropout3': 0, 'layers': 'three', 'units3': 16}, 'dropout1': 0, 'dropout2': 0.25, 'epochs': 300, 'input': 'DH1', 'order': 2, 'output': 'DH1', 'units1': 512, 'units2': 256}\n",
            "Error : 0.07558328462529122\n",
            "{'batch_size': 256, 'choice': {'dropout3': 0.75, 'layers': 'three', 'units3': 16}, 'dropout1': 0.75, 'dropout2': 0.25, 'epochs': 300, 'input': 'DH1', 'order': 4, 'output': 'DH1', 'units1': 16, 'units2': 8}\n",
            "Error : 0.07016836211887925\n",
            "{'batch_size': 256, 'choice': {'dropout3': 0.75, 'layers': 'three', 'units3': 16}, 'dropout1': 0.25, 'dropout2': 0.25, 'epochs': 300, 'input': 'DH1', 'order': 4, 'output': 'DH1', 'units1': 16, 'units2': 8}\n",
            "Error : 0.0702789961069636\n",
            "{'batch_size': 256, 'choice': {'dropout3': 0.75, 'layers': 'three', 'units3': 16}, 'dropout1': 0.75, 'dropout2': 0.25, 'epochs': 300, 'input': 'DH1', 'order': 4, 'output': 'DH1', 'units1': 16, 'units2': 8}\n",
            "Error : 0.07139867406774633\n",
            "{'batch_size': 256, 'choice': {'dropout3': 0.75, 'layers': 'three', 'units3': 16}, 'dropout1': 0.75, 'dropout2': 0.5, 'epochs': 300, 'input': 'DH1', 'order': 4, 'output': 'DH1', 'units1': 16, 'units2': 8}\n",
            "Error : 0.07041637849420919\n",
            "{'batch_size': 256, 'choice': {'dropout3': 0.75, 'layers': 'three', 'units3': 16}, 'dropout1': 0.25, 'dropout2': 0.25, 'epochs': 300, 'input': 'DH1', 'order': 4, 'output': 'DH1', 'units1': 16, 'units2': 8}\n",
            "Error : 0.07016540098410674\n",
            "{'batch_size': 256, 'choice': {'dropout3': 0.75, 'layers': 'three', 'units3': 16}, 'dropout1': 0.75, 'dropout2': 0, 'epochs': 300, 'input': 'DH1', 'order': 8, 'output': 'DH1', 'units1': 16, 'units2': 8}\n",
            "Error : 0.06303545995020139\n",
            "{'batch_size': 256, 'choice': {'dropout3': 0.75, 'layers': 'three', 'units3': 512}, 'dropout1': 0.25, 'dropout2': 0, 'epochs': 300, 'input': 'DH1', 'order': 8, 'output': 'DH1', 'units1': 16, 'units2': 8}\n",
            "Error : 0.0679359315728357\n",
            "{'batch_size': 64, 'choice': {'dropout3': 0, 'layers': 'three', 'units3': 512}, 'dropout1': 0.75, 'dropout2': 0, 'epochs': 300, 'input': 'DH1', 'order': 8, 'output': 'DH1', 'units1': 128, 'units2': 8}\n",
            "Error : 0.07706419575424736\n",
            "{'batch_size': 256, 'choice': {'dropout3': 0.75, 'layers': 'three', 'units3': 512}, 'dropout1': 0.25, 'dropout2': 0, 'epochs': 300, 'input': 'DH1', 'order': 8, 'output': 'DH1', 'units1': 64, 'units2': 8}\n",
            "Error : 0.06697507326749197\n",
            "{'batch_size': 256, 'choice': {'dropout3': 0.75, 'layers': 'three', 'units3': 128}, 'dropout1': 0.75, 'dropout2': 0, 'epochs': 300, 'input': 'DH1', 'order': 8, 'output': 'DH1', 'units1': 64, 'units2': 64}\n",
            "Error : 0.08761640742203122\n",
            "100%|██████████| 30/30 [02:50<00:00,  5.69s/trial, best loss: 0.06303545995020139]\n",
            "best parameters: \n",
            "{'batch_size': 256, 'choice': {'dropout3': 0.75, 'layers': 'three', 'units3': 16}, 'dropout1': 0.75, 'dropout2': 0, 'epochs': 300, 'input': 'DH1', 'order': 8, 'output': 'DH1', 'units1': 16, 'units2': 8}\n"
          ],
          "name": "stdout"
        }
      ]
    },
    {
      "cell_type": "markdown",
      "metadata": {
        "id": "hQ0oNy8EZgmY"
      },
      "source": [
        "Best params: \\\n",
        "\\\n",
        "mlp SSA clean: \\\n",
        "{'batch_size': 64, 'choice': {'layers': 'two'}, 'dropout1': 0.25, 'dropout2': 0, 'epochs': 200, 'input': 'DH1', 'order': 4, 'output': 'DH1', 'units1': 8, 'units2': 128}\\\n",
        "\\\n",
        "mlp SSA residual: \\\n",
        "{'batch_size': 256, 'choice': {'dropout3': 0.75, 'layers': 'three', 'units3': 16}, 'dropout1': 0.75, 'dropout2': 0, 'epochs': 300, 'input': 'DH1', 'order': 8, 'output': 'DH1', 'units1': 16, 'units2': 8} \\"
      ]
    },
    {
      "cell_type": "markdown",
      "metadata": {
        "id": "3TJUMYZOAmsG"
      },
      "source": [
        "#### MLP Forecasting"
      ]
    },
    {
      "cell_type": "code",
      "metadata": {
        "id": "n1vQDjtZoDPr"
      },
      "source": [
        "def mlp_forecast(train_df, test_df, params):\n",
        "\n",
        "\n",
        "    _input = [target_station]\n",
        "    _nlags = params['order']\n",
        "    _epochs = params['epochs']\n",
        "    _batch_size = params['batch_size']\n",
        "    nfeat = len(_input)\n",
        "    nsteps = params.get('step',1)\n",
        "    nobs = _nlags * nfeat\n",
        "\n",
        "    output_index = -nfeat*nsteps\n",
        "\n",
        "\n",
        "    train_reshaped_df = series_to_supervised(train_df[_input].values, n_in=_nlags, n_out=nsteps)\n",
        "    train_X, train_Y = train_reshaped_df.iloc[:, :nobs].values, train_reshaped_df.iloc[:, output_index:].values\n",
        "\n",
        "    test_reshaped_df = series_to_supervised(test_df[_input].values, n_in=_nlags, n_out=nsteps)\n",
        "    test_X, test_Y = test_reshaped_df.iloc[:, :nobs].values, test_reshaped_df.iloc[:, output_index:].values\n",
        "    \n",
        "    # design network\n",
        "    model = Sequential()\n",
        "    model.add(Dense(params['units1'], activation='relu', input_dim=train_X.shape[1]))\n",
        "    model.add(Dense(params['units2'], activation='relu'))\n",
        "    if params['choice']['layers'] == 'three':\n",
        "      model.add(Dense(params['choice']['units3'], activation='relu'))\n",
        "    model.add(Dense(1))\n",
        "    model.compile(loss='mean_squared_error', optimizer='adam')\n",
        "\n",
        "\n",
        "    # includes the call back object\n",
        "    model.fit(train_X, train_Y, epochs=_epochs, batch_size=_batch_size, verbose=False, shuffle=False)\n",
        "\n",
        "    # predict the test set\n",
        "    forecast = model.predict(test_X, verbose=False)\n",
        "\n",
        "    fcst = [f[0] for f in forecast]\n",
        "\n",
        "    return fcst\n",
        "\n",
        "def rolling_cv_mlp_uni(df, params):\n",
        "    \n",
        "    lags_list = []\n",
        "    forecasts = []\n",
        "\n",
        "    limit = df.index[-1].strftime('%Y-%m-%d')\n",
        "\n",
        "    test_end = \"\"\n",
        "    index = df.index[0]\n",
        "\n",
        "    while test_end < limit :\n",
        "        print(\"Index: \", index.strftime('%Y-%m-%d'))  \n",
        "\n",
        "        train_start, train_end, test_start, test_end = getRollingWindow(index)\n",
        "        index = index + datetime.timedelta(days=7)\n",
        "        \n",
        "        train = df[train_start : train_end]\n",
        "        test = df[test_start : test_end]\n",
        "\n",
        "\n",
        "        # Perform forecast\n",
        "        yhat = mlp_forecast(train[[target_station]], test[[target_station]], params)\n",
        "        \n",
        "        yhat.append(yhat[-1]) #para manter o formato do vetor de metricas\n",
        "        \n",
        "        lags_list.append(params['order'])\n",
        "        forecasts.append(yhat)\n",
        "\n",
        "    return forecasts, lags_list"
      ],
      "execution_count": null,
      "outputs": []
    },
    {
      "cell_type": "code",
      "metadata": {
        "id": "-C0bXLWcoJVy",
        "colab": {
          "base_uri": "https://localhost:8080/",
          "height": 935
        },
        "outputId": "a42fe339-7626-4873-934b-52cdf64039af"
      },
      "source": [
        "# Enter best params\n",
        "params_clean = {'batch_size': 64, 'choice': {'layers': 'two'}, 'dropout1': 0.25, 'dropout2': 0, 'epochs': 200, 'input': 'DH1', 'order': 4, 'output': 'DH1', 'units1': 8, 'units2': 128}\n",
        "\n",
        "params_residual = {'batch_size': 256, 'choice': {'dropout3': 0.75, 'layers': 'three', 'units3': 16}, 'dropout1': 0.75, 'dropout2': 0, 'epochs': 300, 'input': 'DH1', 'order': 8, 'output': 'DH1', 'units1': 16, 'units2': 8}\n",
        "\n",
        "forecasts_clean, order_list_clean = rolling_cv_mlp_uni(norm_df_ssa_clean, params_clean)\n",
        "forecasts_residual, order_list_residual = rolling_cv_mlp_uni(norm_df_ssa_residual, params_residual)\n",
        "\n",
        "forecasts_final, order_list = get_final_forecast(forecasts_clean, forecasts_residual, order_list_clean, order_list_residual)\n",
        "calculate_rolling_error(\"rolling_cv_oahu_mlp_uni\", df, forecasts_final, order_list)"
      ],
      "execution_count": null,
      "outputs": [
        {
          "output_type": "stream",
          "text": [
            "Index:  2010-07-01\n",
            "Index:  2010-07-08\n",
            "Index:  2010-07-15\n",
            "Index:  2010-07-22\n",
            "Index:  2010-07-29\n",
            "Index:  2010-08-05\n",
            "Index:  2010-08-12\n",
            "Index:  2010-08-19\n",
            "Index:  2010-08-26\n",
            "Index:  2010-09-02\n",
            "Index:  2010-09-09\n",
            "Index:  2010-09-16\n",
            "Index:  2010-09-23\n",
            "Index:  2010-09-30\n",
            "Index:  2010-10-07\n",
            "Index:  2010-10-14\n",
            "Index:  2010-10-21\n",
            "Index:  2010-10-28\n",
            "Index:  2010-11-04\n",
            "Index:  2010-11-11\n",
            "Index:  2010-11-18\n",
            "Index:  2010-11-25\n",
            "Index:  2010-12-02\n",
            "Index:  2010-12-09\n",
            "Index:  2010-12-16\n",
            "Index:  2010-12-23\n",
            "Index:  2010-12-30\n",
            "Index:  2011-01-06\n",
            "Index:  2011-01-13\n",
            "Index:  2011-01-20\n",
            "Index:  2011-01-27\n",
            "Index:  2011-02-03\n",
            "Index:  2011-02-10\n",
            "Index:  2011-02-17\n",
            "Index:  2011-02-24\n",
            "Index:  2011-03-03\n",
            "Index:  2011-03-10\n",
            "Index:  2011-03-17\n",
            "Index:  2011-03-24\n",
            "Index:  2011-03-31\n",
            "Index:  2011-04-07\n",
            "Index:  2011-04-14\n",
            "Index:  2011-04-21\n",
            "Index:  2011-04-28\n",
            "Index:  2011-05-05\n",
            "Index:  2011-05-12\n",
            "Index:  2011-05-19\n",
            "Index:  2011-05-26\n",
            "Index:  2011-06-02\n",
            "Index:  2011-06-09\n",
            "Index:  2011-06-16\n",
            "Index:  2011-06-23\n",
            "Index:  2011-06-30\n",
            "Index:  2011-07-07\n"
          ],
          "name": "stdout"
        }
      ]
    },
    {
      "cell_type": "code",
      "metadata": {
        "id": "ii35SvBPKMUn",
        "colab": {
          "base_uri": "https://localhost:8080/",
          "height": 17
        },
        "outputId": "f68537eb-7623-4e61-f8ad-68eff2c5b04b"
      },
      "source": [
        "files.download('rolling_cv_oahu_mlp_uni.csv')"
      ],
      "execution_count": null,
      "outputs": [
        {
          "output_type": "display_data",
          "data": {
            "application/javascript": [
              "\n",
              "    async function download(id, filename, size) {\n",
              "      if (!google.colab.kernel.accessAllowed) {\n",
              "        return;\n",
              "      }\n",
              "      const div = document.createElement('div');\n",
              "      const label = document.createElement('label');\n",
              "      label.textContent = `Downloading \"${filename}\": `;\n",
              "      div.appendChild(label);\n",
              "      const progress = document.createElement('progress');\n",
              "      progress.max = size;\n",
              "      div.appendChild(progress);\n",
              "      document.body.appendChild(div);\n",
              "\n",
              "      const buffers = [];\n",
              "      let downloaded = 0;\n",
              "\n",
              "      const channel = await google.colab.kernel.comms.open(id);\n",
              "      // Send a message to notify the kernel that we're ready.\n",
              "      channel.send({})\n",
              "\n",
              "      for await (const message of channel.messages) {\n",
              "        // Send a message to notify the kernel that we're ready.\n",
              "        channel.send({})\n",
              "        if (message.buffers) {\n",
              "          for (const buffer of message.buffers) {\n",
              "            buffers.push(buffer);\n",
              "            downloaded += buffer.byteLength;\n",
              "            progress.value = downloaded;\n",
              "          }\n",
              "        }\n",
              "      }\n",
              "      const blob = new Blob(buffers, {type: 'application/binary'});\n",
              "      const a = document.createElement('a');\n",
              "      a.href = window.URL.createObjectURL(blob);\n",
              "      a.download = filename;\n",
              "      div.appendChild(a);\n",
              "      a.click();\n",
              "      div.remove();\n",
              "    }\n",
              "  "
            ],
            "text/plain": [
              "<IPython.core.display.Javascript object>"
            ]
          },
          "metadata": {
            "tags": []
          }
        },
        {
          "output_type": "display_data",
          "data": {
            "application/javascript": [
              "download(\"download_6523b761-aeba-458b-977b-5d93b08061cb\", \"rolling_cv_oahu_mlp_uni.csv\", 2789)"
            ],
            "text/plain": [
              "<IPython.core.display.Javascript object>"
            ]
          },
          "metadata": {
            "tags": []
          }
        }
      ]
    },
    {
      "cell_type": "markdown",
      "metadata": {
        "id": "bwcccfkMJkM1"
      },
      "source": [
        "### Conventional (Song and Chissom) FTS"
      ]
    },
    {
      "cell_type": "code",
      "metadata": {
        "id": "hKw0bVXNJkNE"
      },
      "source": [
        "from pyFTS.partitioners import Grid, Entropy, Util as pUtil\n",
        "from pyFTS.models import song"
      ],
      "execution_count": null,
      "outputs": []
    },
    {
      "cell_type": "markdown",
      "metadata": {
        "id": "j5Kn3sBfJkNL"
      },
      "source": [
        "#### FTS Parameter Tuning"
      ]
    },
    {
      "cell_type": "code",
      "metadata": {
        "id": "vRfn38p-JkNM"
      },
      "source": [
        "fts_space = {'partitioner': hp.choice('partitioner', [Grid.GridPartitioner, Entropy.EntropyPartitioner]),\n",
        "        'npartitions': hp.choice('npartitions', [10, 50,100]),\n",
        "        'order': hp.choice('order', [1]),\n",
        "        'input': hp.choice('input', [target_station]),\n",
        "        'output': hp.choice('output', [target_station])}\n",
        "\n",
        "def fts_forecast(train_df, test_df, params):\n",
        "    _partitioner = params['partitioner']\n",
        "    _npartitions = params['npartitions']\n",
        "    _order = 1\n",
        "    _input = params['input']\n",
        "    _step = params.get('step',1)\n",
        "\n",
        "    fuzzy_sets = _partitioner(data=train_df[_input].values, npart=_npartitions)\n",
        "    model = song.ConventionalFTS(partitioner=fuzzy_sets)\n",
        "\n",
        "    model.fit(train_df[_input].values)\n",
        "    forecast = model.predict(test_df[_input].values, steps_ahead=_step)\n",
        "\n",
        "    return forecast[:-1]"
      ],
      "execution_count": null,
      "outputs": []
    },
    {
      "cell_type": "code",
      "metadata": {
        "id": "v4FQV0E3JkNP",
        "colab": {
          "base_uri": "https://localhost:8080/",
          "height": 1000
        },
        "outputId": "0a0ce6ee-e213-44f0-cbe8-8c5a38291d17"
      },
      "source": [
        "methods = []\n",
        "methods.append((\"EXP_OAHU_FTS\", fts_forecast, fts_space))\n",
        "train_split = 0.6\n",
        "parameter_tuning.run_search(methods, tuning_ssa_residual, train_split, Measures.rmse, max_evals=30, resample=None)"
      ],
      "execution_count": null,
      "outputs": [
        {
          "output_type": "stream",
          "text": [
            "Running experiment: EXP_OAHU_FTS\n",
            "{'input': 'DH1', 'npartitions': 50, 'order': 1, 'output': 'DH1', 'partitioner': <class 'pyFTS.partitioners.Grid.GridPartitioner'>}\n",
            "Error : 0.08489978256464802\n",
            "{'input': 'DH1', 'npartitions': 50, 'order': 1, 'output': 'DH1', 'partitioner': <class 'pyFTS.partitioners.Grid.GridPartitioner'>}\n",
            "Error : 0.08489978256464802\n",
            "{'input': 'DH1', 'npartitions': 10, 'order': 1, 'output': 'DH1', 'partitioner': <class 'pyFTS.partitioners.Grid.GridPartitioner'>}\n",
            "Error : 0.07804539250495703\n",
            "{'input': 'DH1', 'npartitions': 100, 'order': 1, 'output': 'DH1', 'partitioner': <class 'pyFTS.partitioners.Entropy.EntropyPartitioner'>}\n",
            "Error : 0.07554580748619338\n",
            "{'input': 'DH1', 'npartitions': 100, 'order': 1, 'output': 'DH1', 'partitioner': <class 'pyFTS.partitioners.Grid.GridPartitioner'>}\n",
            "Error : 0.09102122113004578\n",
            "{'input': 'DH1', 'npartitions': 50, 'order': 1, 'output': 'DH1', 'partitioner': <class 'pyFTS.partitioners.Grid.GridPartitioner'>}\n",
            "Error : 0.08489978256464802\n",
            "{'input': 'DH1', 'npartitions': 100, 'order': 1, 'output': 'DH1', 'partitioner': <class 'pyFTS.partitioners.Grid.GridPartitioner'>}\n",
            "Error : 0.09102122113004578\n",
            "{'input': 'DH1', 'npartitions': 100, 'order': 1, 'output': 'DH1', 'partitioner': <class 'pyFTS.partitioners.Grid.GridPartitioner'>}\n",
            "Error : 0.09102122113004578\n",
            "{'input': 'DH1', 'npartitions': 50, 'order': 1, 'output': 'DH1', 'partitioner': <class 'pyFTS.partitioners.Entropy.EntropyPartitioner'>}\n",
            "Error : 0.07561235354573635\n",
            "{'input': 'DH1', 'npartitions': 50, 'order': 1, 'output': 'DH1', 'partitioner': <class 'pyFTS.partitioners.Entropy.EntropyPartitioner'>}\n",
            "Error : 0.07561235354573635\n",
            "{'input': 'DH1', 'npartitions': 50, 'order': 1, 'output': 'DH1', 'partitioner': <class 'pyFTS.partitioners.Entropy.EntropyPartitioner'>}\n",
            "Error : 0.07561235354573635\n",
            "{'input': 'DH1', 'npartitions': 50, 'order': 1, 'output': 'DH1', 'partitioner': <class 'pyFTS.partitioners.Grid.GridPartitioner'>}\n",
            "Error : 0.08489978256464802\n",
            "{'input': 'DH1', 'npartitions': 50, 'order': 1, 'output': 'DH1', 'partitioner': <class 'pyFTS.partitioners.Grid.GridPartitioner'>}\n",
            "Error : 0.08489978256464802\n",
            "{'input': 'DH1', 'npartitions': 100, 'order': 1, 'output': 'DH1', 'partitioner': <class 'pyFTS.partitioners.Grid.GridPartitioner'>}\n",
            "Error : 0.09102122113004578\n",
            "{'input': 'DH1', 'npartitions': 100, 'order': 1, 'output': 'DH1', 'partitioner': <class 'pyFTS.partitioners.Grid.GridPartitioner'>}\n",
            "Error : 0.09102122113004578\n",
            "{'input': 'DH1', 'npartitions': 10, 'order': 1, 'output': 'DH1', 'partitioner': <class 'pyFTS.partitioners.Grid.GridPartitioner'>}\n",
            "Error : 0.07804539250495703\n",
            "{'input': 'DH1', 'npartitions': 100, 'order': 1, 'output': 'DH1', 'partitioner': <class 'pyFTS.partitioners.Grid.GridPartitioner'>}\n",
            "Error : 0.09102122113004578\n",
            "{'input': 'DH1', 'npartitions': 100, 'order': 1, 'output': 'DH1', 'partitioner': <class 'pyFTS.partitioners.Entropy.EntropyPartitioner'>}\n",
            "Error : 0.07554580748619338\n",
            "{'input': 'DH1', 'npartitions': 10, 'order': 1, 'output': 'DH1', 'partitioner': <class 'pyFTS.partitioners.Grid.GridPartitioner'>}\n",
            "Error : 0.07804539250495703\n",
            "{'input': 'DH1', 'npartitions': 100, 'order': 1, 'output': 'DH1', 'partitioner': <class 'pyFTS.partitioners.Grid.GridPartitioner'>}\n",
            "Error : 0.09102122113004578\n",
            "{'input': 'DH1', 'npartitions': 100, 'order': 1, 'output': 'DH1', 'partitioner': <class 'pyFTS.partitioners.Entropy.EntropyPartitioner'>}\n",
            "Error : 0.07554580748619338\n",
            "{'input': 'DH1', 'npartitions': 100, 'order': 1, 'output': 'DH1', 'partitioner': <class 'pyFTS.partitioners.Entropy.EntropyPartitioner'>}\n",
            "Error : 0.07554580748619338\n",
            "{'input': 'DH1', 'npartitions': 100, 'order': 1, 'output': 'DH1', 'partitioner': <class 'pyFTS.partitioners.Entropy.EntropyPartitioner'>}\n",
            "Error : 0.07554580748619338\n",
            "{'input': 'DH1', 'npartitions': 100, 'order': 1, 'output': 'DH1', 'partitioner': <class 'pyFTS.partitioners.Entropy.EntropyPartitioner'>}\n",
            "Error : 0.07554580748619338\n",
            "{'input': 'DH1', 'npartitions': 10, 'order': 1, 'output': 'DH1', 'partitioner': <class 'pyFTS.partitioners.Entropy.EntropyPartitioner'>}\n",
            "Error : 0.075535874660129\n",
            "{'input': 'DH1', 'npartitions': 10, 'order': 1, 'output': 'DH1', 'partitioner': <class 'pyFTS.partitioners.Entropy.EntropyPartitioner'>}\n",
            "Error : 0.075535874660129\n",
            "{'input': 'DH1', 'npartitions': 10, 'order': 1, 'output': 'DH1', 'partitioner': <class 'pyFTS.partitioners.Entropy.EntropyPartitioner'>}\n",
            "Error : 0.075535874660129\n",
            "{'input': 'DH1', 'npartitions': 10, 'order': 1, 'output': 'DH1', 'partitioner': <class 'pyFTS.partitioners.Entropy.EntropyPartitioner'>}\n",
            "Error : 0.075535874660129\n",
            "{'input': 'DH1', 'npartitions': 10, 'order': 1, 'output': 'DH1', 'partitioner': <class 'pyFTS.partitioners.Entropy.EntropyPartitioner'>}\n",
            "Error : 0.075535874660129\n",
            "{'input': 'DH1', 'npartitions': 10, 'order': 1, 'output': 'DH1', 'partitioner': <class 'pyFTS.partitioners.Entropy.EntropyPartitioner'>}\n",
            "Error : 0.075535874660129\n",
            "100%|██████████| 30/30 [02:47<00:00,  5.59s/trial, best loss: 0.075535874660129]\n",
            "best parameters: \n",
            "{'input': 'DH1', 'npartitions': 10, 'order': 1, 'output': 'DH1', 'partitioner': <class 'pyFTS.partitioners.Entropy.EntropyPartitioner'>}\n"
          ],
          "name": "stdout"
        }
      ]
    },
    {
      "cell_type": "markdown",
      "metadata": {
        "id": "N6c9cmL6JkNT"
      },
      "source": [
        "Best params: \\\n",
        "\\\n",
        "FTS SSA clean: \\\n",
        "{'input': 'DH1', 'npartitions': 10, 'order': 1, 'output': 'DH1', 'partitioner': pyFTS.partitioners.Grid.GridPartitioner}\\\n",
        "\\\n",
        "FTS SSA residual: \\\n",
        "{'input': 'DH1', 'npartitions': 10, 'order': 1, 'output': 'DH1', 'partitioner': <class 'pyFTS.partitioners.Entropy.EntropyPartitioner'>} \\"
      ]
    },
    {
      "cell_type": "code",
      "metadata": {
        "id": "JLI20axqJkNU"
      },
      "source": [
        "from pyFTS.partitioners import Grid, Entropy, Util as pUtil\n",
        "from pyFTS.models import song\n",
        "\n",
        "\n",
        "def rolling_cv_fts(df, params):\n",
        "\n",
        "    _order = params['order']\n",
        "\n",
        "    forecasts = []\n",
        "    order_list = []\n",
        "\n",
        "    limit = df.index[-1].strftime('%Y-%m-%d')\n",
        "\n",
        "    test_end = \"\"\n",
        "    index = df.index[0]\n",
        "\n",
        "    while test_end < limit :\n",
        "        print(\"Index: \", index.strftime('%Y-%m-%d'))  \n",
        "\n",
        "        train_start, train_end, test_start, test_end = getRollingWindow(index)\n",
        "        index = index + datetime.timedelta(days=7)\n",
        "        \n",
        "        train = df[train_start : train_end]\n",
        "        test = df[test_start : test_end]\n",
        "\n",
        "        # Perform forecast\n",
        "        yhat = fts_forecast(train, test, params)\n",
        "        yhat.append(yhat[-1]) #para manter o formato do vetor de metricas\n",
        "        \n",
        "        order_list.append(_order)\n",
        "        forecasts.append(yhat)\n",
        "\n",
        "    return forecasts, order_list"
      ],
      "execution_count": null,
      "outputs": []
    },
    {
      "cell_type": "markdown",
      "metadata": {
        "id": "PL-LsRYHL69j"
      },
      "source": [
        "#### FTS Forecasting"
      ]
    },
    {
      "cell_type": "code",
      "metadata": {
        "id": "0b-wX-ZKJkNY",
        "colab": {
          "base_uri": "https://localhost:8080/",
          "height": 1000
        },
        "outputId": "c6229b88-d3fc-49ca-c4fa-6b11daf22c88"
      },
      "source": [
        "params_clean = {'input': 'DH1', 'npartitions': 10, 'order': 1, 'output': 'DH1', 'partitioner': Grid.GridPartitioner}\n",
        "\n",
        "params_residual = {'input': 'DH1', 'npartitions': 10, 'order': 1, 'output': 'DH1', 'partitioner': Entropy.EntropyPartitioner}\n",
        "\n",
        "\n",
        "forecasts_clean, order_list_clean = rolling_cv_fts(norm_df_ssa_clean, params_clean)\n",
        "forecasts_residual, order_list_residual = rolling_cv_fts(norm_df_ssa_residual, params_residual)\n",
        "\n",
        "forecasts_final, order_list = get_final_forecast(forecasts_clean, forecasts_residual, order_list_clean, order_list_residual)\n",
        "calculate_rolling_error(\"rolling_cv_oahu_fts\", df, forecasts_final, order_list)"
      ],
      "execution_count": null,
      "outputs": [
        {
          "output_type": "stream",
          "text": [
            "Index:  2010-07-01\n",
            "Index:  2010-07-08\n",
            "Index:  2010-07-15\n",
            "Index:  2010-07-22\n",
            "Index:  2010-07-29\n",
            "Index:  2010-08-05\n",
            "Index:  2010-08-12\n",
            "Index:  2010-08-19\n",
            "Index:  2010-08-26\n",
            "Index:  2010-09-02\n",
            "Index:  2010-09-09\n",
            "Index:  2010-09-16\n",
            "Index:  2010-09-23\n",
            "Index:  2010-09-30\n",
            "Index:  2010-10-07\n",
            "Index:  2010-10-14\n",
            "Index:  2010-10-21\n",
            "Index:  2010-10-28\n",
            "Index:  2010-11-04\n",
            "Index:  2010-11-11\n",
            "Index:  2010-11-18\n",
            "Index:  2010-11-25\n",
            "Index:  2010-12-02\n",
            "Index:  2010-12-09\n",
            "Index:  2010-12-16\n",
            "Index:  2010-12-23\n",
            "Index:  2010-12-30\n",
            "Index:  2011-01-06\n",
            "Index:  2011-01-13\n",
            "Index:  2011-01-20\n",
            "Index:  2011-01-27\n",
            "Index:  2011-02-03\n",
            "Index:  2011-02-10\n",
            "Index:  2011-02-17\n",
            "Index:  2011-02-24\n",
            "Index:  2011-03-03\n",
            "Index:  2011-03-10\n",
            "Index:  2011-03-17\n",
            "Index:  2011-03-24\n",
            "Index:  2011-03-31\n",
            "Index:  2011-04-07\n",
            "Index:  2011-04-14\n",
            "Index:  2011-04-21\n",
            "Index:  2011-04-28\n",
            "Index:  2011-05-05\n",
            "Index:  2011-05-12\n",
            "Index:  2011-05-19\n",
            "Index:  2011-05-26\n",
            "Index:  2011-06-02\n",
            "Index:  2011-06-09\n",
            "Index:  2011-06-16\n",
            "Index:  2011-06-23\n",
            "Index:  2011-06-30\n",
            "Index:  2011-07-07\n",
            "Index:  2010-07-01\n",
            "Index:  2010-07-08\n",
            "Index:  2010-07-15\n",
            "Index:  2010-07-22\n",
            "Index:  2010-07-29\n",
            "Index:  2010-08-05\n",
            "Index:  2010-08-12\n",
            "Index:  2010-08-19\n",
            "Index:  2010-08-26\n",
            "Index:  2010-09-02\n",
            "Index:  2010-09-09\n",
            "Index:  2010-09-16\n",
            "Index:  2010-09-23\n",
            "Index:  2010-09-30\n",
            "Index:  2010-10-07\n",
            "Index:  2010-10-14\n",
            "Index:  2010-10-21\n",
            "Index:  2010-10-28\n",
            "Index:  2010-11-04\n",
            "Index:  2010-11-11\n",
            "Index:  2010-11-18\n",
            "Index:  2010-11-25\n",
            "Index:  2010-12-02\n",
            "Index:  2010-12-09\n",
            "Index:  2010-12-16\n",
            "Index:  2010-12-23\n",
            "Index:  2010-12-30\n",
            "Index:  2011-01-06\n",
            "Index:  2011-01-13\n",
            "Index:  2011-01-20\n",
            "Index:  2011-01-27\n",
            "Index:  2011-02-03\n",
            "Index:  2011-02-10\n",
            "Index:  2011-02-17\n",
            "Index:  2011-02-24\n",
            "Index:  2011-03-03\n",
            "Index:  2011-03-10\n",
            "Index:  2011-03-17\n",
            "Index:  2011-03-24\n",
            "Index:  2011-03-31\n",
            "Index:  2011-04-07\n",
            "Index:  2011-04-14\n",
            "Index:  2011-04-21\n",
            "Index:  2011-04-28\n",
            "Index:  2011-05-05\n",
            "Index:  2011-05-12\n",
            "Index:  2011-05-19\n",
            "Index:  2011-05-26\n",
            "Index:  2011-06-02\n",
            "Index:  2011-06-09\n",
            "Index:  2011-06-16\n",
            "Index:  2011-06-23\n",
            "Index:  2011-06-30\n",
            "Index:  2011-07-07\n"
          ],
          "name": "stdout"
        }
      ]
    },
    {
      "cell_type": "code",
      "metadata": {
        "id": "DbJujARsJkNa",
        "colab": {
          "base_uri": "https://localhost:8080/",
          "height": 17
        },
        "outputId": "5c400ac8-8e5e-4a8b-fcfa-5834a80cb3d7"
      },
      "source": [
        "files.download('rolling_cv_oahu_fts.csv')"
      ],
      "execution_count": null,
      "outputs": [
        {
          "output_type": "display_data",
          "data": {
            "application/javascript": [
              "\n",
              "    async function download(id, filename, size) {\n",
              "      if (!google.colab.kernel.accessAllowed) {\n",
              "        return;\n",
              "      }\n",
              "      const div = document.createElement('div');\n",
              "      const label = document.createElement('label');\n",
              "      label.textContent = `Downloading \"${filename}\": `;\n",
              "      div.appendChild(label);\n",
              "      const progress = document.createElement('progress');\n",
              "      progress.max = size;\n",
              "      div.appendChild(progress);\n",
              "      document.body.appendChild(div);\n",
              "\n",
              "      const buffers = [];\n",
              "      let downloaded = 0;\n",
              "\n",
              "      const channel = await google.colab.kernel.comms.open(id);\n",
              "      // Send a message to notify the kernel that we're ready.\n",
              "      channel.send({})\n",
              "\n",
              "      for await (const message of channel.messages) {\n",
              "        // Send a message to notify the kernel that we're ready.\n",
              "        channel.send({})\n",
              "        if (message.buffers) {\n",
              "          for (const buffer of message.buffers) {\n",
              "            buffers.push(buffer);\n",
              "            downloaded += buffer.byteLength;\n",
              "            progress.value = downloaded;\n",
              "          }\n",
              "        }\n",
              "      }\n",
              "      const blob = new Blob(buffers, {type: 'application/binary'});\n",
              "      const a = document.createElement('a');\n",
              "      a.href = window.URL.createObjectURL(blob);\n",
              "      a.download = filename;\n",
              "      div.appendChild(a);\n",
              "      a.click();\n",
              "      div.remove();\n",
              "    }\n",
              "  "
            ],
            "text/plain": [
              "<IPython.core.display.Javascript object>"
            ]
          },
          "metadata": {
            "tags": []
          }
        },
        {
          "output_type": "display_data",
          "data": {
            "application/javascript": [
              "download(\"download_6861f4ec-19eb-4857-8d52-f0040404f40c\", \"rolling_cv_oahu_fts.csv\", 2816)"
            ],
            "text/plain": [
              "<IPython.core.display.Javascript object>"
            ]
          },
          "metadata": {
            "tags": []
          }
        }
      ]
    },
    {
      "cell_type": "markdown",
      "metadata": {
        "id": "Ry-JFOh1s1qJ"
      },
      "source": [
        "### High Order FTS"
      ]
    },
    {
      "cell_type": "code",
      "metadata": {
        "id": "rTvlwfx8OIZR"
      },
      "source": [
        "from pyFTS.partitioners import Grid, Entropy, Util as pUtil\n",
        "from pyFTS.models import hofts"
      ],
      "execution_count": null,
      "outputs": []
    },
    {
      "cell_type": "markdown",
      "metadata": {
        "id": "YOaXlHm2Ltrq"
      },
      "source": [
        "#### HOFTS Parameter Tuning"
      ]
    },
    {
      "cell_type": "code",
      "metadata": {
        "id": "mZpaeSvALxnf"
      },
      "source": [
        "hofts_space = {'partitioner': hp.choice('partitioner', [Grid.GridPartitioner, Entropy.EntropyPartitioner]),\n",
        "        'npartitions': hp.choice('npartitions', [10, 50,100]),\n",
        "        'order': hp.choice('order', [1,2]),\n",
        "        'input': hp.choice('input', [target_station]),\n",
        "        'output': hp.choice('output', [target_station])}\n",
        "\n",
        "def hofts_forecast(train_df, test_df, params):\n",
        "    _partitioner = params['partitioner']\n",
        "    _npartitions = params['npartitions']\n",
        "    _order = params['order']\n",
        "    _input = params['input']\n",
        "    _step = params.get('step',1)\n",
        "\n",
        "    fuzzy_sets = _partitioner(data=train_df[_input].values, npart=_npartitions)\n",
        "    model = hofts.HighOrderFTS(order=_order)\n",
        "\n",
        "    model.fit(train_df[_input].values, order=_order, partitioner=fuzzy_sets)\n",
        "    forecast = model.predict(test_df[_input].values, steps_ahead=_step)\n",
        "\n",
        "    return forecast"
      ],
      "execution_count": null,
      "outputs": []
    },
    {
      "cell_type": "code",
      "metadata": {
        "id": "8mgVqRKANpQ0",
        "colab": {
          "base_uri": "https://localhost:8080/",
          "height": 1000
        },
        "outputId": "8f5dae76-3ca1-414e-b66f-f8b7b55c32f0"
      },
      "source": [
        "methods = []\n",
        "methods.append((\"EXP_OAHU_HOFTS\", hofts_forecast, hofts_space))\n",
        "train_split = 0.6\n",
        "parameter_tuning.run_search(methods, tuning_ssa_clean, train_split, Measures.rmse, max_evals=30, resample=None)"
      ],
      "execution_count": null,
      "outputs": [
        {
          "output_type": "stream",
          "text": [
            "Running experiment: EXP_OAHU_HOFTS\n",
            "{'input': 'DH1', 'npartitions': 50, 'order': 2, 'output': 'DH1', 'partitioner': <class 'pyFTS.partitioners.Entropy.EntropyPartitioner'>}\n",
            "Error : 0.023010820327932592\n",
            "{'input': 'DH1', 'npartitions': 100, 'order': 1, 'output': 'DH1', 'partitioner': <class 'pyFTS.partitioners.Entropy.EntropyPartitioner'>}\n",
            "Error : 0.2620534051306074\n",
            "{'input': 'DH1', 'npartitions': 10, 'order': 1, 'output': 'DH1', 'partitioner': <class 'pyFTS.partitioners.Grid.GridPartitioner'>}\n",
            "Error : 0.06643845318911455\n",
            "{'input': 'DH1', 'npartitions': 100, 'order': 2, 'output': 'DH1', 'partitioner': <class 'pyFTS.partitioners.Entropy.EntropyPartitioner'>}\n",
            "Error : 0.1282648659327819\n",
            "{'input': 'DH1', 'npartitions': 10, 'order': 1, 'output': 'DH1', 'partitioner': <class 'pyFTS.partitioners.Entropy.EntropyPartitioner'>}\n",
            "Error : 0.0989917479219453\n",
            "{'input': 'DH1', 'npartitions': 10, 'order': 1, 'output': 'DH1', 'partitioner': <class 'pyFTS.partitioners.Entropy.EntropyPartitioner'>}\n",
            "Error : 0.0989917479219453\n",
            "{'input': 'DH1', 'npartitions': 50, 'order': 2, 'output': 'DH1', 'partitioner': <class 'pyFTS.partitioners.Grid.GridPartitioner'>}\n",
            "Error : 0.018076837971340687\n",
            "{'input': 'DH1', 'npartitions': 10, 'order': 2, 'output': 'DH1', 'partitioner': <class 'pyFTS.partitioners.Grid.GridPartitioner'>}\n",
            "Error : 0.060594950852945896\n",
            "{'input': 'DH1', 'npartitions': 50, 'order': 2, 'output': 'DH1', 'partitioner': <class 'pyFTS.partitioners.Entropy.EntropyPartitioner'>}\n",
            "Error : 0.023010820327932592\n",
            "{'input': 'DH1', 'npartitions': 100, 'order': 1, 'output': 'DH1', 'partitioner': <class 'pyFTS.partitioners.Entropy.EntropyPartitioner'>}\n",
            "Error : 0.2620534051306074\n",
            "{'input': 'DH1', 'npartitions': 100, 'order': 2, 'output': 'DH1', 'partitioner': <class 'pyFTS.partitioners.Entropy.EntropyPartitioner'>}\n",
            "Error : 0.1282648659327819\n",
            "{'input': 'DH1', 'npartitions': 10, 'order': 1, 'output': 'DH1', 'partitioner': <class 'pyFTS.partitioners.Entropy.EntropyPartitioner'>}\n",
            "Error : 0.0989917479219453\n",
            "{'input': 'DH1', 'npartitions': 50, 'order': 1, 'output': 'DH1', 'partitioner': <class 'pyFTS.partitioners.Grid.GridPartitioner'>}\n",
            "Error : 0.0293215016518491\n",
            "{'input': 'DH1', 'npartitions': 100, 'order': 1, 'output': 'DH1', 'partitioner': <class 'pyFTS.partitioners.Entropy.EntropyPartitioner'>}\n",
            "Error : 0.2620534051306074\n",
            "{'input': 'DH1', 'npartitions': 50, 'order': 2, 'output': 'DH1', 'partitioner': <class 'pyFTS.partitioners.Entropy.EntropyPartitioner'>}\n",
            "Error : 0.023010820327932592\n",
            "{'input': 'DH1', 'npartitions': 10, 'order': 2, 'output': 'DH1', 'partitioner': <class 'pyFTS.partitioners.Entropy.EntropyPartitioner'>}\n",
            "Error : 0.09704426264391755\n",
            "{'input': 'DH1', 'npartitions': 100, 'order': 1, 'output': 'DH1', 'partitioner': <class 'pyFTS.partitioners.Entropy.EntropyPartitioner'>}\n",
            "Error : 0.2620534051306074\n",
            "{'input': 'DH1', 'npartitions': 50, 'order': 2, 'output': 'DH1', 'partitioner': <class 'pyFTS.partitioners.Grid.GridPartitioner'>}\n",
            "Error : 0.018076837971340687\n",
            "{'input': 'DH1', 'npartitions': 10, 'order': 1, 'output': 'DH1', 'partitioner': <class 'pyFTS.partitioners.Grid.GridPartitioner'>}\n",
            "Error : 0.06643845318911455\n",
            "{'input': 'DH1', 'npartitions': 10, 'order': 2, 'output': 'DH1', 'partitioner': <class 'pyFTS.partitioners.Entropy.EntropyPartitioner'>}\n",
            "Error : 0.09704426264391755\n",
            "{'input': 'DH1', 'npartitions': 50, 'order': 2, 'output': 'DH1', 'partitioner': <class 'pyFTS.partitioners.Grid.GridPartitioner'>}\n",
            "Error : 0.018076837971340687\n",
            "{'input': 'DH1', 'npartitions': 50, 'order': 2, 'output': 'DH1', 'partitioner': <class 'pyFTS.partitioners.Grid.GridPartitioner'>}\n",
            "Error : 0.018076837971340687\n",
            "{'input': 'DH1', 'npartitions': 50, 'order': 2, 'output': 'DH1', 'partitioner': <class 'pyFTS.partitioners.Grid.GridPartitioner'>}\n",
            "Error : 0.018076837971340687\n",
            "{'input': 'DH1', 'npartitions': 50, 'order': 2, 'output': 'DH1', 'partitioner': <class 'pyFTS.partitioners.Grid.GridPartitioner'>}\n",
            "Error : 0.018076837971340687\n",
            "{'input': 'DH1', 'npartitions': 50, 'order': 2, 'output': 'DH1', 'partitioner': <class 'pyFTS.partitioners.Grid.GridPartitioner'>}\n",
            "Error : 0.018076837971340687\n",
            "{'input': 'DH1', 'npartitions': 50, 'order': 2, 'output': 'DH1', 'partitioner': <class 'pyFTS.partitioners.Grid.GridPartitioner'>}\n",
            "Error : 0.018076837971340687\n",
            "{'input': 'DH1', 'npartitions': 50, 'order': 2, 'output': 'DH1', 'partitioner': <class 'pyFTS.partitioners.Grid.GridPartitioner'>}\n",
            "Error : 0.018076837971340687\n",
            "{'input': 'DH1', 'npartitions': 50, 'order': 2, 'output': 'DH1', 'partitioner': <class 'pyFTS.partitioners.Grid.GridPartitioner'>}\n",
            "Error : 0.018076837971340687\n",
            "{'input': 'DH1', 'npartitions': 50, 'order': 2, 'output': 'DH1', 'partitioner': <class 'pyFTS.partitioners.Grid.GridPartitioner'>}\n",
            "Error : 0.018076837971340687\n",
            "{'input': 'DH1', 'npartitions': 50, 'order': 2, 'output': 'DH1', 'partitioner': <class 'pyFTS.partitioners.Grid.GridPartitioner'>}\n",
            "Error : 0.018076837971340687\n",
            "100%|██████████| 30/30 [01:10<00:00,  2.36s/trial, best loss: 0.018076837971340687]\n",
            "best parameters: \n",
            "{'input': 'DH1', 'npartitions': 50, 'order': 2, 'output': 'DH1', 'partitioner': <class 'pyFTS.partitioners.Grid.GridPartitioner'>}\n"
          ],
          "name": "stdout"
        }
      ]
    },
    {
      "cell_type": "markdown",
      "metadata": {
        "id": "boaYbWNkRvix"
      },
      "source": [
        "Best params: \\\n",
        "\\\n",
        "HOFTS SSA clean: \\\n",
        "{'input': 'DH1', 'npartitions': 50, 'order': 2, 'output': 'DH1', 'partitioner': <class 'pyFTS.partitioners.Grid.GridPartitioner'>}\\\n",
        "\\\n",
        "HOFTS SSA residual: \\\n",
        "{'input': 'DH1', 'npartitions': 10, 'order': 1, 'output': 'DH1', 'partitioner': <class 'pyFTS.partitioners.Entropy.EntropyPartitioner'>} \\"
      ]
    },
    {
      "cell_type": "markdown",
      "metadata": {
        "id": "01pvTeHRiUyN"
      },
      "source": [
        "#### HOFTS Forecasting"
      ]
    },
    {
      "cell_type": "code",
      "metadata": {
        "id": "OG4NaVwus4gO"
      },
      "source": [
        "from pyFTS.partitioners import Grid, Entropy, Util as pUtil\n",
        "from pyFTS.models import hofts\n",
        "\n",
        "\n",
        "def rolling_cv_hofts(df, params):\n",
        "\n",
        "    _order = params['order']\n",
        "\n",
        "    forecasts = []\n",
        "    order_list = []\n",
        "\n",
        "    limit = df.index[-1].strftime('%Y-%m-%d')\n",
        "\n",
        "    test_end = \"\"\n",
        "    index = df.index[0]\n",
        "\n",
        "    while test_end < limit :\n",
        "        print(\"Index: \", index.strftime('%Y-%m-%d'))  \n",
        "\n",
        "        train_start, train_end, test_start, test_end = getRollingWindow(index)\n",
        "        index = index + datetime.timedelta(days=7)\n",
        "        \n",
        "        train = df[train_start : train_end]\n",
        "        test = df[test_start : test_end]\n",
        "\n",
        "        # Perform forecast\n",
        "        yhat = hofts_forecast(train, test, params)\n",
        "        yhat.append(yhat[-1]) #para manter o formato do vetor de metricas\n",
        "        \n",
        "        order_list.append(_order)\n",
        "        forecasts.append(yhat)\n",
        "\n",
        "    return forecasts, order_list"
      ],
      "execution_count": null,
      "outputs": []
    },
    {
      "cell_type": "code",
      "metadata": {
        "id": "5WkWJF2MtE4i",
        "colab": {
          "base_uri": "https://localhost:8080/",
          "height": 1000
        },
        "outputId": "13e670b0-bea6-4591-e22e-89dec8ba0526"
      },
      "source": [
        "params_clean = {'input': 'DH1', 'npartitions': 50, 'order': 2, 'output': 'DH1', 'partitioner': Grid.GridPartitioner}\n",
        "\n",
        "params_residual = {'input': 'DH1', 'npartitions': 10, 'order': 1, 'output': 'DH1', 'partitioner': Entropy.EntropyPartitioner}\n",
        "\n",
        "\n",
        "forecasts_clean, order_list_clean = rolling_cv_hofts(norm_df_ssa_clean, params_clean)\n",
        "forecasts_residual, order_list_residual = rolling_cv_hofts(norm_df_ssa_residual, params_residual)\n",
        "\n",
        "forecasts_final, order_list = get_final_forecast(forecasts_clean, forecasts_residual, order_list_clean, order_list_residual)\n",
        "calculate_rolling_error(\"rolling_cv_oahu_hofts\", df, forecasts_final, order_list)"
      ],
      "execution_count": null,
      "outputs": [
        {
          "output_type": "stream",
          "text": [
            "Index:  2010-07-01\n",
            "Index:  2010-07-08\n",
            "Index:  2010-07-15\n",
            "Index:  2010-07-22\n",
            "Index:  2010-07-29\n",
            "Index:  2010-08-05\n",
            "Index:  2010-08-12\n",
            "Index:  2010-08-19\n",
            "Index:  2010-08-26\n",
            "Index:  2010-09-02\n",
            "Index:  2010-09-09\n",
            "Index:  2010-09-16\n",
            "Index:  2010-09-23\n",
            "Index:  2010-09-30\n",
            "Index:  2010-10-07\n",
            "Index:  2010-10-14\n",
            "Index:  2010-10-21\n",
            "Index:  2010-10-28\n",
            "Index:  2010-11-04\n",
            "Index:  2010-11-11\n",
            "Index:  2010-11-18\n",
            "Index:  2010-11-25\n",
            "Index:  2010-12-02\n",
            "Index:  2010-12-09\n",
            "Index:  2010-12-16\n",
            "Index:  2010-12-23\n",
            "Index:  2010-12-30\n",
            "Index:  2011-01-06\n",
            "Index:  2011-01-13\n",
            "Index:  2011-01-20\n",
            "Index:  2011-01-27\n",
            "Index:  2011-02-03\n",
            "Index:  2011-02-10\n",
            "Index:  2011-02-17\n",
            "Index:  2011-02-24\n",
            "Index:  2011-03-03\n",
            "Index:  2011-03-10\n",
            "Index:  2011-03-17\n",
            "Index:  2011-03-24\n",
            "Index:  2011-03-31\n",
            "Index:  2011-04-07\n",
            "Index:  2011-04-14\n",
            "Index:  2011-04-21\n",
            "Index:  2011-04-28\n",
            "Index:  2011-05-05\n",
            "Index:  2011-05-12\n",
            "Index:  2011-05-19\n",
            "Index:  2011-05-26\n",
            "Index:  2011-06-02\n",
            "Index:  2011-06-09\n",
            "Index:  2011-06-16\n",
            "Index:  2011-06-23\n",
            "Index:  2011-06-30\n",
            "Index:  2011-07-07\n",
            "Index:  2010-07-01\n",
            "Index:  2010-07-08\n",
            "Index:  2010-07-15\n",
            "Index:  2010-07-22\n",
            "Index:  2010-07-29\n",
            "Index:  2010-08-05\n",
            "Index:  2010-08-12\n",
            "Index:  2010-08-19\n",
            "Index:  2010-08-26\n",
            "Index:  2010-09-02\n",
            "Index:  2010-09-09\n",
            "Index:  2010-09-16\n",
            "Index:  2010-09-23\n",
            "Index:  2010-09-30\n",
            "Index:  2010-10-07\n",
            "Index:  2010-10-14\n",
            "Index:  2010-10-21\n",
            "Index:  2010-10-28\n",
            "Index:  2010-11-04\n",
            "Index:  2010-11-11\n",
            "Index:  2010-11-18\n",
            "Index:  2010-11-25\n",
            "Index:  2010-12-02\n",
            "Index:  2010-12-09\n",
            "Index:  2010-12-16\n",
            "Index:  2010-12-23\n",
            "Index:  2010-12-30\n",
            "Index:  2011-01-06\n",
            "Index:  2011-01-13\n",
            "Index:  2011-01-20\n",
            "Index:  2011-01-27\n",
            "Index:  2011-02-03\n",
            "Index:  2011-02-10\n",
            "Index:  2011-02-17\n",
            "Index:  2011-02-24\n",
            "Index:  2011-03-03\n",
            "Index:  2011-03-10\n",
            "Index:  2011-03-17\n",
            "Index:  2011-03-24\n",
            "Index:  2011-03-31\n",
            "Index:  2011-04-07\n",
            "Index:  2011-04-14\n",
            "Index:  2011-04-21\n",
            "Index:  2011-04-28\n",
            "Index:  2011-05-05\n",
            "Index:  2011-05-12\n",
            "Index:  2011-05-19\n",
            "Index:  2011-05-26\n",
            "Index:  2011-06-02\n",
            "Index:  2011-06-09\n",
            "Index:  2011-06-16\n",
            "Index:  2011-06-23\n",
            "Index:  2011-06-30\n",
            "Index:  2011-07-07\n"
          ],
          "name": "stdout"
        }
      ]
    },
    {
      "cell_type": "code",
      "metadata": {
        "id": "FEU3CMQdTCxX",
        "colab": {
          "base_uri": "https://localhost:8080/",
          "height": 282
        },
        "outputId": "97cee5d9-8764-4695-a100-5ad892c541e6"
      },
      "source": [
        "files.download('rolling_cv_oahu_hofts.csv')"
      ],
      "execution_count": null,
      "outputs": [
        {
          "output_type": "error",
          "ename": "FileNotFoundError",
          "evalue": "ignored",
          "traceback": [
            "\u001b[0;31m---------------------------------------------------------------------------\u001b[0m",
            "\u001b[0;31mFileNotFoundError\u001b[0m                         Traceback (most recent call last)",
            "\u001b[0;32m<ipython-input-30-e9f4eaad8d83>\u001b[0m in \u001b[0;36m<module>\u001b[0;34m()\u001b[0m\n\u001b[0;32m----> 1\u001b[0;31m \u001b[0mfiles\u001b[0m\u001b[0;34m.\u001b[0m\u001b[0mdownload\u001b[0m\u001b[0;34m(\u001b[0m\u001b[0;34m'rolling_cv_oahu_hofts.csv'\u001b[0m\u001b[0;34m)\u001b[0m\u001b[0;34m\u001b[0m\u001b[0;34m\u001b[0m\u001b[0m\n\u001b[0m",
            "\u001b[0;32m/usr/local/lib/python3.6/dist-packages/google/colab/files.py\u001b[0m in \u001b[0;36mdownload\u001b[0;34m(filename)\u001b[0m\n\u001b[1;32m    141\u001b[0m       \u001b[0;32mraise\u001b[0m \u001b[0mOSError\u001b[0m\u001b[0;34m(\u001b[0m\u001b[0mmsg\u001b[0m\u001b[0;34m)\u001b[0m\u001b[0;34m\u001b[0m\u001b[0;34m\u001b[0m\u001b[0m\n\u001b[1;32m    142\u001b[0m     \u001b[0;32melse\u001b[0m\u001b[0;34m:\u001b[0m\u001b[0;34m\u001b[0m\u001b[0;34m\u001b[0m\u001b[0m\n\u001b[0;32m--> 143\u001b[0;31m       \u001b[0;32mraise\u001b[0m \u001b[0mFileNotFoundError\u001b[0m\u001b[0;34m(\u001b[0m\u001b[0mmsg\u001b[0m\u001b[0;34m)\u001b[0m  \u001b[0;31m# pylint: disable=undefined-variable\u001b[0m\u001b[0;34m\u001b[0m\u001b[0;34m\u001b[0m\u001b[0m\n\u001b[0m\u001b[1;32m    144\u001b[0m \u001b[0;34m\u001b[0m\u001b[0m\n\u001b[1;32m    145\u001b[0m   \u001b[0mcomm_manager\u001b[0m \u001b[0;34m=\u001b[0m \u001b[0m_IPython\u001b[0m\u001b[0;34m.\u001b[0m\u001b[0mget_ipython\u001b[0m\u001b[0;34m(\u001b[0m\u001b[0;34m)\u001b[0m\u001b[0;34m.\u001b[0m\u001b[0mkernel\u001b[0m\u001b[0;34m.\u001b[0m\u001b[0mcomm_manager\u001b[0m\u001b[0;34m\u001b[0m\u001b[0;34m\u001b[0m\u001b[0m\n",
            "\u001b[0;31mFileNotFoundError\u001b[0m: Cannot find file: rolling_cv_oahu_hofts.csv"
          ]
        }
      ]
    },
    {
      "cell_type": "markdown",
      "metadata": {
        "id": "BbrR5M-2tj7j"
      },
      "source": [
        "### NSFTS"
      ]
    },
    {
      "cell_type": "code",
      "metadata": {
        "id": "KflU3vANXBU1"
      },
      "source": [
        "from pyFTS.models.nonstationary import common, perturbation, partitioners as nspart\n",
        "from pyFTS.models.nonstationary import nsfts, util as nsUtil"
      ],
      "execution_count": null,
      "outputs": []
    },
    {
      "cell_type": "markdown",
      "metadata": {
        "id": "CDsjp5tyVcy-"
      },
      "source": [
        "#### Parameter Tuning"
      ]
    },
    {
      "cell_type": "code",
      "metadata": {
        "id": "blbwPd2mVggp"
      },
      "source": [
        "nsfts_space = {'npartitions': hp.choice('npartitions', [10, 30, 50, 100, 150]),\n",
        "        'order': hp.choice('order', [1]),\n",
        "        'input': hp.choice('input', [target_station]),\n",
        "        'output': hp.choice('output', [target_station])}\n",
        "\n",
        "def nsfts_forecast(train_df, test_df, params):\n",
        "    _npartitions = params['npartitions']\n",
        "    _order = params['order']\n",
        "    _input = params['input']\n",
        "    _step = params.get('step',1)\n",
        "    \n",
        "    nsfs = nspart.simplenonstationary_gridpartitioner_builder(data=train_df[_input].values, npart=_npartitions, transformation=None)\n",
        "    model = nsfts.NonStationaryFTS(partitioner=nsfs, order=_order)\n",
        "    \n",
        "    model.fit(train_df[_input].values)\n",
        "\n",
        "    forecast = model.predict(test_df[_input].values)\n",
        "    forecast = forecast[:-1]\n",
        "    return forecast"
      ],
      "execution_count": null,
      "outputs": []
    },
    {
      "cell_type": "code",
      "metadata": {
        "id": "KziNLZGGWg4o",
        "colab": {
          "base_uri": "https://localhost:8080/",
          "height": 425
        },
        "outputId": "a410af90-ed88-4745-b745-f0f5e870d0c4"
      },
      "source": [
        "methods = []\n",
        "methods.append((\"EXP_OAHU_NSFTS\", nsfts_forecast, nsfts_space))\n",
        "train_split = 0.6\n",
        "parameter_tuning.run_search(methods, tuning_ssa_clean, train_split, Measures.rmse, max_evals=10, resample=None)"
      ],
      "execution_count": null,
      "outputs": [
        {
          "output_type": "stream",
          "text": [
            "Running experiment: EXP_OAHU_NSFTS\n",
            "{'input': 'DH1', 'npartitions': 100, 'order': 1, 'output': 'DH1'}\n",
            "Error : 0.026619639270690207\n",
            "{'input': 'DH1', 'npartitions': 100, 'order': 1, 'output': 'DH1'}\n",
            "Error : 0.026619639270690207\n",
            "{'input': 'DH1', 'npartitions': 30, 'order': 1, 'output': 'DH1'}\n",
            "Error : 0.028937148027440525\n",
            "{'input': 'DH1', 'npartitions': 150, 'order': 1, 'output': 'DH1'}\n",
            "Error : 0.027146713536286154\n",
            "{'input': 'DH1', 'npartitions': 50, 'order': 1, 'output': 'DH1'}\n",
            "Error : 0.027676732982513386\n",
            "{'input': 'DH1', 'npartitions': 10, 'order': 1, 'output': 'DH1'}\n",
            "Error : 0.04370419457857967\n",
            "{'input': 'DH1', 'npartitions': 10, 'order': 1, 'output': 'DH1'}\n",
            "Error : 0.04370419457857967\n",
            "{'input': 'DH1', 'npartitions': 50, 'order': 1, 'output': 'DH1'}\n",
            "Error : 0.027676732982513386\n",
            "{'input': 'DH1', 'npartitions': 100, 'order': 1, 'output': 'DH1'}\n",
            "Error : 0.026619639270690207\n",
            "{'input': 'DH1', 'npartitions': 100, 'order': 1, 'output': 'DH1'}\n",
            "Error : 0.026619639270690207\n",
            "100%|██████████| 10/10 [02:08<00:00, 12.87s/trial, best loss: 0.026619639270690207]\n",
            "best parameters: \n",
            "{'input': 'DH1', 'npartitions': 100, 'order': 1, 'output': 'DH1'}\n"
          ],
          "name": "stdout"
        }
      ]
    },
    {
      "cell_type": "markdown",
      "metadata": {
        "id": "nUIZ1ALMU6oW"
      },
      "source": [
        "Best params: \\\n",
        "\\\n",
        "HOFTS SSA clean: \\\n",
        "{'input': 'DH1', 'npartitions': 100, 'order': 1, 'output': 'DH1'}\\\n",
        "\\\n",
        "HOFTS SSA residual: \\\n",
        "{'input': 'DH1', 'npartitions': 100, 'order': 1, 'output': 'DH1'} \\"
      ]
    },
    {
      "cell_type": "markdown",
      "metadata": {
        "id": "jrYz_tsNVoGT"
      },
      "source": [
        "#### NSFTS Forecasting"
      ]
    },
    {
      "cell_type": "code",
      "metadata": {
        "id": "zYBnBP2Y0QCl"
      },
      "source": [
        "def rolling_cv_nsfts(df, params):\n",
        "    \n",
        "    forecasts = []\n",
        "    order_list = []\n",
        "\n",
        "    _npartitions = params['npartitions']\n",
        "    _order = params['order']\n",
        "    _input = params['input']\n",
        "    _step = params.get('step',1)\n",
        "\n",
        "    limit = df.index[-1].strftime('%Y-%m-%d')\n",
        "\n",
        "    test_end = \"\"\n",
        "    index = df.index[0]\n",
        "    first_time = True\n",
        "\n",
        "    while test_end < limit :\n",
        "        print(\"Index: \", index.strftime('%Y-%m-%d'))  \n",
        "\n",
        "        train_start, train_end, test_start, test_end = getRollingWindow(index)\n",
        "        index = index + datetime.timedelta(days=7)\n",
        "        \n",
        "        train = df[train_start : train_end]\n",
        "        test = df[test_start : test_end]\n",
        "\n",
        "        # Perform forecast\n",
        "\n",
        "        # In the first time, the model is trained. \n",
        "        # For the next iterations, training subset is used to evolve the model\n",
        "        if first_time:\n",
        "          nsfs = nspart.simplenonstationary_gridpartitioner_builder(data=train[_input].values, npart=_npartitions, transformation=None)\n",
        "          model = nsfts.NonStationaryFTS(partitioner=nsfs, order=_order)\n",
        "          model.fit(train[_input].values)\n",
        "          first_time = False\n",
        "\n",
        "        forecast = model.predict(test[_input].values)\n",
        "        #forecast = forecast[:-1]\n",
        "        \n",
        "        order_list.append(params['order'])\n",
        "        forecasts.append(forecast)\n",
        "\n",
        "    return forecasts, order_list"
      ],
      "execution_count": null,
      "outputs": []
    },
    {
      "cell_type": "code",
      "metadata": {
        "id": "La4PN7ph4smH",
        "colab": {
          "base_uri": "https://localhost:8080/",
          "height": 1000
        },
        "outputId": "a23a01f7-0160-4614-cee6-545017ffa771"
      },
      "source": [
        "params_clean = {'input': 'DH1', 'npartitions': 100, 'order': 1, 'output': 'DH1'}\n",
        "params_residual = {'input': 'DH1', 'npartitions': 100, 'order': 1, 'output': 'DH1'}\n",
        "\n",
        "\n",
        "forecasts_clean, order_list_clean = rolling_cv_nsfts(norm_df_ssa_clean, params_clean)\n",
        "forecasts_residual, order_list_residual = rolling_cv_nsfts(norm_df_ssa_residual, params_residual)\n",
        "\n",
        "forecasts_final, order_list = get_final_forecast(forecasts_clean, forecasts_residual, order_list_clean, order_list_residual)\n",
        "calculate_rolling_error(\"rolling_cv_oahu_nsfts\", df, forecasts_final, order_list)"
      ],
      "execution_count": null,
      "outputs": [
        {
          "output_type": "stream",
          "text": [
            "Index:  2010-07-01\n",
            "Index:  2010-07-08\n",
            "Index:  2010-07-15\n",
            "Index:  2010-07-22\n",
            "Index:  2010-07-29\n",
            "Index:  2010-08-05\n",
            "Index:  2010-08-12\n",
            "Index:  2010-08-19\n",
            "Index:  2010-08-26\n",
            "Index:  2010-09-02\n",
            "Index:  2010-09-09\n",
            "Index:  2010-09-16\n",
            "Index:  2010-09-23\n",
            "Index:  2010-09-30\n",
            "Index:  2010-10-07\n",
            "Index:  2010-10-14\n",
            "Index:  2010-10-21\n",
            "Index:  2010-10-28\n",
            "Index:  2010-11-04\n",
            "Index:  2010-11-11\n",
            "Index:  2010-11-18\n",
            "Index:  2010-11-25\n",
            "Index:  2010-12-02\n",
            "Index:  2010-12-09\n",
            "Index:  2010-12-16\n",
            "Index:  2010-12-23\n",
            "Index:  2010-12-30\n",
            "Index:  2011-01-06\n",
            "Index:  2011-01-13\n",
            "Index:  2011-01-20\n",
            "Index:  2011-01-27\n",
            "Index:  2011-02-03\n",
            "Index:  2011-02-10\n",
            "Index:  2011-02-17\n",
            "Index:  2011-02-24\n",
            "Index:  2011-03-03\n",
            "Index:  2011-03-10\n",
            "Index:  2011-03-17\n",
            "Index:  2011-03-24\n",
            "Index:  2011-03-31\n",
            "Index:  2011-04-07\n",
            "Index:  2011-04-14\n",
            "Index:  2011-04-21\n",
            "Index:  2011-04-28\n",
            "Index:  2011-05-05\n",
            "Index:  2011-05-12\n",
            "Index:  2011-05-19\n",
            "Index:  2011-05-26\n",
            "Index:  2011-06-02\n",
            "Index:  2011-06-09\n",
            "Index:  2011-06-16\n",
            "Index:  2011-06-23\n",
            "Index:  2011-06-30\n",
            "Index:  2011-07-07\n",
            "Index:  2010-07-01\n",
            "Index:  2010-07-08\n",
            "Index:  2010-07-15\n",
            "Index:  2010-07-22\n",
            "Index:  2010-07-29\n",
            "Index:  2010-08-05\n",
            "Index:  2010-08-12\n",
            "Index:  2010-08-19\n",
            "Index:  2010-08-26\n",
            "Index:  2010-09-02\n",
            "Index:  2010-09-09\n",
            "Index:  2010-09-16\n",
            "Index:  2010-09-23\n",
            "Index:  2010-09-30\n",
            "Index:  2010-10-07\n",
            "Index:  2010-10-14\n",
            "Index:  2010-10-21\n",
            "Index:  2010-10-28\n",
            "Index:  2010-11-04\n",
            "Index:  2010-11-11\n",
            "Index:  2010-11-18\n",
            "Index:  2010-11-25\n",
            "Index:  2010-12-02\n",
            "Index:  2010-12-09\n",
            "Index:  2010-12-16\n",
            "Index:  2010-12-23\n",
            "Index:  2010-12-30\n",
            "Index:  2011-01-06\n",
            "Index:  2011-01-13\n",
            "Index:  2011-01-20\n",
            "Index:  2011-01-27\n",
            "Index:  2011-02-03\n",
            "Index:  2011-02-10\n",
            "Index:  2011-02-17\n",
            "Index:  2011-02-24\n",
            "Index:  2011-03-03\n",
            "Index:  2011-03-10\n",
            "Index:  2011-03-17\n",
            "Index:  2011-03-24\n",
            "Index:  2011-03-31\n",
            "Index:  2011-04-07\n",
            "Index:  2011-04-14\n",
            "Index:  2011-04-21\n",
            "Index:  2011-04-28\n",
            "Index:  2011-05-05\n",
            "Index:  2011-05-12\n",
            "Index:  2011-05-19\n",
            "Index:  2011-05-26\n",
            "Index:  2011-06-02\n",
            "Index:  2011-06-09\n",
            "Index:  2011-06-16\n",
            "Index:  2011-06-23\n",
            "Index:  2011-06-30\n",
            "Index:  2011-07-07\n"
          ],
          "name": "stdout"
        }
      ]
    },
    {
      "cell_type": "code",
      "metadata": {
        "id": "WWPvfdqAcdV-",
        "colab": {
          "base_uri": "https://localhost:8080/",
          "height": 17
        },
        "outputId": "e60b82b4-fd12-47e6-a0f2-b3db15729202"
      },
      "source": [
        "files.download('rolling_cv_oahu_nsfts.csv')"
      ],
      "execution_count": null,
      "outputs": [
        {
          "output_type": "display_data",
          "data": {
            "application/javascript": [
              "\n",
              "    async function download(id, filename, size) {\n",
              "      if (!google.colab.kernel.accessAllowed) {\n",
              "        return;\n",
              "      }\n",
              "      const div = document.createElement('div');\n",
              "      const label = document.createElement('label');\n",
              "      label.textContent = `Downloading \"${filename}\": `;\n",
              "      div.appendChild(label);\n",
              "      const progress = document.createElement('progress');\n",
              "      progress.max = size;\n",
              "      div.appendChild(progress);\n",
              "      document.body.appendChild(div);\n",
              "\n",
              "      const buffers = [];\n",
              "      let downloaded = 0;\n",
              "\n",
              "      const channel = await google.colab.kernel.comms.open(id);\n",
              "      // Send a message to notify the kernel that we're ready.\n",
              "      channel.send({})\n",
              "\n",
              "      for await (const message of channel.messages) {\n",
              "        // Send a message to notify the kernel that we're ready.\n",
              "        channel.send({})\n",
              "        if (message.buffers) {\n",
              "          for (const buffer of message.buffers) {\n",
              "            buffers.push(buffer);\n",
              "            downloaded += buffer.byteLength;\n",
              "            progress.value = downloaded;\n",
              "          }\n",
              "        }\n",
              "      }\n",
              "      const blob = new Blob(buffers, {type: 'application/binary'});\n",
              "      const a = document.createElement('a');\n",
              "      a.href = window.URL.createObjectURL(blob);\n",
              "      a.download = filename;\n",
              "      div.appendChild(a);\n",
              "      a.click();\n",
              "      div.remove();\n",
              "    }\n",
              "  "
            ],
            "text/plain": [
              "<IPython.core.display.Javascript object>"
            ]
          },
          "metadata": {
            "tags": []
          }
        },
        {
          "output_type": "display_data",
          "data": {
            "application/javascript": [
              "download(\"download_021eeee1-a06c-4f28-a7b0-719fff808510\", \"rolling_cv_oahu_nsfts.csv\", 2800)"
            ],
            "text/plain": [
              "<IPython.core.display.Javascript object>"
            ]
          },
          "metadata": {
            "tags": []
          }
        }
      ]
    },
    {
      "cell_type": "markdown",
      "metadata": {
        "id": "GJo1NvXBiKLi"
      },
      "source": [
        "## Results Analysis"
      ]
    },
    {
      "cell_type": "code",
      "metadata": {
        "id": "MtvdyqvleWaC",
        "colab": {
          "resources": {
            "http://localhost:8080/nbextensions/google.colab/files.js": {
              "data": "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",
              "ok": true,
              "headers": [
                [
                  "content-type",
                  "application/javascript"
                ]
              ],
              "status": 200,
              "status_text": ""
            }
          },
          "base_uri": "https://localhost:8080/",
          "height": 262
        },
        "outputId": "a455fc9b-87ab-4a5b-fc22-06f301ac55d7"
      },
      "source": [
        "files.upload()"
      ],
      "execution_count": null,
      "outputs": [
        {
          "output_type": "display_data",
          "data": {
            "text/html": [
              "\n",
              "     <input type=\"file\" id=\"files-5d22f8c8-4a98-4113-9a1a-68cc66a4d553\" name=\"files[]\" multiple disabled\n",
              "        style=\"border:none\" />\n",
              "     <output id=\"result-5d22f8c8-4a98-4113-9a1a-68cc66a4d553\">\n",
              "      Upload widget is only available when the cell has been executed in the\n",
              "      current browser session. Please rerun this cell to enable.\n",
              "      </output>\n",
              "      <script src=\"/nbextensions/google.colab/files.js\"></script> "
            ],
            "text/plain": [
              "<IPython.core.display.HTML object>"
            ]
          },
          "metadata": {
            "tags": []
          }
        },
        {
          "output_type": "stream",
          "text": [
            "Saving rolling_cv_oahu_hofts.csv to rolling_cv_oahu_hofts (1).csv\n",
            "Saving rolling_cv_oahu_mlp_uni.csv to rolling_cv_oahu_mlp_uni (1).csv\n",
            "Saving rolling_cv_oahu_nsfts.csv to rolling_cv_oahu_nsfts (1).csv\n",
            "Saving rolling_cv_oahu_persistence.csv to rolling_cv_oahu_persistence (1).csv\n"
          ],
          "name": "stdout"
        },
        {
          "output_type": "execute_result",
          "data": {
            "text/plain": [
              "{'rolling_cv_oahu_hofts.csv': b',Split,RMSE,SMAPE,U\\n0,2010-07-01,88.47278991100329,21.44081098852614,\\n1,2010-07-08,95.4842420758588,23.70239122471398,\\n2,2010-07-15,87.97068770869812,23.12009787496985,\\n3,2010-07-22,89.18629383474614,24.4396982156746,\\n4,2010-07-29,93.33665096238116,24.61025901005853,\\n5,2010-08-05,78.03159052188657,25.218850536806976,\\n6,2010-08-12,88.86597811501989,26.446714442757134,\\n7,2010-08-19,106.89981580485086,28.642798103866646,\\n8,2010-08-26,79.25539254792456,28.598457627141343,\\n9,2010-09-02,86.1965812776939,28.847541409291082,\\n10,2010-09-09,85.30182152609514,30.46602247956738,\\n11,2010-09-16,70.94217449151095,28.879190374745058,\\n12,2010-09-23,65.68311507677367,29.54765849440335,\\n13,2010-09-30,68.57287565742811,30.944236416488597,\\n14,2010-10-07,79.16871454885688,32.47975706112374,\\n15,2010-10-14,68.9642538202999,32.92703151718808,\\n16,2010-10-21,58.365840307492455,32.84016190167871,\\n17,2010-10-28,61.50465209080145,33.31259191757034,\\n18,2010-11-04,53.88320016353371,33.7394760864604,\\n19,2010-11-11,35.469842274792065,32.367376773384656,\\n20,2010-11-18,56.01503985442269,35.36856969814128,\\n21,2010-11-25,35.987156876602704,36.97254760442793,\\n22,2010-12-02,54.81889624365003,37.2863269631771,\\n23,2010-12-09,51.745094848646545,33.089293813459506,\\n24,2010-12-16,60.48587345481534,35.85511884254735,\\n25,2010-12-23,51.89833243254276,34.78468298692328,\\n26,2010-12-30,69.97441151488364,33.013922613089754,\\n27,2011-01-06,53.82873208464107,31.487321674847983,\\n28,2011-01-13,63.78788542730058,32.866559890862476,\\n29,2011-01-20,64.89734849261647,32.30050736647934,\\n30,2011-01-27,60.803854381832984,31.78673064900741,\\n31,2011-02-03,78.36337804339725,30.489257565521893,\\n32,2011-02-10,73.57159760653036,30.241947665501577,\\n33,2011-02-17,76.04958197716088,27.856762051643386,\\n34,2011-02-24,78.17618291082327,27.569362745678017,\\n35,2011-03-03,77.84713921920377,25.683150445870375,\\n36,2011-03-10,80.91057735593641,26.347781704966692,\\n37,2011-03-17,80.68682737335571,26.522997521046186,\\n38,2011-03-24,71.558239308163,24.40105082035595,\\n39,2011-03-31,70.8232751118289,22.67912803944241,\\n40,2011-04-07,82.369259639484,23.41184887429412,\\n41,2011-04-14,61.00933804326454,23.78992050024616,\\n42,2011-04-21,83.03971363946104,22.32410855905021,\\n43,2011-04-28,82.62927555039978,20.475957279926575,\\n44,2011-05-05,88.4498439045718,20.761544670109828,\\n45,2011-05-12,77.46396913604102,21.6989189477072,\\n46,2011-05-19,94.4366211864043,20.890234688099174,\\n47,2011-05-26,77.93886615452641,20.072147665701472,\\n48,2011-06-02,89.09513424090942,20.50352020729609,\\n49,2011-06-09,83.31946814661033,20.47564295808584,\\n50,2011-06-16,92.88211989330904,21.10630235350742,\\n51,2011-06-23,81.81349388731624,20.408530505542284,\\n52,2011-06-30,89.19018695671593,22.230787853448636,\\n53,2011-07-07,80.80977621184653,21.109391401700954,\\n',\n",
              " 'rolling_cv_oahu_mlp_uni.csv': b',Split,RMSE,SMAPE,U\\n0,2010-07-01,72.80458088815872,19.0177112589942,\\n1,2010-07-08,70.43705435467741,20.698499084763615,\\n2,2010-07-15,81.70905261058952,20.911631673453122,\\n3,2010-07-22,67.78358746368978,21.4640239936686,\\n4,2010-07-29,77.57820394024701,21.30653884126536,\\n5,2010-08-05,64.0781586154024,21.631281771667144,\\n6,2010-08-12,72.58603177806195,23.697030107093862,\\n7,2010-08-19,85.55990553786407,26.26119593349011,\\n8,2010-08-26,63.817961901969475,25.397885657577966,\\n9,2010-09-02,68.77949167088843,26.47924566687992,\\n10,2010-09-09,68.96161232648916,28.026342251710222,\\n11,2010-09-16,54.21148981964109,26.322809235180028,\\n12,2010-09-23,52.59449066952889,27.539449858150366,\\n13,2010-09-30,64.24621976731041,28.056398974569873,\\n14,2010-10-07,61.96172182105622,30.106158581678788,\\n15,2010-10-14,53.1931398726525,29.724418327827895,\\n16,2010-10-21,53.93759084208576,31.140647305327178,\\n17,2010-10-28,50.3657803417725,30.975600077103227,\\n18,2010-11-04,46.42197854725602,30.97594912900521,\\n19,2010-11-11,28.2298223050793,29.5190178796373,\\n20,2010-11-18,50.46172545646936,33.67784032998616,\\n21,2010-11-25,24.18294767681083,33.3323474933038,\\n22,2010-12-02,47.2684674782505,35.42092263023006,\\n23,2010-12-09,50.35541969015552,30.66475604791266,\\n24,2010-12-16,55.20466564049646,32.976545837545586,\\n25,2010-12-23,46.60540970751111,34.952285741596455,\\n26,2010-12-30,58.992935020190785,30.912484162621666,\\n27,2011-01-06,46.47002357367586,28.197556258204447,\\n28,2011-01-13,58.7032744825433,30.332091874346922,\\n29,2011-01-20,56.50061957507705,29.451206127919523,\\n30,2011-01-27,47.598075384773594,29.927539174624616,\\n31,2011-02-03,70.46437948379183,30.97028753153193,\\n32,2011-02-10,64.01814418497656,27.672785540242913,\\n33,2011-02-17,70.0826990532331,24.751819355475376,\\n34,2011-02-24,68.07251859360981,27.087916524208268,\\n35,2011-03-03,66.94864959184788,22.143245412775375,\\n36,2011-03-10,82.0658492831037,24.24492633122096,\\n37,2011-03-17,63.560477050301934,23.97913410558408,\\n38,2011-03-24,63.40506132456206,21.180571832374092,\\n39,2011-03-31,56.434286860502674,19.523954528516548,\\n40,2011-04-07,69.31650112398064,20.19792404712026,\\n41,2011-04-14,45.42464035266102,19.620164739321773,\\n42,2011-04-21,69.13514766585071,19.552478823542053,\\n43,2011-04-28,70.02931292005712,17.746724760434514,\\n44,2011-05-05,75.48624642701196,18.11834056595421,\\n45,2011-05-12,65.86959179402609,20.4767828666995,\\n46,2011-05-19,78.32971170603369,17.935830203639533,\\n47,2011-05-26,62.6422810132784,16.090643072222278,\\n48,2011-06-02,72.24918970702903,16.980944326947657,\\n49,2011-06-09,67.27873455143525,17.002804770331476,\\n50,2011-06-16,71.94724520358959,20.487212848983763,\\n51,2011-06-23,71.14914600128475,16.748598134648013,\\n52,2011-06-30,73.4551318322101,18.42189009662801,\\n53,2011-07-07,63.57362290212135,17.15417876723631,\\n',\n",
              " 'rolling_cv_oahu_nsfts.csv': b',Split,RMSE,SMAPE,U\\n0,2010-07-01,106.4912225218316,23.34344563049333,\\n1,2010-07-08,117.9680277891912,26.35350667427327,\\n2,2010-07-15,115.6728656026481,25.28759281606768,\\n3,2010-07-22,114.6934462289865,27.04154913224753,\\n4,2010-07-29,115.54066342187315,25.65357678844533,\\n5,2010-08-05,99.25547595199646,26.952707250066176,\\n6,2010-08-12,114.90520581077695,28.39170434727475,\\n7,2010-08-19,133.3210978715766,31.739958548988817,\\n8,2010-08-26,99.66833255644647,30.92947646598691,\\n9,2010-09-02,108.24518903377066,31.695381604230516,\\n10,2010-09-09,106.52872282978382,32.36603748013038,\\n11,2010-09-16,88.41322179768777,30.760949468491543,\\n12,2010-09-23,84.10373048640726,31.548712295348714,\\n13,2010-09-30,91.07492041828425,33.20263791534504,\\n14,2010-10-07,101.37287675820427,35.34456616204609,\\n15,2010-10-14,87.39686260423481,34.72354737338146,\\n16,2010-10-21,78.52709385840488,35.261154433031656,\\n17,2010-10-28,79.66303627481261,36.33607498804929,\\n18,2010-11-04,70.12416664766673,35.27969787523722,\\n19,2010-11-11,46.90866102099919,34.04376774651335,\\n20,2010-11-18,68.55566753025322,37.60524666502538,\\n21,2010-11-25,52.84423403611958,39.306485384958414,\\n22,2010-12-02,76.53811317690877,41.09383852098626,\\n23,2010-12-09,70.00470615039087,34.59553561078449,\\n24,2010-12-16,88.23127589141816,38.34550546987106,\\n25,2010-12-23,67.9180558565337,36.80979032494562,\\n26,2010-12-30,95.201627357486,35.58131566631344,\\n27,2011-01-06,75.05201654374176,33.659948830911745,\\n28,2011-01-13,80.47759596854283,34.54790605312693,\\n29,2011-01-20,82.34318127766345,34.68368678972512,\\n30,2011-01-27,81.02402009908776,34.3409873773834,\\n31,2011-02-03,96.78057189106224,33.067445970952456,\\n32,2011-02-10,89.85297178813919,32.694286278927784,\\n33,2011-02-17,93.30457180129353,30.132973276973008,\\n34,2011-02-24,92.62490800586076,29.583641965126628,\\n35,2011-03-03,95.68933640038344,27.984532665020804,\\n36,2011-03-10,107.9492644755791,28.96173644086984,\\n37,2011-03-17,103.88917852960228,28.31835451311137,\\n38,2011-03-24,100.25058259401406,26.742118806668813,\\n39,2011-03-31,92.34337024326543,24.956292399818487,\\n40,2011-04-07,115.08174812450542,27.156789397876853,\\n41,2011-04-14,89.79147689812052,26.55496211352157,\\n42,2011-04-21,108.17680245624068,26.30320459273065,\\n43,2011-04-28,103.16817832044384,21.92264148691482,\\n44,2011-05-05,116.6652122367897,23.725354074774305,\\n45,2011-05-12,101.4728365476438,24.221301771818645,\\n46,2011-05-19,119.93995565191794,23.066656905152787,\\n47,2011-05-26,100.36623520820255,21.721854144859797,\\n48,2011-06-02,109.82689589059012,21.99465387241657,\\n49,2011-06-09,110.46413562047569,22.711574547890844,\\n50,2011-06-16,119.19115874691353,22.983480375958617,\\n51,2011-06-23,97.35306411810743,21.924670896649108,\\n52,2011-06-30,113.09963063968601,25.9024740388897,\\n53,2011-07-07,105.96627379746498,23.873977165683744,\\n',\n",
              " 'rolling_cv_oahu_persistence.csv': b',Split,RMSE,SMAPE,U\\n0,2010-06-01,128.9790455433792,20.337328753837486,\\n1,2010-06-08,121.32871674415473,19.39376966394719,\\n2,2010-06-15,152.56262373473783,23.49976138655402,\\n3,2010-06-22,144.27194479953695,24.313798897107638,\\n4,2010-06-29,136.57334404719754,23.59143547207806,\\n5,2010-07-06,124.56021783197745,23.953635212414394,\\n6,2010-07-13,139.739710154213,24.662072938477827,\\n7,2010-07-20,129.66332852039594,24.918058205116306,\\n8,2010-07-27,124.18160935546305,25.893709560980444,\\n9,2010-08-03,122.19014216382178,25.95711153211438,\\n10,2010-08-10,139.11113080889857,28.501313801869806,\\n11,2010-08-17,135.688359747116,28.969628330951824,\\n12,2010-08-24,136.81367450712992,30.808135843227717,\\n13,2010-08-31,132.1821813874145,30.85451524093682,\\n14,2010-09-07,115.53421753471517,31.3821330642316,\\n15,2010-09-14,117.78367115234296,31.248264007493244,\\n16,2010-09-21,87.62316983007227,30.38555832969916,\\n17,2010-09-28,83.35977418800722,31.414740285687525,\\n18,2010-10-05,121.01934528982359,34.856321524965665,\\n19,2010-10-12,102.25385191093443,35.132057564082295,\\n20,2010-10-19,87.71045585969559,34.765618847710336,\\n21,2010-10-26,84.0832618005943,35.139394181691536,\\n22,2010-11-02,70.04851582031169,34.344747328230525,\\n23,2010-11-09,63.98972029782774,34.527803968701406,\\n24,2010-11-16,78.2849244082716,35.667361551380026,\\n25,2010-11-23,43.30152537388447,35.50784918976419,\\n26,2010-11-30,62.04495425191603,37.10350569059745,\\n27,2010-12-07,78.56296741108885,35.79132618225043,\\n28,2010-12-14,86.7401786218353,36.22205554044533,\\n29,2010-12-21,80.60522178443098,36.73005494742063,\\n30,2010-12-28,102.16939195924058,35.88296002699644,\\n31,2011-01-04,72.47105712790218,33.14839581569805,\\n32,2011-01-11,81.29660537348686,33.474390555749,\\n33,2011-01-18,98.65438846669005,33.71957402827578,\\n34,2011-01-25,78.6868639830684,32.35296243987891,\\n35,2011-02-01,98.43510739056116,31.433343852272174,\\n36,2011-02-08,108.59490407001302,32.13700310167005,\\n37,2011-02-15,120.56782724514127,30.48890950156994,\\n38,2011-02-22,104.09436814121264,29.18670842930479,\\n39,2011-03-01,121.72608143162583,28.30563301677677,\\n40,2011-03-08,124.67040501707709,28.09196982918606,\\n41,2011-03-15,109.17796178274726,27.559683095876526,\\n42,2011-03-22,107.8369322547118,26.199302477694935,\\n43,2011-03-29,101.54466619287116,23.783215401249947,\\n44,2011-04-05,112.70316276724414,24.344457858854042,\\n45,2011-04-12,96.24601468228553,24.143007294274813,\\n46,2011-04-19,104.68505738131202,22.725184772823223,\\n47,2011-04-26,125.94548670063612,22.96163117104135,\\n48,2011-05-03,122.21212401709734,21.159846828791185,\\n49,2011-05-10,120.97521356865786,22.705291051091116,\\n50,2011-05-17,133.66382168348255,22.55975286641052,\\n51,2011-05-24,102.43075902366317,19.368243203934846,\\n52,2011-05-31,129.48933734811303,21.761894384551002,\\n53,2011-06-07,142.96262220429793,22.348178255336588,\\n'}"
            ]
          },
          "metadata": {
            "tags": []
          },
          "execution_count": 55
        }
      ]
    },
    {
      "cell_type": "code",
      "metadata": {
        "id": "XXacWLz8bRHb"
      },
      "source": [
        "pd.options.display.float_format = '{:.4f}'.format"
      ],
      "execution_count": null,
      "outputs": []
    },
    {
      "cell_type": "code",
      "metadata": {
        "id": "RXlkpzmhbf0u"
      },
      "source": [
        "def createBoxplot(filename, data, xticklabels, ylabel):\n",
        "    # Create a figure instance\n",
        "    fig = plt.figure(1, figsize=(9, 6))\n",
        "\n",
        "    # Create an axes instance\n",
        "    ax = fig.add_subplot(111)\n",
        "\n",
        "    # Create the boxplot\n",
        "    bp = ax.boxplot(data, patch_artist=True)\n",
        "    \n",
        "    ## change outline color, fill color and linewidth of the boxes\n",
        "    for box in bp['boxes']:\n",
        "        # change outline color\n",
        "        box.set( color='#7570b3', linewidth=2)\n",
        "        # change fill color\n",
        "        box.set( facecolor = '#AACCFF' )\n",
        "\n",
        "    ## change color and linewidth of the whiskers\n",
        "    for whisker in bp['whiskers']:\n",
        "        whisker.set(color='#7570b3', linewidth=2)\n",
        "\n",
        "    ## change color and linewidth of the caps\n",
        "    for cap in bp['caps']:\n",
        "        cap.set(color='#7570b3', linewidth=2)\n",
        "\n",
        "    ## change color and linewidth of the medians\n",
        "    for median in bp['medians']:\n",
        "        median.set(color='#FFE680', linewidth=2)\n",
        "\n",
        "    ## change the style of fliers and their fill\n",
        "    for flier in bp['fliers']:\n",
        "        flier.set(marker='o', color='#e7298a', alpha=0.5)\n",
        "    \n",
        "    ## Custom x-axis labels\n",
        "    ax.set_xticklabels(xticklabels)\n",
        "    ax.set_ylabel(ylabel)\n",
        "    plt.show()\n",
        "    fig.savefig(filename, bbox_inches='tight')"
      ],
      "execution_count": null,
      "outputs": []
    },
    {
      "cell_type": "code",
      "metadata": {
        "id": "yeOlbse2_-jH",
        "colab": {
          "base_uri": "https://localhost:8080/",
          "height": 102
        },
        "outputId": "4d5131d4-ca92-4bb1-d92b-5c4b623a5d34"
      },
      "source": [
        "!ls"
      ],
      "execution_count": null,
      "outputs": [
        {
          "output_type": "stream",
          "text": [
            "best_EXP_OAHU_FTS.pkl\t     rolling_cv_oahu_nsfts.csv\n",
            "nsfts_boxplot_rmse_oahu.png  rolling_cv_oahu_persistence.csv\n",
            "rolling_cv_oahu_fts.csv      sample_data\n",
            "rolling_cv_oahu_hofts.csv    trials_EXP_OAHU_FTS.pkl\n",
            "rolling_cv_oahu_mlp_uni.csv\n"
          ],
          "name": "stdout"
        }
      ]
    },
    {
      "cell_type": "code",
      "metadata": {
        "id": "ENEVrj9bbkBT"
      },
      "source": [
        "fts_results = pd.read_csv(\"rolling_cv_oahu_fts.csv\")\n",
        "hofts_results = pd.read_csv(\"rolling_cv_oahu_hofts.csv\")\n",
        "mlp_results = pd.read_csv(\"rolling_cv_oahu_mlp_uni.csv\")\n",
        "nsfts_results = pd.read_csv(\"rolling_cv_oahu_nsfts.csv\")\n",
        "persistence_results = pd.read_csv(\"rolling_cv_oahu_persistence.csv\")"
      ],
      "execution_count": null,
      "outputs": []
    },
    {
      "cell_type": "code",
      "metadata": {
        "id": "4rADoHb1bqBZ",
        "colab": {
          "base_uri": "https://localhost:8080/",
          "height": 374
        },
        "outputId": "17e4490b-0273-4d49-d405-e485ba6f584e"
      },
      "source": [
        "metric = 'RMSE'\n",
        "results_data = [persistence_results[metric],mlp_results[metric], fts_results[metric], hofts_results[metric], nsfts_results[metric]]\n",
        "xticks = ['Persistence','MLP','FTS','HOFTS','NSFTS']\n",
        "\n",
        "ylab = 'RMSE'\n",
        "createBoxplot(\"nsfts_boxplot_rmse_oahu\", results_data, xticks, ylab)"
      ],
      "execution_count": null,
      "outputs": [
        {
          "output_type": "display_data",
          "data": {
            "image/png": "[encoded data removed]",
            "text/plain": [
              "<Figure size 648x432 with 1 Axes>"
            ]
          },
          "metadata": {
            "tags": [],
            "needs_background": "light"
          }
        }
      ]
    },
    {
      "cell_type": "code",
      "metadata": {
        "id": "FKv6eTHJRoZu"
      },
      "source": [
        "metric = 'RMSE'\n",
        "rmse_df = pd.DataFrame(columns=['Persistence','MLP', 'FTS', 'HOFTS','NSFTS'])\n",
        "\n",
        "rmse_df[\"Persistence\"] = persistence_results[metric]\n",
        "rmse_df[\"MLP\"] = mlp_results[metric]\n",
        "rmse_df[\"FTS\"] = fts_results[metric]\n",
        "rmse_df[\"HOFTS\"] = hofts_results[metric]\n",
        "rmse_df[\"NSFTS\"] = nsfts_results[metric]"
      ],
      "execution_count": null,
      "outputs": []
    },
    {
      "cell_type": "code",
      "metadata": {
        "id": "VoQF7PtpRthA",
        "colab": {
          "base_uri": "https://localhost:8080/",
          "height": 255
        },
        "outputId": "532ad18e-ed52-4da9-bcf5-f7c097551f1d"
      },
      "source": [
        "print(\"Mean\")\n",
        "print(rmse_df.mean())\n",
        "print(\"std\")\n",
        "print(rmse_df.std())"
      ],
      "execution_count": null,
      "outputs": [
        {
          "output_type": "stream",
          "text": [
            "Mean\n",
            "Persistence   108.3710\n",
            "MLP            62.2693\n",
            "FTS           202.2251\n",
            "HOFTS          74.4117\n",
            "NSFTS          95.9503\n",
            "dtype: float64\n",
            "std\n",
            "Persistence   24.5902\n",
            "MLP           12.3838\n",
            "FTS           32.6566\n",
            "HOFTS         14.9495\n",
            "NSFTS         17.7036\n",
            "dtype: float64\n"
          ],
          "name": "stdout"
        }
      ]
    },
    {
      "cell_type": "markdown",
      "metadata": {
        "id": "n7csfYzRRxAE"
      },
      "source": [
        "#### SMAPE"
      ]
    },
    {
      "cell_type": "code",
      "metadata": {
        "id": "IZpf9XqeR0sX",
        "colab": {
          "base_uri": "https://localhost:8080/",
          "height": 374
        },
        "outputId": "f053d895-c41e-42dd-81a2-ff9b91d65698"
      },
      "source": [
        "metric = 'SMAPE'\n",
        "results_data = [persistence_results[metric],mlp_results[metric], fts_results[metric], hofts_results[metric], nsfts_results[metric]]\n",
        "xticks = ['Persistence','MLP','FTS','HOFTS','NSFTS']\n",
        "\n",
        "ylab = 'SMAPE'\n",
        "createBoxplot(\"nsfts_boxplot_smape_oahu\", results_data, xticks, ylab)"
      ],
      "execution_count": null,
      "outputs": [
        {
          "output_type": "display_data",
          "data": {
            "image/png": "[encoded data removed]",
            "text/plain": [
              "<Figure size 648x432 with 1 Axes>"
            ]
          },
          "metadata": {
            "tags": [],
            "needs_background": "light"
          }
        }
      ]
    },
    {
      "cell_type": "code",
      "metadata": {
        "id": "uiR41GadR5T_"
      },
      "source": [
        "metric = 'SMAPE'\n",
        "smape_df = pd.DataFrame(columns=['Persistence','MLP','FTS','HOFTS','NSFTS'])\n",
        "\n",
        "smape_df[\"Persistence\"] = persistence_results[metric]\n",
        "smape_df[\"MLP\"] = mlp_results[metric]\n",
        "smape_df[\"FTS\"] = fts_results[metric]\n",
        "smape_df[\"HOFTS\"] = hofts_results[metric]\n",
        "smape_df[\"NSFTS\"] = nsfts_results[metric]"
      ],
      "execution_count": null,
      "outputs": []
    },
    {
      "cell_type": "code",
      "metadata": {
        "id": "CTOOz1k6SBgH",
        "colab": {
          "base_uri": "https://localhost:8080/",
          "height": 255
        },
        "outputId": "d2b5b171-d5a4-4c98-8027-aca0fcf937b8"
      },
      "source": [
        "print(\"Mean\")\n",
        "print(smape_df.mean())\n",
        "print(\"std\")\n",
        "print(smape_df.std())"
      ],
      "execution_count": null,
      "outputs": [
        {
          "output_type": "stream",
          "text": [
            "Mean\n",
            "Persistence   28.8095\n",
            "MLP           24.9479\n",
            "FTS           48.2877\n",
            "HOFTS         27.5636\n",
            "NSFTS         29.8765\n",
            "dtype: float64\n",
            "std\n",
            "Persistence   5.3062\n",
            "MLP           5.5608\n",
            "FTS           5.4983\n",
            "HOFTS         5.1762\n",
            "NSFTS         5.2355\n",
            "dtype: float64\n"
          ],
          "name": "stdout"
        }
      ]
    }
  ]
}