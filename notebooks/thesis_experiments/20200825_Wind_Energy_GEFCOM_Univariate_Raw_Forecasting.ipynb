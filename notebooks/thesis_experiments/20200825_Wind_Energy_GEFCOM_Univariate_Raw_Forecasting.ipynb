{
  "nbformat": 4,
  "nbformat_minor": 0,
  "metadata": {
    "colab": {
      "name": "20200825 - Wind Energy GEFCOM - Univariate Raw Forecasting.ipynb",
      "provenance": [],
      "collapsed_sections": [
        "YOaXlHm2Ltrq",
        "CDsjp5tyVcy-",
        "jrYz_tsNVoGT",
        "4vg4I3j4Mq98",
        "ecW_JhN8Mq-F"
      ],
      "toc_visible": true,
      "authorship_tag": "ABX9TyPQVQ9SB8DoEPT7LFQXqXNX",
      "include_colab_link": true
    },
    "kernelspec": {
      "name": "python3",
      "display_name": "Python 3"
    }
  },
  "cells": [
    {
      "cell_type": "markdown",
      "metadata": {
        "id": "view-in-github",
        "colab_type": "text"
      },
      "source": [
        "<a href=\"https://colab.research.google.com/github/cseveriano/spatio-temporal-forecasting/blob/master/notebooks/thesis_experiments/20200825_Wind_Energy_GEFCOM_Univariate_Raw_Forecasting.ipynb\" target=\"_parent\"><img src=\"https://colab.research.google.com/assets/colab-badge.svg\" alt=\"Open In Colab\"/></a>"
      ]
    },
    {
      "cell_type": "code",
      "metadata": {
        "id": "PVr_5OIxHdzw",
        "colab": {
          "base_uri": "https://localhost:8080/",
          "height": 853
        },
        "outputId": "ff60b4c2-dff1-4ffd-9bc2-072f7ceff731"
      },
      "source": [
        "!pip3 install -U git+https://github.com/PYFTS/pyFTS\n",
        "!pip3 install -U git+https://github.com/cseveriano/spatio-temporal-forecasting\n",
        "!pip3 install -U hyperopt\n",
        "!pip install pyts"
      ],
      "execution_count": null,
      "outputs": [
        {
          "output_type": "stream",
          "text": [
            "Collecting git+https://github.com/PYFTS/pyFTS\n",
            "  Cloning https://github.com/PYFTS/pyFTS to /tmp/pip-req-build-xyga9_a4\n",
            "  Running command git clone -q https://github.com/PYFTS/pyFTS /tmp/pip-req-build-xyga9_a4\n",
            "Building wheels for collected packages: pyFTS\n",
            "  Building wheel for pyFTS (setup.py) ... \u001b[?25l\u001b[?25hdone\n",
            "  Created wheel for pyFTS: filename=pyFTS-1.6-cp36-none-any.whl size=207416 sha256=18a4c41879a3df5e271fd08ac257129719495616c5329e95c679e72c47320b9d\n",
            "  Stored in directory: /tmp/pip-ephem-wheel-cache-a5s464u3/wheels/e7/32/a9/230470113df5a73242a5a6d05671cb646db97abf14bbce2644\n",
            "Successfully built pyFTS\n",
            "Installing collected packages: pyFTS\n",
            "Successfully installed pyFTS-1.6\n",
            "Collecting git+https://github.com/cseveriano/spatio-temporal-forecasting\n",
            "  Cloning https://github.com/cseveriano/spatio-temporal-forecasting to /tmp/pip-req-build-lbcxef3q\n",
            "  Running command git clone -q https://github.com/cseveriano/spatio-temporal-forecasting /tmp/pip-req-build-lbcxef3q\n",
            "Building wheels for collected packages: spatio-temporal-forecasting\n",
            "  Building wheel for spatio-temporal-forecasting (setup.py) ... \u001b[?25l\u001b[?25hdone\n",
            "  Created wheel for spatio-temporal-forecasting: filename=spatio_temporal_forecasting-1.0-cp36-none-any.whl size=55633 sha256=6cece2642cb0118fe42cc95483e71a660a1ba6860fadc05f2a7c4c1b3a2996db\n",
            "  Stored in directory: /tmp/pip-ephem-wheel-cache-_q2rfsgg/wheels/d2/1f/6f/439795864246039ef36c6a3c88edf7935c803c2cf97133066a\n",
            "Successfully built spatio-temporal-forecasting\n",
            "Installing collected packages: spatio-temporal-forecasting\n",
            "Successfully installed spatio-temporal-forecasting-1.0\n",
            "Collecting hyperopt\n",
            "\u001b[?25l  Downloading https://files.pythonhosted.org/packages/90/d5/c7e276f4f7bc65ac26391c435245e5ef8911b4393e3df5a74906c48afeaf/hyperopt-0.2.4-py2.py3-none-any.whl (964kB)\n",
            "\u001b[K     |████████████████████████████████| 972kB 2.9MB/s \n",
            "\u001b[?25hRequirement already satisfied, skipping upgrade: scipy in /usr/local/lib/python3.6/dist-packages (from hyperopt) (1.4.1)\n",
            "Requirement already satisfied, skipping upgrade: six in /usr/local/lib/python3.6/dist-packages (from hyperopt) (1.15.0)\n",
            "Requirement already satisfied, skipping upgrade: networkx>=2.2 in /usr/local/lib/python3.6/dist-packages (from hyperopt) (2.5)\n",
            "Requirement already satisfied, skipping upgrade: cloudpickle in /usr/local/lib/python3.6/dist-packages (from hyperopt) (1.3.0)\n",
            "Requirement already satisfied, skipping upgrade: future in /usr/local/lib/python3.6/dist-packages (from hyperopt) (0.16.0)\n",
            "Requirement already satisfied, skipping upgrade: numpy in /usr/local/lib/python3.6/dist-packages (from hyperopt) (1.18.5)\n",
            "Requirement already satisfied, skipping upgrade: tqdm in /usr/local/lib/python3.6/dist-packages (from hyperopt) (4.41.1)\n",
            "Requirement already satisfied, skipping upgrade: decorator>=4.3.0 in /usr/local/lib/python3.6/dist-packages (from networkx>=2.2->hyperopt) (4.4.2)\n",
            "Installing collected packages: hyperopt\n",
            "  Found existing installation: hyperopt 0.1.2\n",
            "    Uninstalling hyperopt-0.1.2:\n",
            "      Successfully uninstalled hyperopt-0.1.2\n",
            "Successfully installed hyperopt-0.2.4\n",
            "Collecting pyts\n",
            "\u001b[?25l  Downloading https://files.pythonhosted.org/packages/b6/2b/1a62c0d32b40ee85daa8f6a6160828537b3d846c9fe93253b38846c6ec1f/pyts-0.11.0-py3-none-any.whl (2.5MB)\n",
            "\u001b[K     |████████████████████████████████| 2.5MB 2.8MB/s \n",
            "\u001b[?25hRequirement already satisfied: scipy>=1.3.0 in /usr/local/lib/python3.6/dist-packages (from pyts) (1.4.1)\n",
            "Requirement already satisfied: numpy>=1.17.5 in /usr/local/lib/python3.6/dist-packages (from pyts) (1.18.5)\n",
            "Requirement already satisfied: joblib>=0.12 in /usr/local/lib/python3.6/dist-packages (from pyts) (0.16.0)\n",
            "Requirement already satisfied: numba>=0.48.0 in /usr/local/lib/python3.6/dist-packages (from pyts) (0.48.0)\n",
            "Requirement already satisfied: scikit-learn>=0.22.1 in /usr/local/lib/python3.6/dist-packages (from pyts) (0.22.2.post1)\n",
            "Requirement already satisfied: setuptools in /usr/local/lib/python3.6/dist-packages (from numba>=0.48.0->pyts) (49.6.0)\n",
            "Requirement already satisfied: llvmlite<0.32.0,>=0.31.0dev0 in /usr/local/lib/python3.6/dist-packages (from numba>=0.48.0->pyts) (0.31.0)\n",
            "Installing collected packages: pyts\n",
            "Successfully installed pyts-0.11.0\n"
          ],
          "name": "stdout"
        }
      ]
    },
    {
      "cell_type": "markdown",
      "metadata": {
        "id": "caMH1uPg4wte"
      },
      "source": [
        "## Aux Functions"
      ]
    },
    {
      "cell_type": "code",
      "metadata": {
        "id": "3yYKyI3A4zL3"
      },
      "source": [
        "import datetime\n",
        "\n",
        "def normalize(df):\n",
        "    mindf = df.min()\n",
        "    maxdf = df.max()\n",
        "    return (df-mindf)/(maxdf-mindf)\n",
        "\n",
        "def denormalize(norm, _min, _max):\n",
        "    return [(n * (_max-_min)) + _min for n in norm]\n",
        "\n",
        "\n",
        "def ssa_decomposition(df, period=144, embedding_dim=15, component_threshold=3):\n",
        "  main_inds = [i for i in range(component_threshold)]\n",
        "  res_inds = [i for i in range(component_threshold, embedding_dim)]\n",
        "\n",
        "  groups = [main_inds, res_inds]\n",
        "\n",
        "  stations = [c for c in df.columns if c not in ['zen', 'Ics']]\n",
        "  \n",
        "  clean_df = pd.DataFrame(columns = stations, index = df.index)\n",
        "  residual_df = pd.DataFrame(columns = stations, index = df.index)\n",
        "\n",
        "  for s in stations:\n",
        "    X = np.array(df[s].values)\n",
        "    X = X.reshape(1,len(X))\n",
        "    # Singular Spectrum Analysis\n",
        "    ssa = SingularSpectrumAnalysis(window_size=embedding_dim, groups=groups)\n",
        "    X_ssa = ssa.fit_transform(X)\n",
        "\n",
        "    clean_df[s] = X_ssa[0]\n",
        "    residual_df[s] = X_ssa[1]\n",
        "  return clean_df, residual_df\n",
        "\n",
        "import datetime\n",
        "\n",
        "def getRollingWindow(index):\n",
        "    pivot = index\n",
        "    train_start = pivot.strftime('%Y-%m-%d')\n",
        "    pivot = pivot + datetime.timedelta(days=20)\n",
        "    train_end = pivot.strftime('%Y-%m-%d')\n",
        "\n",
        "    pivot = pivot + datetime.timedelta(days=1)\n",
        "    test_start = pivot.strftime('%Y-%m-%d')\n",
        "    pivot = pivot + datetime.timedelta(days=6)\n",
        "    test_end = pivot.strftime('%Y-%m-%d')\n",
        "    \n",
        "    return train_start, train_end, test_start, test_end\n",
        "\n",
        "import datetime\n",
        "\n",
        "def getRollingWindow(index):\n",
        "    pivot = index\n",
        "    train_start = pivot.strftime('%Y-%m-%d')\n",
        "    pivot = pivot + datetime.timedelta(days=20)\n",
        "    train_end = pivot.strftime('%Y-%m-%d')\n",
        "\n",
        "    pivot = pivot + datetime.timedelta(days=1)\n",
        "    test_start = pivot.strftime('%Y-%m-%d')\n",
        "    pivot = pivot + datetime.timedelta(days=6)\n",
        "    test_end = pivot.strftime('%Y-%m-%d')\n",
        "    \n",
        "    return train_start, train_end, test_start, test_end\n",
        "\n",
        "def calculate_rolling_error(cv_name, df, forecasts, order_list):\n",
        "    cv_results = pd.DataFrame(columns=['Split', 'RMSE', 'SMAPE', 'U'])\n",
        "\n",
        "    limit = df.index[-1].strftime('%Y-%m-%d')\n",
        "\n",
        "    test_end = \"\"\n",
        "    index = df.index[0]\n",
        "\n",
        "    for i in np.arange(len(forecasts)):\n",
        "\n",
        "        train_start, train_end, test_start, test_end = getRollingWindow(index)\n",
        "        test = df[test_start : test_end]\n",
        "    \n",
        "        yhat = forecasts[i]\n",
        "        order = order_list[i]\n",
        "        \n",
        "        rmse = Measures.rmse(test[target_station].iloc[order:], yhat[:-1])\n",
        "        \n",
        "        smape = Measures.smape(test[target_station].iloc[order:], yhat[:-1])\n",
        "        \n",
        "        res = {'Split' : index.strftime('%Y-%m-%d') ,'RMSE' : rmse, 'SMAPE' : smape}\n",
        "        cv_results = cv_results.append(res, ignore_index=True)\n",
        "        cv_results.to_csv(cv_name+\".csv\")        \n",
        "\n",
        "        index = index + datetime.timedelta(days=7)\n",
        "\n",
        "def get_final_forecast(norm_forecasts):\n",
        "    \n",
        "    forecasts_final = []\n",
        "    \n",
        "    for i in np.arange(len(norm_forecasts)):\n",
        "        f_raw = denormalize(norm_forecasts[i], min_raw, max_raw)\n",
        "\n",
        "        forecasts_final.append(f_raw)\n",
        "        \n",
        "    return forecasts_final"
      ],
      "execution_count": null,
      "outputs": []
    },
    {
      "cell_type": "markdown",
      "metadata": {
        "id": "fb-jALBH5axG"
      },
      "source": [
        "## Load Dataset"
      ]
    },
    {
      "cell_type": "code",
      "metadata": {
        "id": "ZFG_5E2_5dDP"
      },
      "source": [
        "import pandas as pd\n",
        "import numpy as np\n",
        "from hyperopt import hp\n",
        "from spatiotemporal.util import parameter_tuning, sampling\n",
        "from spatiotemporal.util import experiments as ex\n",
        "from sklearn.metrics import mean_squared_error\n",
        "import matplotlib.pyplot as plt\n",
        "import pickle\n",
        "import math\n",
        "from pyFTS.benchmarks import Measures\n",
        "from pyts.decomposition import SingularSpectrumAnalysis\n",
        "from google.colab import files\n",
        "import warnings \n",
        "warnings.filterwarnings(\"ignore\", category=DeprecationWarning)"
      ],
      "execution_count": null,
      "outputs": []
    },
    {
      "cell_type": "code",
      "metadata": {
        "id": "nim3QRUN5fQ5"
      },
      "source": [
        "#Set target and input variables \n",
        "target_station = 'wp1'\n",
        "\n",
        "df = pd.read_csv('https://query.data.world/s/3zx2jusk4z6zvlg2dafqgshqp3oao6',  parse_dates=['date'], index_col=0)\n",
        "df.index = pd.to_datetime(df.index, format=\"%Y%m%d%H\")\n",
        "\n",
        "interval = ((df.index >= '2009-07') & (df.index <= '2010-08'))\n",
        "df = df.loc[interval]\n",
        "\n",
        "df_ssa_clean, df_ssa_residual = ssa_decomposition(df)\n",
        "\n",
        "#Normalize Data\n",
        "\n",
        "# Save Min-Max for Denorm\n",
        "min_raw = df[target_station].min()\n",
        "\n",
        "max_raw = df[target_station].max()\n",
        "\n",
        "# Perform Normalization\n",
        "norm_df = normalize(df)\n",
        "\n",
        "\n",
        "# Tuning split\n",
        "tuning_df = norm_df[\"2009-07-01\":\"2009-07-31\"]\n",
        "\n",
        "norm_df = norm_df[\"2009-08-01\":\"2010-08-30\"]\n",
        "df = df[\"2009-08-01\":\"2010-08-30\"]"
      ],
      "execution_count": null,
      "outputs": []
    },
    {
      "cell_type": "markdown",
      "metadata": {
        "id": "N8DjV_xq1b9Z"
      },
      "source": [
        "### Persistence"
      ]
    },
    {
      "cell_type": "code",
      "metadata": {
        "id": "80awOiDO1dmX"
      },
      "source": [
        "def persistence_forecast(train, test, step):\n",
        "    predictions = []\n",
        "    \n",
        "    for t in np.arange(0,len(test), step):\n",
        "        yhat = [test.iloc[t]]  * step\n",
        "        predictions.extend(yhat)\n",
        "        \n",
        "    return predictions\n",
        "\n",
        "def rolling_cv_persistence(df, step):\n",
        "\n",
        "    forecasts = []\n",
        "    lags_list = []\n",
        "\n",
        "    limit = df.index[-1].strftime('%Y-%m-%d')\n",
        "\n",
        "    test_end = \"\"\n",
        "    index = df.index[0]\n",
        "\n",
        "    while test_end < limit :\n",
        "        print(\"Index: \", index.strftime('%Y-%m-%d'))  \n",
        "\n",
        "        train_start, train_end, test_start, test_end = getRollingWindow(index)\n",
        "        index = index + datetime.timedelta(days=7)\n",
        "        \n",
        "        train = df[train_start : train_end]\n",
        "        test = df[test_start : test_end]\n",
        "    \n",
        "        yhat = persistence_forecast(train[target_station], test[target_station], step)        \n",
        "        \n",
        "        lags_list.append(1)\n",
        "        forecasts.append(yhat)\n",
        "\n",
        "    return forecasts, lags_list"
      ],
      "execution_count": null,
      "outputs": []
    },
    {
      "cell_type": "code",
      "metadata": {
        "id": "hoVUeMSk1j6O",
        "colab": {
          "base_uri": "https://localhost:8080/",
          "height": 867
        },
        "outputId": "24749943-9d7c-41f0-8e20-4ba78186265b"
      },
      "source": [
        "forecasts_raw, order_list = rolling_cv_persistence(norm_df, 1)\n",
        "forecasts_final = get_final_forecast(forecasts_raw)\n",
        "\n",
        "calculate_rolling_error(\"rolling_cv_wind_raw_persistence\", norm_df, forecasts_final, order_list)"
      ],
      "execution_count": null,
      "outputs": [
        {
          "output_type": "stream",
          "text": [
            "Index:  2009-08-01\n",
            "Index:  2009-08-08\n",
            "Index:  2009-08-15\n",
            "Index:  2009-08-22\n",
            "Index:  2009-08-29\n",
            "Index:  2009-09-05\n",
            "Index:  2009-09-12\n",
            "Index:  2009-09-19\n",
            "Index:  2009-09-26\n",
            "Index:  2009-10-03\n",
            "Index:  2009-10-10\n",
            "Index:  2009-10-17\n",
            "Index:  2009-10-24\n",
            "Index:  2009-10-31\n",
            "Index:  2009-11-07\n",
            "Index:  2009-11-14\n",
            "Index:  2009-11-21\n",
            "Index:  2009-11-28\n",
            "Index:  2009-12-05\n",
            "Index:  2009-12-12\n",
            "Index:  2009-12-19\n",
            "Index:  2009-12-26\n",
            "Index:  2010-01-02\n",
            "Index:  2010-01-09\n",
            "Index:  2010-01-16\n",
            "Index:  2010-01-23\n",
            "Index:  2010-01-30\n",
            "Index:  2010-02-06\n",
            "Index:  2010-02-13\n",
            "Index:  2010-02-20\n",
            "Index:  2010-02-27\n",
            "Index:  2010-03-06\n",
            "Index:  2010-03-13\n",
            "Index:  2010-03-20\n",
            "Index:  2010-03-27\n",
            "Index:  2010-04-03\n",
            "Index:  2010-04-10\n",
            "Index:  2010-04-17\n",
            "Index:  2010-04-24\n",
            "Index:  2010-05-01\n",
            "Index:  2010-05-08\n",
            "Index:  2010-05-15\n",
            "Index:  2010-05-22\n",
            "Index:  2010-05-29\n",
            "Index:  2010-06-05\n",
            "Index:  2010-06-12\n",
            "Index:  2010-06-19\n",
            "Index:  2010-06-26\n",
            "Index:  2010-07-03\n",
            "Index:  2010-07-10\n"
          ],
          "name": "stdout"
        }
      ]
    },
    {
      "cell_type": "code",
      "metadata": {
        "id": "Vcwc3Qt14HBn",
        "colab": {
          "base_uri": "https://localhost:8080/",
          "height": 17
        },
        "outputId": "1672a544-2436-4936-fe4c-1196c0ab2088"
      },
      "source": [
        "files.download('rolling_cv_wind_raw_persistence.csv')"
      ],
      "execution_count": null,
      "outputs": [
        {
          "output_type": "display_data",
          "data": {
            "application/javascript": [
              "\n",
              "    async function download(id, filename, size) {\n",
              "      if (!google.colab.kernel.accessAllowed) {\n",
              "        return;\n",
              "      }\n",
              "      const div = document.createElement('div');\n",
              "      const label = document.createElement('label');\n",
              "      label.textContent = `Downloading \"${filename}\": `;\n",
              "      div.appendChild(label);\n",
              "      const progress = document.createElement('progress');\n",
              "      progress.max = size;\n",
              "      div.appendChild(progress);\n",
              "      document.body.appendChild(div);\n",
              "\n",
              "      const buffers = [];\n",
              "      let downloaded = 0;\n",
              "\n",
              "      const channel = await google.colab.kernel.comms.open(id);\n",
              "      // Send a message to notify the kernel that we're ready.\n",
              "      channel.send({})\n",
              "\n",
              "      for await (const message of channel.messages) {\n",
              "        // Send a message to notify the kernel that we're ready.\n",
              "        channel.send({})\n",
              "        if (message.buffers) {\n",
              "          for (const buffer of message.buffers) {\n",
              "            buffers.push(buffer);\n",
              "            downloaded += buffer.byteLength;\n",
              "            progress.value = downloaded;\n",
              "          }\n",
              "        }\n",
              "      }\n",
              "      const blob = new Blob(buffers, {type: 'application/binary'});\n",
              "      const a = document.createElement('a');\n",
              "      a.href = window.URL.createObjectURL(blob);\n",
              "      a.download = filename;\n",
              "      div.appendChild(a);\n",
              "      a.click();\n",
              "      div.remove();\n",
              "    }\n",
              "  "
            ],
            "text/plain": [
              "<IPython.core.display.Javascript object>"
            ]
          },
          "metadata": {
            "tags": []
          }
        },
        {
          "output_type": "display_data",
          "data": {
            "application/javascript": [
              "download(\"download_c8aebc51-dbbe-4e22-a7e6-ccc15dce2b2e\", \"rolling_cv_wind_raw_persistence.csv\", 2681)"
            ],
            "text/plain": [
              "<IPython.core.display.Javascript object>"
            ]
          },
          "metadata": {
            "tags": []
          }
        }
      ]
    },
    {
      "cell_type": "markdown",
      "metadata": {
        "id": "9J5Xl-ATkZ9i"
      },
      "source": [
        "### Univariate MLP"
      ]
    },
    {
      "cell_type": "code",
      "metadata": {
        "id": "0bS4oGewknHx"
      },
      "source": [
        "from keras.models import Sequential\n",
        "from keras.layers import Dense\n",
        "from keras.layers import LSTM\n",
        "from keras.layers import Dropout\n",
        "from keras.constraints import maxnorm\n",
        "from keras.models import Sequential\n",
        "from keras.layers.core import Dense, Dropout, Activation\n",
        "from keras.layers.normalization import BatchNormalization"
      ],
      "execution_count": null,
      "outputs": []
    },
    {
      "cell_type": "code",
      "metadata": {
        "id": "UhHYgI3hneeu"
      },
      "source": [
        "# convert series to supervised learning\n",
        "def series_to_supervised(data, n_in=1, n_out=1, dropnan=True):\n",
        "    n_vars = 1 if type(data) is list else data.shape[1]\n",
        "    df = pd.DataFrame(data)\n",
        "    cols, names = list(), list()\n",
        "    # input sequence (t-n, ... t-1)\n",
        "    for i in range(n_in, 0, -1):\n",
        "        cols.append(df.shift(i))\n",
        "        names += [('var%d(t-%d)' % (j+1, i)) for j in range(n_vars)]\n",
        "    # forecast sequence (t, t+1, ... t+n)\n",
        "    for i in range(0, n_out):\n",
        "        cols.append(df.shift(-i))\n",
        "        if i == 0:\n",
        "            names += [('var%d(t)' % (j+1)) for j in range(n_vars)]\n",
        "        else:\n",
        "            names += [('var%d(t+%d)' % (j+1, i)) for j in range(n_vars)]\n",
        "    # put it all together\n",
        "    agg = pd.concat(cols, axis=1)\n",
        "    agg.columns = names\n",
        "    # drop rows with NaN values\n",
        "    if dropnan:\n",
        "        agg.dropna(inplace=True)\n",
        "    return agg"
      ],
      "execution_count": null,
      "outputs": []
    },
    {
      "cell_type": "markdown",
      "metadata": {
        "id": "MRjkv406AO3f"
      },
      "source": [
        "#### MLP Tuning"
      ]
    },
    {
      "cell_type": "code",
      "metadata": {
        "id": "J0QTkHF_AWTZ"
      },
      "source": [
        "mlp_space = {'choice':\n",
        "\n",
        "   hp.choice('num_layers',\n",
        "             [\n",
        "                 {'layers': 'two',\n",
        "                 },\n",
        "\n",
        "                 {'layers': 'three',\n",
        "\n",
        "                   'units3': hp.choice('units3', [8, 16, 64, 128, 256, 512]),\n",
        "                   'dropout3': hp.choice('dropout3', [0, 0.25, 0.5, 0.75])\n",
        "                  }\n",
        "\n",
        "             ]),\n",
        "   'units1': hp.choice('units1', [8, 16, 64, 128, 256, 512]),\n",
        "   'units2': hp.choice('units2', [8, 16, 64, 128, 256, 512]),\n",
        "\n",
        "   'dropout1': hp.choice('dropout1', [0, 0.25, 0.5, 0.75]),\n",
        "   'dropout2': hp.choice('dropout2', [0, 0.25, 0.5, 0.75]),\n",
        "\n",
        "   'batch_size': hp.choice('batch_size', [28, 64, 128, 256, 512]),\n",
        "   'order': hp.choice('order', [1, 2, 4, 8]),\n",
        "   'input': hp.choice('input', [target_station]),\n",
        "   'output': hp.choice('output', [target_station]),\n",
        "   'epochs': hp.choice('epochs', [100, 200, 300])}\n"
      ],
      "execution_count": null,
      "outputs": []
    },
    {
      "cell_type": "code",
      "metadata": {
        "id": "p68ya--QAZYF"
      },
      "source": [
        "def mlp_tuning(train_df, test_df, params):\n",
        "    _input = [target_station]\n",
        "    _nlags = params['order']\n",
        "    _epochs = params['epochs']\n",
        "    _batch_size = params['batch_size']\n",
        "    nfeat = len(_input)\n",
        "    nsteps = params.get('step',1)\n",
        "    nobs = _nlags * nfeat\n",
        "\n",
        "    output_index = -nfeat*nsteps\n",
        "\n",
        "    train_reshaped_df = series_to_supervised(train_df[_input].values, n_in=_nlags, n_out=nsteps)\n",
        "    train_X, train_Y = train_reshaped_df.iloc[:, :nobs].values, train_reshaped_df.iloc[:, output_index:].values\n",
        "\n",
        "    test_reshaped_df = series_to_supervised(test_df[_input].values, n_in=_nlags, n_out=nsteps)\n",
        "    test_X, test_Y = test_reshaped_df.iloc[:, :nobs].values, test_reshaped_df.iloc[:, output_index:].values\n",
        "\n",
        "    # design network\n",
        "    model = Sequential()\n",
        "    model.add(Dense(params['units1'], activation='relu', input_dim=train_X.shape[1]))\n",
        "    model.add(Dense(params['units2'], activation='relu'))\n",
        "    if params['choice']['layers'] == 'three':\n",
        "      model.add(Dense(params['choice']['units3'], activation='relu'))\n",
        "    model.add(Dense(1))\n",
        "    model.compile(loss='mean_squared_error', optimizer='adam')\n",
        "\n",
        "    # includes the call back object\n",
        "    model.fit(train_X, train_Y, epochs=_epochs, batch_size=_batch_size, verbose=False, shuffle=False)\n",
        "\n",
        "    # predict the test set\n",
        "    forecast = model.predict(test_X, verbose=False)\n",
        "\n",
        "    forecast = [f[0] for f in forecast]\n",
        "\n",
        "    return forecast\n"
      ],
      "execution_count": null,
      "outputs": []
    },
    {
      "cell_type": "code",
      "metadata": {
        "id": "RHpZzSSdAevd",
        "colab": {
          "base_uri": "https://localhost:8080/",
          "height": 1000
        },
        "outputId": "705edb9b-ed22-4051-cae1-9fc5e3627618"
      },
      "source": [
        "methods = []\n",
        "methods.append((\"EXP_WIND_MLP\", mlp_tuning, mlp_space))\n",
        "train_split = 0.6\n",
        "parameter_tuning.run_search(methods, tuning_df, train_split, Measures.rmse, max_evals=100, resample=None)"
      ],
      "execution_count": null,
      "outputs": [
        {
          "output_type": "stream",
          "text": [
            "Running experiment: EXP_WIND_MLP\n",
            "{'batch_size': 128, 'choice': {'layers': 'two'}, 'dropout1': 0.75, 'dropout2': 0.25, 'epochs': 300, 'input': 'wp1', 'order': 1, 'output': 'wp1', 'units1': 256, 'units2': 64}\n",
            "Error : 0.05869010342790571\n",
            "{'batch_size': 64, 'choice': {'dropout3': 0, 'layers': 'three', 'units3': 16}, 'dropout1': 0.75, 'dropout2': 0, 'epochs': 200, 'input': 'wp1', 'order': 1, 'output': 'wp1', 'units1': 16, 'units2': 256}\n",
            "Error : 0.058967307123306\n",
            "{'batch_size': 28, 'choice': {'layers': 'two'}, 'dropout1': 0.25, 'dropout2': 0.5, 'epochs': 200, 'input': 'wp1', 'order': 4, 'output': 'wp1', 'units1': 64, 'units2': 128}\n",
            "Error : 0.06439618318643585\n",
            "{'batch_size': 256, 'choice': {'layers': 'two'}, 'dropout1': 0, 'dropout2': 0.25, 'epochs': 300, 'input': 'wp1', 'order': 4, 'output': 'wp1', 'units1': 8, 'units2': 256}\n",
            "Error : 0.06302056012940518\n",
            "{'batch_size': 64, 'choice': {'dropout3': 0, 'layers': 'three', 'units3': 512}, 'dropout1': 0, 'dropout2': 0.5, 'epochs': 300, 'input': 'wp1', 'order': 2, 'output': 'wp1', 'units1': 64, 'units2': 8}\n",
            "Error : 0.059606235363811336\n",
            "{'batch_size': 64, 'choice': {'layers': 'two'}, 'dropout1': 0.75, 'dropout2': 0.75, 'epochs': 100, 'input': 'wp1', 'order': 2, 'output': 'wp1', 'units1': 128, 'units2': 64}\n",
            "Error : 0.05900737418572552\n",
            "{'batch_size': 128, 'choice': {'dropout3': 0.25, 'layers': 'three', 'units3': 64}, 'dropout1': 0.25, 'dropout2': 0, 'epochs': 200, 'input': 'wp1', 'order': 4, 'output': 'wp1', 'units1': 128, 'units2': 512}\n",
            "Error : 0.06362609428258781\n",
            "{'batch_size': 256, 'choice': {'dropout3': 0.25, 'layers': 'three', 'units3': 512}, 'dropout1': 0, 'dropout2': 0.25, 'epochs': 300, 'input': 'wp1', 'order': 8, 'output': 'wp1', 'units1': 128, 'units2': 8}\n",
            "Error : 0.06239748591444052\n",
            "{'batch_size': 128, 'choice': {'dropout3': 0.5, 'layers': 'three', 'units3': 8}, 'dropout1': 0.25, 'dropout2': 0.25, 'epochs': 100, 'input': 'wp1', 'order': 4, 'output': 'wp1', 'units1': 256, 'units2': 8}\n",
            "Error : 0.058182303128900235\n",
            "{'batch_size': 64, 'choice': {'dropout3': 0.25, 'layers': 'three', 'units3': 16}, 'dropout1': 0, 'dropout2': 0.25, 'epochs': 200, 'input': 'wp1', 'order': 1, 'output': 'wp1', 'units1': 512, 'units2': 64}\n",
            "Error : 0.05947080121172676\n",
            "{'batch_size': 128, 'choice': {'layers': 'two'}, 'dropout1': 0.25, 'dropout2': 0.25, 'epochs': 200, 'input': 'wp1', 'order': 1, 'output': 'wp1', 'units1': 512, 'units2': 128}\n",
            "Error : 0.0586774714005487\n",
            "{'batch_size': 64, 'choice': {'dropout3': 0, 'layers': 'three', 'units3': 128}, 'dropout1': 0.75, 'dropout2': 0.75, 'epochs': 300, 'input': 'wp1', 'order': 8, 'output': 'wp1', 'units1': 8, 'units2': 16}\n",
            "Error : 0.06559126937735624\n",
            "{'batch_size': 28, 'choice': {'dropout3': 0, 'layers': 'three', 'units3': 64}, 'dropout1': 0, 'dropout2': 0, 'epochs': 300, 'input': 'wp1', 'order': 1, 'output': 'wp1', 'units1': 64, 'units2': 8}\n",
            "Error : 0.0594256225253675\n",
            "{'batch_size': 512, 'choice': {'layers': 'two'}, 'dropout1': 0.5, 'dropout2': 0, 'epochs': 300, 'input': 'wp1', 'order': 2, 'output': 'wp1', 'units1': 128, 'units2': 128}\n",
            "Error : 0.05899017031288291\n",
            "{'batch_size': 512, 'choice': {'dropout3': 0.25, 'layers': 'three', 'units3': 16}, 'dropout1': 0, 'dropout2': 0.25, 'epochs': 100, 'input': 'wp1', 'order': 4, 'output': 'wp1', 'units1': 512, 'units2': 128}\n",
            "Error : 0.058985829596984084\n",
            "{'batch_size': 256, 'choice': {'dropout3': 0.25, 'layers': 'three', 'units3': 16}, 'dropout1': 0, 'dropout2': 0.5, 'epochs': 100, 'input': 'wp1', 'order': 8, 'output': 'wp1', 'units1': 64, 'units2': 256}\n",
            "Error : 0.060787572478331074\n",
            "{'batch_size': 512, 'choice': {'layers': 'two'}, 'dropout1': 0.5, 'dropout2': 0.75, 'epochs': 100, 'input': 'wp1', 'order': 4, 'output': 'wp1', 'units1': 128, 'units2': 512}\n",
            "Error : 0.05852223688745261\n",
            "{'batch_size': 128, 'choice': {'layers': 'two'}, 'dropout1': 0.5, 'dropout2': 0.25, 'epochs': 300, 'input': 'wp1', 'order': 2, 'output': 'wp1', 'units1': 16, 'units2': 64}\n",
            "Error : 0.059273800360170506\n",
            "{'batch_size': 128, 'choice': {'dropout3': 0.25, 'layers': 'three', 'units3': 16}, 'dropout1': 0, 'dropout2': 0.25, 'epochs': 200, 'input': 'wp1', 'order': 4, 'output': 'wp1', 'units1': 256, 'units2': 256}\n",
            "Error : 0.06138178273459477\n",
            "{'batch_size': 128, 'choice': {'dropout3': 0.5, 'layers': 'three', 'units3': 16}, 'dropout1': 0.75, 'dropout2': 0, 'epochs': 200, 'input': 'wp1', 'order': 2, 'output': 'wp1', 'units1': 512, 'units2': 256}\n",
            "Error : 0.059731925828910286\n",
            "{'batch_size': 512, 'choice': {'layers': 'two'}, 'dropout1': 0.5, 'dropout2': 0.75, 'epochs': 100, 'input': 'wp1', 'order': 4, 'output': 'wp1', 'units1': 256, 'units2': 512}\n",
            "Error : 0.05943626378453584\n",
            "{'batch_size': 512, 'choice': {'layers': 'two'}, 'dropout1': 0.5, 'dropout2': 0.75, 'epochs': 100, 'input': 'wp1', 'order': 4, 'output': 'wp1', 'units1': 256, 'units2': 512}\n",
            "Error : 0.06017840615888515\n",
            "{'batch_size': 512, 'choice': {'layers': 'two'}, 'dropout1': 0.25, 'dropout2': 0.75, 'epochs': 100, 'input': 'wp1', 'order': 4, 'output': 'wp1', 'units1': 128, 'units2': 16}\n",
            "Error : 0.05803005029288632\n",
            "{'batch_size': 512, 'choice': {'layers': 'two'}, 'dropout1': 0.25, 'dropout2': 0.75, 'epochs': 100, 'input': 'wp1', 'order': 4, 'output': 'wp1', 'units1': 256, 'units2': 16}\n",
            "Error : 0.059231530257446076\n",
            "{'batch_size': 28, 'choice': {'dropout3': 0.75, 'layers': 'three', 'units3': 8}, 'dropout1': 0.25, 'dropout2': 0.75, 'epochs': 100, 'input': 'wp1', 'order': 4, 'output': 'wp1', 'units1': 16, 'units2': 16}\n",
            "Error : 0.061286092310185294\n",
            "{'batch_size': 128, 'choice': {'layers': 'two'}, 'dropout1': 0.25, 'dropout2': 0.5, 'epochs': 100, 'input': 'wp1', 'order': 4, 'output': 'wp1', 'units1': 8, 'units2': 8}\n",
            "Error : 0.06040483640227271\n",
            "{'batch_size': 512, 'choice': {'dropout3': 0.5, 'layers': 'three', 'units3': 256}, 'dropout1': 0.25, 'dropout2': 0.75, 'epochs': 100, 'input': 'wp1', 'order': 8, 'output': 'wp1', 'units1': 128, 'units2': 16}\n",
            "Error : 0.058129189561601805\n",
            "{'batch_size': 512, 'choice': {'layers': 'two'}, 'dropout1': 0.25, 'dropout2': 0.75, 'epochs': 100, 'input': 'wp1', 'order': 8, 'output': 'wp1', 'units1': 128, 'units2': 16}\n",
            "Error : 0.05841365303794083\n",
            "{'batch_size': 512, 'choice': {'layers': 'two'}, 'dropout1': 0.25, 'dropout2': 0.75, 'epochs': 100, 'input': 'wp1', 'order': 8, 'output': 'wp1', 'units1': 128, 'units2': 16}\n",
            "Error : 0.05899812347090865\n",
            "{'batch_size': 512, 'choice': {'dropout3': 0.5, 'layers': 'three', 'units3': 256}, 'dropout1': 0.25, 'dropout2': 0.75, 'epochs': 100, 'input': 'wp1', 'order': 8, 'output': 'wp1', 'units1': 128, 'units2': 16}\n",
            "Error : 0.05881872232471027\n",
            "{'batch_size': 512, 'choice': {'layers': 'two'}, 'dropout1': 0.25, 'dropout2': 0.75, 'epochs': 100, 'input': 'wp1', 'order': 8, 'output': 'wp1', 'units1': 128, 'units2': 16}\n",
            "Error : 0.05720812081778851\n",
            "{'batch_size': 512, 'choice': {'layers': 'two'}, 'dropout1': 0.25, 'dropout2': 0.75, 'epochs': 100, 'input': 'wp1', 'order': 8, 'output': 'wp1', 'units1': 128, 'units2': 16}\n",
            "Error : 0.05794642811599621\n",
            "{'batch_size': 28, 'choice': {'layers': 'two'}, 'dropout1': 0.25, 'dropout2': 0.75, 'epochs': 100, 'input': 'wp1', 'order': 8, 'output': 'wp1', 'units1': 16, 'units2': 16}\n",
            "Error : 0.061059443364903765\n",
            "{'batch_size': 512, 'choice': {'layers': 'two'}, 'dropout1': 0.75, 'dropout2': 0.5, 'epochs': 100, 'input': 'wp1', 'order': 8, 'output': 'wp1', 'units1': 8, 'units2': 16}\n",
            "Error : 0.07241172844014644\n",
            "{'batch_size': 256, 'choice': {'layers': 'two'}, 'dropout1': 0.25, 'dropout2': 0.75, 'epochs': 100, 'input': 'wp1', 'order': 8, 'output': 'wp1', 'units1': 128, 'units2': 16}\n",
            "Error : 0.058598349693114664\n",
            "{'batch_size': 28, 'choice': {'layers': 'two'}, 'dropout1': 0.25, 'dropout2': 0.5, 'epochs': 100, 'input': 'wp1', 'order': 8, 'output': 'wp1', 'units1': 128, 'units2': 64}\n",
            "Error : 0.060541084684130574\n",
            "{'batch_size': 256, 'choice': {'layers': 'two'}, 'dropout1': 0.75, 'dropout2': 0.75, 'epochs': 200, 'input': 'wp1', 'order': 8, 'output': 'wp1', 'units1': 64, 'units2': 16}\n",
            "Error : 0.05973482438945409\n",
            "{'batch_size': 64, 'choice': {'layers': 'two'}, 'dropout1': 0.25, 'dropout2': 0, 'epochs': 100, 'input': 'wp1', 'order': 1, 'output': 'wp1', 'units1': 128, 'units2': 128}\n",
            "Error : 0.05897252412617282\n",
            "{'batch_size': 512, 'choice': {'layers': 'two'}, 'dropout1': 0.25, 'dropout2': 0.75, 'epochs': 300, 'input': 'wp1', 'order': 8, 'output': 'wp1', 'units1': 16, 'units2': 16}\n",
            "Error : 0.05760388482190271\n",
            "{'batch_size': 512, 'choice': {'layers': 'two'}, 'dropout1': 0.25, 'dropout2': 0.75, 'epochs': 300, 'input': 'wp1', 'order': 8, 'output': 'wp1', 'units1': 16, 'units2': 64}\n",
            "Error : 0.061967985666351325\n",
            "{'batch_size': 64, 'choice': {'layers': 'two'}, 'dropout1': 0.75, 'dropout2': 0.5, 'epochs': 300, 'input': 'wp1', 'order': 1, 'output': 'wp1', 'units1': 16, 'units2': 256}\n",
            "Error : 0.05895964550443851\n",
            "{'batch_size': 256, 'choice': {'layers': 'two'}, 'dropout1': 0.25, 'dropout2': 0, 'epochs': 300, 'input': 'wp1', 'order': 2, 'output': 'wp1', 'units1': 16, 'units2': 8}\n",
            "Error : 0.058267856146799885\n",
            "{'batch_size': 512, 'choice': {'layers': 'two'}, 'dropout1': 0.5, 'dropout2': 0.75, 'epochs': 300, 'input': 'wp1', 'order': 8, 'output': 'wp1', 'units1': 16, 'units2': 512}\n",
            "Error : 0.06216772734080166\n",
            "{'batch_size': 28, 'choice': {'layers': 'two'}, 'dropout1': 0.25, 'dropout2': 0.75, 'epochs': 300, 'input': 'wp1', 'order': 8, 'output': 'wp1', 'units1': 8, 'units2': 16}\n",
            "Error : 0.06270882057562562\n",
            "{'batch_size': 64, 'choice': {'layers': 'two'}, 'dropout1': 0, 'dropout2': 0, 'epochs': 300, 'input': 'wp1', 'order': 1, 'output': 'wp1', 'units1': 16, 'units2': 128}\n",
            "Error : 0.058906780794670176\n",
            "{'batch_size': 512, 'choice': {'layers': 'two'}, 'dropout1': 0.75, 'dropout2': 0.25, 'epochs': 300, 'input': 'wp1', 'order': 8, 'output': 'wp1', 'units1': 512, 'units2': 64}\n",
            "Error : 0.0626453588468783\n",
            "{'batch_size': 256, 'choice': {'layers': 'two'}, 'dropout1': 0.25, 'dropout2': 0.5, 'epochs': 200, 'input': 'wp1', 'order': 2, 'output': 'wp1', 'units1': 64, 'units2': 8}\n",
            "Error : 0.058768031834213655\n",
            "{'batch_size': 512, 'choice': {'layers': 'two'}, 'dropout1': 0, 'dropout2': 0.75, 'epochs': 300, 'input': 'wp1', 'order': 8, 'output': 'wp1', 'units1': 16, 'units2': 16}\n",
            "Error : 0.05885740104469288\n",
            "{'batch_size': 64, 'choice': {'layers': 'two'}, 'dropout1': 0.5, 'dropout2': 0.25, 'epochs': 300, 'input': 'wp1', 'order': 1, 'output': 'wp1', 'units1': 512, 'units2': 256}\n",
            "Error : 0.060092120344793436\n",
            "{'batch_size': 512, 'choice': {'layers': 'two'}, 'dropout1': 0.25, 'dropout2': 0, 'epochs': 200, 'input': 'wp1', 'order': 2, 'output': 'wp1', 'units1': 64, 'units2': 128}\n",
            "Error : 0.058653537094097284\n",
            "{'batch_size': 128, 'choice': {'layers': 'two'}, 'dropout1': 0.75, 'dropout2': 0.75, 'epochs': 300, 'input': 'wp1', 'order': 8, 'output': 'wp1', 'units1': 8, 'units2': 512}\n",
            "Error : 0.061502027134294465\n",
            "{'batch_size': 28, 'choice': {'dropout3': 0.75, 'layers': 'three', 'units3': 128}, 'dropout1': 0, 'dropout2': 0.75, 'epochs': 200, 'input': 'wp1', 'order': 8, 'output': 'wp1', 'units1': 16, 'units2': 16}\n",
            "Error : 0.06349219264315215\n",
            "{'batch_size': 512, 'choice': {'layers': 'two'}, 'dropout1': 0.5, 'dropout2': 0.25, 'epochs': 300, 'input': 'wp1', 'order': 1, 'output': 'wp1', 'units1': 256, 'units2': 8}\n",
            "Error : 0.05895768606826184\n",
            "{'batch_size': 256, 'choice': {'dropout3': 0.75, 'layers': 'three', 'units3': 8}, 'dropout1': 0.25, 'dropout2': 0.5, 'epochs': 300, 'input': 'wp1', 'order': 2, 'output': 'wp1', 'units1': 512, 'units2': 256}\n",
            "Error : 0.06028193821008048\n",
            "{'batch_size': 512, 'choice': {'layers': 'two'}, 'dropout1': 0.25, 'dropout2': 0.75, 'epochs': 200, 'input': 'wp1', 'order': 8, 'output': 'wp1', 'units1': 16, 'units2': 64}\n",
            "Error : 0.059164496287114655\n",
            "{'batch_size': 128, 'choice': {'layers': 'two'}, 'dropout1': 0, 'dropout2': 0, 'epochs': 300, 'input': 'wp1', 'order': 8, 'output': 'wp1', 'units1': 64, 'units2': 16}\n",
            "Error : 0.05891771974400223\n",
            "{'batch_size': 64, 'choice': {'dropout3': 0.75, 'layers': 'three', 'units3': 128}, 'dropout1': 0.25, 'dropout2': 0.75, 'epochs': 300, 'input': 'wp1', 'order': 8, 'output': 'wp1', 'units1': 256, 'units2': 512}\n",
            "Error : 0.06884707659005963\n",
            "{'batch_size': 512, 'choice': {'layers': 'two'}, 'dropout1': 0.5, 'dropout2': 0.25, 'epochs': 200, 'input': 'wp1', 'order': 2, 'output': 'wp1', 'units1': 8, 'units2': 128}\n",
            "Error : 0.058710346109686506\n",
            "{'batch_size': 28, 'choice': {'layers': 'two'}, 'dropout1': 0.25, 'dropout2': 0.75, 'epochs': 100, 'input': 'wp1', 'order': 1, 'output': 'wp1', 'units1': 128, 'units2': 16}\n",
            "Error : 0.05938985143338223\n",
            "{'batch_size': 512, 'choice': {'dropout3': 0.75, 'layers': 'three', 'units3': 512}, 'dropout1': 0.75, 'dropout2': 0.75, 'epochs': 300, 'input': 'wp1', 'order': 8, 'output': 'wp1', 'units1': 16, 'units2': 16}\n",
            "Error : 0.06362596483633771\n",
            "{'batch_size': 128, 'choice': {'layers': 'two'}, 'dropout1': 0.25, 'dropout2': 0.5, 'epochs': 100, 'input': 'wp1', 'order': 4, 'output': 'wp1', 'units1': 512, 'units2': 8}\n",
            "Error : 0.06090187226980823\n",
            "{'batch_size': 512, 'choice': {'layers': 'two'}, 'dropout1': 0, 'dropout2': 0.75, 'epochs': 100, 'input': 'wp1', 'order': 8, 'output': 'wp1', 'units1': 128, 'units2': 256}\n",
            "Error : 0.0588019944295234\n",
            "{'batch_size': 512, 'choice': {'dropout3': 0.5, 'layers': 'three', 'units3': 256}, 'dropout1': 0.25, 'dropout2': 0, 'epochs': 200, 'input': 'wp1', 'order': 8, 'output': 'wp1', 'units1': 256, 'units2': 16}\n",
            "Error : 0.05953663403752369\n",
            "{'batch_size': 256, 'choice': {'layers': 'two'}, 'dropout1': 0.5, 'dropout2': 0.25, 'epochs': 300, 'input': 'wp1', 'order': 2, 'output': 'wp1', 'units1': 128, 'units2': 512}\n",
            "Error : 0.05950403147502004\n",
            "{'batch_size': 512, 'choice': {'layers': 'two'}, 'dropout1': 0.25, 'dropout2': 0.75, 'epochs': 100, 'input': 'wp1', 'order': 4, 'output': 'wp1', 'units1': 64, 'units2': 64}\n",
            "Error : 0.05895222432791677\n",
            "{'batch_size': 512, 'choice': {'layers': 'two'}, 'dropout1': 0.25, 'dropout2': 0.75, 'epochs': 100, 'input': 'wp1', 'order': 8, 'output': 'wp1', 'units1': 128, 'units2': 16}\n",
            "Error : 0.06063200581119686\n",
            "{'batch_size': 512, 'choice': {'layers': 'two'}, 'dropout1': 0.25, 'dropout2': 0.75, 'epochs': 100, 'input': 'wp1', 'order': 8, 'output': 'wp1', 'units1': 128, 'units2': 16}\n",
            "Error : 0.05876370008885602\n",
            "{'batch_size': 512, 'choice': {'layers': 'two'}, 'dropout1': 0.25, 'dropout2': 0.75, 'epochs': 100, 'input': 'wp1', 'order': 8, 'output': 'wp1', 'units1': 128, 'units2': 16}\n",
            "Error : 0.05825091176040847\n",
            "{'batch_size': 512, 'choice': {'layers': 'two'}, 'dropout1': 0.25, 'dropout2': 0.75, 'epochs': 100, 'input': 'wp1', 'order': 8, 'output': 'wp1', 'units1': 128, 'units2': 16}\n",
            "Error : 0.05788896401315288\n",
            "{'batch_size': 512, 'choice': {'layers': 'two'}, 'dropout1': 0.25, 'dropout2': 0.75, 'epochs': 100, 'input': 'wp1', 'order': 8, 'output': 'wp1', 'units1': 128, 'units2': 16}\n",
            "Error : 0.05896627119736763\n",
            "{'batch_size': 512, 'choice': {'layers': 'two'}, 'dropout1': 0.25, 'dropout2': 0.75, 'epochs': 100, 'input': 'wp1', 'order': 8, 'output': 'wp1', 'units1': 128, 'units2': 16}\n",
            "Error : 0.05756424092733878\n",
            "{'batch_size': 512, 'choice': {'layers': 'two'}, 'dropout1': 0.25, 'dropout2': 0.75, 'epochs': 100, 'input': 'wp1', 'order': 8, 'output': 'wp1', 'units1': 128, 'units2': 16}\n",
            "Error : 0.057497954645634\n",
            "{'batch_size': 512, 'choice': {'layers': 'two'}, 'dropout1': 0.25, 'dropout2': 0.75, 'epochs': 100, 'input': 'wp1', 'order': 8, 'output': 'wp1', 'units1': 128, 'units2': 16}\n",
            "Error : 0.05833241789146311\n",
            "{'batch_size': 28, 'choice': {'layers': 'two'}, 'dropout1': 0.25, 'dropout2': 0.75, 'epochs': 100, 'input': 'wp1', 'order': 8, 'output': 'wp1', 'units1': 128, 'units2': 16}\n",
            "Error : 0.0618685656168028\n",
            "{'batch_size': 64, 'choice': {'layers': 'two'}, 'dropout1': 0.75, 'dropout2': 0.75, 'epochs': 100, 'input': 'wp1', 'order': 8, 'output': 'wp1', 'units1': 128, 'units2': 128}\n",
            "Error : 0.062172661446965316\n",
            "{'batch_size': 128, 'choice': {'layers': 'two'}, 'dropout1': 0.25, 'dropout2': 0.5, 'epochs': 100, 'input': 'wp1', 'order': 1, 'output': 'wp1', 'units1': 128, 'units2': 16}\n",
            "Error : 0.058727902290621956\n",
            "{'batch_size': 512, 'choice': {'layers': 'two'}, 'dropout1': 0.25, 'dropout2': 0.75, 'epochs': 100, 'input': 'wp1', 'order': 8, 'output': 'wp1', 'units1': 128, 'units2': 16}\n",
            "Error : 0.05823832243976684\n",
            "{'batch_size': 512, 'choice': {'layers': 'two'}, 'dropout1': 0.25, 'dropout2': 0.75, 'epochs': 100, 'input': 'wp1', 'order': 4, 'output': 'wp1', 'units1': 128, 'units2': 8}\n",
            "Error : 0.059530969324919414\n",
            "{'batch_size': 256, 'choice': {'dropout3': 0, 'layers': 'three', 'units3': 64}, 'dropout1': 0.5, 'dropout2': 0, 'epochs': 100, 'input': 'wp1', 'order': 8, 'output': 'wp1', 'units1': 8, 'units2': 256}\n",
            "Error : 0.058841808893900165\n",
            "{'batch_size': 512, 'choice': {'layers': 'two'}, 'dropout1': 0, 'dropout2': 0.25, 'epochs': 100, 'input': 'wp1', 'order': 8, 'output': 'wp1', 'units1': 128, 'units2': 64}\n",
            "Error : 0.05889104374540647\n",
            "{'batch_size': 28, 'choice': {'layers': 'two'}, 'dropout1': 0.75, 'dropout2': 0.75, 'epochs': 100, 'input': 'wp1', 'order': 2, 'output': 'wp1', 'units1': 128, 'units2': 512}\n",
            "Error : 0.06236831664829274\n",
            "{'batch_size': 64, 'choice': {'layers': 'two'}, 'dropout1': 0.25, 'dropout2': 0.75, 'epochs': 100, 'input': 'wp1', 'order': 8, 'output': 'wp1', 'units1': 256, 'units2': 16}\n",
            "Error : 0.06703902319000346\n",
            "{'batch_size': 512, 'choice': {'layers': 'two'}, 'dropout1': 0.25, 'dropout2': 0.5, 'epochs': 100, 'input': 'wp1', 'order': 1, 'output': 'wp1', 'units1': 512, 'units2': 128}\n",
            "Error : 0.058712653637570215\n",
            "{'batch_size': 128, 'choice': {'dropout3': 0.75, 'layers': 'three', 'units3': 512}, 'dropout1': 0.25, 'dropout2': 0.75, 'epochs': 100, 'input': 'wp1', 'order': 4, 'output': 'wp1', 'units1': 128, 'units2': 16}\n",
            "Error : 0.060244089574641835\n",
            "{'batch_size': 512, 'choice': {'layers': 'two'}, 'dropout1': 0, 'dropout2': 0, 'epochs': 100, 'input': 'wp1', 'order': 8, 'output': 'wp1', 'units1': 128, 'units2': 16}\n",
            "Error : 0.058853230420153176\n",
            "{'batch_size': 256, 'choice': {'layers': 'two'}, 'dropout1': 0.5, 'dropout2': 0.75, 'epochs': 100, 'input': 'wp1', 'order': 8, 'output': 'wp1', 'units1': 64, 'units2': 8}\n",
            "Error : 0.059172057019879695\n",
            "{'batch_size': 512, 'choice': {'layers': 'two'}, 'dropout1': 0.25, 'dropout2': 0.25, 'epochs': 100, 'input': 'wp1', 'order': 8, 'output': 'wp1', 'units1': 8, 'units2': 256}\n",
            "Error : 0.07138584012166194\n",
            "{'batch_size': 512, 'choice': {'dropout3': 0.5, 'layers': 'three', 'units3': 128}, 'dropout1': 0.75, 'dropout2': 0.75, 'epochs': 200, 'input': 'wp1', 'order': 2, 'output': 'wp1', 'units1': 128, 'units2': 64}\n",
            "Error : 0.05902747979075024\n",
            "{'batch_size': 64, 'choice': {'layers': 'two'}, 'dropout1': 0.25, 'dropout2': 0.5, 'epochs': 100, 'input': 'wp1', 'order': 1, 'output': 'wp1', 'units1': 128, 'units2': 16}\n",
            "Error : 0.05874846010970744\n",
            "{'batch_size': 28, 'choice': {'layers': 'two'}, 'dropout1': 0.25, 'dropout2': 0.75, 'epochs': 100, 'input': 'wp1', 'order': 8, 'output': 'wp1', 'units1': 512, 'units2': 512}\n",
            "Error : 0.06452717230842961\n",
            "{'batch_size': 128, 'choice': {'layers': 'two'}, 'dropout1': 0.25, 'dropout2': 0.75, 'epochs': 100, 'input': 'wp1', 'order': 8, 'output': 'wp1', 'units1': 128, 'units2': 16}\n",
            "Error : 0.05988899588090627\n",
            "{'batch_size': 512, 'choice': {'layers': 'two'}, 'dropout1': 0, 'dropout2': 0, 'epochs': 200, 'input': 'wp1', 'order': 4, 'output': 'wp1', 'units1': 256, 'units2': 128}\n",
            "Error : 0.05957280001112896\n",
            "{'batch_size': 512, 'choice': {'dropout3': 0, 'layers': 'three', 'units3': 8}, 'dropout1': 0.5, 'dropout2': 0.25, 'epochs': 100, 'input': 'wp1', 'order': 8, 'output': 'wp1', 'units1': 64, 'units2': 16}\n",
            "Error : 0.09971481419977327\n",
            "{'batch_size': 256, 'choice': {'layers': 'two'}, 'dropout1': 0.25, 'dropout2': 0.75, 'epochs': 100, 'input': 'wp1', 'order': 2, 'output': 'wp1', 'units1': 8, 'units2': 8}\n",
            "Error : 0.06743514400023264\n",
            "{'batch_size': 512, 'choice': {'layers': 'two'}, 'dropout1': 0.75, 'dropout2': 0.75, 'epochs': 100, 'input': 'wp1', 'order': 8, 'output': 'wp1', 'units1': 128, 'units2': 16}\n",
            "Error : 0.057532641388494135\n",
            "{'batch_size': 64, 'choice': {'layers': 'two'}, 'dropout1': 0.75, 'dropout2': 0.5, 'epochs': 200, 'input': 'wp1', 'order': 1, 'output': 'wp1', 'units1': 128, 'units2': 256}\n",
            "Error : 0.05905185665380235\n",
            "{'batch_size': 28, 'choice': {'layers': 'two'}, 'dropout1': 0.75, 'dropout2': 0.75, 'epochs': 100, 'input': 'wp1', 'order': 8, 'output': 'wp1', 'units1': 512, 'units2': 64}\n",
            "Error : 0.06776291741993593\n",
            "{'batch_size': 512, 'choice': {'dropout3': 0.5, 'layers': 'three', 'units3': 64}, 'dropout1': 0.75, 'dropout2': 0, 'epochs': 100, 'input': 'wp1', 'order': 4, 'output': 'wp1', 'units1': 256, 'units2': 512}\n",
            "Error : 0.060500628149570156\n",
            "{'batch_size': 128, 'choice': {'layers': 'two'}, 'dropout1': 0.75, 'dropout2': 0.75, 'epochs': 100, 'input': 'wp1', 'order': 8, 'output': 'wp1', 'units1': 128, 'units2': 16}\n",
            "Error : 0.06013709623976511\n",
            "{'batch_size': 512, 'choice': {'layers': 'two'}, 'dropout1': 0.75, 'dropout2': 0.25, 'epochs': 200, 'input': 'wp1', 'order': 8, 'output': 'wp1', 'units1': 64, 'units2': 16}\n",
            "Error : 0.060028863584779615\n",
            "100%|██████████| 100/100 [02:33<00:00,  1.54s/trial, best loss: 0.05720812081778851]\n",
            "best parameters: \n",
            "{'batch_size': 512, 'choice': {'layers': 'two'}, 'dropout1': 0.25, 'dropout2': 0.75, 'epochs': 100, 'input': 'wp1', 'order': 8, 'output': 'wp1', 'units1': 128, 'units2': 16}\n"
          ],
          "name": "stdout"
        }
      ]
    },
    {
      "cell_type": "markdown",
      "metadata": {
        "id": "hQ0oNy8EZgmY"
      },
      "source": [
        "Best params: \\\n",
        "\\\n",
        "mlp raw: \\\n",
        "{'batch_size': 512, 'choice': {'layers': 'two'}, 'dropout1': 0.25, 'dropout2': 0.75, 'epochs': 100, 'input': 'wp1', 'order': 8, 'output': 'wp1', 'units1': 128, 'units2': 16} \\\n"
      ]
    },
    {
      "cell_type": "markdown",
      "metadata": {
        "id": "3TJUMYZOAmsG"
      },
      "source": [
        "#### MLP Forecasting"
      ]
    },
    {
      "cell_type": "code",
      "metadata": {
        "id": "n1vQDjtZoDPr"
      },
      "source": [
        "def mlp_forecast(train_df, test_df, params):\n",
        "\n",
        "\n",
        "    _input = [target_station]\n",
        "    _nlags = params['order']\n",
        "    _epochs = params['epochs']\n",
        "    _batch_size = params['batch_size']\n",
        "    nfeat = len(_input)\n",
        "    nsteps = params.get('step',1)\n",
        "    nobs = _nlags * nfeat\n",
        "\n",
        "    output_index = -nfeat*nsteps\n",
        "\n",
        "\n",
        "    train_reshaped_df = series_to_supervised(train_df[_input].values, n_in=_nlags, n_out=nsteps)\n",
        "    train_X, train_Y = train_reshaped_df.iloc[:, :nobs].values, train_reshaped_df.iloc[:, output_index:].values\n",
        "\n",
        "    test_reshaped_df = series_to_supervised(test_df[_input].values, n_in=_nlags, n_out=nsteps)\n",
        "    test_X, test_Y = test_reshaped_df.iloc[:, :nobs].values, test_reshaped_df.iloc[:, output_index:].values\n",
        "    \n",
        "    # design network\n",
        "    model = Sequential()\n",
        "    model.add(Dense(params['units1'], activation='relu', input_dim=train_X.shape[1]))\n",
        "    model.add(Dense(params['units2'], activation='relu'))\n",
        "    if params['choice']['layers'] == 'three':\n",
        "      model.add(Dense(params['choice']['units3'], activation='relu'))\n",
        "    model.add(Dense(1))\n",
        "    model.compile(loss='mean_squared_error', optimizer='adam')\n",
        "\n",
        "\n",
        "    # fit network\n",
        "    model.fit(train_X, train_Y, epochs=_epochs, batch_size=_batch_size, verbose=False, shuffle=False)\n",
        "    \n",
        "    forecast = model.predict(test_X)\n",
        "    \n",
        "    fcst = [f[0] for f in forecast]\n",
        "\n",
        "    return fcst\n",
        "\n",
        "def rolling_cv_mlp_uni(df, params):\n",
        "    \n",
        "    lags_list = []\n",
        "    forecasts = []\n",
        "\n",
        "    limit = df.index[-1].strftime('%Y-%m-%d')\n",
        "\n",
        "    test_end = \"\"\n",
        "    index = df.index[0]\n",
        "\n",
        "    while test_end < limit :\n",
        "        print(\"Index: \", index.strftime('%Y-%m-%d'))  \n",
        "\n",
        "        train_start, train_end, test_start, test_end = getRollingWindow(index)\n",
        "        index = index + datetime.timedelta(days=7)\n",
        "        \n",
        "        train = df[train_start : train_end]\n",
        "        test = df[test_start : test_end]\n",
        "\n",
        "\n",
        "        # Perform forecast\n",
        "        yhat = mlp_forecast(train[[target_station]], test[[target_station]], params)\n",
        "        \n",
        "        yhat.append(yhat[-1]) #para manter o formato do vetor de metricas\n",
        "        \n",
        "        lags_list.append(params['order'])\n",
        "        forecasts.append(yhat)\n",
        "\n",
        "    return forecasts, lags_list"
      ],
      "execution_count": null,
      "outputs": []
    },
    {
      "cell_type": "code",
      "metadata": {
        "id": "-C0bXLWcoJVy",
        "colab": {
          "base_uri": "https://localhost:8080/",
          "height": 867
        },
        "outputId": "f6d02283-6791-4fbe-b73d-e95fe5abf986"
      },
      "source": [
        "# Enter best params\n",
        "params_raw = {'batch_size': 512, 'choice': {'layers': 'two'}, 'dropout1': 0.25, 'dropout2': 0.75, 'epochs': 100, 'input': 'wp1', 'order': 8, 'output': 'wp1', 'units1': 128, 'units2': 16}\n",
        "\n",
        "forecasts_raw, order_list = rolling_cv_mlp_uni(norm_df, params_raw)\n",
        "\n",
        "forecasts_final = get_final_forecast(forecasts_raw)\n",
        "calculate_rolling_error(\"rolling_cv_wind_raw_mlp_uni\", df, forecasts_final, order_list)"
      ],
      "execution_count": null,
      "outputs": [
        {
          "output_type": "stream",
          "text": [
            "Index:  2009-08-01\n",
            "Index:  2009-08-08\n",
            "Index:  2009-08-15\n",
            "Index:  2009-08-22\n",
            "Index:  2009-08-29\n",
            "Index:  2009-09-05\n",
            "Index:  2009-09-12\n",
            "Index:  2009-09-19\n",
            "Index:  2009-09-26\n",
            "Index:  2009-10-03\n",
            "Index:  2009-10-10\n",
            "Index:  2009-10-17\n",
            "Index:  2009-10-24\n",
            "Index:  2009-10-31\n",
            "Index:  2009-11-07\n",
            "Index:  2009-11-14\n",
            "Index:  2009-11-21\n",
            "Index:  2009-11-28\n",
            "Index:  2009-12-05\n",
            "Index:  2009-12-12\n",
            "Index:  2009-12-19\n",
            "Index:  2009-12-26\n",
            "Index:  2010-01-02\n",
            "Index:  2010-01-09\n",
            "Index:  2010-01-16\n",
            "Index:  2010-01-23\n",
            "Index:  2010-01-30\n",
            "Index:  2010-02-06\n",
            "Index:  2010-02-13\n",
            "Index:  2010-02-20\n",
            "Index:  2010-02-27\n",
            "Index:  2010-03-06\n",
            "Index:  2010-03-13\n",
            "Index:  2010-03-20\n",
            "Index:  2010-03-27\n",
            "Index:  2010-04-03\n",
            "Index:  2010-04-10\n",
            "Index:  2010-04-17\n",
            "Index:  2010-04-24\n",
            "Index:  2010-05-01\n",
            "Index:  2010-05-08\n",
            "Index:  2010-05-15\n",
            "Index:  2010-05-22\n",
            "Index:  2010-05-29\n",
            "Index:  2010-06-05\n",
            "Index:  2010-06-12\n",
            "Index:  2010-06-19\n",
            "Index:  2010-06-26\n",
            "Index:  2010-07-03\n",
            "Index:  2010-07-10\n"
          ],
          "name": "stdout"
        }
      ]
    },
    {
      "cell_type": "code",
      "metadata": {
        "id": "ii35SvBPKMUn",
        "colab": {
          "base_uri": "https://localhost:8080/",
          "height": 17
        },
        "outputId": "97e0a0eb-e808-4cee-e7a1-2adf7642483f"
      },
      "source": [
        "files.download('rolling_cv_wind_raw_mlp_uni.csv')"
      ],
      "execution_count": null,
      "outputs": [
        {
          "output_type": "display_data",
          "data": {
            "application/javascript": [
              "\n",
              "    async function download(id, filename, size) {\n",
              "      if (!google.colab.kernel.accessAllowed) {\n",
              "        return;\n",
              "      }\n",
              "      const div = document.createElement('div');\n",
              "      const label = document.createElement('label');\n",
              "      label.textContent = `Downloading \"${filename}\": `;\n",
              "      div.appendChild(label);\n",
              "      const progress = document.createElement('progress');\n",
              "      progress.max = size;\n",
              "      div.appendChild(progress);\n",
              "      document.body.appendChild(div);\n",
              "\n",
              "      const buffers = [];\n",
              "      let downloaded = 0;\n",
              "\n",
              "      const channel = await google.colab.kernel.comms.open(id);\n",
              "      // Send a message to notify the kernel that we're ready.\n",
              "      channel.send({})\n",
              "\n",
              "      for await (const message of channel.messages) {\n",
              "        // Send a message to notify the kernel that we're ready.\n",
              "        channel.send({})\n",
              "        if (message.buffers) {\n",
              "          for (const buffer of message.buffers) {\n",
              "            buffers.push(buffer);\n",
              "            downloaded += buffer.byteLength;\n",
              "            progress.value = downloaded;\n",
              "          }\n",
              "        }\n",
              "      }\n",
              "      const blob = new Blob(buffers, {type: 'application/binary'});\n",
              "      const a = document.createElement('a');\n",
              "      a.href = window.URL.createObjectURL(blob);\n",
              "      a.download = filename;\n",
              "      div.appendChild(a);\n",
              "      a.click();\n",
              "      div.remove();\n",
              "    }\n",
              "  "
            ],
            "text/plain": [
              "<IPython.core.display.Javascript object>"
            ]
          },
          "metadata": {
            "tags": []
          }
        },
        {
          "output_type": "display_data",
          "data": {
            "application/javascript": [
              "download(\"download_449716b0-b72d-413a-b847-d6325124c148\", \"rolling_cv_wind_raw_mlp_uni.csv\", 2672)"
            ],
            "text/plain": [
              "<IPython.core.display.Javascript object>"
            ]
          },
          "metadata": {
            "tags": []
          }
        }
      ]
    },
    {
      "cell_type": "markdown",
      "metadata": {
        "id": "bwcccfkMJkM1"
      },
      "source": [
        "### Conventional (Song and Chissom) FTS"
      ]
    },
    {
      "cell_type": "code",
      "metadata": {
        "id": "hKw0bVXNJkNE"
      },
      "source": [
        "from pyFTS.partitioners import Grid, Entropy, Util as pUtil\n",
        "from pyFTS.models import song"
      ],
      "execution_count": null,
      "outputs": []
    },
    {
      "cell_type": "markdown",
      "metadata": {
        "id": "j5Kn3sBfJkNL"
      },
      "source": [
        "#### FTS Parameter Tuning"
      ]
    },
    {
      "cell_type": "code",
      "metadata": {
        "id": "vRfn38p-JkNM"
      },
      "source": [
        "fts_space = {'partitioner': hp.choice('partitioner', [Grid.GridPartitioner, Entropy.EntropyPartitioner]),\n",
        "        'npartitions': hp.choice('npartitions', [10, 50,100]),\n",
        "        'order': hp.choice('order', [1]),\n",
        "        'input': hp.choice('input', [target_station]),\n",
        "        'output': hp.choice('output', [target_station])}\n",
        "\n",
        "def fts_forecast(train_df, test_df, params):\n",
        "    _partitioner = params['partitioner']\n",
        "    _npartitions = params['npartitions']\n",
        "    _order = 1\n",
        "    _input = params['input']\n",
        "    _step = params.get('step',1)\n",
        "\n",
        "    fuzzy_sets = _partitioner(data=train_df[_input].values, npart=_npartitions)\n",
        "    model = song.ConventionalFTS(partitioner=fuzzy_sets)\n",
        "\n",
        "    model.fit(train_df[_input].values)\n",
        "    forecast = model.predict(test_df[_input].values, steps_ahead=_step)\n",
        "\n",
        "    return forecast[:-1]"
      ],
      "execution_count": null,
      "outputs": []
    },
    {
      "cell_type": "code",
      "metadata": {
        "id": "v4FQV0E3JkNP",
        "colab": {
          "base_uri": "https://localhost:8080/",
          "height": 1000
        },
        "outputId": "ac9274b3-a03a-420f-c0bb-f63cf5726a04"
      },
      "source": [
        "methods = []\n",
        "methods.append((\"EXP_WIND_FTS\", fts_forecast, fts_space))\n",
        "train_split = 0.6\n",
        "parameter_tuning.run_search(methods, tuning_df, train_split, Measures.rmse, max_evals=30, resample=None)"
      ],
      "execution_count": null,
      "outputs": [
        {
          "output_type": "stream",
          "text": [
            "Running experiment: EXP_WIND_FTS\n",
            "{'input': 'wp1', 'npartitions': 10, 'order': 1, 'output': 'wp1', 'partitioner': <class 'pyFTS.partitioners.Grid.GridPartitioner'>}\n",
            "Error : 0.2138562963366043\n",
            "{'input': 'wp1', 'npartitions': 50, 'order': 1, 'output': 'wp1', 'partitioner': <class 'pyFTS.partitioners.Entropy.EntropyPartitioner'>}\n",
            "Error : 0.17509055070596097\n",
            "{'input': 'wp1', 'npartitions': 10, 'order': 1, 'output': 'wp1', 'partitioner': <class 'pyFTS.partitioners.Grid.GridPartitioner'>}\n",
            "Error : 0.2138562963366043\n",
            "{'input': 'wp1', 'npartitions': 100, 'order': 1, 'output': 'wp1', 'partitioner': <class 'pyFTS.partitioners.Entropy.EntropyPartitioner'>}\n",
            "Error : 0.19523202669881584\n",
            "{'input': 'wp1', 'npartitions': 100, 'order': 1, 'output': 'wp1', 'partitioner': <class 'pyFTS.partitioners.Grid.GridPartitioner'>}\n",
            "Error : 0.36575382457951305\n",
            "{'input': 'wp1', 'npartitions': 10, 'order': 1, 'output': 'wp1', 'partitioner': <class 'pyFTS.partitioners.Grid.GridPartitioner'>}\n",
            "Error : 0.2138562963366043\n",
            "{'input': 'wp1', 'npartitions': 50, 'order': 1, 'output': 'wp1', 'partitioner': <class 'pyFTS.partitioners.Grid.GridPartitioner'>}\n",
            "Error : 0.3474357125227775\n",
            "{'input': 'wp1', 'npartitions': 10, 'order': 1, 'output': 'wp1', 'partitioner': <class 'pyFTS.partitioners.Grid.GridPartitioner'>}\n",
            "Error : 0.2138562963366043\n",
            "{'input': 'wp1', 'npartitions': 100, 'order': 1, 'output': 'wp1', 'partitioner': <class 'pyFTS.partitioners.Grid.GridPartitioner'>}\n",
            "Error : 0.36575382457951305\n",
            "{'input': 'wp1', 'npartitions': 100, 'order': 1, 'output': 'wp1', 'partitioner': <class 'pyFTS.partitioners.Grid.GridPartitioner'>}\n",
            "Error : 0.36575382457951305\n",
            "{'input': 'wp1', 'npartitions': 10, 'order': 1, 'output': 'wp1', 'partitioner': <class 'pyFTS.partitioners.Grid.GridPartitioner'>}\n",
            "Error : 0.2138562963366043\n",
            "{'input': 'wp1', 'npartitions': 100, 'order': 1, 'output': 'wp1', 'partitioner': <class 'pyFTS.partitioners.Entropy.EntropyPartitioner'>}\n",
            "Error : 0.19523202669881584\n",
            "{'input': 'wp1', 'npartitions': 50, 'order': 1, 'output': 'wp1', 'partitioner': <class 'pyFTS.partitioners.Entropy.EntropyPartitioner'>}\n",
            "Error : 0.17509055070596097\n",
            "{'input': 'wp1', 'npartitions': 100, 'order': 1, 'output': 'wp1', 'partitioner': <class 'pyFTS.partitioners.Grid.GridPartitioner'>}\n",
            "Error : 0.36575382457951305\n",
            "{'input': 'wp1', 'npartitions': 50, 'order': 1, 'output': 'wp1', 'partitioner': <class 'pyFTS.partitioners.Entropy.EntropyPartitioner'>}\n",
            "Error : 0.17509055070596097\n",
            "{'input': 'wp1', 'npartitions': 10, 'order': 1, 'output': 'wp1', 'partitioner': <class 'pyFTS.partitioners.Entropy.EntropyPartitioner'>}\n",
            "Error : 0.14897433264393314\n",
            "{'input': 'wp1', 'npartitions': 50, 'order': 1, 'output': 'wp1', 'partitioner': <class 'pyFTS.partitioners.Grid.GridPartitioner'>}\n",
            "Error : 0.3474357125227775\n",
            "{'input': 'wp1', 'npartitions': 100, 'order': 1, 'output': 'wp1', 'partitioner': <class 'pyFTS.partitioners.Entropy.EntropyPartitioner'>}\n",
            "Error : 0.19523202669881584\n",
            "{'input': 'wp1', 'npartitions': 10, 'order': 1, 'output': 'wp1', 'partitioner': <class 'pyFTS.partitioners.Grid.GridPartitioner'>}\n",
            "Error : 0.2138562963366043\n",
            "{'input': 'wp1', 'npartitions': 100, 'order': 1, 'output': 'wp1', 'partitioner': <class 'pyFTS.partitioners.Grid.GridPartitioner'>}\n",
            "Error : 0.36575382457951305\n",
            "{'input': 'wp1', 'npartitions': 50, 'order': 1, 'output': 'wp1', 'partitioner': <class 'pyFTS.partitioners.Entropy.EntropyPartitioner'>}\n",
            "Error : 0.17509055070596097\n",
            "{'input': 'wp1', 'npartitions': 50, 'order': 1, 'output': 'wp1', 'partitioner': <class 'pyFTS.partitioners.Entropy.EntropyPartitioner'>}\n",
            "Error : 0.17509055070596097\n",
            "{'input': 'wp1', 'npartitions': 10, 'order': 1, 'output': 'wp1', 'partitioner': <class 'pyFTS.partitioners.Entropy.EntropyPartitioner'>}\n",
            "Error : 0.14897433264393314\n",
            "{'input': 'wp1', 'npartitions': 10, 'order': 1, 'output': 'wp1', 'partitioner': <class 'pyFTS.partitioners.Entropy.EntropyPartitioner'>}\n",
            "Error : 0.14897433264393314\n",
            "{'input': 'wp1', 'npartitions': 10, 'order': 1, 'output': 'wp1', 'partitioner': <class 'pyFTS.partitioners.Entropy.EntropyPartitioner'>}\n",
            "Error : 0.14897433264393314\n",
            "{'input': 'wp1', 'npartitions': 10, 'order': 1, 'output': 'wp1', 'partitioner': <class 'pyFTS.partitioners.Entropy.EntropyPartitioner'>}\n",
            "Error : 0.14897433264393314\n",
            "{'input': 'wp1', 'npartitions': 10, 'order': 1, 'output': 'wp1', 'partitioner': <class 'pyFTS.partitioners.Entropy.EntropyPartitioner'>}\n",
            "Error : 0.14897433264393314\n",
            "{'input': 'wp1', 'npartitions': 10, 'order': 1, 'output': 'wp1', 'partitioner': <class 'pyFTS.partitioners.Entropy.EntropyPartitioner'>}\n",
            "Error : 0.14897433264393314\n",
            "{'input': 'wp1', 'npartitions': 10, 'order': 1, 'output': 'wp1', 'partitioner': <class 'pyFTS.partitioners.Entropy.EntropyPartitioner'>}\n",
            "Error : 0.14897433264393314\n",
            "{'input': 'wp1', 'npartitions': 10, 'order': 1, 'output': 'wp1', 'partitioner': <class 'pyFTS.partitioners.Entropy.EntropyPartitioner'>}\n",
            "Error : 0.14897433264393314\n",
            "100%|██████████| 30/30 [00:37<00:00,  1.25s/trial, best loss: 0.14897433264393314]\n",
            "best parameters: \n",
            "{'input': 'wp1', 'npartitions': 10, 'order': 1, 'output': 'wp1', 'partitioner': <class 'pyFTS.partitioners.Entropy.EntropyPartitioner'>}\n"
          ],
          "name": "stdout"
        }
      ]
    },
    {
      "cell_type": "markdown",
      "metadata": {
        "id": "N6c9cmL6JkNT"
      },
      "source": [
        "Best params: \\\n",
        "\\\n",
        "FTS Raw: \\\n",
        "{'input': 'wp1', 'npartitions': 10, 'order': 1, 'output': 'wp1', 'partitioner': <class 'pyFTS.partitioners.Entropy.EntropyPartitioner'>} \\\n"
      ]
    },
    {
      "cell_type": "markdown",
      "metadata": {
        "id": "PL-LsRYHL69j"
      },
      "source": [
        "#### FTS Forecasting"
      ]
    },
    {
      "cell_type": "code",
      "metadata": {
        "id": "JLI20axqJkNU"
      },
      "source": [
        "from pyFTS.partitioners import Grid, Entropy, Util as pUtil\n",
        "from pyFTS.models import song\n",
        "\n",
        "\n",
        "def rolling_cv_fts(df, params):\n",
        "\n",
        "    _order = params['order']\n",
        "\n",
        "    forecasts = []\n",
        "    order_list = []\n",
        "\n",
        "    limit = df.index[-1].strftime('%Y-%m-%d')\n",
        "\n",
        "    test_end = \"\"\n",
        "    index = df.index[0]\n",
        "\n",
        "    while test_end < limit :\n",
        "        print(\"Index: \", index.strftime('%Y-%m-%d'))  \n",
        "\n",
        "        train_start, train_end, test_start, test_end = getRollingWindow(index)\n",
        "        index = index + datetime.timedelta(days=7)\n",
        "        \n",
        "        train = df[train_start : train_end]\n",
        "        test = df[test_start : test_end]\n",
        "\n",
        "        # Perform forecast\n",
        "        yhat = fts_forecast(train, test, params)\n",
        "        yhat.append(yhat[-1]) #para manter o formato do vetor de metricas\n",
        "        \n",
        "        order_list.append(_order)\n",
        "        forecasts.append(yhat)\n",
        "\n",
        "    return forecasts, order_list"
      ],
      "execution_count": null,
      "outputs": []
    },
    {
      "cell_type": "code",
      "metadata": {
        "id": "0b-wX-ZKJkNY",
        "colab": {
          "base_uri": "https://localhost:8080/",
          "height": 867
        },
        "outputId": "7c723129-4619-454a-cee7-4424024667cf"
      },
      "source": [
        "params_raw = {'input': 'wp1', 'npartitions': 10, 'order': 1, 'output': 'wp1', 'partitioner': Entropy.EntropyPartitioner}\n",
        "\n",
        "\n",
        "forecasts_raw, order_list = rolling_cv_fts(norm_df, params_raw)\n",
        "\n",
        "forecasts_final = get_final_forecast(forecasts_raw)\n",
        "calculate_rolling_error(\"rolling_cv_wind_raw_fts\", df, forecasts_final, order_list)"
      ],
      "execution_count": null,
      "outputs": [
        {
          "output_type": "stream",
          "text": [
            "Index:  2009-08-01\n",
            "Index:  2009-08-08\n",
            "Index:  2009-08-15\n",
            "Index:  2009-08-22\n",
            "Index:  2009-08-29\n",
            "Index:  2009-09-05\n",
            "Index:  2009-09-12\n",
            "Index:  2009-09-19\n",
            "Index:  2009-09-26\n",
            "Index:  2009-10-03\n",
            "Index:  2009-10-10\n",
            "Index:  2009-10-17\n",
            "Index:  2009-10-24\n",
            "Index:  2009-10-31\n",
            "Index:  2009-11-07\n",
            "Index:  2009-11-14\n",
            "Index:  2009-11-21\n",
            "Index:  2009-11-28\n",
            "Index:  2009-12-05\n",
            "Index:  2009-12-12\n",
            "Index:  2009-12-19\n",
            "Index:  2009-12-26\n",
            "Index:  2010-01-02\n",
            "Index:  2010-01-09\n",
            "Index:  2010-01-16\n",
            "Index:  2010-01-23\n",
            "Index:  2010-01-30\n",
            "Index:  2010-02-06\n",
            "Index:  2010-02-13\n",
            "Index:  2010-02-20\n",
            "Index:  2010-02-27\n",
            "Index:  2010-03-06\n",
            "Index:  2010-03-13\n",
            "Index:  2010-03-20\n",
            "Index:  2010-03-27\n",
            "Index:  2010-04-03\n",
            "Index:  2010-04-10\n",
            "Index:  2010-04-17\n",
            "Index:  2010-04-24\n",
            "Index:  2010-05-01\n",
            "Index:  2010-05-08\n",
            "Index:  2010-05-15\n",
            "Index:  2010-05-22\n",
            "Index:  2010-05-29\n",
            "Index:  2010-06-05\n",
            "Index:  2010-06-12\n",
            "Index:  2010-06-19\n",
            "Index:  2010-06-26\n",
            "Index:  2010-07-03\n",
            "Index:  2010-07-10\n"
          ],
          "name": "stdout"
        }
      ]
    },
    {
      "cell_type": "code",
      "metadata": {
        "id": "DbJujARsJkNa",
        "colab": {
          "base_uri": "https://localhost:8080/",
          "height": 17
        },
        "outputId": "8252344b-a25f-4695-ba09-af3a263f0087"
      },
      "source": [
        "files.download('rolling_cv_wind_raw_fts.csv')"
      ],
      "execution_count": null,
      "outputs": [
        {
          "output_type": "display_data",
          "data": {
            "application/javascript": [
              "\n",
              "    async function download(id, filename, size) {\n",
              "      if (!google.colab.kernel.accessAllowed) {\n",
              "        return;\n",
              "      }\n",
              "      const div = document.createElement('div');\n",
              "      const label = document.createElement('label');\n",
              "      label.textContent = `Downloading \"${filename}\": `;\n",
              "      div.appendChild(label);\n",
              "      const progress = document.createElement('progress');\n",
              "      progress.max = size;\n",
              "      div.appendChild(progress);\n",
              "      document.body.appendChild(div);\n",
              "\n",
              "      const buffers = [];\n",
              "      let downloaded = 0;\n",
              "\n",
              "      const channel = await google.colab.kernel.comms.open(id);\n",
              "      // Send a message to notify the kernel that we're ready.\n",
              "      channel.send({})\n",
              "\n",
              "      for await (const message of channel.messages) {\n",
              "        // Send a message to notify the kernel that we're ready.\n",
              "        channel.send({})\n",
              "        if (message.buffers) {\n",
              "          for (const buffer of message.buffers) {\n",
              "            buffers.push(buffer);\n",
              "            downloaded += buffer.byteLength;\n",
              "            progress.value = downloaded;\n",
              "          }\n",
              "        }\n",
              "      }\n",
              "      const blob = new Blob(buffers, {type: 'application/binary'});\n",
              "      const a = document.createElement('a');\n",
              "      a.href = window.URL.createObjectURL(blob);\n",
              "      a.download = filename;\n",
              "      div.appendChild(a);\n",
              "      a.click();\n",
              "      div.remove();\n",
              "    }\n",
              "  "
            ],
            "text/plain": [
              "<IPython.core.display.Javascript object>"
            ]
          },
          "metadata": {
            "tags": []
          }
        },
        {
          "output_type": "display_data",
          "data": {
            "application/javascript": [
              "download(\"download_7c56f4d9-e824-4561-9b50-7f8f714f6680\", \"rolling_cv_wind_raw_fts.csv\", 2646)"
            ],
            "text/plain": [
              "<IPython.core.display.Javascript object>"
            ]
          },
          "metadata": {
            "tags": []
          }
        }
      ]
    },
    {
      "cell_type": "markdown",
      "metadata": {
        "id": "Ry-JFOh1s1qJ"
      },
      "source": [
        "### High Order FTS"
      ]
    },
    {
      "cell_type": "code",
      "metadata": {
        "id": "rTvlwfx8OIZR"
      },
      "source": [
        "from pyFTS.partitioners import Grid, Entropy, Util as pUtil\n",
        "from pyFTS.models import hofts"
      ],
      "execution_count": null,
      "outputs": []
    },
    {
      "cell_type": "markdown",
      "metadata": {
        "id": "YOaXlHm2Ltrq"
      },
      "source": [
        "#### HOFTS Parameter Tuning"
      ]
    },
    {
      "cell_type": "code",
      "metadata": {
        "id": "mZpaeSvALxnf"
      },
      "source": [
        "hofts_space = {'partitioner': hp.choice('partitioner', [Grid.GridPartitioner, Entropy.EntropyPartitioner]),\n",
        "        'npartitions': hp.choice('npartitions', [10, 50,100]),\n",
        "        'order': hp.choice('order', [1,2]),\n",
        "        'input': hp.choice('input', [target_station]),\n",
        "        'output': hp.choice('output', [target_station])}\n",
        "\n",
        "def hofts_forecast(train_df, test_df, params):\n",
        "    _partitioner = params['partitioner']\n",
        "    _npartitions = params['npartitions']\n",
        "    _order = params['order']\n",
        "    _input = params['input']\n",
        "    _step = params.get('step',1)\n",
        "\n",
        "    fuzzy_sets = _partitioner(data=train_df[_input].values, npart=_npartitions)\n",
        "    model = hofts.HighOrderFTS(order=_order)\n",
        "\n",
        "    model.fit(train_df[_input].values, order=_order, partitioner=fuzzy_sets)\n",
        "    forecast = model.predict(test_df[_input].values, steps_ahead=_step)\n",
        "\n",
        "    return forecast"
      ],
      "execution_count": null,
      "outputs": []
    },
    {
      "cell_type": "code",
      "metadata": {
        "id": "8mgVqRKANpQ0",
        "colab": {
          "base_uri": "https://localhost:8080/",
          "height": 1000
        },
        "outputId": "d9ce9a11-ce48-4362-e60d-3690ba165c74"
      },
      "source": [
        "methods = []\n",
        "methods.append((\"EXP_WIND_HOFTS\", hofts_forecast, hofts_space))\n",
        "train_split = 0.6\n",
        "parameter_tuning.run_search(methods, tuning_df, train_split, Measures.rmse, max_evals=30, resample=None)"
      ],
      "execution_count": null,
      "outputs": [
        {
          "output_type": "stream",
          "text": [
            "Running experiment: EXP_WIND_HOFTS\n",
            "{'input': 'wp1', 'npartitions': 10, 'order': 1, 'output': 'wp1', 'partitioner': <class 'pyFTS.partitioners.Entropy.EntropyPartitioner'>}\n",
            "Error : 0.15206845955003812\n",
            "{'input': 'wp1', 'npartitions': 10, 'order': 2, 'output': 'wp1', 'partitioner': <class 'pyFTS.partitioners.Grid.GridPartitioner'>}\n",
            "Error : 0.11630161194093097\n",
            "{'input': 'wp1', 'npartitions': 100, 'order': 2, 'output': 'wp1', 'partitioner': <class 'pyFTS.partitioners.Grid.GridPartitioner'>}\n",
            "Error : 0.0632347849420408\n",
            "{'input': 'wp1', 'npartitions': 50, 'order': 2, 'output': 'wp1', 'partitioner': <class 'pyFTS.partitioners.Entropy.EntropyPartitioner'>}\n",
            "Error : 0.17855001460495215\n",
            "{'input': 'wp1', 'npartitions': 100, 'order': 1, 'output': 'wp1', 'partitioner': <class 'pyFTS.partitioners.Grid.GridPartitioner'>}\n",
            "Error : 0.06151526186921419\n",
            "{'input': 'wp1', 'npartitions': 100, 'order': 1, 'output': 'wp1', 'partitioner': <class 'pyFTS.partitioners.Grid.GridPartitioner'>}\n",
            "Error : 0.06151526186921419\n",
            "{'input': 'wp1', 'npartitions': 10, 'order': 2, 'output': 'wp1', 'partitioner': <class 'pyFTS.partitioners.Grid.GridPartitioner'>}\n",
            "Error : 0.11630161194093097\n",
            "{'input': 'wp1', 'npartitions': 10, 'order': 2, 'output': 'wp1', 'partitioner': <class 'pyFTS.partitioners.Entropy.EntropyPartitioner'>}\n",
            "Error : 0.1521999931344613\n",
            "{'input': 'wp1', 'npartitions': 100, 'order': 2, 'output': 'wp1', 'partitioner': <class 'pyFTS.partitioners.Grid.GridPartitioner'>}\n",
            "Error : 0.0632347849420408\n",
            "{'input': 'wp1', 'npartitions': 100, 'order': 1, 'output': 'wp1', 'partitioner': <class 'pyFTS.partitioners.Grid.GridPartitioner'>}\n",
            "Error : 0.06151526186921419\n",
            "{'input': 'wp1', 'npartitions': 100, 'order': 2, 'output': 'wp1', 'partitioner': <class 'pyFTS.partitioners.Grid.GridPartitioner'>}\n",
            "Error : 0.0632347849420408\n",
            "{'input': 'wp1', 'npartitions': 100, 'order': 1, 'output': 'wp1', 'partitioner': <class 'pyFTS.partitioners.Grid.GridPartitioner'>}\n",
            "Error : 0.06151526186921419\n",
            "{'input': 'wp1', 'npartitions': 10, 'order': 1, 'output': 'wp1', 'partitioner': <class 'pyFTS.partitioners.Entropy.EntropyPartitioner'>}\n",
            "Error : 0.15206845955003812\n",
            "{'input': 'wp1', 'npartitions': 10, 'order': 2, 'output': 'wp1', 'partitioner': <class 'pyFTS.partitioners.Entropy.EntropyPartitioner'>}\n",
            "Error : 0.1521999931344613\n",
            "{'input': 'wp1', 'npartitions': 50, 'order': 2, 'output': 'wp1', 'partitioner': <class 'pyFTS.partitioners.Entropy.EntropyPartitioner'>}\n",
            "Error : 0.17855001460495215\n",
            "{'input': 'wp1', 'npartitions': 10, 'order': 2, 'output': 'wp1', 'partitioner': <class 'pyFTS.partitioners.Grid.GridPartitioner'>}\n",
            "Error : 0.11630161194093097\n",
            "{'input': 'wp1', 'npartitions': 10, 'order': 1, 'output': 'wp1', 'partitioner': <class 'pyFTS.partitioners.Entropy.EntropyPartitioner'>}\n",
            "Error : 0.15206845955003812\n",
            "{'input': 'wp1', 'npartitions': 50, 'order': 2, 'output': 'wp1', 'partitioner': <class 'pyFTS.partitioners.Grid.GridPartitioner'>}\n",
            "Error : 0.06473225536125521\n",
            "{'input': 'wp1', 'npartitions': 50, 'order': 2, 'output': 'wp1', 'partitioner': <class 'pyFTS.partitioners.Grid.GridPartitioner'>}\n",
            "Error : 0.06473225536125521\n",
            "{'input': 'wp1', 'npartitions': 50, 'order': 1, 'output': 'wp1', 'partitioner': <class 'pyFTS.partitioners.Entropy.EntropyPartitioner'>}\n",
            "Error : 0.17827403079959633\n",
            "{'input': 'wp1', 'npartitions': 100, 'order': 1, 'output': 'wp1', 'partitioner': <class 'pyFTS.partitioners.Grid.GridPartitioner'>}\n",
            "Error : 0.06151526186921419\n",
            "{'input': 'wp1', 'npartitions': 100, 'order': 1, 'output': 'wp1', 'partitioner': <class 'pyFTS.partitioners.Grid.GridPartitioner'>}\n",
            "Error : 0.06151526186921419\n",
            "{'input': 'wp1', 'npartitions': 100, 'order': 1, 'output': 'wp1', 'partitioner': <class 'pyFTS.partitioners.Grid.GridPartitioner'>}\n",
            "Error : 0.06151526186921419\n",
            "{'input': 'wp1', 'npartitions': 100, 'order': 1, 'output': 'wp1', 'partitioner': <class 'pyFTS.partitioners.Grid.GridPartitioner'>}\n",
            "Error : 0.06151526186921419\n",
            "{'input': 'wp1', 'npartitions': 100, 'order': 1, 'output': 'wp1', 'partitioner': <class 'pyFTS.partitioners.Grid.GridPartitioner'>}\n",
            "Error : 0.06151526186921419\n",
            "{'input': 'wp1', 'npartitions': 100, 'order': 1, 'output': 'wp1', 'partitioner': <class 'pyFTS.partitioners.Grid.GridPartitioner'>}\n",
            "Error : 0.06151526186921419\n",
            "{'input': 'wp1', 'npartitions': 100, 'order': 1, 'output': 'wp1', 'partitioner': <class 'pyFTS.partitioners.Grid.GridPartitioner'>}\n",
            "Error : 0.06151526186921419\n",
            "{'input': 'wp1', 'npartitions': 100, 'order': 1, 'output': 'wp1', 'partitioner': <class 'pyFTS.partitioners.Grid.GridPartitioner'>}\n",
            "Error : 0.06151526186921419\n",
            "{'input': 'wp1', 'npartitions': 100, 'order': 1, 'output': 'wp1', 'partitioner': <class 'pyFTS.partitioners.Grid.GridPartitioner'>}\n",
            "Error : 0.06151526186921419\n",
            "{'input': 'wp1', 'npartitions': 100, 'order': 1, 'output': 'wp1', 'partitioner': <class 'pyFTS.partitioners.Grid.GridPartitioner'>}\n",
            "Error : 0.06151526186921419\n",
            "100%|██████████| 30/30 [00:20<00:00,  1.46trial/s, best loss: 0.06151526186921419]\n",
            "best parameters: \n",
            "{'input': 'wp1', 'npartitions': 100, 'order': 1, 'output': 'wp1', 'partitioner': <class 'pyFTS.partitioners.Grid.GridPartitioner'>}\n"
          ],
          "name": "stdout"
        }
      ]
    },
    {
      "cell_type": "markdown",
      "metadata": {
        "id": "boaYbWNkRvix"
      },
      "source": [
        "Best params: \\\n",
        "\\\n",
        "HOFTS raw: \\\n",
        "{'input': 'wp1', 'npartitions': 100, 'order': 1, 'output': 'wp1', 'partitioner': <class 'pyFTS.partitioners.Grid.GridPartitioner'>} \\\n"
      ]
    },
    {
      "cell_type": "code",
      "metadata": {
        "id": "OG4NaVwus4gO"
      },
      "source": [
        "from pyFTS.partitioners import Grid, Entropy, Util as pUtil\n",
        "from pyFTS.models import hofts\n",
        "\n",
        "\n",
        "def rolling_cv_hofts(df, params):\n",
        "\n",
        "    _order = params['order']\n",
        "\n",
        "    forecasts = []\n",
        "    order_list = []\n",
        "\n",
        "    limit = df.index[-1].strftime('%Y-%m-%d')\n",
        "\n",
        "    test_end = \"\"\n",
        "    index = df.index[0]\n",
        "\n",
        "    while test_end < limit :\n",
        "        print(\"Index: \", index.strftime('%Y-%m-%d'))  \n",
        "\n",
        "        train_start, train_end, test_start, test_end = getRollingWindow(index)\n",
        "        index = index + datetime.timedelta(days=7)\n",
        "        \n",
        "        train = df[train_start : train_end]\n",
        "        test = df[test_start : test_end]\n",
        "\n",
        "        # Perform forecast\n",
        "        yhat = hofts_forecast(train, test, params)\n",
        "        yhat.append(yhat[-1]) #para manter o formato do vetor de metricas\n",
        "        \n",
        "        order_list.append(_order)\n",
        "        forecasts.append(yhat)\n",
        "\n",
        "    return forecasts, order_list"
      ],
      "execution_count": null,
      "outputs": []
    },
    {
      "cell_type": "code",
      "metadata": {
        "id": "5WkWJF2MtE4i",
        "colab": {
          "base_uri": "https://localhost:8080/",
          "height": 867
        },
        "outputId": "7a0c76b5-43df-4e05-c0aa-6128bff302cf"
      },
      "source": [
        "params_raw = {'input': 'wp1', 'npartitions': 100, 'order': 1, 'output': 'wp1', 'partitioner': Grid.GridPartitioner}\n",
        "\n",
        "forecasts_raw, order_list = rolling_cv_hofts(norm_df, params_raw)\n",
        "\n",
        "forecasts_final = get_final_forecast(forecasts_raw)\n",
        "calculate_rolling_error(\"rolling_cv_wind_raw_hofts\", df, forecasts_final, order_list)"
      ],
      "execution_count": null,
      "outputs": [
        {
          "output_type": "stream",
          "text": [
            "Index:  2009-08-01\n",
            "Index:  2009-08-08\n",
            "Index:  2009-08-15\n",
            "Index:  2009-08-22\n",
            "Index:  2009-08-29\n",
            "Index:  2009-09-05\n",
            "Index:  2009-09-12\n",
            "Index:  2009-09-19\n",
            "Index:  2009-09-26\n",
            "Index:  2009-10-03\n",
            "Index:  2009-10-10\n",
            "Index:  2009-10-17\n",
            "Index:  2009-10-24\n",
            "Index:  2009-10-31\n",
            "Index:  2009-11-07\n",
            "Index:  2009-11-14\n",
            "Index:  2009-11-21\n",
            "Index:  2009-11-28\n",
            "Index:  2009-12-05\n",
            "Index:  2009-12-12\n",
            "Index:  2009-12-19\n",
            "Index:  2009-12-26\n",
            "Index:  2010-01-02\n",
            "Index:  2010-01-09\n",
            "Index:  2010-01-16\n",
            "Index:  2010-01-23\n",
            "Index:  2010-01-30\n",
            "Index:  2010-02-06\n",
            "Index:  2010-02-13\n",
            "Index:  2010-02-20\n",
            "Index:  2010-02-27\n",
            "Index:  2010-03-06\n",
            "Index:  2010-03-13\n",
            "Index:  2010-03-20\n",
            "Index:  2010-03-27\n",
            "Index:  2010-04-03\n",
            "Index:  2010-04-10\n",
            "Index:  2010-04-17\n",
            "Index:  2010-04-24\n",
            "Index:  2010-05-01\n",
            "Index:  2010-05-08\n",
            "Index:  2010-05-15\n",
            "Index:  2010-05-22\n",
            "Index:  2010-05-29\n",
            "Index:  2010-06-05\n",
            "Index:  2010-06-12\n",
            "Index:  2010-06-19\n",
            "Index:  2010-06-26\n",
            "Index:  2010-07-03\n",
            "Index:  2010-07-10\n"
          ],
          "name": "stdout"
        }
      ]
    },
    {
      "cell_type": "code",
      "metadata": {
        "id": "FEU3CMQdTCxX",
        "colab": {
          "base_uri": "https://localhost:8080/",
          "height": 17
        },
        "outputId": "efa7c499-29dc-499c-8f61-365d66c5cd16"
      },
      "source": [
        "files.download('rolling_cv_wind_raw_hofts.csv')"
      ],
      "execution_count": null,
      "outputs": [
        {
          "output_type": "display_data",
          "data": {
            "application/javascript": [
              "\n",
              "    async function download(id, filename, size) {\n",
              "      if (!google.colab.kernel.accessAllowed) {\n",
              "        return;\n",
              "      }\n",
              "      const div = document.createElement('div');\n",
              "      const label = document.createElement('label');\n",
              "      label.textContent = `Downloading \"${filename}\": `;\n",
              "      div.appendChild(label);\n",
              "      const progress = document.createElement('progress');\n",
              "      progress.max = size;\n",
              "      div.appendChild(progress);\n",
              "      document.body.appendChild(div);\n",
              "\n",
              "      const buffers = [];\n",
              "      let downloaded = 0;\n",
              "\n",
              "      const channel = await google.colab.kernel.comms.open(id);\n",
              "      // Send a message to notify the kernel that we're ready.\n",
              "      channel.send({})\n",
              "\n",
              "      for await (const message of channel.messages) {\n",
              "        // Send a message to notify the kernel that we're ready.\n",
              "        channel.send({})\n",
              "        if (message.buffers) {\n",
              "          for (const buffer of message.buffers) {\n",
              "            buffers.push(buffer);\n",
              "            downloaded += buffer.byteLength;\n",
              "            progress.value = downloaded;\n",
              "          }\n",
              "        }\n",
              "      }\n",
              "      const blob = new Blob(buffers, {type: 'application/binary'});\n",
              "      const a = document.createElement('a');\n",
              "      a.href = window.URL.createObjectURL(blob);\n",
              "      a.download = filename;\n",
              "      div.appendChild(a);\n",
              "      a.click();\n",
              "      div.remove();\n",
              "    }\n",
              "  "
            ],
            "text/plain": [
              "<IPython.core.display.Javascript object>"
            ]
          },
          "metadata": {
            "tags": []
          }
        },
        {
          "output_type": "display_data",
          "data": {
            "application/javascript": [
              "download(\"download_c0f999ec-4382-4690-b957-e66398dba216\", \"rolling_cv_wind_raw_hofts.csv\", 2672)"
            ],
            "text/plain": [
              "<IPython.core.display.Javascript object>"
            ]
          },
          "metadata": {
            "tags": []
          }
        }
      ]
    },
    {
      "cell_type": "markdown",
      "metadata": {
        "id": "BbrR5M-2tj7j"
      },
      "source": [
        "### NSFTS"
      ]
    },
    {
      "cell_type": "code",
      "metadata": {
        "id": "KflU3vANXBU1"
      },
      "source": [
        "from pyFTS.models.nonstationary import common, perturbation, partitioners as nspart\n",
        "from pyFTS.models.nonstationary import nsfts, util as nsUtil"
      ],
      "execution_count": null,
      "outputs": []
    },
    {
      "cell_type": "markdown",
      "metadata": {
        "id": "CDsjp5tyVcy-"
      },
      "source": [
        "#### Parameter Tuning"
      ]
    },
    {
      "cell_type": "code",
      "metadata": {
        "id": "blbwPd2mVggp"
      },
      "source": [
        "nsfts_space = {'npartitions': hp.choice('npartitions', [10, 30, 50, 100, 150]),\n",
        "        'order': hp.choice('order', [1]),\n",
        "        'input': hp.choice('input', [target_station]),\n",
        "        'output': hp.choice('output', [target_station])}\n",
        "\n",
        "def nsfts_forecast(train_df, test_df, params):\n",
        "    _npartitions = params['npartitions']\n",
        "    _order = params['order']\n",
        "    _input = params['input']\n",
        "    _step = params.get('step',1)\n",
        "    \n",
        "    nsfs = nspart.simplenonstationary_gridpartitioner_builder(data=train_df[_input].values, npart=_npartitions, transformation=None)\n",
        "    model = nsfts.NonStationaryFTS(partitioner=nsfs, order=_order)\n",
        "    \n",
        "    model.fit(train_df[_input].values)\n",
        "\n",
        "    forecast = model.predict(test_df[_input].values)\n",
        "    forecast = forecast[:-1]\n",
        "    return forecast"
      ],
      "execution_count": null,
      "outputs": []
    },
    {
      "cell_type": "code",
      "metadata": {
        "id": "KziNLZGGWg4o",
        "colab": {
          "base_uri": "https://localhost:8080/",
          "height": 425
        },
        "outputId": "aebea998-7495-463b-f8c6-571c2bac9500"
      },
      "source": [
        "methods = []\n",
        "methods.append((\"EXP_WIND_NSFTS\", nsfts_forecast, nsfts_space))\n",
        "train_split = 0.6\n",
        "parameter_tuning.run_search(methods, tuning_df, train_split, Measures.rmse, max_evals=10, resample=None)"
      ],
      "execution_count": null,
      "outputs": [
        {
          "output_type": "stream",
          "text": [
            "Running experiment: EXP_WIND_NSFTS\n",
            "{'input': 'wp1', 'npartitions': 30, 'order': 1, 'output': 'wp1'}\n",
            "Error : 0.06665121480553918\n",
            "{'input': 'wp1', 'npartitions': 30, 'order': 1, 'output': 'wp1'}\n",
            "Error : 0.06665121480553918\n",
            "{'input': 'wp1', 'npartitions': 50, 'order': 1, 'output': 'wp1'}\n",
            "Error : 0.06380727351176134\n",
            "{'input': 'wp1', 'npartitions': 100, 'order': 1, 'output': 'wp1'}\n",
            "Error : 0.05980089336997629\n",
            "{'input': 'wp1', 'npartitions': 30, 'order': 1, 'output': 'wp1'}\n",
            "Error : 0.06665121480553918\n",
            "{'input': 'wp1', 'npartitions': 100, 'order': 1, 'output': 'wp1'}\n",
            "Error : 0.05980089336997629\n",
            "{'input': 'wp1', 'npartitions': 100, 'order': 1, 'output': 'wp1'}\n",
            "Error : 0.05980089336997629\n",
            "{'input': 'wp1', 'npartitions': 100, 'order': 1, 'output': 'wp1'}\n",
            "Error : 0.05980089336997629\n",
            "{'input': 'wp1', 'npartitions': 150, 'order': 1, 'output': 'wp1'}\n",
            "Error : 0.06297144474129002\n",
            "{'input': 'wp1', 'npartitions': 150, 'order': 1, 'output': 'wp1'}\n",
            "Error : 0.06297144474129002\n",
            "100%|██████████| 10/10 [00:49<00:00,  4.94s/trial, best loss: 0.05980089336997629]\n",
            "best parameters: \n",
            "{'input': 'wp1', 'npartitions': 100, 'order': 1, 'output': 'wp1'}\n"
          ],
          "name": "stdout"
        }
      ]
    },
    {
      "cell_type": "markdown",
      "metadata": {
        "id": "nUIZ1ALMU6oW"
      },
      "source": [
        "Best params: \\\n",
        "\\\n",
        "NSFTS raw: \\\n",
        "{'input': 'wp1', 'npartitions': 100, 'order': 1, 'output': 'wp1'} \\\n"
      ]
    },
    {
      "cell_type": "markdown",
      "metadata": {
        "id": "jrYz_tsNVoGT"
      },
      "source": [
        "#### NSFTS Forecasting"
      ]
    },
    {
      "cell_type": "code",
      "metadata": {
        "id": "zYBnBP2Y0QCl"
      },
      "source": [
        "def rolling_cv_nsfts(df, params):\n",
        "    \n",
        "    forecasts = []\n",
        "    order_list = []\n",
        "\n",
        "    _npartitions = params['npartitions']\n",
        "    _order = params['order']\n",
        "    _input = params['input']\n",
        "    _step = params.get('step',1)\n",
        "\n",
        "    limit = df.index[-1].strftime('%Y-%m-%d')\n",
        "\n",
        "    test_end = \"\"\n",
        "    index = df.index[0]\n",
        "    first_time = True\n",
        "\n",
        "    while test_end < limit :\n",
        "        print(\"Index: \", index.strftime('%Y-%m-%d'))  \n",
        "\n",
        "        train_start, train_end, test_start, test_end = getRollingWindow(index)\n",
        "        index = index + datetime.timedelta(days=7)\n",
        "        \n",
        "        train = df[train_start : train_end]\n",
        "        test = df[test_start : test_end]\n",
        "\n",
        "        # Perform forecast\n",
        "\n",
        "        # In the first time, the model is trained. \n",
        "        # For the next iterations, training subset is used to evolve the model\n",
        "        if first_time:\n",
        "          nsfs = nspart.simplenonstationary_gridpartitioner_builder(data=train[_input].values, npart=_npartitions, transformation=None)\n",
        "          model = nsfts.NonStationaryFTS(partitioner=nsfs, order=_order)\n",
        "          model.fit(train[_input].values)\n",
        "          first_time = False\n",
        "\n",
        "        forecast = model.predict(test[_input].values)\n",
        "        #forecast = forecast[:-1]\n",
        "        \n",
        "        order_list.append(params['order'])\n",
        "        forecasts.append(forecast)\n",
        "\n",
        "    return forecasts, order_list"
      ],
      "execution_count": null,
      "outputs": []
    },
    {
      "cell_type": "code",
      "metadata": {
        "id": "La4PN7ph4smH",
        "colab": {
          "base_uri": "https://localhost:8080/",
          "height": 867
        },
        "outputId": "100e85d0-1c31-4f81-c65a-604538859337"
      },
      "source": [
        "params_raw = {'input': 'wp1', 'npartitions': 100, 'order': 1, 'output': 'wp1'}\n",
        "\n",
        "\n",
        "forecasts_raw, order_list = rolling_cv_nsfts(norm_df, params_raw)\n",
        "\n",
        "forecasts_final = get_final_forecast(forecasts_raw)\n",
        "calculate_rolling_error(\"rolling_cv_wind_raw_nsfts\", df, forecasts_final, order_list)"
      ],
      "execution_count": null,
      "outputs": [
        {
          "output_type": "stream",
          "text": [
            "Index:  2009-08-01\n",
            "Index:  2009-08-08\n",
            "Index:  2009-08-15\n",
            "Index:  2009-08-22\n",
            "Index:  2009-08-29\n",
            "Index:  2009-09-05\n",
            "Index:  2009-09-12\n",
            "Index:  2009-09-19\n",
            "Index:  2009-09-26\n",
            "Index:  2009-10-03\n",
            "Index:  2009-10-10\n",
            "Index:  2009-10-17\n",
            "Index:  2009-10-24\n",
            "Index:  2009-10-31\n",
            "Index:  2009-11-07\n",
            "Index:  2009-11-14\n",
            "Index:  2009-11-21\n",
            "Index:  2009-11-28\n",
            "Index:  2009-12-05\n",
            "Index:  2009-12-12\n",
            "Index:  2009-12-19\n",
            "Index:  2009-12-26\n",
            "Index:  2010-01-02\n",
            "Index:  2010-01-09\n",
            "Index:  2010-01-16\n",
            "Index:  2010-01-23\n",
            "Index:  2010-01-30\n",
            "Index:  2010-02-06\n",
            "Index:  2010-02-13\n",
            "Index:  2010-02-20\n",
            "Index:  2010-02-27\n",
            "Index:  2010-03-06\n",
            "Index:  2010-03-13\n",
            "Index:  2010-03-20\n",
            "Index:  2010-03-27\n",
            "Index:  2010-04-03\n",
            "Index:  2010-04-10\n",
            "Index:  2010-04-17\n",
            "Index:  2010-04-24\n",
            "Index:  2010-05-01\n",
            "Index:  2010-05-08\n",
            "Index:  2010-05-15\n",
            "Index:  2010-05-22\n",
            "Index:  2010-05-29\n",
            "Index:  2010-06-05\n",
            "Index:  2010-06-12\n",
            "Index:  2010-06-19\n",
            "Index:  2010-06-26\n",
            "Index:  2010-07-03\n",
            "Index:  2010-07-10\n"
          ],
          "name": "stdout"
        }
      ]
    },
    {
      "cell_type": "code",
      "metadata": {
        "id": "WWPvfdqAcdV-",
        "colab": {
          "base_uri": "https://localhost:8080/",
          "height": 17
        },
        "outputId": "d1923587-2c6e-42b8-c756-b318a60364f8"
      },
      "source": [
        "files.download('rolling_cv_wind_raw_nsfts.csv')"
      ],
      "execution_count": null,
      "outputs": [
        {
          "output_type": "display_data",
          "data": {
            "application/javascript": [
              "\n",
              "    async function download(id, filename, size) {\n",
              "      if (!google.colab.kernel.accessAllowed) {\n",
              "        return;\n",
              "      }\n",
              "      const div = document.createElement('div');\n",
              "      const label = document.createElement('label');\n",
              "      label.textContent = `Downloading \"${filename}\": `;\n",
              "      div.appendChild(label);\n",
              "      const progress = document.createElement('progress');\n",
              "      progress.max = size;\n",
              "      div.appendChild(progress);\n",
              "      document.body.appendChild(div);\n",
              "\n",
              "      const buffers = [];\n",
              "      let downloaded = 0;\n",
              "\n",
              "      const channel = await google.colab.kernel.comms.open(id);\n",
              "      // Send a message to notify the kernel that we're ready.\n",
              "      channel.send({})\n",
              "\n",
              "      for await (const message of channel.messages) {\n",
              "        // Send a message to notify the kernel that we're ready.\n",
              "        channel.send({})\n",
              "        if (message.buffers) {\n",
              "          for (const buffer of message.buffers) {\n",
              "            buffers.push(buffer);\n",
              "            downloaded += buffer.byteLength;\n",
              "            progress.value = downloaded;\n",
              "          }\n",
              "        }\n",
              "      }\n",
              "      const blob = new Blob(buffers, {type: 'application/binary'});\n",
              "      const a = document.createElement('a');\n",
              "      a.href = window.URL.createObjectURL(blob);\n",
              "      a.download = filename;\n",
              "      div.appendChild(a);\n",
              "      a.click();\n",
              "      div.remove();\n",
              "    }\n",
              "  "
            ],
            "text/plain": [
              "<IPython.core.display.Javascript object>"
            ]
          },
          "metadata": {
            "tags": []
          }
        },
        {
          "output_type": "display_data",
          "data": {
            "application/javascript": [
              "download(\"download_2ca99d7d-81be-43c7-bcbf-76535e090e5f\", \"rolling_cv_wind_raw_nsfts.csv\", 2675)"
            ],
            "text/plain": [
              "<IPython.core.display.Javascript object>"
            ]
          },
          "metadata": {
            "tags": []
          }
        }
      ]
    },
    {
      "cell_type": "markdown",
      "metadata": {
        "id": "GJo1NvXBiKLi"
      },
      "source": [
        "## Results Analysis"
      ]
    },
    {
      "cell_type": "code",
      "metadata": {
        "id": "SBjAp0Ir5SHW",
        "colab": {
          "base_uri": "https://localhost:8080/",
          "height": 102
        },
        "outputId": "7308c1ad-e07f-4d4e-bbf4-728893de2cf6"
      },
      "source": [
        "!ls"
      ],
      "execution_count": null,
      "outputs": [
        {
          "output_type": "stream",
          "text": [
            "best_EXP_WIND_FTS.pkl\t\t rolling_cv_wind_raw_nsfts.csv\n",
            "best_EXP_WIND_MLP.pkl\t\t sample_data\n",
            "rolling_cv_oahu_raw_hofts.csv\t trials_EXP_WIND_FTS.pkl\n",
            "rolling_cv_wind_raw_fts.csv\t trials_EXP_WIND_MLP.pkl\n",
            "rolling_cv_wind_raw_mlp_uni.csv\n"
          ],
          "name": "stdout"
        }
      ]
    },
    {
      "cell_type": "code",
      "metadata": {
        "id": "ENEVrj9bbkBT"
      },
      "source": [
        "fts_results = pd.read_csv(\"rolling_cv_wind_raw_fts.csv\")\n",
        "hofts_results = pd.read_csv(\"rolling_cv_wind_raw_hofts.csv\")\n",
        "mlp_results = pd.read_csv(\"rolling_cv_wind_raw_mlp_uni.csv\")\n",
        "nsfts_results = pd.read_csv(\"rolling_cv_wind_raw_nsfts.csv\")\n",
        "persistence_results = pd.read_csv(\"rolling_cv_wind_raw_persistence.csv\")"
      ],
      "execution_count": null,
      "outputs": []
    },
    {
      "cell_type": "markdown",
      "metadata": {
        "id": "eije8m9lMq9t"
      },
      "source": [
        "## Results Analysis"
      ]
    },
    {
      "cell_type": "code",
      "metadata": {
        "id": "s02vGEKjMq9u",
        "colab": {
          "resources": {
            "http://localhost:8080/nbextensions/google.colab/files.js": {
              "data": "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",
              "ok": true,
              "headers": [
                [
                  "content-type",
                  "application/javascript"
                ]
              ],
              "status": 200,
              "status_text": ""
            }
          },
          "base_uri": "https://localhost:8080/",
          "height": 109
        },
        "outputId": "6250b51d-ac0d-448e-cd3f-1601f9a7e60e"
      },
      "source": [
        "files.upload()"
      ],
      "execution_count": null,
      "outputs": [
        {
          "output_type": "display_data",
          "data": {
            "text/html": [
              "\n",
              "     <input type=\"file\" id=\"files-e4393478-144d-4aab-bc87-989d0f2b09d4\" name=\"files[]\" multiple disabled\n",
              "        style=\"border:none\" />\n",
              "     <output id=\"result-e4393478-144d-4aab-bc87-989d0f2b09d4\">\n",
              "      Upload widget is only available when the cell has been executed in the\n",
              "      current browser session. Please rerun this cell to enable.\n",
              "      </output>\n",
              "      <script src=\"/nbextensions/google.colab/files.js\"></script> "
            ],
            "text/plain": [
              "<IPython.core.display.HTML object>"
            ]
          },
          "metadata": {
            "tags": []
          }
        },
        {
          "output_type": "stream",
          "text": [
            "Saving rolling_cv_wind_raw_persistence.csv to rolling_cv_wind_raw_persistence.csv\n"
          ],
          "name": "stdout"
        },
        {
          "output_type": "execute_result",
          "data": {
            "text/plain": [
              "{'rolling_cv_wind_raw_persistence.csv': b',Split,RMSE,SMAPE,U\\n0,2009-08-01,0.05347965633053514,23.356607394647753,\\n1,2009-08-08,0.05589727204483366,36.201748674396214,\\n2,2009-08-15,0.03339496199272523,29.280238770985694,\\n3,2009-08-22,0.06167515797758484,23.01433859415727,\\n4,2009-08-29,0.045232965852895476,20.038177373272053,\\n5,2009-09-05,0.0909407795118307,15.48417133354496,\\n6,2009-09-12,0.09104559771694028,15.54739063943492,\\n7,2009-09-19,0.08907283130740945,21.489742111036012,\\n8,2009-09-26,0.08258887277606833,28.324559952361135,\\n9,2009-10-03,0.05191807972388522,19.021232286730054,\\n10,2009-10-10,0.06743696563543283,19.165617320085083,\\n11,2009-10-17,0.0800257766949347,18.08750461274053,\\n12,2009-10-24,0.08423362161128864,14.339657486224116,\\n13,2009-10-31,0.05773734894971082,21.16030485141779,\\n14,2009-11-07,0.09212894861938269,13.25788747328536,\\n15,2009-11-14,0.07359209770946314,12.521687772232697,\\n16,2009-11-21,0.05765520461146872,22.122476144522988,\\n17,2009-11-28,0.05742046658051195,23.147283583971284,\\n18,2009-12-05,0.08581453424862809,15.192149154675363,\\n19,2009-12-12,0.060849812860566364,11.799470482388971,\\n20,2009-12-19,0.07559162982591418,16.412681851375783,\\n21,2009-12-26,0.046695597099183674,31.065490269312455,\\n22,2010-01-02,0.0999660457721502,12.431171265299046,\\n23,2010-01-09,0.0802461691892681,26.58971118628004,\\n24,2010-01-16,0.07998862767561747,12.297569556726263,\\n25,2010-01-23,0.05291965778495229,19.536621611393873,\\n26,2010-01-30,0.05423997377066919,17.97781319272113,\\n27,2010-02-06,0.056953017817965544,13.873553855366449,\\n28,2010-02-13,0.07655039599180281,15.555934880430739,\\n29,2010-02-20,0.10432143921454932,13.759704131233905,\\n30,2010-02-27,0.07337801762250105,16.17621243452649,\\n31,2010-03-06,0.06792774161600165,19.159165932080985,\\n32,2010-03-13,0.11714142125109149,16.920879107999546,\\n33,2010-03-20,0.0963423609407135,21.16049592329068,\\n34,2010-03-27,0.056236130316639224,17.020182987005658,\\n35,2010-04-03,0.09503920021258407,14.05972614420806,\\n36,2010-04-10,0.14428557378778384,20.577389654461957,\\n37,2010-04-17,0.11097889683352344,13.977451804134791,\\n38,2010-04-24,0.06602077614064829,22.01565872315307,\\n39,2010-05-01,0.05404874652000658,38.349105419044,\\n40,2010-05-08,0.054038233445315186,38.72963640456412,\\n41,2010-05-15,0.060656278200852724,24.16502589673545,\\n42,2010-05-22,0.07278064883646593,27.5011427916565,\\n43,2010-05-29,0.08177841914160393,21.38887735728278,\\n44,2010-06-05,0.09139549003609117,19.90211936301276,\\n45,2010-06-12,0.07313710529684023,24.332999698911287,\\n46,2010-06-19,0.06732046226660822,27.396503485159467,\\n47,2010-06-26,0.08256934641372943,22.722470020828965,\\n48,2010-07-03,0.062406179520714915,24.388113637525354,\\n49,2010-07-10,0.0014843154408126832,100.0,\\n'}"
            ]
          },
          "metadata": {
            "tags": []
          },
          "execution_count": 30
        }
      ]
    },
    {
      "cell_type": "code",
      "metadata": {
        "id": "lEtPdZvfMq91"
      },
      "source": [
        "pd.options.display.float_format = '{:.4f}'.format"
      ],
      "execution_count": null,
      "outputs": []
    },
    {
      "cell_type": "code",
      "metadata": {
        "id": "-s8Du5snMq94"
      },
      "source": [
        "def createBoxplot(filename, data, xticklabels, ylabel):\n",
        "    # Create a figure instance\n",
        "    fig = plt.figure(1, figsize=(9, 6))\n",
        "\n",
        "    # Create an axes instance\n",
        "    ax = fig.add_subplot(111)\n",
        "\n",
        "    # Create the boxplot\n",
        "    bp = ax.boxplot(data, patch_artist=True)\n",
        "    \n",
        "    ## change outline color, fill color and linewidth of the boxes\n",
        "    for box in bp['boxes']:\n",
        "        # change outline color\n",
        "        box.set( color='#7570b3', linewidth=2)\n",
        "        # change fill color\n",
        "        box.set( facecolor = '#AACCFF' )\n",
        "\n",
        "    ## change color and linewidth of the whiskers\n",
        "    for whisker in bp['whiskers']:\n",
        "        whisker.set(color='#7570b3', linewidth=2)\n",
        "\n",
        "    ## change color and linewidth of the caps\n",
        "    for cap in bp['caps']:\n",
        "        cap.set(color='#7570b3', linewidth=2)\n",
        "\n",
        "    ## change color and linewidth of the medians\n",
        "    for median in bp['medians']:\n",
        "        median.set(color='#FFE680', linewidth=2)\n",
        "\n",
        "    ## change the style of fliers and their fill\n",
        "    for flier in bp['fliers']:\n",
        "        flier.set(marker='o', color='#e7298a', alpha=0.5)\n",
        "    \n",
        "    ## Custom x-axis labels\n",
        "    ax.set_xticklabels(xticklabels)\n",
        "    ax.set_ylabel(ylabel)\n",
        "    plt.show()\n",
        "    fig.savefig(filename, bbox_inches='tight')"
      ],
      "execution_count": null,
      "outputs": []
    },
    {
      "cell_type": "markdown",
      "metadata": {
        "id": "4vg4I3j4Mq98"
      },
      "source": [
        "#### RMSE"
      ]
    },
    {
      "cell_type": "code",
      "metadata": {
        "id": "EsHluWYaMq99",
        "colab": {
          "base_uri": "https://localhost:8080/",
          "height": 374
        },
        "outputId": "6f982042-6322-4af6-e593-2ac0925f8eb0"
      },
      "source": [
        "metric = 'RMSE'\n",
        "results_data = [persistence_results[metric],mlp_results[metric], fts_results[metric],hofts_results[metric], nsfts_results[metric]]\n",
        "xticks = ['Persistence','MLP','FTS','HOFTS','NSFTS']\n",
        "\n",
        "ylab = 'RMSE'\n",
        "createBoxplot(\"nsfts_boxplot_rmse_wind\", results_data, xticks, ylab)"
      ],
      "execution_count": null,
      "outputs": [
        {
          "output_type": "display_data",
          "data": {
            "image/png": "[encoded data removed]",
            "text/plain": [
              "<Figure size 648x432 with 1 Axes>"
            ]
          },
          "metadata": {
            "tags": [],
            "needs_background": "light"
          }
        }
      ]
    },
    {
      "cell_type": "code",
      "metadata": {
        "id": "PHiUUQgoMq-A"
      },
      "source": [
        "metric = 'RMSE'\n",
        "rmse_df = pd.DataFrame(columns=['Persistence','MLP','FTS','HOFTS','NSFTS'])\n",
        "\n",
        "rmse_df[\"Persistence\"] = persistence_results[metric]\n",
        "rmse_df[\"MLP\"] = mlp_results[metric]\n",
        "rmse_df[\"FTS\"] = fts_results[metric]\n",
        "rmse_df[\"HOFTS\"] = hofts_results[metric]\n",
        "rmse_df[\"NSFTS\"] = nsfts_results[metric]"
      ],
      "execution_count": null,
      "outputs": []
    },
    {
      "cell_type": "code",
      "metadata": {
        "id": "t_Pm7Hz8Mq-C",
        "colab": {
          "base_uri": "https://localhost:8080/",
          "height": 255
        },
        "outputId": "742ae0b5-ace6-4741-df00-a81fca949488"
      },
      "source": [
        "print(\"Mean\")\n",
        "print(rmse_df.mean())\n",
        "print(\"std\")\n",
        "print(rmse_df.std())"
      ],
      "execution_count": null,
      "outputs": [
        {
          "output_type": "stream",
          "text": [
            "Mean\n",
            "Persistence   0.0726\n",
            "MLP           0.0708\n",
            "FTS           0.2316\n",
            "HOFTS         0.0780\n",
            "NSFTS         0.0840\n",
            "dtype: float64\n",
            "std\n",
            "Persistence   0.0231\n",
            "MLP           0.0220\n",
            "FTS           0.0657\n",
            "HOFTS         0.0215\n",
            "NSFTS         0.0180\n",
            "dtype: float64\n"
          ],
          "name": "stdout"
        }
      ]
    },
    {
      "cell_type": "markdown",
      "metadata": {
        "id": "ecW_JhN8Mq-F"
      },
      "source": [
        "#### SMAPE"
      ]
    },
    {
      "cell_type": "code",
      "metadata": {
        "id": "Xd-SAwLnMq-G",
        "colab": {
          "base_uri": "https://localhost:8080/",
          "height": 374
        },
        "outputId": "f4c7ba52-d2a4-4a83-f757-2ce96308a1b4"
      },
      "source": [
        "metric = 'SMAPE'\n",
        "results_data = [persistence_results[metric],mlp_results[metric], fts_results[metric], hofts_results[metric], nsfts_results[metric]]\n",
        "xticks = ['Persistence','MLP','FTS','HOFTS','NSFTS']\n",
        "\n",
        "ylab = 'SMAPE'\n",
        "createBoxplot(\"nsfts_boxplot_smape_wind\", results_data, xticks, ylab)"
      ],
      "execution_count": null,
      "outputs": [
        {
          "output_type": "display_data",
          "data": {
            "image/png": "[encoded data removed]",
            "text/plain": [
              "<Figure size 648x432 with 1 Axes>"
            ]
          },
          "metadata": {
            "tags": [],
            "needs_background": "light"
          }
        }
      ]
    },
    {
      "cell_type": "code",
      "metadata": {
        "id": "lDLRlZJ_Mq-K"
      },
      "source": [
        "metric = 'SMAPE'\n",
        "smape_df = pd.DataFrame(columns=['Persistence','MLP','FTS','HOFTS','NSFTS'])\n",
        "\n",
        "smape_df[\"Persistence\"] = persistence_results[metric]\n",
        "smape_df[\"MLP\"] = mlp_results[metric]\n",
        "smape_df[\"FTS\"] = fts_results[metric]\n",
        "smape_df[\"HOFTS\"] = hofts_results[metric]\n",
        "smape_df[\"NSFTS\"] = nsfts_results[metric]"
      ],
      "execution_count": null,
      "outputs": []
    },
    {
      "cell_type": "code",
      "metadata": {
        "id": "9C-KJNPVMq-N",
        "colab": {
          "base_uri": "https://localhost:8080/",
          "height": 255
        },
        "outputId": "57387517-5635-4a19-b15b-948f5ac262d0"
      },
      "source": [
        "print(\"Mean\")\n",
        "print(smape_df.mean())\n",
        "print(\"std\")\n",
        "print(smape_df.std())"
      ],
      "execution_count": null,
      "outputs": [
        {
          "output_type": "stream",
          "text": [
            "Mean\n",
            "Persistence   22.2399\n",
            "MLP           29.1254\n",
            "FTS           48.1129\n",
            "HOFTS         29.9108\n",
            "NSFTS         30.8122\n",
            "dtype: float64\n",
            "std\n",
            "Persistence   12.9715\n",
            "MLP           14.3897\n",
            "FTS           14.1626\n",
            "HOFTS         14.8130\n",
            "NSFTS         14.6366\n",
            "dtype: float64\n"
          ],
          "name": "stdout"
        }
      ]
    }
  ]
}