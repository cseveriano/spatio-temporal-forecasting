{
  "nbformat": 4,
  "nbformat_minor": 0,
  "metadata": {
    "colab": {
      "name": "20200923 - eMVFTS - Wind Energy - SSA.ipynb",
      "provenance": [],
      "toc_visible": true,
      "authorship_tag": "ABX9TyOrPJG9O0vCm1DHwYTDcNCm",
      "include_colab_link": true
    },
    "kernelspec": {
      "name": "python3",
      "display_name": "Python 3"
    }
  },
  "cells": [
    {
      "cell_type": "markdown",
      "metadata": {
        "id": "view-in-github",
        "colab_type": "text"
      },
      "source": [
        "<a href=\"https://colab.research.google.com/github/cseveriano/spatio-temporal-forecasting/blob/master/notebooks/thesis_experiments/20200923_eMVFTS_Wind_Energy_SSA.ipynb\" target=\"_parent\"><img src=\"https://colab.research.google.com/assets/colab-badge.svg\" alt=\"Open In Colab\"/></a>"
      ]
    },
    {
      "cell_type": "markdown",
      "metadata": {
        "id": "WiQufqAuISUg"
      },
      "source": [
        "## Forecasting experiments for GEFCOM2012 Wind Energy Dataset"
      ]
    },
    {
      "cell_type": "markdown",
      "metadata": {
        "id": "B98rDdRxx1F3"
      },
      "source": [
        "\n",
        "## Install Libs\n"
      ]
    },
    {
      "cell_type": "code",
      "metadata": {
        "id": "O_UcD8t_x-XW",
        "colab": {
          "base_uri": "https://localhost:8080/",
          "height": 1000
        },
        "outputId": "9729e50d-f2aa-403b-ae31-f8f180d29c7f"
      },
      "source": [
        "!pip3 install -U git+https://github.com/PYFTS/pyFTS\n",
        "!pip3 install -U git+https://github.com/cseveriano/spatio-temporal-forecasting\n",
        "!pip3 install -U git+https://github.com/cseveriano/evolving_clustering\n",
        "!pip3 install -U git+https://github.com/cseveriano/fts2image\n",
        "!pip3 install -U hyperopt\n",
        "!pip3 install -U pyts"
      ],
      "execution_count": null,
      "outputs": [
        {
          "output_type": "stream",
          "text": [
            "Collecting git+https://github.com/PYFTS/pyFTS\n",
            "  Cloning https://github.com/PYFTS/pyFTS to /tmp/pip-req-build-8f9dftz6\n",
            "  Running command git clone -q https://github.com/PYFTS/pyFTS /tmp/pip-req-build-8f9dftz6\n",
            "Building wheels for collected packages: pyFTS\n",
            "  Building wheel for pyFTS (setup.py) ... \u001b[?25l\u001b[?25hdone\n",
            "  Created wheel for pyFTS: filename=pyFTS-1.6-cp36-none-any.whl size=207416 sha256=439f33373b0a35641004f5ae8d8a47705cacd21e114d16d032c51171dffb22b3\n",
            "  Stored in directory: /tmp/pip-ephem-wheel-cache-y_3ntmsp/wheels/e7/32/a9/230470113df5a73242a5a6d05671cb646db97abf14bbce2644\n",
            "Successfully built pyFTS\n",
            "Installing collected packages: pyFTS\n",
            "Successfully installed pyFTS-1.6\n",
            "Collecting git+https://github.com/cseveriano/spatio-temporal-forecasting\n",
            "  Cloning https://github.com/cseveriano/spatio-temporal-forecasting to /tmp/pip-req-build-4y_uxvdv\n",
            "  Running command git clone -q https://github.com/cseveriano/spatio-temporal-forecasting /tmp/pip-req-build-4y_uxvdv\n",
            "Building wheels for collected packages: spatio-temporal-forecasting\n",
            "  Building wheel for spatio-temporal-forecasting (setup.py) ... \u001b[?25l\u001b[?25hdone\n",
            "  Created wheel for spatio-temporal-forecasting: filename=spatio_temporal_forecasting-1.0-cp36-none-any.whl size=55633 sha256=74d45dd4463e64adefcf6e9294db1496673208a4eb281771a9191f6cd7f70027\n",
            "  Stored in directory: /tmp/pip-ephem-wheel-cache-l_fttxag/wheels/d2/1f/6f/439795864246039ef36c6a3c88edf7935c803c2cf97133066a\n",
            "Successfully built spatio-temporal-forecasting\n",
            "Installing collected packages: spatio-temporal-forecasting\n",
            "Successfully installed spatio-temporal-forecasting-1.0\n",
            "Collecting git+https://github.com/cseveriano/evolving_clustering\n",
            "  Cloning https://github.com/cseveriano/evolving_clustering to /tmp/pip-req-build-6ipy4o3i\n",
            "  Running command git clone -q https://github.com/cseveriano/evolving_clustering /tmp/pip-req-build-6ipy4o3i\n",
            "Building wheels for collected packages: evolclustering\n",
            "  Building wheel for evolclustering (setup.py) ... \u001b[?25l\u001b[?25hdone\n",
            "  Created wheel for evolclustering: filename=evolclustering-0.1-cp36-none-any.whl size=25744 sha256=fb916ee151b33527e7a58fcdf13fc1b4b2b6ad71f747efb4db2b4c6900b95329\n",
            "  Stored in directory: /tmp/pip-ephem-wheel-cache-vuaxwh7q/wheels/aa/b7/f1/4d93077e1b97361934f5992c77be80f0769eba6e0e9da6e22d\n",
            "Successfully built evolclustering\n",
            "Installing collected packages: evolclustering\n",
            "Successfully installed evolclustering-0.1\n",
            "Collecting git+https://github.com/cseveriano/fts2image\n",
            "  Cloning https://github.com/cseveriano/fts2image to /tmp/pip-req-build-vw3j7st1\n",
            "  Running command git clone -q https://github.com/cseveriano/fts2image /tmp/pip-req-build-vw3j7st1\n",
            "Building wheels for collected packages: fts2image\n",
            "  Building wheel for fts2image (setup.py) ... \u001b[?25l\u001b[?25hdone\n",
            "  Created wheel for fts2image: filename=fts2image-0.1.0-py2.py3-none-any.whl size=7975 sha256=a9fd3e19e659fb54af829163dd6c2ca34b7f00de25d5de1d190ccfc5f7acef9a\n",
            "  Stored in directory: /tmp/pip-ephem-wheel-cache-vlzk5l2m/wheels/22/a1/62/57410665915134ffe4bc11ede1f9a47b1f4b29d8aad9582d31\n",
            "Successfully built fts2image\n",
            "Installing collected packages: fts2image\n",
            "Successfully installed fts2image-0.1.0\n",
            "Collecting hyperopt\n",
            "\u001b[?25l  Downloading https://files.pythonhosted.org/packages/90/d5/c7e276f4f7bc65ac26391c435245e5ef8911b4393e3df5a74906c48afeaf/hyperopt-0.2.4-py2.py3-none-any.whl (964kB)\n",
            "\u001b[K     |████████████████████████████████| 972kB 4.3MB/s \n",
            "\u001b[?25hRequirement already satisfied, skipping upgrade: cloudpickle in /usr/local/lib/python3.6/dist-packages (from hyperopt) (1.3.0)\n",
            "Requirement already satisfied, skipping upgrade: numpy in /usr/local/lib/python3.6/dist-packages (from hyperopt) (1.18.5)\n",
            "Requirement already satisfied, skipping upgrade: tqdm in /usr/local/lib/python3.6/dist-packages (from hyperopt) (4.41.1)\n",
            "Requirement already satisfied, skipping upgrade: future in /usr/local/lib/python3.6/dist-packages (from hyperopt) (0.16.0)\n",
            "Requirement already satisfied, skipping upgrade: six in /usr/local/lib/python3.6/dist-packages (from hyperopt) (1.15.0)\n",
            "Requirement already satisfied, skipping upgrade: networkx>=2.2 in /usr/local/lib/python3.6/dist-packages (from hyperopt) (2.5)\n",
            "Requirement already satisfied, skipping upgrade: scipy in /usr/local/lib/python3.6/dist-packages (from hyperopt) (1.4.1)\n",
            "Requirement already satisfied, skipping upgrade: decorator>=4.3.0 in /usr/local/lib/python3.6/dist-packages (from networkx>=2.2->hyperopt) (4.4.2)\n",
            "Installing collected packages: hyperopt\n",
            "  Found existing installation: hyperopt 0.1.2\n",
            "    Uninstalling hyperopt-0.1.2:\n",
            "      Successfully uninstalled hyperopt-0.1.2\n",
            "Successfully installed hyperopt-0.2.4\n",
            "Collecting pyts\n",
            "\u001b[?25l  Downloading https://files.pythonhosted.org/packages/b6/2b/1a62c0d32b40ee85daa8f6a6160828537b3d846c9fe93253b38846c6ec1f/pyts-0.11.0-py3-none-any.whl (2.5MB)\n",
            "\u001b[K     |████████████████████████████████| 2.5MB 4.1MB/s \n",
            "\u001b[?25hRequirement already satisfied, skipping upgrade: joblib>=0.12 in /usr/local/lib/python3.6/dist-packages (from pyts) (0.16.0)\n",
            "Requirement already satisfied, skipping upgrade: numpy>=1.17.5 in /usr/local/lib/python3.6/dist-packages (from pyts) (1.18.5)\n",
            "Requirement already satisfied, skipping upgrade: numba>=0.48.0 in /usr/local/lib/python3.6/dist-packages (from pyts) (0.48.0)\n",
            "Requirement already satisfied, skipping upgrade: scipy>=1.3.0 in /usr/local/lib/python3.6/dist-packages (from pyts) (1.4.1)\n",
            "Requirement already satisfied, skipping upgrade: scikit-learn>=0.22.1 in /usr/local/lib/python3.6/dist-packages (from pyts) (0.22.2.post1)\n",
            "Requirement already satisfied, skipping upgrade: llvmlite<0.32.0,>=0.31.0dev0 in /usr/local/lib/python3.6/dist-packages (from numba>=0.48.0->pyts) (0.31.0)\n",
            "Requirement already satisfied, skipping upgrade: setuptools in /usr/local/lib/python3.6/dist-packages (from numba>=0.48.0->pyts) (50.3.0)\n",
            "Installing collected packages: pyts\n",
            "Successfully installed pyts-0.11.0\n"
          ],
          "name": "stdout"
        }
      ]
    },
    {
      "cell_type": "code",
      "metadata": {
        "id": "wHu_JMgegEAY"
      },
      "source": [
        "import pandas as pd\n",
        "import numpy as np\n",
        "from hyperopt import hp\n",
        "from spatiotemporal.util import parameter_tuning, sampling\n",
        "from spatiotemporal.util import experiments as ex\n",
        "from sklearn.metrics import mean_squared_error\n",
        "from google.colab import files\n",
        "import matplotlib.pyplot as plt\n",
        "import pickle\n",
        "import math\n",
        "from pyFTS.benchmarks import Measures\n",
        "from pyts.decomposition import SingularSpectrumAnalysis\n",
        "from google.colab import files\n",
        "import warnings \n",
        "warnings.filterwarnings(\"ignore\", category=DeprecationWarning)\n",
        "import datetime"
      ],
      "execution_count": null,
      "outputs": []
    },
    {
      "cell_type": "markdown",
      "metadata": {
        "id": "g9BRMrQ_P51z"
      },
      "source": [
        "## Aux Functions"
      ]
    },
    {
      "cell_type": "code",
      "metadata": {
        "id": "lBr4-k-8iISF"
      },
      "source": [
        "def normalize(df):\n",
        "    mindf = df.min()\n",
        "    maxdf = df.max()\n",
        "    return (df-mindf)/(maxdf-mindf)\n",
        "\n",
        "def denormalize(norm, _min, _max):\n",
        "    return [(n * (_max-_min)) + _min for n in norm]\n",
        "\n",
        "\n",
        "def ssa_decomposition(df, period=144, embedding_dim=15, component_threshold=3):\n",
        "  main_inds = [i for i in range(component_threshold)]\n",
        "  res_inds = [i for i in range(component_threshold, embedding_dim)]\n",
        "\n",
        "  groups = [main_inds, res_inds]\n",
        "\n",
        "  stations = [c for c in df.columns if c not in ['zen', 'Ics']]\n",
        "  \n",
        "  clean_df = pd.DataFrame(columns = stations, index = df.index)\n",
        "  residual_df = pd.DataFrame(columns = stations, index = df.index)\n",
        "\n",
        "  for s in stations:\n",
        "    X = np.array(df[s].values)\n",
        "    X = X.reshape(1,len(X))\n",
        "    # Singular Spectrum Analysis\n",
        "    ssa = SingularSpectrumAnalysis(window_size=embedding_dim, groups=groups)\n",
        "    X_ssa = ssa.fit_transform(X)\n",
        "\n",
        "    clean_df[s] = X_ssa[0]\n",
        "    residual_df[s] = X_ssa[1]\n",
        "  return clean_df, residual_df\n",
        "\n",
        "\n",
        "def getRollingWindow(index):\n",
        "    pivot = index\n",
        "    train_start = pivot.strftime('%Y-%m-%d')\n",
        "    pivot = pivot + datetime.timedelta(days=20)\n",
        "    train_end = pivot.strftime('%Y-%m-%d')\n",
        "\n",
        "    pivot = pivot + datetime.timedelta(days=1)\n",
        "    test_start = pivot.strftime('%Y-%m-%d')\n",
        "    pivot = pivot + datetime.timedelta(days=6)\n",
        "    test_end = pivot.strftime('%Y-%m-%d')\n",
        "    \n",
        "    return train_start, train_end, test_start, test_end\n",
        "\n",
        "def calculate_rolling_error(cv_name, df, forecasts, order_list):\n",
        "    cv_results = pd.DataFrame(columns=['Split', 'RMSE', 'SMAPE'])\n",
        "\n",
        "    limit = df.index[-1].strftime('%Y-%m-%d')\n",
        "\n",
        "    test_end = \"\"\n",
        "    index = df.index[0]\n",
        "\n",
        "    for i in np.arange(len(forecasts)):\n",
        "\n",
        "        train_start, train_end, test_start, test_end = getRollingWindow(index)\n",
        "        test = df[test_start : test_end]\n",
        "\n",
        "        yhat = forecasts[i]\n",
        "\n",
        "        order = order_list[i]\n",
        "        rmse = Measures.rmse(test.iloc[order:], yhat[:-1])\n",
        "        \n",
        "        smape = Measures.smape(test.iloc[order:], yhat[:-1])\n",
        "        \n",
        "        res = {'Split' : index.strftime('%Y-%m-%d') ,'RMSE' : rmse, 'SMAPE' : smape}\n",
        "        cv_results = cv_results.append(res, ignore_index=True)\n",
        "        cv_results.to_csv(cv_name+\".csv\")        \n",
        "\n",
        "        index = index + datetime.timedelta(days=7)\n",
        "        \n",
        "    return cv_results\n",
        "\n",
        "def reconstruct_ssa_series(clean, residual):\n",
        "    return [r + c for r, c in zip(residual,clean)]\n",
        "\n",
        "def get_final_forecast(forecasts_clean, forecasts_residual, order_list_clean, order_list_residual):\n",
        "    \n",
        "    forecasts_final = []\n",
        "    order_list = []\n",
        "    \n",
        "    for i in np.arange(len(forecasts_clean)):\n",
        "        f_clean = denormalize(forecasts_clean[i], min_clean, max_clean)\n",
        "        f_residual = denormalize(forecasts_residual[i], min_residual, max_residual)\n",
        "\n",
        "        o_clean = order_list_clean[i]\n",
        "        o_residual = order_list_residual[i]\n",
        "\n",
        "        max_order = max(o_clean, o_residual)\n",
        "\n",
        "        f_final = reconstruct_ssa_series(f_clean[max_order-o_clean:], f_residual[max_order-o_residual:])\n",
        "        \n",
        "        forecasts_final.append(f_final)\n",
        "        order_list.append(max_order)\n",
        "        \n",
        "    return forecasts_final, order_list"
      ],
      "execution_count": null,
      "outputs": []
    },
    {
      "cell_type": "code",
      "metadata": {
        "id": "ZlkR5-ya4JCM"
      },
      "source": [
        "from spatiotemporal.test import methods_space_oahu as ms\n",
        "from spatiotemporal.util import parameter_tuning, sampling\n",
        "from spatiotemporal.util import experiments as ex\n",
        "from sklearn.metrics import mean_squared_error\n",
        "import numpy as np\n",
        "from hyperopt import fmin, tpe, hp, STATUS_OK, Trials\n",
        "from hyperopt import space_eval\n",
        "import traceback\n",
        "from . import sampling\n",
        "import pickle\n",
        "\n",
        "def calculate_error(loss_function, test_df, forecast, offset):\n",
        "    error = loss_function(test_df.iloc[(offset):], forecast)\n",
        "    print(\"Error : \"+str(error))\n",
        "    return error\n",
        "\n",
        "def method_optimize(experiment, forecast_method, train_df, test_df, space, loss_function, max_evals):\n",
        "    def objective(params):\n",
        "        print(params)\n",
        "        try:\n",
        "            _output = list(params['output'])\n",
        "            forecast = forecast_method(train_df, test_df, params)\n",
        "            _step = params.get('step', 1)\n",
        "            offset = params['order'] + _step - 1\n",
        "            error = calculate_error(loss_function, test_df[_output], forecast, offset)\n",
        "        except Exception:\n",
        "            traceback.print_exc()\n",
        "            error = 1000\n",
        "        return {'loss': error, 'status': STATUS_OK}\n",
        "\n",
        "    print(\"Running experiment: \" + experiment)\n",
        "    trials = Trials()\n",
        "    best = fmin(objective, space, algo=tpe.suggest, max_evals=max_evals, trials=trials)\n",
        "    print('best parameters: ')\n",
        "    print(space_eval(space, best))\n",
        "\n",
        "    pickle.dump(best, open(\"best_\" + experiment + \".pkl\", \"wb\"))\n",
        "    pickle.dump(trials, open(\"trials_\" + experiment + \".pkl\", \"wb\"))\n",
        "\n",
        "\n",
        "def run_search(methods, data, train, loss_function, max_evals=100, resample=None):\n",
        "\n",
        "    if resample:\n",
        "        data = sampling.resample_data(data, resample)\n",
        "\n",
        "    train_df, test_df = sampling.train_test_split(data, train)\n",
        "\n",
        "    for experiment, method, space in methods:\n",
        "        method_optimize(experiment, method, train_df, test_df, space, loss_function, max_evals)"
      ],
      "execution_count": null,
      "outputs": []
    },
    {
      "cell_type": "markdown",
      "metadata": {
        "id": "hZ4KkWX7Jb5g"
      },
      "source": [
        "## Load Dataset"
      ]
    },
    {
      "cell_type": "code",
      "metadata": {
        "id": "HKOTmAwrQM2G"
      },
      "source": [
        "import pandas as pd\n",
        "import matplotlib.pyplot as plt\n",
        "import numpy as np\n",
        "import math\n",
        "from sklearn.metrics import mean_squared_error"
      ],
      "execution_count": null,
      "outputs": []
    },
    {
      "cell_type": "code",
      "metadata": {
        "id": "aHWBkv_BJfWZ"
      },
      "source": [
        "#columns names\n",
        "wind_farms = ['wp1', 'wp2', 'wp3', 'wp4', 'wp5', 'wp6', 'wp7']\n",
        "\n",
        "# read raw dataset\n",
        "import pandas as pd\n",
        "df = pd.read_csv('https://query.data.world/s/3zx2jusk4z6zvlg2dafqgshqp3oao6',  parse_dates=['date'], index_col=0)\n",
        "df.index = pd.to_datetime(df.index, format=\"%Y%m%d%H\")\n",
        "\n",
        "interval = ((df.index >= '2009-07') & (df.index <= '2010-08'))\n",
        "df = df.loc[interval]\n",
        "\n",
        "df_ssa_clean, df_ssa_residual = ssa_decomposition(df)\n",
        "\n",
        "\n",
        "#Normalize Data\n",
        "\n",
        "# Save Min-Max for Denorm\n",
        "min_raw = df.min()\n",
        "min_clean = df_ssa_clean.min()\n",
        "min_residual = df_ssa_residual.min()\n",
        "\n",
        "max_raw = df.max()\n",
        "max_clean = df_ssa_clean.max()\n",
        "max_residual = df_ssa_residual.max()\n",
        "\n",
        "# Perform Normalization\n",
        "norm_df_ssa_clean = normalize(df_ssa_clean)\n",
        "norm_df_ssa_residual = normalize(df_ssa_residual)\n",
        "\n",
        "# Tuning split\n",
        "tuning_ssa_clean = norm_df_ssa_clean[\"2009-07-01\":\"2009-07-31\"]\n",
        "tuning_ssa_residual = norm_df_ssa_residual[\"2009-07-01\":\"2009-07-31\"]\n",
        "\n",
        "norm_df_ssa_clean = norm_df_ssa_clean[\"2009-08-01\":\"2010-08-30\"]\n",
        "norm_df_ssa_residual = norm_df_ssa_residual[\"2009-08-01\":\"2010-08-30\"]\n",
        "df = df[\"2009-08-01\":\"2010-08-30\"]"
      ],
      "execution_count": null,
      "outputs": []
    },
    {
      "cell_type": "markdown",
      "metadata": {
        "id": "VS9lU7sIXrJl"
      },
      "source": [
        "## Forecasting Methods"
      ]
    },
    {
      "cell_type": "markdown",
      "metadata": {
        "id": "jEustxeTa7Ub"
      },
      "source": [
        "### Persistence"
      ]
    },
    {
      "cell_type": "code",
      "metadata": {
        "id": "uLxMBBLWa6du"
      },
      "source": [
        "def persistence_forecast(train, test, step):\n",
        "    predictions = []\n",
        "    \n",
        "    for t in np.arange(0,len(test), step):\n",
        "        yhat = [test.iloc[t]]  * step\n",
        "        predictions.extend(yhat)\n",
        "        \n",
        "    return predictions\n",
        "\n",
        "def rolling_cv_persistence(df, step):\n",
        "\n",
        "    forecasts = []\n",
        "    lags_list = []\n",
        "\n",
        "    limit = df.index[-1].strftime('%Y-%m-%d')\n",
        "\n",
        "    test_end = \"\"\n",
        "    index = df.index[0]\n",
        "\n",
        "    while test_end < limit :\n",
        "        print(\"Index: \", index.strftime('%Y-%m-%d'))  \n",
        "\n",
        "        train_start, train_end, test_start, test_end = getRollingWindow(index)\n",
        "        index = index + datetime.timedelta(days=7)\n",
        "        \n",
        "        train = df[train_start : train_end]\n",
        "        test = df[test_start : test_end]\n",
        "    \n",
        "        yhat = persistence_forecast(train, test, step)        \n",
        "        \n",
        "        lags_list.append(1)\n",
        "        forecasts.append(yhat)\n",
        "\n",
        "    return forecasts, lags_list"
      ],
      "execution_count": null,
      "outputs": []
    },
    {
      "cell_type": "code",
      "metadata": {
        "id": "31nxRmc4bCYn",
        "colab": {
          "base_uri": "https://localhost:8080/",
          "height": 1000
        },
        "outputId": "c309fd34-29df-40da-d1a8-be41c0c5a725"
      },
      "source": [
        "forecasts_clean, order_list_clean = rolling_cv_persistence(norm_df_ssa_clean, 1)\n",
        "forecasts_residual, order_list_residual = rolling_cv_persistence(norm_df_ssa_residual, 1)\n",
        "forecasts_final, order_list = get_final_forecast(forecasts_clean, forecasts_residual, order_list_clean, order_list_residual)\n",
        "calculate_rolling_error(\"rolling_cv_wind_persistence\", df, forecasts_final, order_list)"
      ],
      "execution_count": null,
      "outputs": [
        {
          "output_type": "stream",
          "text": [
            "Index:  2009-08-01\n",
            "Index:  2009-08-08\n",
            "Index:  2009-08-15\n",
            "Index:  2009-08-22\n",
            "Index:  2009-08-29\n",
            "Index:  2009-09-05\n",
            "Index:  2009-09-12\n",
            "Index:  2009-09-19\n",
            "Index:  2009-09-26\n",
            "Index:  2009-10-03\n",
            "Index:  2009-10-10\n",
            "Index:  2009-10-17\n",
            "Index:  2009-10-24\n",
            "Index:  2009-10-31\n",
            "Index:  2009-11-07\n",
            "Index:  2009-11-14\n",
            "Index:  2009-11-21\n",
            "Index:  2009-11-28\n",
            "Index:  2009-12-05\n",
            "Index:  2009-12-12\n",
            "Index:  2009-12-19\n",
            "Index:  2009-12-26\n",
            "Index:  2010-01-02\n",
            "Index:  2010-01-09\n",
            "Index:  2010-01-16\n",
            "Index:  2010-01-23\n",
            "Index:  2010-01-30\n",
            "Index:  2010-02-06\n",
            "Index:  2010-02-13\n",
            "Index:  2010-02-20\n",
            "Index:  2010-02-27\n",
            "Index:  2010-03-06\n",
            "Index:  2010-03-13\n",
            "Index:  2010-03-20\n",
            "Index:  2010-03-27\n",
            "Index:  2010-04-03\n",
            "Index:  2010-04-10\n",
            "Index:  2010-04-17\n",
            "Index:  2010-04-24\n",
            "Index:  2010-05-01\n",
            "Index:  2010-05-08\n",
            "Index:  2010-05-15\n",
            "Index:  2010-05-22\n",
            "Index:  2010-05-29\n",
            "Index:  2010-06-05\n",
            "Index:  2010-06-12\n",
            "Index:  2010-06-19\n",
            "Index:  2010-06-26\n",
            "Index:  2010-07-03\n",
            "Index:  2010-07-10\n",
            "Index:  2009-08-01\n",
            "Index:  2009-08-08\n",
            "Index:  2009-08-15\n",
            "Index:  2009-08-22\n",
            "Index:  2009-08-29\n",
            "Index:  2009-09-05\n",
            "Index:  2009-09-12\n",
            "Index:  2009-09-19\n",
            "Index:  2009-09-26\n",
            "Index:  2009-10-03\n",
            "Index:  2009-10-10\n",
            "Index:  2009-10-17\n",
            "Index:  2009-10-24\n",
            "Index:  2009-10-31\n",
            "Index:  2009-11-07\n",
            "Index:  2009-11-14\n",
            "Index:  2009-11-21\n",
            "Index:  2009-11-28\n",
            "Index:  2009-12-05\n",
            "Index:  2009-12-12\n",
            "Index:  2009-12-19\n",
            "Index:  2009-12-26\n",
            "Index:  2010-01-02\n",
            "Index:  2010-01-09\n",
            "Index:  2010-01-16\n",
            "Index:  2010-01-23\n",
            "Index:  2010-01-30\n",
            "Index:  2010-02-06\n",
            "Index:  2010-02-13\n",
            "Index:  2010-02-20\n",
            "Index:  2010-02-27\n",
            "Index:  2010-03-06\n",
            "Index:  2010-03-13\n",
            "Index:  2010-03-20\n",
            "Index:  2010-03-27\n",
            "Index:  2010-04-03\n",
            "Index:  2010-04-10\n",
            "Index:  2010-04-17\n",
            "Index:  2010-04-24\n",
            "Index:  2010-05-01\n",
            "Index:  2010-05-08\n",
            "Index:  2010-05-15\n",
            "Index:  2010-05-22\n",
            "Index:  2010-05-29\n",
            "Index:  2010-06-05\n",
            "Index:  2010-06-12\n",
            "Index:  2010-06-19\n",
            "Index:  2010-06-26\n",
            "Index:  2010-07-03\n",
            "Index:  2010-07-10\n"
          ],
          "name": "stdout"
        },
        {
          "output_type": "execute_result",
          "data": {
            "text/html": [
              "<div>\n",
              "<style scoped>\n",
              "    .dataframe tbody tr th:only-of-type {\n",
              "        vertical-align: middle;\n",
              "    }\n",
              "\n",
              "    .dataframe tbody tr th {\n",
              "        vertical-align: top;\n",
              "    }\n",
              "\n",
              "    .dataframe thead th {\n",
              "        text-align: right;\n",
              "    }\n",
              "</style>\n",
              "<table border=\"1\" class=\"dataframe\">\n",
              "  <thead>\n",
              "    <tr style=\"text-align: right;\">\n",
              "      <th></th>\n",
              "      <th>Split</th>\n",
              "      <th>RMSE</th>\n",
              "      <th>SMAPE</th>\n",
              "    </tr>\n",
              "  </thead>\n",
              "  <tbody>\n",
              "    <tr>\n",
              "      <th>0</th>\n",
              "      <td>2009-08-01</td>\n",
              "      <td>0.059687</td>\n",
              "      <td>35.502280</td>\n",
              "    </tr>\n",
              "    <tr>\n",
              "      <th>1</th>\n",
              "      <td>2009-08-08</td>\n",
              "      <td>0.065654</td>\n",
              "      <td>49.897394</td>\n",
              "    </tr>\n",
              "    <tr>\n",
              "      <th>2</th>\n",
              "      <td>2009-08-15</td>\n",
              "      <td>0.045409</td>\n",
              "      <td>42.640696</td>\n",
              "    </tr>\n",
              "    <tr>\n",
              "      <th>3</th>\n",
              "      <td>2009-08-22</td>\n",
              "      <td>0.057716</td>\n",
              "      <td>34.171760</td>\n",
              "    </tr>\n",
              "    <tr>\n",
              "      <th>4</th>\n",
              "      <td>2009-08-29</td>\n",
              "      <td>0.070012</td>\n",
              "      <td>30.266563</td>\n",
              "    </tr>\n",
              "    <tr>\n",
              "      <th>5</th>\n",
              "      <td>2009-09-05</td>\n",
              "      <td>0.091666</td>\n",
              "      <td>23.539163</td>\n",
              "    </tr>\n",
              "    <tr>\n",
              "      <th>6</th>\n",
              "      <td>2009-09-12</td>\n",
              "      <td>0.100714</td>\n",
              "      <td>27.205763</td>\n",
              "    </tr>\n",
              "    <tr>\n",
              "      <th>7</th>\n",
              "      <td>2009-09-19</td>\n",
              "      <td>0.079969</td>\n",
              "      <td>27.289938</td>\n",
              "    </tr>\n",
              "    <tr>\n",
              "      <th>8</th>\n",
              "      <td>2009-09-26</td>\n",
              "      <td>0.075298</td>\n",
              "      <td>27.600465</td>\n",
              "    </tr>\n",
              "    <tr>\n",
              "      <th>9</th>\n",
              "      <td>2009-10-03</td>\n",
              "      <td>0.081170</td>\n",
              "      <td>26.666622</td>\n",
              "    </tr>\n",
              "    <tr>\n",
              "      <th>10</th>\n",
              "      <td>2009-10-10</td>\n",
              "      <td>0.088509</td>\n",
              "      <td>28.726981</td>\n",
              "    </tr>\n",
              "    <tr>\n",
              "      <th>11</th>\n",
              "      <td>2009-10-17</td>\n",
              "      <td>0.092725</td>\n",
              "      <td>25.069330</td>\n",
              "    </tr>\n",
              "    <tr>\n",
              "      <th>12</th>\n",
              "      <td>2009-10-24</td>\n",
              "      <td>0.085020</td>\n",
              "      <td>16.551805</td>\n",
              "    </tr>\n",
              "    <tr>\n",
              "      <th>13</th>\n",
              "      <td>2009-10-31</td>\n",
              "      <td>0.085434</td>\n",
              "      <td>32.252514</td>\n",
              "    </tr>\n",
              "    <tr>\n",
              "      <th>14</th>\n",
              "      <td>2009-11-07</td>\n",
              "      <td>0.101282</td>\n",
              "      <td>23.528084</td>\n",
              "    </tr>\n",
              "    <tr>\n",
              "      <th>15</th>\n",
              "      <td>2009-11-14</td>\n",
              "      <td>0.082728</td>\n",
              "      <td>17.797770</td>\n",
              "    </tr>\n",
              "    <tr>\n",
              "      <th>16</th>\n",
              "      <td>2009-11-21</td>\n",
              "      <td>0.090493</td>\n",
              "      <td>21.203104</td>\n",
              "    </tr>\n",
              "    <tr>\n",
              "      <th>17</th>\n",
              "      <td>2009-11-28</td>\n",
              "      <td>0.056575</td>\n",
              "      <td>32.455170</td>\n",
              "    </tr>\n",
              "    <tr>\n",
              "      <th>18</th>\n",
              "      <td>2009-12-05</td>\n",
              "      <td>0.098338</td>\n",
              "      <td>17.032820</td>\n",
              "    </tr>\n",
              "    <tr>\n",
              "      <th>19</th>\n",
              "      <td>2009-12-12</td>\n",
              "      <td>0.053048</td>\n",
              "      <td>24.086295</td>\n",
              "    </tr>\n",
              "    <tr>\n",
              "      <th>20</th>\n",
              "      <td>2009-12-19</td>\n",
              "      <td>0.079235</td>\n",
              "      <td>25.192940</td>\n",
              "    </tr>\n",
              "    <tr>\n",
              "      <th>21</th>\n",
              "      <td>2009-12-26</td>\n",
              "      <td>0.085716</td>\n",
              "      <td>37.615086</td>\n",
              "    </tr>\n",
              "    <tr>\n",
              "      <th>22</th>\n",
              "      <td>2010-01-02</td>\n",
              "      <td>0.098571</td>\n",
              "      <td>11.000603</td>\n",
              "    </tr>\n",
              "    <tr>\n",
              "      <th>23</th>\n",
              "      <td>2010-01-09</td>\n",
              "      <td>0.073883</td>\n",
              "      <td>32.675981</td>\n",
              "    </tr>\n",
              "    <tr>\n",
              "      <th>24</th>\n",
              "      <td>2010-01-16</td>\n",
              "      <td>0.079534</td>\n",
              "      <td>20.681933</td>\n",
              "    </tr>\n",
              "    <tr>\n",
              "      <th>25</th>\n",
              "      <td>2010-01-23</td>\n",
              "      <td>0.073387</td>\n",
              "      <td>25.932030</td>\n",
              "    </tr>\n",
              "    <tr>\n",
              "      <th>26</th>\n",
              "      <td>2010-01-30</td>\n",
              "      <td>0.062391</td>\n",
              "      <td>31.865146</td>\n",
              "    </tr>\n",
              "    <tr>\n",
              "      <th>27</th>\n",
              "      <td>2010-02-06</td>\n",
              "      <td>0.067745</td>\n",
              "      <td>19.515736</td>\n",
              "    </tr>\n",
              "    <tr>\n",
              "      <th>28</th>\n",
              "      <td>2010-02-13</td>\n",
              "      <td>0.079427</td>\n",
              "      <td>26.540810</td>\n",
              "    </tr>\n",
              "    <tr>\n",
              "      <th>29</th>\n",
              "      <td>2010-02-20</td>\n",
              "      <td>0.088919</td>\n",
              "      <td>24.585424</td>\n",
              "    </tr>\n",
              "    <tr>\n",
              "      <th>30</th>\n",
              "      <td>2010-02-27</td>\n",
              "      <td>0.092935</td>\n",
              "      <td>25.178384</td>\n",
              "    </tr>\n",
              "    <tr>\n",
              "      <th>31</th>\n",
              "      <td>2010-03-06</td>\n",
              "      <td>0.081008</td>\n",
              "      <td>26.906115</td>\n",
              "    </tr>\n",
              "    <tr>\n",
              "      <th>32</th>\n",
              "      <td>2010-03-13</td>\n",
              "      <td>0.127530</td>\n",
              "      <td>21.492042</td>\n",
              "    </tr>\n",
              "    <tr>\n",
              "      <th>33</th>\n",
              "      <td>2010-03-20</td>\n",
              "      <td>0.108820</td>\n",
              "      <td>28.525527</td>\n",
              "    </tr>\n",
              "    <tr>\n",
              "      <th>34</th>\n",
              "      <td>2010-03-27</td>\n",
              "      <td>0.071042</td>\n",
              "      <td>30.006676</td>\n",
              "    </tr>\n",
              "    <tr>\n",
              "      <th>35</th>\n",
              "      <td>2010-04-03</td>\n",
              "      <td>0.092814</td>\n",
              "      <td>17.911200</td>\n",
              "    </tr>\n",
              "    <tr>\n",
              "      <th>36</th>\n",
              "      <td>2010-04-10</td>\n",
              "      <td>0.141831</td>\n",
              "      <td>29.287740</td>\n",
              "    </tr>\n",
              "    <tr>\n",
              "      <th>37</th>\n",
              "      <td>2010-04-17</td>\n",
              "      <td>0.117519</td>\n",
              "      <td>20.547349</td>\n",
              "    </tr>\n",
              "    <tr>\n",
              "      <th>38</th>\n",
              "      <td>2010-04-24</td>\n",
              "      <td>0.077864</td>\n",
              "      <td>40.083169</td>\n",
              "    </tr>\n",
              "    <tr>\n",
              "      <th>39</th>\n",
              "      <td>2010-05-01</td>\n",
              "      <td>0.075939</td>\n",
              "      <td>43.708310</td>\n",
              "    </tr>\n",
              "    <tr>\n",
              "      <th>40</th>\n",
              "      <td>2010-05-08</td>\n",
              "      <td>0.068649</td>\n",
              "      <td>48.760802</td>\n",
              "    </tr>\n",
              "    <tr>\n",
              "      <th>41</th>\n",
              "      <td>2010-05-15</td>\n",
              "      <td>0.081782</td>\n",
              "      <td>37.479214</td>\n",
              "    </tr>\n",
              "    <tr>\n",
              "      <th>42</th>\n",
              "      <td>2010-05-22</td>\n",
              "      <td>0.084113</td>\n",
              "      <td>37.031666</td>\n",
              "    </tr>\n",
              "    <tr>\n",
              "      <th>43</th>\n",
              "      <td>2010-05-29</td>\n",
              "      <td>0.105748</td>\n",
              "      <td>38.079668</td>\n",
              "    </tr>\n",
              "    <tr>\n",
              "      <th>44</th>\n",
              "      <td>2010-06-05</td>\n",
              "      <td>0.083132</td>\n",
              "      <td>33.840129</td>\n",
              "    </tr>\n",
              "    <tr>\n",
              "      <th>45</th>\n",
              "      <td>2010-06-12</td>\n",
              "      <td>0.066131</td>\n",
              "      <td>32.772034</td>\n",
              "    </tr>\n",
              "    <tr>\n",
              "      <th>46</th>\n",
              "      <td>2010-06-19</td>\n",
              "      <td>0.082578</td>\n",
              "      <td>41.902960</td>\n",
              "    </tr>\n",
              "    <tr>\n",
              "      <th>47</th>\n",
              "      <td>2010-06-26</td>\n",
              "      <td>0.086423</td>\n",
              "      <td>42.338010</td>\n",
              "    </tr>\n",
              "    <tr>\n",
              "      <th>48</th>\n",
              "      <td>2010-07-03</td>\n",
              "      <td>0.070970</td>\n",
              "      <td>37.052047</td>\n",
              "    </tr>\n",
              "    <tr>\n",
              "      <th>49</th>\n",
              "      <td>2010-07-10</td>\n",
              "      <td>0.027021</td>\n",
              "      <td>63.998357</td>\n",
              "    </tr>\n",
              "  </tbody>\n",
              "</table>\n",
              "</div>"
            ],
            "text/plain": [
              "         Split      RMSE      SMAPE\n",
              "0   2009-08-01  0.059687  35.502280\n",
              "1   2009-08-08  0.065654  49.897394\n",
              "2   2009-08-15  0.045409  42.640696\n",
              "3   2009-08-22  0.057716  34.171760\n",
              "4   2009-08-29  0.070012  30.266563\n",
              "5   2009-09-05  0.091666  23.539163\n",
              "6   2009-09-12  0.100714  27.205763\n",
              "7   2009-09-19  0.079969  27.289938\n",
              "8   2009-09-26  0.075298  27.600465\n",
              "9   2009-10-03  0.081170  26.666622\n",
              "10  2009-10-10  0.088509  28.726981\n",
              "11  2009-10-17  0.092725  25.069330\n",
              "12  2009-10-24  0.085020  16.551805\n",
              "13  2009-10-31  0.085434  32.252514\n",
              "14  2009-11-07  0.101282  23.528084\n",
              "15  2009-11-14  0.082728  17.797770\n",
              "16  2009-11-21  0.090493  21.203104\n",
              "17  2009-11-28  0.056575  32.455170\n",
              "18  2009-12-05  0.098338  17.032820\n",
              "19  2009-12-12  0.053048  24.086295\n",
              "20  2009-12-19  0.079235  25.192940\n",
              "21  2009-12-26  0.085716  37.615086\n",
              "22  2010-01-02  0.098571  11.000603\n",
              "23  2010-01-09  0.073883  32.675981\n",
              "24  2010-01-16  0.079534  20.681933\n",
              "25  2010-01-23  0.073387  25.932030\n",
              "26  2010-01-30  0.062391  31.865146\n",
              "27  2010-02-06  0.067745  19.515736\n",
              "28  2010-02-13  0.079427  26.540810\n",
              "29  2010-02-20  0.088919  24.585424\n",
              "30  2010-02-27  0.092935  25.178384\n",
              "31  2010-03-06  0.081008  26.906115\n",
              "32  2010-03-13  0.127530  21.492042\n",
              "33  2010-03-20  0.108820  28.525527\n",
              "34  2010-03-27  0.071042  30.006676\n",
              "35  2010-04-03  0.092814  17.911200\n",
              "36  2010-04-10  0.141831  29.287740\n",
              "37  2010-04-17  0.117519  20.547349\n",
              "38  2010-04-24  0.077864  40.083169\n",
              "39  2010-05-01  0.075939  43.708310\n",
              "40  2010-05-08  0.068649  48.760802\n",
              "41  2010-05-15  0.081782  37.479214\n",
              "42  2010-05-22  0.084113  37.031666\n",
              "43  2010-05-29  0.105748  38.079668\n",
              "44  2010-06-05  0.083132  33.840129\n",
              "45  2010-06-12  0.066131  32.772034\n",
              "46  2010-06-19  0.082578  41.902960\n",
              "47  2010-06-26  0.086423  42.338010\n",
              "48  2010-07-03  0.070970  37.052047\n",
              "49  2010-07-10  0.027021  63.998357"
            ]
          },
          "metadata": {
            "tags": []
          },
          "execution_count": 8
        }
      ]
    },
    {
      "cell_type": "code",
      "metadata": {
        "id": "_QOLSofrbg_1"
      },
      "source": [
        "files.download('rolling_cv_wind_persistence.csv')"
      ],
      "execution_count": null,
      "outputs": []
    },
    {
      "cell_type": "markdown",
      "metadata": {
        "id": "DdMi7e1scYu4"
      },
      "source": [
        "### VAR"
      ]
    },
    {
      "cell_type": "code",
      "metadata": {
        "id": "1MxApA3Acf7m"
      },
      "source": [
        "from statsmodels.tsa.api import VAR, DynamicVAR"
      ],
      "execution_count": null,
      "outputs": []
    },
    {
      "cell_type": "code",
      "metadata": {
        "id": "7MpVUQPbKgYb"
      },
      "source": [
        "def evaluate_VAR_models(test_name, train, validation,target, maxlags_list):\n",
        "    var_results = pd.DataFrame(columns=['Order','RMSE'])\n",
        "    best_score, best_cfg, best_model = float(\"inf\"), None, None\n",
        "    \n",
        "    for lgs in maxlags_list:\n",
        "        model = VAR(train)\n",
        "        results = model.fit(maxlags=lgs, ic='aic')\n",
        "        \n",
        "        order = results.k_ar\n",
        "        forecast = []\n",
        "\n",
        "        for i in range(len(validation)-order) :\n",
        "            forecast.extend(results.forecast(validation.values[i:i+order],1))\n",
        "\n",
        "        forecast_df = pd.DataFrame(columns=validation.columns, data=forecast)\n",
        "        rmse = Measures.rmse(validation[target].iloc[order:], forecast_df[target].values)\n",
        "\n",
        "        if rmse < best_score:\n",
        "            best_score, best_cfg, best_model = rmse, order, results\n",
        "\n",
        "        res = {'Order' : str(order) ,'RMSE' : rmse}\n",
        "        print('VAR (%s)  RMSE=%.3f' % (str(order),rmse))\n",
        "        var_results = var_results.append(res, ignore_index=True)\n",
        "        var_results.to_csv(test_name+\".csv\")\n",
        "        \n",
        "    print('Best VAR(%s) RMSE=%.3f' % (best_cfg, best_score))\n",
        "    return best_model"
      ],
      "execution_count": null,
      "outputs": []
    },
    {
      "cell_type": "code",
      "metadata": {
        "id": "SK-a1a0ZcjBi"
      },
      "source": [
        "def var_forecast(train, test, params):\n",
        "    order = params['order']\n",
        "    step = params['step']\n",
        "\n",
        "    model = VAR(train.values)\n",
        "    results = model.fit(maxlags=order)\n",
        "    lag_order = results.k_ar\n",
        "    print(\"Lag order:\" + str(lag_order))\n",
        "    forecast = []\n",
        "\n",
        "    for i in np.arange(0,len(test)-lag_order+1,step) :\n",
        "        forecast.extend(results.forecast(test.values[i:i+lag_order],step))\n",
        "\n",
        "    forecast_df = pd.DataFrame(columns=test.columns, data=forecast)\n",
        "    return forecast_df.values, lag_order"
      ],
      "execution_count": null,
      "outputs": []
    },
    {
      "cell_type": "code",
      "metadata": {
        "id": "YnAuyYY2Ku0M"
      },
      "source": [
        "def rolling_cv_var(df, params):\n",
        "    forecasts = []\n",
        "    order_list = []\n",
        "\n",
        "    limit = df.index[-1].strftime('%Y-%m-%d')\n",
        "\n",
        "    test_end = \"\"\n",
        "    index = df.index[0]\n",
        "\n",
        "    while test_end < limit :\n",
        "        print(\"Index: \", index.strftime('%Y-%m-%d'))  \n",
        "\n",
        "        train_start, train_end, test_start, test_end = getRollingWindow(index)\n",
        "        index = index + datetime.timedelta(days=7)\n",
        "        \n",
        "        train = df[train_start : train_end]\n",
        "        test = df[test_start : test_end]\n",
        "    \n",
        "        # Concat train & validation for test\n",
        "        yhat, lag_order = var_forecast(train, test, params)\n",
        "        \n",
        "        forecasts.append(yhat)\n",
        "        order_list.append(lag_order)\n",
        "\n",
        "    return forecasts, order_list"
      ],
      "execution_count": null,
      "outputs": []
    },
    {
      "cell_type": "code",
      "metadata": {
        "id": "2ALT505EcomF"
      },
      "source": [
        "params_clean = {'order': 4, 'step': 1}\n",
        "params_residual = {'order': 4, 'step': 1}\n",
        "\n",
        "forecasts_clean, order_list_clean = rolling_cv_var(norm_df_ssa_clean, params_clean)\n",
        "forecasts_residual, order_list_residual = rolling_cv_var(norm_df_ssa_residual, params_residual)\n",
        "\n",
        "forecasts_final, order_list = get_final_forecast(forecasts_clean, forecasts_residual, order_list_clean, order_list_residual)\n",
        "calculate_rolling_error(\"rolling_cv_wind_var\", df, forecasts_final, order_list)"
      ],
      "execution_count": null,
      "outputs": []
    },
    {
      "cell_type": "code",
      "metadata": {
        "id": "QzigtkZ-Repi"
      },
      "source": [
        "files.download('rolling_cv_wind_var.csv')"
      ],
      "execution_count": null,
      "outputs": []
    },
    {
      "cell_type": "markdown",
      "metadata": {
        "id": "WCvsy-tHdTuN"
      },
      "source": [
        "### e-MVFTS"
      ]
    },
    {
      "cell_type": "code",
      "metadata": {
        "id": "lCx9NiYEjSZr"
      },
      "source": [
        "from spatiotemporal.models.clusteredmvfts.fts import evolvingclusterfts"
      ],
      "execution_count": null,
      "outputs": []
    },
    {
      "cell_type": "code",
      "metadata": {
        "id": "iq9njQOmdtHU"
      },
      "source": [
        "def evolvingfts_forecast(train_df, test_df, params, train_model=True):\n",
        "\n",
        "    _variance_limit = params['variance_limit']\n",
        "    _defuzzy = params['defuzzy']\n",
        "    _t_norm = params['t_norm']\n",
        "    _membership_threshold = params['membership_threshold']\n",
        "    _order = params['order']\n",
        "    _step = params['step']\n",
        "\n",
        "\n",
        "    model = evolvingclusterfts.EvolvingClusterFTS(variance_limit=_variance_limit, defuzzy=_defuzzy, t_norm=_t_norm,\n",
        "                                                  membership_threshold=_membership_threshold)\n",
        "\n",
        "    model.fit(train_df.values, order=_order, verbose=False)\n",
        "\n",
        "    forecast = model.predict(test_df.values, steps_ahead=_step)\n",
        "\n",
        "    forecast_df = pd.DataFrame(data=forecast, columns=test_df.columns)\n",
        "    return forecast_df.values"
      ],
      "execution_count": null,
      "outputs": []
    },
    {
      "cell_type": "code",
      "metadata": {
        "id": "NNFgSmALkRra"
      },
      "source": [
        "def rolling_cv_evolving(df, params):\n",
        "    forecasts = []\n",
        "    order_list = []\n",
        "\n",
        "    limit = df.index[-1].strftime('%Y-%m-%d')\n",
        "\n",
        "    test_end = \"\"\n",
        "    index = df.index[0]\n",
        "\n",
        "    first_time = True\n",
        "\n",
        "    while test_end < limit :\n",
        "        print(\"Index: \", index.strftime('%Y-%m-%d'))  \n",
        "\n",
        "        train_start, train_end, test_start, test_end = getRollingWindow(index)\n",
        "        index = index + datetime.timedelta(days=7)\n",
        "        \n",
        "        train = df[train_start : train_end]\n",
        "        test = df[test_start : test_end]\n",
        "    \n",
        "        # Concat train & validation for test\n",
        "        yhat = list(evolvingfts_forecast(train, test, params, train_model=first_time))\n",
        "        #yhat.append(yhat[-1]) #para manter o formato do vetor de metricas\n",
        "        forecasts.append(yhat)\n",
        "        order_list.append(params['order'])\n",
        "\n",
        "        first_time = False\n",
        "\n",
        "    return forecasts, order_list"
      ],
      "execution_count": null,
      "outputs": []
    },
    {
      "cell_type": "code",
      "metadata": {
        "id": "u9HSOzyzXNJq"
      },
      "source": [
        "params_clean = {'variance_limit': 0.001, 'order': 2, 'defuzzy': 'weighted', 't_norm': 'threshold', 'membership_threshold': 0.6, 'step':1}\n",
        "params_residual = {'variance_limit': 0.001, 'order': 2, 'defuzzy': 'weighted', 't_norm': 'threshold', 'membership_threshold': 0.6, 'step':1}\n",
        "\n",
        "forecasts_clean, order_list_clean = rolling_cv_evolving(norm_df_ssa_clean, params_clean)\n",
        "forecasts_residual, order_list_residual = rolling_cv_evolving(norm_df_ssa_residual, params_residual)\n",
        "\n",
        "forecasts_final, order_list = get_final_forecast(forecasts_clean, forecasts_residual, order_list_clean, order_list_residual)\n",
        "calculate_rolling_error(\"rolling_cv_wind_emvfts\", df, forecasts_final, order_list)"
      ],
      "execution_count": null,
      "outputs": []
    },
    {
      "cell_type": "code",
      "metadata": {
        "id": "M-_n_uWMjPw7"
      },
      "source": [
        "files.download('rolling_cv_wind_emvfts.csv')"
      ],
      "execution_count": null,
      "outputs": []
    },
    {
      "cell_type": "markdown",
      "metadata": {
        "id": "8lbu8aLan_Yt"
      },
      "source": [
        "### MLP"
      ]
    },
    {
      "cell_type": "code",
      "metadata": {
        "id": "LwBHQp9er2BG"
      },
      "source": [
        "from keras.models import Sequential\n",
        "from keras.layers import Dense\n",
        "from keras.layers import LSTM\n",
        "from keras.layers import Dropout\n",
        "from keras.constraints import maxnorm\n",
        "from keras.models import Sequential\n",
        "from keras.layers.core import Dense, Dropout, Activation\n",
        "from keras.layers.normalization import BatchNormalization"
      ],
      "execution_count": null,
      "outputs": []
    },
    {
      "cell_type": "code",
      "metadata": {
        "id": "OhmFnGmHoB5X"
      },
      "source": [
        "# convert series to supervised learning\n",
        "def series_to_supervised(data, n_in=1, n_out=1, dropnan=True):\n",
        "    n_vars = 1 if type(data) is list else data.shape[1]\n",
        "    df = pd.DataFrame(data)\n",
        "    cols, names = list(), list()\n",
        "    # input sequence (t-n, ... t-1)\n",
        "    for i in range(n_in, 0, -1):\n",
        "        cols.append(df.shift(i))\n",
        "        names += [('var%d(t-%d)' % (j+1, i)) for j in range(n_vars)]\n",
        "    # forecast sequence (t, t+1, ... t+n)\n",
        "    for i in range(0, n_out):\n",
        "        cols.append(df.shift(-i))\n",
        "        if i == 0:\n",
        "            names += [('var%d(t)' % (j+1)) for j in range(n_vars)]\n",
        "        else:\n",
        "            names += [('var%d(t+%d)' % (j+1, i)) for j in range(n_vars)]\n",
        "    # put it all together\n",
        "    agg = pd.concat(cols, axis=1)\n",
        "    agg.columns = names\n",
        "    # drop rows with NaN values\n",
        "    if dropnan:\n",
        "        agg.dropna(inplace=True)\n",
        "    return agg"
      ],
      "execution_count": null,
      "outputs": []
    },
    {
      "cell_type": "markdown",
      "metadata": {
        "id": "M67t6lilUlYC"
      },
      "source": [
        "#### MLP Parameter Tuning"
      ]
    },
    {
      "cell_type": "code",
      "metadata": {
        "id": "nJBFQgGhU_0z"
      },
      "source": [
        "from spatiotemporal.util import parameter_tuning, sampling\n",
        "from spatiotemporal.util import experiments as ex\n",
        "from sklearn.metrics import mean_squared_error\n",
        "from hyperopt import hp\n",
        "import numpy as np"
      ],
      "execution_count": null,
      "outputs": []
    },
    {
      "cell_type": "code",
      "metadata": {
        "id": "YNRVPkeDUzu3"
      },
      "source": [
        "mlp_space = {'choice':\n",
        "\n",
        "   hp.choice('num_layers',\n",
        "             [\n",
        "                 {'layers': 'two',\n",
        "                 },\n",
        "\n",
        "                 {'layers': 'three',\n",
        "\n",
        "                   'units3': hp.choice('units3', [8, 16, 64, 128, 256, 512]),\n",
        "                   'dropout3': hp.choice('dropout3', [0, 0.25, 0.5, 0.75])\n",
        "                  }\n",
        "\n",
        "             ]),\n",
        "   'units1': hp.choice('units1', [8, 16, 64, 128, 256, 512]),\n",
        "   'units2': hp.choice('units2', [8, 16, 64, 128, 256, 512]),\n",
        "\n",
        "   'dropout1': hp.choice('dropout1', [0, 0.25, 0.5, 0.75]),\n",
        "   'dropout2': hp.choice('dropout2', [0, 0.25, 0.5, 0.75]),\n",
        "\n",
        "   'batch_size': hp.choice('batch_size', [28, 64, 128, 256, 512]),\n",
        "   'order': hp.choice('order', [1, 2, 3]),\n",
        "   'input': hp.choice('input', [wind_farms]),\n",
        "   'output': hp.choice('output', [wind_farms]),\n",
        "   'epochs': hp.choice('epochs', [100, 200, 300])}\n"
      ],
      "execution_count": null,
      "outputs": []
    },
    {
      "cell_type": "code",
      "metadata": {
        "id": "aeB6ImDOVGsY"
      },
      "source": [
        "def mlp_tuning(train_df, test_df, params):\n",
        "    _input = list(params['input'])\n",
        "    _nlags = params['order']\n",
        "    _epochs = params['epochs']\n",
        "    _batch_size = params['batch_size']\n",
        "    nfeat = len(train_df.columns)\n",
        "    nsteps = params.get('step',1)\n",
        "    nobs = _nlags * nfeat\n",
        "\n",
        "    output_index = -nfeat*nsteps\n",
        "\n",
        "    train_reshaped_df = series_to_supervised(train_df[_input], n_in=_nlags, n_out=nsteps)\n",
        "    train_X, train_Y = train_reshaped_df.iloc[:, :nobs].values, train_reshaped_df.iloc[:, output_index:].values\n",
        "\n",
        "    test_reshaped_df = series_to_supervised(test_df[_input], n_in=_nlags, n_out=nsteps)\n",
        "    test_X, test_Y = test_reshaped_df.iloc[:, :nobs].values, test_reshaped_df.iloc[:, output_index:].values\n",
        "\n",
        "    # design network\n",
        "    model = Sequential()\n",
        "    model.add(Dense(params['units1'], input_dim=train_X.shape[1], activation='relu'))\n",
        "    model.add(Dropout(params['dropout1']))\n",
        "    model.add(BatchNormalization())\n",
        "\n",
        "    model.add(Dense(params['units2'], activation='relu'))\n",
        "    model.add(Dropout(params['dropout2']))\n",
        "    model.add(BatchNormalization())\n",
        "\n",
        "    if params['choice']['layers'] == 'three':\n",
        "        model.add(Dense(params['choice']['units3'], activation='relu'))\n",
        "        model.add(Dropout(params['choice']['dropout3']))\n",
        "        model.add(BatchNormalization())\n",
        "\n",
        "    model.add(Dense(train_Y.shape[1], activation='sigmoid'))\n",
        "    model.compile(loss='mse', optimizer='adam')\n",
        "\n",
        "    # includes the call back object\n",
        "    model.fit(train_X, train_Y, epochs=_epochs, batch_size=_batch_size, verbose=False, shuffle=False)\n",
        "\n",
        "    # predict the test set\n",
        "    forecast = model.predict(test_X, verbose=False)\n",
        "\n",
        "    return forecast\n"
      ],
      "execution_count": null,
      "outputs": []
    },
    {
      "cell_type": "code",
      "metadata": {
        "id": "xfCg9twkiDPh"
      },
      "source": [
        "methods = []\n",
        "methods.append((\"EXP_wind_MLP\", mlp_tuning, mlp_space))\n",
        "train_split = 0.6\n",
        "run_search(methods, tuning_ssa_residual, train_split, Measures.rmse, max_evals=30, resample=None)"
      ],
      "execution_count": null,
      "outputs": []
    },
    {
      "cell_type": "markdown",
      "metadata": {
        "id": "DZ9toU2mVac2"
      },
      "source": [
        "#### MLP Forecasting"
      ]
    },
    {
      "cell_type": "code",
      "metadata": {
        "id": "5oahrWS9r-zE"
      },
      "source": [
        "def mlp_multi_forecast(train_df, test_df, params):\n",
        "\n",
        "    \n",
        "    nfeat = len(train_df.columns)\n",
        "    nlags = params['order']\n",
        "    nsteps = params.get('step',1)\n",
        "    nobs = nlags * nfeat\n",
        "\n",
        "    output_index = -nfeat*nsteps\n",
        "\n",
        "    train_reshaped_df = series_to_supervised(train_df, n_in=nlags, n_out=nsteps)\n",
        "    train_X, train_Y = train_reshaped_df.iloc[:, :nobs].values, train_reshaped_df.iloc[:, output_index:].values\n",
        "\n",
        "    test_reshaped_df = series_to_supervised(test_df, n_in=nlags, n_out=nsteps)\n",
        "    test_X, test_Y = test_reshaped_df.iloc[:, :nobs].values, test_reshaped_df.iloc[:, output_index:].values\n",
        "    \n",
        "    # design network\n",
        "    model = designMLPNetwork(train_X.shape[1], train_Y.shape[1], params)\n",
        "    \n",
        "    # fit network\n",
        "    model.fit(train_X, train_Y, epochs=500, batch_size=1000, verbose=False, shuffle=False)\n",
        "    \n",
        "    forecast = model.predict(test_X)\n",
        "    \n",
        "#    fcst = [f[0] for f in forecast]\n",
        "    fcst = forecast\n",
        "    return fcst"
      ],
      "execution_count": null,
      "outputs": []
    },
    {
      "cell_type": "code",
      "metadata": {
        "id": "c4ZEEfNLsJp6"
      },
      "source": [
        "def designMLPNetwork(input_shape, output_shape, params):\n",
        "    model = Sequential()\n",
        "    model.add(Dense(params['units1'], input_dim=input_shape, activation='relu'))\n",
        "    model.add(Dropout(params['dropout1']))\n",
        "    model.add(BatchNormalization())\n",
        "\n",
        "    model.add(Dense(params['units2'], activation='relu'))\n",
        "    model.add(Dropout(params['dropout2']))\n",
        "    model.add(BatchNormalization())\n",
        "\n",
        "    if params['choice']['layers'] == 'three':\n",
        "        model.add(Dense(params['choice']['units3'], activation='relu'))\n",
        "        model.add(Dropout(params['choice']['dropout3']))\n",
        "        model.add(BatchNormalization())\n",
        "\n",
        "    model.add(Dense(output_shape, activation='sigmoid'))\n",
        "    model.compile(loss='mse', optimizer='adam')\n",
        "\n",
        "    return model"
      ],
      "execution_count": null,
      "outputs": []
    },
    {
      "cell_type": "code",
      "metadata": {
        "id": "t8btj2aDsVyk"
      },
      "source": [
        "def rolling_cv_mlp(df, params):\n",
        "    \n",
        "    forecasts = []\n",
        "    order_list = []\n",
        "\n",
        "    limit = df.index[-1].strftime('%Y-%m-%d')\n",
        "\n",
        "    test_end = \"\"\n",
        "    index = df.index[0]\n",
        "\n",
        "    while test_end < limit :\n",
        "        print(\"Index: \", index.strftime('%Y-%m-%d'))  \n",
        "\n",
        "        train_start, train_end, test_start, test_end = getRollingWindow(index)\n",
        "        index = index + datetime.timedelta(days=7)\n",
        "        \n",
        "        train = df[train_start : train_end]\n",
        "        test = df[test_start : test_end]\n",
        "\n",
        "        # Perform forecast\n",
        "        yhat = list(mlp_multi_forecast(train, test, params))\n",
        "        \n",
        "        yhat.append(yhat[-1]) #para manter o formato do vetor de metricas\n",
        "        \n",
        "        forecasts.append(yhat)\n",
        "        order_list.append(params['order'])\n",
        "\n",
        "    return forecasts, order_list"
      ],
      "execution_count": null,
      "outputs": []
    },
    {
      "cell_type": "code",
      "metadata": {
        "id": "pVEGpB98sq23"
      },
      "source": [
        "# Enter best params\n",
        "params_clean = {'batch_size': 512, 'choice': {'dropout3': 0.25, 'layers': 'three', 'units3': 128}, 'dropout1': 0.25, 'dropout2': 0.25, 'epochs': 200, 'input': ('DH3', 'DH4', 'DH5', 'DH10', 'DH9', 'DH2', 'AP1', 'DH6', 'DH7', 'AP2'), 'order': 2, 'output': ('DH3', 'DH4', 'DH5', 'DH10', 'DH9', 'DH2', 'AP1', 'DH6', 'DH7', 'AP2'), 'units1': 256, 'units2': 512}\n",
        "\n",
        "params_residual = {'batch_size': 128, 'choice': {'dropout3': 0.25, 'layers': 'three', 'units3': 256}, 'dropout1': 0.25, 'dropout2': 0.25, 'epochs': 200, 'input': ('DH3', 'DH4', 'DH5', 'DH10', 'DH9', 'DH2', 'AP1', 'DH6', 'DH7', 'AP2'), 'order': 3, 'output': ('DH3', 'DH4', 'DH5', 'DH10', 'DH9', 'DH2', 'AP1', 'DH6', 'DH7', 'AP2'), 'units1': 512, 'units2': 512}\n",
        "\n",
        "forecasts_clean, order_list_clean = rolling_cv_mlp(norm_df_ssa_clean, params_clean)\n",
        "forecasts_residual, order_list_residual = rolling_cv_mlp(norm_df_ssa_residual, params_residual)\n",
        "\n",
        "forecasts_final, order_list = get_final_forecast(forecasts_clean, forecasts_residual, order_list_clean, order_list_residual)\n",
        "calculate_rolling_error(\"rolling_cv_wind_mlp_multi\", df, forecasts_final, order_list)"
      ],
      "execution_count": null,
      "outputs": []
    },
    {
      "cell_type": "code",
      "metadata": {
        "id": "7nKc-SoUG7Ob"
      },
      "source": [
        "files.download('rolling_cv_wind_mlp_multi.csv')"
      ],
      "execution_count": null,
      "outputs": []
    },
    {
      "cell_type": "markdown",
      "metadata": {
        "id": "8TrCf5o3wRtf"
      },
      "source": [
        "### Granular FTS"
      ]
    },
    {
      "cell_type": "code",
      "metadata": {
        "id": "8XLpD3ADwUKl"
      },
      "source": [
        "from pyFTS.models.multivariate import granular\n",
        "from pyFTS.partitioners import Grid, Entropy\n",
        "from pyFTS.models.multivariate import variable\n",
        "from pyFTS.common import Membership\n",
        "from pyFTS.partitioners import Grid, Entropy"
      ],
      "execution_count": null,
      "outputs": []
    },
    {
      "cell_type": "markdown",
      "metadata": {
        "id": "Sy91cSv-bPe-"
      },
      "source": [
        "#### Granular Parameter Tuning"
      ]
    },
    {
      "cell_type": "code",
      "metadata": {
        "id": "VSznTw3qdZm5"
      },
      "source": [
        "granular_space = {\n",
        "    'npartitions': hp.choice('npartitions', [100, 150, 200]),\n",
        "    'order': hp.choice('order', [1, 2]),\n",
        "    'knn': hp.choice('knn', [1, 2, 3, 4, 5]),\n",
        "    'alpha_cut': hp.choice('alpha_cut', [0, 0.1, 0.2, 0.3]),\n",
        "   'input': hp.choice('input', [['wp1', 'wp2', 'wp3']]),\n",
        "   'output': hp.choice('output', [['wp1', 'wp2', 'wp3']])}"
      ],
      "execution_count": null,
      "outputs": []
    },
    {
      "cell_type": "code",
      "metadata": {
        "id": "pDf07Ua7bOkd"
      },
      "source": [
        "def granular_tuning(train_df, test_df, params):\n",
        "    _input = list(params['input'])\n",
        "    _output = list(params['output'])\n",
        "    _npartitions = params['npartitions']\n",
        "    _order = params['order']\n",
        "    _knn = params['knn']\n",
        "    _alpha_cut = params['alpha_cut']\n",
        "    _step = params.get('step',1)\n",
        "\n",
        "    ## create explanatory variables\n",
        "    exp_variables = []\n",
        "    for vc in _input:\n",
        "        exp_variables.append(variable.Variable(vc, data_label=vc, alias=vc,\n",
        "                                               npart=_npartitions, func=Membership.trimf,\n",
        "                                               data=train_df, alpha_cut=_alpha_cut))\n",
        "    model = granular.GranularWMVFTS(explanatory_variables=exp_variables, target_variable=exp_variables[0], order=_order,\n",
        "                                    knn=_knn)\n",
        "    model.fit(train_df[_input], num_batches=1)\n",
        "\n",
        "    if _step > 1:\n",
        "        forecast = pd.DataFrame(columns=test_df.columns)\n",
        "        length = len(test_df.index)\n",
        "\n",
        "        for k in range(0,(length -(_order + _step - 1))):\n",
        "            fcst = model.predict(test_df[_input], type='multivariate', start_at=k, steps_ahead=_step)\n",
        "            forecast = forecast.append(fcst.tail(1))\n",
        "    else:\n",
        "        forecast = model.predict(test_df[_input], type='multivariate')\n",
        "\n",
        "    return forecast[_output].values\n"
      ],
      "execution_count": null,
      "outputs": []
    },
    {
      "cell_type": "code",
      "metadata": {
        "id": "LJ9SITzDdM4K"
      },
      "source": [
        "methods = []\n",
        "methods.append((\"EXP_WIND_GRANULAR\", granular_tuning, granular_space))"
      ],
      "execution_count": null,
      "outputs": []
    },
    {
      "cell_type": "code",
      "metadata": {
        "id": "OnCvUcmOdlQw"
      },
      "source": [
        "train_split = 0.6\n",
        "run_search(methods, norm_df_ssa_clean, train_split, Measures.rmse, max_evals=10, resample=None)"
      ],
      "execution_count": null,
      "outputs": []
    },
    {
      "cell_type": "markdown",
      "metadata": {
        "id": "5FZfm7NjbVc0"
      },
      "source": [
        "#### Granular Forecasting"
      ]
    },
    {
      "cell_type": "code",
      "metadata": {
        "id": "c2bZmI1obYUh"
      },
      "source": [
        "def granular_forecast(train_df, test_df, params):\n",
        "\n",
        "    _input = list(params['input'])\n",
        "    _output = list(params['output'])\n",
        "    _npartitions = params['npartitions']\n",
        "    _knn = params['knn']\n",
        "    _alpha_cut = params['alpha_cut']\n",
        "    _order = params['order']\n",
        "    _step = params.get('step',1)\n",
        "\n",
        "    ## create explanatory variables\n",
        "    exp_variables = []\n",
        "    for vc in _input:\n",
        "        exp_variables.append(variable.Variable(vc, data_label=vc, alias=vc,\n",
        "                                               npart=_npartitions, func=Membership.trimf,\n",
        "                                               data=train_df, alpha_cut=_alpha_cut))\n",
        "    model = granular.GranularWMVFTS(explanatory_variables=exp_variables, target_variable=exp_variables[0], order=_order,\n",
        "                                    knn=_knn)\n",
        "    model.fit(train_df[_input], num_batches=1)\n",
        "\n",
        "    if _step > 1:\n",
        "        forecast = pd.DataFrame(columns=test_df.columns)\n",
        "        length = len(test_df.index)\n",
        "\n",
        "        for k in range(0,(length -(_order + _step - 1))):\n",
        "            fcst = model.predict(test_df[_input], type='multivariate', start_at=k, steps_ahead=_step)\n",
        "            forecast = forecast.append(fcst.tail(1))\n",
        "    else:\n",
        "        forecast = model.predict(test_df[_input], type='multivariate')\n",
        "\n",
        "    return forecast[_output].values\n"
      ],
      "execution_count": null,
      "outputs": []
    },
    {
      "cell_type": "code",
      "metadata": {
        "id": "zRRkdE-Jg4X1"
      },
      "source": [
        "def rolling_cv_granular(df, params):\n",
        "    \n",
        "    forecasts = []\n",
        "    order_list = []\n",
        "\n",
        "    limit = df.index[-1].strftime('%Y-%m-%d')\n",
        "\n",
        "    test_end = \"\"\n",
        "    index = df.index[0]\n",
        "\n",
        "    while test_end < limit :\n",
        "        print(\"Index: \", index.strftime('%Y-%m-%d'))  \n",
        "\n",
        "        train_start, train_end, test_start, test_end = getRollingWindow(index)\n",
        "        index = index + datetime.timedelta(days=7)\n",
        "        \n",
        "        train = df[train_start : train_end]\n",
        "        test = df[test_start : test_end]\n",
        "\n",
        "\n",
        "        # Perform forecast\n",
        "        yhat = list(granular_forecast(train, test, params))\n",
        "        \n",
        "        yhat.append(yhat[-1]) #para manter o formato do vetor de metricas\n",
        "        \n",
        "        forecasts.append(yhat)\n",
        "        order_list.append(params['order'])\n",
        "\n",
        "    return forecasts, order_list"
      ],
      "execution_count": null,
      "outputs": []
    },
    {
      "cell_type": "code",
      "metadata": {
        "id": "2iS4VCWa0QcL"
      },
      "source": [
        "def granular_get_final_forecast(forecasts_clean, forecasts_residual, order_list_clean, order_list_residual, input):\n",
        "    \n",
        "    forecasts_final = []\n",
        "    order_list = []\n",
        "    l_min_clean = df_ssa_clean[input].min()\n",
        "    l_min_residual = df_ssa_residual[input].min()\n",
        "\n",
        "    l_max_clean = df_ssa_clean[input].max()\n",
        "    l_max_residual = df_ssa_residual[input].max()\n",
        "\n",
        "\n",
        "    for i in np.arange(len(forecasts_clean)):\n",
        "        f_clean = denormalize(forecasts_clean[i], l_min_clean, l_max_clean)\n",
        "        f_residual = denormalize(forecasts_residual[i], l_min_residual, l_max_residual)\n",
        "\n",
        "        o_clean = order_list_clean[i]\n",
        "        o_residual = order_list_residual[i]\n",
        "\n",
        "        max_order = max(o_clean, o_residual)\n",
        "\n",
        "        f_final = reconstruct_ssa_series(f_clean[max_order-o_clean:], f_residual[max_order-o_residual:])\n",
        "        \n",
        "        forecasts_final.append(f_final)\n",
        "        order_list.append(max_order)\n",
        "        \n",
        "    return forecasts_final, order_list"
      ],
      "execution_count": null,
      "outputs": []
    },
    {
      "cell_type": "code",
      "metadata": {
        "id": "TxmOkURxcJ79"
      },
      "source": [
        "# Enter best params\n",
        "params_clean = {'alpha_cut': 0.2, 'input': ('wp1', 'wp2', 'wp3'), 'knn': 5, 'npartitions': 150, 'order': 2, 'output': ('wp1', 'wp2', 'wp3')}\n",
        "\n",
        "params_residual = {'alpha_cut': 0.3, 'input': ('wp1', 'wp2', 'wp3'), 'knn': 5, 'npartitions': 100, 'order': 1, 'output': ('wp1', 'wp2', 'wp3')}\n",
        "\n",
        "forecasts_clean, order_list_clean = rolling_cv_granular(norm_df_ssa_clean, params_clean)\n",
        "forecasts_residual, order_list_residual = rolling_cv_granular(norm_df_ssa_residual, params_residual)\n",
        "\n",
        "forecasts_final, order_list = granular_get_final_forecast(forecasts_clean, forecasts_residual, order_list_clean, order_list_residual, list(params_clean['input']))\n",
        "calculate_rolling_error(\"rolling_cv_wind_granular\", df[list(params_clean['input'])], forecasts_final, order_list)"
      ],
      "execution_count": null,
      "outputs": []
    },
    {
      "cell_type": "code",
      "metadata": {
        "id": "yhEjDeFNfS_w"
      },
      "source": [
        "files.download('rolling_cv_wind_granular.csv')"
      ],
      "execution_count": null,
      "outputs": []
    },
    {
      "cell_type": "markdown",
      "metadata": {
        "id": "8lFQJ2-BU9aK"
      },
      "source": [
        "## Result Analysis"
      ]
    },
    {
      "cell_type": "code",
      "metadata": {
        "id": "9T-7825NVCcG"
      },
      "source": [
        "import pandas as pd\n",
        "from google.colab import files"
      ],
      "execution_count": null,
      "outputs": []
    },
    {
      "cell_type": "code",
      "metadata": {
        "id": "3O5WcXkatW01",
        "colab": {
          "resources": {
            "http://localhost:8080/nbextensions/google.colab/files.js": {
              "data": "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",
              "ok": true,
              "headers": [
                [
                  "content-type",
                  "application/javascript"
                ]
              ],
              "status": 200,
              "status_text": ""
            }
          },
          "base_uri": "https://localhost:8080/",
          "height": 262
        },
        "outputId": "33be6df9-fac1-4712-f01b-8f93e3c49f12"
      },
      "source": [
        "files.upload()"
      ],
      "execution_count": null,
      "outputs": [
        {
          "output_type": "display_data",
          "data": {
            "text/html": [
              "\n",
              "     <input type=\"file\" id=\"files-3ed683cd-d1f3-4d71-8973-b73927653a43\" name=\"files[]\" multiple disabled\n",
              "        style=\"border:none\" />\n",
              "     <output id=\"result-3ed683cd-d1f3-4d71-8973-b73927653a43\">\n",
              "      Upload widget is only available when the cell has been executed in the\n",
              "      current browser session. Please rerun this cell to enable.\n",
              "      </output>\n",
              "      <script src=\"/nbextensions/google.colab/files.js\"></script> "
            ],
            "text/plain": [
              "<IPython.core.display.HTML object>"
            ]
          },
          "metadata": {
            "tags": []
          }
        },
        {
          "output_type": "stream",
          "text": [
            "Saving rolling_cv_wind_emvfts.csv to rolling_cv_wind_emvfts.csv\n",
            "Saving rolling_cv_wind_granular.csv to rolling_cv_wind_granular.csv\n",
            "Saving rolling_cv_wind_mlp_multi.csv to rolling_cv_wind_mlp_multi.csv\n",
            "Saving rolling_cv_wind_var.csv to rolling_cv_wind_var.csv\n"
          ],
          "name": "stdout"
        },
        {
          "output_type": "execute_result",
          "data": {
            "text/plain": [
              "{'rolling_cv_wind_emvfts.csv': b',Split,RMSE,SMAPE\\n0,2009-08-01,0.060397095668822176,35.50691384763904\\n1,2009-08-08,0.09090499661661794,62.175170171902586\\n2,2009-08-15,0.09554319895850022,52.50421828310069\\n3,2009-08-22,0.05171509441636752,32.306863778302045\\n4,2009-08-29,0.06480109807478217,28.46925436222178\\n5,2009-09-05,0.08133139627788369,22.304515756812773\\n6,2009-09-12,0.08726448756735339,26.22862930937531\\n7,2009-09-19,0.07183436817969328,24.64110220738373\\n8,2009-09-26,0.07501241131816644,27.029586159899647\\n9,2009-10-03,0.07076212019548815,25.13867945728339\\n10,2009-10-10,0.08198978193531437,28.939270979023917\\n11,2009-10-17,0.08772595391841373,24.45322167758411\\n12,2009-10-24,0.08346332577654837,16.082238012765835\\n13,2009-10-31,0.08794084241973336,34.84357688810383\\n14,2009-11-07,0.09076896027036507,22.128024679663532\\n15,2009-11-14,0.08355835076559132,18.436703837298204\\n16,2009-11-21,0.09102646621724252,21.816012364271007\\n17,2009-11-28,0.0623746441258711,33.06501617747914\\n18,2009-12-05,0.08942461697761457,16.21430091570626\\n19,2009-12-12,0.04954836133083353,25.133270232320125\\n20,2009-12-19,0.0743690622252694,24.871731076763176\\n21,2009-12-26,0.07331913918140358,35.83140418707705\\n22,2010-01-02,0.08744126078292933,10.949962055081844\\n23,2010-01-09,0.06677061731874501,31.38065502941701\\n24,2010-01-16,0.06922897975636305,18.69106836714209\\n25,2010-01-23,0.07071612068782039,26.547782458091117\\n26,2010-01-30,0.05713954561693809,31.27850528016153\\n27,2010-02-06,0.06696121503847012,18.307413773651103\\n28,2010-02-13,0.07572249877458341,25.641539728106324\\n29,2010-02-20,0.08306905958910023,24.301560931109346\\n30,2010-02-27,0.08587426047141232,25.0856626414896\\n31,2010-03-06,0.07291212640273785,24.236329020769087\\n32,2010-03-13,0.11191494069084267,19.362310300458564\\n33,2010-03-20,0.10597645661060462,28.36137908706402\\n34,2010-03-27,0.06505272585377798,29.964053883772745\\n35,2010-04-03,0.10021090110492765,18.93716929566108\\n36,2010-04-10,0.12098995300105392,28.00826318258312\\n37,2010-04-17,0.10805433205927839,19.83443576775647\\n38,2010-04-24,0.07085507637567214,41.18546623885419\\n39,2010-05-01,0.07703657174256812,45.5666271427011\\n40,2010-05-08,0.06509392364566952,47.24098515517336\\n41,2010-05-15,0.07458211077064636,36.81101178357536\\n42,2010-05-22,0.07619016076015932,37.37242708152899\\n43,2010-05-29,0.09189061959096234,37.33897878780063\\n44,2010-06-05,0.07333682010531438,32.422051514078724\\n45,2010-06-12,0.0668697923318536,32.39267798591127\\n46,2010-06-19,0.0705493337367741,39.81835630091278\\n47,2010-06-26,0.07744043652980735,41.170402463567214\\n48,2010-07-03,0.06420123698967237,34.423067632796595\\n49,2010-07-10,0.028369927728861523,61.32337768855914\\n',\n",
              " 'rolling_cv_wind_granular.csv': b',Split,RMSE,SMAPE\\n0,2009-08-01,0.0695493089432611,32.74735208972344\\n1,2009-08-08,0.054521150530117427,57.08193459717492\\n2,2009-08-15,0.045807251057654305,43.44023680697593\\n3,2009-08-22,0.0726743352646664,37.122617659492626\\n4,2009-08-29,0.11561536402345196,27.574706150441784\\n5,2009-09-05,0.18313169047648123,27.369692621226093\\n6,2009-09-12,0.10184148327965015,25.851952164889404\\n7,2009-09-19,0.08982084540142599,29.152082094562775\\n8,2009-09-26,0.09267492577116283,27.5206106090182\\n9,2009-10-03,0.10688615111111091,27.322758118478376\\n10,2009-10-10,0.09555689877116773,31.9197328147513\\n11,2009-10-17,0.09070436542752408,20.371377656870564\\n12,2009-10-24,0.10312142678818047,17.764029660946925\\n13,2009-10-31,0.08835339635583346,32.88496795198393\\n14,2009-11-07,0.11154079375221472,26.8945153441519\\n15,2009-11-14,0.14288920878772096,24.473255125814717\\n16,2009-11-21,0.10038690887371368,28.593130382297417\\n17,2009-11-28,0.07145381403397352,34.448566964598406\\n18,2009-12-05,0.09827602663157634,19.768675967845002\\n19,2009-12-12,0.07046219881630511,21.32260258772106\\n20,2009-12-19,0.0785991660537275,24.24140463255506\\n21,2009-12-26,0.08478367580155038,40.66700526351952\\n22,2010-01-02,0.11097628675939569,15.448666295113252\\n23,2010-01-09,0.11352350543441048,37.68336819015591\\n24,2010-01-16,0.09150970908991946,23.646366325369524\\n25,2010-01-23,0.09615290356402725,30.952889928505023\\n26,2010-01-30,0.09494807725967748,35.22564533331457\\n27,2010-02-06,0.0768026324202331,24.411238470905886\\n28,2010-02-13,0.12335581885265075,24.91790460261405\\n29,2010-02-20,0.1313828676600117,23.111557485892366\\n30,2010-02-27,0.10702845071792348,28.62994590298742\\n31,2010-03-06,0.14260240527480292,29.10615756560348\\n32,2010-03-13,0.1285006980224235,22.115459422982898\\n33,2010-03-20,0.11152148119781455,27.5396483922399\\n34,2010-03-27,0.07490941544475328,31.758765123064066\\n35,2010-04-03,0.11138414112206958,18.02958465782408\\n36,2010-04-10,0.13484718672880175,22.49790092276884\\n37,2010-04-17,0.1230254023794337,21.22697790942172\\n38,2010-04-24,0.0933847149474839,36.19827441992556\\n39,2010-05-01,0.07937771032844235,41.39126749222603\\n40,2010-05-08,0.07477484245030477,45.20025288454001\\n41,2010-05-15,0.09552287077407257,31.088462478535213\\n42,2010-05-22,0.1355494924141808,38.224684666303126\\n43,2010-05-29,0.1117449697343006,30.634868430108252\\n44,2010-06-05,0.09044264381675583,33.363290598055265\\n45,2010-06-12,0.08254213399425421,35.29547977258121\\n46,2010-06-19,0.08153648901830103,41.73955436928538\\n47,2010-06-26,0.09114184503053714,40.95210550517579\\n48,2010-07-03,0.08951291134257626,35.508314009218054\\n49,2010-07-10,0.047735866065325316,47.8146826214728\\n',\n",
              " 'rolling_cv_wind_mlp_multi.csv': b',Split,RMSE,SMAPE\\n0,2009-08-01,0.10934021116899695,41.84216608399077\\n1,2009-08-08,0.11596265986853393,64.16908092456701\\n2,2009-08-15,0.07574059779328057,48.600461638917395\\n3,2009-08-22,0.09251515716426129,38.30999057154424\\n4,2009-08-29,0.14541981410139784,37.33363131215852\\n5,2009-09-05,0.2962466412825564,41.512868312691865\\n6,2009-09-12,0.21287828894751415,35.94939990894902\\n7,2009-09-19,0.1467339535419092,34.509087247096474\\n8,2009-09-26,0.15915426854684156,37.36014758378261\\n9,2009-10-03,0.16528033907909107,34.490369456904205\\n10,2009-10-10,0.18050757480545745,37.60050168483936\\n11,2009-10-17,0.178573657340933,34.16913223342912\\n12,2009-10-24,0.1418750698592046,23.285962857374134\\n13,2009-10-31,0.1418931918233181,42.56804222790449\\n14,2009-11-07,0.15705089256880667,29.021774257319073\\n15,2009-11-14,0.23632859056823483,31.30443565066725\\n16,2009-11-21,0.17139945763342487,31.470272048680098\\n17,2009-11-28,0.16537997435558413,46.529238684247325\\n18,2009-12-05,0.15990614173933443,23.17409401162735\\n19,2009-12-12,0.13158040494691994,35.49420079299267\\n20,2009-12-19,0.1492201244762188,32.11227103338079\\n21,2009-12-26,0.14391967323647614,49.20704565593624\\n22,2010-01-02,0.22336275751597015,21.87453904736184\\n23,2010-01-09,0.13592316013460037,41.10130046063771\\n24,2010-01-16,0.13612667424350525,29.486734352828385\\n25,2010-01-23,0.14955634293343512,38.51117886818452\\n26,2010-01-30,0.14607982755783325,40.98412999360962\\n27,2010-02-06,0.08374316992542265,23.02237349526601\\n28,2010-02-13,0.1982581399746335,36.83472040864139\\n29,2010-02-20,0.1938772518143661,31.670682549665752\\n30,2010-02-27,0.18047764454407078,35.611489183479584\\n31,2010-03-06,0.1791495124154656,35.14140923293939\\n32,2010-03-13,0.18121012589343843,26.20045993757661\\n33,2010-03-20,0.17236151495109192,37.608890841066454\\n34,2010-03-27,0.15925839496661914,42.712443128571024\\n35,2010-04-03,0.17054627349171225,24.534481758921427\\n36,2010-04-10,0.18716854364862312,32.969218852345655\\n37,2010-04-17,0.19552470909163672,29.820855269300857\\n38,2010-04-24,0.16816908253082488,53.58662104823503\\n39,2010-05-01,0.1402785101993617,53.33884234335468\\n40,2010-05-08,0.09532542320979866,50.368479707989145\\n41,2010-05-15,0.13411678439855806,42.384282130987735\\n42,2010-05-22,0.19725923729402528,46.85475669215756\\n43,2010-05-29,0.15755066830663564,43.18395236915241\\n44,2010-06-05,0.1519451107332889,40.86657117496079\\n45,2010-06-12,0.11393938992247012,38.59320996922896\\n46,2010-06-19,0.11252545711591999,46.798872840092734\\n47,2010-06-26,0.1371146973255832,46.20987514746436\\n48,2010-07-03,0.12012456632711575,40.31393282977424\\n49,2010-07-10,0.06455145009094419,63.4700734422121\\n',\n",
              " 'rolling_cv_wind_var.csv': b',Split,RMSE,SMAPE\\n0,2009-08-01,0.03710834368442845,30.50909117057931\\n1,2009-08-08,0.03979123405041471,54.120198278448164\\n2,2009-08-15,0.027704454640102814,38.35597608327568\\n3,2009-08-22,0.03749105512581732,28.72239119549258\\n4,2009-08-29,0.044940184851079576,25.112660868509444\\n5,2009-09-05,0.05692815260920909,18.623208015667206\\n6,2009-09-12,0.062094420308846945,24.509209644630477\\n7,2009-09-19,0.045828232369094536,20.682671828117975\\n8,2009-09-26,0.04500414473196682,23.98499657983949\\n9,2009-10-03,0.05097475506413496,22.43092947348436\\n10,2009-10-10,0.05132056070450598,24.959495913595163\\n11,2009-10-17,0.05523278582664055,20.7891877740385\\n12,2009-10-24,0.04859744162539925,11.846530577406797\\n13,2009-10-31,0.052614973926233745,29.599750837122414\\n14,2009-11-07,0.06087419398088618,18.174461200340776\\n15,2009-11-14,0.04906384184038326,14.505486609811772\\n16,2009-11-21,0.052659956292684065,17.151502106508527\\n17,2009-11-28,0.03388554423709109,27.528092708540736\\n18,2009-12-05,0.06116408292104038,13.460461564872489\\n19,2009-12-12,0.032490410412294675,22.96600970413977\\n20,2009-12-19,0.046429001717426095,20.6783437435511\\n21,2009-12-26,0.052133757614937055,34.20377161130227\\n22,2010-01-02,0.05721759808394534,8.592569313348323\\n23,2010-01-09,0.041649271631349134,28.549359850741666\\n24,2010-01-16,0.04721334865248663,15.73424343084199\\n25,2010-01-23,0.042199511305410185,21.950413509988994\\n26,2010-01-30,0.03441463077070554,27.362579870664565\\n27,2010-02-06,0.04231570550787522,14.061028753347028\\n28,2010-02-13,0.04715558225489874,22.338894146049686\\n29,2010-02-20,0.05245680226478682,20.153710063436307\\n30,2010-02-27,0.054285522518773166,20.848636674473077\\n31,2010-03-06,0.04796310168317323,20.538821030923707\\n32,2010-03-13,0.08028935676335097,17.345876722712063\\n33,2010-03-20,0.06481944675772106,23.27367001604417\\n34,2010-03-27,0.04172162132303827,25.767562582250207\\n35,2010-04-03,0.05487435239487022,13.744498500898558\\n36,2010-04-10,0.09030735693211749,25.23457699444164\\n37,2010-04-17,0.07012794769649906,15.6380338103659\\n38,2010-04-24,0.043701723192070725,35.38737936263389\\n39,2010-05-01,0.04744072433680248,38.94957105450443\\n40,2010-05-08,0.04608688734824899,42.224638579543516\\n41,2010-05-15,0.05104711201080711,32.44023266820023\\n42,2010-05-22,0.048485947069308685,33.67764213826402\\n43,2010-05-29,0.06517336441123539,32.620420671012624\\n44,2010-06-05,0.05506753916198669,30.830259598149446\\n45,2010-06-12,0.03774538447859651,28.033690795610372\\n46,2010-06-19,0.053049420477615884,37.139439194076765\\n47,2010-06-26,0.05407682382487321,38.35095524866574\\n48,2010-07-03,0.043231020652177383,30.572202471355737\\n49,2010-07-10,0.017430445814566382,55.80963140997828\\n'}"
            ]
          },
          "metadata": {
            "tags": []
          },
          "execution_count": 5
        }
      ]
    },
    {
      "cell_type": "code",
      "metadata": {
        "id": "Z4JWb2PkjwOQ"
      },
      "source": [
        "def createBoxplot(filename, data, xticklabels, ylabel):\n",
        "    # Create a figure instance\n",
        "    fig = plt.figure(1, figsize=(9, 6))\n",
        "\n",
        "    # Create an axes instance\n",
        "    ax = fig.add_subplot(111)\n",
        "\n",
        "    # Create the boxplot\n",
        "    bp = ax.boxplot(data, patch_artist=True)\n",
        "    \n",
        "    ## change outline color, fill color and linewidth of the boxes\n",
        "    for box in bp['boxes']:\n",
        "        # change outline color\n",
        "        box.set( color='#7570b3', linewidth=2)\n",
        "        # change fill color\n",
        "        box.set( facecolor = '#AACCFF' )\n",
        "\n",
        "    ## change color and linewidth of the whiskers\n",
        "    for whisker in bp['whiskers']:\n",
        "        whisker.set(color='#7570b3', linewidth=2)\n",
        "\n",
        "    ## change color and linewidth of the caps\n",
        "    for cap in bp['caps']:\n",
        "        cap.set(color='#7570b3', linewidth=2)\n",
        "\n",
        "    ## change color and linewidth of the medians\n",
        "    for median in bp['medians']:\n",
        "        median.set(color='#FFE680', linewidth=2)\n",
        "\n",
        "    ## change the style of fliers and their fill\n",
        "    for flier in bp['fliers']:\n",
        "        flier.set(marker='o', color='#e7298a', alpha=0.5)\n",
        "    \n",
        "    ## Custom x-axis labels\n",
        "    ax.set_xticklabels(xticklabels)\n",
        "    ax.set_ylabel(ylabel)\n",
        "    plt.show()\n",
        "    fig.savefig(filename, bbox_inches='tight')"
      ],
      "execution_count": null,
      "outputs": []
    },
    {
      "cell_type": "code",
      "metadata": {
        "id": "FcyiPw-8VHW2"
      },
      "source": [
        "var_results = pd.read_csv(\"rolling_cv_wind_var.csv\")\n",
        "evolving_results = pd.read_csv(\"rolling_cv_wind_emvfts.csv\")\n",
        "mlp_results = pd.read_csv(\"rolling_cv_wind_mlp_multi.csv\")\n",
        "granular_results = pd.read_csv(\"rolling_cv_wind_granular.csv\")"
      ],
      "execution_count": null,
      "outputs": []
    },
    {
      "cell_type": "code",
      "metadata": {
        "id": "3OB8fPYW81R6",
        "colab": {
          "base_uri": "https://localhost:8080/",
          "height": 374
        },
        "outputId": "ae2f77cc-5d0c-4188-f2f5-6d66b44bdd48"
      },
      "source": [
        "metric = 'RMSE'\n",
        "results_data = [evolving_results[metric],var_results[metric], mlp_results[metric], granular_results[metric]]\n",
        "xticks = ['e-MVFTS','VAR','MLP','FIG-FTS']\n",
        "\n",
        "ylab = 'RMSE'\n",
        "createBoxplot(\"e-mvfts_boxplot_rmse_wind\", results_data, xticks, ylab)"
      ],
      "execution_count": null,
      "outputs": [
        {
          "output_type": "display_data",
          "data": {
            "image/png": "[encoded data removed]",
            "text/plain": [
              "<Figure size 648x432 with 1 Axes>"
            ]
          },
          "metadata": {
            "tags": [],
            "needs_background": "light"
          }
        }
      ]
    },
    {
      "cell_type": "code",
      "metadata": {
        "id": "hUCDYHyMFwl3"
      },
      "source": [
        "pd.options.display.float_format = '{:.2f}'.format"
      ],
      "execution_count": null,
      "outputs": []
    },
    {
      "cell_type": "code",
      "metadata": {
        "id": "qACWp2l5_iJ4"
      },
      "source": [
        "metric = 'RMSE'\n",
        "rmse_df = pd.DataFrame(columns=['e-MVFTS','VAR','MLP','FIG-FTS'])\n",
        "\n",
        "rmse_df[\"e-MVFTS\"] = evolving_results[metric]\n",
        "rmse_df[\"VAR\"] = var_results[metric]\n",
        "rmse_df[\"MLP\"] = mlp_results[metric]\n",
        "rmse_df[\"FIG-FTS\"] = granular_results[metric]"
      ],
      "execution_count": null,
      "outputs": []
    },
    {
      "cell_type": "code",
      "metadata": {
        "id": "ioz9IYOdAN2Z",
        "colab": {
          "base_uri": "https://localhost:8080/",
          "height": 102
        },
        "outputId": "b5bf52ef-201f-4fcf-d374-2dce331db46a"
      },
      "source": [
        "rmse_df.std()"
      ],
      "execution_count": null,
      "outputs": [
        {
          "output_type": "execute_result",
          "data": {
            "text/plain": [
              "e-MVFTS   0.02\n",
              "VAR       0.01\n",
              "MLP       0.04\n",
              "FIG-FTS   0.03\n",
              "dtype: float64"
            ]
          },
          "metadata": {
            "tags": []
          },
          "execution_count": 14
        }
      ]
    },
    {
      "cell_type": "code",
      "metadata": {
        "id": "fqZ9gjtr-Eq2",
        "colab": {
          "base_uri": "https://localhost:8080/",
          "height": 374
        },
        "outputId": "ee1fb4aa-491c-40eb-f7e0-c9d7ff8fe890"
      },
      "source": [
        "metric = 'SMAPE'\n",
        "results_data = [evolving_results[metric],var_results[metric], mlp_results[metric], granular_results[metric]]\n",
        "xticks = ['e-MVFTS','VAR','MLP','FIG-FTS']\n",
        "\n",
        "ylab = 'SMAPE'\n",
        "createBoxplot(\"e-mvfts_boxplot_smape_wind\", results_data, xticks, ylab)"
      ],
      "execution_count": null,
      "outputs": [
        {
          "output_type": "display_data",
          "data": {
            "image/png": "[encoded data removed]",
            "text/plain": [
              "<Figure size 648x432 with 1 Axes>"
            ]
          },
          "metadata": {
            "tags": [],
            "needs_background": "light"
          }
        }
      ]
    },
    {
      "cell_type": "code",
      "metadata": {
        "id": "0yajGeb7HPUG"
      },
      "source": [
        "metric = 'SMAPE'\n",
        "smape_df = pd.DataFrame(columns=['e-MVFTS','VAR','MLP','FIG-FTS'])\n",
        "\n",
        "smape_df[\"e-MVFTS\"] = evolving_results[metric]\n",
        "smape_df[\"VAR\"] = var_results[metric]\n",
        "smape_df[\"MLP\"] = mlp_results[metric]\n",
        "smape_df[\"FIG-FTS\"] = granular_results[metric]"
      ],
      "execution_count": null,
      "outputs": []
    },
    {
      "cell_type": "code",
      "metadata": {
        "id": "466gaNDyHYSJ",
        "colab": {
          "base_uri": "https://localhost:8080/",
          "height": 102
        },
        "outputId": "b6a39e99-982d-4b95-8dd5-5aba0433e732"
      },
      "source": [
        "smape_df.std()"
      ],
      "execution_count": null,
      "outputs": [
        {
          "output_type": "execute_result",
          "data": {
            "text/plain": [
              "e-MVFTS   10.75\n",
              "VAR        9.84\n",
              "MLP        9.42\n",
              "FIG-FTS    8.51\n",
              "dtype: float64"
            ]
          },
          "metadata": {
            "tags": []
          },
          "execution_count": 18
        }
      ]
    },
    {
      "cell_type": "code",
      "metadata": {
        "id": "hkXC-k92VKoc"
      },
      "source": [
        "metric = \"RMSE\"\n",
        "\n",
        "data = pd.DataFrame(columns=[\"Persistence\", \"VAR\", \"Evolving\", \"MLP\", \"Granular\"])\n",
        "\n",
        "data[\"Persistence\"] = persistence_results[metric]\n",
        "data[\"VAR\"] = var_results[metric]\n",
        "data[\"Evolving\"] = evolving_results[metric]\n",
        "data[\"MLP\"] = mlp_results[metric]\n",
        "data[\"Granular\"] = granular_results[metric]\n",
        "\n",
        "ax = data.plot(figsize=(18,6))\n",
        "ax.set(xlabel='Window', ylabel=metric)\n",
        "fig = ax.get_figure()\n",
        "#fig.savefig(path_images + exp_id + \"_prequential.png\")\n",
        "    \n",
        "x = np.arange(len(data.columns.values))\n",
        "names = data.columns.values\n",
        "values = data.mean().values\n",
        "plt.figure(figsize=(5,6))\n",
        "plt.bar(x, values, align='center', alpha=0.5, width=0.9)\n",
        "plt.xticks(x, names)\n",
        "#plt.yticks(np.arange(0, 1.1, 0.1))\n",
        "plt.ylabel(metric)\n",
        "#plt.savefig(path_images + exp_id + \"_bars.png\")"
      ],
      "execution_count": null,
      "outputs": []
    },
    {
      "cell_type": "code",
      "metadata": {
        "id": "ghhKlmDwVOhr"
      },
      "source": [
        "metric = \"SMAPE\"\n",
        "\n",
        "data = pd.DataFrame(columns=[\"Persistence\", \"VAR\", \"Evolving\", \"MLP\", \"Granular\"])\n",
        "\n",
        "data[\"Persistence\"] = persistence_results[metric]\n",
        "data[\"VAR\"] = var_results[metric]\n",
        "data[\"Evolving\"] = evolving_results[metric]\n",
        "data[\"MLP\"] = mlp_results[metric]\n",
        "data[\"Granular\"] = granular_results[metric]\n",
        "\n",
        "ax = data.plot(figsize=(18,6))\n",
        "ax.set(xlabel='Window', ylabel=metric)\n",
        "fig = ax.get_figure()\n",
        "#fig.savefig(path_images + exp_id + \"_prequential.png\")\n",
        "    \n",
        "x = np.arange(len(data.columns.values))\n",
        "names = data.columns.values\n",
        "values = data.mean().values\n",
        "plt.figure(figsize=(5,6))\n",
        "plt.bar(x, values, align='center', alpha=0.5, width=0.9)\n",
        "plt.xticks(x, names)\n",
        "#plt.yticks(np.arange(0, 1.1, 0.1))\n",
        "plt.ylabel(metric)\n",
        "#plt.savefig(path_images + exp_id + \"_bars.png\")"
      ],
      "execution_count": null,
      "outputs": []
    }
  ]
}