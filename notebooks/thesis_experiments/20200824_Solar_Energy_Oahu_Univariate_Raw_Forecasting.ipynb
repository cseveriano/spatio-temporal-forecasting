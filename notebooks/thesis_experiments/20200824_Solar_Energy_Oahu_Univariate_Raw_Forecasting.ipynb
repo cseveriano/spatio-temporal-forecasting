{
  "nbformat": 4,
  "nbformat_minor": 0,
  "metadata": {
    "colab": {
      "name": "20200824 - Solar Energy Oahu - Univariate Raw Forecasting.ipynb",
      "provenance": [],
      "collapsed_sections": [],
      "toc_visible": true,
      "authorship_tag": "ABX9TyNuEhfmV516JOFG8SzMnB/x",
      "include_colab_link": true
    },
    "kernelspec": {
      "name": "python3",
      "display_name": "Python 3"
    }
  },
  "cells": [
    {
      "cell_type": "markdown",
      "metadata": {
        "id": "view-in-github",
        "colab_type": "text"
      },
      "source": [
        "<a href=\"https://colab.research.google.com/github/cseveriano/spatio-temporal-forecasting/blob/master/notebooks/thesis_experiments/20200824_Solar_Energy_Oahu_Univariate_Raw_Forecasting.ipynb\" target=\"_parent\"><img src=\"https://colab.research.google.com/assets/colab-badge.svg\" alt=\"Open In Colab\"/></a>"
      ]
    },
    {
      "cell_type": "code",
      "metadata": {
        "id": "OwodJpV26pLb",
        "colab": {
          "base_uri": "https://localhost:8080/",
          "height": 649
        },
        "outputId": "14fd0fc8-fc11-4f2b-9daa-94c21e79b166"
      },
      "source": [
        "!pip3 install -U git+https://github.com/PYFTS/pyFTS\n",
        "!pip3 install -U git+https://github.com/cseveriano/spatio-temporal-forecasting\n",
        "!pip3 install -U hyperopt"
      ],
      "execution_count": null,
      "outputs": [
        {
          "output_type": "stream",
          "text": [
            "Collecting git+https://github.com/PYFTS/pyFTS\n",
            "  Cloning https://github.com/PYFTS/pyFTS to /tmp/pip-req-build-_k6erywi\n",
            "  Running command git clone -q https://github.com/PYFTS/pyFTS /tmp/pip-req-build-_k6erywi\n",
            "Building wheels for collected packages: pyFTS\n",
            "  Building wheel for pyFTS (setup.py) ... \u001b[?25l\u001b[?25hdone\n",
            "  Created wheel for pyFTS: filename=pyFTS-1.6-cp36-none-any.whl size=207416 sha256=15ccdb017b60b0fca89a93b07e794ca46bcafbcb97a5390d0b829d77cb792fd6\n",
            "  Stored in directory: /tmp/pip-ephem-wheel-cache-q243jthk/wheels/e7/32/a9/230470113df5a73242a5a6d05671cb646db97abf14bbce2644\n",
            "Successfully built pyFTS\n",
            "Installing collected packages: pyFTS\n",
            "Successfully installed pyFTS-1.6\n",
            "Collecting git+https://github.com/cseveriano/spatio-temporal-forecasting\n",
            "  Cloning https://github.com/cseveriano/spatio-temporal-forecasting to /tmp/pip-req-build-o87z7mfv\n",
            "  Running command git clone -q https://github.com/cseveriano/spatio-temporal-forecasting /tmp/pip-req-build-o87z7mfv\n",
            "Building wheels for collected packages: spatio-temporal-forecasting\n",
            "  Building wheel for spatio-temporal-forecasting (setup.py) ... \u001b[?25l\u001b[?25hdone\n",
            "  Created wheel for spatio-temporal-forecasting: filename=spatio_temporal_forecasting-1.0-cp36-none-any.whl size=55633 sha256=f7a12925694257607bbf3a132f1e94b19484890345e7cba9010876153327e0e1\n",
            "  Stored in directory: /tmp/pip-ephem-wheel-cache-cf925vmj/wheels/d2/1f/6f/439795864246039ef36c6a3c88edf7935c803c2cf97133066a\n",
            "Successfully built spatio-temporal-forecasting\n",
            "Installing collected packages: spatio-temporal-forecasting\n",
            "Successfully installed spatio-temporal-forecasting-1.0\n",
            "Collecting hyperopt\n",
            "\u001b[?25l  Downloading https://files.pythonhosted.org/packages/90/d5/c7e276f4f7bc65ac26391c435245e5ef8911b4393e3df5a74906c48afeaf/hyperopt-0.2.4-py2.py3-none-any.whl (964kB)\n",
            "\u001b[K     |████████████████████████████████| 972kB 2.7MB/s \n",
            "\u001b[?25hRequirement already satisfied, skipping upgrade: scipy in /usr/local/lib/python3.6/dist-packages (from hyperopt) (1.4.1)\n",
            "Requirement already satisfied, skipping upgrade: tqdm in /usr/local/lib/python3.6/dist-packages (from hyperopt) (4.41.1)\n",
            "Requirement already satisfied, skipping upgrade: future in /usr/local/lib/python3.6/dist-packages (from hyperopt) (0.16.0)\n",
            "Requirement already satisfied, skipping upgrade: numpy in /usr/local/lib/python3.6/dist-packages (from hyperopt) (1.18.5)\n",
            "Requirement already satisfied, skipping upgrade: cloudpickle in /usr/local/lib/python3.6/dist-packages (from hyperopt) (1.3.0)\n",
            "Requirement already satisfied, skipping upgrade: networkx>=2.2 in /usr/local/lib/python3.6/dist-packages (from hyperopt) (2.5)\n",
            "Requirement already satisfied, skipping upgrade: six in /usr/local/lib/python3.6/dist-packages (from hyperopt) (1.15.0)\n",
            "Requirement already satisfied, skipping upgrade: decorator>=4.3.0 in /usr/local/lib/python3.6/dist-packages (from networkx>=2.2->hyperopt) (4.4.2)\n",
            "Installing collected packages: hyperopt\n",
            "  Found existing installation: hyperopt 0.1.2\n",
            "    Uninstalling hyperopt-0.1.2:\n",
            "      Successfully uninstalled hyperopt-0.1.2\n",
            "Successfully installed hyperopt-0.2.4\n"
          ],
          "name": "stdout"
        }
      ]
    },
    {
      "cell_type": "code",
      "metadata": {
        "id": "lQeZINWpjZlo"
      },
      "source": [
        "import pandas as pd\n",
        "import numpy as np\n",
        "from hyperopt import hp\n",
        "from spatiotemporal.util import parameter_tuning, sampling\n",
        "from spatiotemporal.util import experiments as ex\n",
        "from sklearn.metrics import mean_squared_error\n",
        "import matplotlib.pyplot as plt\n",
        "import pickle\n",
        "import math\n",
        "from pyFTS.benchmarks import Measures\n",
        "from google.colab import files\n",
        "import warnings \n",
        "warnings.filterwarnings(\"ignore\", category=DeprecationWarning)"
      ],
      "execution_count": null,
      "outputs": []
    },
    {
      "cell_type": "markdown",
      "metadata": {
        "id": "36mDCMfwmy6G"
      },
      "source": [
        "### Aux Functions"
      ]
    },
    {
      "cell_type": "code",
      "metadata": {
        "id": "QfLbtupAm1Un"
      },
      "source": [
        "def normalize(df):\n",
        "    mindf = df.min()\n",
        "    maxdf = df.max()\n",
        "    return (df-mindf)/(maxdf-mindf)\n",
        "\n",
        "def denormalize(norm, _min, _max):\n",
        "    return [(n * (_max-_min)) + _min for n in norm]\n"
      ],
      "execution_count": null,
      "outputs": []
    },
    {
      "cell_type": "markdown",
      "metadata": {
        "id": "UMZis_gqou58"
      },
      "source": [
        "### Load Dataset"
      ]
    },
    {
      "cell_type": "code",
      "metadata": {
        "id": "bV7tv5KBowzz"
      },
      "source": [
        "#Set target and input variables \n",
        "target_station = 'DH1'\n",
        "\n",
        "#All neighbor stations with residual correlation greater than .90\n",
        "neighbor_stations_80 = ['DH4','DH5','DH9','DH2','DH6','DH7']\n",
        "neighbor_stations_70 = ['DH3','DH4','DH5','DH10','DH9','DH2','AP1','DH6','DH7','AP2']"
      ],
      "execution_count": null,
      "outputs": []
    },
    {
      "cell_type": "code",
      "metadata": {
        "id": "a0vmyvV0pL78"
      },
      "source": [
        "# read raw dataset\n",
        "import pandas as pd\n",
        "df = pd.read_csv('https://query.data.world/s/76ohtd4zd6a6fhiwwe742y23fiplgk')\n",
        "\n",
        "# drop unused columns\n",
        "df.drop(df.columns[df.columns.str.contains('unnamed',case = False)],axis = 1, inplace = True)\n",
        "df.drop(['Time','Ioh','DH1T','AP6T','AP3','AP2.dif','AP2.dir'],axis = 1, inplace = True)\n",
        "\n",
        "# create corrected index\n",
        "ind = pd.date_range(start='2010-03-18 00:00:00', end='2011-11-01 00:00:00', closed='left', freq='10s')\n",
        "ts = pd.DataFrame(index=ind)\n",
        "df['Time'] = ts.between_time(\"05:00:00\",\"20:00:00\").index\n",
        "df.set_index('Time', inplace = True)\n",
        "\n",
        "\n",
        "# filter range of interest\n",
        "df = df[\"2010-06-01\":\"2011-07-31\"]\n",
        "\n",
        "# Resampling\n",
        "df = df.resample('10min').mean()\n",
        "df = df.between_time(\"05:00:00\",\"20:00:00\")"
      ],
      "execution_count": null,
      "outputs": []
    },
    {
      "cell_type": "code",
      "metadata": {
        "id": "17qF6Ahduoxx"
      },
      "source": [
        "#Normalize Data\n",
        "\n",
        "# Save Min-Max for Denorm\n",
        "min_raw = df[target_station].min()\n",
        "\n",
        "max_raw = df[target_station].max()\n",
        "\n",
        "# Perform Normalization\n",
        "norm_df = normalize(df)"
      ],
      "execution_count": null,
      "outputs": []
    },
    {
      "cell_type": "code",
      "metadata": {
        "id": "05mEnMBdBs8M"
      },
      "source": [
        "# Tuning split\n",
        "tuning_df = norm_df[\"2010-06-01\":\"2010-06-30\"]\n",
        "\n",
        "norm_df = norm_df[\"2010-07-01\":\"2011-07-31\"]\n",
        "df = df[\"2010-07-01\":\"2011-07-31\"]"
      ],
      "execution_count": null,
      "outputs": []
    },
    {
      "cell_type": "markdown",
      "metadata": {
        "id": "S1viMHKkvwsR"
      },
      "source": [
        "### Rolling Window Validation"
      ]
    },
    {
      "cell_type": "code",
      "metadata": {
        "id": "mUcQ7IEzv0SB"
      },
      "source": [
        "import datetime\n",
        "\n",
        "def getRollingWindow(index):\n",
        "    pivot = index\n",
        "    train_start = pivot.strftime('%Y-%m-%d')\n",
        "    pivot = pivot + datetime.timedelta(days=20)\n",
        "    train_end = pivot.strf\n",
        "    time('%Y-%m-%d')\n",
        "\n",
        "    pivot = pivot + datetime.timedelta(days=1)\n",
        "    test_start = pivot.strftime('%Y-%m-%d')\n",
        "    pivot = pivot + datetime.timedelta(days=6)\n",
        "    test_end = pivot.strftime('%Y-%m-%d')\n",
        "    \n",
        "    return train_start, train_end, test_start, test_end\n",
        "\n",
        "def calculate_rolling_error(cv_name, df, forecasts, order_list):\n",
        "    cv_results = pd.DataFrame(columns=['Split', 'RMSE', 'SMAPE', 'U'])\n",
        "\n",
        "    limit = df.index[-1].strftime('%Y-%m-%d')\n",
        "\n",
        "    test_end = \"\"\n",
        "    index = df.index[0]\n",
        "\n",
        "    for i in np.arange(len(forecasts)):\n",
        "\n",
        "        train_start, train_end, test_start, test_end = getRollingWindow(index)\n",
        "        test = df[test_start : test_end]\n",
        "    \n",
        "        yhat = forecasts[i]\n",
        "        order = order_list[i]\n",
        "        \n",
        "        rmse = Measures.rmse(test[target_station].iloc[order:], yhat[:-1])\n",
        "        \n",
        "        smape = Measures.smape(test[target_station].iloc[order:], yhat[:-1])\n",
        "        \n",
        "        res = {'Split' : index.strftime('%Y-%m-%d') ,'RMSE' : rmse, 'SMAPE' : smape}\n",
        "        cv_results = cv_results.append(res, ignore_index=True)\n",
        "        cv_results.to_csv(cv_name+\".csv\")        \n",
        "\n",
        "        index = index + datetime.timedelta(days=7)\n",
        "\n",
        "def get_final_forecast(norm_forecasts):\n",
        "    \n",
        "    forecasts_final = []\n",
        "    \n",
        "    for i in np.arange(len(norm_forecasts)):\n",
        "        f_raw = denormalize(norm_forecasts[i], min_raw, max_raw)\n",
        "\n",
        "        forecasts_final.append(f_raw)\n",
        "        \n",
        "    return forecasts_final"
      ],
      "execution_count": null,
      "outputs": []
    },
    {
      "cell_type": "markdown",
      "metadata": {
        "id": "N8DjV_xq1b9Z"
      },
      "source": [
        "### Persistence"
      ]
    },
    {
      "cell_type": "code",
      "metadata": {
        "id": "80awOiDO1dmX"
      },
      "source": [
        "def persistence_forecast(train, test, step):\n",
        "    predictions = []\n",
        "    \n",
        "    for t in np.arange(0,len(test), step):\n",
        "        yhat = [test.iloc[t]]  * step\n",
        "        predictions.extend(yhat)\n",
        "        \n",
        "    return predictions\n",
        "\n",
        "def rolling_cv_persistence(df, step):\n",
        "\n",
        "    forecasts = []\n",
        "    lags_list = []\n",
        "\n",
        "    limit = df.index[-1].strftime('%Y-%m-%d')\n",
        "\n",
        "    test_end = \"\"\n",
        "    index = df.index[0]\n",
        "\n",
        "    while test_end < limit :\n",
        "        print(\"Index: \", index.strftime('%Y-%m-%d'))  \n",
        "\n",
        "        train_start, train_end, test_start, test_end = getRollingWindow(index)\n",
        "        index = index + datetime.timedelta(days=7)\n",
        "        \n",
        "        train = df[train_start : train_end]\n",
        "        test = df[test_start : test_end]\n",
        "    \n",
        "        yhat = persistence_forecast(train[target_station], test[target_station], step)        \n",
        "        \n",
        "        lags_list.append(1)\n",
        "        forecasts.append(yhat)\n",
        "\n",
        "    return forecasts, lags_list"
      ],
      "execution_count": null,
      "outputs": []
    },
    {
      "cell_type": "code",
      "metadata": {
        "id": "hoVUeMSk1j6O",
        "colab": {
          "base_uri": "https://localhost:8080/",
          "height": 935
        },
        "outputId": "40f607ee-accd-4d44-d3b6-46f23a5c6a3a"
      },
      "source": [
        "forecasts_raw, order_list = rolling_cv_persistence(norm_df, 1)\n",
        "forecasts_final = get_final_forecast(forecasts_raw)\n",
        "\n",
        "calculate_rolling_error(\"rolling_cv_oahu_raw_persistence\", norm_df, forecasts_final, order_list)"
      ],
      "execution_count": null,
      "outputs": [
        {
          "output_type": "stream",
          "text": [
            "Index:  2010-07-01\n",
            "Index:  2010-07-08\n",
            "Index:  2010-07-15\n",
            "Index:  2010-07-22\n",
            "Index:  2010-07-29\n",
            "Index:  2010-08-05\n",
            "Index:  2010-08-12\n",
            "Index:  2010-08-19\n",
            "Index:  2010-08-26\n",
            "Index:  2010-09-02\n",
            "Index:  2010-09-09\n",
            "Index:  2010-09-16\n",
            "Index:  2010-09-23\n",
            "Index:  2010-09-30\n",
            "Index:  2010-10-07\n",
            "Index:  2010-10-14\n",
            "Index:  2010-10-21\n",
            "Index:  2010-10-28\n",
            "Index:  2010-11-04\n",
            "Index:  2010-11-11\n",
            "Index:  2010-11-18\n",
            "Index:  2010-11-25\n",
            "Index:  2010-12-02\n",
            "Index:  2010-12-09\n",
            "Index:  2010-12-16\n",
            "Index:  2010-12-23\n",
            "Index:  2010-12-30\n",
            "Index:  2011-01-06\n",
            "Index:  2011-01-13\n",
            "Index:  2011-01-20\n",
            "Index:  2011-01-27\n",
            "Index:  2011-02-03\n",
            "Index:  2011-02-10\n",
            "Index:  2011-02-17\n",
            "Index:  2011-02-24\n",
            "Index:  2011-03-03\n",
            "Index:  2011-03-10\n",
            "Index:  2011-03-17\n",
            "Index:  2011-03-24\n",
            "Index:  2011-03-31\n",
            "Index:  2011-04-07\n",
            "Index:  2011-04-14\n",
            "Index:  2011-04-21\n",
            "Index:  2011-04-28\n",
            "Index:  2011-05-05\n",
            "Index:  2011-05-12\n",
            "Index:  2011-05-19\n",
            "Index:  2011-05-26\n",
            "Index:  2011-06-02\n",
            "Index:  2011-06-09\n",
            "Index:  2011-06-16\n",
            "Index:  2011-06-23\n",
            "Index:  2011-06-30\n",
            "Index:  2011-07-07\n"
          ],
          "name": "stdout"
        }
      ]
    },
    {
      "cell_type": "code",
      "metadata": {
        "id": "Vcwc3Qt14HBn"
      },
      "source": [
        "files.download('rolling_cv_oahu_raw_persistence.csv')"
      ],
      "execution_count": null,
      "outputs": []
    },
    {
      "cell_type": "markdown",
      "metadata": {
        "id": "9J5Xl-ATkZ9i"
      },
      "source": [
        "### Univariate MLP"
      ]
    },
    {
      "cell_type": "code",
      "metadata": {
        "id": "0bS4oGewknHx"
      },
      "source": [
        "from keras.models import Sequential\n",
        "from keras.layers import Dense\n",
        "from keras.layers import LSTM\n",
        "from keras.layers import Dropout\n",
        "from keras.constraints import maxnorm\n",
        "from keras.models import Sequential\n",
        "from keras.layers.core import Dense, Dropout, Activation\n",
        "from keras.layers.normalization import BatchNormalization"
      ],
      "execution_count": null,
      "outputs": []
    },
    {
      "cell_type": "code",
      "metadata": {
        "id": "UhHYgI3hneeu"
      },
      "source": [
        "# convert series to supervised learning\n",
        "def series_to_supervised(data, n_in=1, n_out=1, dropnan=True):\n",
        "    n_vars = 1 if type(data) is list else data.shape[1]\n",
        "    df = pd.DataFrame(data)\n",
        "    cols, names = list(), list()\n",
        "    # input sequence (t-n, ... t-1)\n",
        "    for i in range(n_in, 0, -1):\n",
        "        cols.append(df.shift(i))\n",
        "        names += [('var%d(t-%d)' % (j+1, i)) for j in range(n_vars)]\n",
        "    # forecast sequence (t, t+1, ... t+n)\n",
        "    for i in range(0, n_out):\n",
        "        cols.append(df.shift(-i))\n",
        "        if i == 0:\n",
        "            names += [('var%d(t)' % (j+1)) for j in range(n_vars)]\n",
        "        else:\n",
        "            names += [('var%d(t+%d)' % (j+1, i)) for j in range(n_vars)]\n",
        "    # put it all together\n",
        "    agg = pd.concat(cols, axis=1)\n",
        "    agg.columns = names\n",
        "    # drop rows with NaN values\n",
        "    if dropnan:\n",
        "        agg.dropna(inplace=True)\n",
        "    return agg"
      ],
      "execution_count": null,
      "outputs": []
    },
    {
      "cell_type": "markdown",
      "metadata": {
        "id": "MRjkv406AO3f"
      },
      "source": [
        "#### MLP Tuning"
      ]
    },
    {
      "cell_type": "code",
      "metadata": {
        "id": "J0QTkHF_AWTZ"
      },
      "source": [
        "mlp_space = {'choice':\n",
        "\n",
        "   hp.choice('num_layers',\n",
        "             [\n",
        "                 {'layers': 'two',\n",
        "                 },\n",
        "\n",
        "                 {'layers': 'three',\n",
        "\n",
        "                   'units3': hp.choice('units3', [8, 16, 64, 128, 256, 512]),\n",
        "                   'dropout3': hp.choice('dropout3', [0, 0.25, 0.5, 0.75])\n",
        "                  }\n",
        "\n",
        "             ]),\n",
        "   'units1': hp.choice('units1', [8, 16, 64, 128, 256, 512]),\n",
        "   'units2': hp.choice('units2', [8, 16, 64, 128, 256, 512]),\n",
        "\n",
        "   'dropout1': hp.choice('dropout1', [0, 0.25, 0.5, 0.75]),\n",
        "   'dropout2': hp.choice('dropout2', [0, 0.25, 0.5, 0.75]),\n",
        "\n",
        "   'batch_size': hp.choice('batch_size', [28, 64, 128, 256, 512]),\n",
        "   'order': hp.choice('order', [1, 2, 4, 8]),\n",
        "   'input': hp.choice('input', [target_station]),\n",
        "   'output': hp.choice('output', [target_station]),\n",
        "   'epochs': hp.choice('epochs', [100, 200, 300])}\n"
      ],
      "execution_count": null,
      "outputs": []
    },
    {
      "cell_type": "code",
      "metadata": {
        "id": "p68ya--QAZYF"
      },
      "source": [
        "def mlp_tuning(train_df, test_df, params):\n",
        "    _input = [target_station]\n",
        "    _nlags = params['order']\n",
        "    _epochs = params['epochs']\n",
        "    _batch_size = params['batch_size']\n",
        "    nfeat = len(_input)\n",
        "    nsteps = params.get('step',1)\n",
        "    nobs = _nlags * nfeat\n",
        "\n",
        "    output_index = -nfeat*nsteps\n",
        "\n",
        "    train_reshaped_df = series_to_supervised(train_df[_input].values, n_in=_nlags, n_out=nsteps)\n",
        "    train_X, train_Y = train_reshaped_df.iloc[:, :nobs].values, train_reshaped_df.iloc[:, output_index:].values\n",
        "\n",
        "    test_reshaped_df = series_to_supervised(test_df[_input].values, n_in=_nlags, n_out=nsteps)\n",
        "    test_X, test_Y = test_reshaped_df.iloc[:, :nobs].values, test_reshaped_df.iloc[:, output_index:].values\n",
        "\n",
        "    # design network\n",
        "    model = Sequential()\n",
        "    model.add(Dense(params['units1'], activation='relu', input_dim=train_X.shape[1]))\n",
        "    model.add(Dense(params['units2'], activation='relu'))\n",
        "    if params['choice']['layers'] == 'three':\n",
        "      model.add(Dense(params['choice']['units3'], activation='relu'))\n",
        "    model.add(Dense(1))\n",
        "    model.compile(loss='mean_squared_error', optimizer='adam')\n",
        "\n",
        "    # includes the call back object\n",
        "    model.fit(train_X, train_Y, epochs=_epochs, batch_size=_batch_size, verbose=False, shuffle=False)\n",
        "\n",
        "    # predict the test set\n",
        "    forecast = model.predict(test_X, verbose=False)\n",
        "\n",
        "    forecast = [f[0] for f in forecast]\n",
        "\n",
        "    return forecast\n"
      ],
      "execution_count": null,
      "outputs": []
    },
    {
      "cell_type": "code",
      "metadata": {
        "id": "RHpZzSSdAevd",
        "colab": {
          "base_uri": "https://localhost:8080/",
          "height": 1000
        },
        "outputId": "f496d335-af6a-4e53-f7c9-707a762f9a40"
      },
      "source": [
        "methods = []\n",
        "methods.append((\"EXP_OAHU_MLP\", mlp_tuning, mlp_space))\n",
        "train_split = 0.6\n",
        "parameter_tuning.run_search(methods, tuning_df, train_split, Measures.rmse, max_evals=30, resample=None)"
      ],
      "execution_count": null,
      "outputs": [
        {
          "output_type": "stream",
          "text": [
            "Running experiment: EXP_OAHU_MLP\n",
            "{'batch_size': 64, 'choice': {'dropout3': 0.25, 'layers': 'three', 'units3': 128}, 'dropout1': 0.25, 'dropout2': 0.25, 'epochs': 100, 'input': 'DH1', 'order': 2, 'output': 'DH1', 'units1': 128, 'units2': 256}\n",
            "Error : 0.0953588519355079\n",
            "{'batch_size': 128, 'choice': {'dropout3': 0, 'layers': 'three', 'units3': 8}, 'dropout1': 0.75, 'dropout2': 0, 'epochs': 300, 'input': 'DH1', 'order': 2, 'output': 'DH1', 'units1': 64, 'units2': 64}\n",
            "Error : 0.09356564634991042\n",
            "{'batch_size': 128, 'choice': {'dropout3': 0.5, 'layers': 'three', 'units3': 8}, 'dropout1': 0.25, 'dropout2': 0.25, 'epochs': 100, 'input': 'DH1', 'order': 4, 'output': 'DH1', 'units1': 256, 'units2': 16}\n",
            "Error : 0.09430287835863217\n",
            "{'batch_size': 28, 'choice': {'dropout3': 0.25, 'layers': 'three', 'units3': 16}, 'dropout1': 0.75, 'dropout2': 0.75, 'epochs': 100, 'input': 'DH1', 'order': 8, 'output': 'DH1', 'units1': 8, 'units2': 64}\n",
            "Error : 0.09364397251454364\n",
            "{'batch_size': 28, 'choice': {'layers': 'two'}, 'dropout1': 0.5, 'dropout2': 0.25, 'epochs': 300, 'input': 'DH1', 'order': 1, 'output': 'DH1', 'units1': 128, 'units2': 16}\n",
            "Error : 0.09758069487269251\n",
            "{'batch_size': 64, 'choice': {'layers': 'two'}, 'dropout1': 0.25, 'dropout2': 0.5, 'epochs': 100, 'input': 'DH1', 'order': 2, 'output': 'DH1', 'units1': 128, 'units2': 512}\n",
            "Error : 0.09511053952420075\n",
            "{'batch_size': 512, 'choice': {'dropout3': 0, 'layers': 'three', 'units3': 16}, 'dropout1': 0.5, 'dropout2': 0, 'epochs': 100, 'input': 'DH1', 'order': 1, 'output': 'DH1', 'units1': 8, 'units2': 128}\n",
            "Error : 0.09644159929824395\n",
            "{'batch_size': 512, 'choice': {'dropout3': 0.75, 'layers': 'three', 'units3': 512}, 'dropout1': 0.75, 'dropout2': 0.75, 'epochs': 200, 'input': 'DH1', 'order': 2, 'output': 'DH1', 'units1': 256, 'units2': 128}\n",
            "Error : 0.09412397735270465\n",
            "{'batch_size': 28, 'choice': {'layers': 'two'}, 'dropout1': 0.25, 'dropout2': 0.75, 'epochs': 300, 'input': 'DH1', 'order': 2, 'output': 'DH1', 'units1': 256, 'units2': 256}\n",
            "Error : 0.09319634288630885\n",
            "{'batch_size': 128, 'choice': {'layers': 'two'}, 'dropout1': 0.5, 'dropout2': 0.25, 'epochs': 200, 'input': 'DH1', 'order': 2, 'output': 'DH1', 'units1': 128, 'units2': 8}\n",
            "Error : 0.09369614469988438\n",
            "{'batch_size': 28, 'choice': {'layers': 'two'}, 'dropout1': 0.25, 'dropout2': 0.25, 'epochs': 100, 'input': 'DH1', 'order': 4, 'output': 'DH1', 'units1': 128, 'units2': 256}\n",
            "Error : 0.09451414426815528\n",
            "{'batch_size': 256, 'choice': {'dropout3': 0.25, 'layers': 'three', 'units3': 256}, 'dropout1': 0.75, 'dropout2': 0.5, 'epochs': 300, 'input': 'DH1', 'order': 4, 'output': 'DH1', 'units1': 128, 'units2': 128}\n",
            "Error : 0.10181288842196133\n",
            "{'batch_size': 512, 'choice': {'dropout3': 0.5, 'layers': 'three', 'units3': 256}, 'dropout1': 0.5, 'dropout2': 0.5, 'epochs': 100, 'input': 'DH1', 'order': 2, 'output': 'DH1', 'units1': 16, 'units2': 8}\n",
            "Error : 0.09438647692899305\n",
            "{'batch_size': 64, 'choice': {'dropout3': 0, 'layers': 'three', 'units3': 256}, 'dropout1': 0.25, 'dropout2': 0.75, 'epochs': 300, 'input': 'DH1', 'order': 1, 'output': 'DH1', 'units1': 128, 'units2': 8}\n",
            "Error : 0.09741274184396721\n",
            "{'batch_size': 512, 'choice': {'layers': 'two'}, 'dropout1': 0, 'dropout2': 0.75, 'epochs': 100, 'input': 'DH1', 'order': 1, 'output': 'DH1', 'units1': 16, 'units2': 512}\n",
            "Error : 0.09652128200542028\n",
            "{'batch_size': 64, 'choice': {'layers': 'two'}, 'dropout1': 0.75, 'dropout2': 0.5, 'epochs': 200, 'input': 'DH1', 'order': 4, 'output': 'DH1', 'units1': 128, 'units2': 8}\n",
            "Error : 0.09387087774631074\n",
            "{'batch_size': 64, 'choice': {'dropout3': 0.25, 'layers': 'three', 'units3': 8}, 'dropout1': 0.25, 'dropout2': 0.25, 'epochs': 100, 'input': 'DH1', 'order': 4, 'output': 'DH1', 'units1': 64, 'units2': 128}\n",
            "Error : 0.09614798825039768\n",
            "{'batch_size': 28, 'choice': {'dropout3': 0.5, 'layers': 'three', 'units3': 16}, 'dropout1': 0, 'dropout2': 0.25, 'epochs': 100, 'input': 'DH1', 'order': 4, 'output': 'DH1', 'units1': 512, 'units2': 16}\n",
            "Error : 0.09328065521432491\n",
            "{'batch_size': 128, 'choice': {'layers': 'two'}, 'dropout1': 0, 'dropout2': 0.5, 'epochs': 200, 'input': 'DH1', 'order': 8, 'output': 'DH1', 'units1': 512, 'units2': 16}\n",
            "Error : 0.1033315308684644\n",
            "{'batch_size': 64, 'choice': {'dropout3': 0.25, 'layers': 'three', 'units3': 8}, 'dropout1': 0.75, 'dropout2': 0, 'epochs': 100, 'input': 'DH1', 'order': 1, 'output': 'DH1', 'units1': 128, 'units2': 128}\n",
            "Error : 0.25686478754574354\n",
            "{'batch_size': 28, 'choice': {'layers': 'two'}, 'dropout1': 0, 'dropout2': 0.75, 'epochs': 300, 'input': 'DH1', 'order': 8, 'output': 'DH1', 'units1': 512, 'units2': 256}\n",
            "Error : 0.11921547376967095\n",
            "{'batch_size': 28, 'choice': {'layers': 'two'}, 'dropout1': 0, 'dropout2': 0.75, 'epochs': 300, 'input': 'DH1', 'order': 4, 'output': 'DH1', 'units1': 256, 'units2': 16}\n",
            "Error : 0.09562350812169101\n",
            "{'batch_size': 28, 'choice': {'layers': 'two'}, 'dropout1': 0, 'dropout2': 0.25, 'epochs': 300, 'input': 'DH1', 'order': 4, 'output': 'DH1', 'units1': 512, 'units2': 256}\n",
            "Error : 0.10683803156177776\n",
            "{'batch_size': 256, 'choice': {'layers': 'two'}, 'dropout1': 0, 'dropout2': 0.75, 'epochs': 300, 'input': 'DH1', 'order': 2, 'output': 'DH1', 'units1': 512, 'units2': 16}\n",
            "Error : 0.09374305565130014\n",
            "{'batch_size': 28, 'choice': {'layers': 'two'}, 'dropout1': 0, 'dropout2': 0.75, 'epochs': 300, 'input': 'DH1', 'order': 4, 'output': 'DH1', 'units1': 256, 'units2': 256}\n",
            "Error : 0.10562811456700902\n",
            "{'batch_size': 28, 'choice': {'dropout3': 0.5, 'layers': 'three', 'units3': 64}, 'dropout1': 0.25, 'dropout2': 0, 'epochs': 200, 'input': 'DH1', 'order': 8, 'output': 'DH1', 'units1': 512, 'units2': 16}\n",
            "Error : 0.10759399339866842\n",
            "{'batch_size': 28, 'choice': {'dropout3': 0.5, 'layers': 'three', 'units3': 16}, 'dropout1': 0, 'dropout2': 0.25, 'epochs': 300, 'input': 'DH1', 'order': 2, 'output': 'DH1', 'units1': 256, 'units2': 256}\n",
            "Error : 0.09305606607166288\n",
            "{'batch_size': 256, 'choice': {'layers': 'two'}, 'dropout1': 0.25, 'dropout2': 0.25, 'epochs': 300, 'input': 'DH1', 'order': 2, 'output': 'DH1', 'units1': 256, 'units2': 256}\n",
            "Error : 0.093433701991989\n",
            "{'batch_size': 28, 'choice': {'dropout3': 0.75, 'layers': 'three', 'units3': 16}, 'dropout1': 0.25, 'dropout2': 0.75, 'epochs': 300, 'input': 'DH1', 'order': 2, 'output': 'DH1', 'units1': 256, 'units2': 256}\n",
            "Error : 0.09306596729001658\n",
            "{'batch_size': 28, 'choice': {'dropout3': 0.75, 'layers': 'three', 'units3': 16}, 'dropout1': 0, 'dropout2': 0.25, 'epochs': 300, 'input': 'DH1', 'order': 2, 'output': 'DH1', 'units1': 256, 'units2': 256}\n",
            "Error : 0.09289025433079438\n",
            "100%|██████████| 30/30 [05:53<00:00, 11.78s/trial, best loss: 0.09289025433079438]\n",
            "best parameters: \n",
            "{'batch_size': 28, 'choice': {'dropout3': 0.75, 'layers': 'three', 'units3': 16}, 'dropout1': 0, 'dropout2': 0.25, 'epochs': 300, 'input': 'DH1', 'order': 2, 'output': 'DH1', 'units1': 256, 'units2': 256}\n"
          ],
          "name": "stdout"
        }
      ]
    },
    {
      "cell_type": "markdown",
      "metadata": {
        "id": "hQ0oNy8EZgmY"
      },
      "source": [
        "Best params: \\\n",
        "\\\n",
        "mlp raw: \\\n",
        "{'batch_size': 28, 'choice': {'dropout3': 0.75, 'layers': 'three', 'units3': 16}, 'dropout1': 0, 'dropout2': 0.25, 'epochs': 300, 'input': 'DH1', 'order': 2, 'output': 'DH1', 'units1': 256, 'units2': 256} \\\n"
      ]
    },
    {
      "cell_type": "markdown",
      "metadata": {
        "id": "3TJUMYZOAmsG"
      },
      "source": [
        "#### MLP Forecasting"
      ]
    },
    {
      "cell_type": "code",
      "metadata": {
        "id": "n1vQDjtZoDPr"
      },
      "source": [
        "def mlp_forecast(train_df, test_df, params):\n",
        "\n",
        "\n",
        "    _input = [target_station]\n",
        "    _nlags = params['order']\n",
        "    _epochs = params['epochs']\n",
        "    _batch_size = params['batch_size']\n",
        "    nfeat = len(_input)\n",
        "    nsteps = params.get('step',1)\n",
        "    nobs = _nlags * nfeat\n",
        "\n",
        "    output_index = -nfeat*nsteps\n",
        "\n",
        "\n",
        "    train_reshaped_df = series_to_supervised(train_df[_input].values, n_in=_nlags, n_out=nsteps)\n",
        "    train_X, train_Y = train_reshaped_df.iloc[:, :nobs].values, train_reshaped_df.iloc[:, output_index:].values\n",
        "\n",
        "    test_reshaped_df = series_to_supervised(test_df[_input].values, n_in=_nlags, n_out=nsteps)\n",
        "    test_X, test_Y = test_reshaped_df.iloc[:, :nobs].values, test_reshaped_df.iloc[:, output_index:].values\n",
        "    \n",
        "    # design network\n",
        "    model = Sequential()\n",
        "    model.add(Dense(params['units1'], activation='relu', input_dim=train_X.shape[1]))\n",
        "    model.add(Dense(params['units2'], activation='relu'))\n",
        "    if params['choice']['layers'] == 'three':\n",
        "      model.add(Dense(params['choice']['units3'], activation='relu'))\n",
        "    model.add(Dense(1))\n",
        "    model.compile(loss='mean_squared_error', optimizer='adam')\n",
        "\n",
        "\n",
        "    # fit network\n",
        "    model.fit(train_X, train_Y, epochs=_epochs, batch_size=1000, verbose=False, shuffle=False)\n",
        "    \n",
        "    forecast = model.predict(test_X)\n",
        "    \n",
        "    fcst = [f[0] for f in forecast]\n",
        "\n",
        "    return fcst\n",
        "\n",
        "def rolling_cv_mlp_uni(df, params):\n",
        "    \n",
        "    lags_list = []\n",
        "    forecasts = []\n",
        "\n",
        "    limit = df.index[-1].strftime('%Y-%m-%d')\n",
        "\n",
        "    test_end = \"\"\n",
        "    index = df.index[0]\n",
        "\n",
        "    while test_end < limit :\n",
        "        print(\"Index: \", index.strftime('%Y-%m-%d'))  \n",
        "\n",
        "        train_start, train_end, test_start, test_end = getRollingWindow(index)\n",
        "        index = index + datetime.timedelta(days=7)\n",
        "        \n",
        "        train = df[train_start : train_end]\n",
        "        test = df[test_start : test_end]\n",
        "\n",
        "\n",
        "        # Perform forecast\n",
        "        yhat = mlp_forecast(train[[target_station]], test[[target_station]], params)\n",
        "        \n",
        "        yhat.append(yhat[-1]) #para manter o formato do vetor de metricas\n",
        "        \n",
        "        lags_list.append(params['order'])\n",
        "        forecasts.append(yhat)\n",
        "\n",
        "    return forecasts, lags_list"
      ],
      "execution_count": null,
      "outputs": []
    },
    {
      "cell_type": "code",
      "metadata": {
        "id": "-C0bXLWcoJVy",
        "colab": {
          "base_uri": "https://localhost:8080/",
          "height": 935
        },
        "outputId": "cd87de24-755a-4ff2-b562-7021166b5496"
      },
      "source": [
        "# Enter best params\n",
        "params_raw = {'batch_size': 28, 'choice': {'dropout3': 0.75, 'layers': 'three', 'units3': 16}, 'dropout1': 0, 'dropout2': 0.25, 'epochs': 300, 'input': 'DH1', 'order': 2, 'output': 'DH1', 'units1': 256, 'units2': 256}\n",
        "\n",
        "forecasts_raw, order_list = rolling_cv_mlp_uni(norm_df, params_raw)\n",
        "\n",
        "forecasts_final = get_final_forecast(forecasts_raw)\n",
        "calculate_rolling_error(\"rolling_cv_oahu_raw_mlp_uni\", df, forecasts_final, order_list)"
      ],
      "execution_count": null,
      "outputs": [
        {
          "output_type": "stream",
          "text": [
            "Index:  2010-07-01\n",
            "Index:  2010-07-08\n",
            "Index:  2010-07-15\n",
            "Index:  2010-07-22\n",
            "Index:  2010-07-29\n",
            "Index:  2010-08-05\n",
            "Index:  2010-08-12\n",
            "Index:  2010-08-19\n",
            "Index:  2010-08-26\n",
            "Index:  2010-09-02\n",
            "Index:  2010-09-09\n",
            "Index:  2010-09-16\n",
            "Index:  2010-09-23\n",
            "Index:  2010-09-30\n",
            "Index:  2010-10-07\n",
            "Index:  2010-10-14\n",
            "Index:  2010-10-21\n",
            "Index:  2010-10-28\n",
            "Index:  2010-11-04\n",
            "Index:  2010-11-11\n",
            "Index:  2010-11-18\n",
            "Index:  2010-11-25\n",
            "Index:  2010-12-02\n",
            "Index:  2010-12-09\n",
            "Index:  2010-12-16\n",
            "Index:  2010-12-23\n",
            "Index:  2010-12-30\n",
            "Index:  2011-01-06\n",
            "Index:  2011-01-13\n",
            "Index:  2011-01-20\n",
            "Index:  2011-01-27\n",
            "Index:  2011-02-03\n",
            "Index:  2011-02-10\n",
            "Index:  2011-02-17\n",
            "Index:  2011-02-24\n",
            "Index:  2011-03-03\n",
            "Index:  2011-03-10\n",
            "Index:  2011-03-17\n",
            "Index:  2011-03-24\n",
            "Index:  2011-03-31\n",
            "Index:  2011-04-07\n",
            "Index:  2011-04-14\n",
            "Index:  2011-04-21\n",
            "Index:  2011-04-28\n",
            "Index:  2011-05-05\n",
            "Index:  2011-05-12\n",
            "Index:  2011-05-19\n",
            "Index:  2011-05-26\n",
            "Index:  2011-06-02\n",
            "Index:  2011-06-09\n",
            "Index:  2011-06-16\n",
            "Index:  2011-06-23\n",
            "Index:  2011-06-30\n",
            "Index:  2011-07-07\n"
          ],
          "name": "stdout"
        }
      ]
    },
    {
      "cell_type": "code",
      "metadata": {
        "id": "ii35SvBPKMUn",
        "colab": {
          "base_uri": "https://localhost:8080/",
          "height": 17
        },
        "outputId": "92a8bfcd-d29d-4156-f73c-fc41e10433d8"
      },
      "source": [
        "files.download('rolling_cv_oahu_raw_mlp_uni.csv')"
      ],
      "execution_count": null,
      "outputs": [
        {
          "output_type": "display_data",
          "data": {
            "application/javascript": [
              "\n",
              "    async function download(id, filename, size) {\n",
              "      if (!google.colab.kernel.accessAllowed) {\n",
              "        return;\n",
              "      }\n",
              "      const div = document.createElement('div');\n",
              "      const label = document.createElement('label');\n",
              "      label.textContent = `Downloading \"${filename}\": `;\n",
              "      div.appendChild(label);\n",
              "      const progress = document.createElement('progress');\n",
              "      progress.max = size;\n",
              "      div.appendChild(progress);\n",
              "      document.body.appendChild(div);\n",
              "\n",
              "      const buffers = [];\n",
              "      let downloaded = 0;\n",
              "\n",
              "      const channel = await google.colab.kernel.comms.open(id);\n",
              "      // Send a message to notify the kernel that we're ready.\n",
              "      channel.send({})\n",
              "\n",
              "      for await (const message of channel.messages) {\n",
              "        // Send a message to notify the kernel that we're ready.\n",
              "        channel.send({})\n",
              "        if (message.buffers) {\n",
              "          for (const buffer of message.buffers) {\n",
              "            buffers.push(buffer);\n",
              "            downloaded += buffer.byteLength;\n",
              "            progress.value = downloaded;\n",
              "          }\n",
              "        }\n",
              "      }\n",
              "      const blob = new Blob(buffers, {type: 'application/binary'});\n",
              "      const a = document.createElement('a');\n",
              "      a.href = window.URL.createObjectURL(blob);\n",
              "      a.download = filename;\n",
              "      div.appendChild(a);\n",
              "      a.click();\n",
              "      div.remove();\n",
              "    }\n",
              "  "
            ],
            "text/plain": [
              "<IPython.core.display.Javascript object>"
            ]
          },
          "metadata": {
            "tags": []
          }
        },
        {
          "output_type": "display_data",
          "data": {
            "application/javascript": [
              "download(\"download_09d26c1f-c5d2-41bb-b43b-5e127b5ef6ec\", \"rolling_cv_oahu_raw_mlp_uni.csv\", 2820)"
            ],
            "text/plain": [
              "<IPython.core.display.Javascript object>"
            ]
          },
          "metadata": {
            "tags": []
          }
        }
      ]
    },
    {
      "cell_type": "markdown",
      "metadata": {
        "id": "bwcccfkMJkM1"
      },
      "source": [
        "### Conventional (Song and Chissom) FTS"
      ]
    },
    {
      "cell_type": "code",
      "metadata": {
        "id": "hKw0bVXNJkNE"
      },
      "source": [
        "from pyFTS.partitioners import Grid, Entropy, Util as pUtil\n",
        "from pyFTS.models import song"
      ],
      "execution_count": null,
      "outputs": []
    },
    {
      "cell_type": "markdown",
      "metadata": {
        "id": "j5Kn3sBfJkNL"
      },
      "source": [
        "#### FTS Parameter Tuning"
      ]
    },
    {
      "cell_type": "code",
      "metadata": {
        "id": "vRfn38p-JkNM"
      },
      "source": [
        "fts_space = {'partitioner': hp.choice('partitioner', [Grid.GridPartitioner, Entropy.EntropyPartitioner]),\n",
        "        'npartitions': hp.choice('npartitions', [10, 50,100]),\n",
        "        'order': hp.choice('order', [1]),\n",
        "        'input': hp.choice('input', [target_station]),\n",
        "        'output': hp.choice('output', [target_station])}\n",
        "\n",
        "def fts_forecast(train_df, test_df, params):\n",
        "    _partitioner = params['partitioner']\n",
        "    _npartitions = params['npartitions']\n",
        "    _order = 1\n",
        "    _input = params['input']\n",
        "    _step = params.get('step',1)\n",
        "\n",
        "    fuzzy_sets = _partitioner(data=train_df[_input].values, npart=_npartitions)\n",
        "    model = song.ConventionalFTS(partitioner=fuzzy_sets)\n",
        "\n",
        "    model.fit(train_df[_input].values)\n",
        "    forecast = model.predict(test_df[_input].values, steps_ahead=_step)\n",
        "\n",
        "    return forecast[:-1]"
      ],
      "execution_count": null,
      "outputs": []
    },
    {
      "cell_type": "code",
      "metadata": {
        "id": "v4FQV0E3JkNP",
        "colab": {
          "base_uri": "https://localhost:8080/",
          "height": 1000
        },
        "outputId": "63b42c95-ad81-4539-e123-5cb99abd840b"
      },
      "source": [
        "methods = []\n",
        "methods.append((\"EXP_OAHU_FTS\", fts_forecast, fts_space))\n",
        "train_split = 0.6\n",
        "parameter_tuning.run_search(methods, tuning_df, train_split, Measures.rmse, max_evals=30, resample=None)"
      ],
      "execution_count": null,
      "outputs": [
        {
          "output_type": "stream",
          "text": [
            "Running experiment: EXP_OAHU_FTS\n",
            "{'input': 'DH1', 'npartitions': 50, 'order': 1, 'output': 'DH1', 'partitioner': <class 'pyFTS.partitioners.Grid.GridPartitioner'>}\n",
            "Error : 0.2508915959411362\n",
            "{'input': 'DH1', 'npartitions': 50, 'order': 1, 'output': 'DH1', 'partitioner': <class 'pyFTS.partitioners.Grid.GridPartitioner'>}\n",
            "Error : 0.2508915959411362\n",
            "{'input': 'DH1', 'npartitions': 100, 'order': 1, 'output': 'DH1', 'partitioner': <class 'pyFTS.partitioners.Entropy.EntropyPartitioner'>}\n",
            "Error : 0.2497829334946225\n",
            "{'input': 'DH1', 'npartitions': 50, 'order': 1, 'output': 'DH1', 'partitioner': <class 'pyFTS.partitioners.Grid.GridPartitioner'>}\n",
            "Error : 0.2508915959411362\n",
            "{'input': 'DH1', 'npartitions': 50, 'order': 1, 'output': 'DH1', 'partitioner': <class 'pyFTS.partitioners.Entropy.EntropyPartitioner'>}\n",
            "Error : 0.24447862186748\n",
            "{'input': 'DH1', 'npartitions': 10, 'order': 1, 'output': 'DH1', 'partitioner': <class 'pyFTS.partitioners.Grid.GridPartitioner'>}\n",
            "Error : 0.18625586427848095\n",
            "{'input': 'DH1', 'npartitions': 100, 'order': 1, 'output': 'DH1', 'partitioner': <class 'pyFTS.partitioners.Grid.GridPartitioner'>}\n",
            "Error : 0.26910999651901163\n",
            "{'input': 'DH1', 'npartitions': 10, 'order': 1, 'output': 'DH1', 'partitioner': <class 'pyFTS.partitioners.Grid.GridPartitioner'>}\n",
            "Error : 0.18625586427848095\n",
            "{'input': 'DH1', 'npartitions': 100, 'order': 1, 'output': 'DH1', 'partitioner': <class 'pyFTS.partitioners.Entropy.EntropyPartitioner'>}\n",
            "Error : 0.2497829334946225\n",
            "{'input': 'DH1', 'npartitions': 100, 'order': 1, 'output': 'DH1', 'partitioner': <class 'pyFTS.partitioners.Entropy.EntropyPartitioner'>}\n",
            "Error : 0.2497829334946225\n",
            "{'input': 'DH1', 'npartitions': 50, 'order': 1, 'output': 'DH1', 'partitioner': <class 'pyFTS.partitioners.Grid.GridPartitioner'>}\n",
            "Error : 0.2508915959411362\n",
            "{'input': 'DH1', 'npartitions': 50, 'order': 1, 'output': 'DH1', 'partitioner': <class 'pyFTS.partitioners.Grid.GridPartitioner'>}\n",
            "Error : 0.2508915959411362\n",
            "{'input': 'DH1', 'npartitions': 100, 'order': 1, 'output': 'DH1', 'partitioner': <class 'pyFTS.partitioners.Entropy.EntropyPartitioner'>}\n",
            "Error : 0.2497829334946225\n",
            "{'input': 'DH1', 'npartitions': 10, 'order': 1, 'output': 'DH1', 'partitioner': <class 'pyFTS.partitioners.Grid.GridPartitioner'>}\n",
            "Error : 0.18625586427848095\n",
            "{'input': 'DH1', 'npartitions': 50, 'order': 1, 'output': 'DH1', 'partitioner': <class 'pyFTS.partitioners.Grid.GridPartitioner'>}\n",
            "Error : 0.2508915959411362\n",
            "{'input': 'DH1', 'npartitions': 100, 'order': 1, 'output': 'DH1', 'partitioner': <class 'pyFTS.partitioners.Entropy.EntropyPartitioner'>}\n",
            "Error : 0.2497829334946225\n",
            "{'input': 'DH1', 'npartitions': 100, 'order': 1, 'output': 'DH1', 'partitioner': <class 'pyFTS.partitioners.Entropy.EntropyPartitioner'>}\n",
            "Error : 0.2497829334946225\n",
            "{'input': 'DH1', 'npartitions': 100, 'order': 1, 'output': 'DH1', 'partitioner': <class 'pyFTS.partitioners.Entropy.EntropyPartitioner'>}\n",
            "Error : 0.2497829334946225\n",
            "{'input': 'DH1', 'npartitions': 100, 'order': 1, 'output': 'DH1', 'partitioner': <class 'pyFTS.partitioners.Grid.GridPartitioner'>}\n",
            "Error : 0.26910999651901163\n",
            "{'input': 'DH1', 'npartitions': 50, 'order': 1, 'output': 'DH1', 'partitioner': <class 'pyFTS.partitioners.Entropy.EntropyPartitioner'>}\n",
            "Error : 0.24447862186748\n",
            "{'input': 'DH1', 'npartitions': 10, 'order': 1, 'output': 'DH1', 'partitioner': <class 'pyFTS.partitioners.Grid.GridPartitioner'>}\n",
            "Error : 0.18625586427848095\n",
            "{'input': 'DH1', 'npartitions': 10, 'order': 1, 'output': 'DH1', 'partitioner': <class 'pyFTS.partitioners.Grid.GridPartitioner'>}\n",
            "Error : 0.18625586427848095\n",
            "{'input': 'DH1', 'npartitions': 10, 'order': 1, 'output': 'DH1', 'partitioner': <class 'pyFTS.partitioners.Grid.GridPartitioner'>}\n",
            "Error : 0.18625586427848095\n",
            "{'input': 'DH1', 'npartitions': 10, 'order': 1, 'output': 'DH1', 'partitioner': <class 'pyFTS.partitioners.Grid.GridPartitioner'>}\n",
            "Error : 0.18625586427848095\n",
            "{'input': 'DH1', 'npartitions': 10, 'order': 1, 'output': 'DH1', 'partitioner': <class 'pyFTS.partitioners.Grid.GridPartitioner'>}\n",
            "Error : 0.18625586427848095\n",
            "{'input': 'DH1', 'npartitions': 10, 'order': 1, 'output': 'DH1', 'partitioner': <class 'pyFTS.partitioners.Grid.GridPartitioner'>}\n",
            "Error : 0.18625586427848095\n",
            "{'input': 'DH1', 'npartitions': 10, 'order': 1, 'output': 'DH1', 'partitioner': <class 'pyFTS.partitioners.Grid.GridPartitioner'>}\n",
            "Error : 0.18625586427848095\n",
            "{'input': 'DH1', 'npartitions': 10, 'order': 1, 'output': 'DH1', 'partitioner': <class 'pyFTS.partitioners.Grid.GridPartitioner'>}\n",
            "Error : 0.18625586427848095\n",
            "{'input': 'DH1', 'npartitions': 10, 'order': 1, 'output': 'DH1', 'partitioner': <class 'pyFTS.partitioners.Grid.GridPartitioner'>}\n",
            "Error : 0.18625586427848095\n",
            "{'input': 'DH1', 'npartitions': 10, 'order': 1, 'output': 'DH1', 'partitioner': <class 'pyFTS.partitioners.Grid.GridPartitioner'>}\n",
            "Error : 0.18625586427848095\n",
            "100%|██████████| 30/30 [02:12<00:00,  4.42s/trial, best loss: 0.18625586427848095]\n",
            "best parameters: \n",
            "{'input': 'DH1', 'npartitions': 10, 'order': 1, 'output': 'DH1', 'partitioner': <class 'pyFTS.partitioners.Grid.GridPartitioner'>}\n"
          ],
          "name": "stdout"
        }
      ]
    },
    {
      "cell_type": "markdown",
      "metadata": {
        "id": "N6c9cmL6JkNT"
      },
      "source": [
        "Best params: \\\n",
        "\\\n",
        "FTS Raw: \\\n",
        "{'input': 'DH1', 'npartitions': 10, 'order': 1, 'output': 'DH1', 'partitioner': <class 'pyFTS.partitioners.Grid.GridPartitioner'>} \\\n"
      ]
    },
    {
      "cell_type": "markdown",
      "metadata": {
        "id": "PL-LsRYHL69j"
      },
      "source": [
        "#### FTS Forecasting"
      ]
    },
    {
      "cell_type": "code",
      "metadata": {
        "id": "JLI20axqJkNU"
      },
      "source": [
        "from pyFTS.partitioners import Grid, Entropy, Util as pUtil\n",
        "from pyFTS.models import song\n",
        "\n",
        "\n",
        "def rolling_cv_fts(df, params):\n",
        "\n",
        "    _order = params['order']\n",
        "\n",
        "    forecasts = []\n",
        "    order_list = []\n",
        "\n",
        "    limit = df.index[-1].strftime('%Y-%m-%d')\n",
        "\n",
        "    test_end = \"\"\n",
        "    index = df.index[0]\n",
        "\n",
        "    while test_end < limit :\n",
        "        print(\"Index: \", index.strftime('%Y-%m-%d'))  \n",
        "\n",
        "        train_start, train_end, test_start, test_end = getRollingWindow(index)\n",
        "        index = index + datetime.timedelta(days=7)\n",
        "        \n",
        "        train = df[train_start : train_end]\n",
        "        test = df[test_start : test_end]\n",
        "\n",
        "        # Perform forecast\n",
        "        yhat = fts_forecast(train, test, params)\n",
        "        yhat.append(yhat[-1]) #para manter o formato do vetor de metricas\n",
        "        \n",
        "        order_list.append(_order)\n",
        "        forecasts.append(yhat)\n",
        "\n",
        "    return forecasts, order_list"
      ],
      "execution_count": null,
      "outputs": []
    },
    {
      "cell_type": "code",
      "metadata": {
        "id": "0b-wX-ZKJkNY",
        "colab": {
          "base_uri": "https://localhost:8080/",
          "height": 935
        },
        "outputId": "379d9471-2040-4a49-afc2-d920e1a53ead"
      },
      "source": [
        "params_raw = {'input': 'DH1', 'npartitions': 10, 'order': 1, 'output': 'DH1', 'partitioner': Grid.GridPartitioner}\n",
        "\n",
        "\n",
        "forecasts_raw, order_list = rolling_cv_fts(norm_df, params_raw)\n",
        "\n",
        "forecasts_final = get_final_forecast(forecasts_raw)\n",
        "calculate_rolling_error(\"rolling_cv_oahu_raw_fts\", df, forecasts_final, order_list)"
      ],
      "execution_count": null,
      "outputs": [
        {
          "output_type": "stream",
          "text": [
            "Index:  2010-07-01\n",
            "Index:  2010-07-08\n",
            "Index:  2010-07-15\n",
            "Index:  2010-07-22\n",
            "Index:  2010-07-29\n",
            "Index:  2010-08-05\n",
            "Index:  2010-08-12\n",
            "Index:  2010-08-19\n",
            "Index:  2010-08-26\n",
            "Index:  2010-09-02\n",
            "Index:  2010-09-09\n",
            "Index:  2010-09-16\n",
            "Index:  2010-09-23\n",
            "Index:  2010-09-30\n",
            "Index:  2010-10-07\n",
            "Index:  2010-10-14\n",
            "Index:  2010-10-21\n",
            "Index:  2010-10-28\n",
            "Index:  2010-11-04\n",
            "Index:  2010-11-11\n",
            "Index:  2010-11-18\n",
            "Index:  2010-11-25\n",
            "Index:  2010-12-02\n",
            "Index:  2010-12-09\n",
            "Index:  2010-12-16\n",
            "Index:  2010-12-23\n",
            "Index:  2010-12-30\n",
            "Index:  2011-01-06\n",
            "Index:  2011-01-13\n",
            "Index:  2011-01-20\n",
            "Index:  2011-01-27\n",
            "Index:  2011-02-03\n",
            "Index:  2011-02-10\n",
            "Index:  2011-02-17\n",
            "Index:  2011-02-24\n",
            "Index:  2011-03-03\n",
            "Index:  2011-03-10\n",
            "Index:  2011-03-17\n",
            "Index:  2011-03-24\n",
            "Index:  2011-03-31\n",
            "Index:  2011-04-07\n",
            "Index:  2011-04-14\n",
            "Index:  2011-04-21\n",
            "Index:  2011-04-28\n",
            "Index:  2011-05-05\n",
            "Index:  2011-05-12\n",
            "Index:  2011-05-19\n",
            "Index:  2011-05-26\n",
            "Index:  2011-06-02\n",
            "Index:  2011-06-09\n",
            "Index:  2011-06-16\n",
            "Index:  2011-06-23\n",
            "Index:  2011-06-30\n",
            "Index:  2011-07-07\n"
          ],
          "name": "stdout"
        }
      ]
    },
    {
      "cell_type": "code",
      "metadata": {
        "id": "DbJujARsJkNa",
        "colab": {
          "base_uri": "https://localhost:8080/",
          "height": 17
        },
        "outputId": "b99ce7a8-0bbf-4956-971f-6b12c6a1c7de"
      },
      "source": [
        "files.download('rolling_cv_oahu_raw_fts.csv')"
      ],
      "execution_count": null,
      "outputs": [
        {
          "output_type": "display_data",
          "data": {
            "application/javascript": [
              "\n",
              "    async function download(id, filename, size) {\n",
              "      if (!google.colab.kernel.accessAllowed) {\n",
              "        return;\n",
              "      }\n",
              "      const div = document.createElement('div');\n",
              "      const label = document.createElement('label');\n",
              "      label.textContent = `Downloading \"${filename}\": `;\n",
              "      div.appendChild(label);\n",
              "      const progress = document.createElement('progress');\n",
              "      progress.max = size;\n",
              "      div.appendChild(progress);\n",
              "      document.body.appendChild(div);\n",
              "\n",
              "      const buffers = [];\n",
              "      let downloaded = 0;\n",
              "\n",
              "      const channel = await google.colab.kernel.comms.open(id);\n",
              "      // Send a message to notify the kernel that we're ready.\n",
              "      channel.send({})\n",
              "\n",
              "      for await (const message of channel.messages) {\n",
              "        // Send a message to notify the kernel that we're ready.\n",
              "        channel.send({})\n",
              "        if (message.buffers) {\n",
              "          for (const buffer of message.buffers) {\n",
              "            buffers.push(buffer);\n",
              "            downloaded += buffer.byteLength;\n",
              "            progress.value = downloaded;\n",
              "          }\n",
              "        }\n",
              "      }\n",
              "      const blob = new Blob(buffers, {type: 'application/binary'});\n",
              "      const a = document.createElement('a');\n",
              "      a.href = window.URL.createObjectURL(blob);\n",
              "      a.download = filename;\n",
              "      div.appendChild(a);\n",
              "      a.click();\n",
              "      div.remove();\n",
              "    }\n",
              "  "
            ],
            "text/plain": [
              "<IPython.core.display.Javascript object>"
            ]
          },
          "metadata": {
            "tags": []
          }
        },
        {
          "output_type": "display_data",
          "data": {
            "application/javascript": [
              "download(\"download_11cfbb51-7409-47c8-ad8b-ad740f3a1545\", \"rolling_cv_oahu_raw_fts.csv\", 2796)"
            ],
            "text/plain": [
              "<IPython.core.display.Javascript object>"
            ]
          },
          "metadata": {
            "tags": []
          }
        }
      ]
    },
    {
      "cell_type": "markdown",
      "metadata": {
        "id": "Ry-JFOh1s1qJ"
      },
      "source": [
        "### High Order FTS"
      ]
    },
    {
      "cell_type": "code",
      "metadata": {
        "id": "rTvlwfx8OIZR"
      },
      "source": [
        "from pyFTS.partitioners import Grid, Entropy, Util as pUtil\n",
        "from pyFTS.models import hofts"
      ],
      "execution_count": null,
      "outputs": []
    },
    {
      "cell_type": "markdown",
      "metadata": {
        "id": "YOaXlHm2Ltrq"
      },
      "source": [
        "#### HOFTS Parameter Tuning"
      ]
    },
    {
      "cell_type": "code",
      "metadata": {
        "id": "mZpaeSvALxnf"
      },
      "source": [
        "hofts_space = {'partitioner': hp.choice('partitioner', [Grid.GridPartitioner, Entropy.EntropyPartitioner]),\n",
        "        'npartitions': hp.choice('npartitions', [10, 50,100]),\n",
        "        'order': hp.choice('order', [1,2]),\n",
        "        'input': hp.choice('input', [target_station]),\n",
        "        'output': hp.choice('output', [target_station])}\n",
        "\n",
        "def hofts_forecast(train_df, test_df, params):\n",
        "    _partitioner = params['partitioner']\n",
        "    _npartitions = params['npartitions']\n",
        "    _order = params['order']\n",
        "    _input = params['input']\n",
        "    _step = params.get('step',1)\n",
        "\n",
        "    fuzzy_sets = _partitioner(data=train_df[_input].values, npart=_npartitions)\n",
        "    model = hofts.HighOrderFTS(order=_order)\n",
        "\n",
        "    model.fit(train_df[_input].values, order=_order, partitioner=fuzzy_sets)\n",
        "    forecast = model.predict(test_df[_input].values, steps_ahead=_step)\n",
        "\n",
        "    return forecast"
      ],
      "execution_count": null,
      "outputs": []
    },
    {
      "cell_type": "code",
      "metadata": {
        "id": "8mgVqRKANpQ0"
      },
      "source": [
        "methods = []\n",
        "methods.append((\"EXP_OAHU_HOFTS\", hofts_forecast, hofts_space))\n",
        "train_split = 0.6\n",
        "parameter_tuning.run_search(methods, tuning_df, train_split, Measures.rmse, max_evals=30, resample=None)"
      ],
      "execution_count": null,
      "outputs": []
    },
    {
      "cell_type": "markdown",
      "metadata": {
        "id": "boaYbWNkRvix"
      },
      "source": [
        "Best params: \\\n",
        "\\\n",
        "HOFTS raw: \\\n",
        "{'input': 'DH1', 'npartitions': 100, 'order': 1, 'output': 'DH1', 'partitioner': <class 'pyFTS.partitioners.Grid.GridPartitioner'>} \\\n"
      ]
    },
    {
      "cell_type": "code",
      "metadata": {
        "id": "OG4NaVwus4gO"
      },
      "source": [
        "from pyFTS.partitioners import Grid, Entropy, Util as pUtil\n",
        "from pyFTS.models import hofts\n",
        "\n",
        "\n",
        "def rolling_cv_hofts(df, params):\n",
        "\n",
        "    _order = params['order']\n",
        "\n",
        "    forecasts = []\n",
        "    order_list = []\n",
        "\n",
        "    limit = df.index[-1].strftime('%Y-%m-%d')\n",
        "\n",
        "    test_end = \"\"\n",
        "    index = df.index[0]\n",
        "\n",
        "    while test_end < limit :\n",
        "        print(\"Index: \", index.strftime('%Y-%m-%d'))  \n",
        "\n",
        "        train_start, train_end, test_start, test_end = getRollingWindow(index)\n",
        "        index = index + datetime.timedelta(days=7)\n",
        "        \n",
        "        train = df[train_start : train_end]\n",
        "        test = df[test_start : test_end]\n",
        "\n",
        "        # Perform forecast\n",
        "        yhat = hofts_forecast(train, test, params)\n",
        "        yhat.append(yhat[-1]) #para manter o formato do vetor de metricas\n",
        "        \n",
        "        order_list.append(_order)\n",
        "        forecasts.append(yhat)\n",
        "\n",
        "    return forecasts, order_list"
      ],
      "execution_count": null,
      "outputs": []
    },
    {
      "cell_type": "code",
      "metadata": {
        "id": "5WkWJF2MtE4i"
      },
      "source": [
        "params_raw = {'input': 'DH1', 'npartitions': 100, 'order': 1, 'output': 'DH1', 'partitioner': Grid.GridPartitioner}\n",
        "\n",
        "\n",
        "forecasts_raw, order_list = rolling_cv_hofts(norm_df, params_raw)\n",
        "\n",
        "forecasts_final = get_final_forecast(forecasts_raw)\n",
        "calculate_rolling_error(\"rolling_cv_oahu_raw_hofts\", df, forecasts_final, order_list)"
      ],
      "execution_count": null,
      "outputs": []
    },
    {
      "cell_type": "code",
      "metadata": {
        "id": "FEU3CMQdTCxX"
      },
      "source": [
        "files.download('rolling_cv_oahu_raw_hofts.csv')"
      ],
      "execution_count": null,
      "outputs": []
    },
    {
      "cell_type": "markdown",
      "metadata": {
        "id": "BbrR5M-2tj7j"
      },
      "source": [
        "### NSFTS"
      ]
    },
    {
      "cell_type": "code",
      "metadata": {
        "id": "KflU3vANXBU1"
      },
      "source": [
        "from pyFTS.models.nonstationary import common, perturbation, partitioners as nspart\n",
        "from pyFTS.models.nonstationary import nsfts, util as nsUtil"
      ],
      "execution_count": null,
      "outputs": []
    },
    {
      "cell_type": "markdown",
      "metadata": {
        "id": "CDsjp5tyVcy-"
      },
      "source": [
        "#### Parameter Tuning"
      ]
    },
    {
      "cell_type": "code",
      "metadata": {
        "id": "blbwPd2mVggp"
      },
      "source": [
        "nsfts_space = {'npartitions': hp.choice('npartitions', [10, 30, 50, 100, 150]),\n",
        "        'order': hp.choice('order', [1]),\n",
        "        'input': hp.choice('input', [target_station]),\n",
        "        'output': hp.choice('output', [target_station])}\n",
        "\n",
        "def nsfts_forecast(train_df, test_df, params):\n",
        "    _npartitions = params['npartitions']\n",
        "    _order = params['order']\n",
        "    _input = params['input']\n",
        "    _step = params.get('step',1)\n",
        "    \n",
        "    nsfs = nspart.simplenonstationary_gridpartitioner_builder(data=train_df[_input].values, npart=_npartitions, transformation=None)\n",
        "    model = nsfts.NonStationaryFTS(partitioner=nsfs, order=_order)\n",
        "    \n",
        "    model.fit(train_df[_input].values)\n",
        "\n",
        "    forecast = model.predict(test_df[_input].values)\n",
        "    forecast = forecast[:-1]\n",
        "    return forecast"
      ],
      "execution_count": null,
      "outputs": []
    },
    {
      "cell_type": "code",
      "metadata": {
        "id": "KziNLZGGWg4o"
      },
      "source": [
        "methods = []\n",
        "methods.append((\"EXP_OAHU_NSFTS\", nsfts_forecast, nsfts_space))\n",
        "train_split = 0.6\n",
        "parameter_tuning.run_search(methods, tuning_df, train_split, Measures.rmse, max_evals=10, resample=None)"
      ],
      "execution_count": null,
      "outputs": []
    },
    {
      "cell_type": "markdown",
      "metadata": {
        "id": "nUIZ1ALMU6oW"
      },
      "source": [
        "Best params: \\\n",
        "\\\n",
        "NSFTS raw: \\\n",
        "{'input': 'DH1', 'npartitions': 150, 'order': 1, 'output': 'DH1'} \\\n"
      ]
    },
    {
      "cell_type": "markdown",
      "metadata": {
        "id": "jrYz_tsNVoGT"
      },
      "source": [
        "#### NSFTS Forecasting"
      ]
    },
    {
      "cell_type": "code",
      "metadata": {
        "id": "zYBnBP2Y0QCl"
      },
      "source": [
        "def rolling_cv_nsfts(df, params):\n",
        "    \n",
        "    forecasts = []\n",
        "    order_list = []\n",
        "\n",
        "    _npartitions = params['npartitions']\n",
        "    _order = params['order']\n",
        "    _input = params['input']\n",
        "    _step = params.get('step',1)\n",
        "\n",
        "    limit = df.index[-1].strftime('%Y-%m-%d')\n",
        "\n",
        "    test_end = \"\"\n",
        "    index = df.index[0]\n",
        "    first_time = True\n",
        "\n",
        "    while test_end < limit :\n",
        "        print(\"Index: \", index.strftime('%Y-%m-%d'))  \n",
        "\n",
        "        train_start, train_end, test_start, test_end = getRollingWindow(index)\n",
        "        index = index + datetime.timedelta(days=7)\n",
        "        \n",
        "        train = df[train_start : train_end]\n",
        "        test = df[test_start : test_end]\n",
        "\n",
        "        # Perform forecast\n",
        "\n",
        "        # In the first time, the model is trained. \n",
        "        # For the next iterations, training subset is used to evolve the model\n",
        "        if first_time:\n",
        "          nsfs = nspart.simplenonstationary_gridpartitioner_builder(data=train[_input].values, npart=_npartitions, transformation=None)\n",
        "          model = nsfts.NonStationaryFTS(partitioner=nsfs, order=_order)\n",
        "          model.fit(train[_input].values)\n",
        "          first_time = False\n",
        "\n",
        "        forecast = model.predict(test[_input].values)\n",
        "        #forecast = forecast[:-1]\n",
        "        \n",
        "        order_list.append(params['order'])\n",
        "        forecasts.append(forecast)\n",
        "\n",
        "    return forecasts, order_list"
      ],
      "execution_count": null,
      "outputs": []
    },
    {
      "cell_type": "code",
      "metadata": {
        "id": "La4PN7ph4smH",
        "colab": {
          "base_uri": "https://localhost:8080/",
          "height": 935
        },
        "outputId": "2606864c-43ac-40f4-9320-db72144aea2f"
      },
      "source": [
        "params_raw = {'input': 'DH1', 'npartitions': 150, 'order': 1, 'output': 'DH1'}\n",
        "\n",
        "\n",
        "forecasts_raw, order_list = rolling_cv_nsfts(norm_df, params_raw)\n",
        "\n",
        "forecasts_final = get_final_forecast(forecasts_raw)\n",
        "calculate_rolling_error(\"rolling_cv_oahu_raw_nsfts\", df, forecasts_final, order_list)"
      ],
      "execution_count": null,
      "outputs": [
        {
          "output_type": "stream",
          "text": [
            "Index:  2010-07-01\n",
            "Index:  2010-07-08\n",
            "Index:  2010-07-15\n",
            "Index:  2010-07-22\n",
            "Index:  2010-07-29\n",
            "Index:  2010-08-05\n",
            "Index:  2010-08-12\n",
            "Index:  2010-08-19\n",
            "Index:  2010-08-26\n",
            "Index:  2010-09-02\n",
            "Index:  2010-09-09\n",
            "Index:  2010-09-16\n",
            "Index:  2010-09-23\n",
            "Index:  2010-09-30\n",
            "Index:  2010-10-07\n",
            "Index:  2010-10-14\n",
            "Index:  2010-10-21\n",
            "Index:  2010-10-28\n",
            "Index:  2010-11-04\n",
            "Index:  2010-11-11\n",
            "Index:  2010-11-18\n",
            "Index:  2010-11-25\n",
            "Index:  2010-12-02\n",
            "Index:  2010-12-09\n",
            "Index:  2010-12-16\n",
            "Index:  2010-12-23\n",
            "Index:  2010-12-30\n",
            "Index:  2011-01-06\n",
            "Index:  2011-01-13\n",
            "Index:  2011-01-20\n",
            "Index:  2011-01-27\n",
            "Index:  2011-02-03\n",
            "Index:  2011-02-10\n",
            "Index:  2011-02-17\n",
            "Index:  2011-02-24\n",
            "Index:  2011-03-03\n",
            "Index:  2011-03-10\n",
            "Index:  2011-03-17\n",
            "Index:  2011-03-24\n",
            "Index:  2011-03-31\n",
            "Index:  2011-04-07\n",
            "Index:  2011-04-14\n",
            "Index:  2011-04-21\n",
            "Index:  2011-04-28\n",
            "Index:  2011-05-05\n",
            "Index:  2011-05-12\n",
            "Index:  2011-05-19\n",
            "Index:  2011-05-26\n",
            "Index:  2011-06-02\n",
            "Index:  2011-06-09\n",
            "Index:  2011-06-16\n",
            "Index:  2011-06-23\n",
            "Index:  2011-06-30\n",
            "Index:  2011-07-07\n"
          ],
          "name": "stdout"
        }
      ]
    },
    {
      "cell_type": "code",
      "metadata": {
        "id": "WWPvfdqAcdV-",
        "colab": {
          "base_uri": "https://localhost:8080/",
          "height": 17
        },
        "outputId": "78d21c89-4e39-47ed-c5a2-dc0f564df42d"
      },
      "source": [
        "files.download('rolling_cv_oahu_raw_nsfts.csv')"
      ],
      "execution_count": null,
      "outputs": [
        {
          "output_type": "display_data",
          "data": {
            "application/javascript": [
              "\n",
              "    async function download(id, filename, size) {\n",
              "      if (!google.colab.kernel.accessAllowed) {\n",
              "        return;\n",
              "      }\n",
              "      const div = document.createElement('div');\n",
              "      const label = document.createElement('label');\n",
              "      label.textContent = `Downloading \"${filename}\": `;\n",
              "      div.appendChild(label);\n",
              "      const progress = document.createElement('progress');\n",
              "      progress.max = size;\n",
              "      div.appendChild(progress);\n",
              "      document.body.appendChild(div);\n",
              "\n",
              "      const buffers = [];\n",
              "      let downloaded = 0;\n",
              "\n",
              "      const channel = await google.colab.kernel.comms.open(id);\n",
              "      // Send a message to notify the kernel that we're ready.\n",
              "      channel.send({})\n",
              "\n",
              "      for await (const message of channel.messages) {\n",
              "        // Send a message to notify the kernel that we're ready.\n",
              "        channel.send({})\n",
              "        if (message.buffers) {\n",
              "          for (const buffer of message.buffers) {\n",
              "            buffers.push(buffer);\n",
              "            downloaded += buffer.byteLength;\n",
              "            progress.value = downloaded;\n",
              "          }\n",
              "        }\n",
              "      }\n",
              "      const blob = new Blob(buffers, {type: 'application/binary'});\n",
              "      const a = document.createElement('a');\n",
              "      a.href = window.URL.createObjectURL(blob);\n",
              "      a.download = filename;\n",
              "      div.appendChild(a);\n",
              "      a.click();\n",
              "      div.remove();\n",
              "    }\n",
              "  "
            ],
            "text/plain": [
              "<IPython.core.display.Javascript object>"
            ]
          },
          "metadata": {
            "tags": []
          }
        },
        {
          "output_type": "display_data",
          "data": {
            "application/javascript": [
              "download(\"download_d40d135d-0aee-4133-8ed3-fa45ec2f91b8\", \"rolling_cv_oahu_raw_nsfts.csv\", 2816)"
            ],
            "text/plain": [
              "<IPython.core.display.Javascript object>"
            ]
          },
          "metadata": {
            "tags": []
          }
        }
      ]
    },
    {
      "cell_type": "markdown",
      "metadata": {
        "id": "GJo1NvXBiKLi"
      },
      "source": [
        "## Results Analysis"
      ]
    },
    {
      "cell_type": "code",
      "metadata": {
        "id": "MtvdyqvleWaC",
        "colab": {
          "resources": {
            "http://localhost:8080/nbextensions/google.colab/files.js": {
              "data": "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",
              "ok": true,
              "headers": [
                [
                  "content-type",
                  "application/javascript"
                ]
              ],
              "status": 200,
              "status_text": ""
            }
          },
          "base_uri": "https://localhost:8080/",
          "height": 109
        },
        "outputId": "84fe7971-0659-48c2-8ef5-08357447e65a"
      },
      "source": [
        "files.upload()"
      ],
      "execution_count": null,
      "outputs": [
        {
          "output_type": "display_data",
          "data": {
            "text/html": [
              "\n",
              "     <input type=\"file\" id=\"files-0ee4bd59-6ceb-4551-976d-3f02218822c0\" name=\"files[]\" multiple disabled\n",
              "        style=\"border:none\" />\n",
              "     <output id=\"result-0ee4bd59-6ceb-4551-976d-3f02218822c0\">\n",
              "      Upload widget is only available when the cell has been executed in the\n",
              "      current browser session. Please rerun this cell to enable.\n",
              "      </output>\n",
              "      <script src=\"/nbextensions/google.colab/files.js\"></script> "
            ],
            "text/plain": [
              "<IPython.core.display.HTML object>"
            ]
          },
          "metadata": {
            "tags": []
          }
        },
        {
          "output_type": "stream",
          "text": [
            "Saving rolling_cv_oahu_raw_hofts.csv to rolling_cv_oahu_raw_hofts.csv\n"
          ],
          "name": "stdout"
        },
        {
          "output_type": "execute_result",
          "data": {
            "text/plain": [
              "{'rolling_cv_oahu_raw_hofts.csv': b',Split,RMSE,SMAPE,U\\n0,2010-07-01,138.5627545168579,28.136966495670237,\\n1,2010-07-08,136.7411239024452,28.01264557633985,\\n2,2010-07-15,126.98547045449074,27.789587681193822,\\n3,2010-07-22,126.92204886549915,28.443001853639394,\\n4,2010-07-29,132.94553240268968,28.96144078185361,\\n5,2010-08-05,129.49364446046184,29.432287516305873,\\n6,2010-08-12,130.47063416255546,30.354223680218617,\\n7,2010-08-19,147.80968462249274,33.06475072480346,\\n8,2010-08-26,118.72569135861349,32.925060965206136,\\n9,2010-09-02,129.5306060440745,33.798803731689176,\\n10,2010-09-09,125.77821254080901,35.00004479521626,\\n11,2010-09-16,109.2644672818261,32.652451479255,\\n12,2010-09-23,99.18953708072584,32.80659930064796,\\n13,2010-09-30,99.84426818245092,34.42406404390011,\\n14,2010-10-07,109.06476485545652,35.89145198379658,\\n15,2010-10-14,100.69420199266067,35.96548036771197,\\n16,2010-10-21,86.18741477793613,36.43155950941707,\\n17,2010-10-28,90.23104360661313,36.760426062007646,\\n18,2010-11-04,77.04009072873116,36.778275631929866,\\n19,2010-11-11,59.50986918693764,35.3842264102721,\\n20,2010-11-18,80.0681080645786,38.45740226719486,\\n21,2010-11-25,54.90338838460661,40.234295109066714,\\n22,2010-12-02,70.09405909174428,39.79810615488465,\\n23,2010-12-09,82.11915549066273,36.182787843915015,\\n24,2010-12-16,89.44523145383666,39.24307477478079,\\n25,2010-12-23,80.5317657320764,38.11642084787283,\\n26,2010-12-30,108.45498905997049,36.75329492798337,\\n27,2011-01-06,89.68822194413288,35.31183505392584,\\n28,2011-01-13,96.34676955512664,36.90276464039366,\\n29,2011-01-20,95.02102544072173,35.38941797477575,\\n30,2011-01-27,88.2852511494561,34.9416863321939,\\n31,2011-02-03,110.07474622536213,33.1417829312484,\\n32,2011-02-10,103.64374991223731,34.41132682744362,\\n33,2011-02-17,117.88834619570497,31.51167840873165,\\n34,2011-02-24,117.73678033350845,31.773831901379552,\\n35,2011-03-03,127.10131442103683,29.536560065839844,\\n36,2011-03-10,120.0755844908862,30.72578669997888,\\n37,2011-03-17,121.61787778422504,30.440921751032736,\\n38,2011-03-24,112.15850850350341,28.75273529768399,\\n39,2011-03-31,112.69306489702778,26.73376021941966,\\n40,2011-04-07,120.58081117692294,27.60755554670493,\\n41,2011-04-14,92.4469165053216,28.3187890771625,\\n42,2011-04-21,115.98122248905867,25.837679268145724,\\n43,2011-04-28,125.247710455284,24.708787059812774,\\n44,2011-05-05,126.29960607014883,24.815380654327363,\\n45,2011-05-12,117.04523295856414,27.08752631572377,\\n46,2011-05-19,132.35239038565766,24.66845719054221,\\n47,2011-05-26,117.98673719178116,23.896814355506955,\\n48,2011-06-02,129.45414250837848,24.464648592492487,\\n49,2011-06-09,129.34508849140647,24.614124410659482,\\n50,2011-06-16,130.77659574571544,25.403286619114468,\\n51,2011-06-23,124.21126529766572,25.31639112340901,\\n52,2011-06-30,129.27617024546953,26.431086645463502,\\n53,2011-07-07,119.73996876775699,25.18666246676975,\\n'}"
            ]
          },
          "metadata": {
            "tags": []
          },
          "execution_count": 31
        }
      ]
    },
    {
      "cell_type": "code",
      "metadata": {
        "id": "XIaiDDxgG9MY"
      },
      "source": [
        "!ls"
      ],
      "execution_count": null,
      "outputs": []
    },
    {
      "cell_type": "code",
      "metadata": {
        "id": "XXacWLz8bRHb"
      },
      "source": [
        "pd.options.display.float_format = '{:.4f}'.format"
      ],
      "execution_count": null,
      "outputs": []
    },
    {
      "cell_type": "code",
      "metadata": {
        "id": "RXlkpzmhbf0u"
      },
      "source": [
        "def createBoxplot(filename, data, xticklabels, ylabel):\n",
        "    # Create a figure instance\n",
        "    fig = plt.figure(1, figsize=(9, 6))\n",
        "\n",
        "    # Create an axes instance\n",
        "    ax = fig.add_subplot(111)\n",
        "\n",
        "    # Create the boxplot\n",
        "    bp = ax.boxplot(data, patch_artist=True)\n",
        "    \n",
        "    ## change outline color, fill color and linewidth of the boxes\n",
        "    for box in bp['boxes']:\n",
        "        # change outline color\n",
        "        box.set( color='#7570b3', linewidth=2)\n",
        "        # change fill color\n",
        "        box.set( facecolor = '#AACCFF' )\n",
        "\n",
        "    ## change color and linewidth of the whiskers\n",
        "    for whisker in bp['whiskers']:\n",
        "        whisker.set(color='#7570b3', linewidth=2)\n",
        "\n",
        "    ## change color and linewidth of the caps\n",
        "    for cap in bp['caps']:\n",
        "        cap.set(color='#7570b3', linewidth=2)\n",
        "\n",
        "    ## change color and linewidth of the medians\n",
        "    for median in bp['medians']:\n",
        "        median.set(color='#FFE680', linewidth=2)\n",
        "\n",
        "    ## change the style of fliers and their fill\n",
        "    for flier in bp['fliers']:\n",
        "        flier.set(marker='o', color='#e7298a', alpha=0.5)\n",
        "    \n",
        "    ## Custom x-axis labels\n",
        "    ax.set_xticklabels(xticklabels)\n",
        "    ax.set_ylabel(ylabel)\n",
        "    plt.show()\n",
        "    fig.savefig(filename, bbox_inches='tight')"
      ],
      "execution_count": null,
      "outputs": []
    },
    {
      "cell_type": "code",
      "metadata": {
        "id": "ENEVrj9bbkBT"
      },
      "source": [
        "hofts_results = pd.read_csv(\"rolling_cv_oahu_raw_hofts.csv\")\n",
        "mlp_results = pd.read_csv(\"rolling_cv_oahu_raw_mlp_uni.csv\")\n",
        "fts_results = pd.read_csv(\"rolling_cv_oahu_raw_fts.csv\")\n",
        "nsfts_results = pd.read_csv(\"rolling_cv_oahu_raw_nsfts.csv\")\n",
        "persistence_results = pd.read_csv(\"rolling_cv_oahu_raw_persistence.csv\")"
      ],
      "execution_count": null,
      "outputs": []
    },
    {
      "cell_type": "markdown",
      "metadata": {
        "id": "kmKix85vPugN"
      },
      "source": [
        "#### RMSE"
      ]
    },
    {
      "cell_type": "code",
      "metadata": {
        "id": "4rADoHb1bqBZ",
        "colab": {
          "base_uri": "https://localhost:8080/",
          "height": 374
        },
        "outputId": "52a73d0d-ecc9-406c-c5da-016dd9e1578b"
      },
      "source": [
        "metric = 'RMSE'\n",
        "results_data = [persistence_results[metric],mlp_results[metric], fts_results[metric], hofts_results[metric], nsfts_results[metric]]\n",
        "xticks = ['Persistence','MLP','FTS','HOFTS','NSFTS']\n",
        "\n",
        "ylab = 'RMSE'\n",
        "createBoxplot(\"nsfts_boxplot_rmse_oahu\", results_data, xticks, ylab)"
      ],
      "execution_count": null,
      "outputs": [
        {
          "output_type": "display_data",
          "data": {
            "image/png": "[encoded data removed]",
            "text/plain": [
              "<Figure size 648x432 with 1 Axes>"
            ]
          },
          "metadata": {
            "tags": [],
            "needs_background": "light"
          }
        }
      ]
    },
    {
      "cell_type": "code",
      "metadata": {
        "id": "O6xvFr1WLA3g"
      },
      "source": [
        "metric = 'RMSE'\n",
        "rmse_df = pd.DataFrame(columns=['Persistence','MLP','FTS', 'HOFTS','NSFTS'])\n",
        "\n",
        "rmse_df[\"Persistence\"] = persistence_results[metric]\n",
        "rmse_df[\"MLP\"] = mlp_results[metric]\n",
        "rmse_df[\"FTS\"] = fts_results[metric]\n",
        "rmse_df[\"HOFTS\"] = hofts_results[metric]\n",
        "rmse_df[\"NSFTS\"] = nsfts_results[metric]"
      ],
      "execution_count": null,
      "outputs": []
    },
    {
      "cell_type": "code",
      "metadata": {
        "id": "VqYAppWhMRw3",
        "colab": {
          "base_uri": "https://localhost:8080/",
          "height": 255
        },
        "outputId": "2488245a-10fc-434e-e7e8-4e31c0a395df"
      },
      "source": [
        "print(\"Mean\")\n",
        "print(rmse_df.mean())\n",
        "print(\"std\")\n",
        "print(rmse_df.std())"
      ],
      "execution_count": null,
      "outputs": [
        {
          "output_type": "stream",
          "text": [
            "Mean\n",
            "Persistence   477.0410\n",
            "MLP           101.8070\n",
            "FTS           194.3235\n",
            "HOFTS         110.4386\n",
            "NSFTS         120.7854\n",
            "dtype: float64\n",
            "std\n",
            "Persistence   71.6699\n",
            "MLP           20.7889\n",
            "FTS           32.3318\n",
            "HOFTS         21.0441\n",
            "NSFTS         16.5486\n",
            "dtype: float64\n"
          ],
          "name": "stdout"
        }
      ]
    },
    {
      "cell_type": "markdown",
      "metadata": {
        "id": "qyOpmLG0Py6B"
      },
      "source": [
        "#### SMAPE"
      ]
    },
    {
      "cell_type": "code",
      "metadata": {
        "id": "c6WCN3_XP02U",
        "colab": {
          "base_uri": "https://localhost:8080/",
          "height": 374
        },
        "outputId": "1fca7d4a-2e4e-4250-b727-1b688c965375"
      },
      "source": [
        "metric = 'SMAPE'\n",
        "results_data = [persistence_results[metric],mlp_results[metric], fts_results[metric], hofts_results[metric], nsfts_results[metric]]\n",
        "xticks = ['Persistence','MLP','FTS','HOFTS','NSFTS']\n",
        "\n",
        "ylab = 'SMAPE'\n",
        "createBoxplot(\"nsfts_boxplot_smape_oahu\", results_data, xticks, ylab)"
      ],
      "execution_count": null,
      "outputs": [
        {
          "output_type": "display_data",
          "data": {
            "image/png": "[encoded data removed]",
            "text/plain": [
              "<Figure size 648x432 with 1 Axes>"
            ]
          },
          "metadata": {
            "tags": [],
            "needs_background": "light"
          }
        }
      ]
    },
    {
      "cell_type": "code",
      "metadata": {
        "id": "7_WU2keHQEu3"
      },
      "source": [
        "metric = 'SMAPE'\n",
        "smape_df = pd.DataFrame(columns=['Persistence','MLP','FTS','HOFTS','NSFTS'])\n",
        "\n",
        "smape_df[\"Persistence\"] = persistence_results[metric]\n",
        "smape_df[\"MLP\"] = mlp_results[metric]\n",
        "smape_df[\"FTS\"] = fts_results[metric]\n",
        "smape_df[\"HOFTS\"] = hofts_results[metric]\n",
        "smape_df[\"NSFTS\"] = nsfts_results[metric]"
      ],
      "execution_count": null,
      "outputs": []
    },
    {
      "cell_type": "code",
      "metadata": {
        "id": "dmJkQjTuQRzn",
        "colab": {
          "base_uri": "https://localhost:8080/",
          "height": 255
        },
        "outputId": "5532cc2d-a89b-4067-e4f3-92e22bc38da3"
      },
      "source": [
        "print(\"Mean\")\n",
        "print(smape_df.mean())\n",
        "print(\"std\")\n",
        "print(smape_df.std())"
      ],
      "execution_count": null,
      "outputs": [
        {
          "output_type": "stream",
          "text": [
            "Mean\n",
            "Persistence   99.7761\n",
            "MLP           26.2851\n",
            "FTS           40.3185\n",
            "HOFTS         31.4765\n",
            "NSFTS         34.2836\n",
            "dtype: float64\n",
            "std\n",
            "Persistence   0.0556\n",
            "MLP           5.3700\n",
            "FTS           4.0949\n",
            "HOFTS         4.7601\n",
            "NSFTS         5.2922\n",
            "dtype: float64\n"
          ],
          "name": "stdout"
        }
      ]
    }
  ]
}