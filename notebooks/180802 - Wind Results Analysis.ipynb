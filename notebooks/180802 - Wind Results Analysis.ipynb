{
 "cells": [
  {
   "cell_type": "code",
   "execution_count": 1,
   "metadata": {},
   "outputs": [],
   "source": [
    "import pandas as pd\n",
    "import numpy as np\n",
    "import matplotlib.pyplot as plt"
   ]
  },
  {
   "cell_type": "code",
   "execution_count": 2,
   "metadata": {},
   "outputs": [],
   "source": [
    "results_path = \"qualification_results/\""
   ]
  },
  {
   "cell_type": "markdown",
   "metadata": {},
   "source": [
    "## Load Data"
   ]
  },
  {
   "cell_type": "code",
   "execution_count": 3,
   "metadata": {},
   "outputs": [],
   "source": [
    "persistence_ssa_results = pd.read_csv(results_path + \"rolling_cv_wind_ssa_persistence.csv\")\n",
    "sarima_ssa_results = pd.read_csv(results_path + \"rolling_cv_wind_ssa_sarima.csv\")\n",
    "var_ssa_results = pd.read_csv(results_path + \"rolling_cv_wind_ssa_var.csv\")\n",
    "hofts_ssa_results = pd.read_csv(results_path + \"rolling_cv_wind_ssa_hofts.csv\")\n",
    "cvfts_ssa_results = pd.read_csv(results_path + \"rolling_cv_wind_ssa_cvfts.csv\")\n",
    "cmvfts_ssa_results = pd.read_csv(results_path + \"rolling_cv_wind_ssa_cmvfts.csv\")\n",
    "lstm_multi_ssa_results = pd.read_csv(results_path + \"rolling_cv_wind_ssa_lstm_multi.csv\")\n",
    "lstm_uni_ssa_results = pd.read_csv(results_path + \"rolling_cv_wind_ssa_lstm_uni.csv\")\n",
    "mlp_multi_ssa_results = pd.read_csv(results_path + \"rolling_cv_wind_ssa_mlp_multi.csv\")\n",
    "mlp_uni_ssa_results = pd.read_csv(results_path + \"rolling_cv_wind_ssa_mlp_uni.csv\")"
   ]
  },
  {
   "cell_type": "code",
   "execution_count": 4,
   "metadata": {},
   "outputs": [],
   "source": [
    "RMSE_real = []\n",
    "for i in cvfts_ssa_results.RMSE:\n",
    "    comp = complex(i)\n",
    "    RMSE_real.append(comp.real)\n",
    "cvfts_ssa_results['RMSE'] = RMSE_real"
   ]
  },
  {
   "cell_type": "code",
   "execution_count": 5,
   "metadata": {},
   "outputs": [],
   "source": [
    "U_real = []\n",
    "for i in cvfts_ssa_results.U:\n",
    "    comp = complex(i)\n",
    "    U_real.append(comp.real)\n",
    "cvfts_ssa_results['U'] = U_real"
   ]
  },
  {
   "cell_type": "code",
   "execution_count": 6,
   "metadata": {},
   "outputs": [],
   "source": [
    "def createBoxplot(filename, data, xticklabels, ylabel):\n",
    "    # Create a figure instance\n",
    "    fig = plt.figure(1, figsize=(9, 6))\n",
    "\n",
    "    # Create an axes instance\n",
    "    ax = fig.add_subplot(111)\n",
    "\n",
    "    # Create the boxplot\n",
    "    bp = ax.boxplot(data, patch_artist=True)\n",
    "    \n",
    "    ## change outline color, fill color and linewidth of the boxes\n",
    "    for box in bp['boxes']:\n",
    "        # change outline color\n",
    "        box.set( color='#7570b3', linewidth=2)\n",
    "        # change fill color\n",
    "        box.set( facecolor = '#1b9e77' )\n",
    "\n",
    "    ## change color and linewidth of the whiskers\n",
    "    for whisker in bp['whiskers']:\n",
    "        whisker.set(color='#7570b3', linewidth=2)\n",
    "\n",
    "    ## change color and linewidth of the caps\n",
    "    for cap in bp['caps']:\n",
    "        cap.set(color='#7570b3', linewidth=2)\n",
    "\n",
    "    ## change color and linewidth of the medians\n",
    "    for median in bp['medians']:\n",
    "        median.set(color='#b2df8a', linewidth=2)\n",
    "\n",
    "    ## change the style of fliers and their fill\n",
    "    for flier in bp['fliers']:\n",
    "        flier.set(marker='o', color='#e7298a', alpha=0.5)\n",
    "    \n",
    "    ## Custom x-axis labels\n",
    "    ax.set_xticklabels(xticklabels)\n",
    "    ax.set_ylabel(ylabel)\n",
    "    plt.show()\n",
    "    fig.savefig(filename, bbox_inches='tight')"
   ]
  },
  {
   "cell_type": "markdown",
   "metadata": {},
   "source": [
    "## Boxplot SSA Multivariate"
   ]
  },
  {
   "cell_type": "code",
   "execution_count": 49,
   "metadata": {},
   "outputs": [],
   "source": [
    "metric = 'RMSE'\n",
    "multi_data = [persistence_ssa_results[metric], var_ssa_results[metric], cmvfts_ssa_results[metric], lstm_multi_ssa_results[metric], mlp_multi_ssa_results[metric]]\n",
    "xticks = ['Persistence','VAR','CMVFTS','LSTM_MULTI','MLP_MULTI']\n",
    "\n",
    "ylab = 'RMSE'\n",
    "createBoxplot(\"boxplot_rmse_wind_ssa_multi\", multi_data, xticks, ylab)"
   ]
  },
  {
   "cell_type": "code",
   "execution_count": 11,
   "metadata": {},
   "outputs": [],
   "source": [
    "metric = 'SMAPE'\n",
    "multi_data = [persistence_ssa_results[metric], var_ssa_results[metric], cmvfts_ssa_results[metric], lstm_multi_ssa_results[metric], mlp_multi_ssa_results[metric]]\n",
    "xticks = ['Persistence','VAR','CMVFTS','LSTM_MULTI','MLP_MULTI']\n",
    "\n",
    "ylab = 'SMAPE'\n",
    "createBoxplot(\"boxplot_smape_wind_ssa_multi\", multi_data, xticks, ylab)"
   ]
  },
  {
   "cell_type": "code",
   "execution_count": 12,
   "metadata": {},
   "outputs": [],
   "source": [
    "metric = 'U'\n",
    "multi_data = [persistence_ssa_results[metric], var_ssa_results[metric], cmvfts_ssa_results[metric], lstm_multi_ssa_results[metric], mlp_multi_ssa_results[metric]]\n",
    "xticks = ['Persistence','VAR','CMVFTS','LSTM_MULTI','MLP_MULTI']\n",
    "\n",
    "ylab = 'U Statistic'\n",
    "createBoxplot(\"boxplot_u_wind_ssa_multi\", multi_data, xticks, ylab)"
   ]
  },
  {
   "cell_type": "markdown",
   "metadata": {},
   "source": [
    "## Improvement table Multivariate"
   ]
  },
  {
   "cell_type": "code",
   "execution_count": 57,
   "metadata": {},
   "outputs": [],
   "source": [
    "def improvement(metric_model, metric_persistence):\n",
    "    return (1 - (np.mean(metric_model) / np.mean(metric_persistence)))"
   ]
  },
  {
   "cell_type": "code",
   "execution_count": 58,
   "metadata": {},
   "outputs": [],
   "source": [
    "index = ['Persistence','VAR','CMVFTS','LSTM_MULTI','MLP_MULTI']\n",
    "columns = ['imp(RMSE)', 'imp(SMAPE)', 'imp(U)']"
   ]
  },
  {
   "cell_type": "code",
   "execution_count": 59,
   "metadata": {},
   "outputs": [],
   "source": [
    "imp_df = pd.DataFrame(columns=columns, index=index)"
   ]
  },
  {
   "cell_type": "code",
   "execution_count": 60,
   "metadata": {},
   "outputs": [],
   "source": [
    "metric = 'RMSE'\n",
    "imp_prst = improvement(persistence_ssa_results[metric], persistence_ssa_results[metric]) \n",
    "imp_var = improvement(var_ssa_results[metric], persistence_ssa_results[metric]) \n",
    "imp_cmvfts = improvement(cmvfts_ssa_results[metric], persistence_ssa_results[metric]) \n",
    "imp_lstm_multi = improvement(lstm_multi_ssa_results[metric], persistence_ssa_results[metric]) \n",
    "imp_mlp_multi = improvement(mlp_multi_ssa_results[metric], persistence_ssa_results[metric]) \n",
    "\n",
    "imp_df['imp('+metric+')'] = [imp_prst, imp_var, imp_cmvfts, imp_lstm_multi, imp_mlp_multi]"
   ]
  },
  {
   "cell_type": "code",
   "execution_count": 61,
   "metadata": {},
   "outputs": [],
   "source": [
    "metric = 'SMAPE'\n",
    "imp_prst = improvement(persistence_ssa_results[metric], persistence_ssa_results[metric]) \n",
    "imp_var = improvement(var_ssa_results[metric], persistence_ssa_results[metric]) \n",
    "imp_cmvfts = improvement(cmvfts_ssa_results[metric], persistence_ssa_results[metric]) \n",
    "imp_lstm_multi = improvement(lstm_multi_ssa_results[metric], persistence_ssa_results[metric]) \n",
    "imp_mlp_multi = improvement(mlp_multi_ssa_results[metric], persistence_ssa_results[metric]) \n",
    "\n",
    "imp_df['imp('+metric+')'] = [imp_prst, imp_var, imp_cmvfts, imp_lstm_multi, imp_mlp_multi]"
   ]
  },
  {
   "cell_type": "code",
   "execution_count": 62,
   "metadata": {},
   "outputs": [],
   "source": [
    "metric = 'U'\n",
    "imp_prst = improvement(persistence_ssa_results[metric], persistence_ssa_results[metric]) \n",
    "imp_var = improvement(var_ssa_results[metric], persistence_ssa_results[metric]) \n",
    "imp_cmvfts = improvement(cmvfts_ssa_results[metric], persistence_ssa_results[metric]) \n",
    "imp_lstm_multi = improvement(lstm_multi_ssa_results[metric], persistence_ssa_results[metric]) \n",
    "imp_mlp_multi = improvement(mlp_multi_ssa_results[metric], persistence_ssa_results[metric]) \n",
    "\n",
    "imp_df['imp('+metric+')'] = [imp_prst, imp_var, imp_cmvfts, imp_lstm_multi, imp_mlp_multi]"
   ]
  },
  {
   "cell_type": "code",
   "execution_count": 63,
   "metadata": {},
   "outputs": [
    {
     "name": "stdout",
     "output_type": "stream",
     "text": [
      "\\begin{tabular}{lrrr}\n",
      "\\toprule\n",
      "{} &  imp(RMSE) &  imp(SMAPE) &    imp(U) \\\\\n",
      "\\midrule\n",
      "Persistence &   0.000000 &    0.000000 &  0.000000 \\\\\n",
      "VAR         &   0.362824 &    0.350982 &  0.366469 \\\\\n",
      "CMVFTS      &  -0.145933 &   -0.197114 & -0.153846 \\\\\n",
      "LSTM\\_MULTI  &   0.301120 &    0.286532 &  0.302361 \\\\\n",
      "MLP\\_MULTI   &   0.278740 &    0.273966 &  0.281550 \\\\\n",
      "\\bottomrule\n",
      "\\end{tabular}\n",
      "\n"
     ]
    }
   ],
   "source": [
    "print(imp_df.to_latex())"
   ]
  },
  {
   "cell_type": "markdown",
   "metadata": {},
   "source": [
    "## Boxplot OAHU SSA Univariate\n",
    "\n",
    "### SARIMA está FORA ate segunda ordem!!"
   ]
  },
  {
   "cell_type": "code",
   "execution_count": 7,
   "metadata": {},
   "outputs": [],
   "source": [
    "metric = 'RMSE'\n",
    "\n",
    "\n",
    "#uni_data = [persistence_ssa_results[metric], sarima_ssa_results[metric],  hofts_ssa_results[metric], cvfts_ssa_results[metric], lstm_uni_ssa_results[metric], mlp_uni_ssa_results[metric]]\n",
    "#xticks = ['Persistence', 'SARIMA', 'HOFTS','CVFTS','LSTM_UNI','MLP_UNI']\n",
    "\n",
    "uni_data = [persistence_ssa_results[metric],  hofts_ssa_results[metric], cvfts_ssa_results[metric], lstm_uni_ssa_results[metric], mlp_uni_ssa_results[metric]]\n",
    "xticks = ['Persistence', 'HOFTS','NSFTS','LSTM_UNI','MLP_UNI']\n",
    "\n",
    "ylab = 'RMSE'\n",
    "createBoxplot(\"boxplot_rmse_wind_ssa_uni\", uni_data, xticks, ylab)"
   ]
  },
  {
   "cell_type": "code",
   "execution_count": 8,
   "metadata": {},
   "outputs": [],
   "source": [
    "metric = 'SMAPE'\n",
    "uni_data = [persistence_ssa_results[metric],   hofts_ssa_results[metric], cvfts_ssa_results[metric], lstm_uni_ssa_results[metric], mlp_uni_ssa_results[metric]]\n",
    "xticks = ['Persistence', 'HOFTS','NSFTS','LSTM_UNI','MLP_UNI']\n",
    "\n",
    "ylab = 'SMAPE'\n",
    "createBoxplot(\"boxplot_smape_wind_ssa_uni\", uni_data, xticks, ylab)"
   ]
  },
  {
   "cell_type": "code",
   "execution_count": 9,
   "metadata": {},
   "outputs": [],
   "source": [
    "metric = 'U'\n",
    "uni_data = [persistence_ssa_results[metric],  hofts_ssa_results[metric], cvfts_ssa_results[metric], lstm_uni_ssa_results[metric], mlp_uni_ssa_results[metric]]\n",
    "xticks = ['Persistence', 'HOFTS','NSFTS','LSTM_UNI','MLP_UNI']\n",
    "\n",
    "ylab = 'U Statistic'\n",
    "createBoxplot(\"boxplot_u_wind_ssa_uni\", uni_data, xticks, ylab)"
   ]
  },
  {
   "cell_type": "markdown",
   "metadata": {},
   "source": [
    "## Improvement Table Univariate"
   ]
  },
  {
   "cell_type": "code",
   "execution_count": 54,
   "metadata": {},
   "outputs": [],
   "source": [
    "index = ['Persistence', 'HOFTS','CVFTS','LSTM_UNI','MLP_UNI']\n",
    "columns = ['imp(RMSE)', 'imp(SMAPE)', 'imp(U)']\n",
    "metrics = ['RMSE', 'SMAPE', 'U']\n",
    "imp_df = pd.DataFrame(columns=columns, index=index)"
   ]
  },
  {
   "cell_type": "code",
   "execution_count": 55,
   "metadata": {},
   "outputs": [],
   "source": [
    "for metric in metrics:\n",
    "    imp_prst = improvement(persistence_ssa_results[metric], persistence_ssa_results[metric]) \n",
    "    imp_hofts = improvement(hofts_ssa_results[metric], persistence_ssa_results[metric]) \n",
    "    imp_cvfts = improvement(cvfts_ssa_results[metric], persistence_ssa_results[metric]) \n",
    "    imp_lstm_uni = improvement(lstm_uni_ssa_results[metric], persistence_ssa_results[metric]) \n",
    "    imp_mlp_uni = improvement(mlp_uni_ssa_results[metric], persistence_ssa_results[metric]) \n",
    "\n",
    "    imp_df['imp('+metric+')'] = [imp_prst, imp_hofts, imp_cvfts, imp_lstm_uni, imp_mlp_uni]"
   ]
  },
  {
   "cell_type": "code",
   "execution_count": 56,
   "metadata": {},
   "outputs": [
    {
     "name": "stdout",
     "output_type": "stream",
     "text": [
      "\\begin{tabular}{lrrr}\n",
      "\\toprule\n",
      "{} &  imp(RMSE) &  imp(SMAPE) &    imp(U) \\\\\n",
      "\\midrule\n",
      "Persistence &   0.000000 &    0.000000 &  0.000000 \\\\\n",
      "HOFTS       &   0.192187 &    0.198011 &  0.194922 \\\\\n",
      "CVFTS       &   0.179111 &    0.150970 &  0.178945 \\\\\n",
      "LSTM\\_UNI    &   0.308891 &    0.294866 &  0.310273 \\\\\n",
      "MLP\\_UNI     &   0.306356 &    0.296070 &  0.308089 \\\\\n",
      "\\bottomrule\n",
      "\\end{tabular}\n",
      "\n"
     ]
    }
   ],
   "source": [
    "print(imp_df.to_latex())"
   ]
  },
  {
   "cell_type": "markdown",
   "metadata": {},
   "source": [
    "## Hybrid Comparison"
   ]
  },
  {
   "cell_type": "code",
   "execution_count": 69,
   "metadata": {},
   "outputs": [],
   "source": [
    "hybrid_ssa_results = pd.read_csv(results_path + \"rolling_cv_wind_ssa_hybrid.csv\")"
   ]
  },
  {
   "cell_type": "code",
   "execution_count": 70,
   "metadata": {},
   "outputs": [],
   "source": [
    "metric = 'RMSE'\n",
    "multi_data = [persistence_ssa_results[metric], var_ssa_results[metric],lstm_multi_ssa_results[metric], hybrid_ssa_results[metric]]\n",
    "xticks = ['Persistence','VAR','LSTM_MULTI','Hybrid']\n",
    "\n",
    "ylab = 'RMSE'\n",
    "createBoxplot(\"boxplot_rmse_wind_ssa_hybrid\", multi_data, xticks, ylab)"
   ]
  },
  {
   "cell_type": "code",
   "execution_count": null,
   "metadata": {},
   "outputs": [],
   "source": [
    "metric = 'SMAPE'\n",
    "multi_data = [persistence_ssa_results[metric], var_ssa_results[metric],lstm_multi_ssa_results[metric], hybrid_ssa_results[metric]]\n",
    "xticks = ['Persistence','VAR','LSTM_MULTI','Hybrid']\n",
    "\n",
    "ylab = 'RMSE'\n",
    "createBoxplot(\"boxplot_smape_wind_ssa_hybrid\", multi_data, xticks, ylab)"
   ]
  },
  {
   "cell_type": "markdown",
   "metadata": {},
   "source": [
    "## Boxplot Oahu Raw Multivariate"
   ]
  },
  {
   "cell_type": "code",
   "execution_count": 10,
   "metadata": {},
   "outputs": [],
   "source": [
    "persistence_raw_results = pd.read_csv(results_path + \"rolling_cv_wind_raw_persistence.csv\")\n",
    "var_raw_results = pd.read_csv(results_path + \"rolling_cv_wind_raw_var.csv\")\n",
    "hofts_raw_results = pd.read_csv(results_path + \"rolling_cv_wind_raw_hofts.csv\")\n",
    "cvfts_raw_results = pd.read_csv(results_path + \"rolling_cv_wind_raw_cvfts.csv\")\n",
    "cmvfts_raw_results = pd.read_csv(results_path + \"rolling_cv_wind_raw_cmvfts.csv\")\n",
    "lstm_multi_raw_results = pd.read_csv(results_path + \"rolling_cv_wind_raw_lstm_multi.csv\")\n",
    "lstm_uni_raw_results = pd.read_csv(results_path + \"rolling_cv_wind_raw_lstm_uni.csv\")\n",
    "mlp_multi_raw_results = pd.read_csv(results_path + \"rolling_cv_wind_raw_mlp_multi.csv\")\n",
    "mlp_uni_raw_results = pd.read_csv(results_path + \"rolling_cv_wind_raw_mlp_uni.csv\")"
   ]
  },
  {
   "cell_type": "code",
   "execution_count": 11,
   "metadata": {},
   "outputs": [],
   "source": [
    "RMSE_real = []\n",
    "for i in cvfts_raw_results.RMSE:\n",
    "    comp = complex(i)\n",
    "    RMSE_real.append(comp.real)\n",
    "cvfts_raw_results['RMSE'] = RMSE_real\n",
    "\n",
    "U_real = []\n",
    "for i in cvfts_raw_results.U:\n",
    "    comp = complex(i)\n",
    "    U_real.append(comp.real)\n",
    "cvfts_raw_results['U'] = U_real"
   ]
  },
  {
   "cell_type": "code",
   "execution_count": 34,
   "metadata": {},
   "outputs": [],
   "source": [
    "metric = 'RMSE'\n",
    "multi_data = [persistence_raw_results[metric], var_raw_results[metric], cmvfts_raw_results[metric], lstm_multi_raw_results[metric], mlp_multi_raw_results[metric]]\n",
    "xticks = ['Persistence','VAR','CMVFTS','LSTM_MULTI','MLP_MULTI']\n",
    "\n",
    "ylab = 'RMSE'\n",
    "createBoxplot(\"boxplot_rmse_wind_raw_multi\", multi_data, xticks, ylab)"
   ]
  },
  {
   "cell_type": "code",
   "execution_count": 35,
   "metadata": {},
   "outputs": [],
   "source": [
    "metric = 'SMAPE'\n",
    "multi_data = [persistence_raw_results[metric], var_raw_results[metric], cmvfts_raw_results[metric], lstm_multi_raw_results[metric], mlp_multi_raw_results[metric]]\n",
    "xticks = ['Persistence','VAR','CMVFTS','LSTM_MULTI','MLP_MULTI']\n",
    "\n",
    "ylab = 'SMAPE'\n",
    "createBoxplot(\"boxplot_smape_wind_raw_multi\", multi_data, xticks, ylab)"
   ]
  },
  {
   "cell_type": "code",
   "execution_count": 36,
   "metadata": {},
   "outputs": [],
   "source": [
    "metric = 'U'\n",
    "multi_data = [persistence_raw_results[metric], var_raw_results[metric], cmvfts_raw_results[metric], lstm_multi_raw_results[metric], mlp_multi_raw_results[metric]]\n",
    "xticks = ['Persistence','VAR','CMVFTS','LSTM_MULTI','MLP_MULTI']\n",
    "\n",
    "ylab = 'U Statistic'\n",
    "createBoxplot(\"boxplot_u_wind_raw_multi\", multi_data, xticks, ylab)"
   ]
  },
  {
   "cell_type": "markdown",
   "metadata": {},
   "source": [
    "## Improvement Table Raw Multivariate"
   ]
  },
  {
   "cell_type": "code",
   "execution_count": 67,
   "metadata": {},
   "outputs": [],
   "source": [
    "index = ['Persistence','VAR','CMVFTS','LSTM_MULTI','MLP_MULTI']\n",
    "columns = ['imp(RMSE)', 'imp(SMAPE)', 'imp(U)']\n",
    "metrics = ['RMSE', 'SMAPE', 'U']\n",
    "imp_df = pd.DataFrame(columns=columns, index=index)"
   ]
  },
  {
   "cell_type": "code",
   "execution_count": 68,
   "metadata": {},
   "outputs": [
    {
     "name": "stdout",
     "output_type": "stream",
     "text": [
      "\\begin{tabular}{lrrr}\n",
      "\\toprule\n",
      "{} &  imp(RMSE) &  imp(SMAPE) &    imp(U) \\\\\n",
      "\\midrule\n",
      "Persistence &   0.000000 &    0.000000 &  0.000000 \\\\\n",
      "VAR         &   0.071468 &    0.054230 &  0.073352 \\\\\n",
      "CMVFTS      &  -0.627405 &   -0.726083 & -0.637205 \\\\\n",
      "LSTM\\_MULTI  &   0.069422 &    0.053792 &  0.070807 \\\\\n",
      "MLP\\_MULTI   &   0.046857 &    0.024046 &  0.047785 \\\\\n",
      "\\bottomrule\n",
      "\\end{tabular}\n",
      "\n"
     ]
    }
   ],
   "source": [
    "for metric in metrics:\n",
    "    imp_prst = improvement(persistence_raw_results[metric], persistence_raw_results[metric]) \n",
    "    imp_var = improvement(var_raw_results[metric], persistence_raw_results[metric]) \n",
    "    imp_cmvfts = improvement(cmvfts_raw_results[metric], persistence_raw_results[metric]) \n",
    "    imp_lstm_multi = improvement(lstm_multi_raw_results[metric], persistence_raw_results[metric]) \n",
    "    imp_mlp_multi = improvement(mlp_multi_raw_results[metric], persistence_raw_results[metric]) \n",
    "\n",
    "    imp_df['imp('+metric+')'] = [imp_prst, imp_var, imp_cmvfts, imp_lstm_multi, imp_mlp_multi]\n",
    "\n",
    "print(imp_df.to_latex())"
   ]
  },
  {
   "cell_type": "markdown",
   "metadata": {},
   "source": [
    "## Boxplot Oahu Raw Univariate"
   ]
  },
  {
   "cell_type": "code",
   "execution_count": 12,
   "metadata": {},
   "outputs": [],
   "source": [
    "metric = 'RMSE'\n",
    "uni_data = [persistence_raw_results[metric],  hofts_raw_results[metric], cvfts_raw_results[metric], lstm_uni_raw_results[metric], mlp_uni_raw_results[metric]]\n",
    "xticks = ['Persistence',  'HOFTS','NSFTS','LSTM_UNI','MLP_UNI']\n",
    "\n",
    "ylab = 'RMSE'\n",
    "createBoxplot(\"boxplot_rmse_wind_raw_uni\", uni_data, xticks, ylab)"
   ]
  },
  {
   "cell_type": "code",
   "execution_count": 13,
   "metadata": {},
   "outputs": [],
   "source": [
    "metric = 'SMAPE'\n",
    "uni_data = [persistence_raw_results[metric],  hofts_raw_results[metric], cvfts_raw_results[metric], lstm_uni_raw_results[metric], mlp_uni_raw_results[metric]]\n",
    "xticks = ['Persistence', 'HOFTS','NSFTS','LSTM_UNI','MLP_UNI']\n",
    "\n",
    "ylab = 'SMAPE'\n",
    "createBoxplot(\"boxplot_smape_wind_raw_uni\", uni_data, xticks, ylab)"
   ]
  },
  {
   "cell_type": "code",
   "execution_count": 14,
   "metadata": {},
   "outputs": [],
   "source": [
    "metric = 'U'\n",
    "uni_data = [persistence_raw_results[metric],  hofts_raw_results[metric], cvfts_raw_results[metric], lstm_uni_raw_results[metric], mlp_uni_raw_results[metric]]\n",
    "xticks = ['Persistence', 'HOFTS','NSFTS','LSTM_UNI','MLP_UNI']\n",
    "\n",
    "ylab = 'U Statistic'\n",
    "createBoxplot(\"boxplot_u_wind_raw_uni\", uni_data, xticks, ylab)"
   ]
  },
  {
   "cell_type": "markdown",
   "metadata": {},
   "source": [
    "## Improvement Table Raw Univariate"
   ]
  },
  {
   "cell_type": "code",
   "execution_count": 64,
   "metadata": {},
   "outputs": [],
   "source": [
    "index = ['Persistence', 'HOFTS','CVFTS','LSTM_UNI','MLP_UNI']\n",
    "columns = ['imp(RMSE)', 'imp(SMAPE)', 'imp(U)']\n",
    "metrics = ['RMSE', 'SMAPE', 'U']\n",
    "imp_df = pd.DataFrame(columns=columns, index=index)"
   ]
  },
  {
   "cell_type": "code",
   "execution_count": 65,
   "metadata": {},
   "outputs": [],
   "source": [
    "for metric in metrics:\n",
    "    imp_prst = improvement(persistence_raw_results[metric], persistence_raw_results[metric]) \n",
    "    imp_hofts = improvement(hofts_raw_results[metric], persistence_raw_results[metric]) \n",
    "    imp_cvfts = improvement(cvfts_raw_results[metric], persistence_raw_results[metric]) \n",
    "    imp_lstm_uni = improvement(lstm_uni_raw_results[metric], persistence_raw_results[metric]) \n",
    "    imp_mlp_uni = improvement(mlp_uni_raw_results[metric], persistence_raw_results[metric]) \n",
    "\n",
    "    imp_df['imp('+metric+')'] = [imp_prst, imp_hofts, imp_cvfts, imp_lstm_uni, imp_mlp_uni]"
   ]
  },
  {
   "cell_type": "code",
   "execution_count": 66,
   "metadata": {},
   "outputs": [
    {
     "name": "stdout",
     "output_type": "stream",
     "text": [
      "\\begin{tabular}{lrrr}\n",
      "\\toprule\n",
      "{} &  imp(RMSE) &  imp(SMAPE) &    imp(U) \\\\\n",
      "\\midrule\n",
      "Persistence &   0.000000 &    0.000000 &  0.000000 \\\\\n",
      "HOFTS       &  -0.025069 &   -0.047100 & -0.024221 \\\\\n",
      "CVFTS       &  -0.065655 &   -0.105628 & -0.067218 \\\\\n",
      "LSTM\\_UNI    &   0.039902 &    0.020825 &  0.040666 \\\\\n",
      "MLP\\_UNI     &   0.038545 &    0.017995 &  0.039217 \\\\\n",
      "\\bottomrule\n",
      "\\end{tabular}\n",
      "\n"
     ]
    }
   ],
   "source": [
    "print(imp_df.to_latex())"
   ]
  }
 ],
 "metadata": {
  "kernelspec": {
   "display_name": "Python 3",
   "language": "python",
   "name": "python3"
  },
  "language_info": {
   "codemirror_mode": {
    "name": "ipython",
    "version": 3
   },
   "file_extension": ".py",
   "mimetype": "text/x-python",
   "name": "python",
   "nbconvert_exporter": "python",
   "pygments_lexer": "ipython3",
   "version": "3.6.4"
  }
 },
 "nbformat": 4,
 "nbformat_minor": 2
}
