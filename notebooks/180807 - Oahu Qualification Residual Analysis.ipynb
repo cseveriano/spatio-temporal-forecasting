{
 "cells": [
  {
   "cell_type": "code",
   "execution_count": 1,
   "metadata": {},
   "outputs": [],
   "source": [
    "import pandas as pd\n",
    "import numpy as np\n",
    "import matplotlib.pyplot as plt"
   ]
  },
  {
   "cell_type": "code",
   "execution_count": 2,
   "metadata": {},
   "outputs": [],
   "source": [
    "results_path = \"qualification_results/\""
   ]
  },
  {
   "cell_type": "markdown",
   "metadata": {},
   "source": [
    "## Load Data"
   ]
  },
  {
   "cell_type": "code",
   "execution_count": 3,
   "metadata": {},
   "outputs": [],
   "source": [
    "persistence_ssa_results = pd.read_csv(results_path + \"rolling_cv_oahu_residual_persistence.csv\")\n",
    "#sarima_ssa_results = pd.read_csv(results_path + \"rolling_cv_oahu_residual_sarima.csv\")\n",
    "var_ssa_results = pd.read_csv(results_path + \"rolling_cv_oahu_residual_var.csv\")\n",
    "hofts_ssa_results = pd.read_csv(results_path + \"rolling_cv_oahu_residual_hofts.csv\")\n",
    "cvfts_ssa_results = pd.read_csv(results_path + \"rolling_cv_oahu_residual_cvfts.csv\")\n",
    "cmvfts_ssa_results = pd.read_csv(results_path + \"rolling_cv_oahu_residual_cmvfts.csv\")\n",
    "lstm_multi_ssa_results = pd.read_csv(results_path + \"rolling_cv_oahu_residual_lstm_multi.csv\")\n",
    "lstm_uni_ssa_results = pd.read_csv(results_path + \"rolling_cv_oahu_residual_lstm_uni.csv\")\n",
    "mlp_multi_ssa_results = pd.read_csv(results_path + \"rolling_cv_oahu_residual_mlp_multi.csv\")\n",
    "mlp_uni_ssa_results = pd.read_csv(results_path + \"rolling_cv_oahu_residual_mlp_uni.csv\")"
   ]
  },
  {
   "cell_type": "code",
   "execution_count": 7,
   "metadata": {},
   "outputs": [],
   "source": [
    "RMSE_real = []\n",
    "for i in cvfts_ssa_results.RMSE:\n",
    "    comp = complex(i)\n",
    "    RMSE_real.append(comp.real)\n",
    "cvfts_ssa_results['RMSE'] = RMSE_real"
   ]
  },
  {
   "cell_type": "code",
   "execution_count": 5,
   "metadata": {},
   "outputs": [],
   "source": [
    "U_real = []\n",
    "for i in cvfts_ssa_results.U:\n",
    "    comp = complex(i)\n",
    "    U_real.append(comp.real)\n",
    "cvfts_ssa_results['U'] = U_real"
   ]
  },
  {
   "cell_type": "code",
   "execution_count": null,
   "metadata": {},
   "outputs": [],
   "source": [
    "##TODO: confirmar porque 5 splits dao erros maiores em SARIMA e CMVFTS\n",
    "sarima_ssa_results = sarima_ssa_results[sarima_ssa_results.RMSE < 500]\n",
    "cmvfts_ssa_results = cmvfts_ssa_results[cmvfts_ssa_results.RMSE < 500]"
   ]
  },
  {
   "cell_type": "code",
   "execution_count": 6,
   "metadata": {},
   "outputs": [],
   "source": [
    "def createBoxplot(filename, data, xticklabels, ylabel):\n",
    "    # Create a figure instance\n",
    "    fig = plt.figure(1, figsize=(9, 6))\n",
    "\n",
    "    # Create an axes instance\n",
    "    ax = fig.add_subplot(111)\n",
    "\n",
    "    # Create the boxplot\n",
    "    bp = ax.boxplot(data, patch_artist=True)\n",
    "    \n",
    "    ## change outline color, fill color and linewidth of the boxes\n",
    "    for box in bp['boxes']:\n",
    "        # change outline color\n",
    "        box.set( color='#7570b3', linewidth=2)\n",
    "        # change fill color\n",
    "        box.set( facecolor = '#1b9e77' )\n",
    "\n",
    "    ## change color and linewidth of the whiskers\n",
    "    for whisker in bp['whiskers']:\n",
    "        whisker.set(color='#7570b3', linewidth=2)\n",
    "\n",
    "    ## change color and linewidth of the caps\n",
    "    for cap in bp['caps']:\n",
    "        cap.set(color='#7570b3', linewidth=2)\n",
    "\n",
    "    ## change color and linewidth of the medians\n",
    "    for median in bp['medians']:\n",
    "        median.set(color='#b2df8a', linewidth=2)\n",
    "\n",
    "    ## change the style of fliers and their fill\n",
    "    for flier in bp['fliers']:\n",
    "        flier.set(marker='o', color='#e7298a', alpha=0.5)\n",
    "    \n",
    "    ## Custom x-axis labels\n",
    "    ax.set_xticklabels(xticklabels)\n",
    "    ax.set_ylabel(ylabel)\n",
    "    plt.show()\n",
    "    fig.savefig(filename, bbox_inches='tight')"
   ]
  },
  {
   "cell_type": "markdown",
   "metadata": {},
   "source": [
    "## Boxplot OAHU Residual Multivariate"
   ]
  },
  {
   "cell_type": "code",
   "execution_count": 8,
   "metadata": {},
   "outputs": [
    {
     "data": {
      "image/png": "[encoded data removed]",
      "text/plain": [
       "<matplotlib.figure.Figure at 0x109e5edd8>"
      ]
     },
     "metadata": {},
     "output_type": "display_data"
    }
   ],
   "source": [
    "metric = 'RMSE'\n",
    "multi_data = [persistence_ssa_results[metric], var_ssa_results[metric], cmvfts_ssa_results[metric], lstm_multi_ssa_results[metric], mlp_multi_ssa_results[metric]]\n",
    "xticks = ['Persistence','VAR','CMVFTS','LSTM_MULTI','MLP_MULTI']\n",
    "\n",
    "ylab = 'RMSE'\n",
    "createBoxplot(\"boxplot_rmse_oahu_residual_multi\", multi_data, xticks, ylab)"
   ]
  },
  {
   "cell_type": "code",
   "execution_count": 8,
   "metadata": {},
   "outputs": [],
   "source": [
    "metric = 'SMAPE'\n",
    "multi_data = [persistence_ssa_results[metric], var_ssa_results[metric], cmvfts_ssa_results[metric], lstm_multi_ssa_results[metric], mlp_multi_ssa_results[metric]]\n",
    "xticks = ['Persistence','VAR','CMVFTS','LSTM_MULTI','MLP_MULTI']\n",
    "\n",
    "ylab = 'SMAPE'\n",
    "createBoxplot(\"boxplot_smape_oahu_residual_multi\", multi_data, xticks, ylab)"
   ]
  },
  {
   "cell_type": "code",
   "execution_count": 9,
   "metadata": {},
   "outputs": [],
   "source": [
    "metric = 'U'\n",
    "multi_data = [persistence_ssa_results[metric], var_ssa_results[metric], cmvfts_ssa_results[metric], lstm_multi_ssa_results[metric], mlp_multi_ssa_results[metric]]\n",
    "xticks = ['Persistence','VAR','CMVFTS','LSTM_MULTI','MLP_MULTI']\n",
    "\n",
    "ylab = 'U Statistic'\n",
    "createBoxplot(\"boxplot_u_oahu_residual_multi\", multi_data, xticks, ylab)"
   ]
  },
  {
   "cell_type": "markdown",
   "metadata": {},
   "source": [
    "## Improvement table Multivariate"
   ]
  },
  {
   "cell_type": "code",
   "execution_count": 10,
   "metadata": {},
   "outputs": [],
   "source": [
    "def improvement(metric_model, metric_persistence):\n",
    "    return (1 - (np.mean(metric_model) / np.mean(metric_persistence)))"
   ]
  },
  {
   "cell_type": "code",
   "execution_count": 11,
   "metadata": {},
   "outputs": [],
   "source": [
    "index = ['Persistence','VAR','CMVFTS','LSTM_MULTI','MLP_MULTI']\n",
    "columns = ['imp(RMSE)', 'imp(SMAPE)', 'imp(U)']"
   ]
  },
  {
   "cell_type": "code",
   "execution_count": 12,
   "metadata": {},
   "outputs": [],
   "source": [
    "imp_df = pd.DataFrame(columns=columns, index=index)"
   ]
  },
  {
   "cell_type": "code",
   "execution_count": 13,
   "metadata": {},
   "outputs": [],
   "source": [
    "metric = 'RMSE'\n",
    "imp_prst = improvement(persistence_ssa_results[metric], persistence_ssa_results[metric]) \n",
    "imp_var = improvement(var_ssa_results[metric], persistence_ssa_results[metric]) \n",
    "imp_cmvfts = improvement(cmvfts_ssa_results[metric], persistence_ssa_results[metric]) \n",
    "imp_lstm_multi = improvement(lstm_multi_ssa_results[metric], persistence_ssa_results[metric]) \n",
    "imp_mlp_multi = improvement(mlp_multi_ssa_results[metric], persistence_ssa_results[metric]) \n",
    "\n",
    "imp_df['imp('+metric+')'] = [imp_prst, imp_var, imp_cmvfts, imp_lstm_multi, imp_mlp_multi]"
   ]
  },
  {
   "cell_type": "code",
   "execution_count": 14,
   "metadata": {},
   "outputs": [],
   "source": [
    "metric = 'SMAPE'\n",
    "imp_prst = improvement(persistence_ssa_results[metric], persistence_ssa_results[metric]) \n",
    "imp_var = improvement(var_ssa_results[metric], persistence_ssa_results[metric]) \n",
    "imp_cmvfts = improvement(cmvfts_ssa_results[metric], persistence_ssa_results[metric]) \n",
    "imp_lstm_multi = improvement(lstm_multi_ssa_results[metric], persistence_ssa_results[metric]) \n",
    "imp_mlp_multi = improvement(mlp_multi_ssa_results[metric], persistence_ssa_results[metric]) \n",
    "\n",
    "imp_df['imp('+metric+')'] = [imp_prst, imp_var, imp_cmvfts, imp_lstm_multi, imp_mlp_multi]"
   ]
  },
  {
   "cell_type": "code",
   "execution_count": 15,
   "metadata": {},
   "outputs": [],
   "source": [
    "metric = 'U'\n",
    "imp_prst = improvement(persistence_ssa_results[metric], persistence_ssa_results[metric]) \n",
    "imp_var = improvement(var_ssa_results[metric], persistence_ssa_results[metric]) \n",
    "imp_cmvfts = improvement(cmvfts_ssa_results[metric], persistence_ssa_results[metric]) \n",
    "imp_lstm_multi = improvement(lstm_multi_ssa_results[metric], persistence_ssa_results[metric]) \n",
    "imp_mlp_multi = improvement(mlp_multi_ssa_results[metric], persistence_ssa_results[metric]) \n",
    "\n",
    "imp_df['imp('+metric+')'] = [imp_prst, imp_var, imp_cmvfts, imp_lstm_multi, imp_mlp_multi]"
   ]
  },
  {
   "cell_type": "code",
   "execution_count": null,
   "metadata": {},
   "outputs": [],
   "source": [
    "print(imp_df.to_latex())"
   ]
  },
  {
   "cell_type": "markdown",
   "metadata": {},
   "source": [
    "## Boxplot OAHU Residual Univariate"
   ]
  },
  {
   "cell_type": "code",
   "execution_count": 17,
   "metadata": {},
   "outputs": [],
   "source": [
    "metric = 'RMSE'\n",
    "#uni_data = [persistence_ssa_results[metric], sarima_ssa_results[metric],  hofts_ssa_results[metric], cvfts_ssa_results[metric], lstm_uni_ssa_results[metric], mlp_uni_ssa_results[metric]]\n",
    "#xticks = ['Persistence', 'SARIMA', 'HOFTS','CVFTS','LSTM_UNI','MLP_UNI']\n",
    "\n",
    "uni_data = [persistence_ssa_results[metric],   hofts_ssa_results[metric], cvfts_ssa_results[metric], lstm_uni_ssa_results[metric], mlp_uni_ssa_results[metric]]\n",
    "xticks = ['Persistence',  'HOFTS','CVFTS','LSTM_UNI','MLP_UNI']\n",
    "\n",
    "ylab = 'RMSE'\n",
    "createBoxplot(\"boxplot_rmse_oahu_residual_uni\", uni_data, xticks, ylab)"
   ]
  },
  {
   "cell_type": "code",
   "execution_count": 19,
   "metadata": {},
   "outputs": [],
   "source": [
    "metric = 'SMAPE'\n",
    "#uni_data = [persistence_ssa_results[metric], sarima_ssa_results[metric],  hofts_ssa_results[metric], cvfts_ssa_results[metric], lstm_uni_ssa_results[metric], mlp_uni_ssa_results[metric]]\n",
    "#xticks = ['Persistence', 'SARIMA', 'HOFTS','CVFTS','LSTM_UNI','MLP_UNI']\n",
    "\n",
    "uni_data = [persistence_ssa_results[metric],   hofts_ssa_results[metric], cvfts_ssa_results[metric], lstm_uni_ssa_results[metric], mlp_uni_ssa_results[metric]]\n",
    "xticks = ['Persistence',  'HOFTS','CVFTS','LSTM_UNI','MLP_UNI']\n",
    "\n",
    "ylab = 'SMAPE'\n",
    "createBoxplot(\"boxplot_smape_oahu_residual_uni\", uni_data, xticks, ylab)"
   ]
  },
  {
   "cell_type": "code",
   "execution_count": 20,
   "metadata": {},
   "outputs": [],
   "source": [
    "metric = 'U'\n",
    "#uni_data = [persistence_ssa_results[metric], sarima_ssa_results[metric],  hofts_ssa_results[metric], cvfts_ssa_results[metric], lstm_uni_ssa_results[metric], mlp_uni_ssa_results[metric]]\n",
    "#xticks = ['Persistence', 'SARIMA', 'HOFTS','CVFTS','LSTM_UNI','MLP_UNI']\n",
    "\n",
    "uni_data = [persistence_ssa_results[metric],   hofts_ssa_results[metric], cvfts_ssa_results[metric], lstm_uni_ssa_results[metric], mlp_uni_ssa_results[metric]]\n",
    "xticks = ['Persistence',  'HOFTS','CVFTS','LSTM_UNI','MLP_UNI']\n",
    "\n",
    "ylab = 'U Statistic'\n",
    "createBoxplot(\"boxplot_u_oahu_residual_uni\", uni_data, xticks, ylab)"
   ]
  },
  {
   "cell_type": "markdown",
   "metadata": {},
   "source": [
    "## Improvement Table Univariate"
   ]
  },
  {
   "cell_type": "code",
   "execution_count": null,
   "metadata": {},
   "outputs": [],
   "source": [
    "index = ['Persistence', 'SARIMA', 'HOFTS','CVFTS','LSTM_UNI','MLP_UNI']\n",
    "columns = ['imp(RMSE)', 'imp(SMAPE)', 'imp(U)']\n",
    "metrics = ['RMSE', 'SMAPE', 'U']\n",
    "imp_df = pd.DataFrame(columns=columns, index=index)"
   ]
  },
  {
   "cell_type": "code",
   "execution_count": null,
   "metadata": {},
   "outputs": [],
   "source": [
    "for metric in metrics:\n",
    "    imp_prst = improvement(persistence_ssa_results[metric], persistence_ssa_results[metric]) \n",
    "    imp_sarima = improvement(sarima_ssa_results[metric], persistence_ssa_results[metric]) \n",
    "    imp_hofts = improvement(hofts_ssa_results[metric], persistence_ssa_results[metric]) \n",
    "    imp_cvfts = improvement(cvfts_ssa_results[metric], persistence_ssa_results[metric]) \n",
    "    imp_lstm_uni = improvement(lstm_uni_ssa_results[metric], persistence_ssa_results[metric]) \n",
    "    imp_mlp_uni = improvement(mlp_uni_ssa_results[metric], persistence_ssa_results[metric]) \n",
    "\n",
    "    imp_df['imp('+metric+')'] = [imp_prst, imp_sarima, imp_hofts, imp_cvfts, imp_lstm_uni, imp_mlp_uni]"
   ]
  },
  {
   "cell_type": "code",
   "execution_count": null,
   "metadata": {},
   "outputs": [],
   "source": [
    "print(imp_df.to_latex())"
   ]
  }
 ],
 "metadata": {
  "kernelspec": {
   "display_name": "Python 3",
   "language": "python",
   "name": "python3"
  },
  "language_info": {
   "codemirror_mode": {
    "name": "ipython",
    "version": 3
   },
   "file_extension": ".py",
   "mimetype": "text/x-python",
   "name": "python",
   "nbconvert_exporter": "python",
   "pygments_lexer": "ipython3",
   "version": "3.7.3"
  }
 },
 "nbformat": 4,
 "nbformat_minor": 2
}
