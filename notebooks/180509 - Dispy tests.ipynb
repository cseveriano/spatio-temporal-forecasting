{
 "cells": [
  {
   "cell_type": "code",
   "execution_count": null,
   "metadata": {},
   "outputs": [],
   "source": []
  },
  {
   "cell_type": "code",
   "execution_count": 1,
   "metadata": {},
   "outputs": [],
   "source": [
    "def normalized_rmse(targets, forecasts):\n",
    "    dist = [(a - b) ** 2 for a, b in zip(targets, forecasts)]\n",
    "    return ((np.sqrt(np.nanmean(dist))) / np.nanmean(targets)) * 100"
   ]
  },
  {
   "cell_type": "code",
   "execution_count": null,
   "metadata": {},
   "outputs": [],
   "source": [
    "ms_df = pd.read_pickle(\"cluster_all_stations_df.pkl\")\n",
    "test_df = pd.read_pickle(\"test_cluster_all_stations_df.pkl\")\n",
    "\n",
    "train = ms_df.values #returns a numpy array\n",
    "min_max_scaler = preprocessing.MinMaxScaler()\n",
    "train = min_max_scaler.fit_transform(train)\n",
    "\n",
    "test = test_df.values\n",
    "test = min_max_scaler.fit_transform(test)"
   ]
  },
  {
   "cell_type": "code",
   "execution_count": null,
   "metadata": {},
   "outputs": [],
   "source": [
    "k = 20\n",
    "_order = 6\n",
    "\n",
    "fuzzy_sets = KMeansPartitioner.KMeansPartitioner(data=train, npart=k, batch_size=1000, init_size=k*3)"
   ]
  },
  {
   "cell_type": "code",
   "execution_count": null,
   "metadata": {},
   "outputs": [],
   "source": [
    "model_hofts = sthofts.SpatioTemporalHighOrderFTS(\"FTS\", partitioner=fuzzy_sets)\n",
    "model_hofts.fit(train, order=_order, dump = 'time', num_batches=10)\n",
    "\n",
    "forecast_hofts = model_hofts.predict(test)\n",
    "_nrmse = normalized_rmse(test.tolist()[(_order - 1):], forecast_hofts)\n",
    "print(\"nRMSE: \", _nrmse, \"\\n\")"
   ]
  }
 ],
 "metadata": {
  "kernelspec": {
   "display_name": "Python 3",
   "language": "python",
   "name": "python3"
  },
  "language_info": {
   "codemirror_mode": {
    "name": "ipython",
    "version": 3
   },
   "file_extension": ".py",
   "mimetype": "text/x-python",
   "name": "python",
   "nbconvert_exporter": "python",
   "pygments_lexer": "ipython3",
   "version": "3.6.4"
  }
 },
 "nbformat": 4,
 "nbformat_minor": 2
}
