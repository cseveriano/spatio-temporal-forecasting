{
 "cells": [
  {
   "cell_type": "code",
   "execution_count": 1,
   "metadata": {},
   "outputs": [],
   "source": [
    "import pandas as pd\n",
    "import numpy as np\n",
    "import matplotlib.pyplot as plt\n",
    "import pickle"
   ]
  },
  {
   "cell_type": "code",
   "execution_count": 2,
   "metadata": {},
   "outputs": [],
   "source": [
    "import math\n",
    "from sklearn.metrics import mean_squared_error"
   ]
  },
  {
   "cell_type": "markdown",
   "metadata": {},
   "source": [
    "# Funções Auxiliares"
   ]
  },
  {
   "cell_type": "code",
   "execution_count": 3,
   "metadata": {},
   "outputs": [],
   "source": [
    "def normalize(df):\n",
    "    mindf = df.min()\n",
    "    maxdf = df.max()\n",
    "    return (df-mindf)/(maxdf-mindf)"
   ]
  },
  {
   "cell_type": "code",
   "execution_count": 4,
   "metadata": {},
   "outputs": [],
   "source": [
    "def denormalize(norm, _min, _max):\n",
    "    return [(n * (_max-_min)) + _min for n in norm]"
   ]
  },
  {
   "cell_type": "code",
   "execution_count": 5,
   "metadata": {},
   "outputs": [],
   "source": [
    "def split_data(df, interval):\n",
    "    sample_df = df.loc[interval]\n",
    "\n",
    "    week = (sample_df.index.day - 1) // 7 + 1\n",
    "\n",
    "    # PARA OS TESTES:\n",
    "    # 2 SEMANAS PARA TREINAMENTO\n",
    "    train_df = sample_df.loc[week <= 2]\n",
    "\n",
    "    # 1 SEMANA PARA VALIDACAO\n",
    "    validation_df = sample_df.loc[week == 3]\n",
    "\n",
    "    # 1 SEMANA PARA TESTES\n",
    "    test_df = sample_df.loc[week > 3]\n",
    "    \n",
    "    return (train_df, validation_df, test_df)"
   ]
  },
  {
   "cell_type": "code",
   "execution_count": 6,
   "metadata": {},
   "outputs": [],
   "source": [
    "def calculate_rmse(test, forecast, order, step):\n",
    "    rmse = math.sqrt(mean_squared_error(test.iloc[(order):], forecast[:-step]))\n",
    "    print(\"RMSE : \"+str(rmse))\n",
    "    return rmse"
   ]
  },
  {
   "cell_type": "code",
   "execution_count": 7,
   "metadata": {},
   "outputs": [],
   "source": [
    "def reconstruct_ssa_series(clean, residual):\n",
    "    return [r + c for r, c in zip(residual,clean)]"
   ]
  },
  {
   "cell_type": "code",
   "execution_count": 8,
   "metadata": {},
   "outputs": [],
   "source": [
    "def save_obj(obj, name ):\n",
    "    with open('results/'+ name + '.pkl', 'wb') as f:\n",
    "        pickle.dump(obj, f, pickle.HIGHEST_PROTOCOL)\n",
    "\n",
    "def load_obj(name ):\n",
    "    with open('results/' + name + '.pkl', 'rb') as f:\n",
    "        return pickle.load(f)"
   ]
  },
  {
   "cell_type": "code",
   "execution_count": 9,
   "metadata": {},
   "outputs": [],
   "source": [
    "def difference(raw_df, interval=1):\n",
    "    df_diff = pd.DataFrame(columns=raw_df.columns, index=raw_df.index[1:])\n",
    "    \n",
    "    for col in raw_df.columns:\n",
    "        raw_array = raw_df[col]\n",
    "        diff = []\n",
    "        for i in range(interval, len(raw_array)):\n",
    "            value = raw_array[i] - raw_array[i - interval]\n",
    "            diff.append(value)\n",
    "        \n",
    "        df_diff[col] = diff\n",
    "    return df_diff"
   ]
  },
  {
   "cell_type": "code",
   "execution_count": 10,
   "metadata": {},
   "outputs": [],
   "source": [
    "def inverse_difference(raw_series, diff_series):\n",
    "    inverted = []\n",
    "    for i in range(len(diff_series)):\n",
    "        interval = len(raw_series)-i\n",
    "        value = diff_series[i] + raw_series[-interval]\n",
    "        inverted.append(value)\n",
    "        \n",
    "    return inverted"
   ]
  },
  {
   "cell_type": "markdown",
   "metadata": {},
   "source": [
    "# Load Dataset\n",
    "Split the data into train, validation and test subsets"
   ]
  },
  {
   "cell_type": "code",
   "execution_count": 11,
   "metadata": {},
   "outputs": [],
   "source": [
    "#Set target and input variables \n",
    "target_station = 'WTG01'\n",
    "\n",
    "#All neighbor stations with residual correlation greater than .90\n",
    "neighbor_stations_90 = ['WTG01','WTG02','WTG03','WTG05','WTG06']"
   ]
  },
  {
   "cell_type": "code",
   "execution_count": 12,
   "metadata": {},
   "outputs": [],
   "source": [
    "df = pd.read_pickle(\"df_wind_speed.pkl\")"
   ]
  },
  {
   "cell_type": "code",
   "execution_count": 13,
   "metadata": {},
   "outputs": [],
   "source": [
    "#Normalize Data\n",
    "\n",
    "# Save Min-Max for Denorm\n",
    "min_raw = df[target_station].min()\n",
    "\n",
    "max_raw = df[target_station].max()\n",
    "\n",
    "# Perform Normalization\n",
    "norm_df = normalize(df)"
   ]
  },
  {
   "cell_type": "code",
   "execution_count": 14,
   "metadata": {},
   "outputs": [],
   "source": [
    "# Split data\n",
    "interval = ((df.index >= '2017-05') & (df.index <= '2018-05'))\n",
    "#interval = ((df.index >= '2010-11') & (df.index <= '2010-12'))\n",
    "\n",
    "(train_df, validation_df, test_df) = split_data(df, interval)\n",
    "(norm_train_df, norm_validation_df, norm_test_df) = split_data(norm_df, interval)"
   ]
  },
  {
   "cell_type": "markdown",
   "metadata": {},
   "source": [
    "## Forecasting with Raw Time Series\n",
    "\n",
    "For each dataset, all the time series were normalized"
   ]
  },
  {
   "cell_type": "markdown",
   "metadata": {},
   "source": [
    "## Persistence"
   ]
  },
  {
   "cell_type": "code",
   "execution_count": 16,
   "metadata": {},
   "outputs": [],
   "source": [
    "def persistence_forecast(train, test, step):\n",
    "    predictions = []\n",
    "    \n",
    "    for t in np.arange(0,len(test), step):\n",
    "        yhat = [test.iloc[t]]  * step\n",
    "        predictions.extend(yhat)\n",
    "        \n",
    "    return predictions"
   ]
  },
  {
   "cell_type": "code",
   "execution_count": 17,
   "metadata": {},
   "outputs": [
    {
     "name": "stdout",
     "output_type": "stream",
     "text": [
      "RMSE : 0.6324497271451676\n"
     ]
    }
   ],
   "source": [
    "step = 1\n",
    "persistence_order = 1\n",
    "\n",
    "forecast = persistence_forecast(norm_train_df[target_station], norm_test_df[target_station],step)\n",
    "forecast = denormalize(forecast, min_raw, max_raw)\n",
    "\n",
    "rmse = calculate_rmse(test_df[target_station], forecast, persistence_order, step)"
   ]
  },
  {
   "cell_type": "code",
   "execution_count": 23,
   "metadata": {},
   "outputs": [],
   "source": [
    "result = {'rmse': rmse, 'final': forecast}\n",
    "save_obj(result, name=\"wind_raw_persistence_1\")"
   ]
  },
  {
   "cell_type": "markdown",
   "metadata": {},
   "source": [
    "## SARIMA"
   ]
  },
  {
   "cell_type": "code",
   "execution_count": 37,
   "metadata": {},
   "outputs": [
    {
     "name": "stderr",
     "output_type": "stream",
     "text": [
      "/Users/cseveriano/anaconda3/lib/python3.6/site-packages/statsmodels/compat/pandas.py:56: FutureWarning: The pandas.core.datetools module is deprecated and will be removed in a future version. Please use the pandas.tseries module instead.\n",
      "  from pandas.core import datetools\n"
     ]
    }
   ],
   "source": [
    "from statsmodels.tsa.statespace.sarimax import SARIMAX"
   ]
  },
  {
   "cell_type": "code",
   "execution_count": 50,
   "metadata": {},
   "outputs": [],
   "source": [
    "def sarima_forecast(train, test, arima_order, sarima_order, step):\n",
    "\n",
    "    predictions = []\n",
    "    window_size = sarima_order[3] * 5\n",
    "    \n",
    "    for date in train.index.to_period('M').unique():\n",
    "        \n",
    "        #history = list(train[str(date)].iloc[-window_size:])\n",
    "        history = list(train[str(date)])\n",
    "        window_size = len(history)\n",
    "        \n",
    "        model = SARIMAX(history, order=arima_order, seasonal_order=sarima_order,enforce_invertibility=False,enforce_stationarity=False)\n",
    "        model_fit = model.fit(disp=True,enforce_invertibility=False,  method='powell', maxiter=200)\n",
    "        \n",
    "        #save the state parameter\n",
    "        est_params = model_fit.params\n",
    "        est_state = model_fit.predicted_state[:, -1]\n",
    "        est_state_cov = model_fit.predicted_state_cov[:, :, -1]\n",
    "\n",
    "        print(\"Predicting : \"+str(date))\n",
    "        \n",
    "        st = 0\n",
    "        test_date = test[str(date)]\n",
    "        \n",
    "        for t in np.arange(1,len(test_date)+1,step):\n",
    "            obs = test_date.iloc[st:t].values\n",
    "            history.extend(obs)\n",
    "            history = history[-window_size:]\n",
    "            \n",
    "            mod_updated = SARIMAX(history, order=arima_order, seasonal_order=sarima_order,enforce_invertibility=False,enforce_stationarity=False)\n",
    "            mod_updated.initialize_known(est_state, est_state_cov)\n",
    "            mod_frcst = mod_updated.smooth(est_params)\n",
    "\n",
    "        \n",
    "            yhat = mod_frcst.forecast(step)   \n",
    "            predictions.extend(yhat)\n",
    "            \n",
    "            est_params = mod_frcst.params\n",
    "            est_state = mod_frcst.predicted_state[:, -1]\n",
    "            est_state_cov = mod_frcst.predicted_state_cov[:, :, -1]\n",
    "            \n",
    "            st = t\n",
    "                \n",
    "    return predictions"
   ]
  },
  {
   "cell_type": "code",
   "execution_count": 51,
   "metadata": {},
   "outputs": [
    {
     "name": "stdout",
     "output_type": "stream",
     "text": [
      "Optimization terminated successfully.\n",
      "         Current function value: -1.864060\n",
      "         Iterations: 6\n",
      "         Function evaluations: 560\n",
      "Predicting : 2017-05\n"
     ]
    },
    {
     "ename": "KeyboardInterrupt",
     "evalue": "",
     "output_type": "error",
     "traceback": [
      "\u001b[0;31m---------------------------------------------------------------------------\u001b[0m",
      "\u001b[0;31mKeyboardInterrupt\u001b[0m                         Traceback (most recent call last)",
      "\u001b[0;32m<ipython-input-51-cb85b4bf67c0>\u001b[0m in \u001b[0;36m<module>\u001b[0;34m()\u001b[0m\n\u001b[1;32m      3\u001b[0m \u001b[0marima_order\u001b[0m \u001b[0;34m=\u001b[0m \u001b[0;34m(\u001b[0m\u001b[0;36m2\u001b[0m\u001b[0;34m,\u001b[0m \u001b[0;36m1\u001b[0m\u001b[0;34m,\u001b[0m \u001b[0;36m2\u001b[0m\u001b[0;34m)\u001b[0m\u001b[0;34m\u001b[0m\u001b[0m\n\u001b[1;32m      4\u001b[0m \u001b[0msarima_order\u001b[0m \u001b[0;34m=\u001b[0m \u001b[0;34m(\u001b[0m\u001b[0;36m1\u001b[0m\u001b[0;34m,\u001b[0m \u001b[0;36m1\u001b[0m\u001b[0;34m,\u001b[0m \u001b[0;36m1\u001b[0m\u001b[0;34m,\u001b[0m \u001b[0;36m61\u001b[0m\u001b[0;34m)\u001b[0m\u001b[0;34m\u001b[0m\u001b[0m\n\u001b[0;32m----> 5\u001b[0;31m \u001b[0mforecast\u001b[0m \u001b[0;34m=\u001b[0m \u001b[0msarima_forecast\u001b[0m\u001b[0;34m(\u001b[0m\u001b[0mnorm_train_df\u001b[0m\u001b[0;34m[\u001b[0m\u001b[0mtarget_station\u001b[0m\u001b[0;34m]\u001b[0m\u001b[0;34m,\u001b[0m \u001b[0mnorm_test_df\u001b[0m\u001b[0;34m[\u001b[0m\u001b[0mtarget_station\u001b[0m\u001b[0;34m]\u001b[0m\u001b[0;34m,\u001b[0m \u001b[0marima_order\u001b[0m\u001b[0;34m,\u001b[0m \u001b[0msarima_order\u001b[0m\u001b[0;34m,\u001b[0m \u001b[0mstep\u001b[0m\u001b[0;34m)\u001b[0m\u001b[0;34m\u001b[0m\u001b[0m\n\u001b[0m\u001b[1;32m      6\u001b[0m \u001b[0mforecast\u001b[0m \u001b[0;34m=\u001b[0m \u001b[0mdenormalize\u001b[0m\u001b[0;34m(\u001b[0m\u001b[0mforecast\u001b[0m\u001b[0;34m,\u001b[0m \u001b[0mmin_raw\u001b[0m\u001b[0;34m,\u001b[0m \u001b[0mmax_raw\u001b[0m\u001b[0;34m)\u001b[0m\u001b[0;34m\u001b[0m\u001b[0m\n\u001b[1;32m      7\u001b[0m \u001b[0mrmse\u001b[0m \u001b[0;34m=\u001b[0m \u001b[0mcalculate_rmse\u001b[0m\u001b[0;34m(\u001b[0m\u001b[0mtest_df\u001b[0m\u001b[0;34m[\u001b[0m\u001b[0mtarget_station\u001b[0m\u001b[0;34m]\u001b[0m\u001b[0;34m,\u001b[0m \u001b[0mforecast\u001b[0m\u001b[0;34m,\u001b[0m \u001b[0morder\u001b[0m\u001b[0;34m,\u001b[0m \u001b[0mstep\u001b[0m\u001b[0;34m)\u001b[0m\u001b[0;34m\u001b[0m\u001b[0m\n",
      "\u001b[0;32m<ipython-input-50-aaea24526c2a>\u001b[0m in \u001b[0;36msarima_forecast\u001b[0;34m(train, test, arima_order, sarima_order, step)\u001b[0m\n\u001b[1;32m     30\u001b[0m             \u001b[0mmod_updated\u001b[0m \u001b[0;34m=\u001b[0m \u001b[0mSARIMAX\u001b[0m\u001b[0;34m(\u001b[0m\u001b[0mhistory\u001b[0m\u001b[0;34m,\u001b[0m \u001b[0morder\u001b[0m\u001b[0;34m=\u001b[0m\u001b[0marima_order\u001b[0m\u001b[0;34m,\u001b[0m \u001b[0mseasonal_order\u001b[0m\u001b[0;34m=\u001b[0m\u001b[0msarima_order\u001b[0m\u001b[0;34m,\u001b[0m\u001b[0menforce_invertibility\u001b[0m\u001b[0;34m=\u001b[0m\u001b[0;32mFalse\u001b[0m\u001b[0;34m,\u001b[0m\u001b[0menforce_stationarity\u001b[0m\u001b[0;34m=\u001b[0m\u001b[0;32mFalse\u001b[0m\u001b[0;34m)\u001b[0m\u001b[0;34m\u001b[0m\u001b[0m\n\u001b[1;32m     31\u001b[0m             \u001b[0mmod_updated\u001b[0m\u001b[0;34m.\u001b[0m\u001b[0minitialize_known\u001b[0m\u001b[0;34m(\u001b[0m\u001b[0mest_state\u001b[0m\u001b[0;34m,\u001b[0m \u001b[0mest_state_cov\u001b[0m\u001b[0;34m)\u001b[0m\u001b[0;34m\u001b[0m\u001b[0m\n\u001b[0;32m---> 32\u001b[0;31m             \u001b[0mmod_frcst\u001b[0m \u001b[0;34m=\u001b[0m \u001b[0mmod_updated\u001b[0m\u001b[0;34m.\u001b[0m\u001b[0msmooth\u001b[0m\u001b[0;34m(\u001b[0m\u001b[0mest_params\u001b[0m\u001b[0;34m)\u001b[0m\u001b[0;34m\u001b[0m\u001b[0m\n\u001b[0m\u001b[1;32m     33\u001b[0m \u001b[0;34m\u001b[0m\u001b[0m\n\u001b[1;32m     34\u001b[0m \u001b[0;34m\u001b[0m\u001b[0m\n",
      "\u001b[0;32m~/anaconda3/lib/python3.6/site-packages/statsmodels/tsa/statespace/sarimax.py\u001b[0m in \u001b[0;36msmooth\u001b[0;34m(self, params, **kwargs)\u001b[0m\n\u001b[1;32m    866\u001b[0m         \u001b[0mkwargs\u001b[0m\u001b[0;34m.\u001b[0m\u001b[0msetdefault\u001b[0m\u001b[0;34m(\u001b[0m\u001b[0;34m'results_class'\u001b[0m\u001b[0;34m,\u001b[0m \u001b[0mSARIMAXResults\u001b[0m\u001b[0;34m)\u001b[0m\u001b[0;34m\u001b[0m\u001b[0m\n\u001b[1;32m    867\u001b[0m         \u001b[0mkwargs\u001b[0m\u001b[0;34m.\u001b[0m\u001b[0msetdefault\u001b[0m\u001b[0;34m(\u001b[0m\u001b[0;34m'results_wrapper_class'\u001b[0m\u001b[0;34m,\u001b[0m \u001b[0mSARIMAXResultsWrapper\u001b[0m\u001b[0;34m)\u001b[0m\u001b[0;34m\u001b[0m\u001b[0m\n\u001b[0;32m--> 868\u001b[0;31m         \u001b[0;32mreturn\u001b[0m \u001b[0msuper\u001b[0m\u001b[0;34m(\u001b[0m\u001b[0mSARIMAX\u001b[0m\u001b[0;34m,\u001b[0m \u001b[0mself\u001b[0m\u001b[0;34m)\u001b[0m\u001b[0;34m.\u001b[0m\u001b[0msmooth\u001b[0m\u001b[0;34m(\u001b[0m\u001b[0mparams\u001b[0m\u001b[0;34m,\u001b[0m \u001b[0;34m**\u001b[0m\u001b[0mkwargs\u001b[0m\u001b[0;34m)\u001b[0m\u001b[0;34m\u001b[0m\u001b[0m\n\u001b[0m\u001b[1;32m    869\u001b[0m \u001b[0;34m\u001b[0m\u001b[0m\n\u001b[1;32m    870\u001b[0m     \u001b[0;34m@\u001b[0m\u001b[0mstaticmethod\u001b[0m\u001b[0;34m\u001b[0m\u001b[0m\n",
      "\u001b[0;32m~/anaconda3/lib/python3.6/site-packages/statsmodels/tsa/statespace/mlemodel.py\u001b[0m in \u001b[0;36msmooth\u001b[0;34m(self, params, transformed, complex_step, cov_type, cov_kwds, return_ssm, results_class, results_wrapper_class, **kwargs)\u001b[0m\n\u001b[1;32m    559\u001b[0m \u001b[0;34m\u001b[0m\u001b[0m\n\u001b[1;32m    560\u001b[0m         \u001b[0;31m# Get the state space output\u001b[0m\u001b[0;34m\u001b[0m\u001b[0;34m\u001b[0m\u001b[0m\n\u001b[0;32m--> 561\u001b[0;31m         \u001b[0mresult\u001b[0m \u001b[0;34m=\u001b[0m \u001b[0mself\u001b[0m\u001b[0;34m.\u001b[0m\u001b[0mssm\u001b[0m\u001b[0;34m.\u001b[0m\u001b[0msmooth\u001b[0m\u001b[0;34m(\u001b[0m\u001b[0mcomplex_step\u001b[0m\u001b[0;34m=\u001b[0m\u001b[0mcomplex_step\u001b[0m\u001b[0;34m,\u001b[0m \u001b[0;34m**\u001b[0m\u001b[0mkwargs\u001b[0m\u001b[0;34m)\u001b[0m\u001b[0;34m\u001b[0m\u001b[0m\n\u001b[0m\u001b[1;32m    562\u001b[0m \u001b[0;34m\u001b[0m\u001b[0m\n\u001b[1;32m    563\u001b[0m         \u001b[0;31m# Wrap in a results object\u001b[0m\u001b[0;34m\u001b[0m\u001b[0;34m\u001b[0m\u001b[0m\n",
      "\u001b[0;32m~/anaconda3/lib/python3.6/site-packages/statsmodels/tsa/statespace/kalman_smoother.py\u001b[0m in \u001b[0;36msmooth\u001b[0;34m(self, smoother_output, results, run_filter, prefix, complex_step, **kwargs)\u001b[0m\n\u001b[1;32m    481\u001b[0m             \u001b[0mresults\u001b[0m\u001b[0;34m.\u001b[0m\u001b[0mupdate_representation\u001b[0m\u001b[0;34m(\u001b[0m\u001b[0mself\u001b[0m\u001b[0;34m)\u001b[0m\u001b[0;34m\u001b[0m\u001b[0m\n\u001b[1;32m    482\u001b[0m         \u001b[0;32mif\u001b[0m \u001b[0mrun_filter\u001b[0m\u001b[0;34m:\u001b[0m\u001b[0;34m\u001b[0m\u001b[0m\n\u001b[0;32m--> 483\u001b[0;31m             \u001b[0mresults\u001b[0m\u001b[0;34m.\u001b[0m\u001b[0mupdate_filter\u001b[0m\u001b[0;34m(\u001b[0m\u001b[0mkfilter\u001b[0m\u001b[0;34m)\u001b[0m\u001b[0;34m\u001b[0m\u001b[0m\n\u001b[0m\u001b[1;32m    484\u001b[0m \u001b[0;34m\u001b[0m\u001b[0m\n\u001b[1;32m    485\u001b[0m         \u001b[0;31m# Run the smoother and update the output\u001b[0m\u001b[0;34m\u001b[0m\u001b[0;34m\u001b[0m\u001b[0m\n",
      "\u001b[0;32m~/anaconda3/lib/python3.6/site-packages/statsmodels/tsa/statespace/kalman_filter.py\u001b[0m in \u001b[0;36mupdate_filter\u001b[0;34m(self, kalman_filter)\u001b[0m\n\u001b[1;32m   1224\u001b[0m         )\n\u001b[1;32m   1225\u001b[0m         self.predicted_state_cov = np.array(\n\u001b[0;32m-> 1226\u001b[0;31m             \u001b[0mkalman_filter\u001b[0m\u001b[0;34m.\u001b[0m\u001b[0mpredicted_state_cov\u001b[0m\u001b[0;34m,\u001b[0m \u001b[0mcopy\u001b[0m\u001b[0;34m=\u001b[0m\u001b[0;32mTrue\u001b[0m\u001b[0;34m\u001b[0m\u001b[0m\n\u001b[0m\u001b[1;32m   1227\u001b[0m         )\n\u001b[1;32m   1228\u001b[0m \u001b[0;34m\u001b[0m\u001b[0m\n",
      "\u001b[0;31mKeyboardInterrupt\u001b[0m: "
     ]
    }
   ],
   "source": [
    "order = 1\n",
    "step = 1\n",
    "arima_order = (2, 1, 2)\n",
    "sarima_order = (1, 1, 1, 61)\n",
    "forecast = sarima_forecast(norm_train_df[target_station], norm_test_df[target_station], arima_order, sarima_order, step)\n",
    "forecast = denormalize(forecast, min_raw, max_raw)\n",
    "rmse = calculate_rmse(test_df[target_station], forecast, order, step)"
   ]
  },
  {
   "cell_type": "code",
   "execution_count": 46,
   "metadata": {},
   "outputs": [],
   "source": [
    "result = {'rmse': rmse, 'final': forecast}"
   ]
  },
  {
   "cell_type": "code",
   "execution_count": 47,
   "metadata": {},
   "outputs": [],
   "source": [
    "save_obj(result, name=\"wind_raw_sarima_1\")"
   ]
  },
  {
   "cell_type": "code",
   "execution_count": 49,
   "metadata": {},
   "outputs": [
    {
     "data": {
      "image/png": "[encoded data removed]",
      "text/plain": [
       "<matplotlib.figure.Figure at 0x1a3afe6710>"
      ]
     },
     "metadata": {},
     "output_type": "display_data"
    }
   ],
   "source": [
    "plt.plot(test_df[target_station].iloc[1:600].values)\n",
    "plt.plot(forecast[:599])\n",
    "plt.show()\n"
   ]
  },
  {
   "cell_type": "code",
   "execution_count": 44,
   "metadata": {},
   "outputs": [],
   "source": [
    "def sarima_forecast(train, test, arima_order, sarima_order, step):\n",
    "\n",
    "    predictions = []\n",
    "    \n",
    "    for date in train.index.to_period('M').unique():\n",
    "        print(\"Predicting : \"+str(date))\n",
    "        history = list(train[str(date)])\n",
    "        test_steps = len(test[str(date)])\n",
    "        print(\"Number of steps : \"+str(test_steps))\n",
    "        \n",
    "        model = SARIMAX(history, order=arima_order, seasonal_order=sarima_order,enforce_invertibility=False,enforce_stationarity=False)\n",
    "        model_fit = model.fit(disp=True,enforce_invertibility=False, method='powell', maxiter=200)\n",
    "        yhat = model_fit.forecast(test_steps)      \n",
    "        \n",
    "        predictions.extend(yhat)\n",
    "    \n",
    "    return predictions"
   ]
  },
  {
   "cell_type": "code",
   "execution_count": 45,
   "metadata": {},
   "outputs": [
    {
     "name": "stdout",
     "output_type": "stream",
     "text": [
      "Predicting : 2017-05\n",
      "Number of steps : 1038\n",
      "Optimization terminated successfully.\n",
      "         Current function value: -1.864060\n",
      "         Iterations: 6\n",
      "         Function evaluations: 560\n",
      "Predicting : 2017-06\n",
      "Number of steps : 1112\n",
      "Optimization terminated successfully.\n",
      "         Current function value: -1.727047\n",
      "         Iterations: 3\n",
      "         Function evaluations: 269\n",
      "Predicting : 2017-07\n",
      "Number of steps : 1439\n",
      "Optimization terminated successfully.\n",
      "         Current function value: -1.571208\n",
      "         Iterations: 5\n",
      "         Function evaluations: 437\n",
      "Predicting : 2017-08\n",
      "Number of steps : 1439\n",
      "Optimization terminated successfully.\n",
      "         Current function value: -1.871653\n",
      "         Iterations: 4\n",
      "         Function evaluations: 342\n",
      "Predicting : 2017-09\n",
      "Number of steps : 1294\n",
      "Optimization terminated successfully.\n",
      "         Current function value: -1.603497\n",
      "         Iterations: 4\n",
      "         Function evaluations: 340\n",
      "Predicting : 2017-10\n",
      "Number of steps : 1393\n",
      "Optimization terminated successfully.\n",
      "         Current function value: -1.840671\n",
      "         Iterations: 4\n",
      "         Function evaluations: 341\n",
      "Predicting : 2017-11\n",
      "Number of steps : 1278\n",
      "Optimization terminated successfully.\n",
      "         Current function value: -1.964819\n",
      "         Iterations: 4\n",
      "         Function evaluations: 379\n",
      "Predicting : 2017-12\n",
      "Number of steps : 1363\n",
      "Optimization terminated successfully.\n",
      "         Current function value: -1.922737\n",
      "         Iterations: 4\n",
      "         Function evaluations: 346\n",
      "Predicting : 2018-01\n",
      "Number of steps : 1275\n",
      "Optimization terminated successfully.\n",
      "         Current function value: -1.888142\n",
      "         Iterations: 3\n",
      "         Function evaluations: 281\n",
      "Predicting : 2018-02\n",
      "Number of steps : 970\n",
      "Optimization terminated successfully.\n",
      "         Current function value: -1.860494\n",
      "         Iterations: 4\n",
      "         Function evaluations: 325\n",
      "Predicting : 2018-03\n",
      "Number of steps : 1353\n",
      "Optimization terminated successfully.\n",
      "         Current function value: -1.895633\n",
      "         Iterations: 5\n",
      "         Function evaluations: 445\n",
      "Predicting : 2018-04\n",
      "Number of steps : 1028\n",
      "Optimization terminated successfully.\n",
      "         Current function value: -1.781415\n",
      "         Iterations: 4\n",
      "         Function evaluations: 358\n",
      "RMSE : 3.05140212200597\n"
     ]
    }
   ],
   "source": [
    "order = 1\n",
    "step = 1\n",
    "arima_order = (2, 1, 2)\n",
    "sarima_order = (1, 1, 1, 61)\n",
    "forecast = sarima_forecast(norm_train_df[target_station], norm_test_df[target_station], arima_order, sarima_order, step)\n",
    "forecast = denormalize(forecast, min_raw, max_raw)\n",
    "rmse = calculate_rmse(test_df[target_station], forecast, order, step)"
   ]
  },
  {
   "cell_type": "code",
   "execution_count": 43,
   "metadata": {},
   "outputs": [
    {
     "data": {
      "text/plain": [
       "[7.8545310690312569,\n",
       " 8.4913644723100763,\n",
       " 7.66412066383098,\n",
       " 7.4837396092870145,\n",
       " 7.4180714854582366,\n",
       " 7.8631097612963892,\n",
       " 7.6870701841919473,\n",
       " 6.5861730542909145,\n",
       " 6.9690888625238534,\n",
       " 6.748388701857686,\n",
       " 6.8495970626665548,\n",
       " 6.7452398165321892,\n",
       " 6.160509241861309,\n",
       " 5.3378349348023244,\n",
       " 6.0119723427420446,\n",
       " 5.9195508599539117,\n",
       " 5.803513972026046,\n",
       " 6.6282835003170026,\n",
       " 7.0382842379857768,\n",
       " 7.5103172987335958,\n",
       " 7.4627918006024316,\n",
       " 6.9872725874885386,\n",
       " 6.8384112303544295,\n",
       " 7.8402419947085153,\n",
       " 6.9246446674878168,\n",
       " 7.5008804306754016,\n",
       " 7.9093390319150743,\n",
       " 7.1451425532009383,\n",
       " 6.501197889414339,\n",
       " 7.3138498093323125,\n",
       " 7.323482737105957,\n",
       " 7.2699444172344272,\n",
       " 7.1051650986365544,\n",
       " 6.5775873765621666,\n",
       " 7.0189687516986892,\n",
       " 7.3598479725683665,\n",
       " 7.1414598531691516,\n",
       " 6.9789413046602693,\n",
       " 7.0379389588813757,\n",
       " 6.4027444578563113,\n",
       " 6.6120929215267275,\n",
       " 6.7314895601986757,\n",
       " 4.9814247384505519,\n",
       " 5.5761955550318474,\n",
       " 5.9299354976166851,\n",
       " 6.1179657329577282,\n",
       " 6.0649456635828605,\n",
       " 5.7711750083561366,\n",
       " 6.489920692715808,\n",
       " 6.620418830957334,\n",
       " 7.4918510904797655,\n",
       " 8.3261191292123371,\n",
       " 7.4937703334638401,\n",
       " 7.7248296885994669,\n",
       " 7.2098804017492935,\n",
       " 7.6182601909468417,\n",
       " 6.5886273772894492,\n",
       " 8.2246406632248696,\n",
       " 8.0403358219136507,\n",
       " 8.7236544914867196,\n",
       " 9.0726059666302348,\n",
       " 8.1119462996600706,\n",
       " 9.3305134059998185,\n",
       " 8.4274218969337955,\n",
       " 9.6757280524737368,\n",
       " 8.5244438558093663,\n",
       " 9.8892600907415957,\n",
       " 9.1108428599751683,\n",
       " 8.3217188753066438,\n",
       " 8.9726857669860749,\n",
       " 8.379731300597415,\n",
       " 9.4292602562412462,\n",
       " 8.9505306977737877,\n",
       " 8.9242020752863365,\n",
       " 9.4729771598033246,\n",
       " 8.9501822817561969,\n",
       " 8.8149201469936465,\n",
       " 9.0454271271127915,\n",
       " 8.1216247960159329,\n",
       " 8.8435958891970916,\n",
       " 8.7471665683418465,\n",
       " 8.6748118088126542,\n",
       " 7.7300707197181637,\n",
       " 7.874284724918347,\n",
       " 8.283902593827559,\n",
       " 8.1417425076065104,\n",
       " 8.4136608274595517,\n",
       " 7.5993430400947766,\n",
       " 7.5460624105443701,\n",
       " 7.7964048936324,\n",
       " 7.9964717937567391,\n",
       " 7.4914594184625667,\n",
       " 7.630366751384039,\n",
       " 7.1619897518521345,\n",
       " 7.6963447117874564,\n",
       " 7.529474196822167,\n",
       " 8.191375342336336,\n",
       " 8.0398446528059413,\n",
       " 8.4318291210945304]"
      ]
     },
     "execution_count": 43,
     "metadata": {},
     "output_type": "execute_result"
    }
   ],
   "source": [
    "forecast[:99]"
   ]
  },
  {
   "cell_type": "code",
   "execution_count": null,
   "metadata": {},
   "outputs": [],
   "source": []
  },
  {
   "cell_type": "markdown",
   "metadata": {},
   "source": [
    "## Vector Autoregressive - VAR"
   ]
  },
  {
   "cell_type": "code",
   "execution_count": 18,
   "metadata": {},
   "outputs": [
    {
     "name": "stderr",
     "output_type": "stream",
     "text": [
      "C:\\Users\\cseve\\Anaconda3\\lib\\site-packages\\statsmodels\\compat\\pandas.py:56: FutureWarning: The pandas.core.datetools module is deprecated and will be removed in a future version. Please use the pandas.tseries module instead.\n",
      "  from pandas.core import datetools\n"
     ]
    }
   ],
   "source": [
    "from statsmodels.tsa.api import VAR, DynamicVAR"
   ]
  },
  {
   "cell_type": "code",
   "execution_count": 19,
   "metadata": {},
   "outputs": [],
   "source": [
    "def var_forecast(train, test, target, order, step):\n",
    "    model = VAR(train.values)\n",
    "    results = model.fit(maxlags=order)\n",
    "    lag_order = results.k_ar\n",
    "    print(\"Lag order:\" + str(lag_order))\n",
    "    forecast = []\n",
    "\n",
    "    for i in np.arange(0,len(test)-lag_order+1,step) :\n",
    "        forecast.extend(results.forecast(test.values[i:i+lag_order],step))\n",
    "\n",
    "    forecast_df = pd.DataFrame(columns=test.columns, data=forecast)\n",
    "    return forecast_df[target].values"
   ]
  },
  {
   "cell_type": "code",
   "execution_count": 20,
   "metadata": {},
   "outputs": [
    {
     "name": "stderr",
     "output_type": "stream",
     "text": [
      "C:\\Users\\cseve\\Anaconda3\\lib\\site-packages\\statsmodels\\tsa\\vector_ar\\var_model.py:461: FutureWarning: `rcond` parameter will change to the default of machine precision times ``max(M, N)`` where M and N are the input matrix dimensions.\n",
      "To use the future default and silence this warning we advise to pass `rcond=None`, to keep using the old, explicitly pass `rcond=-1`.\n",
      "  params = np.linalg.lstsq(z, y_sample)[0]\n"
     ]
    },
    {
     "name": "stdout",
     "output_type": "stream",
     "text": [
      "Lag order:4\n"
     ]
    }
   ],
   "source": [
    "var_order = 4\n",
    "step = 1\n",
    "\n",
    "forecast = var_forecast(norm_train_df[neighbor_stations_90], norm_test_df[neighbor_stations_90], target_station, var_order, step)\n",
    "forecast = denormalize(forecast, min_raw, max_raw)"
   ]
  },
  {
   "cell_type": "code",
   "execution_count": 21,
   "metadata": {},
   "outputs": [
    {
     "name": "stdout",
     "output_type": "stream",
     "text": [
      "RMSE : 0.5926842747779723\n"
     ]
    }
   ],
   "source": [
    "rmse = calculate_rmse(test_df[target_station], forecast, var_order, step)"
   ]
  },
  {
   "cell_type": "code",
   "execution_count": 26,
   "metadata": {},
   "outputs": [],
   "source": [
    "result = {'rmse': rmse, 'final': forecast}\n",
    "save_obj(result, name=\"wind_raw_var_1\")"
   ]
  },
  {
   "cell_type": "markdown",
   "metadata": {},
   "source": [
    "## Long Short Term Memory - LSTM"
   ]
  },
  {
   "cell_type": "code",
   "execution_count": 25,
   "metadata": {},
   "outputs": [],
   "source": [
    "from keras.models import Sequential\n",
    "from keras.layers import Dense\n",
    "from keras.layers import LSTM"
   ]
  },
  {
   "cell_type": "markdown",
   "metadata": {},
   "source": [
    "## Multivariate LSTM"
   ]
  },
  {
   "cell_type": "code",
   "execution_count": 27,
   "metadata": {},
   "outputs": [],
   "source": [
    "# convert series to supervised learning\n",
    "def series_to_supervised(data, n_in=1, n_out=1, dropnan=True):\n",
    "    n_vars = 1 if type(data) is list else data.shape[1]\n",
    "    df = pd.DataFrame(data)\n",
    "    cols, names = list(), list()\n",
    "    # input sequence (t-n, ... t-1)\n",
    "    for i in range(n_in, 0, -1):\n",
    "        cols.append(df.shift(i))\n",
    "        names += [('var%d(t-%d)' % (j+1, i)) for j in range(n_vars)]\n",
    "    # forecast sequence (t, t+1, ... t+n)\n",
    "    for i in range(0, n_out):\n",
    "        cols.append(df.shift(-i))\n",
    "        if i == 0:\n",
    "            names += [('var%d(t)' % (j+1)) for j in range(n_vars)]\n",
    "        else:\n",
    "            names += [('var%d(t+%d)' % (j+1, i)) for j in range(n_vars)]\n",
    "    # put it all together\n",
    "    agg = pd.concat(cols, axis=1)\n",
    "    agg.columns = names\n",
    "    # drop rows with NaN values\n",
    "    if dropnan:\n",
    "        agg.dropna(inplace=True)\n",
    "    return agg"
   ]
  },
  {
   "cell_type": "code",
   "execution_count": 28,
   "metadata": {},
   "outputs": [],
   "source": [
    "def lstm_multi_forecast(train_df, test_df, _order, _steps, _neurons, _epochs):\n",
    "\n",
    "    \n",
    "    nfeat = len(train_df.columns)\n",
    "    nlags = _order\n",
    "    nsteps = _steps\n",
    "    nobs = nlags * nfeat\n",
    "    \n",
    "    train_reshaped_df = series_to_supervised(train_df, n_in=nlags, n_out=nsteps)\n",
    "    train_X, train_Y = train_reshaped_df.iloc[:,:nobs].values, train_reshaped_df.iloc[:,-nfeat].values\n",
    "    train_X = train_X.reshape((train_X.shape[0], nlags, nfeat))\n",
    "    \n",
    "    test_reshaped_df = series_to_supervised(test_df, n_in=nlags, n_out=nsteps)\n",
    "    test_X, test_Y = test_reshaped_df.iloc[:,:nobs].values, test_reshaped_df.iloc[:,-nfeat].values\n",
    "    test_X = test_X.reshape((test_X.shape[0], nlags, nfeat))\n",
    "    \n",
    "    # design network\n",
    "    model = Sequential()\n",
    "    model.add(LSTM(_neurons, input_shape=(train_X.shape[1], train_X.shape[2])))\n",
    "    model.add(Dense(1))\n",
    "    model.compile(loss='mae', optimizer='adam')\n",
    "    \n",
    "    # fit network\n",
    "    model.fit(train_X, train_Y, epochs=_epochs, batch_size=72, verbose=False, shuffle=False)\n",
    "    \n",
    "    forecast = model.predict(test_X)\n",
    "        \n",
    "    return forecast"
   ]
  },
  {
   "cell_type": "code",
   "execution_count": 29,
   "metadata": {},
   "outputs": [],
   "source": [
    "neurons = 50\n",
    "lstm_order = 2\n",
    "epochs = 100\n",
    "steps = 1\n",
    "\n",
    "forecast = lstm_multi_forecast(norm_train_df[neighbor_stations_90], norm_test_df[neighbor_stations_90], lstm_order, steps, neurons, epochs)\n",
    "forecast = denormalize(forecast, min_raw, max_raw)"
   ]
  },
  {
   "cell_type": "code",
   "execution_count": 30,
   "metadata": {},
   "outputs": [],
   "source": [
    "forecast.append(0) ## para manter o mesmo tamanho dos demais"
   ]
  },
  {
   "cell_type": "code",
   "execution_count": 31,
   "metadata": {},
   "outputs": [
    {
     "name": "stdout",
     "output_type": "stream",
     "text": [
      "RMSE : 0.6401103021592297\n"
     ]
    }
   ],
   "source": [
    "rmse = calculate_rmse(test_df[target_station], forecast, lstm_order, step)"
   ]
  },
  {
   "cell_type": "code",
   "execution_count": 46,
   "metadata": {},
   "outputs": [],
   "source": [
    "result = {'rmse': rmse, 'final': forecast}\n",
    "save_obj(result, name=\"wind_raw_lstm_multi_1\")"
   ]
  },
  {
   "cell_type": "markdown",
   "metadata": {},
   "source": [
    "## Univariate LSTM"
   ]
  },
  {
   "cell_type": "code",
   "execution_count": 32,
   "metadata": {},
   "outputs": [],
   "source": [
    "neurons = 50\n",
    "lstm_order = 2\n",
    "epochs = 100\n",
    "steps = 1\n",
    "\n",
    "forecast = lstm_multi_forecast(norm_train_df[[target_station]], norm_test_df[[target_station]], lstm_order, steps, neurons, epochs)\n",
    "forecast = denormalize(forecast, min_raw, max_raw)"
   ]
  },
  {
   "cell_type": "code",
   "execution_count": 33,
   "metadata": {},
   "outputs": [],
   "source": [
    "forecast.append(0) ## para manter o mesmo tamanho dos demais"
   ]
  },
  {
   "cell_type": "code",
   "execution_count": 34,
   "metadata": {},
   "outputs": [
    {
     "name": "stdout",
     "output_type": "stream",
     "text": [
      "RMSE : 0.6539938570187164\n"
     ]
    }
   ],
   "source": [
    "rmse = calculate_rmse(test_df[target_station], forecast, lstm_order, step)\n",
    "result = {'rmse': rmse, 'final': forecast}\n",
    "save_obj(result, name=\"wind_raw_lstm_uni_1\")"
   ]
  },
  {
   "cell_type": "code",
   "execution_count": null,
   "metadata": {},
   "outputs": [],
   "source": []
  },
  {
   "cell_type": "markdown",
   "metadata": {},
   "source": [
    "## Multi Layer Perceptron - MLP"
   ]
  },
  {
   "cell_type": "code",
   "execution_count": 35,
   "metadata": {},
   "outputs": [],
   "source": [
    "# convert series to supervised learning\n",
    "def series_to_supervised(data, n_in=1, n_out=1, dropnan=True):\n",
    "    n_vars = 1 if type(data) is list else data.shape[1]\n",
    "    df = pd.DataFrame(data)\n",
    "    cols, names = list(), list()\n",
    "    # input sequence (t-n, ... t-1)\n",
    "    for i in range(n_in, 0, -1):\n",
    "        cols.append(df.shift(i))\n",
    "        names += [('var%d(t-%d)' % (j+1, i)) for j in range(n_vars)]\n",
    "    # forecast sequence (t, t+1, ... t+n)\n",
    "    for i in range(0, n_out):\n",
    "        cols.append(df.shift(-i))\n",
    "        if i == 0:\n",
    "            names += [('var%d(t)' % (j+1)) for j in range(n_vars)]\n",
    "        else:\n",
    "            names += [('var%d(t+%d)' % (j+1, i)) for j in range(n_vars)]\n",
    "    # put it all together\n",
    "    agg = pd.concat(cols, axis=1)\n",
    "    agg.columns = names\n",
    "    # drop rows with NaN values\n",
    "    if dropnan:\n",
    "        agg.dropna(inplace=True)\n",
    "    return agg"
   ]
  },
  {
   "cell_type": "code",
   "execution_count": 36,
   "metadata": {},
   "outputs": [],
   "source": [
    "def mlp_forecast(train_df, test_df, _order, _steps, _neurons, _epochs):\n",
    "\n",
    "    \n",
    "    nfeat = len(train_df.columns)\n",
    "    nlags = _order\n",
    "    nsteps = _steps\n",
    "    nobs = nlags * nfeat\n",
    "    \n",
    "    train_reshaped_df = series_to_supervised(train_df, n_in=nlags, n_out=nsteps)\n",
    "    train_X, train_Y = train_reshaped_df.iloc[:,:nobs].values, train_reshaped_df.iloc[:,-nfeat].values\n",
    "    \n",
    "    test_reshaped_df = series_to_supervised(test_df, n_in=nlags, n_out=nsteps)\n",
    "    test_X, test_Y = test_reshaped_df.iloc[:,:nobs].values, test_reshaped_df.iloc[:,-nfeat].values\n",
    "    \n",
    "    # design network\n",
    "    model = Sequential()\n",
    "    model.add(Dense(neurons, activation='relu', input_dim=train_X.shape[1]))\n",
    "    model.add(Dense(1))\n",
    "    model.compile(loss='mean_squared_error', optimizer='adam')\n",
    "\n",
    "    # fit network\n",
    "    history = model.fit(train_X, train_Y, epochs=_epochs, batch_size=72, verbose=False, shuffle=False)   \n",
    "\n",
    "    forecast = model.predict(test_X)\n",
    "        \n",
    "    return forecast"
   ]
  },
  {
   "cell_type": "code",
   "execution_count": 37,
   "metadata": {},
   "outputs": [],
   "source": [
    "neurons = 50\n",
    "mlp_order = 2\n",
    "epochs = 500\n",
    "steps = 1\n",
    "\n",
    "forecast = mlp_forecast(norm_train_df[neighbor_stations_90], norm_test_df[neighbor_stations_90], mlp_order, steps, neurons, epochs)\n",
    "forecast = denormalize(forecast, min_raw, max_raw)"
   ]
  },
  {
   "cell_type": "code",
   "execution_count": 38,
   "metadata": {},
   "outputs": [],
   "source": [
    "forecast.append(0) ## para manter o mesmo tamanho dos demais"
   ]
  },
  {
   "cell_type": "code",
   "execution_count": 39,
   "metadata": {},
   "outputs": [
    {
     "name": "stdout",
     "output_type": "stream",
     "text": [
      "RMSE : 0.6597416765770521\n"
     ]
    }
   ],
   "source": [
    "rmse = calculate_rmse(test_df[target_station], forecast, mlp_order, steps)"
   ]
  },
  {
   "cell_type": "code",
   "execution_count": 40,
   "metadata": {},
   "outputs": [],
   "source": [
    "result = {'rmse': rmse, 'final': forecast}\n",
    "save_obj(result, name=\"wind_raw_mlp_multi_1\")"
   ]
  },
  {
   "cell_type": "markdown",
   "metadata": {},
   "source": [
    "## Univariate MLP"
   ]
  },
  {
   "cell_type": "code",
   "execution_count": 41,
   "metadata": {},
   "outputs": [
    {
     "name": "stdout",
     "output_type": "stream",
     "text": [
      "RMSE : 0.6395343954722552\n"
     ]
    }
   ],
   "source": [
    "neurons = 50\n",
    "mlp_order = 4\n",
    "epochs = 500\n",
    "steps = 1\n",
    "\n",
    "forecast = mlp_forecast(norm_train_df[[target_station]], norm_test_df[[target_station]], mlp_order, steps, neurons, epochs)\n",
    "forecast = denormalize(forecast, min_raw, max_raw)\n",
    "\n",
    "forecast.append(0) ## para manter o mesmo tamanho dos demais\n",
    "\n",
    "rmse = calculate_rmse(test_df[target_station], forecast, mlp_order, steps)"
   ]
  },
  {
   "cell_type": "code",
   "execution_count": 42,
   "metadata": {},
   "outputs": [],
   "source": [
    "result = {'rmse': rmse, 'final': forecast}\n",
    "save_obj(result, name=\"wind_raw_mlp_uni_1\")"
   ]
  },
  {
   "cell_type": "markdown",
   "metadata": {},
   "source": [
    "## High Order FTS"
   ]
  },
  {
   "cell_type": "code",
   "execution_count": 15,
   "metadata": {},
   "outputs": [],
   "source": [
    "from pyFTS.partitioners import Grid, Entropy, Util as pUtil\n",
    "from pyFTS.models import hofts\n",
    "from pyFTS.common import Transformations"
   ]
  },
  {
   "cell_type": "code",
   "execution_count": 17,
   "metadata": {},
   "outputs": [],
   "source": [
    "def hofts_forecast(train_df, test_df, _order, _partitioner, _npartitions):\n",
    "    \n",
    "    fuzzy_sets = _partitioner(data=train_df.values, npart=_npartitions)\n",
    "    model_simple_hofts = hofts.HighOrderFTS()\n",
    "    \n",
    "\n",
    "    model_simple_hofts.fit(train_df.values, order=_order, partitioner=fuzzy_sets)\n",
    "\n",
    "    \n",
    "    forecast = model_simple_hofts.predict(test_df.values)\n",
    "\n",
    "    return forecast"
   ]
  },
  {
   "cell_type": "code",
   "execution_count": 20,
   "metadata": {},
   "outputs": [],
   "source": [
    "hofts_order = 3\n",
    "#partitioner = Entropy.EntropyPartitioner\n",
    "partitioner = Grid.GridPartitioner\n",
    "nparts = 80\n",
    "\n",
    "\n",
    "forecast = hofts_forecast(norm_train_df[target_station], norm_test_df[target_station], hofts_order, partitioner, nparts)\n",
    "forecast = denormalize(forecast, min_raw, max_raw)"
   ]
  },
  {
   "cell_type": "code",
   "execution_count": 21,
   "metadata": {},
   "outputs": [
    {
     "name": "stdout",
     "output_type": "stream",
     "text": [
      "RMSE : 0.6389693371408669\n"
     ]
    }
   ],
   "source": [
    "step = 1\n",
    "rmse = calculate_rmse(test_df[target_station], forecast, hofts_order, step)"
   ]
  },
  {
   "cell_type": "code",
   "execution_count": 60,
   "metadata": {},
   "outputs": [],
   "source": [
    "result = {'rmse': rmse, 'final': forecast}\n",
    "save_obj(result, name=\"wind_raw_hofts_1\")"
   ]
  },
  {
   "cell_type": "markdown",
   "metadata": {},
   "source": [
    "## Clustered Multivariate"
   ]
  },
  {
   "cell_type": "code",
   "execution_count": 22,
   "metadata": {},
   "outputs": [],
   "source": [
    "from models import KMeansPartitioner\n",
    "from models import sthofts"
   ]
  },
  {
   "cell_type": "code",
   "execution_count": 23,
   "metadata": {},
   "outputs": [
    {
     "data": {
      "text/plain": [
       "<module 'models.sthofts' from '/Users/cseveriano/Google Drive/Doutorado/Codes/spatio-temporal-forecasting/src/models/sthofts.py'>"
      ]
     },
     "execution_count": 23,
     "metadata": {},
     "output_type": "execute_result"
    }
   ],
   "source": [
    "import importlib\n",
    "importlib.reload(sthofts)"
   ]
  },
  {
   "cell_type": "code",
   "execution_count": 24,
   "metadata": {},
   "outputs": [],
   "source": [
    "def sthofts_forecast(train_df, test_df, target, _order, npartitions):\n",
    "    \n",
    "    _partitioner = KMeansPartitioner.KMeansPartitioner(data=train_df.values, npart=npartitions, batch_size=1000, init_size=npartitions*3)\n",
    "    model_sthofts = sthofts.SpatioTemporalHighOrderFTS()\n",
    "    \n",
    "    model_sthofts.fit(train_df.values, num_batches=100, order=_order, partitioner=_partitioner)\n",
    "    forecast = model_sthofts.predict(test_df.values)\n",
    "    forecast_df = pd.DataFrame(data=forecast, columns=test_df.columns)\n",
    "    return forecast_df[target].values"
   ]
  },
  {
   "cell_type": "code",
   "execution_count": 25,
   "metadata": {},
   "outputs": [],
   "source": [
    "sthofts_order = 4\n",
    "nparts = 20\n",
    "\n",
    "\n",
    "forecast = sthofts_forecast(norm_train_df[neighbor_stations_90], norm_test_df[neighbor_stations_90], target_station, sthofts_order, nparts)\n",
    "forecast = denormalize(forecast, min_raw, max_raw)"
   ]
  },
  {
   "cell_type": "code",
   "execution_count": 26,
   "metadata": {},
   "outputs": [
    {
     "name": "stdout",
     "output_type": "stream",
     "text": [
      "RMSE : 0.8585187497096866\n"
     ]
    }
   ],
   "source": [
    "step = 1\n",
    "rmse = calculate_rmse(test_df[target_station], forecast, sthofts_order, step)"
   ]
  },
  {
   "cell_type": "code",
   "execution_count": 27,
   "metadata": {},
   "outputs": [],
   "source": [
    "result = {'rmse': rmse, 'final': forecast}\n",
    "save_obj(result, name=\"wind_raw_sthofts_1\")"
   ]
  },
  {
   "cell_type": "markdown",
   "metadata": {},
   "source": [
    "## Conditional Variance FTS - CVFTS"
   ]
  },
  {
   "cell_type": "code",
   "execution_count": 28,
   "metadata": {},
   "outputs": [],
   "source": [
    "from pyFTS.models.nonstationary import cvfts\n",
    "from pyFTS.models.nonstationary import partitioners as nspartitioners"
   ]
  },
  {
   "cell_type": "code",
   "execution_count": 29,
   "metadata": {},
   "outputs": [],
   "source": [
    "def cvfts_forecast(train, test, _partitioner,_partitions):\n",
    "    \n",
    "    fuzzy_sets =  nspartitioners.PolynomialNonStationaryPartitioner(data=train.values, part=_partitioner(data=train.values, npart=_partitions), degree=2)\n",
    "                    \n",
    "    model_cvfts = cvfts.ConditionalVarianceFTS()\n",
    "    model_cvfts.fit(train.values, parameters=1, partitioner=fuzzy_sets)\n",
    "\n",
    "    forecast = model_cvfts.predict(test.values)\n",
    "\n",
    "    return forecast"
   ]
  },
  {
   "cell_type": "code",
   "execution_count": 35,
   "metadata": {},
   "outputs": [],
   "source": [
    "partitioner = Grid.GridPartitioner\n",
    "nparts = 90\n",
    "\n",
    "\n",
    "forecast = cvfts_forecast(norm_train_df[target_station], norm_test_df[target_station], partitioner, nparts)\n",
    "forecast = denormalize(forecast, min_raw, max_raw)"
   ]
  },
  {
   "cell_type": "code",
   "execution_count": 36,
   "metadata": {},
   "outputs": [
    {
     "name": "stdout",
     "output_type": "stream",
     "text": [
      "RMSE : 0.669826676077098\n"
     ]
    }
   ],
   "source": [
    "step = 1\n",
    "rmse = calculate_rmse(test_df[target_station], forecast, 1, step)\n",
    "result = {'rmse': rmse, 'final': forecast}\n",
    "save_obj(result, name=\"wind_raw_cvfts_1\")"
   ]
  }
 ],
 "metadata": {
  "kernelspec": {
   "display_name": "Python 3",
   "language": "python",
   "name": "python3"
  },
  "language_info": {
   "codemirror_mode": {
    "name": "ipython",
    "version": 3
   },
   "file_extension": ".py",
   "mimetype": "text/x-python",
   "name": "python",
   "nbconvert_exporter": "python",
   "pygments_lexer": "ipython3",
   "version": "3.6.4"
  }
 },
 "nbformat": 4,
 "nbformat_minor": 2
}
