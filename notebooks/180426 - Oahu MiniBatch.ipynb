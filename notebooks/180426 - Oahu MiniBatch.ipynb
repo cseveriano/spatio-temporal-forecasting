{
 "cells": [
  {
   "cell_type": "code",
   "execution_count": 1,
   "metadata": {},
   "outputs": [],
   "source": [
    "from sklearn.cluster import MeanShift, estimate_bandwidth\n",
    "\n",
    "import pandas as pd\n",
    "import numpy as np\n",
    "import matplotlib.pyplot as plt\n",
    "import datetime\n",
    "import math\n",
    "\n",
    "import os\n",
    "import sys\n",
    "from numpy.fft import fft, ifft\n",
    "import glob"
   ]
  },
  {
   "cell_type": "code",
   "execution_count": 2,
   "metadata": {},
   "outputs": [],
   "source": [
    "def remove_periodic(X, df_index, detrending=True, model='additive', frequency_threshold=0.1e12):\n",
    "    rad = np.array(X)\n",
    "    \n",
    "    if detrending:\n",
    "        det_rad = rad - np.average(rad)\n",
    "    else:\n",
    "        det_rad = rad\n",
    "    \n",
    "    det_rad_fft = fft(det_rad)\n",
    "\n",
    "    # Get the power spectrum\n",
    "    rad_ps = [np.abs(rd)**2 for rd in det_rad_fft]\n",
    "    \n",
    "    clean_rad_fft = [det_rad_fft[i] if rad_ps[i] > frequency_threshold else 0 \n",
    "                     for i in range(len(det_rad_fft))]\n",
    "    \n",
    "    rad_series_clean = ifft(clean_rad_fft)\n",
    "    rad_series_clean = [value.real for value in rad_series_clean]\n",
    "    \n",
    "    if detrending:\n",
    "        rad_trends = rad_series_clean + np.average(rad)\n",
    "    else:\n",
    "        rad_trends = rad_series_clean\n",
    "        \n",
    "    rad_clean_ts = pd.Series(rad_trends, index=df_index)\n",
    "    \n",
    "    #rad_clean_ts[(rad_clean_ts.index.hour < 6) | (rad_clean_ts.index.hour > 20)] = 0\n",
    "    residual = rad - rad_clean_ts.values\n",
    "    clean = rad_clean_ts.values\n",
    "    return residual, clean"
   ]
  },
  {
   "cell_type": "code",
   "execution_count": 3,
   "metadata": {},
   "outputs": [],
   "source": [
    "def load_data(path, resampling=None):\n",
    "    ## some resampling options: 'H' - hourly, '15min' - 15 minutes, 'M' - montlhy\n",
    "    ## more options at:\n",
    "    ## http://benalexkeen.com/resampling-time-series-data-with-pandas/\n",
    "    allFiles = glob.iglob(path + \"/**/*.txt\", recursive=True)\n",
    "    frame = pd.DataFrame()\n",
    "    list_ = []\n",
    "    for file_ in allFiles:\n",
    "        #print(\"Reading: \",file_)\n",
    "        df = pd.read_csv(file_,index_col=\"datetime\",parse_dates=['datetime'], header=0, sep=\",\")\n",
    "        if frame.columns is None :\n",
    "            frame.columns = df.columns\n",
    "        list_.append(df)\n",
    "    frame = pd.concat(list_)\n",
    "    if resampling is not None:\n",
    "        frame = frame.resample(resampling).mean()\n",
    "    frame = frame.fillna(method='ffill')\n",
    "    return frame"
   ]
  },
  {
   "cell_type": "code",
   "execution_count": 4,
   "metadata": {},
   "outputs": [],
   "source": [
    "def create_spatio_temporal_data(nrel_df):\n",
    "    lat = [21.31236,21.31303,21.31357,21.31183,21.31042,21.31268,21.31451,21.31533,21.30812,21.31276,21.31281,21.30983,21.31141,21.31478,21.31179,21.31418,21.31034]\n",
    "    lon = [-158.08463,-158.08505,-158.08424,-158.08554,-158.0853,-158.08688,-158.08534,-158.087,-158.07935,-158.08389,-158.08163,-158.08249,-158.07947,-158.07785,-158.08678,-158.08685,-158.08675]\n",
    "    additional_info = pd.DataFrame({'station': df.columns, 'latitude': lat, 'longitude': lon })\n",
    "    ll = []\n",
    "    for ind, row in nrel_df.iterrows():\n",
    "        for col in nrel_df.columns:\n",
    "            lat = additional_info[(additional_info.station == col)].latitude.values[0]\n",
    "            lon = additional_info[(additional_info.station == col)].longitude.values[0]\n",
    "            irradiance = row[col]\n",
    "            ll.append([lat, lon, irradiance])  \n",
    "\n",
    "    return pd.DataFrame(columns=['latitude','longitude','irradiance'], data=ll)"
   ]
  },
  {
   "cell_type": "code",
   "execution_count": 5,
   "metadata": {},
   "outputs": [],
   "source": [
    "path = '/Users/cseveriano/spatio-temporal-forecasting/data/processed/NREL/Oahu'\n",
    "\n",
    "df = load_data(path)\n",
    "\n",
    "# Corrigir ordem das colunas\n",
    "df.columns = ['DHHL_3','DHHL_4', 'DHHL_5', 'DHHL_10', 'DHHL_11', 'DHHL_9', 'DHHL_2', 'DHHL_1', 'DHHL_1_Tilt', 'AP_6', 'AP_6_Tilt', 'AP_1', 'AP_3', 'AP_5', 'AP_4', 'AP_7', 'DHHL_6', 'DHHL_7', 'DHHL_8']\n",
    "#inicio dos dados possui falhas na medicao\n",
    "df = df.loc[df.index > '2010-03-20']\n",
    "df.drop(['DHHL_1_Tilt', 'AP_6_Tilt'], axis=1, inplace=True)"
   ]
  },
  {
   "cell_type": "markdown",
   "metadata": {},
   "source": [
    "## Preparação bases de treinamento e testes"
   ]
  },
  {
   "cell_type": "code",
   "execution_count": 6,
   "metadata": {},
   "outputs": [],
   "source": [
    "clean_df = pd.DataFrame(columns=df.columns, index=df.index)\n",
    "residual_df = pd.DataFrame(columns=df.columns, index=df.index)\n",
    "\n",
    "for col in df.columns:\n",
    "    residual, clean = remove_periodic(df[col].tolist(), df.index, frequency_threshold=0.01e12)\n",
    "    clean_df[col] = clean.tolist()\n",
    "    residual_df[col] = residual.tolist()"
   ]
  },
  {
   "cell_type": "code",
   "execution_count": 7,
   "metadata": {},
   "outputs": [],
   "source": [
    "train_df = df[(df.index >= '2010-09-01') & (df.index <= '2011-09-01')]\n",
    "train_clean_df = clean_df[(clean_df.index >= '2010-09-01') & (clean_df.index <= '2011-09-01')]\n",
    "train_residual_df = residual_df[(residual_df.index >= '2010-09-01') & (residual_df.index <= '2011-09-01')]\n",
    "\n",
    "\n",
    "test_df = df[(df.index >= '2010-08-05')& (df.index < '2010-08-06')]\n",
    "test_clean_df = clean_df[(clean_df.index >= '2010-08-05')& (clean_df.index < '2010-08-06')]\n",
    "test_residual_df = residual_df[(residual_df.index >= '2010-08-05')& (residual_df.index < '2010-08-06')]"
   ]
  },
  {
   "cell_type": "code",
   "execution_count": 8,
   "metadata": {},
   "outputs": [],
   "source": [
    "# ms_df = create_spatio_temporal_data(train_residual_df)\n",
    "# ms_df.to_pickle(\"cluster_df.pkl\")"
   ]
  },
  {
   "cell_type": "code",
   "execution_count": 9,
   "metadata": {},
   "outputs": [],
   "source": [
    "ms_df = pd.read_pickle(\"cluster_df.pkl\")"
   ]
  },
  {
   "cell_type": "code",
   "execution_count": 10,
   "metadata": {},
   "outputs": [],
   "source": [
    "from sklearn import preprocessing\n",
    "\n",
    "X = ms_df.values #returns a numpy array\n",
    "min_max_scaler = preprocessing.MinMaxScaler()\n",
    "X = min_max_scaler.fit_transform(X)"
   ]
  },
  {
   "cell_type": "markdown",
   "metadata": {},
   "source": [
    "## Mini-batch KMeans\n"
   ]
  },
  {
   "cell_type": "code",
   "execution_count": 11,
   "metadata": {},
   "outputs": [],
   "source": [
    "from sklearn.cluster import MiniBatchKMeans\n",
    "from sklearn.metrics import silhouette_samples, silhouette_score"
   ]
  },
  {
   "cell_type": "markdown",
   "metadata": {},
   "source": [
    "Busca de melhor valor k com base no Sillouette Coefficient"
   ]
  },
  {
   "cell_type": "code",
   "execution_count": 22,
   "metadata": {},
   "outputs": [
    {
     "name": "stdout",
     "output_type": "stream",
     "text": [
      "Starting Loop\n"
     ]
    },
    {
     "data": {
      "text/plain": [
       "[<matplotlib.lines.Line2D at 0x1146239e8>]"
      ]
     },
     "execution_count": 22,
     "metadata": {},
     "output_type": "execute_result"
    },
    {
     "data": {
      "image/png": "[encoded data removed]",
      "text/plain": [
       "<matplotlib.figure.Figure at 0x1139b3860>"
      ]
     },
     "metadata": {},
     "output_type": "display_data"
    }
   ],
   "source": [
    "batch_size = 1000\n",
    "init_size = 1000\n",
    "range_n_clusters = np.arange(2,40)\n",
    "print(\"Starting Loop\")\n",
    "results = []\n",
    "\n",
    "for n_clusters in range_n_clusters:\n",
    "\n",
    "#     print(\"Starting Mini-batch\")\n",
    "    clusterer = MiniBatchKMeans(init='k-means++', n_clusters=n_clusters, batch_size=batch_size, init_size=init_size,\n",
    "                      n_init=1, verbose=False)\n",
    "#     print(\"Starting Fit predict\")\n",
    "    cluster_labels = clusterer.fit_predict(X)\n",
    "\n",
    "    # The silhouette_score gives the average value for all the samples.\n",
    "    # This gives a perspective into the density and separation of the formed\n",
    "    # clusters\n",
    "#     print(\"Starting Silhouette\")\n",
    "    silhouette_avg = silhouette_score(X, cluster_labels, sample_size=10000)\n",
    "#     print(\"For n_clusters =\", n_clusters,\n",
    "#           \"The average silhouette_score is :\", silhouette_avg)\n",
    "    results.append(silhouette_avg)\n",
    "\n",
    "plt.plot(range_n_clusters,results)"
   ]
  },
  {
   "cell_type": "code",
   "execution_count": 25,
   "metadata": {},
   "outputs": [
    {
     "name": "stdout",
     "output_type": "stream",
     "text": [
      "Best value:  0.966338545956 Number of clusters:  17\n"
     ]
    }
   ],
   "source": [
    "print(\"Best value: \",max(results), \"Number of clusters: \", range_n_clusters[np.argmax(results)])"
   ]
  },
  {
   "cell_type": "code",
   "execution_count": 33,
   "metadata": {},
   "outputs": [
    {
     "name": "stdout",
     "output_type": "stream",
     "text": [
      "For n_clusters = 17 The average silhouette_score is : 0.967117541554\n"
     ]
    },
    {
     "data": {
      "image/png": "[encoded data removed]",
      "text/plain": [
       "<matplotlib.figure.Figure at 0x10d70d4e0>"
      ]
     },
     "metadata": {},
     "output_type": "display_data"
    }
   ],
   "source": [
    "import matplotlib.cm as cm\n",
    "\n",
    "n_clusters = 17\n",
    "n_samples = 10000\n",
    "# Create a subplot with 1 row and 2 columns\n",
    "fig, ax1 = plt.subplots(1)\n",
    "fig.set_size_inches(18, 7)\n",
    "\n",
    "# The 1st subplot is the silhouette plot\n",
    "ax1.set_xlim([-0.1, 1])\n",
    "# The (n_clusters+1)*10 is for inserting blank space between silhouette\n",
    "# plots of individual clusters, to demarcate them clearly.\n",
    "ax1.set_ylim([0, n_samples + (n_clusters + 1) * 10])\n",
    "\n",
    "# Initialize the clusterer with n_clusters value and a random generator\n",
    "# seed of 10 for reproducibility.\n",
    "clusterer = MiniBatchKMeans(init='k-means++', n_clusters=n_clusters, batch_size=batch_size, init_size=init_size,\n",
    "                      n_init=1, verbose=False)\n",
    "cluster_labels = clusterer.fit_predict(X)\n",
    "\n",
    "# The silhouette_score gives the average value for all the samples.\n",
    "# This gives a perspective into the density and separation of the formed\n",
    "# clusters\n",
    "silhouette_avg = silhouette_score(X, cluster_labels, sample_size=n_samples)\n",
    "print(\"For n_clusters =\", n_clusters,\n",
    "          \"The average silhouette_score is :\", silhouette_avg)\n",
    "\n",
    "idx = np.random.choice(np.arange(len(X)), n_samples, replace=False)\n",
    "x_sample = X[idx]\n",
    "c_sample = cluster_labels[idx]\n",
    "\n",
    "\n",
    "sample_silhouette_values = silhouette_samples(x_sample, c_sample)\n",
    "\n",
    "y_lower = 10\n",
    "for i in range(n_clusters):\n",
    "    # Aggregate the silhouette scores for samples belonging to\n",
    "    # cluster i, and sort them\n",
    "    ith_cluster_silhouette_values = sample_silhouette_values[c_sample == i]\n",
    "\n",
    "\n",
    "    ith_cluster_silhouette_values.sort()\n",
    "\n",
    "    size_cluster_i = ith_cluster_silhouette_values.shape[0]\n",
    "    y_upper = y_lower + size_cluster_i\n",
    "\n",
    "    color = cm.spectral(float(i) / n_clusters)\n",
    "    ax1.fill_betweenx(np.arange(y_lower, y_upper),\n",
    "                        0, ith_cluster_silhouette_values,\n",
    "                        facecolor=color, edgecolor=color, alpha=0.7)\n",
    "\n",
    "    # Label the silhouette plots with their cluster numbers at the middle\n",
    "    ax1.text(-0.05, y_lower + 0.5 * size_cluster_i, str(i))\n",
    "\n",
    "    # Compute the new y_lower for next plot\n",
    "    y_lower = y_upper + 10  # 10 for the 0 samples\n",
    "\n",
    "ax1.set_title(\"The silhouette plot for the various clusters.\")\n",
    "ax1.set_xlabel(\"The silhouette coefficient values\")\n",
    "ax1.set_ylabel(\"Cluster label\")\n",
    "\n",
    "# The vertical line for average silhouette score of all the values\n",
    "ax1.axvline(x=silhouette_avg, color=\"red\", linestyle=\"--\")\n",
    "\n",
    "ax1.set_yticks([])  # Clear the yaxis labels / ticks\n",
    "ax1.set_xticks([-0.1, 0, 0.2, 0.4, 0.6, 0.8, 1])\n",
    "\n",
    "plt.suptitle((\"Silhouette analysis for KMeans clustering on sample data \"\n",
    "                  \"with n_clusters = %d\" % n_clusters),\n",
    "                 fontsize=14, fontweight='bold')\n",
    "\n",
    "plt.show()"
   ]
  }
 ],
 "metadata": {
  "kernelspec": {
   "display_name": "Python 3",
   "language": "python",
   "name": "python3"
  },
  "language_info": {
   "codemirror_mode": {
    "name": "ipython",
    "version": 3
   },
   "file_extension": ".py",
   "mimetype": "text/x-python",
   "name": "python",
   "nbconvert_exporter": "python",
   "pygments_lexer": "ipython3",
   "version": "3.6.4"
  }
 },
 "nbformat": 4,
 "nbformat_minor": 2
}
