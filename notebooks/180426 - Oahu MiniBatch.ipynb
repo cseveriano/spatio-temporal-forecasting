{
 "cells": [
  {
   "cell_type": "code",
   "execution_count": 1,
   "metadata": {},
   "outputs": [],
   "source": [
    "from sklearn.cluster import MeanShift, estimate_bandwidth\n",
    "\n",
    "import pandas as pd\n",
    "import numpy as np\n",
    "import matplotlib.pyplot as plt\n",
    "import datetime\n",
    "import math\n",
    "\n",
    "import os\n",
    "import sys\n",
    "from numpy.fft import fft, ifft\n",
    "import glob"
   ]
  },
  {
   "cell_type": "code",
   "execution_count": 2,
   "metadata": {},
   "outputs": [],
   "source": [
    "def remove_periodic(X, df_index, detrending=True, model='additive', frequency_threshold=0.1e12):\n",
    "    rad = np.array(X)\n",
    "    \n",
    "    if detrending:\n",
    "        det_rad = rad - np.average(rad)\n",
    "    else:\n",
    "        det_rad = rad\n",
    "    \n",
    "    det_rad_fft = fft(det_rad)\n",
    "\n",
    "    # Get the power spectrum\n",
    "    rad_ps = [np.abs(rd)**2 for rd in det_rad_fft]\n",
    "    \n",
    "    clean_rad_fft = [det_rad_fft[i] if rad_ps[i] > frequency_threshold else 0 \n",
    "                     for i in range(len(det_rad_fft))]\n",
    "    \n",
    "    rad_series_clean = ifft(clean_rad_fft)\n",
    "    rad_series_clean = [value.real for value in rad_series_clean]\n",
    "    \n",
    "    if detrending:\n",
    "        rad_trends = rad_series_clean + np.average(rad)\n",
    "    else:\n",
    "        rad_trends = rad_series_clean\n",
    "        \n",
    "    rad_clean_ts = pd.Series(rad_trends, index=df_index)\n",
    "    \n",
    "    #rad_clean_ts[(rad_clean_ts.index.hour < 6) | (rad_clean_ts.index.hour > 20)] = 0\n",
    "    residual = rad - rad_clean_ts.values\n",
    "    clean = rad_clean_ts.values\n",
    "    return residual, clean"
   ]
  },
  {
   "cell_type": "code",
   "execution_count": 3,
   "metadata": {},
   "outputs": [],
   "source": [
    "def load_data(path, resampling=None):\n",
    "    ## some resampling options: 'H' - hourly, '15min' - 15 minutes, 'M' - montlhy\n",
    "    ## more options at:\n",
    "    ## http://benalexkeen.com/resampling-time-series-data-with-pandas/\n",
    "    allFiles = glob.iglob(path + \"/**/*.txt\", recursive=True)\n",
    "    frame = pd.DataFrame()\n",
    "    list_ = []\n",
    "    for file_ in allFiles:\n",
    "        #print(\"Reading: \",file_)\n",
    "        df = pd.read_csv(file_,index_col=\"datetime\",parse_dates=['datetime'], header=0, sep=\",\")\n",
    "        if frame.columns is None :\n",
    "            frame.columns = df.columns\n",
    "        list_.append(df)\n",
    "    frame = pd.concat(list_)\n",
    "    if resampling is not None:\n",
    "        frame = frame.resample(resampling).mean()\n",
    "    frame = frame.fillna(method='ffill')\n",
    "    return frame"
   ]
  },
  {
   "cell_type": "code",
   "execution_count": 4,
   "metadata": {},
   "outputs": [],
   "source": [
    "def create_spatio_temporal_data(nrel_df):\n",
    "    lat = [21.31236,21.31303,21.31357,21.31183,21.31042,21.31268,21.31451,21.31533,21.30812,21.31276,21.31281,21.30983,21.31141,21.31478,21.31179,21.31418,21.31034]\n",
    "    lon = [-158.08463,-158.08505,-158.08424,-158.08554,-158.0853,-158.08688,-158.08534,-158.087,-158.07935,-158.08389,-158.08163,-158.08249,-158.07947,-158.07785,-158.08678,-158.08685,-158.08675]\n",
    "    additional_info = pd.DataFrame({'station': df.columns, 'latitude': lat, 'longitude': lon })\n",
    "    ll = []\n",
    "    for ind, row in nrel_df.iterrows():\n",
    "        for col in nrel_df.columns:\n",
    "            lat = additional_info[(additional_info.station == col)].latitude.values[0]\n",
    "            lon = additional_info[(additional_info.station == col)].longitude.values[0]\n",
    "            irradiance = row[col]\n",
    "            ll.append([lat, lon, irradiance])  \n",
    "\n",
    "    return pd.DataFrame(columns=['latitude','longitude','irradiance'], data=ll)"
   ]
  },
  {
   "cell_type": "code",
   "execution_count": 4,
   "metadata": {},
   "outputs": [],
   "source": [
    "path = '/Users/cseveriano/spatio-temporal-forecasting/data/processed/NREL/Oahu'\n",
    "\n",
    "df = load_data(path)\n",
    "\n",
    "# Corrigir ordem das colunas\n",
    "df.columns = ['DHHL_3','DHHL_4', 'DHHL_5', 'DHHL_10', 'DHHL_11', 'DHHL_9', 'DHHL_2', 'DHHL_1', 'DHHL_1_Tilt', 'AP_6', 'AP_6_Tilt', 'AP_1', 'AP_3', 'AP_5', 'AP_4', 'AP_7', 'DHHL_6', 'DHHL_7', 'DHHL_8']\n",
    "#inicio dos dados possui falhas na medicao\n",
    "df = df.loc[df.index > '2010-03-20']\n",
    "df.drop(['DHHL_1_Tilt', 'AP_6_Tilt'], axis=1, inplace=True)"
   ]
  },
  {
   "cell_type": "markdown",
   "metadata": {},
   "source": [
    "## Preparação bases de treinamento e testes"
   ]
  },
  {
   "cell_type": "code",
   "execution_count": 5,
   "metadata": {},
   "outputs": [],
   "source": [
    "clean_df = pd.DataFrame(columns=df.columns, index=df.index)\n",
    "residual_df = pd.DataFrame(columns=df.columns, index=df.index)\n",
    "\n",
    "for col in df.columns:\n",
    "    residual, clean = remove_periodic(df[col].tolist(), df.index, frequency_threshold=0.01e12)\n",
    "    clean_df[col] = clean.tolist()\n",
    "    residual_df[col] = residual.tolist()"
   ]
  },
  {
   "cell_type": "code",
   "execution_count": 6,
   "metadata": {},
   "outputs": [],
   "source": [
    "train_df = df[(df.index >= '2010-09-01') & (df.index <= '2011-09-01')]\n",
    "train_clean_df = clean_df[(clean_df.index >= '2010-09-01') & (clean_df.index <= '2011-09-01')]\n",
    "train_residual_df = residual_df[(residual_df.index >= '2010-09-01') & (residual_df.index <= '2011-09-01')]\n",
    "\n",
    "\n",
    "test_df = df[(df.index >= '2010-08-05')& (df.index < '2010-08-06')]\n",
    "test_clean_df = clean_df[(clean_df.index >= '2010-08-05')& (clean_df.index < '2010-08-06')]\n",
    "test_residual_df = residual_df[(residual_df.index >= '2010-08-05')& (residual_df.index < '2010-08-06')]"
   ]
  },
  {
   "cell_type": "code",
   "execution_count": 8,
   "metadata": {},
   "outputs": [
    {
     "data": {
      "text/html": [
       "<div>\n",
       "<style scoped>\n",
       "    .dataframe tbody tr th:only-of-type {\n",
       "        vertical-align: middle;\n",
       "    }\n",
       "\n",
       "    .dataframe tbody tr th {\n",
       "        vertical-align: top;\n",
       "    }\n",
       "\n",
       "    .dataframe thead th {\n",
       "        text-align: right;\n",
       "    }\n",
       "</style>\n",
       "<table border=\"1\" class=\"dataframe\">\n",
       "  <thead>\n",
       "    <tr style=\"text-align: right;\">\n",
       "      <th></th>\n",
       "      <th>DHHL_3</th>\n",
       "      <th>DHHL_4</th>\n",
       "      <th>DHHL_5</th>\n",
       "      <th>DHHL_10</th>\n",
       "      <th>DHHL_11</th>\n",
       "      <th>DHHL_9</th>\n",
       "      <th>DHHL_2</th>\n",
       "      <th>DHHL_1</th>\n",
       "      <th>AP_6</th>\n",
       "      <th>AP_1</th>\n",
       "      <th>AP_3</th>\n",
       "      <th>AP_5</th>\n",
       "      <th>AP_4</th>\n",
       "      <th>AP_7</th>\n",
       "      <th>DHHL_6</th>\n",
       "      <th>DHHL_7</th>\n",
       "      <th>DHHL_8</th>\n",
       "    </tr>\n",
       "    <tr>\n",
       "      <th>datetime</th>\n",
       "      <th></th>\n",
       "      <th></th>\n",
       "      <th></th>\n",
       "      <th></th>\n",
       "      <th></th>\n",
       "      <th></th>\n",
       "      <th></th>\n",
       "      <th></th>\n",
       "      <th></th>\n",
       "      <th></th>\n",
       "      <th></th>\n",
       "      <th></th>\n",
       "      <th></th>\n",
       "      <th></th>\n",
       "      <th></th>\n",
       "      <th></th>\n",
       "      <th></th>\n",
       "    </tr>\n",
       "  </thead>\n",
       "  <tbody>\n",
       "    <tr>\n",
       "      <th>2010-09-01 05:00:00</th>\n",
       "      <td>41.524779</td>\n",
       "      <td>37.241017</td>\n",
       "      <td>57.049132</td>\n",
       "      <td>27.679583</td>\n",
       "      <td>47.497538</td>\n",
       "      <td>50.920165</td>\n",
       "      <td>72.683784</td>\n",
       "      <td>101.006040</td>\n",
       "      <td>36.740957</td>\n",
       "      <td>-310.405128</td>\n",
       "      <td>-97.253805</td>\n",
       "      <td>36.753792</td>\n",
       "      <td>29.994538</td>\n",
       "      <td>6.264827</td>\n",
       "      <td>60.721038</td>\n",
       "      <td>77.327826</td>\n",
       "      <td>80.065566</td>\n",
       "    </tr>\n",
       "    <tr>\n",
       "      <th>2010-09-01 05:15:00</th>\n",
       "      <td>35.445270</td>\n",
       "      <td>28.944421</td>\n",
       "      <td>48.903710</td>\n",
       "      <td>19.280622</td>\n",
       "      <td>35.855764</td>\n",
       "      <td>45.935509</td>\n",
       "      <td>65.485102</td>\n",
       "      <td>91.860528</td>\n",
       "      <td>32.635776</td>\n",
       "      <td>-36.656994</td>\n",
       "      <td>28.346678</td>\n",
       "      <td>30.392091</td>\n",
       "      <td>24.981971</td>\n",
       "      <td>58.695178</td>\n",
       "      <td>52.888593</td>\n",
       "      <td>67.912556</td>\n",
       "      <td>70.479768</td>\n",
       "    </tr>\n",
       "    <tr>\n",
       "      <th>2010-09-01 05:30:00</th>\n",
       "      <td>28.392311</td>\n",
       "      <td>19.113065</td>\n",
       "      <td>39.179198</td>\n",
       "      <td>9.003664</td>\n",
       "      <td>21.979622</td>\n",
       "      <td>39.862161</td>\n",
       "      <td>55.824578</td>\n",
       "      <td>79.881736</td>\n",
       "      <td>26.939398</td>\n",
       "      <td>15.267552</td>\n",
       "      <td>-101.992396</td>\n",
       "      <td>22.632457</td>\n",
       "      <td>17.976379</td>\n",
       "      <td>-72.730689</td>\n",
       "      <td>42.809822</td>\n",
       "      <td>55.759055</td>\n",
       "      <td>58.128172</td>\n",
       "    </tr>\n",
       "    <tr>\n",
       "      <th>2010-09-01 05:45:00</th>\n",
       "      <td>19.235364</td>\n",
       "      <td>6.858255</td>\n",
       "      <td>26.992848</td>\n",
       "      <td>-4.135749</td>\n",
       "      <td>5.129014</td>\n",
       "      <td>31.473775</td>\n",
       "      <td>42.768295</td>\n",
       "      <td>64.081153</td>\n",
       "      <td>18.360350</td>\n",
       "      <td>61.961674</td>\n",
       "      <td>-34.844894</td>\n",
       "      <td>12.666130</td>\n",
       "      <td>7.922233</td>\n",
       "      <td>72.728706</td>\n",
       "      <td>29.455063</td>\n",
       "      <td>40.180358</td>\n",
       "      <td>42.359652</td>\n",
       "    </tr>\n",
       "    <tr>\n",
       "      <th>2010-09-01 06:00:00</th>\n",
       "      <td>7.717017</td>\n",
       "      <td>-7.455698</td>\n",
       "      <td>12.356655</td>\n",
       "      <td>-19.575219</td>\n",
       "      <td>-14.143846</td>\n",
       "      <td>20.520012</td>\n",
       "      <td>26.654418</td>\n",
       "      <td>44.587741</td>\n",
       "      <td>6.110437</td>\n",
       "      <td>17.084733</td>\n",
       "      <td>130.668549</td>\n",
       "      <td>1.012905</td>\n",
       "      <td>-4.676898</td>\n",
       "      <td>189.935547</td>\n",
       "      <td>13.311147</td>\n",
       "      <td>21.056204</td>\n",
       "      <td>23.187325</td>\n",
       "    </tr>\n",
       "  </tbody>\n",
       "</table>\n",
       "</div>"
      ],
      "text/plain": [
       "                        DHHL_3     DHHL_4     DHHL_5    DHHL_10    DHHL_11  \\\n",
       "datetime                                                                     \n",
       "2010-09-01 05:00:00  41.524779  37.241017  57.049132  27.679583  47.497538   \n",
       "2010-09-01 05:15:00  35.445270  28.944421  48.903710  19.280622  35.855764   \n",
       "2010-09-01 05:30:00  28.392311  19.113065  39.179198   9.003664  21.979622   \n",
       "2010-09-01 05:45:00  19.235364   6.858255  26.992848  -4.135749   5.129014   \n",
       "2010-09-01 06:00:00   7.717017  -7.455698  12.356655 -19.575219 -14.143846   \n",
       "\n",
       "                        DHHL_9     DHHL_2      DHHL_1       AP_6        AP_1  \\\n",
       "datetime                                                                       \n",
       "2010-09-01 05:00:00  50.920165  72.683784  101.006040  36.740957 -310.405128   \n",
       "2010-09-01 05:15:00  45.935509  65.485102   91.860528  32.635776  -36.656994   \n",
       "2010-09-01 05:30:00  39.862161  55.824578   79.881736  26.939398   15.267552   \n",
       "2010-09-01 05:45:00  31.473775  42.768295   64.081153  18.360350   61.961674   \n",
       "2010-09-01 06:00:00  20.520012  26.654418   44.587741   6.110437   17.084733   \n",
       "\n",
       "                           AP_3       AP_5       AP_4        AP_7     DHHL_6  \\\n",
       "datetime                                                                       \n",
       "2010-09-01 05:00:00  -97.253805  36.753792  29.994538    6.264827  60.721038   \n",
       "2010-09-01 05:15:00   28.346678  30.392091  24.981971   58.695178  52.888593   \n",
       "2010-09-01 05:30:00 -101.992396  22.632457  17.976379  -72.730689  42.809822   \n",
       "2010-09-01 05:45:00  -34.844894  12.666130   7.922233   72.728706  29.455063   \n",
       "2010-09-01 06:00:00  130.668549   1.012905  -4.676898  189.935547  13.311147   \n",
       "\n",
       "                        DHHL_7     DHHL_8  \n",
       "datetime                                   \n",
       "2010-09-01 05:00:00  77.327826  80.065566  \n",
       "2010-09-01 05:15:00  67.912556  70.479768  \n",
       "2010-09-01 05:30:00  55.759055  58.128172  \n",
       "2010-09-01 05:45:00  40.180358  42.359652  \n",
       "2010-09-01 06:00:00  21.056204  23.187325  "
      ]
     },
     "execution_count": 8,
     "metadata": {},
     "output_type": "execute_result"
    }
   ],
   "source": [
    "train_residual_df.head()"
   ]
  },
  {
   "cell_type": "code",
   "execution_count": 8,
   "metadata": {},
   "outputs": [],
   "source": [
    "# ms_df = create_spatio_temporal_data(train_residual_df)\n",
    "# ms_df.to_pickle(\"cluster_df.pkl\")"
   ]
  },
  {
   "cell_type": "code",
   "execution_count": 49,
   "metadata": {},
   "outputs": [],
   "source": [
    "ms_df.to_pickle(\"cluster_all_stations_df.pkl\")"
   ]
  },
  {
   "cell_type": "code",
   "execution_count": 9,
   "metadata": {},
   "outputs": [],
   "source": [
    "#ms_df = pd.read_pickle(\"cluster_df.pkl\")"
   ]
  },
  {
   "cell_type": "code",
   "execution_count": 9,
   "metadata": {},
   "outputs": [],
   "source": [
    "ms_df = train_residual_df"
   ]
  },
  {
   "cell_type": "code",
   "execution_count": 50,
   "metadata": {},
   "outputs": [],
   "source": [
    "test_residual_df.to_pickle(\"test_cluster_all_stations_df.pkl\")"
   ]
  },
  {
   "cell_type": "code",
   "execution_count": 10,
   "metadata": {},
   "outputs": [],
   "source": [
    "from sklearn import preprocessing\n",
    "\n",
    "X = ms_df.values #returns a numpy array\n",
    "min_max_scaler = preprocessing.MinMaxScaler()\n",
    "X = min_max_scaler.fit_transform(X)"
   ]
  },
  {
   "cell_type": "markdown",
   "metadata": {},
   "source": [
    "## Mini-batch KMeans\n"
   ]
  },
  {
   "cell_type": "code",
   "execution_count": 11,
   "metadata": {},
   "outputs": [],
   "source": [
    "from sklearn.cluster import MiniBatchKMeans\n",
    "from sklearn.metrics import silhouette_samples, silhouette_score"
   ]
  },
  {
   "cell_type": "code",
   "execution_count": 14,
   "metadata": {},
   "outputs": [
    {
     "data": {
      "text/plain": [
       "array([10, 20, 30, 40, 50, 60, 70])"
      ]
     },
     "execution_count": 14,
     "metadata": {},
     "output_type": "execute_result"
    }
   ],
   "source": [
    "np.arange(10,100,10)"
   ]
  },
  {
   "cell_type": "markdown",
   "metadata": {},
   "source": [
    "Busca de melhor valor k com base no Sillouette Coefficient"
   ]
  },
  {
   "cell_type": "code",
   "execution_count": 16,
   "metadata": {},
   "outputs": [
    {
     "name": "stdout",
     "output_type": "stream",
     "text": [
      "Starting Loop\n",
      "For n_clusters = 100 The average silhouette_score is : 0.0942383030357\n",
      "For n_clusters = 200 The average silhouette_score is : 0.0811338631523\n",
      "For n_clusters = 300 The average silhouette_score is : 0.0778474540897\n",
      "For n_clusters = 400 The average silhouette_score is : 0.0745462728165\n"
     ]
    },
    {
     "data": {
      "text/plain": [
       "[<matplotlib.lines.Line2D at 0x1111f79b0>]"
      ]
     },
     "execution_count": 16,
     "metadata": {},
     "output_type": "execute_result"
    },
    {
     "data": {
      "image/png": "[encoded data removed]",
      "text/plain": [
       "<matplotlib.figure.Figure at 0x11025b668>"
      ]
     },
     "metadata": {},
     "output_type": "display_data"
    }
   ],
   "source": [
    "batch_size = 1000\n",
    "init_size = 1000\n",
    "#range_n_clusters = np.arange(2,40)\n",
    "range_n_clusters = np.arange(100,500,100)\n",
    "print(\"Starting Loop\")\n",
    "results = []\n",
    "\n",
    "for n_clusters in range_n_clusters:\n",
    "\n",
    "#     print(\"Starting Mini-batch\")\n",
    "    clusterer = MiniBatchKMeans(init='k-means++', n_clusters=n_clusters, batch_size=batch_size, init_size=init_size,\n",
    "                      n_init=1, verbose=False)\n",
    "#     print(\"Starting Fit predict\")\n",
    "    cluster_labels = clusterer.fit_predict(X)\n",
    "\n",
    "    # The silhouette_score gives the average value for all the samples.\n",
    "    # This gives a perspective into the density and separation of the formed\n",
    "    # clusters\n",
    "#     print(\"Starting Silhouette\")\n",
    "    silhouette_avg = silhouette_score(X, cluster_labels, sample_size=10000)\n",
    "    print(\"For n_clusters =\", n_clusters,\"The average silhouette_score is :\", silhouette_avg)\n",
    "    results.append(silhouette_avg)\n",
    "\n",
    "plt.plot(range_n_clusters,results)"
   ]
  },
  {
   "cell_type": "code",
   "execution_count": 25,
   "metadata": {},
   "outputs": [
    {
     "name": "stdout",
     "output_type": "stream",
     "text": [
      "Starting Loop\n",
      "For n_clusters = 2 The within-cluster variance is : 2364.47457076\n",
      "For n_clusters = 3 The within-cluster variance is : 1701.62239373\n",
      "For n_clusters = 4 The within-cluster variance is : 1388.59329693\n",
      "For n_clusters = 5 The within-cluster variance is : 1254.41898543\n",
      "For n_clusters = 6 The within-cluster variance is : 1178.27743393\n",
      "For n_clusters = 7 The within-cluster variance is : 1190.89442878\n",
      "For n_clusters = 8 The within-cluster variance is : 1130.32466874\n",
      "For n_clusters = 9 The within-cluster variance is : 1009.44035013\n",
      "For n_clusters = 10 The within-cluster variance is : 1004.09512894\n",
      "For n_clusters = 11 The within-cluster variance is : 930.352410874\n",
      "For n_clusters = 12 The within-cluster variance is : 895.353359133\n",
      "For n_clusters = 13 The within-cluster variance is : 863.291588626\n",
      "For n_clusters = 14 The within-cluster variance is : 846.234302839\n",
      "For n_clusters = 15 The within-cluster variance is : 830.45902028\n",
      "For n_clusters = 16 The within-cluster variance is : 802.284373355\n",
      "For n_clusters = 17 The within-cluster variance is : 780.644449076\n",
      "For n_clusters = 18 The within-cluster variance is : 790.323734124\n",
      "For n_clusters = 19 The within-cluster variance is : 751.595979646\n",
      "For n_clusters = 20 The within-cluster variance is : 753.045438853\n",
      "For n_clusters = 21 The within-cluster variance is : 730.800566735\n",
      "For n_clusters = 22 The within-cluster variance is : 762.156798636\n",
      "For n_clusters = 23 The within-cluster variance is : 709.706411869\n",
      "For n_clusters = 24 The within-cluster variance is : 695.204845911\n",
      "For n_clusters = 25 The within-cluster variance is : 683.442512261\n",
      "For n_clusters = 26 The within-cluster variance is : 683.806824645\n",
      "For n_clusters = 27 The within-cluster variance is : 670.39426001\n",
      "For n_clusters = 28 The within-cluster variance is : 659.089273234\n",
      "For n_clusters = 29 The within-cluster variance is : 654.098399045\n",
      "For n_clusters = 30 The within-cluster variance is : 646.518667536\n",
      "For n_clusters = 31 The within-cluster variance is : 640.96165729\n",
      "For n_clusters = 32 The within-cluster variance is : 628.287221592\n",
      "For n_clusters = 33 The within-cluster variance is : 629.55340036\n",
      "For n_clusters = 34 The within-cluster variance is : 617.896139285\n",
      "For n_clusters = 35 The within-cluster variance is : 618.126898615\n",
      "For n_clusters = 36 The within-cluster variance is : 613.186119758\n",
      "For n_clusters = 37 The within-cluster variance is : 603.143978209\n",
      "For n_clusters = 38 The within-cluster variance is : 586.729293738\n",
      "For n_clusters = 39 The within-cluster variance is : 579.963843725\n",
      "For n_clusters = 40 The within-cluster variance is : 587.092045388\n",
      "For n_clusters = 41 The within-cluster variance is : 578.451140877\n",
      "For n_clusters = 42 The within-cluster variance is : 576.205713494\n",
      "For n_clusters = 43 The within-cluster variance is : 570.586426358\n",
      "For n_clusters = 44 The within-cluster variance is : 571.814988193\n",
      "For n_clusters = 45 The within-cluster variance is : 558.696102921\n",
      "For n_clusters = 46 The within-cluster variance is : 558.333221808\n",
      "For n_clusters = 47 The within-cluster variance is : 554.671854598\n",
      "For n_clusters = 48 The within-cluster variance is : 554.378656403\n",
      "For n_clusters = 49 The within-cluster variance is : 542.463210665\n",
      "For n_clusters = 50 The within-cluster variance is : 540.139414158\n",
      "For n_clusters = 51 The within-cluster variance is : 540.193250451\n",
      "For n_clusters = 52 The within-cluster variance is : 535.449640621\n",
      "For n_clusters = 53 The within-cluster variance is : 536.312758412\n",
      "For n_clusters = 54 The within-cluster variance is : 536.782720167\n",
      "For n_clusters = 55 The within-cluster variance is : 529.015464333\n",
      "For n_clusters = 56 The within-cluster variance is : 520.576539258\n",
      "For n_clusters = 57 The within-cluster variance is : 519.996807656\n",
      "For n_clusters = 58 The within-cluster variance is : 517.304293206\n",
      "For n_clusters = 59 The within-cluster variance is : 516.238826524\n",
      "For n_clusters = 60 The within-cluster variance is : 506.577384618\n",
      "For n_clusters = 61 The within-cluster variance is : 506.742396793\n",
      "For n_clusters = 62 The within-cluster variance is : 507.031138949\n",
      "For n_clusters = 63 The within-cluster variance is : 497.747010433\n",
      "For n_clusters = 64 The within-cluster variance is : 506.181529657\n",
      "For n_clusters = 65 The within-cluster variance is : 499.611285576\n",
      "For n_clusters = 66 The within-cluster variance is : 491.819881921\n",
      "For n_clusters = 67 The within-cluster variance is : 497.415913274\n",
      "For n_clusters = 68 The within-cluster variance is : 486.642400418\n",
      "For n_clusters = 69 The within-cluster variance is : 488.37391639\n",
      "For n_clusters = 70 The within-cluster variance is : 490.624525852\n",
      "For n_clusters = 71 The within-cluster variance is : 488.510982485\n",
      "For n_clusters = 72 The within-cluster variance is : 479.013118183\n",
      "For n_clusters = 73 The within-cluster variance is : 481.334659566\n",
      "For n_clusters = 74 The within-cluster variance is : 480.27251297\n",
      "For n_clusters = 75 The within-cluster variance is : 475.304550011\n",
      "For n_clusters = 76 The within-cluster variance is : 473.379628835\n",
      "For n_clusters = 77 The within-cluster variance is : 469.232076191\n",
      "For n_clusters = 78 The within-cluster variance is : 473.878890863\n",
      "For n_clusters = 79 The within-cluster variance is : 469.140104681\n",
      "For n_clusters = 80 The within-cluster variance is : 465.174211704\n",
      "For n_clusters = 81 The within-cluster variance is : 462.973171284\n",
      "For n_clusters = 82 The within-cluster variance is : 462.182910589\n",
      "For n_clusters = 83 The within-cluster variance is : 459.677552419\n",
      "For n_clusters = 84 The within-cluster variance is : 455.088409987\n",
      "For n_clusters = 85 The within-cluster variance is : 458.354934116\n",
      "For n_clusters = 86 The within-cluster variance is : 456.575848945\n",
      "For n_clusters = 87 The within-cluster variance is : 456.838109655\n",
      "For n_clusters = 88 The within-cluster variance is : 449.943597126\n",
      "For n_clusters = 89 The within-cluster variance is : 453.515767181\n",
      "For n_clusters = 90 The within-cluster variance is : 452.614555553\n",
      "For n_clusters = 91 The within-cluster variance is : 449.592569691\n",
      "For n_clusters = 92 The within-cluster variance is : 444.290788695\n",
      "For n_clusters = 93 The within-cluster variance is : 444.917254782\n",
      "For n_clusters = 94 The within-cluster variance is : 442.950762749\n",
      "For n_clusters = 95 The within-cluster variance is : 442.395665577\n",
      "For n_clusters = 96 The within-cluster variance is : 439.488832966\n",
      "For n_clusters = 97 The within-cluster variance is : 434.093915939\n",
      "For n_clusters = 98 The within-cluster variance is : 434.969096283\n",
      "For n_clusters = 99 The within-cluster variance is : 436.045880443\n"
     ]
    },
    {
     "data": {
      "text/plain": [
       "[<matplotlib.lines.Line2D at 0x1118410b8>]"
      ]
     },
     "execution_count": 25,
     "metadata": {},
     "output_type": "execute_result"
    },
    {
     "data": {
      "image/png": "[encoded data removed]",
      "text/plain": [
       "<matplotlib.figure.Figure at 0x111974dd8>"
      ]
     },
     "metadata": {},
     "output_type": "display_data"
    }
   ],
   "source": [
    "batch_size = 1000\n",
    "init_size = 1000\n",
    "#range_n_clusters = np.arange(2,40)\n",
    "range_n_clusters = np.arange(2,100)\n",
    "print(\"Starting Loop\")\n",
    "results = []\n",
    "\n",
    "for n_clusters in range_n_clusters:\n",
    "\n",
    "#     print(\"Starting Mini-batch\")\n",
    "    clusterer = MiniBatchKMeans(init='k-means++', n_clusters=n_clusters, batch_size=batch_size, init_size=3 * n_clusters,\n",
    "                      n_init=1, verbose=False)\n",
    "#     print(\"Starting Fit predict\")\n",
    "    cluster_labels = clusterer.fit_predict(X)\n",
    "\n",
    "    print(\"For n_clusters =\", n_clusters,\"The within-cluster variance is :\", clusterer.inertia_)\n",
    "    results.append( clusterer.inertia_ )\n",
    "\n",
    "plt.plot(range_n_clusters,results)"
   ]
  },
  {
   "cell_type": "code",
   "execution_count": 25,
   "metadata": {},
   "outputs": [
    {
     "name": "stdout",
     "output_type": "stream",
     "text": [
      "Best value:  0.966338545956 Number of clusters:  17\n"
     ]
    }
   ],
   "source": [
    "print(\"Best value: \",max(results), \"Number of clusters: \", range_n_clusters[np.argmax(results)])"
   ]
  },
  {
   "cell_type": "code",
   "execution_count": 26,
   "metadata": {},
   "outputs": [
    {
     "name": "stdout",
     "output_type": "stream",
     "text": [
      "For n_clusters = 20 The average silhouette_score is : 0.133200836895\n"
     ]
    },
    {
     "data": {
      "image/png": "[encoded data removed]",
      "text/plain": [
       "<matplotlib.figure.Figure at 0x1118e5a58>"
      ]
     },
     "metadata": {},
     "output_type": "display_data"
    }
   ],
   "source": [
    "import matplotlib.cm as cm\n",
    "\n",
    "n_clusters = 20\n",
    "n_samples = 10000\n",
    "# Create a subplot with 1 row and 2 columns\n",
    "fig, ax1 = plt.subplots(1)\n",
    "fig.set_size_inches(18, 7)\n",
    "\n",
    "# The 1st subplot is the silhouette plot\n",
    "ax1.set_xlim([-0.1, 1])\n",
    "# The (n_clusters+1)*10 is for inserting blank space between silhouette\n",
    "# plots of individual clusters, to demarcate them clearly.\n",
    "ax1.set_ylim([0, n_samples + (n_clusters + 1) * 10])\n",
    "\n",
    "# Initialize the clusterer with n_clusters value and a random generator\n",
    "# seed of 10 for reproducibility.\n",
    "clusterer = MiniBatchKMeans(init='k-means++', n_clusters=n_clusters, batch_size=batch_size, init_size=init_size,\n",
    "                      n_init=1, verbose=False)\n",
    "cluster_labels = clusterer.fit_predict(X)\n",
    "\n",
    "# The silhouette_score gives the average value for all the samples.\n",
    "# This gives a perspective into the density and separation of the formed\n",
    "# clusters\n",
    "silhouette_avg = silhouette_score(X, cluster_labels, sample_size=n_samples)\n",
    "print(\"For n_clusters =\", n_clusters,\n",
    "          \"The average silhouette_score is :\", silhouette_avg)\n",
    "\n",
    "idx = np.random.choice(np.arange(len(X)), n_samples, replace=False)\n",
    "x_sample = X[idx]\n",
    "c_sample = cluster_labels[idx]\n",
    "\n",
    "\n",
    "sample_silhouette_values = silhouette_samples(x_sample, c_sample)\n",
    "\n",
    "y_lower = 10\n",
    "for i in range(n_clusters):\n",
    "    # Aggregate the silhouette scores for samples belonging to\n",
    "    # cluster i, and sort them\n",
    "    ith_cluster_silhouette_values = sample_silhouette_values[c_sample == i]\n",
    "\n",
    "\n",
    "    ith_cluster_silhouette_values.sort()\n",
    "\n",
    "    size_cluster_i = ith_cluster_silhouette_values.shape[0]\n",
    "    y_upper = y_lower + size_cluster_i\n",
    "\n",
    "    color = cm.spectral(float(i) / n_clusters)\n",
    "    ax1.fill_betweenx(np.arange(y_lower, y_upper),\n",
    "                        0, ith_cluster_silhouette_values,\n",
    "                        facecolor=color, edgecolor=color, alpha=0.7)\n",
    "\n",
    "    # Label the silhouette plots with their cluster numbers at the middle\n",
    "    ax1.text(-0.05, y_lower + 0.5 * size_cluster_i, str(i))\n",
    "\n",
    "    # Compute the new y_lower for next plot\n",
    "    y_lower = y_upper + 10  # 10 for the 0 samples\n",
    "\n",
    "ax1.set_title(\"The silhouette plot for the various clusters.\")\n",
    "ax1.set_xlabel(\"The silhouette coefficient values\")\n",
    "ax1.set_ylabel(\"Cluster label\")\n",
    "\n",
    "# The vertical line for average silhouette score of all the values\n",
    "ax1.axvline(x=silhouette_avg, color=\"red\", linestyle=\"--\")\n",
    "\n",
    "ax1.set_yticks([])  # Clear the yaxis labels / ticks\n",
    "ax1.set_xticks([-0.1, 0, 0.2, 0.4, 0.6, 0.8, 1])\n",
    "\n",
    "plt.suptitle((\"Silhouette analysis for KMeans clustering on sample data \"\n",
    "                  \"with n_clusters = %d\" % n_clusters),\n",
    "                 fontsize=14, fontweight='bold')\n",
    "\n",
    "plt.show()"
   ]
  },
  {
   "cell_type": "code",
   "execution_count": 27,
   "metadata": {},
   "outputs": [],
   "source": [
    "from scipy.stats import truncnorm"
   ]
  },
  {
   "cell_type": "code",
   "execution_count": 28,
   "metadata": {},
   "outputs": [],
   "source": [
    "a, b = 0.1, 2\n",
    "mean, var, skew, kurt = truncnorm.stats(a, b, moments='mvsk')\n"
   ]
  },
  {
   "cell_type": "code",
   "execution_count": 33,
   "metadata": {},
   "outputs": [
    {
     "data": {
      "image/png": "[encoded data removed]",
      "text/plain": [
       "<matplotlib.figure.Figure at 0x1118c9828>"
      ]
     },
     "metadata": {},
     "output_type": "display_data"
    }
   ],
   "source": []
  },
  {
   "cell_type": "code",
   "execution_count": 37,
   "metadata": {},
   "outputs": [
    {
     "data": {
      "text/plain": [
       "[<matplotlib.lines.Line2D at 0x1113f6588>]"
      ]
     },
     "execution_count": 37,
     "metadata": {},
     "output_type": "execute_result"
    },
    {
     "data": {
      "image/png": "[encoded data removed]",
      "text/plain": [
       "<matplotlib.figure.Figure at 0x1113f65c0>"
      ]
     },
     "metadata": {},
     "output_type": "display_data"
    }
   ],
   "source": [
    "fig, ax = plt.subplots(1, 1)\n",
    "x = np.linspace(truncnorm.ppf(0.01, a, b), truncnorm.ppf(0.99, a, b), 100)\n",
    "\n",
    "ax.plot(x, truncnorm.pdf(x, a, b),'r-', lw=5, alpha=0.6, label='truncnorm pdf')"
   ]
  },
  {
   "cell_type": "code",
   "execution_count": 40,
   "metadata": {},
   "outputs": [],
   "source": [
    "from pyFTS.common  import Membership"
   ]
  },
  {
   "cell_type": "code",
   "execution_count": 45,
   "metadata": {},
   "outputs": [
    {
     "data": {
      "text/plain": [
       "[<matplotlib.lines.Line2D at 0x1117e3ac8>]"
      ]
     },
     "execution_count": 45,
     "metadata": {},
     "output_type": "execute_result"
    },
    {
     "data": {
      "image/png": "[encoded data removed]",
      "text/plain": [
       "<matplotlib.figure.Figure at 0x1117e3ba8>"
      ]
     },
     "metadata": {},
     "output_type": "display_data"
    }
   ],
   "source": [
    "fig, ax = plt.subplots(1, 1)\n",
    "y = [Membership.gaussmf(xx,[mean,var]) for xx in x]\n",
    "ax.plot(x, y,'r-', lw=5, alpha=0.6, label='truncnorm pdf')"
   ]
  },
  {
   "cell_type": "code",
   "execution_count": 47,
   "metadata": {},
   "outputs": [
    {
     "data": {
      "text/plain": [
       "1.013202851929111"
      ]
     },
     "execution_count": 47,
     "metadata": {},
     "output_type": "execute_result"
    }
   ],
   "source": [
    "a, b = (myclip_a - mean) / my_std, (myclip_b - my_mean) / my_std"
   ]
  },
  {
   "cell_type": "code",
   "execution_count": 48,
   "metadata": {},
   "outputs": [
    {
     "data": {
      "text/plain": [
       "1.9248453824582838"
      ]
     },
     "execution_count": 48,
     "metadata": {},
     "output_type": "execute_result"
    }
   ],
   "source": [
    "max(x)"
   ]
  }
 ],
 "metadata": {
  "kernelspec": {
   "display_name": "Python 3",
   "language": "python",
   "name": "python3"
  },
  "language_info": {
   "codemirror_mode": {
    "name": "ipython",
    "version": 3
   },
   "file_extension": ".py",
   "mimetype": "text/x-python",
   "name": "python",
   "nbconvert_exporter": "python",
   "pygments_lexer": "ipython3",
   "version": "3.6.4"
  }
 },
 "nbformat": 4,
 "nbformat_minor": 2
}
