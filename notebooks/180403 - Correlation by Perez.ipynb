{
 "cells": [
  {
   "cell_type": "code",
   "execution_count": 3,
   "metadata": {},
   "outputs": [],
   "source": [
    "%matplotlib inline\n",
    "import pandas as pd\n",
    "import numpy as np\n",
    "import matplotlib.pyplot as plt\n",
    "import datetime\n",
    "import math\n",
    "\n",
    "import os\n",
    "import sys\n",
    "from numpy.fft import fft, ifft"
   ]
  },
  {
   "cell_type": "markdown",
   "metadata": {},
   "source": [
    "## Funções Auxiliares"
   ]
  },
  {
   "cell_type": "code",
   "execution_count": 42,
   "metadata": {},
   "outputs": [],
   "source": [
    "def remove_periodic(X, df_index, detrending=True, frequency_threshold=0.1e12):\n",
    "    rad = np.array(X)\n",
    "    \n",
    "    if detrending:\n",
    "        det_rad = rad - np.average(rad)\n",
    "    else:\n",
    "        det_rad = rad\n",
    "    \n",
    "    det_rad_fft = fft(det_rad)\n",
    "\n",
    "    # Get the power spectrum\n",
    "    rad_ps = [np.abs(rd)**2 for rd in det_rad_fft]\n",
    "    \n",
    "    clean_rad_fft = [det_rad_fft[i] if rad_ps[i] > frequency_threshold else 0 \n",
    "                     for i in range(len(det_rad_fft))]\n",
    "    \n",
    "    rad_series_clean = ifft(clean_rad_fft)\n",
    "    rad_series_clean = [value.real for value in rad_series_clean]\n",
    "    \n",
    "    if detrending:\n",
    "        rad_trends = rad_series_clean + np.average(rad)\n",
    "    \n",
    "    rad_clean_ts = pd.Series(rad_trends, index=df_index)\n",
    "    \n",
    "    #rad_clean_ts[(rad_clean_ts.index.hour < 6) | (rad_clean_ts.index.hour > 20)] = 0\n",
    "    \n",
    "    return rad - rad_clean_ts.values, rad_clean_ts.values"
   ]
  },
  {
   "cell_type": "code",
   "execution_count": 5,
   "metadata": {},
   "outputs": [],
   "source": [
    "def normalized_cross_correlation(x, y):\n",
    "    mx = np.mean(x)\n",
    "    my = np.mean(y)\n",
    "    dv = math.sqrt(np.var(x) * np.var(y))\n",
    "    \n",
    "    corr = 0\n",
    "\n",
    "    if dv != 0:\n",
    "        for xx,yy in zip(x,y):\n",
    "            corr = corr + (((xx - mx) * (yy - my)) / dv)\n",
    "    \n",
    "    return corr/len(x)"
   ]
  },
  {
   "cell_type": "code",
   "execution_count": 6,
   "metadata": {},
   "outputs": [],
   "source": [
    "def daily_normalized_correlation(df1, df2):\n",
    "    corr = 0\n",
    "\n",
    "    ind  = pd.DataFrame({\"dayofyear\": df1.index.dayofyear, \"year\": df1.index.year})\n",
    "\n",
    "    for index, row in ind.iterrows():\n",
    "        #print(\"Day:\", row[\"dayofyear\"], \", Year:\", row[\"year\"])\n",
    "        station_a = df1[(df1.index.dayofyear == row[\"dayofyear\"]) & (df1.index.year == row[\"year\"])].irradiance.tolist()\n",
    "        station_b = df2[(df2.index.dayofyear == row[\"dayofyear\"]) & (df2.index.year == row[\"year\"])].irradiance.tolist()\n",
    "        v = np.var(station_a)\n",
    "        corr = corr + normalized_cross_correlation(station_a, station_b)\n",
    "    result = corr / len(ind)\n",
    "\n",
    "    print(\"Normalized Correlation:\", result)\n",
    "    return result"
   ]
  },
  {
   "cell_type": "code",
   "execution_count": 19,
   "metadata": {},
   "outputs": [],
   "source": [
    "def daily_weighted_correlation(df1, df2):\n",
    "    corr = 0\n",
    "    var = 0\n",
    "    \n",
    "    ind  = pd.DataFrame({\"dayofyear\": df1.index.dayofyear, \"year\": df1.index.year})\n",
    "\n",
    "    for index, row in ind.iterrows():\n",
    "        #print(\"Day:\", row[\"dayofyear\"], \", Year:\", row[\"year\"])\n",
    "        station_a = df1[(df1.index.dayofyear == row[\"dayofyear\"]) & (df1.index.year == row[\"year\"])].irradiance.tolist()\n",
    "        station_b = df2[(df2.index.dayofyear == row[\"dayofyear\"]) & (df2.index.year == row[\"year\"])].irradiance.tolist()\n",
    "        v = np.var(station_a)\n",
    "        #corr = corr + (np.correlate(station_a, station_b)[0] * v)\n",
    "        corr = corr + (normalized_cross_correlation(station_a, station_b)* v)\n",
    "        var = var + v\n",
    "    result = corr / var   \n",
    "\n",
    "    print(\"Weighted Correlation:\", result)\n",
    "    return result"
   ]
  },
  {
   "cell_type": "code",
   "execution_count": 8,
   "metadata": {},
   "outputs": [],
   "source": [
    "def normalize(x, a, b):\n",
    "    norm_x = []\n",
    "    minx = min(x)\n",
    "    maxx = max(x)\n",
    "    for xx in x:\n",
    "        res = ((b - a) * ((xx - minx) / (maxx - minx))) + a\n",
    "        norm_x.append(res)\n",
    "    \n",
    "    return norm_x"
   ]
  },
  {
   "cell_type": "markdown",
   "metadata": {},
   "source": [
    "# Analise de Dados"
   ]
  },
  {
   "cell_type": "markdown",
   "metadata": {},
   "source": [
    "## Base SONDA"
   ]
  },
  {
   "cell_type": "code",
   "execution_count": 9,
   "metadata": {},
   "outputs": [],
   "source": [
    "## Mac\n",
    "#os.chdir(\"/Users/cseveriano/spatio-temporal-forecasting/\")\n",
    "\n",
    "## Windows\n",
    "os.chdir(\"C:\\\\Users\\\\cseve\\\\Google Drive\\\\Doutorado\\\\Codes\\\\spatio-temporal-forecasting\")\n",
    "sys.path.append('C:\\\\Users\\\\cseve\\\\Google Drive\\\\Doutorado\\\\Codes\\\\spatio-temporal-forecasting\\\\src\\\\ext-libraries\\\\pyFTS')\n",
    "\n",
    "################################\n",
    "\n",
    "fln_df = pd.read_csv('data/processed/SONDA/FLN-15min.csv', sep=\";\", parse_dates=['date'], index_col='date')\n",
    "fln_df = fln_df[(fln_df.index >= '2013-11-01') & (fln_df.index <= '2015-11-01')]\n",
    "fln_df = fln_df.fillna(method='ffill')\n",
    "\n",
    "joi_df = pd.read_csv('data/processed/SONDA/JOI-15min.csv', sep=\";\", parse_dates=['date'], index_col='date')\n",
    "joi_df = joi_df[(joi_df.index >= '2013-11-01') & (joi_df.index <= '2015-11-01')]\n",
    "joi_df = joi_df.fillna(method='ffill')\n",
    "\n",
    "sbr_df = pd.read_csv('data/processed/SONDA/SBR-15min.csv', sep=\";\", parse_dates=['date'], index_col='date')\n",
    "sbr_df = sbr_df[(sbr_df.index >= '2013-11-01') & (sbr_df.index <= '2015-11-01')]\n",
    "sbr_df = sbr_df.fillna(method='ffill')"
   ]
  },
  {
   "cell_type": "code",
   "execution_count": 10,
   "metadata": {},
   "outputs": [],
   "source": [
    "fln_df = fln_df.resample('H').mean()\n",
    "joi_df = joi_df.resample('H').mean()\n",
    "sbr_df = sbr_df.resample('H').mean()"
   ]
  },
  {
   "cell_type": "code",
   "execution_count": 11,
   "metadata": {},
   "outputs": [],
   "source": [
    "fln_df = fln_df[(fln_df.index.hour >= 7) & (fln_df.index.hour <= 22)]\n",
    "joi_df = joi_df[(joi_df.index.hour >= 7) & (joi_df.index.hour <= 22)]\n",
    "sbr_df = sbr_df[(sbr_df.index.hour >= 7) & (sbr_df.index.hour <= 22)]"
   ]
  },
  {
   "cell_type": "code",
   "execution_count": 12,
   "metadata": {},
   "outputs": [],
   "source": [
    "fln_residual, fln_clean = remove_periodic(fln_df['glo_avg'],fln_df.index)\n",
    "joi_residual, joi_clean = remove_periodic(joi_df['glo_avg'],joi_df.index)\n",
    "sbr_residual, sbr_clean = remove_periodic(sbr_df['glo_avg'],sbr_df.index)"
   ]
  },
  {
   "cell_type": "code",
   "execution_count": 13,
   "metadata": {},
   "outputs": [],
   "source": [
    "fln_ratio = [x/y for x, y in zip(fln_df['glo_avg'].tolist(), fln_clean)]\n",
    "joi_ratio = [x/y for x, y in zip(joi_df['glo_avg'].tolist(), joi_clean)]\n",
    "sbr_ratio = [x/y for x, y in zip(sbr_df['glo_avg'].tolist(), sbr_clean)]"
   ]
  },
  {
   "cell_type": "code",
   "execution_count": 14,
   "metadata": {},
   "outputs": [
    {
     "data": {
      "image/png": "[encoded data removed]",
      "text/plain": [
       "<matplotlib.figure.Figure at 0x1fb70a8c0f0>"
      ]
     },
     "metadata": {},
     "output_type": "display_data"
    }
   ],
   "source": [
    "fig = plt.figure(figsize=(12, 8))\n",
    "plt.plot(fln_clean[1:192], color='blue')\n",
    "plt.plot(fln_df[1:192].glo_avg.tolist(), color='red')\n",
    "plt.show()"
   ]
  },
  {
   "cell_type": "code",
   "execution_count": 15,
   "metadata": {},
   "outputs": [],
   "source": [
    "fln_df = pd.DataFrame(data={'glo_avg': fln_df.glo_avg.tolist(), 'residual': fln_residual, 'clean': fln_clean, 'ratio': fln_ratio, 'date' : fln_df.index}, index=fln_df.index)\n",
    "joi_df = pd.DataFrame(data={'glo_avg': joi_df.glo_avg.tolist(), 'residual': joi_residual, 'clean': joi_clean, 'ratio': joi_ratio, 'date' : joi_df.index}, index=joi_df.index)\n",
    "sbr_df = pd.DataFrame(data={'glo_avg': sbr_df.glo_avg.tolist(), 'residual': sbr_residual, 'clean': sbr_clean, 'ratio': sbr_ratio, 'date' : sbr_df.index}, index=sbr_df.index)"
   ]
  },
  {
   "cell_type": "code",
   "execution_count": null,
   "metadata": {},
   "outputs": [],
   "source": []
  },
  {
   "cell_type": "code",
   "execution_count": 16,
   "metadata": {},
   "outputs": [],
   "source": [
    "df1 = pd.DataFrame(data={'irradiance': fln_df.residual.tolist(), 'date' : fln_df.index}, index=fln_df.index)\n",
    "df2 = pd.DataFrame(data={'irradiance': joi_df.residual.tolist(), 'date' : joi_df.index}, index=joi_df.index)\n"
   ]
  },
  {
   "cell_type": "code",
   "execution_count": 17,
   "metadata": {},
   "outputs": [
    {
     "name": "stdout",
     "output_type": "stream",
     "text": [
      "Normalized Correlation: 0.484893564515\n"
     ]
    },
    {
     "data": {
      "text/plain": [
       "0.48489356451541238"
      ]
     },
     "execution_count": 17,
     "metadata": {},
     "output_type": "execute_result"
    }
   ],
   "source": [
    "daily_normalized_correlation(df1, df2)"
   ]
  },
  {
   "cell_type": "code",
   "execution_count": 20,
   "metadata": {},
   "outputs": [
    {
     "name": "stdout",
     "output_type": "stream",
     "text": [
      "Weighted Correlation: 0.512868543231\n"
     ]
    },
    {
     "data": {
      "text/plain": [
       "0.51286854323143638"
      ]
     },
     "execution_count": 20,
     "metadata": {},
     "output_type": "execute_result"
    }
   ],
   "source": [
    "daily_weighted_correlation(df1, df2)"
   ]
  },
  {
   "cell_type": "markdown",
   "metadata": {},
   "source": [
    "## Base SINGA"
   ]
  },
  {
   "cell_type": "code",
   "execution_count": 22,
   "metadata": {},
   "outputs": [],
   "source": [
    "import glob"
   ]
  },
  {
   "cell_type": "code",
   "execution_count": 21,
   "metadata": {},
   "outputs": [],
   "source": [
    "def load_data(path, resampling=None):\n",
    "    ## some resampling options: 'H' - hourly, '15min' - 15 minutes, 'M' - montlhy\n",
    "    ## more options at:\n",
    "    ## http://benalexkeen.com/resampling-time-series-data-with-pandas/\n",
    "    allFiles = glob.iglob(path + \"/**/*.txt\", recursive=True)\n",
    "    frame = pd.DataFrame()\n",
    "    list_ = []\n",
    "    for file_ in allFiles:\n",
    "        #print(\"Reading: \",file_)\n",
    "        df = pd.read_csv(file_,index_col=\"Tm\",parse_dates=['Tm'], header=0, sep=\"\\t\")\n",
    "        if frame.columns is None :\n",
    "            frame.columns = df.columns\n",
    "        list_.append(df)\n",
    "    frame = pd.concat(list_)\n",
    "    if resampling is not None:\n",
    "        frame = frame.resample(resampling).mean()\n",
    "    return frame"
   ]
  },
  {
   "cell_type": "code",
   "execution_count": 24,
   "metadata": {},
   "outputs": [],
   "source": [
    "#Mac\n",
    "#singa_path = '/Users/cseveriano/spatio-temporal-forecasting/data/raw/SINGA-Nobre/716 2017-11/''\n",
    "\n",
    "#Windows\n",
    "singa_path = 'C:\\\\Users\\\\cseve\\\\Google Drive\\\\Doutorado\\\\Codes\\\\spatio-temporal-forecasting\\\\data\\\\raw\\\\SINGA-Nobre\\\\'\n",
    "\n",
    "s716_df = load_data(singa_path+\"716\", '15min')\n",
    "s716_df = s716_df.fillna(method='ffill')\n",
    "\n",
    "s717_df = load_data(singa_path+\"717\", '15min')\n",
    "s717_df = s717_df.fillna(method='ffill')"
   ]
  },
  {
   "cell_type": "code",
   "execution_count": 34,
   "metadata": {},
   "outputs": [
    {
     "data": {
      "text/html": [
       "<div>\n",
       "<table border=\"1\" class=\"dataframe\">\n",
       "  <thead>\n",
       "    <tr style=\"text-align: right;\">\n",
       "      <th></th>\n",
       "      <th>Rec_ID</th>\n",
       "      <th>AvgGsi00</th>\n",
       "      <th>AvgTamb</th>\n",
       "      <th>AvgHamb</th>\n",
       "      <th>AvgTmod</th>\n",
       "      <th>I-A_A</th>\n",
       "      <th>I-B_A</th>\n",
       "      <th>I-C_A</th>\n",
       "      <th>V-AB_A</th>\n",
       "      <th>V-BC_A</th>\n",
       "      <th>...</th>\n",
       "      <th>App_E-Recv_C</th>\n",
       "      <th>App_E-Del+Rec_C</th>\n",
       "      <th>App_E-Del-Rec_C</th>\n",
       "      <th>Freq1 Cycle_C</th>\n",
       "      <th>THD_I-A_C</th>\n",
       "      <th>THD_I-B_C</th>\n",
       "      <th>THD_I-C_C</th>\n",
       "      <th>THD_V-AB_C</th>\n",
       "      <th>THD_V-BC_C</th>\n",
       "      <th>THD_V-CA_C</th>\n",
       "    </tr>\n",
       "    <tr>\n",
       "      <th>Tm</th>\n",
       "      <th></th>\n",
       "      <th></th>\n",
       "      <th></th>\n",
       "      <th></th>\n",
       "      <th></th>\n",
       "      <th></th>\n",
       "      <th></th>\n",
       "      <th></th>\n",
       "      <th></th>\n",
       "      <th></th>\n",
       "      <th></th>\n",
       "      <th></th>\n",
       "      <th></th>\n",
       "      <th></th>\n",
       "      <th></th>\n",
       "      <th></th>\n",
       "      <th></th>\n",
       "      <th></th>\n",
       "      <th></th>\n",
       "      <th></th>\n",
       "      <th></th>\n",
       "    </tr>\n",
       "  </thead>\n",
       "  <tbody>\n",
       "    <tr>\n",
       "      <th>2017-11-01 07:00:00</th>\n",
       "      <td>124.0</td>\n",
       "      <td>21.139133</td>\n",
       "      <td>26.096067</td>\n",
       "      <td>90.718333</td>\n",
       "      <td>22.545333</td>\n",
       "      <td>0.0</td>\n",
       "      <td>0.0</td>\n",
       "      <td>0.0</td>\n",
       "      <td>408.465</td>\n",
       "      <td>410.954</td>\n",
       "      <td>...</td>\n",
       "      <td>93793.461</td>\n",
       "      <td>93934.055</td>\n",
       "      <td>-93652.875</td>\n",
       "      <td>49.956</td>\n",
       "      <td>0.0</td>\n",
       "      <td>0.0</td>\n",
       "      <td>0.0</td>\n",
       "      <td>1.665</td>\n",
       "      <td>1.991</td>\n",
       "      <td>1.859</td>\n",
       "    </tr>\n",
       "    <tr>\n",
       "      <th>2017-11-01 07:15:00</th>\n",
       "      <td>139.0</td>\n",
       "      <td>51.254267</td>\n",
       "      <td>27.357067</td>\n",
       "      <td>87.397000</td>\n",
       "      <td>23.661267</td>\n",
       "      <td>0.0</td>\n",
       "      <td>0.0</td>\n",
       "      <td>0.0</td>\n",
       "      <td>408.465</td>\n",
       "      <td>410.954</td>\n",
       "      <td>...</td>\n",
       "      <td>93793.461</td>\n",
       "      <td>93934.055</td>\n",
       "      <td>-93652.875</td>\n",
       "      <td>49.956</td>\n",
       "      <td>0.0</td>\n",
       "      <td>0.0</td>\n",
       "      <td>0.0</td>\n",
       "      <td>1.665</td>\n",
       "      <td>1.991</td>\n",
       "      <td>1.859</td>\n",
       "    </tr>\n",
       "    <tr>\n",
       "      <th>2017-11-01 07:30:00</th>\n",
       "      <td>154.0</td>\n",
       "      <td>99.128800</td>\n",
       "      <td>29.580867</td>\n",
       "      <td>80.795800</td>\n",
       "      <td>25.457600</td>\n",
       "      <td>0.0</td>\n",
       "      <td>0.0</td>\n",
       "      <td>0.0</td>\n",
       "      <td>408.465</td>\n",
       "      <td>410.954</td>\n",
       "      <td>...</td>\n",
       "      <td>93793.461</td>\n",
       "      <td>93934.055</td>\n",
       "      <td>-93652.875</td>\n",
       "      <td>49.956</td>\n",
       "      <td>0.0</td>\n",
       "      <td>0.0</td>\n",
       "      <td>0.0</td>\n",
       "      <td>1.665</td>\n",
       "      <td>1.991</td>\n",
       "      <td>1.859</td>\n",
       "    </tr>\n",
       "    <tr>\n",
       "      <th>2017-11-01 07:45:00</th>\n",
       "      <td>169.0</td>\n",
       "      <td>151.316733</td>\n",
       "      <td>32.117267</td>\n",
       "      <td>72.457067</td>\n",
       "      <td>27.335000</td>\n",
       "      <td>0.0</td>\n",
       "      <td>0.0</td>\n",
       "      <td>0.0</td>\n",
       "      <td>408.465</td>\n",
       "      <td>410.954</td>\n",
       "      <td>...</td>\n",
       "      <td>93793.461</td>\n",
       "      <td>93934.055</td>\n",
       "      <td>-93652.875</td>\n",
       "      <td>49.956</td>\n",
       "      <td>0.0</td>\n",
       "      <td>0.0</td>\n",
       "      <td>0.0</td>\n",
       "      <td>1.665</td>\n",
       "      <td>1.991</td>\n",
       "      <td>1.859</td>\n",
       "    </tr>\n",
       "    <tr>\n",
       "      <th>2017-11-01 08:00:00</th>\n",
       "      <td>184.0</td>\n",
       "      <td>202.268000</td>\n",
       "      <td>33.809933</td>\n",
       "      <td>66.207600</td>\n",
       "      <td>28.916333</td>\n",
       "      <td>0.0</td>\n",
       "      <td>0.0</td>\n",
       "      <td>0.0</td>\n",
       "      <td>408.465</td>\n",
       "      <td>410.954</td>\n",
       "      <td>...</td>\n",
       "      <td>93793.461</td>\n",
       "      <td>93934.055</td>\n",
       "      <td>-93652.875</td>\n",
       "      <td>49.956</td>\n",
       "      <td>0.0</td>\n",
       "      <td>0.0</td>\n",
       "      <td>0.0</td>\n",
       "      <td>1.665</td>\n",
       "      <td>1.991</td>\n",
       "      <td>1.859</td>\n",
       "    </tr>\n",
       "  </tbody>\n",
       "</table>\n",
       "<p>5 rows × 146 columns</p>\n",
       "</div>"
      ],
      "text/plain": [
       "                     Rec_ID    AvgGsi00    AvgTamb    AvgHamb    AvgTmod  \\\n",
       "Tm                                                                         \n",
       "2017-11-01 07:00:00   124.0   21.139133  26.096067  90.718333  22.545333   \n",
       "2017-11-01 07:15:00   139.0   51.254267  27.357067  87.397000  23.661267   \n",
       "2017-11-01 07:30:00   154.0   99.128800  29.580867  80.795800  25.457600   \n",
       "2017-11-01 07:45:00   169.0  151.316733  32.117267  72.457067  27.335000   \n",
       "2017-11-01 08:00:00   184.0  202.268000  33.809933  66.207600  28.916333   \n",
       "\n",
       "                     I-A_A  I-B_A  I-C_A   V-AB_A   V-BC_A     ...      \\\n",
       "Tm                                                             ...       \n",
       "2017-11-01 07:00:00    0.0    0.0    0.0  408.465  410.954     ...       \n",
       "2017-11-01 07:15:00    0.0    0.0    0.0  408.465  410.954     ...       \n",
       "2017-11-01 07:30:00    0.0    0.0    0.0  408.465  410.954     ...       \n",
       "2017-11-01 07:45:00    0.0    0.0    0.0  408.465  410.954     ...       \n",
       "2017-11-01 08:00:00    0.0    0.0    0.0  408.465  410.954     ...       \n",
       "\n",
       "                     App_E-Recv_C  App_E-Del+Rec_C  App_E-Del-Rec_C  \\\n",
       "Tm                                                                    \n",
       "2017-11-01 07:00:00     93793.461        93934.055       -93652.875   \n",
       "2017-11-01 07:15:00     93793.461        93934.055       -93652.875   \n",
       "2017-11-01 07:30:00     93793.461        93934.055       -93652.875   \n",
       "2017-11-01 07:45:00     93793.461        93934.055       -93652.875   \n",
       "2017-11-01 08:00:00     93793.461        93934.055       -93652.875   \n",
       "\n",
       "                     Freq1 Cycle_C  THD_I-A_C  THD_I-B_C  THD_I-C_C  \\\n",
       "Tm                                                                    \n",
       "2017-11-01 07:00:00         49.956        0.0        0.0        0.0   \n",
       "2017-11-01 07:15:00         49.956        0.0        0.0        0.0   \n",
       "2017-11-01 07:30:00         49.956        0.0        0.0        0.0   \n",
       "2017-11-01 07:45:00         49.956        0.0        0.0        0.0   \n",
       "2017-11-01 08:00:00         49.956        0.0        0.0        0.0   \n",
       "\n",
       "                     THD_V-AB_C  THD_V-BC_C  THD_V-CA_C  \n",
       "Tm                                                       \n",
       "2017-11-01 07:00:00       1.665       1.991       1.859  \n",
       "2017-11-01 07:15:00       1.665       1.991       1.859  \n",
       "2017-11-01 07:30:00       1.665       1.991       1.859  \n",
       "2017-11-01 07:45:00       1.665       1.991       1.859  \n",
       "2017-11-01 08:00:00       1.665       1.991       1.859  \n",
       "\n",
       "[5 rows x 146 columns]"
      ]
     },
     "execution_count": 34,
     "metadata": {},
     "output_type": "execute_result"
    }
   ],
   "source": [
    "s716_df.head()"
   ]
  },
  {
   "cell_type": "code",
   "execution_count": 38,
   "metadata": {},
   "outputs": [],
   "source": [
    "s716_df = s716_df[(s716_df.index.hour >= 7) & (s716_df.index.hour <= 18)]\n",
    "s717_df = s717_df[(s717_df.index.hour >= 7) & (s717_df.index.hour <= 18)]\n"
   ]
  },
  {
   "cell_type": "code",
   "execution_count": 45,
   "metadata": {},
   "outputs": [],
   "source": [
    "s716_residual, s716_clean = remove_periodic(s716_df['AvgGsi00'],s716_df.index, frequency_threshold=0.01e11)\n",
    "s717_residual, s717_clean = remove_periodic(s717_df['AvgGsi00'],s717_df.index, frequency_threshold=0.01e11)"
   ]
  },
  {
   "cell_type": "code",
   "execution_count": 46,
   "metadata": {},
   "outputs": [
    {
     "data": {
      "image/png": "[encoded data removed]",
      "text/plain": [
       "<matplotlib.figure.Figure at 0x1fb001c30f0>"
      ]
     },
     "metadata": {},
     "output_type": "display_data"
    }
   ],
   "source": [
    "fig = plt.figure(figsize=(12, 8))\n",
    "plt.plot(s716_clean[1:192], color='blue')\n",
    "plt.plot(s716_df[1:192].AvgGsi00.tolist(), color='red')\n",
    "plt.show()"
   ]
  },
  {
   "cell_type": "code",
   "execution_count": 47,
   "metadata": {},
   "outputs": [],
   "source": [
    "s716_df = pd.DataFrame(data={'AvgGsi00': s716_df.AvgGsi00.tolist(), 'residual': s716_residual, 'clean': s716_clean, 'date' : s716_df.index}, index=s716_df.index)\n",
    "s717_df = pd.DataFrame(data={'AvgGsi00': s717_df.AvgGsi00.tolist(), 'residual': s717_residual, 'clean': s717_clean, 'date' : s717_df.index}, index=s717_df.index)\n"
   ]
  },
  {
   "cell_type": "code",
   "execution_count": 48,
   "metadata": {},
   "outputs": [],
   "source": [
    "df1 = pd.DataFrame(data={'irradiance': s716_df.residual.tolist(), 'date' : s716_df.index}, index=s716_df.index)\n",
    "df2 = pd.DataFrame(data={'irradiance': s717_df.residual.tolist(), 'date' : s717_df.index}, index=s717_df.index)"
   ]
  },
  {
   "cell_type": "code",
   "execution_count": 49,
   "metadata": {},
   "outputs": [
    {
     "name": "stdout",
     "output_type": "stream",
     "text": [
      "Normalized Correlation: 0.570985463751\n"
     ]
    },
    {
     "data": {
      "text/plain": [
       "0.5709854637506353"
      ]
     },
     "execution_count": 49,
     "metadata": {},
     "output_type": "execute_result"
    }
   ],
   "source": [
    "daily_normalized_correlation(df1, df2)"
   ]
  }
 ],
 "metadata": {
  "kernelspec": {
   "display_name": "Python 3",
   "language": "python",
   "name": "python3"
  },
  "language_info": {
   "codemirror_mode": {
    "name": "ipython",
    "version": 3
   },
   "file_extension": ".py",
   "mimetype": "text/x-python",
   "name": "python",
   "nbconvert_exporter": "python",
   "pygments_lexer": "ipython3",
   "version": "3.6.4"
  }
 },
 "nbformat": 4,
 "nbformat_minor": 2
}
