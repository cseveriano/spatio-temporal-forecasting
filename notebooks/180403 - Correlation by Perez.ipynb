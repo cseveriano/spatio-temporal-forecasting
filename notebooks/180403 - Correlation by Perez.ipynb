{
 "cells": [
  {
   "cell_type": "code",
   "execution_count": 109,
   "metadata": {},
   "outputs": [],
   "source": [
    "%matplotlib inline\n",
    "import pandas as pd\n",
    "import numpy as np\n",
    "import matplotlib.pyplot as plt\n",
    "import datetime\n",
    "import math\n",
    "\n",
    "import os\n",
    "import sys\n",
    "from numpy.fft import fft, ifft"
   ]
  },
  {
   "cell_type": "markdown",
   "metadata": {},
   "source": [
    "## Funções Auxiliares"
   ]
  },
  {
   "cell_type": "code",
   "execution_count": 110,
   "metadata": {},
   "outputs": [],
   "source": [
    "def remove_periodic(X, df_index, detrending=True, frequency_threshold=0.1e12):\n",
    "    rad = np.array(X)\n",
    "    \n",
    "    if detrending:\n",
    "        det_rad = rad - np.average(rad)\n",
    "    else:\n",
    "        det_rad = rad\n",
    "    \n",
    "    det_rad_fft = fft(det_rad)\n",
    "\n",
    "    # Get the power spectrum\n",
    "    rad_ps = [np.abs(rd)**2 for rd in det_rad_fft]\n",
    "    \n",
    "    clean_rad_fft = [det_rad_fft[i] if rad_ps[i] > frequency_threshold else 0 \n",
    "                     for i in range(len(det_rad_fft))]\n",
    "    \n",
    "    rad_series_clean = ifft(clean_rad_fft)\n",
    "    rad_series_clean = [value.real for value in rad_series_clean]\n",
    "    \n",
    "    if detrending:\n",
    "        rad_trends = rad_series_clean + np.average(rad)\n",
    "    \n",
    "    rad_clean_ts = pd.Series(rad_trends, index=df_index)\n",
    "    \n",
    "    #rad_clean_ts[(rad_clean_ts.index.hour < 6) | (rad_clean_ts.index.hour > 20)] = 0\n",
    "    \n",
    "    return rad - rad_clean_ts.values, rad_clean_ts.values"
   ]
  },
  {
   "cell_type": "code",
   "execution_count": 111,
   "metadata": {},
   "outputs": [],
   "source": [
    "def normalized_cross_correlation(x, y):\n",
    "    mx = np.mean(x)\n",
    "    my = np.mean(y)\n",
    "    dv = math.sqrt(np.var(x) * np.var(y))\n",
    "    \n",
    "    corr = 0\n",
    "\n",
    "    if dv != 0:\n",
    "        for xx,yy in zip(x,y):\n",
    "            corr = corr + (((xx - mx) * (yy - my)) / dv)\n",
    "    \n",
    "    return corr/len(x)"
   ]
  },
  {
   "cell_type": "code",
   "execution_count": 112,
   "metadata": {},
   "outputs": [],
   "source": [
    "def daily_normalized_correlation(df1, df2):\n",
    "    corr = 0\n",
    "\n",
    "    ind  = pd.DataFrame({\"dayofyear\": df1.index.dayofyear, \"year\": df1.index.year})\n",
    "\n",
    "    for index, row in ind.iterrows():\n",
    "        #print(\"Day:\", row[\"dayofyear\"], \", Year:\", row[\"year\"])\n",
    "        station_a = df1[(df1.index.dayofyear == row[\"dayofyear\"]) & (df1.index.year == row[\"year\"])].irradiance.tolist()\n",
    "        station_b = df2[(df2.index.dayofyear == row[\"dayofyear\"]) & (df2.index.year == row[\"year\"])].irradiance.tolist()\n",
    "        v = np.var(station_a)\n",
    "        corr = corr + normalized_cross_correlation(station_a, station_b)\n",
    "    result = corr / len(ind)\n",
    "\n",
    "    print(\"Normalized Correlation:\", result)\n",
    "    return result"
   ]
  },
  {
   "cell_type": "code",
   "execution_count": 113,
   "metadata": {},
   "outputs": [],
   "source": [
    "def daily_weighted_correlation(df1, df2):\n",
    "    corr = 0\n",
    "    var = 0\n",
    "    \n",
    "    ind  = pd.DataFrame({\"dayofyear\": df1.index.dayofyear, \"year\": df1.index.year})\n",
    "\n",
    "    for index, row in ind.iterrows():\n",
    "        #print(\"Day:\", row[\"dayofyear\"], \", Year:\", row[\"year\"])\n",
    "        station_a = df1[(df1.index.dayofyear == row[\"dayofyear\"]) & (df1.index.year == row[\"year\"])].irradiance.tolist()\n",
    "        station_b = df2[(df2.index.dayofyear == row[\"dayofyear\"]) & (df2.index.year == row[\"year\"])].irradiance.tolist()\n",
    "        v = np.var(station_a)\n",
    "        #corr = corr + (np.correlate(station_a, station_b)[0] * v)\n",
    "        corr = corr + (normalized_cross_correlation(station_a, station_b)* v)\n",
    "        var = var + v\n",
    "    result = corr / var   \n",
    "\n",
    "    print(\"Weighted Correlation:\", result)\n",
    "    return result"
   ]
  },
  {
   "cell_type": "code",
   "execution_count": 114,
   "metadata": {},
   "outputs": [],
   "source": [
    "def normalize(x, a, b):\n",
    "    norm_x = []\n",
    "    minx = min(x)\n",
    "    maxx = max(x)\n",
    "    for xx in x:\n",
    "        res = ((b - a) * ((xx - minx) / (maxx - minx))) + a\n",
    "        norm_x.append(res)\n",
    "    \n",
    "    return norm_x"
   ]
  },
  {
   "cell_type": "code",
   "execution_count": 115,
   "metadata": {},
   "outputs": [],
   "source": [
    "def pearson_correlation_coef(x1, x2, nlags):\n",
    "\n",
    "    lags = np.arange(0,nlags)\n",
    "    pearson = []\n",
    "    std = np.std(x1) * np.std(x2)\n",
    "\n",
    "    for lag in lags:\n",
    "        cv = np.cov(x1[lag:], x2[0:(len(x2)-lag)])\n",
    "        pearson.append(cv[0,1] / std)\n",
    "    \n",
    "    return pearson"
   ]
  },
  {
   "cell_type": "markdown",
   "metadata": {},
   "source": [
    "# Analise de Dados"
   ]
  },
  {
   "cell_type": "markdown",
   "metadata": {},
   "source": [
    "## Base SONDA"
   ]
  },
  {
   "cell_type": "code",
   "execution_count": 116,
   "metadata": {},
   "outputs": [],
   "source": [
    "## Mac\n",
    "os.chdir(\"/Users/cseveriano/spatio-temporal-forecasting/\")\n",
    "\n",
    "## Windows\n",
    "#os.chdir(\"C:\\\\Users\\\\cseve\\\\Google Drive\\\\Doutorado\\\\Codes\\\\spatio-temporal-forecasting\")\n",
    "#sys.path.append('C:\\\\Users\\\\cseve\\\\Google Drive\\\\Doutorado\\\\Codes\\\\spatio-temporal-forecasting\\\\src\\\\ext-libraries\\\\pyFTS')\n",
    "\n",
    "################################\n",
    "\n",
    "fln_df = pd.read_csv('data/processed/SONDA/FLN-15min.csv', sep=\";\", parse_dates=['date'], index_col='date')\n",
    "fln_df = fln_df[(fln_df.index >= '2013-11-01') & (fln_df.index <= '2015-11-01')]\n",
    "fln_df = fln_df.fillna(method='ffill')\n",
    "\n",
    "joi_df = pd.read_csv('data/processed/SONDA/JOI-15min.csv', sep=\";\", parse_dates=['date'], index_col='date')\n",
    "joi_df = joi_df[(joi_df.index >= '2013-11-01') & (joi_df.index <= '2015-11-01')]\n",
    "joi_df = joi_df.fillna(method='ffill')\n",
    "\n",
    "sbr_df = pd.read_csv('data/processed/SONDA/SBR-15min.csv', sep=\";\", parse_dates=['date'], index_col='date')\n",
    "sbr_df = sbr_df[(sbr_df.index >= '2013-11-01') & (sbr_df.index <= '2015-11-01')]\n",
    "sbr_df = sbr_df.fillna(method='ffill')"
   ]
  },
  {
   "cell_type": "code",
   "execution_count": 117,
   "metadata": {},
   "outputs": [],
   "source": [
    "fln_df = fln_df.resample('H').mean()\n",
    "joi_df = joi_df.resample('H').mean()\n",
    "sbr_df = sbr_df.resample('H').mean()"
   ]
  },
  {
   "cell_type": "code",
   "execution_count": 118,
   "metadata": {},
   "outputs": [],
   "source": [
    "fln_df = fln_df[(fln_df.index.hour >= 7) & (fln_df.index.hour <= 22)]\n",
    "joi_df = joi_df[(joi_df.index.hour >= 7) & (joi_df.index.hour <= 22)]\n",
    "sbr_df = sbr_df[(sbr_df.index.hour >= 7) & (sbr_df.index.hour <= 22)]"
   ]
  },
  {
   "cell_type": "code",
   "execution_count": 119,
   "metadata": {},
   "outputs": [],
   "source": [
    "fln_residual, fln_clean = remove_periodic(fln_df['glo_avg'],fln_df.index)\n",
    "joi_residual, joi_clean = remove_periodic(joi_df['glo_avg'],joi_df.index)\n",
    "sbr_residual, sbr_clean = remove_periodic(sbr_df['glo_avg'],sbr_df.index)"
   ]
  },
  {
   "cell_type": "code",
   "execution_count": 120,
   "metadata": {},
   "outputs": [],
   "source": [
    "fln_ratio = [x/y for x, y in zip(fln_df['glo_avg'].tolist(), fln_clean)]\n",
    "joi_ratio = [x/y for x, y in zip(joi_df['glo_avg'].tolist(), joi_clean)]\n",
    "sbr_ratio = [x/y for x, y in zip(sbr_df['glo_avg'].tolist(), sbr_clean)]"
   ]
  },
  {
   "cell_type": "code",
   "execution_count": 121,
   "metadata": {},
   "outputs": [
    {
     "data": {
      "image/png": "[encoded data removed]",
      "text/plain": [
       "<matplotlib.figure.Figure at 0x119dd6c18>"
      ]
     },
     "metadata": {},
     "output_type": "display_data"
    }
   ],
   "source": [
    "fig = plt.figure(figsize=(12, 8))\n",
    "plt.plot(fln_clean[1:192], color='blue')\n",
    "plt.plot(fln_df[1:192].glo_avg.tolist(), color='red')\n",
    "plt.show()"
   ]
  },
  {
   "cell_type": "code",
   "execution_count": 122,
   "metadata": {},
   "outputs": [],
   "source": [
    "fln_df = pd.DataFrame(data={'glo_avg': fln_df.glo_avg.tolist(), 'residual': fln_residual, 'clean': fln_clean, 'ratio': fln_ratio, 'date' : fln_df.index}, index=fln_df.index)\n",
    "joi_df = pd.DataFrame(data={'glo_avg': joi_df.glo_avg.tolist(), 'residual': joi_residual, 'clean': joi_clean, 'ratio': joi_ratio, 'date' : joi_df.index}, index=joi_df.index)\n",
    "sbr_df = pd.DataFrame(data={'glo_avg': sbr_df.glo_avg.tolist(), 'residual': sbr_residual, 'clean': sbr_clean, 'ratio': sbr_ratio, 'date' : sbr_df.index}, index=sbr_df.index)"
   ]
  },
  {
   "cell_type": "code",
   "execution_count": null,
   "metadata": {},
   "outputs": [],
   "source": []
  },
  {
   "cell_type": "code",
   "execution_count": 123,
   "metadata": {},
   "outputs": [],
   "source": [
    "df1 = pd.DataFrame(data={'irradiance': fln_df.residual.tolist(), 'date' : fln_df.index}, index=fln_df.index)\n",
    "df2 = pd.DataFrame(data={'irradiance': joi_df.residual.tolist(), 'date' : joi_df.index}, index=joi_df.index)\n"
   ]
  },
  {
   "cell_type": "code",
   "execution_count": null,
   "metadata": {},
   "outputs": [],
   "source": [
    "daily_normalized_correlation(df1, df2)"
   ]
  },
  {
   "cell_type": "code",
   "execution_count": null,
   "metadata": {},
   "outputs": [],
   "source": [
    "daily_weighted_correlation(df1, df2)"
   ]
  },
  {
   "cell_type": "code",
   "execution_count": 128,
   "metadata": {},
   "outputs": [
    {
     "data": {
      "text/plain": [
       "[1.0000856237691587,\n",
       " 0.82748085648079495,\n",
       " 0.63461765262508829,\n",
       " 0.45671396079713239,\n",
       " 0.31171316830653434,\n",
       " 0.19280148333831826,\n",
       " 0.10025342056097282,\n",
       " 0.038328361970728669,\n",
       " 0.0082145866572527447,\n",
       " 0.011227786969350529,\n",
       " 0.038966377312898474,\n",
       " 0.081064509259687764,\n",
       " 0.1380163111299568,\n",
       " 0.20017681361357675,\n",
       " 0.26409447180889711,\n",
       " 0.31861515510414251,\n",
       " 0.33295041927950247,\n",
       " 0.29014628636928447,\n",
       " 0.21805869984658408,\n",
       " 0.14439715259587046,\n",
       " 0.08271660070823042,\n",
       " 0.040344188238362978,\n",
       " 0.012043163028915282,\n",
       " -0.013574608068049774,\n",
       " -0.028872764599550304,\n",
       " -0.028034401629343498,\n",
       " -0.01382589848578889,\n",
       " 0.0083770319540301553,\n",
       " 0.035765998429156655,\n",
       " 0.069959894874301917,\n",
       " 0.10978390285908274,\n",
       " 0.15130137397459281,\n",
       " 0.17019526362160628,\n",
       " 0.14886200528551041,\n",
       " 0.10312519760886994,\n",
       " 0.058588167150392716,\n",
       " 0.027648842555405711,\n",
       " 0.0045270996212118707,\n",
       " -0.015414976999290113,\n",
       " -0.031116643848574706,\n",
       " -0.040344005374398882,\n",
       " -0.041484248052714834,\n",
       " -0.034745000736014504,\n",
       " -0.024221431779846099,\n",
       " -0.0096066149009041805,\n",
       " 0.019066316876636326,\n",
       " 0.055219491302509381,\n",
       " 0.095578009790244209]"
      ]
     },
     "execution_count": 128,
     "metadata": {},
     "output_type": "execute_result"
    }
   ],
   "source": [
    "pearson_correlation_coef(fln_df.residual.tolist(),fln_df.residual.tolist(), 48)"
   ]
  },
  {
   "cell_type": "markdown",
   "metadata": {},
   "source": [
    "## Base SINGA"
   ]
  },
  {
   "cell_type": "code",
   "execution_count": null,
   "metadata": {},
   "outputs": [],
   "source": [
    "import glob"
   ]
  },
  {
   "cell_type": "code",
   "execution_count": null,
   "metadata": {},
   "outputs": [],
   "source": [
    "def load_data(path, resampling=None):\n",
    "    ## some resampling options: 'H' - hourly, '15min' - 15 minutes, 'M' - montlhy\n",
    "    ## more options at:\n",
    "    ## http://benalexkeen.com/resampling-time-series-data-with-pandas/\n",
    "    allFiles = glob.iglob(path + \"/**/*.txt\", recursive=True)\n",
    "    frame = pd.DataFrame()\n",
    "    list_ = []\n",
    "    for file_ in allFiles:\n",
    "        #print(\"Reading: \",file_)\n",
    "        df = pd.read_csv(file_,index_col=\"Tm\",parse_dates=['Tm'], header=0, sep=\"\\t\")\n",
    "        if frame.columns is None :\n",
    "            frame.columns = df.columns\n",
    "        list_.append(df)\n",
    "    frame = pd.concat(list_)\n",
    "    if resampling is not None:\n",
    "        frame = frame.resample(resampling).mean()\n",
    "    return frame"
   ]
  },
  {
   "cell_type": "code",
   "execution_count": null,
   "metadata": {},
   "outputs": [],
   "source": [
    "#Mac\n",
    "#singa_path = '/Users/cseveriano/spatio-temporal-forecasting/data/raw/SINGA-Nobre/716 2017-11/''\n",
    "\n",
    "#Windows\n",
    "singa_path = 'C:\\\\Users\\\\cseve\\\\Google Drive\\\\Doutorado\\\\Codes\\\\spatio-temporal-forecasting\\\\data\\\\raw\\\\SINGA-Nobre\\\\'\n",
    "\n",
    "s716_df = load_data(singa_path+\"716\", '15min')\n",
    "s716_df = s716_df.fillna(method='ffill')\n",
    "\n",
    "s717_df = load_data(singa_path+\"717\", '15min')\n",
    "s717_df = s717_df.fillna(method='ffill')"
   ]
  },
  {
   "cell_type": "code",
   "execution_count": null,
   "metadata": {},
   "outputs": [],
   "source": [
    "s716_df.head()"
   ]
  },
  {
   "cell_type": "code",
   "execution_count": null,
   "metadata": {},
   "outputs": [],
   "source": [
    "s716_df = s716_df[(s716_df.index.hour >= 7) & (s716_df.index.hour <= 18)]\n",
    "s717_df = s717_df[(s717_df.index.hour >= 7) & (s717_df.index.hour <= 18)]\n"
   ]
  },
  {
   "cell_type": "code",
   "execution_count": null,
   "metadata": {},
   "outputs": [],
   "source": [
    "s716_residual, s716_clean = remove_periodic(s716_df['AvgGsi00'],s716_df.index, frequency_threshold=0.01e11)\n",
    "s717_residual, s717_clean = remove_periodic(s717_df['AvgGsi00'],s717_df.index, frequency_threshold=0.01e11)"
   ]
  },
  {
   "cell_type": "code",
   "execution_count": null,
   "metadata": {},
   "outputs": [],
   "source": [
    "fig = plt.figure(figsize=(12, 8))\n",
    "plt.plot(s716_clean[1:192], color='blue')\n",
    "plt.plot(s716_df[1:192].AvgGsi00.tolist(), color='red')\n",
    "plt.show()"
   ]
  },
  {
   "cell_type": "code",
   "execution_count": null,
   "metadata": {},
   "outputs": [],
   "source": [
    "s716_df = pd.DataFrame(data={'AvgGsi00': s716_df.AvgGsi00.tolist(), 'residual': s716_residual, 'clean': s716_clean, 'date' : s716_df.index}, index=s716_df.index)\n",
    "s717_df = pd.DataFrame(data={'AvgGsi00': s717_df.AvgGsi00.tolist(), 'residual': s717_residual, 'clean': s717_clean, 'date' : s717_df.index}, index=s717_df.index)\n"
   ]
  },
  {
   "cell_type": "code",
   "execution_count": null,
   "metadata": {},
   "outputs": [],
   "source": [
    "df1 = pd.DataFrame(data={'irradiance': s716_df.residual.tolist(), 'date' : s716_df.index}, index=s716_df.index)\n",
    "df2 = pd.DataFrame(data={'irradiance': s717_df.residual.tolist(), 'date' : s717_df.index}, index=s717_df.index)"
   ]
  },
  {
   "cell_type": "code",
   "execution_count": null,
   "metadata": {},
   "outputs": [],
   "source": [
    "daily_normalized_correlation(df1, df2)"
   ]
  }
 ],
 "metadata": {
  "kernelspec": {
   "display_name": "Python 3",
   "language": "python",
   "name": "python3"
  },
  "language_info": {
   "codemirror_mode": {
    "name": "ipython",
    "version": 3
   },
   "file_extension": ".py",
   "mimetype": "text/x-python",
   "name": "python",
   "nbconvert_exporter": "python",
   "pygments_lexer": "ipython3",
   "version": "3.6.4"
  }
 },
 "nbformat": 4,
 "nbformat_minor": 2
}
