{
 "cells": [
  {
   "cell_type": "code",
   "execution_count": 1,
   "metadata": {},
   "outputs": [],
   "source": [
    "import numpy as np # linear algebra\n",
    "import pandas as pd # data processing, CSV file I/O (e.g. pd.read_csv)\n",
    "import matplotlib.pyplot as plt\n",
    "\n",
    "from numpy.fft import fft, ifft\n",
    "import os"
   ]
  },
  {
   "cell_type": "code",
   "execution_count": 27,
   "metadata": {},
   "outputs": [],
   "source": [
    "def remove_periodic(X, df_index, detrending=True):\n",
    "    rad = np.array(X)\n",
    "    \n",
    "    if detrending:\n",
    "        det_rad = rad - np.average(rad)\n",
    "    else:\n",
    "        det_rad = rad\n",
    "    \n",
    "    det_rad_fft = fft(det_rad)\n",
    "\n",
    "    # Get the power spectrum\n",
    "    rad_ps = [np.abs(rd)**2 for rd in det_rad_fft]\n",
    "    \n",
    "    frequency_threshold = 0.1e12\n",
    "    clean_rad_fft = [det_rad_fft[i] if rad_ps[i] > frequency_threshold else 0 \n",
    "                     for i in range(len(det_rad_fft))]\n",
    "    \n",
    "    rad_series_clean = ifft(clean_rad_fft)\n",
    "    rad_series_clean = [value.real for value in rad_series_clean]\n",
    "    \n",
    "    if detrending:\n",
    "        rad_trends = rad_series_clean + np.average(rad)\n",
    "    \n",
    "    rad_clean_ts = pd.Series(rad_trends, index=df_index)\n",
    "    \n",
    "    rad_clean_ts[(rad_clean_ts.index.hour < 6) | (rad_clean_ts.index.hour > 20)] = 0\n",
    "    \n",
    "    return rad - rad_clean_ts.values, rad_clean_ts.values"
   ]
  },
  {
   "cell_type": "code",
   "execution_count": 3,
   "metadata": {},
   "outputs": [],
   "source": [
    "os.chdir(\"/Users/cseveriano/spatio-temporal-forecasting/\")\n",
    "\n",
    "fln_df = pd.read_csv('data/processed/SONDA/FLN-15min.csv', sep=\";\", parse_dates=['date'], index_col='date')\n",
    "\n",
    "# Fill the gaps in the series\n",
    "fln_df = fln_df.fillna(method='ffill')"
   ]
  },
  {
   "cell_type": "code",
   "execution_count": 4,
   "metadata": {},
   "outputs": [],
   "source": [
    "fln_df = fln_df[(fln_df.index >= '2013-11-01') & (fln_df.index <= '2014-11-01')]"
   ]
  },
  {
   "cell_type": "code",
   "execution_count": 5,
   "metadata": {},
   "outputs": [
    {
     "data": {
      "image/png": "[encoded data removed]",
      "text/plain": [
       "<matplotlib.figure.Figure at 0x116482978>"
      ]
     },
     "metadata": {},
     "output_type": "display_data"
    }
   ],
   "source": [
    "hour_temp = fln_df.resample('H').mean()\n",
    "\n",
    "hour_temp['glo_avg'].plot()\n",
    "plt.grid()"
   ]
  },
  {
   "cell_type": "code",
   "execution_count": 28,
   "metadata": {},
   "outputs": [],
   "source": [
    "fln_residual, fln_clean = remove_periodic(hour_temp['glo_avg'],hour_temp.index)"
   ]
  },
  {
   "cell_type": "code",
   "execution_count": 12,
   "metadata": {},
   "outputs": [],
   "source": [
    "os.chdir(\"/Users/cseveriano/spatio-temporal-forecasting/\")\n",
    "\n",
    "joi_df = pd.read_csv('data/processed/SONDA/JOI-15min.csv', sep=\";\", parse_dates=['date'], index_col='date')\n",
    "\n",
    "# Fill the gaps in the series\n",
    "joi_df = joi_df.fillna(method='ffill')\n",
    "joi_df = joi_df[(joi_df.index >= '2013-11-01') & (joi_df.index <= '2014-11-01')]\n",
    "joi_hour_temp = joi_df.resample('H').mean()"
   ]
  },
  {
   "cell_type": "code",
   "execution_count": 29,
   "metadata": {},
   "outputs": [],
   "source": [
    "joi_residual, joi_clean = remove_periodic(joi_hour_temp['glo_avg'],joi_hour_temp.index)"
   ]
  },
  {
   "cell_type": "markdown",
   "metadata": {},
   "source": [
    "## Cross Correlation Test"
   ]
  },
  {
   "cell_type": "code",
   "execution_count": 30,
   "metadata": {},
   "outputs": [
    {
     "data": {
      "text/plain": [
       "array([[ 1.        ,  0.60262961],\n",
       "       [ 0.60262961,  1.        ]])"
      ]
     },
     "execution_count": 30,
     "metadata": {},
     "output_type": "execute_result"
    }
   ],
   "source": [
    "np.corrcoef(fln_residual, joi_residual)"
   ]
  },
  {
   "cell_type": "code",
   "execution_count": 33,
   "metadata": {},
   "outputs": [],
   "source": [
    "from sklearn.metrics import mean_squared_error\n",
    "from math import sqrt\n",
    "\n",
    "nrmse = sqrt(mean_squared_error(hour_temp['glo_avg'], fln_clean)) / np.mean(hour_temp['glo_avg'])"
   ]
  },
  {
   "cell_type": "code",
   "execution_count": 34,
   "metadata": {},
   "outputs": [
    {
     "data": {
      "text/plain": [
       "0.7791145122036909"
      ]
     },
     "execution_count": 34,
     "metadata": {},
     "output_type": "execute_result"
    }
   ],
   "source": [
    "nrmse"
   ]
  }
 ],
 "metadata": {
  "kernelspec": {
   "display_name": "Python 3",
   "language": "python",
   "name": "python3"
  },
  "language_info": {
   "codemirror_mode": {
    "name": "ipython",
    "version": 3
   },
   "file_extension": ".py",
   "mimetype": "text/x-python",
   "name": "python",
   "nbconvert_exporter": "python",
   "pygments_lexer": "ipython3",
   "version": "3.6.4"
  }
 },
 "nbformat": 4,
 "nbformat_minor": 2
}
