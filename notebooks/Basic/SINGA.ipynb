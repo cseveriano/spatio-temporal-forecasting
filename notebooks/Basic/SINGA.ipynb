{
 "cells": [
  {
   "cell_type": "code",
   "execution_count": 1,
   "metadata": {},
   "outputs": [],
   "source": [
    "import glob\n",
    "import pandas as pd\n"
   ]
  },
  {
   "cell_type": "code",
   "execution_count": 3,
   "metadata": {},
   "outputs": [
    {
     "name": "stdout",
     "output_type": "stream",
     "text": [
      "Reading:  C:\\Users\\cseve\\Google Drive\\Doutorado\\Codes\\spatio-temporal-forecasting\\data\\raw\\SINGA-Nobre\\716\\716 2017-11\\[716] 2017-11-01.txt\n",
      "Reading:  C:\\Users\\cseve\\Google Drive\\Doutorado\\Codes\\spatio-temporal-forecasting\\data\\raw\\SINGA-Nobre\\716\\716 2017-11\\[716] 2017-11-02.txt\n",
      "Reading:  C:\\Users\\cseve\\Google Drive\\Doutorado\\Codes\\spatio-temporal-forecasting\\data\\raw\\SINGA-Nobre\\716\\716 2017-11\\[716] 2017-11-03.txt\n",
      "Reading:  C:\\Users\\cseve\\Google Drive\\Doutorado\\Codes\\spatio-temporal-forecasting\\data\\raw\\SINGA-Nobre\\716\\716 2017-11\\[716] 2017-11-04.txt\n",
      "Reading:  C:\\Users\\cseve\\Google Drive\\Doutorado\\Codes\\spatio-temporal-forecasting\\data\\raw\\SINGA-Nobre\\716\\716 2017-11\\[716] 2017-11-05.txt\n",
      "Reading:  C:\\Users\\cseve\\Google Drive\\Doutorado\\Codes\\spatio-temporal-forecasting\\data\\raw\\SINGA-Nobre\\716\\716 2017-11\\[716] 2017-11-06.txt\n",
      "Reading:  C:\\Users\\cseve\\Google Drive\\Doutorado\\Codes\\spatio-temporal-forecasting\\data\\raw\\SINGA-Nobre\\716\\716 2017-11\\[716] 2017-11-07.txt\n",
      "Reading:  C:\\Users\\cseve\\Google Drive\\Doutorado\\Codes\\spatio-temporal-forecasting\\data\\raw\\SINGA-Nobre\\716\\716 2017-11\\[716] 2017-11-08.txt\n",
      "Reading:  C:\\Users\\cseve\\Google Drive\\Doutorado\\Codes\\spatio-temporal-forecasting\\data\\raw\\SINGA-Nobre\\716\\716 2017-11\\[716] 2017-11-09.txt\n",
      "Reading:  C:\\Users\\cseve\\Google Drive\\Doutorado\\Codes\\spatio-temporal-forecasting\\data\\raw\\SINGA-Nobre\\716\\716 2017-11\\[716] 2017-11-10.txt\n",
      "Reading:  C:\\Users\\cseve\\Google Drive\\Doutorado\\Codes\\spatio-temporal-forecasting\\data\\raw\\SINGA-Nobre\\716\\716 2017-11\\[716] 2017-11-11.txt\n",
      "Reading:  C:\\Users\\cseve\\Google Drive\\Doutorado\\Codes\\spatio-temporal-forecasting\\data\\raw\\SINGA-Nobre\\716\\716 2017-11\\[716] 2017-11-12.txt\n",
      "Reading:  C:\\Users\\cseve\\Google Drive\\Doutorado\\Codes\\spatio-temporal-forecasting\\data\\raw\\SINGA-Nobre\\716\\716 2017-11\\[716] 2017-11-13.txt\n",
      "Reading:  C:\\Users\\cseve\\Google Drive\\Doutorado\\Codes\\spatio-temporal-forecasting\\data\\raw\\SINGA-Nobre\\716\\716 2017-11\\[716] 2017-11-14.txt\n",
      "Reading:  C:\\Users\\cseve\\Google Drive\\Doutorado\\Codes\\spatio-temporal-forecasting\\data\\raw\\SINGA-Nobre\\716\\716 2017-11\\[716] 2017-11-15.txt\n",
      "Reading:  C:\\Users\\cseve\\Google Drive\\Doutorado\\Codes\\spatio-temporal-forecasting\\data\\raw\\SINGA-Nobre\\716\\716 2017-11\\[716] 2017-11-16.txt\n",
      "Reading:  C:\\Users\\cseve\\Google Drive\\Doutorado\\Codes\\spatio-temporal-forecasting\\data\\raw\\SINGA-Nobre\\716\\716 2017-11\\[716] 2017-11-17.txt\n",
      "Reading:  C:\\Users\\cseve\\Google Drive\\Doutorado\\Codes\\spatio-temporal-forecasting\\data\\raw\\SINGA-Nobre\\716\\716 2017-11\\[716] 2017-11-18.txt\n",
      "Reading:  C:\\Users\\cseve\\Google Drive\\Doutorado\\Codes\\spatio-temporal-forecasting\\data\\raw\\SINGA-Nobre\\716\\716 2017-11\\[716] 2017-11-19.txt\n",
      "Reading:  C:\\Users\\cseve\\Google Drive\\Doutorado\\Codes\\spatio-temporal-forecasting\\data\\raw\\SINGA-Nobre\\716\\716 2017-11\\[716] 2017-11-20.txt\n",
      "Reading:  C:\\Users\\cseve\\Google Drive\\Doutorado\\Codes\\spatio-temporal-forecasting\\data\\raw\\SINGA-Nobre\\716\\716 2017-11\\[716] 2017-11-21.txt\n",
      "Reading:  C:\\Users\\cseve\\Google Drive\\Doutorado\\Codes\\spatio-temporal-forecasting\\data\\raw\\SINGA-Nobre\\716\\716 2017-11\\[716] 2017-11-22.txt\n",
      "Reading:  C:\\Users\\cseve\\Google Drive\\Doutorado\\Codes\\spatio-temporal-forecasting\\data\\raw\\SINGA-Nobre\\716\\716 2017-11\\[716] 2017-11-23.txt\n",
      "Reading:  C:\\Users\\cseve\\Google Drive\\Doutorado\\Codes\\spatio-temporal-forecasting\\data\\raw\\SINGA-Nobre\\716\\716 2017-11\\[716] 2017-11-24.txt\n",
      "Reading:  C:\\Users\\cseve\\Google Drive\\Doutorado\\Codes\\spatio-temporal-forecasting\\data\\raw\\SINGA-Nobre\\716\\716 2017-11\\[716] 2017-11-25.txt\n",
      "Reading:  C:\\Users\\cseve\\Google Drive\\Doutorado\\Codes\\spatio-temporal-forecasting\\data\\raw\\SINGA-Nobre\\716\\716 2017-11\\[716] 2017-11-26.txt\n",
      "Reading:  C:\\Users\\cseve\\Google Drive\\Doutorado\\Codes\\spatio-temporal-forecasting\\data\\raw\\SINGA-Nobre\\716\\716 2017-11\\[716] 2017-11-27.txt\n",
      "Reading:  C:\\Users\\cseve\\Google Drive\\Doutorado\\Codes\\spatio-temporal-forecasting\\data\\raw\\SINGA-Nobre\\716\\716 2017-11\\[716] 2017-11-28.txt\n",
      "Reading:  C:\\Users\\cseve\\Google Drive\\Doutorado\\Codes\\spatio-temporal-forecasting\\data\\raw\\SINGA-Nobre\\716\\716 2017-11\\[716] 2017-11-29.txt\n",
      "Reading:  C:\\Users\\cseve\\Google Drive\\Doutorado\\Codes\\spatio-temporal-forecasting\\data\\raw\\SINGA-Nobre\\716\\716 2017-11\\[716] 2017-11-30.txt\n",
      "Reading:  C:\\Users\\cseve\\Google Drive\\Doutorado\\Codes\\spatio-temporal-forecasting\\data\\raw\\SINGA-Nobre\\716\\716 2018-02\\[716] 2018-02-01.txt\n",
      "Reading:  C:\\Users\\cseve\\Google Drive\\Doutorado\\Codes\\spatio-temporal-forecasting\\data\\raw\\SINGA-Nobre\\716\\716 2018-02\\[716] 2018-02-02.txt\n",
      "Reading:  C:\\Users\\cseve\\Google Drive\\Doutorado\\Codes\\spatio-temporal-forecasting\\data\\raw\\SINGA-Nobre\\716\\716 2018-02\\[716] 2018-02-03.txt\n",
      "Reading:  C:\\Users\\cseve\\Google Drive\\Doutorado\\Codes\\spatio-temporal-forecasting\\data\\raw\\SINGA-Nobre\\716\\716 2018-02\\[716] 2018-02-04.txt\n",
      "Reading:  C:\\Users\\cseve\\Google Drive\\Doutorado\\Codes\\spatio-temporal-forecasting\\data\\raw\\SINGA-Nobre\\716\\716 2018-02\\[716] 2018-02-05.txt\n",
      "Reading:  C:\\Users\\cseve\\Google Drive\\Doutorado\\Codes\\spatio-temporal-forecasting\\data\\raw\\SINGA-Nobre\\716\\716 2018-02\\[716] 2018-02-06.txt\n",
      "Reading:  C:\\Users\\cseve\\Google Drive\\Doutorado\\Codes\\spatio-temporal-forecasting\\data\\raw\\SINGA-Nobre\\716\\716 2018-02\\[716] 2018-02-07.txt\n",
      "Reading:  C:\\Users\\cseve\\Google Drive\\Doutorado\\Codes\\spatio-temporal-forecasting\\data\\raw\\SINGA-Nobre\\716\\716 2018-02\\[716] 2018-02-08.txt\n",
      "Reading:  C:\\Users\\cseve\\Google Drive\\Doutorado\\Codes\\spatio-temporal-forecasting\\data\\raw\\SINGA-Nobre\\716\\716 2018-02\\[716] 2018-02-09.txt\n",
      "Reading:  C:\\Users\\cseve\\Google Drive\\Doutorado\\Codes\\spatio-temporal-forecasting\\data\\raw\\SINGA-Nobre\\716\\716 2018-02\\[716] 2018-02-10.txt\n",
      "Reading:  C:\\Users\\cseve\\Google Drive\\Doutorado\\Codes\\spatio-temporal-forecasting\\data\\raw\\SINGA-Nobre\\716\\716 2018-02\\[716] 2018-02-11.txt\n",
      "Reading:  C:\\Users\\cseve\\Google Drive\\Doutorado\\Codes\\spatio-temporal-forecasting\\data\\raw\\SINGA-Nobre\\716\\716 2018-02\\[716] 2018-02-12.txt\n",
      "Reading:  C:\\Users\\cseve\\Google Drive\\Doutorado\\Codes\\spatio-temporal-forecasting\\data\\raw\\SINGA-Nobre\\716\\716 2018-02\\[716] 2018-02-13.txt\n",
      "Reading:  C:\\Users\\cseve\\Google Drive\\Doutorado\\Codes\\spatio-temporal-forecasting\\data\\raw\\SINGA-Nobre\\716\\716 2018-02\\[716] 2018-02-14.txt\n",
      "Reading:  C:\\Users\\cseve\\Google Drive\\Doutorado\\Codes\\spatio-temporal-forecasting\\data\\raw\\SINGA-Nobre\\716\\716 2018-02\\[716] 2018-02-15.txt\n",
      "Reading:  C:\\Users\\cseve\\Google Drive\\Doutorado\\Codes\\spatio-temporal-forecasting\\data\\raw\\SINGA-Nobre\\716\\716 2018-02\\[716] 2018-02-16.txt\n",
      "Reading:  C:\\Users\\cseve\\Google Drive\\Doutorado\\Codes\\spatio-temporal-forecasting\\data\\raw\\SINGA-Nobre\\716\\716 2018-02\\[716] 2018-02-17.txt\n",
      "Reading:  C:\\Users\\cseve\\Google Drive\\Doutorado\\Codes\\spatio-temporal-forecasting\\data\\raw\\SINGA-Nobre\\716\\716 2018-02\\[716] 2018-02-18.txt\n",
      "Reading:  C:\\Users\\cseve\\Google Drive\\Doutorado\\Codes\\spatio-temporal-forecasting\\data\\raw\\SINGA-Nobre\\716\\716 2018-02\\[716] 2018-02-19.txt\n",
      "Reading:  C:\\Users\\cseve\\Google Drive\\Doutorado\\Codes\\spatio-temporal-forecasting\\data\\raw\\SINGA-Nobre\\716\\716 2018-02\\[716] 2018-02-20.txt\n",
      "Reading:  C:\\Users\\cseve\\Google Drive\\Doutorado\\Codes\\spatio-temporal-forecasting\\data\\raw\\SINGA-Nobre\\716\\716 2018-02\\[716] 2018-02-21.txt\n",
      "Reading:  C:\\Users\\cseve\\Google Drive\\Doutorado\\Codes\\spatio-temporal-forecasting\\data\\raw\\SINGA-Nobre\\716\\716 2018-02\\[716] 2018-02-22.txt\n",
      "Reading:  C:\\Users\\cseve\\Google Drive\\Doutorado\\Codes\\spatio-temporal-forecasting\\data\\raw\\SINGA-Nobre\\716\\716 2018-02\\[716] 2018-02-23.txt\n",
      "Reading:  C:\\Users\\cseve\\Google Drive\\Doutorado\\Codes\\spatio-temporal-forecasting\\data\\raw\\SINGA-Nobre\\716\\716 2018-02\\[716] 2018-02-24.txt\n",
      "Reading:  C:\\Users\\cseve\\Google Drive\\Doutorado\\Codes\\spatio-temporal-forecasting\\data\\raw\\SINGA-Nobre\\716\\716 2018-02\\[716] 2018-02-25.txt\n",
      "Reading:  C:\\Users\\cseve\\Google Drive\\Doutorado\\Codes\\spatio-temporal-forecasting\\data\\raw\\SINGA-Nobre\\716\\716 2018-02\\[716] 2018-02-26.txt\n",
      "Reading:  C:\\Users\\cseve\\Google Drive\\Doutorado\\Codes\\spatio-temporal-forecasting\\data\\raw\\SINGA-Nobre\\716\\716 2018-02\\[716] 2018-02-27.txt\n",
      "Reading:  C:\\Users\\cseve\\Google Drive\\Doutorado\\Codes\\spatio-temporal-forecasting\\data\\raw\\SINGA-Nobre\\716\\716 2018-02\\[716] 2018-02-28.txt\n"
     ]
    }
   ],
   "source": [
    "#Mac\n",
    "#path ='/Users/cseveriano/spatio-temporal-forecasting/data/raw/SINGA-Nobre/716'\n",
    "\n",
    "#Windows\n",
    "path ='C:\\\\Users\\\\cseve\\\\Google Drive\\\\Doutorado\\\\Codes\\\\spatio-temporal-forecasting\\\\data\\\\raw\\\\SINGA-Nobre\\\\716'\n",
    "\n",
    "allFiles = glob.iglob(path + \"/**/*.txt\", recursive=True)\n",
    "\n",
    "frame = pd.DataFrame()\n",
    "list_ = []\n",
    "for file_ in allFiles:\n",
    "    print(\"Reading: \",file_)\n",
    "    df = pd.read_csv(file_,index_col=\"Tm\",parse_dates=['Tm'], header=0, sep=\"\\t\")\n",
    "    if frame.columns is None :\n",
    "        frame.columns = df.columns\n",
    "    list_.append(df)\n",
    "frame = pd.concat(list_)"
   ]
  },
  {
   "cell_type": "code",
   "execution_count": 29,
   "metadata": {},
   "outputs": [],
   "source": [
    "def load_data(path, resampling=None):\n",
    "    ## some resampling options: 'H' - hourly, '15min' - 15 minutes, 'M' - montlhy\n",
    "    ## more options at:\n",
    "    ## http://benalexkeen.com/resampling-time-series-data-with-pandas/\n",
    "    allFiles = glob.iglob(path + \"/**/*.txt\", recursive=True)\n",
    "    frame = pd.DataFrame()\n",
    "    list_ = []\n",
    "    for file_ in allFiles:\n",
    "        #print(\"Reading: \",file_)\n",
    "        df = pd.read_csv(file_,index_col=\"Tm\",parse_dates=['Tm'], header=0, sep=\"\\t\")\n",
    "        if frame.columns is None :\n",
    "            frame.columns = df.columns\n",
    "        list_.append(df)\n",
    "    frame = pd.concat(list_)\n",
    "    if resampling is not None:\n",
    "        frame = frame.resample(resampling).mean()\n",
    "    return frame"
   ]
  },
  {
   "cell_type": "code",
   "execution_count": 30,
   "metadata": {},
   "outputs": [],
   "source": [
    "nov_716 = load_data('/Users/cseveriano/spatio-temporal-forecasting/data/raw/SINGA-Nobre/716 2017-11', '15min')\n",
    "\n"
   ]
  },
  {
   "cell_type": "code",
   "execution_count": 37,
   "metadata": {},
   "outputs": [
    {
     "data": {
      "text/plain": [
       "pandas.core.series.Series"
      ]
     },
     "execution_count": 37,
     "metadata": {},
     "output_type": "execute_result"
    }
   ],
   "source": [
    "type(nov_716.AvgGsi00)"
   ]
  },
  {
   "cell_type": "code",
   "execution_count": 38,
   "metadata": {},
   "outputs": [
    {
     "data": {
      "image/png": "[encoded data removed]",
      "text/plain": [
       "<matplotlib.figure.Figure at 0x11573cba8>"
      ]
     },
     "metadata": {},
     "output_type": "display_data"
    }
   ],
   "source": [
    "import matplotlib.pyplot as plt\n",
    "import numpy as np\n",
    "import matplotlib.mlab as mlab\n",
    "\n",
    "Fs = 96;  # sampling rate\n",
    "Ts = 1.0/Fs; # sampling interval\n",
    "t = np.arange(0,30,Ts) # time vector\n",
    "y = nov_716.AvgGsi00\n",
    "\n",
    "plt.subplot(211)\n",
    "plt.plot(t, y)\n",
    "plt.subplot(212)\n",
    "plt.psd(y, 96, Fs)\n",
    "\n",
    "plt.show()"
   ]
  },
  {
   "cell_type": "code",
   "execution_count": 15,
   "metadata": {},
   "outputs": [
    {
     "name": "stdout",
     "output_type": "stream",
     "text": [
      "<class 'pandas.core.frame.DataFrame'>\n",
      "DatetimeIndex: 1438 entries, 2017-11-01 00:00:00 to 2017-11-01 23:59:00\n",
      "Columns: 146 entries, Rec_ID to THD_V-CA_C\n",
      "dtypes: float64(145), int64(1)\n",
      "memory usage: 1.6 MB\n"
     ]
    },
    {
     "data": {
      "text/plain": [
       "array([[  9.77200000e+03,  -1.23000000e-01,   2.72380000e+01, ...,\n",
       "          1.59000000e+00,   1.88100000e+00,   1.75500000e+00],\n",
       "       [  9.77300000e+03,   1.45000000e-01,   2.72530000e+01, ...,\n",
       "          1.56700000e+00,   1.79700000e+00,   1.74200000e+00],\n",
       "       [  9.77400000e+03,  -2.82000000e-01,   2.72770000e+01, ...,\n",
       "          1.58400000e+00,   1.84000000e+00,   1.77200000e+00],\n",
       "       ..., \n",
       "       [  1.13400000e+03,  -1.51000000e-01,   2.69840000e+01, ...,\n",
       "          1.66500000e+00,   1.99100000e+00,   1.85900000e+00],\n",
       "       [  1.13500000e+03,  -9.80000000e-02,   2.70230000e+01, ...,\n",
       "          1.66500000e+00,   1.99100000e+00,   1.85900000e+00],\n",
       "       [  1.13600000e+03,   5.80000000e-02,   2.70400000e+01, ...,\n",
       "          1.66500000e+00,   1.99100000e+00,   1.85900000e+00]])"
      ]
     },
     "execution_count": 15,
     "metadata": {},
     "output_type": "execute_result"
    }
   ],
   "source": []
  }
 ],
 "metadata": {
  "kernelspec": {
   "display_name": "Python 3",
   "language": "python",
   "name": "python3"
  },
  "language_info": {
   "codemirror_mode": {
    "name": "ipython",
    "version": 3
   },
   "file_extension": ".py",
   "mimetype": "text/x-python",
   "name": "python",
   "nbconvert_exporter": "python",
   "pygments_lexer": "ipython3",
   "version": "3.6.4"
  }
 },
 "nbformat": 4,
 "nbformat_minor": 2
}
