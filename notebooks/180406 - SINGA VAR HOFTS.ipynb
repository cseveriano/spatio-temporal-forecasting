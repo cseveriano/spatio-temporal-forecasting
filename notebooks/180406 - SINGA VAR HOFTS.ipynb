{
 "cells": [
  {
   "cell_type": "code",
   "execution_count": 1,
   "metadata": {},
   "outputs": [],
   "source": [
    "%matplotlib inline\n",
    "import pandas as pd\n",
    "import numpy as np\n",
    "import matplotlib.pyplot as plt\n",
    "import datetime\n",
    "import math\n",
    "\n",
    "import os\n",
    "import sys\n",
    "from numpy.fft import fft, ifft\n",
    "import glob"
   ]
  },
  {
   "cell_type": "markdown",
   "metadata": {},
   "source": [
    "## Funções Auxiliares"
   ]
  },
  {
   "cell_type": "code",
   "execution_count": 2,
   "metadata": {},
   "outputs": [],
   "source": [
    "def remove_periodic(X, df_index, detrending=True, frequency_threshold=0.1e12):\n",
    "    rad = np.array(X)\n",
    "    \n",
    "    if detrending:\n",
    "        det_rad = rad - np.average(rad)\n",
    "    else:\n",
    "        det_rad = rad\n",
    "    \n",
    "    det_rad_fft = fft(det_rad)\n",
    "\n",
    "    # Get the power spectrum\n",
    "    rad_ps = [np.abs(rd)**2 for rd in det_rad_fft]\n",
    "    \n",
    "    clean_rad_fft = [det_rad_fft[i] if rad_ps[i] > frequency_threshold else 0 \n",
    "                     for i in range(len(det_rad_fft))]\n",
    "    \n",
    "    rad_series_clean = ifft(clean_rad_fft)\n",
    "    rad_series_clean = [value.real for value in rad_series_clean]\n",
    "    \n",
    "    if detrending:\n",
    "        rad_trends = rad_series_clean + np.average(rad)\n",
    "    \n",
    "    rad_clean_ts = pd.Series(rad_trends, index=df_index)\n",
    "    \n",
    "    #rad_clean_ts[(rad_clean_ts.index.hour < 6) | (rad_clean_ts.index.hour > 20)] = 0\n",
    "    \n",
    "    return rad - rad_clean_ts.values, rad_clean_ts.values"
   ]
  },
  {
   "cell_type": "code",
   "execution_count": 3,
   "metadata": {},
   "outputs": [],
   "source": [
    "def normalized_rmse(targets, forecasts):\n",
    "    if isinstance(targets, list):\n",
    "        targets = np.array(targets)\n",
    "    if isinstance(forecasts, list):\n",
    "        forecasts = np.array(forecasts)\n",
    "    return ((np.sqrt(np.nanmean((targets - forecasts) ** 2))) / np.nanmean(targets) ) * 100\n"
   ]
  },
  {
   "cell_type": "code",
   "execution_count": 4,
   "metadata": {},
   "outputs": [],
   "source": [
    "def load_data(path, resampling=None):\n",
    "    ## some resampling options: 'H' - hourly, '15min' - 15 minutes, 'M' - montlhy\n",
    "    ## more options at:\n",
    "    ## http://benalexkeen.com/resampling-time-series-data-with-pandas/\n",
    "    allFiles = glob.iglob(path + \"/**/*.txt\", recursive=True)\n",
    "    frame = pd.DataFrame()\n",
    "    list_ = []\n",
    "    for file_ in allFiles:\n",
    "        #print(\"Reading: \",file_)\n",
    "        df = pd.read_csv(file_,index_col=\"Tm\",parse_dates=['Tm'], header=0, sep=\"\\t\")\n",
    "        if frame.columns is None :\n",
    "            frame.columns = df.columns\n",
    "        list_.append(df)\n",
    "    frame = pd.concat(list_)\n",
    "    if resampling is not None:\n",
    "        frame = frame.resample(resampling).mean()\n",
    "    return frame"
   ]
  },
  {
   "cell_type": "code",
   "execution_count": 5,
   "metadata": {},
   "outputs": [],
   "source": [
    "def pearson_correlation_coef(x1, x2, nlags):\n",
    "\n",
    "    lags = np.arange(0,nlags)\n",
    "    pearson = []\n",
    "    std = np.std(x1) * np.std(x2)\n",
    "\n",
    "    for lag in lags:\n",
    "        cv = np.cov(x1[lag:], x2[0:(len(x2)-lag)])\n",
    "        pearson.append(cv[0,1] / std)\n",
    "    \n",
    "    return pearson"
   ]
  },
  {
   "cell_type": "code",
   "execution_count": 6,
   "metadata": {},
   "outputs": [],
   "source": [
    "def splt_train_test(df, train_percent):\n",
    "\n",
    "    from random import shuffle\n",
    "\n",
    "    ind = pd.DataFrame({\"dayofyear\": df.index.dayofyear, \"year\": df.index.year})\n",
    "    ind = ind.groupby(['dayofyear','year'], as_index=False).first()\n",
    "\n",
    "    length = len(ind)\n",
    "    train_size = int(train_percent * length)\n",
    "    test_size = int((1 - train_percent) * length)\n",
    "\n",
    "    indexes = np.arange(0,length)\n",
    "    shuffle(indexes)\n",
    "\n",
    "    train_ind = indexes[0:train_size]\n",
    "    test_ind = indexes[train_size:]\n",
    "\n",
    "\n",
    "    train_df = pd.DataFrame(columns=df.columns)\n",
    "    test_df = pd.DataFrame(columns=df.columns)\n",
    "\n",
    "    for i in train_ind:\n",
    "        d = df[(df.index.dayofyear == ind.iloc[i].dayofyear) & (df.index.year == ind.iloc[i].year)]\n",
    "        train_df = train_df.append(d)\n",
    "    \n",
    "    for i in test_ind:\n",
    "        d = df[(df.index.dayofyear == ind.iloc[i].dayofyear) & (df.index.year == ind.iloc[i].year)]\n",
    "        test_df = test_df.append(d)\n",
    "        \n",
    "    return train_df, test_df"
   ]
  },
  {
   "cell_type": "code",
   "execution_count": null,
   "metadata": {},
   "outputs": [],
   "source": []
  },
  {
   "cell_type": "code",
   "execution_count": 7,
   "metadata": {},
   "outputs": [
    {
     "ename": "NameError",
     "evalue": "name 'shuffle' is not defined",
     "output_type": "error",
     "traceback": [
      "\u001b[0;31m---------------------------------------------------------------------------\u001b[0m",
      "\u001b[0;31mNameError\u001b[0m                                 Traceback (most recent call last)",
      "\u001b[0;32m<ipython-input-7-3b62d9020781>\u001b[0m in \u001b[0;36m<module>\u001b[0;34m()\u001b[0m\n\u001b[0;32m----> 1\u001b[0;31m \u001b[0mshuffle\u001b[0m\u001b[0;34m(\u001b[0m\u001b[0mindexes\u001b[0m\u001b[0;34m)\u001b[0m\u001b[0;34m\u001b[0m\u001b[0m\n\u001b[0m\u001b[1;32m      2\u001b[0m \u001b[0mindexes\u001b[0m\u001b[0;34m\u001b[0m\u001b[0m\n",
      "\u001b[0;31mNameError\u001b[0m: name 'shuffle' is not defined"
     ]
    }
   ],
   "source": []
  },
  {
   "cell_type": "code",
   "execution_count": null,
   "metadata": {},
   "outputs": [],
   "source": [
    "train_ind = indexes[0:train_size-1]\n",
    "test_ind = indexes[train_size:]\n",
    "\n",
    "\n",
    "df = s716_df\n",
    "train_df = pd.DataFrame(columns=df.columns)\n",
    "\n",
    "for i in train_ind:\n",
    "    d = df[(df1.index.dayofyear == ind[i].dayofyear) & (df1.index.year == ind[i].year)]\n",
    "    train_df.append(d)\n"
   ]
  },
  {
   "cell_type": "markdown",
   "metadata": {},
   "source": [
    "## Base SINGA"
   ]
  },
  {
   "cell_type": "code",
   "execution_count": 8,
   "metadata": {},
   "outputs": [],
   "source": [
    "#Mac\n",
    "singa_path = '/Users/cseveriano/spatio-temporal-forecasting/data/raw/SINGA-Nobre/'\n",
    "\n",
    "#Windows\n",
    "#singa_path = 'C:\\\\Users\\\\cseve\\\\Google Drive\\\\Doutorado\\\\Codes\\\\spatio-temporal-forecasting\\\\data\\\\raw\\\\SINGA-Nobre\\\\'\n",
    "\n",
    "s716_df = load_data(singa_path+\"716\", '15min')\n",
    "s716_df = s716_df.fillna(method='ffill')\n",
    "\n",
    "s717_df = load_data(singa_path+\"717\", '15min')\n",
    "s717_df = s717_df.fillna(method='ffill')"
   ]
  },
  {
   "cell_type": "code",
   "execution_count": 12,
   "metadata": {},
   "outputs": [
    {
     "data": {
      "text/plain": [
       "Tm\n",
       "2017-11-01 00:00:00     -0.050267\n",
       "2017-11-01 00:15:00     -0.109400\n",
       "2017-11-01 00:30:00     -0.073467\n",
       "2017-11-01 00:45:00     -0.115533\n",
       "2017-11-01 01:00:00     -0.105933\n",
       "2017-11-01 01:15:00     -0.133933\n",
       "2017-11-01 01:30:00     -0.118067\n",
       "2017-11-01 01:45:00     -0.210667\n",
       "2017-11-01 02:00:00     -0.145933\n",
       "2017-11-01 02:15:00     -0.080933\n",
       "2017-11-01 02:30:00     -0.081933\n",
       "2017-11-01 02:45:00     -0.128067\n",
       "2017-11-01 03:00:00     -0.139533\n",
       "2017-11-01 03:15:00     -0.096467\n",
       "2017-11-01 03:30:00     -0.081867\n",
       "2017-11-01 03:45:00     -0.050600\n",
       "2017-11-01 04:00:00     -0.104200\n",
       "2017-11-01 04:15:00     -0.114867\n",
       "2017-11-01 04:30:00     -0.045400\n",
       "2017-11-01 04:45:00     -0.154933\n",
       "2017-11-01 05:00:00     -0.134846\n",
       "2017-11-01 05:15:00     -0.142200\n",
       "2017-11-01 05:30:00     -0.057000\n",
       "2017-11-01 05:45:00     -0.092667\n",
       "2017-11-01 06:00:00     -0.051867\n",
       "2017-11-01 06:15:00     -0.111133\n",
       "2017-11-01 06:30:00     -0.042867\n",
       "2017-11-01 06:45:00      4.305267\n",
       "2017-11-01 07:00:00     21.139133\n",
       "2017-11-01 07:15:00     51.254267\n",
       "                          ...    \n",
       "2017-11-01 16:30:00     87.105000\n",
       "2017-11-01 16:45:00    108.693000\n",
       "2017-11-01 17:00:00    135.798200\n",
       "2017-11-01 17:15:00    141.494800\n",
       "2017-11-01 17:30:00    127.121800\n",
       "2017-11-01 17:45:00     92.098067\n",
       "2017-11-01 18:00:00     44.551333\n",
       "2017-11-01 18:15:00     20.911200\n",
       "2017-11-01 18:30:00     10.192533\n",
       "2017-11-01 18:45:00      1.099867\n",
       "2017-11-01 19:00:00     -0.052400\n",
       "2017-11-01 19:15:00      0.010333\n",
       "2017-11-01 19:30:00     -0.105733\n",
       "2017-11-01 19:45:00     -0.051467\n",
       "2017-11-01 20:00:00     -0.027067\n",
       "2017-11-01 20:15:00     -0.051733\n",
       "2017-11-01 20:30:00     -0.109467\n",
       "2017-11-01 20:45:00     -0.040133\n",
       "2017-11-01 21:00:00     -0.039267\n",
       "2017-11-01 21:15:00     -0.121333\n",
       "2017-11-01 21:30:00     -0.091933\n",
       "2017-11-01 21:45:00     -0.144667\n",
       "2017-11-01 22:00:00     -0.119000\n",
       "2017-11-01 22:15:00     -0.135133\n",
       "2017-11-01 22:30:00     -0.075067\n",
       "2017-11-01 22:45:00     -0.020467\n",
       "2017-11-01 23:00:00     -0.066667\n",
       "2017-11-01 23:15:00     -0.089800\n",
       "2017-11-01 23:30:00     -0.077733\n",
       "2017-11-01 23:45:00     -0.056800\n",
       "Freq: 15T, Name: AvgGsi00, Length: 96, dtype: float64"
      ]
     },
     "execution_count": 12,
     "metadata": {},
     "output_type": "execute_result"
    }
   ],
   "source": [
    "s716_df[0:96]['AvgGsi00']"
   ]
  },
  {
   "cell_type": "code",
   "execution_count": 14,
   "metadata": {},
   "outputs": [],
   "source": [
    "s716_df = s716_df[(s716_df.index.hour >= 7) & (s716_df.index.hour <= 18)]\n",
    "s717_df = s717_df[(s717_df.index.hour >= 7) & (s717_df.index.hour <= 18)]\n"
   ]
  },
  {
   "cell_type": "code",
   "execution_count": 15,
   "metadata": {},
   "outputs": [],
   "source": [
    "s716_residual, s716_clean = remove_periodic(s716_df['AvgGsi00'],s716_df.index, frequency_threshold=0.01e11)\n",
    "s717_residual, s717_clean = remove_periodic(s717_df['AvgGsi00'],s717_df.index, frequency_threshold=0.01e11)"
   ]
  },
  {
   "cell_type": "code",
   "execution_count": 18,
   "metadata": {},
   "outputs": [
    {
     "data": {
      "image/png": "[encoded data removed]",
      "text/plain": [
       "<matplotlib.figure.Figure at 0x11544b1d0>"
      ]
     },
     "metadata": {},
     "output_type": "display_data"
    }
   ],
   "source": [
    "fig = plt.figure(figsize=(12, 8))\n",
    "plt.plot(s716_clean, color='blue')\n",
    "plt.plot(s716_df.AvgGsi00.values, color='red')\n",
    "plt.show()"
   ]
  },
  {
   "cell_type": "code",
   "execution_count": null,
   "metadata": {},
   "outputs": [],
   "source": [
    "s716_df = pd.DataFrame(data={'AvgGsi00': s716_df.AvgGsi00.tolist(), 'residual': s716_residual, 'clean': s716_clean, 'date' : s716_df.index}, index=s716_df.index)\n",
    "s717_df = pd.DataFrame(data={'AvgGsi00': s717_df.AvgGsi00.tolist(), 'residual': s717_residual, 'clean': s717_clean, 'date' : s717_df.index}, index=s717_df.index)"
   ]
  },
  {
   "cell_type": "code",
   "execution_count": null,
   "metadata": {},
   "outputs": [],
   "source": [
    "s716_train_df, s716_test_df = splt_train_test(s716_df, 0.8)\n",
    "s717_train_df, s717_test_df = splt_train_test(s717_df, 0.8)"
   ]
  },
  {
   "cell_type": "code",
   "execution_count": null,
   "metadata": {},
   "outputs": [],
   "source": [
    "pearson_correlation_coef(s716_df.clean.tolist(),s717_df.clean.tolist(), 48)"
   ]
  },
  {
   "cell_type": "code",
   "execution_count": null,
   "metadata": {},
   "outputs": [],
   "source": [
    "pearson_716_717"
   ]
  },
  {
   "cell_type": "code",
   "execution_count": null,
   "metadata": {},
   "outputs": [],
   "source": [
    "s717_df.index.year"
   ]
  },
  {
   "cell_type": "code",
   "execution_count": null,
   "metadata": {},
   "outputs": [],
   "source": [
    "pearson_717_716"
   ]
  },
  {
   "cell_type": "markdown",
   "metadata": {},
   "source": [
    "## Vector Autoregressive (VAR)"
   ]
  },
  {
   "cell_type": "code",
   "execution_count": null,
   "metadata": {},
   "outputs": [],
   "source": [
    "import statsmodels.api as sm\n",
    "from statsmodels.tsa.api import VAR, DynamicVAR"
   ]
  },
  {
   "cell_type": "code",
   "execution_count": null,
   "metadata": {},
   "outputs": [],
   "source": [
    "train_var_df = pd.DataFrame(data={'s716_res': s716_train_df.residual.tolist(), 's717_res': s717_train_df.residual.tolist()}, index=s716_train_df.index)\n",
    "test_var_df = pd.DataFrame(data={'s716_res': s716_test_df.residual.tolist(), 's717_res': s717_test_df.residual.tolist()}, index=s716_test_df.index)"
   ]
  },
  {
   "cell_type": "code",
   "execution_count": null,
   "metadata": {},
   "outputs": [],
   "source": [
    "model = VAR(train_var_df)\n",
    "results = model.fit(maxlags=6, ic='aic')"
   ]
  },
  {
   "cell_type": "code",
   "execution_count": null,
   "metadata": {},
   "outputs": [],
   "source": [
    "order = results.k_ar\n",
    "forecast = []\n",
    "for i in range(len(test_df)-order) :\n",
    "    forecast.append(results.forecast(test_var_df.values[i:i+order],1))"
   ]
  },
  {
   "cell_type": "code",
   "execution_count": null,
   "metadata": {},
   "outputs": [],
   "source": [
    "fcst = [item[0][0] for item in forecast]\n",
    "obs = s716_test_df[order:].AvgGsi00.tolist()\n",
    "fcst =  [sum(x) for x in zip(fcst, s716_test_df[order:].clean.tolist())]"
   ]
  },
  {
   "cell_type": "code",
   "execution_count": null,
   "metadata": {},
   "outputs": [],
   "source": [
    "_nrmse = normalized_rmse(obs, fcst)\n",
    "print(\"nRMSE: \", _nrmse, \"\\n\")"
   ]
  },
  {
   "cell_type": "markdown",
   "metadata": {},
   "source": [
    "## High Order FTS"
   ]
  },
  {
   "cell_type": "code",
   "execution_count": null,
   "metadata": {},
   "outputs": [],
   "source": [
    "from pyFTS.models.multivariate import common, variable, mvfts\n",
    "from pyFTS.models.seasonal import partitioner as seasonal\n",
    "from pyFTS.models.seasonal.common import DateTime\n",
    "from pyFTS.partitioners import Grid, Util as pUtil\n",
    "from pyFTS.models.multivariate import common, variable, mvfts\n",
    "from pyFTS.models import hofts"
   ]
  },
  {
   "cell_type": "code",
   "execution_count": null,
   "metadata": {},
   "outputs": [],
   "source": [
    "\n",
    "train = s716_train_df.residual\n",
    "\n",
    "fuzzy_sets = Grid.GridPartitioner(data=train, npart=100)\n",
    "model_hofts = hofts.HighOrderFTS(\"FTS\", partitioner=fuzzy_sets)\n",
    "model_hofts.fit(train, order=6)"
   ]
  },
  {
   "cell_type": "code",
   "execution_count": null,
   "metadata": {},
   "outputs": [],
   "source": [
    "forecast_hofts = model_hofts.predict(s716_test_df.residual)\n",
    "forecasted_final = forecast_hofts + s716_test_df[5:].clean"
   ]
  },
  {
   "cell_type": "code",
   "execution_count": null,
   "metadata": {},
   "outputs": [],
   "source": [
    "_nrmse = normalized_rmse(s716_test_df.AvgGsi00.tolist()[5:], forecasted_final)\n",
    "print(\"nRMSE: \", _nrmse, \"\\n\")"
   ]
  },
  {
   "cell_type": "code",
   "execution_count": null,
   "metadata": {},
   "outputs": [],
   "source": [
    "fig, ax = plt.subplots(figsize=[20,5])\n",
    "\n",
    "test = s716_test_df[125:150]\n",
    "fcst = forecasted_final[120:145]\n",
    "ax.plot(test['date'].values, test['AvgGsi00'].values)\n",
    "ax.plot(test['date'].values, fcst)"
   ]
  },
  {
   "cell_type": "code",
   "execution_count": null,
   "metadata": {},
   "outputs": [],
   "source": [
    "forecasted_final[95:145]"
   ]
  }
 ],
 "metadata": {
  "kernelspec": {
   "display_name": "Python 3",
   "language": "python",
   "name": "python3"
  },
  "language_info": {
   "codemirror_mode": {
    "name": "ipython",
    "version": 3
   },
   "file_extension": ".py",
   "mimetype": "text/x-python",
   "name": "python",
   "nbconvert_exporter": "python",
   "pygments_lexer": "ipython3",
   "version": "3.6.4"
  }
 },
 "nbformat": 4,
 "nbformat_minor": 2
}
