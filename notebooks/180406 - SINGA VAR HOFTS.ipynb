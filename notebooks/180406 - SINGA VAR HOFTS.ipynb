{
 "cells": [
  {
   "cell_type": "code",
   "execution_count": 2,
   "metadata": {},
   "outputs": [],
   "source": [
    "%matplotlib inline\n",
    "import pandas as pd\n",
    "import numpy as np\n",
    "import matplotlib.pyplot as plt\n",
    "import datetime\n",
    "import math\n",
    "\n",
    "import os\n",
    "import sys\n",
    "from numpy.fft import fft, ifft\n",
    "import glob"
   ]
  },
  {
   "cell_type": "markdown",
   "metadata": {},
   "source": [
    "## Funções Auxiliares"
   ]
  },
  {
   "cell_type": "code",
   "execution_count": 4,
   "metadata": {},
   "outputs": [],
   "source": [
    "def remove_periodic(X, df_index, detrending=True, frequency_threshold=0.1e12):\n",
    "    rad = np.array(X)\n",
    "    \n",
    "    if detrending:\n",
    "        det_rad = rad - np.average(rad)\n",
    "    else:\n",
    "        det_rad = rad\n",
    "    \n",
    "    det_rad_fft = fft(det_rad)\n",
    "\n",
    "    # Get the power spectrum\n",
    "    rad_ps = [np.abs(rd)**2 for rd in det_rad_fft]\n",
    "    \n",
    "    clean_rad_fft = [det_rad_fft[i] if rad_ps[i] > frequency_threshold else 0 \n",
    "                     for i in range(len(det_rad_fft))]\n",
    "    \n",
    "    rad_series_clean = ifft(clean_rad_fft)\n",
    "    rad_series_clean = [value.real for value in rad_series_clean]\n",
    "    \n",
    "    if detrending:\n",
    "        rad_trends = rad_series_clean + np.average(rad)\n",
    "    \n",
    "    rad_clean_ts = pd.Series(rad_trends, index=df_index)\n",
    "    \n",
    "    #rad_clean_ts[(rad_clean_ts.index.hour < 6) | (rad_clean_ts.index.hour > 20)] = 0\n",
    "    \n",
    "    return rad - rad_clean_ts.values, rad_clean_ts.values"
   ]
  },
  {
   "cell_type": "code",
   "execution_count": 105,
   "metadata": {},
   "outputs": [],
   "source": [
    "def normalized_rmse(targets, forecasts):\n",
    "    if isinstance(targets, list):\n",
    "        targets = np.array(targets)\n",
    "    if isinstance(forecasts, list):\n",
    "        forecasts = np.array(forecasts)\n",
    "    return ((np.sqrt(np.nanmean((targets - forecasts) ** 2))) / np.nanmean(targets) ) * 100\n"
   ]
  },
  {
   "cell_type": "code",
   "execution_count": 5,
   "metadata": {},
   "outputs": [],
   "source": [
    "def load_data(path, resampling=None):\n",
    "    ## some resampling options: 'H' - hourly, '15min' - 15 minutes, 'M' - montlhy\n",
    "    ## more options at:\n",
    "    ## http://benalexkeen.com/resampling-time-series-data-with-pandas/\n",
    "    allFiles = glob.iglob(path + \"/**/*.txt\", recursive=True)\n",
    "    frame = pd.DataFrame()\n",
    "    list_ = []\n",
    "    for file_ in allFiles:\n",
    "        #print(\"Reading: \",file_)\n",
    "        df = pd.read_csv(file_,index_col=\"Tm\",parse_dates=['Tm'], header=0, sep=\"\\t\")\n",
    "        if frame.columns is None :\n",
    "            frame.columns = df.columns\n",
    "        list_.append(df)\n",
    "    frame = pd.concat(list_)\n",
    "    if resampling is not None:\n",
    "        frame = frame.resample(resampling).mean()\n",
    "    return frame"
   ]
  },
  {
   "cell_type": "code",
   "execution_count": 90,
   "metadata": {},
   "outputs": [],
   "source": [
    "def splt_train_test(df, train_percent):\n",
    "\n",
    "    from random import shuffle\n",
    "\n",
    "    ind = pd.DataFrame({\"dayofyear\": df.index.dayofyear, \"year\": df.index.year})\n",
    "    ind = ind.groupby(['dayofyear','year'], as_index=False).first()\n",
    "\n",
    "    length = len(ind)\n",
    "    train_size = int(train_percent * length)\n",
    "    test_size = int((1 - train_percent) * length)\n",
    "\n",
    "    indexes = np.arange(0,length)\n",
    "    shuffle(indexes)\n",
    "\n",
    "    train_ind = indexes[0:train_size]\n",
    "    test_ind = indexes[train_size:]\n",
    "\n",
    "\n",
    "    train_df = pd.DataFrame(columns=df.columns)\n",
    "    test_df = pd.DataFrame(columns=df.columns)\n",
    "\n",
    "    for i in train_ind:\n",
    "        d = df[(df.index.dayofyear == ind.iloc[i].dayofyear) & (df.index.year == ind.iloc[i].year)]\n",
    "        train_df = train_df.append(d)\n",
    "    \n",
    "    for i in test_ind:\n",
    "        d = df[(df.index.dayofyear == ind.iloc[i].dayofyear) & (df.index.year == ind.iloc[i].year)]\n",
    "        test_df = test_df.append(d)\n",
    "        \n",
    "    return train_df, test_df"
   ]
  },
  {
   "cell_type": "code",
   "execution_count": 59,
   "metadata": {},
   "outputs": [
    {
     "data": {
      "text/plain": [
       "array([101,   4,  87,  34,   3,  82,   8,  51,  58,  66,  61,  13,  91,\n",
       "        48,  23,  40,  11,  95,  17,  74,  52,  28,  90,  42,  35, 115,\n",
       "        70,  20,  26,  76,   6,  59,  43,  33,  15,  68,  22,  21,  31,\n",
       "        32,  19,  75,  60,  65,  41,  67,   0,  71,  78,   5,  79,  50,\n",
       "       102, 108, 119,  10, 100, 112,  97,  85,  37, 107,  77,  81,  12,\n",
       "        56,  94,  83, 110,  30, 111, 113,  39,  16,  98,  46,  55,   9,\n",
       "        14,  45,  44, 118,  64,  27,  93,  69, 103, 109, 116, 117,  63,\n",
       "         1,  80,  88, 104,   7,  18,  38,  73,  57,  24,  96,  25, 114,\n",
       "        49, 106,  47, 105,  54,  29,  92,  62,   2,  86,  99,  53,  72,\n",
       "        89,  36,  84])"
      ]
     },
     "execution_count": 59,
     "metadata": {},
     "output_type": "execute_result"
    }
   ],
   "source": [
    "shuffle(indexes)\n",
    "indexes"
   ]
  },
  {
   "cell_type": "code",
   "execution_count": 51,
   "metadata": {},
   "outputs": [
    {
     "data": {
      "text/plain": [
       "array([  0,   1,   2,   3,   4,   5,   6,   7,   8,   9,  10,  11,  12,\n",
       "        13,  14,  15,  16,  17,  18,  19,  20,  21,  22,  23,  24,  25,\n",
       "        26,  27,  28,  29,  30,  31,  32,  33,  34,  35,  36,  37,  38,\n",
       "        39,  40,  41,  42,  43,  44,  45,  46,  47,  48,  49,  50,  51,\n",
       "        52,  53,  54,  55,  56,  57,  58,  59,  60,  61,  62,  63,  64,\n",
       "        65,  66,  67,  68,  69,  70,  71,  72,  73,  74,  75,  76,  77,\n",
       "        78,  79,  80,  81,  82,  83,  84,  85,  86,  87,  88,  89,  90,\n",
       "        91,  92,  93,  94,  95,  96,  97,  98,  99, 100, 101, 102, 103,\n",
       "       104, 105, 106, 107, 108, 109, 110, 111, 112, 113, 114, 115, 116,\n",
       "       117, 118, 119])"
      ]
     },
     "execution_count": 51,
     "metadata": {},
     "output_type": "execute_result"
    }
   ],
   "source": [
    "train_ind = indexes[0:train_size-1]\n",
    "test_ind = indexes[train_size:]\n",
    "\n",
    "\n",
    "df = s716_df\n",
    "train_df = pd.DataFrame(columns=df.columns)\n",
    "\n",
    "for i in train_ind:\n",
    "    d = df[(df1.index.dayofyear == ind[i].dayofyear) & (df1.index.year == ind[i].year)]\n",
    "    train_df.append(d)\n"
   ]
  },
  {
   "cell_type": "markdown",
   "metadata": {},
   "source": [
    "## Base SINGA"
   ]
  },
  {
   "cell_type": "code",
   "execution_count": 9,
   "metadata": {},
   "outputs": [],
   "source": [
    "#Mac\n",
    "singa_path = '/Users/cseveriano/spatio-temporal-forecasting/data/raw/SINGA-Nobre/'\n",
    "\n",
    "#Windows\n",
    "#singa_path = 'C:\\\\Users\\\\cseve\\\\Google Drive\\\\Doutorado\\\\Codes\\\\spatio-temporal-forecasting\\\\data\\\\raw\\\\SINGA-Nobre\\\\'\n",
    "\n",
    "s716_df = load_data(singa_path+\"716\", '15min')\n",
    "s716_df = s716_df.fillna(method='ffill')\n",
    "\n",
    "s717_df = load_data(singa_path+\"717\", '15min')\n",
    "s717_df = s717_df.fillna(method='ffill')"
   ]
  },
  {
   "cell_type": "code",
   "execution_count": 10,
   "metadata": {},
   "outputs": [],
   "source": [
    "s716_df = s716_df[(s716_df.index.hour >= 7) & (s716_df.index.hour <= 18)]\n",
    "s717_df = s717_df[(s717_df.index.hour >= 7) & (s717_df.index.hour <= 18)]\n"
   ]
  },
  {
   "cell_type": "code",
   "execution_count": 11,
   "metadata": {},
   "outputs": [],
   "source": [
    "s716_residual, s716_clean = remove_periodic(s716_df['AvgGsi00'],s716_df.index, frequency_threshold=0.01e11)\n",
    "s717_residual, s717_clean = remove_periodic(s717_df['AvgGsi00'],s717_df.index, frequency_threshold=0.01e11)"
   ]
  },
  {
   "cell_type": "code",
   "execution_count": 12,
   "metadata": {},
   "outputs": [
    {
     "data": {
      "image/png": "[encoded data removed]",
      "text/plain": [
       "<matplotlib.figure.Figure at 0x10d264320>"
      ]
     },
     "metadata": {},
     "output_type": "display_data"
    }
   ],
   "source": [
    "fig = plt.figure(figsize=(12, 8))\n",
    "plt.plot(s716_clean[1:192], color='blue')\n",
    "plt.plot(s716_df[1:192].AvgGsi00.tolist(), color='red')\n",
    "plt.show()"
   ]
  },
  {
   "cell_type": "code",
   "execution_count": 13,
   "metadata": {},
   "outputs": [],
   "source": [
    "s716_df = pd.DataFrame(data={'AvgGsi00': s716_df.AvgGsi00.tolist(), 'residual': s716_residual, 'clean': s716_clean, 'date' : s716_df.index}, index=s716_df.index)\n",
    "s717_df = pd.DataFrame(data={'AvgGsi00': s717_df.AvgGsi00.tolist(), 'residual': s717_residual, 'clean': s717_clean, 'date' : s717_df.index}, index=s717_df.index)"
   ]
  },
  {
   "cell_type": "code",
   "execution_count": 95,
   "metadata": {},
   "outputs": [],
   "source": [
    "s716_train_df, s716_test_df = splt_train_test(s716_df, 0.8)\n",
    "s717_train_df, s717_test_df = splt_train_test(s717_df, 0.8)"
   ]
  },
  {
   "cell_type": "markdown",
   "metadata": {},
   "source": [
    "## Vector Autoregressive (VAR)"
   ]
  },
  {
   "cell_type": "code",
   "execution_count": 98,
   "metadata": {},
   "outputs": [
    {
     "name": "stderr",
     "output_type": "stream",
     "text": [
      "/Users/cseveriano/anaconda3/lib/python3.6/site-packages/statsmodels/compat/pandas.py:56: FutureWarning: The pandas.core.datetools module is deprecated and will be removed in a future version. Please use the pandas.tseries module instead.\n",
      "  from pandas.core import datetools\n"
     ]
    }
   ],
   "source": [
    "import statsmodels.api as sm\n",
    "from statsmodels.tsa.api import VAR, DynamicVAR"
   ]
  },
  {
   "cell_type": "code",
   "execution_count": 96,
   "metadata": {},
   "outputs": [],
   "source": [
    "train_var_df = pd.DataFrame(data={'s716_res': s716_train_df.residual.tolist(), 's717_res': s717_train_df.residual.tolist()}, index=s716_train_df.index)\n",
    "test_var_df = pd.DataFrame(data={'s716_res': s716_test_df.residual.tolist(), 's717_res': s717_test_df.residual.tolist()}, index=s716_test_df.index)"
   ]
  },
  {
   "cell_type": "code",
   "execution_count": 99,
   "metadata": {},
   "outputs": [],
   "source": [
    "model = VAR(train_var_df)\n",
    "results = model.fit(maxlags=6, ic='aic')"
   ]
  },
  {
   "cell_type": "code",
   "execution_count": 104,
   "metadata": {},
   "outputs": [],
   "source": [
    "order = results.k_ar\n",
    "forecast = []\n",
    "for i in range(len(test_df)-order) :\n",
    "    forecast.append(results.forecast(test_var_df.values[i:i+order],1))"
   ]
  },
  {
   "cell_type": "code",
   "execution_count": 107,
   "metadata": {},
   "outputs": [],
   "source": [
    "fcst = [item[0][0] for item in forecast]\n",
    "obs = s716_test_df[order:].AvgGsi00.tolist()\n",
    "fcst =  [sum(x) for x in zip(fcst, s716_test_df[order:].clean.tolist())]"
   ]
  },
  {
   "cell_type": "code",
   "execution_count": 108,
   "metadata": {},
   "outputs": [
    {
     "name": "stdout",
     "output_type": "stream",
     "text": [
      "nRMSE:  42.3370969704 \n",
      "\n"
     ]
    }
   ],
   "source": [
    "_nrmse = normalized_rmse(obs, fcst)\n",
    "print(\"nRMSE: \", _nrmse, \"\\n\")"
   ]
  },
  {
   "cell_type": "markdown",
   "metadata": {},
   "source": [
    "## High Order FTS"
   ]
  },
  {
   "cell_type": "code",
   "execution_count": 110,
   "metadata": {},
   "outputs": [],
   "source": [
    "from pyFTS.models.multivariate import common, variable, mvfts\n",
    "from pyFTS.models.seasonal import partitioner as seasonal\n",
    "from pyFTS.models.seasonal.common import DateTime\n",
    "from pyFTS.partitioners import Grid, Util as pUtil\n",
    "from pyFTS.models.multivariate import common, variable, mvfts\n",
    "from pyFTS.models import hofts"
   ]
  },
  {
   "cell_type": "code",
   "execution_count": 111,
   "metadata": {},
   "outputs": [
    {
     "name": "stdout",
     "output_type": "stream",
     "text": [
      "[ 17:43:39] Start training\n",
      "[ 17:43:39] Starting batch 1\n",
      "[ 17:43:47] Finish batch 1\n",
      "[ 17:43:47] Starting batch 2\n",
      "[ 17:43:57] Finish batch 2\n",
      "[ 17:43:57] Starting batch 3\n",
      "[ 17:44:06] Finish batch 3\n",
      "[ 17:44:06] Starting batch 4\n",
      "[ 17:44:15] Finish batch 4\n",
      "[ 17:44:15] Starting batch 5\n",
      "[ 17:44:23] Finish batch 5\n",
      "[ 17:44:23] Starting batch 6\n",
      "[ 17:44:32] Finish batch 6\n",
      "[ 17:44:32] Starting batch 7\n",
      "[ 17:44:41] Finish batch 7\n",
      "[ 17:44:41] Starting batch 8\n",
      "[ 17:44:50] Finish batch 8\n",
      "[ 17:44:50] Starting batch 9\n",
      "[ 17:44:58] Finish batch 9\n",
      "[ 17:44:58] Starting batch 10\n",
      "[ 17:45:07] Finish batch 10\n",
      "[ 17:45:07] Starting batch 11\n",
      "[ 17:45:07] Finish batch 11\n",
      "[ 17:45:07] Finish training\n"
     ]
    }
   ],
   "source": [
    "\n",
    "train = s716_train_df.residual\n",
    "\n",
    "fuzzy_sets = Grid.GridPartitioner(data=train, npart=100)\n",
    "model_hofts = hofts.HighOrderFTS(\"FTS\", partitioner=fuzzy_sets)\n",
    "model_hofts.fit(train, order=6)"
   ]
  },
  {
   "cell_type": "code",
   "execution_count": 112,
   "metadata": {},
   "outputs": [],
   "source": [
    "forecast_hofts = model_hofts.predict(s716_test_df.residual)\n",
    "forecasted_final = forecast_hofts + s716_test_df[5:].clean"
   ]
  },
  {
   "cell_type": "code",
   "execution_count": 113,
   "metadata": {},
   "outputs": [
    {
     "name": "stdout",
     "output_type": "stream",
     "text": [
      "nRMSE:  7.45985492393 \n",
      "\n"
     ]
    }
   ],
   "source": [
    "_nrmse = normalized_rmse(s716_test_df.AvgGsi00.tolist()[5:], forecasted_final)\n",
    "print(\"nRMSE: \", _nrmse, \"\\n\")"
   ]
  },
  {
   "cell_type": "code",
   "execution_count": 124,
   "metadata": {},
   "outputs": [
    {
     "data": {
      "text/plain": [
       "[<matplotlib.lines.Line2D at 0x1c22f0bfd0>]"
      ]
     },
     "execution_count": 124,
     "metadata": {},
     "output_type": "execute_result"
    },
    {
     "data": {
      "image/png": "[encoded data removed]",
      "text/plain": [
       "<matplotlib.figure.Figure at 0x1c22d9b4a8>"
      ]
     },
     "metadata": {},
     "output_type": "display_data"
    }
   ],
   "source": [
    "fig, ax = plt.subplots(figsize=[20,5])\n",
    "\n",
    "test = s716_test_df[125:150]\n",
    "fcst = forecasted_final[120:145]\n",
    "ax.plot(test['date'].values, test['AvgGsi00'].values)\n",
    "ax.plot(test['date'].values, fcst)"
   ]
  },
  {
   "cell_type": "code",
   "execution_count": 121,
   "metadata": {},
   "outputs": [
    {
     "data": {
      "text/plain": [
       "2018-02-12 08:00:00    115.202821\n",
       "2018-02-12 08:15:00    154.738258\n",
       "2018-02-12 08:30:00    195.553837\n",
       "2018-02-12 08:45:00    202.888582\n",
       "2018-02-12 09:00:00    295.961421\n",
       "2018-02-12 09:15:00    419.481040\n",
       "2018-02-12 09:30:00    404.069516\n",
       "2018-02-12 09:45:00    442.416028\n",
       "2018-02-12 10:00:00    559.642816\n",
       "2018-02-12 10:15:00    633.496294\n",
       "2018-02-12 10:30:00    689.443526\n",
       "2018-02-12 10:45:00    706.271736\n",
       "2018-02-12 11:00:00    770.344068\n",
       "2018-02-12 11:15:00    726.943109\n",
       "2018-02-12 11:30:00    864.203690\n",
       "2018-02-12 11:45:00    887.188691\n",
       "2018-02-12 12:00:00    903.523193\n",
       "2018-02-12 12:15:00    967.386572\n",
       "2018-02-12 12:30:00    771.010542\n",
       "2018-02-12 12:45:00    851.558543\n",
       "2018-02-12 13:00:00    941.568659\n",
       "2018-02-12 13:15:00    679.648853\n",
       "2018-02-12 13:30:00    924.653559\n",
       "2018-02-12 13:45:00    939.439253\n",
       "2018-02-12 14:00:00    925.424407\n",
       "2018-02-12 14:15:00    909.510787\n",
       "2018-02-12 14:30:00    985.482507\n",
       "2018-02-12 14:45:00    951.949161\n",
       "2018-02-12 15:00:00    915.859274\n",
       "2018-02-12 15:15:00    850.006112\n",
       "2018-02-12 15:30:00    888.118175\n",
       "2018-02-12 15:45:00    627.575453\n",
       "2018-02-12 16:00:00    497.340347\n",
       "2018-02-12 16:15:00    765.633910\n",
       "2018-02-12 16:30:00    614.653393\n",
       "2018-02-12 16:45:00    581.310171\n",
       "2018-02-12 17:00:00    505.433205\n",
       "2018-02-12 17:15:00    428.263402\n",
       "2018-02-12 17:30:00    364.447116\n",
       "2018-02-12 17:45:00    315.400849\n",
       "2018-02-12 18:00:00    215.608084\n",
       "2018-02-12 18:15:00     93.472245\n",
       "2018-02-12 18:30:00     57.825716\n",
       "2018-02-12 18:45:00     43.047371\n",
       "2018-01-09 07:00:00     13.243948\n",
       "2018-01-09 07:15:00     10.676448\n",
       "2018-01-09 07:30:00      8.991765\n",
       "2018-01-09 07:45:00      8.413620\n",
       "2018-01-09 08:00:00      9.094334\n",
       "2018-01-09 08:15:00    -27.788658\n",
       "Name: clean, dtype: float64"
      ]
     },
     "execution_count": 121,
     "metadata": {},
     "output_type": "execute_result"
    }
   ],
   "source": [
    "forecasted_final[95:145]"
   ]
  }
 ],
 "metadata": {
  "kernelspec": {
   "display_name": "Python 3",
   "language": "python",
   "name": "python3"
  },
  "language_info": {
   "codemirror_mode": {
    "name": "ipython",
    "version": 3
   },
   "file_extension": ".py",
   "mimetype": "text/x-python",
   "name": "python",
   "nbconvert_exporter": "python",
   "pygments_lexer": "ipython3",
   "version": "3.6.4"
  }
 },
 "nbformat": 4,
 "nbformat_minor": 2
}
